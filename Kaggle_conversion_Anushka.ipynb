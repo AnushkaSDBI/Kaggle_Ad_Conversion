{
  "nbformat": 4,
  "nbformat_minor": 0,
  "metadata": {
    "colab": {
      "name": "Kaggle_conversion.ipynb",
      "provenance": [],
      "collapsed_sections": [
        "c3ApYFkDmJV9",
        "YMcIq-c7Ssps",
        "v6iFKpX5mZlI",
        "4UHjPP_9GRfH",
        "-YLxRwM9GbfO",
        "hIdGc_j1GgHN",
        "pH__Ht6QHdTF",
        "81euCMDnIo5V",
        "1Dp8OVJcXXMp",
        "g7zKrabunJUb",
        "pHkUyfD-xNWi",
        "nSx1kewGYJ1n"
      ]
    },
    "kernelspec": {
      "name": "python3",
      "display_name": "Python 3"
    },
    "language_info": {
      "name": "python"
    },
    "widgets": {
      "application/vnd.jupyter.widget-state+json": {
        "5bef95b372814ff58f3ed5c1db0444c8": {
          "model_module": "@jupyter-widgets/controls",
          "model_name": "HBoxModel",
          "model_module_version": "1.5.0",
          "state": {
            "_view_name": "HBoxView",
            "_dom_classes": [],
            "_model_name": "HBoxModel",
            "_view_module": "@jupyter-widgets/controls",
            "_model_module_version": "1.5.0",
            "_view_count": null,
            "_view_module_version": "1.5.0",
            "box_style": "",
            "layout": "IPY_MODEL_5c07e8c594d84f8d8bf0ea977439c6ee",
            "_model_module": "@jupyter-widgets/controls",
            "children": [
              "IPY_MODEL_557821832d5540a3a40aa851fca5d575",
              "IPY_MODEL_99d4548003f14de59501c788037d9c84",
              "IPY_MODEL_e98b19c5766243a29a4777c1a6141a2f"
            ]
          }
        },
        "5c07e8c594d84f8d8bf0ea977439c6ee": {
          "model_module": "@jupyter-widgets/base",
          "model_name": "LayoutModel",
          "model_module_version": "1.2.0",
          "state": {
            "_view_name": "LayoutView",
            "grid_template_rows": null,
            "right": null,
            "justify_content": null,
            "_view_module": "@jupyter-widgets/base",
            "overflow": null,
            "_model_module_version": "1.2.0",
            "_view_count": null,
            "flex_flow": null,
            "width": null,
            "min_width": null,
            "border": null,
            "align_items": null,
            "bottom": null,
            "_model_module": "@jupyter-widgets/base",
            "top": null,
            "grid_column": null,
            "overflow_y": null,
            "overflow_x": null,
            "grid_auto_flow": null,
            "grid_area": null,
            "grid_template_columns": null,
            "flex": null,
            "_model_name": "LayoutModel",
            "justify_items": null,
            "grid_row": null,
            "max_height": null,
            "align_content": null,
            "visibility": null,
            "align_self": null,
            "height": null,
            "min_height": null,
            "padding": null,
            "grid_auto_rows": null,
            "grid_gap": null,
            "max_width": null,
            "order": null,
            "_view_module_version": "1.2.0",
            "grid_template_areas": null,
            "object_position": null,
            "object_fit": null,
            "grid_auto_columns": null,
            "margin": null,
            "display": null,
            "left": null
          }
        },
        "557821832d5540a3a40aa851fca5d575": {
          "model_module": "@jupyter-widgets/controls",
          "model_name": "HTMLModel",
          "model_module_version": "1.5.0",
          "state": {
            "_view_name": "HTMLView",
            "style": "IPY_MODEL_071a4b7025f04e8c9c7ed57101590ff9",
            "_dom_classes": [],
            "description": "",
            "_model_name": "HTMLModel",
            "placeholder": "​",
            "_view_module": "@jupyter-widgets/controls",
            "_model_module_version": "1.5.0",
            "value": "100%",
            "_view_count": null,
            "_view_module_version": "1.5.0",
            "description_tooltip": null,
            "_model_module": "@jupyter-widgets/controls",
            "layout": "IPY_MODEL_6fe037a37c16471bb4850e656529f66d"
          }
        },
        "99d4548003f14de59501c788037d9c84": {
          "model_module": "@jupyter-widgets/controls",
          "model_name": "FloatProgressModel",
          "model_module_version": "1.5.0",
          "state": {
            "_view_name": "ProgressView",
            "style": "IPY_MODEL_792c4a4775a0454d86918c573bafd402",
            "_dom_classes": [],
            "description": "",
            "_model_name": "FloatProgressModel",
            "bar_style": "success",
            "max": 300,
            "_view_module": "@jupyter-widgets/controls",
            "_model_module_version": "1.5.0",
            "value": 300,
            "_view_count": null,
            "_view_module_version": "1.5.0",
            "orientation": "horizontal",
            "min": 0,
            "description_tooltip": null,
            "_model_module": "@jupyter-widgets/controls",
            "layout": "IPY_MODEL_12a2fb710ebc442abd982f627822a252"
          }
        },
        "e98b19c5766243a29a4777c1a6141a2f": {
          "model_module": "@jupyter-widgets/controls",
          "model_name": "HTMLModel",
          "model_module_version": "1.5.0",
          "state": {
            "_view_name": "HTMLView",
            "style": "IPY_MODEL_9098fc36c716402c99634bd7ea3d9b83",
            "_dom_classes": [],
            "description": "",
            "_model_name": "HTMLModel",
            "placeholder": "​",
            "_view_module": "@jupyter-widgets/controls",
            "_model_module_version": "1.5.0",
            "value": " 300/300 [00:24&lt;00:00, 13.12it/s]",
            "_view_count": null,
            "_view_module_version": "1.5.0",
            "description_tooltip": null,
            "_model_module": "@jupyter-widgets/controls",
            "layout": "IPY_MODEL_2caf95d5a9f84500aa31100010598e92"
          }
        },
        "071a4b7025f04e8c9c7ed57101590ff9": {
          "model_module": "@jupyter-widgets/controls",
          "model_name": "DescriptionStyleModel",
          "model_module_version": "1.5.0",
          "state": {
            "_view_name": "StyleView",
            "_model_name": "DescriptionStyleModel",
            "description_width": "",
            "_view_module": "@jupyter-widgets/base",
            "_model_module_version": "1.5.0",
            "_view_count": null,
            "_view_module_version": "1.2.0",
            "_model_module": "@jupyter-widgets/controls"
          }
        },
        "6fe037a37c16471bb4850e656529f66d": {
          "model_module": "@jupyter-widgets/base",
          "model_name": "LayoutModel",
          "model_module_version": "1.2.0",
          "state": {
            "_view_name": "LayoutView",
            "grid_template_rows": null,
            "right": null,
            "justify_content": null,
            "_view_module": "@jupyter-widgets/base",
            "overflow": null,
            "_model_module_version": "1.2.0",
            "_view_count": null,
            "flex_flow": null,
            "width": null,
            "min_width": null,
            "border": null,
            "align_items": null,
            "bottom": null,
            "_model_module": "@jupyter-widgets/base",
            "top": null,
            "grid_column": null,
            "overflow_y": null,
            "overflow_x": null,
            "grid_auto_flow": null,
            "grid_area": null,
            "grid_template_columns": null,
            "flex": null,
            "_model_name": "LayoutModel",
            "justify_items": null,
            "grid_row": null,
            "max_height": null,
            "align_content": null,
            "visibility": null,
            "align_self": null,
            "height": null,
            "min_height": null,
            "padding": null,
            "grid_auto_rows": null,
            "grid_gap": null,
            "max_width": null,
            "order": null,
            "_view_module_version": "1.2.0",
            "grid_template_areas": null,
            "object_position": null,
            "object_fit": null,
            "grid_auto_columns": null,
            "margin": null,
            "display": null,
            "left": null
          }
        },
        "792c4a4775a0454d86918c573bafd402": {
          "model_module": "@jupyter-widgets/controls",
          "model_name": "ProgressStyleModel",
          "model_module_version": "1.5.0",
          "state": {
            "_view_name": "StyleView",
            "_model_name": "ProgressStyleModel",
            "description_width": "",
            "_view_module": "@jupyter-widgets/base",
            "_model_module_version": "1.5.0",
            "_view_count": null,
            "_view_module_version": "1.2.0",
            "bar_color": null,
            "_model_module": "@jupyter-widgets/controls"
          }
        },
        "12a2fb710ebc442abd982f627822a252": {
          "model_module": "@jupyter-widgets/base",
          "model_name": "LayoutModel",
          "model_module_version": "1.2.0",
          "state": {
            "_view_name": "LayoutView",
            "grid_template_rows": null,
            "right": null,
            "justify_content": null,
            "_view_module": "@jupyter-widgets/base",
            "overflow": null,
            "_model_module_version": "1.2.0",
            "_view_count": null,
            "flex_flow": null,
            "width": null,
            "min_width": null,
            "border": null,
            "align_items": null,
            "bottom": null,
            "_model_module": "@jupyter-widgets/base",
            "top": null,
            "grid_column": null,
            "overflow_y": null,
            "overflow_x": null,
            "grid_auto_flow": null,
            "grid_area": null,
            "grid_template_columns": null,
            "flex": null,
            "_model_name": "LayoutModel",
            "justify_items": null,
            "grid_row": null,
            "max_height": null,
            "align_content": null,
            "visibility": null,
            "align_self": null,
            "height": null,
            "min_height": null,
            "padding": null,
            "grid_auto_rows": null,
            "grid_gap": null,
            "max_width": null,
            "order": null,
            "_view_module_version": "1.2.0",
            "grid_template_areas": null,
            "object_position": null,
            "object_fit": null,
            "grid_auto_columns": null,
            "margin": null,
            "display": null,
            "left": null
          }
        },
        "9098fc36c716402c99634bd7ea3d9b83": {
          "model_module": "@jupyter-widgets/controls",
          "model_name": "DescriptionStyleModel",
          "model_module_version": "1.5.0",
          "state": {
            "_view_name": "StyleView",
            "_model_name": "DescriptionStyleModel",
            "description_width": "",
            "_view_module": "@jupyter-widgets/base",
            "_model_module_version": "1.5.0",
            "_view_count": null,
            "_view_module_version": "1.2.0",
            "_model_module": "@jupyter-widgets/controls"
          }
        },
        "2caf95d5a9f84500aa31100010598e92": {
          "model_module": "@jupyter-widgets/base",
          "model_name": "LayoutModel",
          "model_module_version": "1.2.0",
          "state": {
            "_view_name": "LayoutView",
            "grid_template_rows": null,
            "right": null,
            "justify_content": null,
            "_view_module": "@jupyter-widgets/base",
            "overflow": null,
            "_model_module_version": "1.2.0",
            "_view_count": null,
            "flex_flow": null,
            "width": null,
            "min_width": null,
            "border": null,
            "align_items": null,
            "bottom": null,
            "_model_module": "@jupyter-widgets/base",
            "top": null,
            "grid_column": null,
            "overflow_y": null,
            "overflow_x": null,
            "grid_auto_flow": null,
            "grid_area": null,
            "grid_template_columns": null,
            "flex": null,
            "_model_name": "LayoutModel",
            "justify_items": null,
            "grid_row": null,
            "max_height": null,
            "align_content": null,
            "visibility": null,
            "align_self": null,
            "height": null,
            "min_height": null,
            "padding": null,
            "grid_auto_rows": null,
            "grid_gap": null,
            "max_width": null,
            "order": null,
            "_view_module_version": "1.2.0",
            "grid_template_areas": null,
            "object_position": null,
            "object_fit": null,
            "grid_auto_columns": null,
            "margin": null,
            "display": null,
            "left": null
          }
        }
      }
    }
  },
  "cells": [
    {
      "cell_type": "markdown",
      "source": [
        "# **Facebook Ad Campaign Analysis and Prediction**\n",
        " - Anushka Sawant  \n"
      ],
      "metadata": {
        "id": "5rY24AAkpKfP"
      }
    },
    {
      "cell_type": "code",
      "execution_count": null,
      "metadata": {
        "id": "hTfMNsGNaSgZ"
      },
      "outputs": [],
      "source": [
        "import numpy as np \n",
        "import pandas as pd\n",
        "#Visualization\n",
        "import plotly.express as px\n",
        "import seaborn as sns\n",
        "import matplotlib.pyplot as plt\n",
        "import plotly.graph_objects as go\n",
        "from plotly.subplots import make_subplots\n",
        "import plotly.express as px\n",
        "from plotly.offline import init_notebook_mode\n",
        "#Optimization model\n",
        "import optuna\n",
        "import xgboost as xgb\n",
        "from optuna.samplers import TPESampler\n",
        "from sklearn.preprocessing import RobustScaler, QuantileTransformer, StandardScaler,MinMaxScaler\n",
        "from sklearn.model_selection import train_test_split, cross_val_score, StratifiedKFold, KFold\n",
        "from sklearn.metrics import mean_squared_error\n",
        "# Prediction model\n",
        "from sklearn.preprocessing import StandardScaler\n",
        "from sklearn.model_selection import train_test_split\n",
        "from sklearn.linear_model import LinearRegression\n",
        "from sklearn.metrics import r2_score\n",
        "from sklearn.metrics import mean_absolute_error\n",
        "from sklearn.metrics import mean_squared_error\n",
        "from sklearn.ensemble import RandomForestRegressor"
      ]
    },
    {
      "cell_type": "code",
      "source": [
        "dataset = pd.read_csv('KAG_conversion_data.csv')\n",
        "dataset.head()"
      ],
      "metadata": {
        "colab": {
          "base_uri": "https://localhost:8080/",
          "height": 206
        },
        "id": "JePiVcymbj_P",
        "outputId": "678d7aa5-f62c-4742-c410-1f0da497dab0"
      },
      "execution_count": null,
      "outputs": [
        {
          "output_type": "execute_result",
          "data": {
            "text/html": [
              "\n",
              "  <div id=\"df-33979f9c-36ff-4e33-8978-c8c679fbd250\">\n",
              "    <div class=\"colab-df-container\">\n",
              "      <div>\n",
              "<style scoped>\n",
              "    .dataframe tbody tr th:only-of-type {\n",
              "        vertical-align: middle;\n",
              "    }\n",
              "\n",
              "    .dataframe tbody tr th {\n",
              "        vertical-align: top;\n",
              "    }\n",
              "\n",
              "    .dataframe thead th {\n",
              "        text-align: right;\n",
              "    }\n",
              "</style>\n",
              "<table border=\"1\" class=\"dataframe\">\n",
              "  <thead>\n",
              "    <tr style=\"text-align: right;\">\n",
              "      <th></th>\n",
              "      <th>ad_id</th>\n",
              "      <th>xyz_campaign_id</th>\n",
              "      <th>fb_campaign_id</th>\n",
              "      <th>age</th>\n",
              "      <th>gender</th>\n",
              "      <th>interest</th>\n",
              "      <th>Impressions</th>\n",
              "      <th>Clicks</th>\n",
              "      <th>Spent</th>\n",
              "      <th>Total_Conversion</th>\n",
              "      <th>Approved_Conversion</th>\n",
              "    </tr>\n",
              "  </thead>\n",
              "  <tbody>\n",
              "    <tr>\n",
              "      <th>0</th>\n",
              "      <td>708746</td>\n",
              "      <td>916</td>\n",
              "      <td>103916</td>\n",
              "      <td>30-34</td>\n",
              "      <td>M</td>\n",
              "      <td>15</td>\n",
              "      <td>7350</td>\n",
              "      <td>1</td>\n",
              "      <td>1.43</td>\n",
              "      <td>2</td>\n",
              "      <td>1</td>\n",
              "    </tr>\n",
              "    <tr>\n",
              "      <th>1</th>\n",
              "      <td>708749</td>\n",
              "      <td>916</td>\n",
              "      <td>103917</td>\n",
              "      <td>30-34</td>\n",
              "      <td>M</td>\n",
              "      <td>16</td>\n",
              "      <td>17861</td>\n",
              "      <td>2</td>\n",
              "      <td>1.82</td>\n",
              "      <td>2</td>\n",
              "      <td>0</td>\n",
              "    </tr>\n",
              "    <tr>\n",
              "      <th>2</th>\n",
              "      <td>708771</td>\n",
              "      <td>916</td>\n",
              "      <td>103920</td>\n",
              "      <td>30-34</td>\n",
              "      <td>M</td>\n",
              "      <td>20</td>\n",
              "      <td>693</td>\n",
              "      <td>0</td>\n",
              "      <td>0.00</td>\n",
              "      <td>1</td>\n",
              "      <td>0</td>\n",
              "    </tr>\n",
              "    <tr>\n",
              "      <th>3</th>\n",
              "      <td>708815</td>\n",
              "      <td>916</td>\n",
              "      <td>103928</td>\n",
              "      <td>30-34</td>\n",
              "      <td>M</td>\n",
              "      <td>28</td>\n",
              "      <td>4259</td>\n",
              "      <td>1</td>\n",
              "      <td>1.25</td>\n",
              "      <td>1</td>\n",
              "      <td>0</td>\n",
              "    </tr>\n",
              "    <tr>\n",
              "      <th>4</th>\n",
              "      <td>708818</td>\n",
              "      <td>916</td>\n",
              "      <td>103928</td>\n",
              "      <td>30-34</td>\n",
              "      <td>M</td>\n",
              "      <td>28</td>\n",
              "      <td>4133</td>\n",
              "      <td>1</td>\n",
              "      <td>1.29</td>\n",
              "      <td>1</td>\n",
              "      <td>1</td>\n",
              "    </tr>\n",
              "  </tbody>\n",
              "</table>\n",
              "</div>\n",
              "      <button class=\"colab-df-convert\" onclick=\"convertToInteractive('df-33979f9c-36ff-4e33-8978-c8c679fbd250')\"\n",
              "              title=\"Convert this dataframe to an interactive table.\"\n",
              "              style=\"display:none;\">\n",
              "        \n",
              "  <svg xmlns=\"http://www.w3.org/2000/svg\" height=\"24px\"viewBox=\"0 0 24 24\"\n",
              "       width=\"24px\">\n",
              "    <path d=\"M0 0h24v24H0V0z\" fill=\"none\"/>\n",
              "    <path d=\"M18.56 5.44l.94 2.06.94-2.06 2.06-.94-2.06-.94-.94-2.06-.94 2.06-2.06.94zm-11 1L8.5 8.5l.94-2.06 2.06-.94-2.06-.94L8.5 2.5l-.94 2.06-2.06.94zm10 10l.94 2.06.94-2.06 2.06-.94-2.06-.94-.94-2.06-.94 2.06-2.06.94z\"/><path d=\"M17.41 7.96l-1.37-1.37c-.4-.4-.92-.59-1.43-.59-.52 0-1.04.2-1.43.59L10.3 9.45l-7.72 7.72c-.78.78-.78 2.05 0 2.83L4 21.41c.39.39.9.59 1.41.59.51 0 1.02-.2 1.41-.59l7.78-7.78 2.81-2.81c.8-.78.8-2.07 0-2.86zM5.41 20L4 18.59l7.72-7.72 1.47 1.35L5.41 20z\"/>\n",
              "  </svg>\n",
              "      </button>\n",
              "      \n",
              "  <style>\n",
              "    .colab-df-container {\n",
              "      display:flex;\n",
              "      flex-wrap:wrap;\n",
              "      gap: 12px;\n",
              "    }\n",
              "\n",
              "    .colab-df-convert {\n",
              "      background-color: #E8F0FE;\n",
              "      border: none;\n",
              "      border-radius: 50%;\n",
              "      cursor: pointer;\n",
              "      display: none;\n",
              "      fill: #1967D2;\n",
              "      height: 32px;\n",
              "      padding: 0 0 0 0;\n",
              "      width: 32px;\n",
              "    }\n",
              "\n",
              "    .colab-df-convert:hover {\n",
              "      background-color: #E2EBFA;\n",
              "      box-shadow: 0px 1px 2px rgba(60, 64, 67, 0.3), 0px 1px 3px 1px rgba(60, 64, 67, 0.15);\n",
              "      fill: #174EA6;\n",
              "    }\n",
              "\n",
              "    [theme=dark] .colab-df-convert {\n",
              "      background-color: #3B4455;\n",
              "      fill: #D2E3FC;\n",
              "    }\n",
              "\n",
              "    [theme=dark] .colab-df-convert:hover {\n",
              "      background-color: #434B5C;\n",
              "      box-shadow: 0px 1px 3px 1px rgba(0, 0, 0, 0.15);\n",
              "      filter: drop-shadow(0px 1px 2px rgba(0, 0, 0, 0.3));\n",
              "      fill: #FFFFFF;\n",
              "    }\n",
              "  </style>\n",
              "\n",
              "      <script>\n",
              "        const buttonEl =\n",
              "          document.querySelector('#df-33979f9c-36ff-4e33-8978-c8c679fbd250 button.colab-df-convert');\n",
              "        buttonEl.style.display =\n",
              "          google.colab.kernel.accessAllowed ? 'block' : 'none';\n",
              "\n",
              "        async function convertToInteractive(key) {\n",
              "          const element = document.querySelector('#df-33979f9c-36ff-4e33-8978-c8c679fbd250');\n",
              "          const dataTable =\n",
              "            await google.colab.kernel.invokeFunction('convertToInteractive',\n",
              "                                                     [key], {});\n",
              "          if (!dataTable) return;\n",
              "\n",
              "          const docLinkHtml = 'Like what you see? Visit the ' +\n",
              "            '<a target=\"_blank\" href=https://colab.research.google.com/notebooks/data_table.ipynb>data table notebook</a>'\n",
              "            + ' to learn more about interactive tables.';\n",
              "          element.innerHTML = '';\n",
              "          dataTable['output_type'] = 'display_data';\n",
              "          await google.colab.output.renderOutput(dataTable, element);\n",
              "          const docLink = document.createElement('div');\n",
              "          docLink.innerHTML = docLinkHtml;\n",
              "          element.appendChild(docLink);\n",
              "        }\n",
              "      </script>\n",
              "    </div>\n",
              "  </div>\n",
              "  "
            ],
            "text/plain": [
              "    ad_id  xyz_campaign_id  ...  Total_Conversion Approved_Conversion\n",
              "0  708746              916  ...                 2                   1\n",
              "1  708749              916  ...                 2                   0\n",
              "2  708771              916  ...                 1                   0\n",
              "3  708815              916  ...                 1                   0\n",
              "4  708818              916  ...                 1                   1\n",
              "\n",
              "[5 rows x 11 columns]"
            ]
          },
          "metadata": {},
          "execution_count": 5
        }
      ]
    },
    {
      "cell_type": "markdown",
      "source": [
        "# **Data Cleaning**"
      ],
      "metadata": {
        "id": "c3ApYFkDmJV9"
      }
    },
    {
      "cell_type": "code",
      "source": [
        "print(\"Shape of the dataset before cleaning:\\n\", dataset.shape)"
      ],
      "metadata": {
        "colab": {
          "base_uri": "https://localhost:8080/"
        },
        "id": "d0_k1k6_ZN4o",
        "outputId": "db01b9b2-9b8f-4aa6-90ef-b531e547731c"
      },
      "execution_count": null,
      "outputs": [
        {
          "output_type": "stream",
          "name": "stdout",
          "text": [
            "Shape of the dataset before cleaning:\n",
            " (1143, 11)\n"
          ]
        }
      ]
    },
    {
      "cell_type": "code",
      "source": [
        " # Removing Irrelevent Values and columns\n",
        "dataset.dropna(inplace=True)\n",
        "dataset.head(10)"
      ],
      "metadata": {
        "colab": {
          "base_uri": "https://localhost:8080/",
          "height": 363
        },
        "id": "JmlpVRmAbqu6",
        "outputId": "8fd9f18f-f2a7-45f0-f6d1-de0911e1e3f7"
      },
      "execution_count": null,
      "outputs": [
        {
          "output_type": "execute_result",
          "data": {
            "text/html": [
              "\n",
              "  <div id=\"df-f5408bd2-2e27-4194-9c79-e1e1d9c5169a\">\n",
              "    <div class=\"colab-df-container\">\n",
              "      <div>\n",
              "<style scoped>\n",
              "    .dataframe tbody tr th:only-of-type {\n",
              "        vertical-align: middle;\n",
              "    }\n",
              "\n",
              "    .dataframe tbody tr th {\n",
              "        vertical-align: top;\n",
              "    }\n",
              "\n",
              "    .dataframe thead th {\n",
              "        text-align: right;\n",
              "    }\n",
              "</style>\n",
              "<table border=\"1\" class=\"dataframe\">\n",
              "  <thead>\n",
              "    <tr style=\"text-align: right;\">\n",
              "      <th></th>\n",
              "      <th>ad_id</th>\n",
              "      <th>xyz_campaign_id</th>\n",
              "      <th>fb_campaign_id</th>\n",
              "      <th>age</th>\n",
              "      <th>gender</th>\n",
              "      <th>interest</th>\n",
              "      <th>Impressions</th>\n",
              "      <th>Clicks</th>\n",
              "      <th>Spent</th>\n",
              "      <th>Total_Conversion</th>\n",
              "      <th>Approved_Conversion</th>\n",
              "    </tr>\n",
              "  </thead>\n",
              "  <tbody>\n",
              "    <tr>\n",
              "      <th>0</th>\n",
              "      <td>708746</td>\n",
              "      <td>916</td>\n",
              "      <td>103916</td>\n",
              "      <td>30-34</td>\n",
              "      <td>M</td>\n",
              "      <td>15</td>\n",
              "      <td>7350</td>\n",
              "      <td>1</td>\n",
              "      <td>1.43</td>\n",
              "      <td>2</td>\n",
              "      <td>1</td>\n",
              "    </tr>\n",
              "    <tr>\n",
              "      <th>1</th>\n",
              "      <td>708749</td>\n",
              "      <td>916</td>\n",
              "      <td>103917</td>\n",
              "      <td>30-34</td>\n",
              "      <td>M</td>\n",
              "      <td>16</td>\n",
              "      <td>17861</td>\n",
              "      <td>2</td>\n",
              "      <td>1.82</td>\n",
              "      <td>2</td>\n",
              "      <td>0</td>\n",
              "    </tr>\n",
              "    <tr>\n",
              "      <th>2</th>\n",
              "      <td>708771</td>\n",
              "      <td>916</td>\n",
              "      <td>103920</td>\n",
              "      <td>30-34</td>\n",
              "      <td>M</td>\n",
              "      <td>20</td>\n",
              "      <td>693</td>\n",
              "      <td>0</td>\n",
              "      <td>0.00</td>\n",
              "      <td>1</td>\n",
              "      <td>0</td>\n",
              "    </tr>\n",
              "    <tr>\n",
              "      <th>3</th>\n",
              "      <td>708815</td>\n",
              "      <td>916</td>\n",
              "      <td>103928</td>\n",
              "      <td>30-34</td>\n",
              "      <td>M</td>\n",
              "      <td>28</td>\n",
              "      <td>4259</td>\n",
              "      <td>1</td>\n",
              "      <td>1.25</td>\n",
              "      <td>1</td>\n",
              "      <td>0</td>\n",
              "    </tr>\n",
              "    <tr>\n",
              "      <th>4</th>\n",
              "      <td>708818</td>\n",
              "      <td>916</td>\n",
              "      <td>103928</td>\n",
              "      <td>30-34</td>\n",
              "      <td>M</td>\n",
              "      <td>28</td>\n",
              "      <td>4133</td>\n",
              "      <td>1</td>\n",
              "      <td>1.29</td>\n",
              "      <td>1</td>\n",
              "      <td>1</td>\n",
              "    </tr>\n",
              "    <tr>\n",
              "      <th>5</th>\n",
              "      <td>708820</td>\n",
              "      <td>916</td>\n",
              "      <td>103929</td>\n",
              "      <td>30-34</td>\n",
              "      <td>M</td>\n",
              "      <td>29</td>\n",
              "      <td>1915</td>\n",
              "      <td>0</td>\n",
              "      <td>0.00</td>\n",
              "      <td>1</td>\n",
              "      <td>1</td>\n",
              "    </tr>\n",
              "    <tr>\n",
              "      <th>6</th>\n",
              "      <td>708889</td>\n",
              "      <td>916</td>\n",
              "      <td>103940</td>\n",
              "      <td>30-34</td>\n",
              "      <td>M</td>\n",
              "      <td>15</td>\n",
              "      <td>15615</td>\n",
              "      <td>3</td>\n",
              "      <td>4.77</td>\n",
              "      <td>1</td>\n",
              "      <td>0</td>\n",
              "    </tr>\n",
              "    <tr>\n",
              "      <th>7</th>\n",
              "      <td>708895</td>\n",
              "      <td>916</td>\n",
              "      <td>103941</td>\n",
              "      <td>30-34</td>\n",
              "      <td>M</td>\n",
              "      <td>16</td>\n",
              "      <td>10951</td>\n",
              "      <td>1</td>\n",
              "      <td>1.27</td>\n",
              "      <td>1</td>\n",
              "      <td>1</td>\n",
              "    </tr>\n",
              "    <tr>\n",
              "      <th>8</th>\n",
              "      <td>708953</td>\n",
              "      <td>916</td>\n",
              "      <td>103951</td>\n",
              "      <td>30-34</td>\n",
              "      <td>M</td>\n",
              "      <td>27</td>\n",
              "      <td>2355</td>\n",
              "      <td>1</td>\n",
              "      <td>1.50</td>\n",
              "      <td>1</td>\n",
              "      <td>0</td>\n",
              "    </tr>\n",
              "    <tr>\n",
              "      <th>9</th>\n",
              "      <td>708958</td>\n",
              "      <td>916</td>\n",
              "      <td>103952</td>\n",
              "      <td>30-34</td>\n",
              "      <td>M</td>\n",
              "      <td>28</td>\n",
              "      <td>9502</td>\n",
              "      <td>3</td>\n",
              "      <td>3.16</td>\n",
              "      <td>1</td>\n",
              "      <td>0</td>\n",
              "    </tr>\n",
              "  </tbody>\n",
              "</table>\n",
              "</div>\n",
              "      <button class=\"colab-df-convert\" onclick=\"convertToInteractive('df-f5408bd2-2e27-4194-9c79-e1e1d9c5169a')\"\n",
              "              title=\"Convert this dataframe to an interactive table.\"\n",
              "              style=\"display:none;\">\n",
              "        \n",
              "  <svg xmlns=\"http://www.w3.org/2000/svg\" height=\"24px\"viewBox=\"0 0 24 24\"\n",
              "       width=\"24px\">\n",
              "    <path d=\"M0 0h24v24H0V0z\" fill=\"none\"/>\n",
              "    <path d=\"M18.56 5.44l.94 2.06.94-2.06 2.06-.94-2.06-.94-.94-2.06-.94 2.06-2.06.94zm-11 1L8.5 8.5l.94-2.06 2.06-.94-2.06-.94L8.5 2.5l-.94 2.06-2.06.94zm10 10l.94 2.06.94-2.06 2.06-.94-2.06-.94-.94-2.06-.94 2.06-2.06.94z\"/><path d=\"M17.41 7.96l-1.37-1.37c-.4-.4-.92-.59-1.43-.59-.52 0-1.04.2-1.43.59L10.3 9.45l-7.72 7.72c-.78.78-.78 2.05 0 2.83L4 21.41c.39.39.9.59 1.41.59.51 0 1.02-.2 1.41-.59l7.78-7.78 2.81-2.81c.8-.78.8-2.07 0-2.86zM5.41 20L4 18.59l7.72-7.72 1.47 1.35L5.41 20z\"/>\n",
              "  </svg>\n",
              "      </button>\n",
              "      \n",
              "  <style>\n",
              "    .colab-df-container {\n",
              "      display:flex;\n",
              "      flex-wrap:wrap;\n",
              "      gap: 12px;\n",
              "    }\n",
              "\n",
              "    .colab-df-convert {\n",
              "      background-color: #E8F0FE;\n",
              "      border: none;\n",
              "      border-radius: 50%;\n",
              "      cursor: pointer;\n",
              "      display: none;\n",
              "      fill: #1967D2;\n",
              "      height: 32px;\n",
              "      padding: 0 0 0 0;\n",
              "      width: 32px;\n",
              "    }\n",
              "\n",
              "    .colab-df-convert:hover {\n",
              "      background-color: #E2EBFA;\n",
              "      box-shadow: 0px 1px 2px rgba(60, 64, 67, 0.3), 0px 1px 3px 1px rgba(60, 64, 67, 0.15);\n",
              "      fill: #174EA6;\n",
              "    }\n",
              "\n",
              "    [theme=dark] .colab-df-convert {\n",
              "      background-color: #3B4455;\n",
              "      fill: #D2E3FC;\n",
              "    }\n",
              "\n",
              "    [theme=dark] .colab-df-convert:hover {\n",
              "      background-color: #434B5C;\n",
              "      box-shadow: 0px 1px 3px 1px rgba(0, 0, 0, 0.15);\n",
              "      filter: drop-shadow(0px 1px 2px rgba(0, 0, 0, 0.3));\n",
              "      fill: #FFFFFF;\n",
              "    }\n",
              "  </style>\n",
              "\n",
              "      <script>\n",
              "        const buttonEl =\n",
              "          document.querySelector('#df-f5408bd2-2e27-4194-9c79-e1e1d9c5169a button.colab-df-convert');\n",
              "        buttonEl.style.display =\n",
              "          google.colab.kernel.accessAllowed ? 'block' : 'none';\n",
              "\n",
              "        async function convertToInteractive(key) {\n",
              "          const element = document.querySelector('#df-f5408bd2-2e27-4194-9c79-e1e1d9c5169a');\n",
              "          const dataTable =\n",
              "            await google.colab.kernel.invokeFunction('convertToInteractive',\n",
              "                                                     [key], {});\n",
              "          if (!dataTable) return;\n",
              "\n",
              "          const docLinkHtml = 'Like what you see? Visit the ' +\n",
              "            '<a target=\"_blank\" href=https://colab.research.google.com/notebooks/data_table.ipynb>data table notebook</a>'\n",
              "            + ' to learn more about interactive tables.';\n",
              "          element.innerHTML = '';\n",
              "          dataTable['output_type'] = 'display_data';\n",
              "          await google.colab.output.renderOutput(dataTable, element);\n",
              "          const docLink = document.createElement('div');\n",
              "          docLink.innerHTML = docLinkHtml;\n",
              "          element.appendChild(docLink);\n",
              "        }\n",
              "      </script>\n",
              "    </div>\n",
              "  </div>\n",
              "  "
            ],
            "text/plain": [
              "    ad_id  xyz_campaign_id  ...  Total_Conversion Approved_Conversion\n",
              "0  708746              916  ...                 2                   1\n",
              "1  708749              916  ...                 2                   0\n",
              "2  708771              916  ...                 1                   0\n",
              "3  708815              916  ...                 1                   0\n",
              "4  708818              916  ...                 1                   1\n",
              "5  708820              916  ...                 1                   1\n",
              "6  708889              916  ...                 1                   0\n",
              "7  708895              916  ...                 1                   1\n",
              "8  708953              916  ...                 1                   0\n",
              "9  708958              916  ...                 1                   0\n",
              "\n",
              "[10 rows x 11 columns]"
            ]
          },
          "metadata": {},
          "execution_count": 95
        }
      ]
    },
    {
      "cell_type": "code",
      "source": [
        "print(\"Shape of dataset after cleaning: \\n\", dataset.shape)\n",
        "print(\"Information of dataset\\n\",dataset.info)"
      ],
      "metadata": {
        "colab": {
          "base_uri": "https://localhost:8080/"
        },
        "id": "IesUqIKPbxk1",
        "outputId": "88729c85-76f0-4bc5-c3fb-b1c754a2c42c"
      },
      "execution_count": null,
      "outputs": [
        {
          "output_type": "stream",
          "name": "stdout",
          "text": [
            "Shape of dataset after cleaning: \n",
            " (1143, 11)\n",
            "Information of dataset\n",
            " <bound method DataFrame.info of         ad_id  xyz_campaign_id  ...  Total_Conversion Approved_Conversion\n",
            "0      708746              916  ...                 2                   1\n",
            "1      708749              916  ...                 2                   0\n",
            "2      708771              916  ...                 1                   0\n",
            "3      708815              916  ...                 1                   0\n",
            "4      708818              916  ...                 1                   1\n",
            "...       ...              ...  ...               ...                 ...\n",
            "1138  1314410             1178  ...                13                   2\n",
            "1139  1314411             1178  ...                 3                   0\n",
            "1140  1314412             1178  ...                 2                   0\n",
            "1141  1314414             1178  ...                 8                   2\n",
            "1142  1314415             1178  ...                 5                   2\n",
            "\n",
            "[1143 rows x 11 columns]>\n"
          ]
        }
      ]
    },
    {
      "cell_type": "code",
      "source": [
        "dataset[\"xyz_campaign_id\"].replace({916:\"Campaign_916\",936:\"Campaign_936\",1178:\"Campaign_1178\"}, inplace=True)\n",
        "dataset.head()"
      ],
      "metadata": {
        "colab": {
          "base_uri": "https://localhost:8080/",
          "height": 206
        },
        "id": "BJr1Ya2zzrPQ",
        "outputId": "0e671763-b312-4117-c0f4-8a3415cbda3a"
      },
      "execution_count": null,
      "outputs": [
        {
          "output_type": "execute_result",
          "data": {
            "text/html": [
              "\n",
              "  <div id=\"df-72cc8054-aea0-4eb4-a21e-d6d7e3561bf1\">\n",
              "    <div class=\"colab-df-container\">\n",
              "      <div>\n",
              "<style scoped>\n",
              "    .dataframe tbody tr th:only-of-type {\n",
              "        vertical-align: middle;\n",
              "    }\n",
              "\n",
              "    .dataframe tbody tr th {\n",
              "        vertical-align: top;\n",
              "    }\n",
              "\n",
              "    .dataframe thead th {\n",
              "        text-align: right;\n",
              "    }\n",
              "</style>\n",
              "<table border=\"1\" class=\"dataframe\">\n",
              "  <thead>\n",
              "    <tr style=\"text-align: right;\">\n",
              "      <th></th>\n",
              "      <th>ad_id</th>\n",
              "      <th>xyz_campaign_id</th>\n",
              "      <th>fb_campaign_id</th>\n",
              "      <th>age</th>\n",
              "      <th>gender</th>\n",
              "      <th>interest</th>\n",
              "      <th>Impressions</th>\n",
              "      <th>Clicks</th>\n",
              "      <th>Spent</th>\n",
              "      <th>Total_Conversion</th>\n",
              "      <th>Approved_Conversion</th>\n",
              "    </tr>\n",
              "  </thead>\n",
              "  <tbody>\n",
              "    <tr>\n",
              "      <th>0</th>\n",
              "      <td>708746</td>\n",
              "      <td>Campaign_916</td>\n",
              "      <td>103916</td>\n",
              "      <td>30-34</td>\n",
              "      <td>M</td>\n",
              "      <td>15</td>\n",
              "      <td>7350</td>\n",
              "      <td>1</td>\n",
              "      <td>1.43</td>\n",
              "      <td>2</td>\n",
              "      <td>1</td>\n",
              "    </tr>\n",
              "    <tr>\n",
              "      <th>1</th>\n",
              "      <td>708749</td>\n",
              "      <td>Campaign_916</td>\n",
              "      <td>103917</td>\n",
              "      <td>30-34</td>\n",
              "      <td>M</td>\n",
              "      <td>16</td>\n",
              "      <td>17861</td>\n",
              "      <td>2</td>\n",
              "      <td>1.82</td>\n",
              "      <td>2</td>\n",
              "      <td>0</td>\n",
              "    </tr>\n",
              "    <tr>\n",
              "      <th>2</th>\n",
              "      <td>708771</td>\n",
              "      <td>Campaign_916</td>\n",
              "      <td>103920</td>\n",
              "      <td>30-34</td>\n",
              "      <td>M</td>\n",
              "      <td>20</td>\n",
              "      <td>693</td>\n",
              "      <td>0</td>\n",
              "      <td>0.00</td>\n",
              "      <td>1</td>\n",
              "      <td>0</td>\n",
              "    </tr>\n",
              "    <tr>\n",
              "      <th>3</th>\n",
              "      <td>708815</td>\n",
              "      <td>Campaign_916</td>\n",
              "      <td>103928</td>\n",
              "      <td>30-34</td>\n",
              "      <td>M</td>\n",
              "      <td>28</td>\n",
              "      <td>4259</td>\n",
              "      <td>1</td>\n",
              "      <td>1.25</td>\n",
              "      <td>1</td>\n",
              "      <td>0</td>\n",
              "    </tr>\n",
              "    <tr>\n",
              "      <th>4</th>\n",
              "      <td>708818</td>\n",
              "      <td>Campaign_916</td>\n",
              "      <td>103928</td>\n",
              "      <td>30-34</td>\n",
              "      <td>M</td>\n",
              "      <td>28</td>\n",
              "      <td>4133</td>\n",
              "      <td>1</td>\n",
              "      <td>1.29</td>\n",
              "      <td>1</td>\n",
              "      <td>1</td>\n",
              "    </tr>\n",
              "  </tbody>\n",
              "</table>\n",
              "</div>\n",
              "      <button class=\"colab-df-convert\" onclick=\"convertToInteractive('df-72cc8054-aea0-4eb4-a21e-d6d7e3561bf1')\"\n",
              "              title=\"Convert this dataframe to an interactive table.\"\n",
              "              style=\"display:none;\">\n",
              "        \n",
              "  <svg xmlns=\"http://www.w3.org/2000/svg\" height=\"24px\"viewBox=\"0 0 24 24\"\n",
              "       width=\"24px\">\n",
              "    <path d=\"M0 0h24v24H0V0z\" fill=\"none\"/>\n",
              "    <path d=\"M18.56 5.44l.94 2.06.94-2.06 2.06-.94-2.06-.94-.94-2.06-.94 2.06-2.06.94zm-11 1L8.5 8.5l.94-2.06 2.06-.94-2.06-.94L8.5 2.5l-.94 2.06-2.06.94zm10 10l.94 2.06.94-2.06 2.06-.94-2.06-.94-.94-2.06-.94 2.06-2.06.94z\"/><path d=\"M17.41 7.96l-1.37-1.37c-.4-.4-.92-.59-1.43-.59-.52 0-1.04.2-1.43.59L10.3 9.45l-7.72 7.72c-.78.78-.78 2.05 0 2.83L4 21.41c.39.39.9.59 1.41.59.51 0 1.02-.2 1.41-.59l7.78-7.78 2.81-2.81c.8-.78.8-2.07 0-2.86zM5.41 20L4 18.59l7.72-7.72 1.47 1.35L5.41 20z\"/>\n",
              "  </svg>\n",
              "      </button>\n",
              "      \n",
              "  <style>\n",
              "    .colab-df-container {\n",
              "      display:flex;\n",
              "      flex-wrap:wrap;\n",
              "      gap: 12px;\n",
              "    }\n",
              "\n",
              "    .colab-df-convert {\n",
              "      background-color: #E8F0FE;\n",
              "      border: none;\n",
              "      border-radius: 50%;\n",
              "      cursor: pointer;\n",
              "      display: none;\n",
              "      fill: #1967D2;\n",
              "      height: 32px;\n",
              "      padding: 0 0 0 0;\n",
              "      width: 32px;\n",
              "    }\n",
              "\n",
              "    .colab-df-convert:hover {\n",
              "      background-color: #E2EBFA;\n",
              "      box-shadow: 0px 1px 2px rgba(60, 64, 67, 0.3), 0px 1px 3px 1px rgba(60, 64, 67, 0.15);\n",
              "      fill: #174EA6;\n",
              "    }\n",
              "\n",
              "    [theme=dark] .colab-df-convert {\n",
              "      background-color: #3B4455;\n",
              "      fill: #D2E3FC;\n",
              "    }\n",
              "\n",
              "    [theme=dark] .colab-df-convert:hover {\n",
              "      background-color: #434B5C;\n",
              "      box-shadow: 0px 1px 3px 1px rgba(0, 0, 0, 0.15);\n",
              "      filter: drop-shadow(0px 1px 2px rgba(0, 0, 0, 0.3));\n",
              "      fill: #FFFFFF;\n",
              "    }\n",
              "  </style>\n",
              "\n",
              "      <script>\n",
              "        const buttonEl =\n",
              "          document.querySelector('#df-72cc8054-aea0-4eb4-a21e-d6d7e3561bf1 button.colab-df-convert');\n",
              "        buttonEl.style.display =\n",
              "          google.colab.kernel.accessAllowed ? 'block' : 'none';\n",
              "\n",
              "        async function convertToInteractive(key) {\n",
              "          const element = document.querySelector('#df-72cc8054-aea0-4eb4-a21e-d6d7e3561bf1');\n",
              "          const dataTable =\n",
              "            await google.colab.kernel.invokeFunction('convertToInteractive',\n",
              "                                                     [key], {});\n",
              "          if (!dataTable) return;\n",
              "\n",
              "          const docLinkHtml = 'Like what you see? Visit the ' +\n",
              "            '<a target=\"_blank\" href=https://colab.research.google.com/notebooks/data_table.ipynb>data table notebook</a>'\n",
              "            + ' to learn more about interactive tables.';\n",
              "          element.innerHTML = '';\n",
              "          dataTable['output_type'] = 'display_data';\n",
              "          await google.colab.output.renderOutput(dataTable, element);\n",
              "          const docLink = document.createElement('div');\n",
              "          docLink.innerHTML = docLinkHtml;\n",
              "          element.appendChild(docLink);\n",
              "        }\n",
              "      </script>\n",
              "    </div>\n",
              "  </div>\n",
              "  "
            ],
            "text/plain": [
              "    ad_id xyz_campaign_id  ...  Total_Conversion Approved_Conversion\n",
              "0  708746    Campaign_916  ...                 2                   1\n",
              "1  708749    Campaign_916  ...                 2                   0\n",
              "2  708771    Campaign_916  ...                 1                   0\n",
              "3  708815    Campaign_916  ...                 1                   0\n",
              "4  708818    Campaign_916  ...                 1                   1\n",
              "\n",
              "[5 rows x 11 columns]"
            ]
          },
          "metadata": {},
          "execution_count": 25
        }
      ]
    },
    {
      "cell_type": "markdown",
      "source": [
        "##**FEATURE DESCRIPTION :**\n",
        "\n",
        "\n",
        "*   This dataset contains 1143 rows of data with 11 attributes.\n",
        "*   Ad_id is the id of specific ad set. It is an numerical feature.\n",
        "*   Xyz_campaign_id: an ID associated with each ad campaign of XYZ company. There are 3 prime campaigns, namely 916,936 and 1178.\n",
        "*   Campaign_id is the id assigned by the ad running company.\n",
        "*   Fb_campaign_id is the id assigned by facebook for every ad set. There are 1143 FB Campaigns.\n",
        "*   Age and gender talk about the demographics. Both are categorical features.\n",
        "*   Interest is the user interests and likes of facebook users who were taregted for the ad.\n",
        "*   Impressiosn are the number of times the ad was shown to the users.\n",
        "*   Clicks is the number of time users clicked on the ad spent is the amount of money spent on each campaign.\n",
        "*   Total_Conversions is the number of users who have clicked the ad and have made a purchase or installed an app.\n",
        "*   Approved_Conversions tells how many became actual active users."
      ],
      "metadata": {
        "id": "YMcIq-c7Ssps"
      }
    },
    {
      "cell_type": "code",
      "source": [
        "dataset.describe()"
      ],
      "metadata": {
        "colab": {
          "base_uri": "https://localhost:8080/",
          "height": 300
        },
        "id": "qpL9sZVIm5fE",
        "outputId": "026a6082-8bf3-4c56-c6e5-b507f64da6c8"
      },
      "execution_count": null,
      "outputs": [
        {
          "output_type": "execute_result",
          "data": {
            "text/html": [
              "\n",
              "  <div id=\"df-e87555b5-ce5a-4ee7-9856-a3ca4465260f\">\n",
              "    <div class=\"colab-df-container\">\n",
              "      <div>\n",
              "<style scoped>\n",
              "    .dataframe tbody tr th:only-of-type {\n",
              "        vertical-align: middle;\n",
              "    }\n",
              "\n",
              "    .dataframe tbody tr th {\n",
              "        vertical-align: top;\n",
              "    }\n",
              "\n",
              "    .dataframe thead th {\n",
              "        text-align: right;\n",
              "    }\n",
              "</style>\n",
              "<table border=\"1\" class=\"dataframe\">\n",
              "  <thead>\n",
              "    <tr style=\"text-align: right;\">\n",
              "      <th></th>\n",
              "      <th>ad_id</th>\n",
              "      <th>fb_campaign_id</th>\n",
              "      <th>interest</th>\n",
              "      <th>Impressions</th>\n",
              "      <th>Clicks</th>\n",
              "      <th>Spent</th>\n",
              "      <th>Total_Conversion</th>\n",
              "      <th>Approved_Conversion</th>\n",
              "    </tr>\n",
              "  </thead>\n",
              "  <tbody>\n",
              "    <tr>\n",
              "      <th>count</th>\n",
              "      <td>1.143000e+03</td>\n",
              "      <td>1143.000000</td>\n",
              "      <td>1143.000000</td>\n",
              "      <td>1.143000e+03</td>\n",
              "      <td>1143.000000</td>\n",
              "      <td>1143.000000</td>\n",
              "      <td>1143.000000</td>\n",
              "      <td>1143.000000</td>\n",
              "    </tr>\n",
              "    <tr>\n",
              "      <th>mean</th>\n",
              "      <td>9.872611e+05</td>\n",
              "      <td>133783.989501</td>\n",
              "      <td>32.766404</td>\n",
              "      <td>1.867321e+05</td>\n",
              "      <td>33.390201</td>\n",
              "      <td>51.360656</td>\n",
              "      <td>2.855643</td>\n",
              "      <td>0.944007</td>\n",
              "    </tr>\n",
              "    <tr>\n",
              "      <th>std</th>\n",
              "      <td>1.939928e+05</td>\n",
              "      <td>20500.308622</td>\n",
              "      <td>26.952131</td>\n",
              "      <td>3.127622e+05</td>\n",
              "      <td>56.892438</td>\n",
              "      <td>86.908418</td>\n",
              "      <td>4.483593</td>\n",
              "      <td>1.737708</td>\n",
              "    </tr>\n",
              "    <tr>\n",
              "      <th>min</th>\n",
              "      <td>7.087460e+05</td>\n",
              "      <td>103916.000000</td>\n",
              "      <td>2.000000</td>\n",
              "      <td>8.700000e+01</td>\n",
              "      <td>0.000000</td>\n",
              "      <td>0.000000</td>\n",
              "      <td>0.000000</td>\n",
              "      <td>0.000000</td>\n",
              "    </tr>\n",
              "    <tr>\n",
              "      <th>25%</th>\n",
              "      <td>7.776325e+05</td>\n",
              "      <td>115716.000000</td>\n",
              "      <td>16.000000</td>\n",
              "      <td>6.503500e+03</td>\n",
              "      <td>1.000000</td>\n",
              "      <td>1.480000</td>\n",
              "      <td>1.000000</td>\n",
              "      <td>0.000000</td>\n",
              "    </tr>\n",
              "    <tr>\n",
              "      <th>50%</th>\n",
              "      <td>1.121185e+06</td>\n",
              "      <td>144549.000000</td>\n",
              "      <td>25.000000</td>\n",
              "      <td>5.150900e+04</td>\n",
              "      <td>8.000000</td>\n",
              "      <td>12.370000</td>\n",
              "      <td>1.000000</td>\n",
              "      <td>1.000000</td>\n",
              "    </tr>\n",
              "    <tr>\n",
              "      <th>75%</th>\n",
              "      <td>1.121804e+06</td>\n",
              "      <td>144657.500000</td>\n",
              "      <td>31.000000</td>\n",
              "      <td>2.217690e+05</td>\n",
              "      <td>37.500000</td>\n",
              "      <td>60.025000</td>\n",
              "      <td>3.000000</td>\n",
              "      <td>1.000000</td>\n",
              "    </tr>\n",
              "    <tr>\n",
              "      <th>max</th>\n",
              "      <td>1.314415e+06</td>\n",
              "      <td>179982.000000</td>\n",
              "      <td>114.000000</td>\n",
              "      <td>3.052003e+06</td>\n",
              "      <td>421.000000</td>\n",
              "      <td>639.949998</td>\n",
              "      <td>60.000000</td>\n",
              "      <td>21.000000</td>\n",
              "    </tr>\n",
              "  </tbody>\n",
              "</table>\n",
              "</div>\n",
              "      <button class=\"colab-df-convert\" onclick=\"convertToInteractive('df-e87555b5-ce5a-4ee7-9856-a3ca4465260f')\"\n",
              "              title=\"Convert this dataframe to an interactive table.\"\n",
              "              style=\"display:none;\">\n",
              "        \n",
              "  <svg xmlns=\"http://www.w3.org/2000/svg\" height=\"24px\"viewBox=\"0 0 24 24\"\n",
              "       width=\"24px\">\n",
              "    <path d=\"M0 0h24v24H0V0z\" fill=\"none\"/>\n",
              "    <path d=\"M18.56 5.44l.94 2.06.94-2.06 2.06-.94-2.06-.94-.94-2.06-.94 2.06-2.06.94zm-11 1L8.5 8.5l.94-2.06 2.06-.94-2.06-.94L8.5 2.5l-.94 2.06-2.06.94zm10 10l.94 2.06.94-2.06 2.06-.94-2.06-.94-.94-2.06-.94 2.06-2.06.94z\"/><path d=\"M17.41 7.96l-1.37-1.37c-.4-.4-.92-.59-1.43-.59-.52 0-1.04.2-1.43.59L10.3 9.45l-7.72 7.72c-.78.78-.78 2.05 0 2.83L4 21.41c.39.39.9.59 1.41.59.51 0 1.02-.2 1.41-.59l7.78-7.78 2.81-2.81c.8-.78.8-2.07 0-2.86zM5.41 20L4 18.59l7.72-7.72 1.47 1.35L5.41 20z\"/>\n",
              "  </svg>\n",
              "      </button>\n",
              "      \n",
              "  <style>\n",
              "    .colab-df-container {\n",
              "      display:flex;\n",
              "      flex-wrap:wrap;\n",
              "      gap: 12px;\n",
              "    }\n",
              "\n",
              "    .colab-df-convert {\n",
              "      background-color: #E8F0FE;\n",
              "      border: none;\n",
              "      border-radius: 50%;\n",
              "      cursor: pointer;\n",
              "      display: none;\n",
              "      fill: #1967D2;\n",
              "      height: 32px;\n",
              "      padding: 0 0 0 0;\n",
              "      width: 32px;\n",
              "    }\n",
              "\n",
              "    .colab-df-convert:hover {\n",
              "      background-color: #E2EBFA;\n",
              "      box-shadow: 0px 1px 2px rgba(60, 64, 67, 0.3), 0px 1px 3px 1px rgba(60, 64, 67, 0.15);\n",
              "      fill: #174EA6;\n",
              "    }\n",
              "\n",
              "    [theme=dark] .colab-df-convert {\n",
              "      background-color: #3B4455;\n",
              "      fill: #D2E3FC;\n",
              "    }\n",
              "\n",
              "    [theme=dark] .colab-df-convert:hover {\n",
              "      background-color: #434B5C;\n",
              "      box-shadow: 0px 1px 3px 1px rgba(0, 0, 0, 0.15);\n",
              "      filter: drop-shadow(0px 1px 2px rgba(0, 0, 0, 0.3));\n",
              "      fill: #FFFFFF;\n",
              "    }\n",
              "  </style>\n",
              "\n",
              "      <script>\n",
              "        const buttonEl =\n",
              "          document.querySelector('#df-e87555b5-ce5a-4ee7-9856-a3ca4465260f button.colab-df-convert');\n",
              "        buttonEl.style.display =\n",
              "          google.colab.kernel.accessAllowed ? 'block' : 'none';\n",
              "\n",
              "        async function convertToInteractive(key) {\n",
              "          const element = document.querySelector('#df-e87555b5-ce5a-4ee7-9856-a3ca4465260f');\n",
              "          const dataTable =\n",
              "            await google.colab.kernel.invokeFunction('convertToInteractive',\n",
              "                                                     [key], {});\n",
              "          if (!dataTable) return;\n",
              "\n",
              "          const docLinkHtml = 'Like what you see? Visit the ' +\n",
              "            '<a target=\"_blank\" href=https://colab.research.google.com/notebooks/data_table.ipynb>data table notebook</a>'\n",
              "            + ' to learn more about interactive tables.';\n",
              "          element.innerHTML = '';\n",
              "          dataTable['output_type'] = 'display_data';\n",
              "          await google.colab.output.renderOutput(dataTable, element);\n",
              "          const docLink = document.createElement('div');\n",
              "          docLink.innerHTML = docLinkHtml;\n",
              "          element.appendChild(docLink);\n",
              "        }\n",
              "      </script>\n",
              "    </div>\n",
              "  </div>\n",
              "  "
            ],
            "text/plain": [
              "              ad_id  fb_campaign_id  ...  Total_Conversion  Approved_Conversion\n",
              "count  1.143000e+03     1143.000000  ...       1143.000000          1143.000000\n",
              "mean   9.872611e+05   133783.989501  ...          2.855643             0.944007\n",
              "std    1.939928e+05    20500.308622  ...          4.483593             1.737708\n",
              "min    7.087460e+05   103916.000000  ...          0.000000             0.000000\n",
              "25%    7.776325e+05   115716.000000  ...          1.000000             0.000000\n",
              "50%    1.121185e+06   144549.000000  ...          1.000000             1.000000\n",
              "75%    1.121804e+06   144657.500000  ...          3.000000             1.000000\n",
              "max    1.314415e+06   179982.000000  ...         60.000000            21.000000\n",
              "\n",
              "[8 rows x 8 columns]"
            ]
          },
          "metadata": {},
          "execution_count": 26
        }
      ]
    },
    {
      "cell_type": "code",
      "source": [
        "dataset.interest.value_counts()"
      ],
      "metadata": {
        "colab": {
          "base_uri": "https://localhost:8080/"
        },
        "id": "tx_rGzmRcmB_",
        "outputId": "bc5b92af-7a4c-49ea-dca0-1517c36dc8b9"
      },
      "execution_count": null,
      "outputs": [
        {
          "output_type": "execute_result",
          "data": {
            "text/plain": [
              "16     140\n",
              "10      85\n",
              "29      77\n",
              "27      60\n",
              "15      51\n",
              "28      51\n",
              "20      49\n",
              "64      48\n",
              "63      46\n",
              "18      43\n",
              "26      41\n",
              "21      36\n",
              "32      33\n",
              "22      33\n",
              "19      32\n",
              "25      26\n",
              "30      25\n",
              "31      25\n",
              "2       25\n",
              "24      24\n",
              "7       24\n",
              "23      23\n",
              "36      21\n",
              "65      19\n",
              "66      11\n",
              "107      8\n",
              "110      8\n",
              "102      7\n",
              "112      7\n",
              "105      7\n",
              "101      7\n",
              "108      7\n",
              "100      6\n",
              "111      6\n",
              "113      6\n",
              "109      6\n",
              "106      5\n",
              "104      5\n",
              "103      5\n",
              "114      5\n",
              "Name: interest, dtype: int64"
            ]
          },
          "metadata": {},
          "execution_count": 36
        }
      ]
    },
    {
      "cell_type": "markdown",
      "source": [
        "# **Analysis**"
      ],
      "metadata": {
        "id": "v6iFKpX5mZlI"
      }
    },
    {
      "cell_type": "code",
      "source": [
        "corr = dataset.corr()\n",
        "\n",
        "mask = np.zeros_like(corr)\n",
        "mask[np.triu_indices_from(mask)]=True\n",
        "with sns.axes_style('white'):\n",
        "    fig, ax = plt.subplots(figsize=(18,10))\n",
        "    sns.heatmap(corr,  mask=mask, annot=True, cmap='Blues', center=0, square=True)"
      ],
      "metadata": {
        "colab": {
          "base_uri": "https://localhost:8080/",
          "height": 690
        },
        "id": "S9odIAB7LoJC",
        "outputId": "c99f40ee-8864-432d-f154-26c7f092be4c"
      },
      "execution_count": null,
      "outputs": [
        {
          "output_type": "display_data",
          "data": {
            "image/png": "[encoded data removed]",
            "text/plain": [
              "<Figure size 1296x720 with 2 Axes>"
            ]
          },
          "metadata": {}
        }
      ]
    },
    {
      "cell_type": "code",
      "source": [
        "print('Total ADS: {}'.format(dataset.shape[0]))\n",
        "\n",
        "print('Number of ADS with 0 clicks: {}'.format(len(dataset.loc[dataset['Clicks'] == 0])))\n",
        "print('Number of 0 paids to FACEBOOK for showing ADS: {}'.format(len(dataset.loc[dataset['Spent'] == 0])))\n",
        "print('Number of ADS with 0 enquires about their product: {}'.format(len(dataset.loc[dataset['Total_Conversion'] == 0])))\n",
        "print('Number of ADS with 0 buys: {}'.format(len(dataset.loc[dataset['Approved_Conversion'] == 0])))"
      ],
      "metadata": {
        "id": "536xuqmcHubF"
      },
      "execution_count": null,
      "outputs": []
    },
    {
      "cell_type": "markdown",
      "source": [
        "## Age Gender Demographics"
      ],
      "metadata": {
        "id": "4UHjPP_9GRfH"
      }
    },
    {
      "cell_type": "code",
      "source": [
        "dataset.age.value_counts()"
      ],
      "metadata": {
        "colab": {
          "base_uri": "https://localhost:8080/"
        },
        "id": "luUiG0kccl_t",
        "outputId": "c1e167e2-8a74-42eb-b328-585470554dbb"
      },
      "execution_count": null,
      "outputs": [
        {
          "output_type": "execute_result",
          "data": {
            "text/plain": [
              "30-34    426\n",
              "45-49    259\n",
              "35-39    248\n",
              "40-44    210\n",
              "Name: age, dtype: int64"
            ]
          },
          "metadata": {},
          "execution_count": 7
        }
      ]
    },
    {
      "cell_type": "code",
      "source": [
        " #Age-wise distribution\n",
        " age=dataset['age'].value_counts()\n",
        " px.bar(dataset, x=age.index, y=age,title='Age-wise distribution')"
      ],
      "metadata": {
        "colab": {
          "base_uri": "https://localhost:8080/",
          "height": 542
        },
        "id": "ayfgo1nScmKH",
        "outputId": "142485c4-c5e2-46e1-c193-5481e95c1b54"
      },
      "execution_count": null,
      "outputs": [
        {
          "output_type": "display_data",
          "data": {
            "text/html": [
              "<html>\n",
              "<head><meta charset=\"utf-8\" /></head>\n",
              "<body>\n",
              "    <div>\n",
              "            <script src=\"https://cdnjs.cloudflare.com/ajax/libs/mathjax/2.7.5/MathJax.js?config=TeX-AMS-MML_SVG\"></script><script type=\"text/javascript\">if (window.MathJax) {MathJax.Hub.Config({SVG: {font: \"STIX-Web\"}});}</script>\n",
              "                <script type=\"text/javascript\">window.PlotlyConfig = {MathJaxConfig: 'local'};</script>\n",
              "        <script src=\"https://cdn.plot.ly/plotly-latest.min.js\"></script>    \n",
              "            <div id=\"587aae61-a536-4485-a20d-1993da84458f\" class=\"plotly-graph-div\" style=\"height:525px; width:100%;\"></div>\n",
              "            <script type=\"text/javascript\">\n",
              "                \n",
              "                    window.PLOTLYENV=window.PLOTLYENV || {};\n",
              "                    \n",
              "                if (document.getElementById(\"587aae61-a536-4485-a20d-1993da84458f\")) {\n",
              "                    Plotly.newPlot(\n",
              "                        '587aae61-a536-4485-a20d-1993da84458f',\n",
              "                        [{\"alignmentgroup\": \"True\", \"hoverlabel\": {\"namelength\": 0}, \"hovertemplate\": \"x=%{x}<br>y=%{y}\", \"legendgroup\": \"\", \"marker\": {\"color\": \"#636efa\"}, \"name\": \"\", \"offsetgroup\": \"\", \"orientation\": \"v\", \"showlegend\": false, \"textposition\": \"auto\", \"type\": \"bar\", \"x\": [\"30-34\", \"45-49\", \"35-39\", \"40-44\"], \"xaxis\": \"x\", \"y\": [426, 259, 248, 210], \"yaxis\": \"y\"}],\n",
              "                        {\"barmode\": \"relative\", \"legend\": {\"tracegroupgap\": 0}, \"template\": {\"data\": {\"bar\": [{\"error_x\": {\"color\": \"#2a3f5f\"}, \"error_y\": {\"color\": \"#2a3f5f\"}, \"marker\": {\"line\": {\"color\": \"#E5ECF6\", \"width\": 0.5}}, \"type\": \"bar\"}], \"barpolar\": [{\"marker\": {\"line\": {\"color\": \"#E5ECF6\", \"width\": 0.5}}, \"type\": \"barpolar\"}], \"carpet\": [{\"aaxis\": {\"endlinecolor\": \"#2a3f5f\", \"gridcolor\": \"white\", \"linecolor\": \"white\", \"minorgridcolor\": \"white\", \"startlinecolor\": \"#2a3f5f\"}, \"baxis\": {\"endlinecolor\": \"#2a3f5f\", \"gridcolor\": \"white\", \"linecolor\": \"white\", \"minorgridcolor\": \"white\", \"startlinecolor\": \"#2a3f5f\"}, \"type\": \"carpet\"}], \"choropleth\": [{\"colorbar\": {\"outlinewidth\": 0, \"ticks\": \"\"}, \"type\": \"choropleth\"}], \"contour\": [{\"colorbar\": {\"outlinewidth\": 0, \"ticks\": \"\"}, \"colorscale\": [[0.0, \"#0d0887\"], [0.1111111111111111, \"#46039f\"], [0.2222222222222222, \"#7201a8\"], [0.3333333333333333, \"#9c179e\"], [0.4444444444444444, \"#bd3786\"], [0.5555555555555556, \"#d8576b\"], [0.6666666666666666, \"#ed7953\"], [0.7777777777777778, \"#fb9f3a\"], [0.8888888888888888, \"#fdca26\"], [1.0, \"#f0f921\"]], \"type\": \"contour\"}], \"contourcarpet\": [{\"colorbar\": {\"outlinewidth\": 0, \"ticks\": \"\"}, \"type\": \"contourcarpet\"}], \"heatmap\": [{\"colorbar\": {\"outlinewidth\": 0, \"ticks\": \"\"}, \"colorscale\": [[0.0, \"#0d0887\"], [0.1111111111111111, \"#46039f\"], [0.2222222222222222, \"#7201a8\"], [0.3333333333333333, \"#9c179e\"], [0.4444444444444444, \"#bd3786\"], [0.5555555555555556, \"#d8576b\"], [0.6666666666666666, \"#ed7953\"], [0.7777777777777778, \"#fb9f3a\"], [0.8888888888888888, \"#fdca26\"], [1.0, \"#f0f921\"]], \"type\": \"heatmap\"}], \"heatmapgl\": [{\"colorbar\": {\"outlinewidth\": 0, \"ticks\": \"\"}, \"colorscale\": [[0.0, \"#0d0887\"], [0.1111111111111111, \"#46039f\"], [0.2222222222222222, \"#7201a8\"], [0.3333333333333333, \"#9c179e\"], [0.4444444444444444, \"#bd3786\"], [0.5555555555555556, \"#d8576b\"], [0.6666666666666666, \"#ed7953\"], [0.7777777777777778, \"#fb9f3a\"], [0.8888888888888888, \"#fdca26\"], [1.0, \"#f0f921\"]], \"type\": \"heatmapgl\"}], \"histogram\": [{\"marker\": {\"colorbar\": {\"outlinewidth\": 0, \"ticks\": \"\"}}, \"type\": \"histogram\"}], \"histogram2d\": [{\"colorbar\": {\"outlinewidth\": 0, \"ticks\": \"\"}, \"colorscale\": [[0.0, \"#0d0887\"], [0.1111111111111111, \"#46039f\"], [0.2222222222222222, \"#7201a8\"], [0.3333333333333333, \"#9c179e\"], [0.4444444444444444, \"#bd3786\"], [0.5555555555555556, \"#d8576b\"], [0.6666666666666666, \"#ed7953\"], [0.7777777777777778, \"#fb9f3a\"], [0.8888888888888888, \"#fdca26\"], [1.0, \"#f0f921\"]], \"type\": \"histogram2d\"}], \"histogram2dcontour\": [{\"colorbar\": {\"outlinewidth\": 0, \"ticks\": \"\"}, \"colorscale\": [[0.0, \"#0d0887\"], [0.1111111111111111, \"#46039f\"], [0.2222222222222222, \"#7201a8\"], [0.3333333333333333, \"#9c179e\"], [0.4444444444444444, \"#bd3786\"], [0.5555555555555556, \"#d8576b\"], [0.6666666666666666, \"#ed7953\"], [0.7777777777777778, \"#fb9f3a\"], [0.8888888888888888, \"#fdca26\"], [1.0, \"#f0f921\"]], \"type\": \"histogram2dcontour\"}], \"mesh3d\": [{\"colorbar\": {\"outlinewidth\": 0, \"ticks\": \"\"}, \"type\": \"mesh3d\"}], \"parcoords\": [{\"line\": {\"colorbar\": {\"outlinewidth\": 0, \"ticks\": \"\"}}, \"type\": \"parcoords\"}], \"pie\": [{\"automargin\": true, \"type\": \"pie\"}], \"scatter\": [{\"marker\": {\"colorbar\": {\"outlinewidth\": 0, \"ticks\": \"\"}}, \"type\": \"scatter\"}], \"scatter3d\": [{\"line\": {\"colorbar\": {\"outlinewidth\": 0, \"ticks\": \"\"}}, \"marker\": {\"colorbar\": {\"outlinewidth\": 0, \"ticks\": \"\"}}, \"type\": \"scatter3d\"}], \"scattercarpet\": [{\"marker\": {\"colorbar\": {\"outlinewidth\": 0, \"ticks\": \"\"}}, \"type\": \"scattercarpet\"}], \"scattergeo\": [{\"marker\": {\"colorbar\": {\"outlinewidth\": 0, \"ticks\": \"\"}}, \"type\": \"scattergeo\"}], \"scattergl\": [{\"marker\": {\"colorbar\": {\"outlinewidth\": 0, \"ticks\": \"\"}}, \"type\": \"scattergl\"}], \"scattermapbox\": [{\"marker\": {\"colorbar\": {\"outlinewidth\": 0, \"ticks\": \"\"}}, \"type\": \"scattermapbox\"}], \"scatterpolar\": [{\"marker\": {\"colorbar\": {\"outlinewidth\": 0, \"ticks\": \"\"}}, \"type\": \"scatterpolar\"}], \"scatterpolargl\": [{\"marker\": {\"colorbar\": {\"outlinewidth\": 0, \"ticks\": \"\"}}, \"type\": \"scatterpolargl\"}], \"scatterternary\": [{\"marker\": {\"colorbar\": {\"outlinewidth\": 0, \"ticks\": \"\"}}, \"type\": \"scatterternary\"}], \"surface\": [{\"colorbar\": {\"outlinewidth\": 0, \"ticks\": \"\"}, \"colorscale\": [[0.0, \"#0d0887\"], [0.1111111111111111, \"#46039f\"], [0.2222222222222222, \"#7201a8\"], [0.3333333333333333, \"#9c179e\"], [0.4444444444444444, \"#bd3786\"], [0.5555555555555556, \"#d8576b\"], [0.6666666666666666, \"#ed7953\"], [0.7777777777777778, \"#fb9f3a\"], [0.8888888888888888, \"#fdca26\"], [1.0, \"#f0f921\"]], \"type\": \"surface\"}], \"table\": [{\"cells\": {\"fill\": {\"color\": \"#EBF0F8\"}, \"line\": {\"color\": \"white\"}}, \"header\": {\"fill\": {\"color\": \"#C8D4E3\"}, \"line\": {\"color\": \"white\"}}, \"type\": \"table\"}]}, \"layout\": {\"annotationdefaults\": {\"arrowcolor\": \"#2a3f5f\", \"arrowhead\": 0, \"arrowwidth\": 1}, \"coloraxis\": {\"colorbar\": {\"outlinewidth\": 0, \"ticks\": \"\"}}, \"colorscale\": {\"diverging\": [[0, \"#8e0152\"], [0.1, \"#c51b7d\"], [0.2, \"#de77ae\"], [0.3, \"#f1b6da\"], [0.4, \"#fde0ef\"], [0.5, \"#f7f7f7\"], [0.6, \"#e6f5d0\"], [0.7, \"#b8e186\"], [0.8, \"#7fbc41\"], [0.9, \"#4d9221\"], [1, \"#276419\"]], \"sequential\": [[0.0, \"#0d0887\"], [0.1111111111111111, \"#46039f\"], [0.2222222222222222, \"#7201a8\"], [0.3333333333333333, \"#9c179e\"], [0.4444444444444444, \"#bd3786\"], [0.5555555555555556, \"#d8576b\"], [0.6666666666666666, \"#ed7953\"], [0.7777777777777778, \"#fb9f3a\"], [0.8888888888888888, \"#fdca26\"], [1.0, \"#f0f921\"]], \"sequentialminus\": [[0.0, \"#0d0887\"], [0.1111111111111111, \"#46039f\"], [0.2222222222222222, \"#7201a8\"], [0.3333333333333333, \"#9c179e\"], [0.4444444444444444, \"#bd3786\"], [0.5555555555555556, \"#d8576b\"], [0.6666666666666666, \"#ed7953\"], [0.7777777777777778, \"#fb9f3a\"], [0.8888888888888888, \"#fdca26\"], [1.0, \"#f0f921\"]]}, \"colorway\": [\"#636efa\", \"#EF553B\", \"#00cc96\", \"#ab63fa\", \"#FFA15A\", \"#19d3f3\", \"#FF6692\", \"#B6E880\", \"#FF97FF\", \"#FECB52\"], \"font\": {\"color\": \"#2a3f5f\"}, \"geo\": {\"bgcolor\": \"white\", \"lakecolor\": \"white\", \"landcolor\": \"#E5ECF6\", \"showlakes\": true, \"showland\": true, \"subunitcolor\": \"white\"}, \"hoverlabel\": {\"align\": \"left\"}, \"hovermode\": \"closest\", \"mapbox\": {\"style\": \"light\"}, \"paper_bgcolor\": \"white\", \"plot_bgcolor\": \"#E5ECF6\", \"polar\": {\"angularaxis\": {\"gridcolor\": \"white\", \"linecolor\": \"white\", \"ticks\": \"\"}, \"bgcolor\": \"#E5ECF6\", \"radialaxis\": {\"gridcolor\": \"white\", \"linecolor\": \"white\", \"ticks\": \"\"}}, \"scene\": {\"xaxis\": {\"backgroundcolor\": \"#E5ECF6\", \"gridcolor\": \"white\", \"gridwidth\": 2, \"linecolor\": \"white\", \"showbackground\": true, \"ticks\": \"\", \"zerolinecolor\": \"white\"}, \"yaxis\": {\"backgroundcolor\": \"#E5ECF6\", \"gridcolor\": \"white\", \"gridwidth\": 2, \"linecolor\": \"white\", \"showbackground\": true, \"ticks\": \"\", \"zerolinecolor\": \"white\"}, \"zaxis\": {\"backgroundcolor\": \"#E5ECF6\", \"gridcolor\": \"white\", \"gridwidth\": 2, \"linecolor\": \"white\", \"showbackground\": true, \"ticks\": \"\", \"zerolinecolor\": \"white\"}}, \"shapedefaults\": {\"line\": {\"color\": \"#2a3f5f\"}}, \"ternary\": {\"aaxis\": {\"gridcolor\": \"white\", \"linecolor\": \"white\", \"ticks\": \"\"}, \"baxis\": {\"gridcolor\": \"white\", \"linecolor\": \"white\", \"ticks\": \"\"}, \"bgcolor\": \"#E5ECF6\", \"caxis\": {\"gridcolor\": \"white\", \"linecolor\": \"white\", \"ticks\": \"\"}}, \"title\": {\"x\": 0.05}, \"xaxis\": {\"automargin\": true, \"gridcolor\": \"white\", \"linecolor\": \"white\", \"ticks\": \"\", \"title\": {\"standoff\": 15}, \"zerolinecolor\": \"white\", \"zerolinewidth\": 2}, \"yaxis\": {\"automargin\": true, \"gridcolor\": \"white\", \"linecolor\": \"white\", \"ticks\": \"\", \"title\": {\"standoff\": 15}, \"zerolinecolor\": \"white\", \"zerolinewidth\": 2}}}, \"title\": {\"text\": \"Age-wise distribution\"}, \"xaxis\": {\"anchor\": \"y\", \"domain\": [0.0, 1.0], \"title\": {\"text\": \"x\"}}, \"yaxis\": {\"anchor\": \"x\", \"domain\": [0.0, 1.0], \"title\": {\"text\": \"y\"}}},\n",
              "                        {\"responsive\": true}\n",
              "                    ).then(function(){\n",
              "                            \n",
              "var gd = document.getElementById('587aae61-a536-4485-a20d-1993da84458f');\n",
              "var x = new MutationObserver(function (mutations, observer) {{\n",
              "        var display = window.getComputedStyle(gd).display;\n",
              "        if (!display || display === 'none') {{\n",
              "            console.log([gd, 'removed!']);\n",
              "            Plotly.purge(gd);\n",
              "            observer.disconnect();\n",
              "        }}\n",
              "}});\n",
              "\n",
              "// Listen for the removal of the full notebook cells\n",
              "var notebookContainer = gd.closest('#notebook-container');\n",
              "if (notebookContainer) {{\n",
              "    x.observe(notebookContainer, {childList: true});\n",
              "}}\n",
              "\n",
              "// Listen for the clearing of the current output cell\n",
              "var outputEl = gd.closest('.output');\n",
              "if (outputEl) {{\n",
              "    x.observe(outputEl, {childList: true});\n",
              "}}\n",
              "\n",
              "                        })\n",
              "                };\n",
              "                \n",
              "            </script>\n",
              "        </div>\n",
              "</body>\n",
              "</html>"
            ]
          },
          "metadata": {}
        }
      ]
    },
    {
      "cell_type": "code",
      "source": [
        "dataset.gender.value_counts()"
      ],
      "metadata": {
        "colab": {
          "base_uri": "https://localhost:8080/"
        },
        "id": "mdkwIb13cl9A",
        "outputId": "9bffa366-951d-4b78-9191-018082cbc0d8"
      },
      "execution_count": null,
      "outputs": [
        {
          "output_type": "execute_result",
          "data": {
            "text/plain": [
              "M    592\n",
              "F    551\n",
              "Name: gender, dtype: int64"
            ]
          },
          "metadata": {},
          "execution_count": 9
        }
      ]
    },
    {
      "cell_type": "code",
      "source": [
        "#Gender-wise distribution\n",
        "gender=dataset['gender'].value_counts()\n",
        "px.bar(dataset, x=gender.index, y=gender,title='Gender-wise distribution')"
      ],
      "metadata": {
        "colab": {
          "base_uri": "https://localhost:8080/",
          "height": 542
        },
        "id": "JGBoA4X-eSLF",
        "outputId": "2897d511-a1a9-4fba-aa80-9d4c382c8c46"
      },
      "execution_count": null,
      "outputs": [
        {
          "output_type": "display_data",
          "data": {
            "text/html": [
              "<html>\n",
              "<head><meta charset=\"utf-8\" /></head>\n",
              "<body>\n",
              "    <div>\n",
              "            <script src=\"https://cdnjs.cloudflare.com/ajax/libs/mathjax/2.7.5/MathJax.js?config=TeX-AMS-MML_SVG\"></script><script type=\"text/javascript\">if (window.MathJax) {MathJax.Hub.Config({SVG: {font: \"STIX-Web\"}});}</script>\n",
              "                <script type=\"text/javascript\">window.PlotlyConfig = {MathJaxConfig: 'local'};</script>\n",
              "        <script src=\"https://cdn.plot.ly/plotly-latest.min.js\"></script>    \n",
              "            <div id=\"092e446a-0a2f-4861-9ec9-790a113ad148\" class=\"plotly-graph-div\" style=\"height:525px; width:100%;\"></div>\n",
              "            <script type=\"text/javascript\">\n",
              "                \n",
              "                    window.PLOTLYENV=window.PLOTLYENV || {};\n",
              "                    \n",
              "                if (document.getElementById(\"092e446a-0a2f-4861-9ec9-790a113ad148\")) {\n",
              "                    Plotly.newPlot(\n",
              "                        '092e446a-0a2f-4861-9ec9-790a113ad148',\n",
              "                        [{\"alignmentgroup\": \"True\", \"hoverlabel\": {\"namelength\": 0}, \"hovertemplate\": \"x=%{x}<br>y=%{y}\", \"legendgroup\": \"\", \"marker\": {\"color\": \"#636efa\"}, \"name\": \"\", \"offsetgroup\": \"\", \"orientation\": \"v\", \"showlegend\": false, \"textposition\": \"auto\", \"type\": \"bar\", \"x\": [\"M\", \"F\"], \"xaxis\": \"x\", \"y\": [592, 551], \"yaxis\": \"y\"}],\n",
              "                        {\"barmode\": \"relative\", \"legend\": {\"tracegroupgap\": 0}, \"template\": {\"data\": {\"bar\": [{\"error_x\": {\"color\": \"#2a3f5f\"}, \"error_y\": {\"color\": \"#2a3f5f\"}, \"marker\": {\"line\": {\"color\": \"#E5ECF6\", \"width\": 0.5}}, \"type\": \"bar\"}], \"barpolar\": [{\"marker\": {\"line\": {\"color\": \"#E5ECF6\", \"width\": 0.5}}, \"type\": \"barpolar\"}], \"carpet\": [{\"aaxis\": {\"endlinecolor\": \"#2a3f5f\", \"gridcolor\": \"white\", \"linecolor\": \"white\", \"minorgridcolor\": \"white\", \"startlinecolor\": \"#2a3f5f\"}, \"baxis\": {\"endlinecolor\": \"#2a3f5f\", \"gridcolor\": \"white\", \"linecolor\": \"white\", \"minorgridcolor\": \"white\", \"startlinecolor\": \"#2a3f5f\"}, \"type\": \"carpet\"}], \"choropleth\": [{\"colorbar\": {\"outlinewidth\": 0, \"ticks\": \"\"}, \"type\": \"choropleth\"}], \"contour\": [{\"colorbar\": {\"outlinewidth\": 0, \"ticks\": \"\"}, \"colorscale\": [[0.0, \"#0d0887\"], [0.1111111111111111, \"#46039f\"], [0.2222222222222222, \"#7201a8\"], [0.3333333333333333, \"#9c179e\"], [0.4444444444444444, \"#bd3786\"], [0.5555555555555556, \"#d8576b\"], [0.6666666666666666, \"#ed7953\"], [0.7777777777777778, \"#fb9f3a\"], [0.8888888888888888, \"#fdca26\"], [1.0, \"#f0f921\"]], \"type\": \"contour\"}], \"contourcarpet\": [{\"colorbar\": {\"outlinewidth\": 0, \"ticks\": \"\"}, \"type\": \"contourcarpet\"}], \"heatmap\": [{\"colorbar\": {\"outlinewidth\": 0, \"ticks\": \"\"}, \"colorscale\": [[0.0, \"#0d0887\"], [0.1111111111111111, \"#46039f\"], [0.2222222222222222, \"#7201a8\"], [0.3333333333333333, \"#9c179e\"], [0.4444444444444444, \"#bd3786\"], [0.5555555555555556, \"#d8576b\"], [0.6666666666666666, \"#ed7953\"], [0.7777777777777778, \"#fb9f3a\"], [0.8888888888888888, \"#fdca26\"], [1.0, \"#f0f921\"]], \"type\": \"heatmap\"}], \"heatmapgl\": [{\"colorbar\": {\"outlinewidth\": 0, \"ticks\": \"\"}, \"colorscale\": [[0.0, \"#0d0887\"], [0.1111111111111111, \"#46039f\"], [0.2222222222222222, \"#7201a8\"], [0.3333333333333333, \"#9c179e\"], [0.4444444444444444, \"#bd3786\"], [0.5555555555555556, \"#d8576b\"], [0.6666666666666666, \"#ed7953\"], [0.7777777777777778, \"#fb9f3a\"], [0.8888888888888888, \"#fdca26\"], [1.0, \"#f0f921\"]], \"type\": \"heatmapgl\"}], \"histogram\": [{\"marker\": {\"colorbar\": {\"outlinewidth\": 0, \"ticks\": \"\"}}, \"type\": \"histogram\"}], \"histogram2d\": [{\"colorbar\": {\"outlinewidth\": 0, \"ticks\": \"\"}, \"colorscale\": [[0.0, \"#0d0887\"], [0.1111111111111111, \"#46039f\"], [0.2222222222222222, \"#7201a8\"], [0.3333333333333333, \"#9c179e\"], [0.4444444444444444, \"#bd3786\"], [0.5555555555555556, \"#d8576b\"], [0.6666666666666666, \"#ed7953\"], [0.7777777777777778, \"#fb9f3a\"], [0.8888888888888888, \"#fdca26\"], [1.0, \"#f0f921\"]], \"type\": \"histogram2d\"}], \"histogram2dcontour\": [{\"colorbar\": {\"outlinewidth\": 0, \"ticks\": \"\"}, \"colorscale\": [[0.0, \"#0d0887\"], [0.1111111111111111, \"#46039f\"], [0.2222222222222222, \"#7201a8\"], [0.3333333333333333, \"#9c179e\"], [0.4444444444444444, \"#bd3786\"], [0.5555555555555556, \"#d8576b\"], [0.6666666666666666, \"#ed7953\"], [0.7777777777777778, \"#fb9f3a\"], [0.8888888888888888, \"#fdca26\"], [1.0, \"#f0f921\"]], \"type\": \"histogram2dcontour\"}], \"mesh3d\": [{\"colorbar\": {\"outlinewidth\": 0, \"ticks\": \"\"}, \"type\": \"mesh3d\"}], \"parcoords\": [{\"line\": {\"colorbar\": {\"outlinewidth\": 0, \"ticks\": \"\"}}, \"type\": \"parcoords\"}], \"pie\": [{\"automargin\": true, \"type\": \"pie\"}], \"scatter\": [{\"marker\": {\"colorbar\": {\"outlinewidth\": 0, \"ticks\": \"\"}}, \"type\": \"scatter\"}], \"scatter3d\": [{\"line\": {\"colorbar\": {\"outlinewidth\": 0, \"ticks\": \"\"}}, \"marker\": {\"colorbar\": {\"outlinewidth\": 0, \"ticks\": \"\"}}, \"type\": \"scatter3d\"}], \"scattercarpet\": [{\"marker\": {\"colorbar\": {\"outlinewidth\": 0, \"ticks\": \"\"}}, \"type\": \"scattercarpet\"}], \"scattergeo\": [{\"marker\": {\"colorbar\": {\"outlinewidth\": 0, \"ticks\": \"\"}}, \"type\": \"scattergeo\"}], \"scattergl\": [{\"marker\": {\"colorbar\": {\"outlinewidth\": 0, \"ticks\": \"\"}}, \"type\": \"scattergl\"}], \"scattermapbox\": [{\"marker\": {\"colorbar\": {\"outlinewidth\": 0, \"ticks\": \"\"}}, \"type\": \"scattermapbox\"}], \"scatterpolar\": [{\"marker\": {\"colorbar\": {\"outlinewidth\": 0, \"ticks\": \"\"}}, \"type\": \"scatterpolar\"}], \"scatterpolargl\": [{\"marker\": {\"colorbar\": {\"outlinewidth\": 0, \"ticks\": \"\"}}, \"type\": \"scatterpolargl\"}], \"scatterternary\": [{\"marker\": {\"colorbar\": {\"outlinewidth\": 0, \"ticks\": \"\"}}, \"type\": \"scatterternary\"}], \"surface\": [{\"colorbar\": {\"outlinewidth\": 0, \"ticks\": \"\"}, \"colorscale\": [[0.0, \"#0d0887\"], [0.1111111111111111, \"#46039f\"], [0.2222222222222222, \"#7201a8\"], [0.3333333333333333, \"#9c179e\"], [0.4444444444444444, \"#bd3786\"], [0.5555555555555556, \"#d8576b\"], [0.6666666666666666, \"#ed7953\"], [0.7777777777777778, \"#fb9f3a\"], [0.8888888888888888, \"#fdca26\"], [1.0, \"#f0f921\"]], \"type\": \"surface\"}], \"table\": [{\"cells\": {\"fill\": {\"color\": \"#EBF0F8\"}, \"line\": {\"color\": \"white\"}}, \"header\": {\"fill\": {\"color\": \"#C8D4E3\"}, \"line\": {\"color\": \"white\"}}, \"type\": \"table\"}]}, \"layout\": {\"annotationdefaults\": {\"arrowcolor\": \"#2a3f5f\", \"arrowhead\": 0, \"arrowwidth\": 1}, \"coloraxis\": {\"colorbar\": {\"outlinewidth\": 0, \"ticks\": \"\"}}, \"colorscale\": {\"diverging\": [[0, \"#8e0152\"], [0.1, \"#c51b7d\"], [0.2, \"#de77ae\"], [0.3, \"#f1b6da\"], [0.4, \"#fde0ef\"], [0.5, \"#f7f7f7\"], [0.6, \"#e6f5d0\"], [0.7, \"#b8e186\"], [0.8, \"#7fbc41\"], [0.9, \"#4d9221\"], [1, \"#276419\"]], \"sequential\": [[0.0, \"#0d0887\"], [0.1111111111111111, \"#46039f\"], [0.2222222222222222, \"#7201a8\"], [0.3333333333333333, \"#9c179e\"], [0.4444444444444444, \"#bd3786\"], [0.5555555555555556, \"#d8576b\"], [0.6666666666666666, \"#ed7953\"], [0.7777777777777778, \"#fb9f3a\"], [0.8888888888888888, \"#fdca26\"], [1.0, \"#f0f921\"]], \"sequentialminus\": [[0.0, \"#0d0887\"], [0.1111111111111111, \"#46039f\"], [0.2222222222222222, \"#7201a8\"], [0.3333333333333333, \"#9c179e\"], [0.4444444444444444, \"#bd3786\"], [0.5555555555555556, \"#d8576b\"], [0.6666666666666666, \"#ed7953\"], [0.7777777777777778, \"#fb9f3a\"], [0.8888888888888888, \"#fdca26\"], [1.0, \"#f0f921\"]]}, \"colorway\": [\"#636efa\", \"#EF553B\", \"#00cc96\", \"#ab63fa\", \"#FFA15A\", \"#19d3f3\", \"#FF6692\", \"#B6E880\", \"#FF97FF\", \"#FECB52\"], \"font\": {\"color\": \"#2a3f5f\"}, \"geo\": {\"bgcolor\": \"white\", \"lakecolor\": \"white\", \"landcolor\": \"#E5ECF6\", \"showlakes\": true, \"showland\": true, \"subunitcolor\": \"white\"}, \"hoverlabel\": {\"align\": \"left\"}, \"hovermode\": \"closest\", \"mapbox\": {\"style\": \"light\"}, \"paper_bgcolor\": \"white\", \"plot_bgcolor\": \"#E5ECF6\", \"polar\": {\"angularaxis\": {\"gridcolor\": \"white\", \"linecolor\": \"white\", \"ticks\": \"\"}, \"bgcolor\": \"#E5ECF6\", \"radialaxis\": {\"gridcolor\": \"white\", \"linecolor\": \"white\", \"ticks\": \"\"}}, \"scene\": {\"xaxis\": {\"backgroundcolor\": \"#E5ECF6\", \"gridcolor\": \"white\", \"gridwidth\": 2, \"linecolor\": \"white\", \"showbackground\": true, \"ticks\": \"\", \"zerolinecolor\": \"white\"}, \"yaxis\": {\"backgroundcolor\": \"#E5ECF6\", \"gridcolor\": \"white\", \"gridwidth\": 2, \"linecolor\": \"white\", \"showbackground\": true, \"ticks\": \"\", \"zerolinecolor\": \"white\"}, \"zaxis\": {\"backgroundcolor\": \"#E5ECF6\", \"gridcolor\": \"white\", \"gridwidth\": 2, \"linecolor\": \"white\", \"showbackground\": true, \"ticks\": \"\", \"zerolinecolor\": \"white\"}}, \"shapedefaults\": {\"line\": {\"color\": \"#2a3f5f\"}}, \"ternary\": {\"aaxis\": {\"gridcolor\": \"white\", \"linecolor\": \"white\", \"ticks\": \"\"}, \"baxis\": {\"gridcolor\": \"white\", \"linecolor\": \"white\", \"ticks\": \"\"}, \"bgcolor\": \"#E5ECF6\", \"caxis\": {\"gridcolor\": \"white\", \"linecolor\": \"white\", \"ticks\": \"\"}}, \"title\": {\"x\": 0.05}, \"xaxis\": {\"automargin\": true, \"gridcolor\": \"white\", \"linecolor\": \"white\", \"ticks\": \"\", \"title\": {\"standoff\": 15}, \"zerolinecolor\": \"white\", \"zerolinewidth\": 2}, \"yaxis\": {\"automargin\": true, \"gridcolor\": \"white\", \"linecolor\": \"white\", \"ticks\": \"\", \"title\": {\"standoff\": 15}, \"zerolinecolor\": \"white\", \"zerolinewidth\": 2}}}, \"title\": {\"text\": \"Gender-wise distribution\"}, \"xaxis\": {\"anchor\": \"y\", \"domain\": [0.0, 1.0], \"title\": {\"text\": \"x\"}}, \"yaxis\": {\"anchor\": \"x\", \"domain\": [0.0, 1.0], \"title\": {\"text\": \"y\"}}},\n",
              "                        {\"responsive\": true}\n",
              "                    ).then(function(){\n",
              "                            \n",
              "var gd = document.getElementById('092e446a-0a2f-4861-9ec9-790a113ad148');\n",
              "var x = new MutationObserver(function (mutations, observer) {{\n",
              "        var display = window.getComputedStyle(gd).display;\n",
              "        if (!display || display === 'none') {{\n",
              "            console.log([gd, 'removed!']);\n",
              "            Plotly.purge(gd);\n",
              "            observer.disconnect();\n",
              "        }}\n",
              "}});\n",
              "\n",
              "// Listen for the removal of the full notebook cells\n",
              "var notebookContainer = gd.closest('#notebook-container');\n",
              "if (notebookContainer) {{\n",
              "    x.observe(notebookContainer, {childList: true});\n",
              "}}\n",
              "\n",
              "// Listen for the clearing of the current output cell\n",
              "var outputEl = gd.closest('.output');\n",
              "if (outputEl) {{\n",
              "    x.observe(outputEl, {childList: true});\n",
              "}}\n",
              "\n",
              "                        })\n",
              "                };\n",
              "                \n",
              "            </script>\n",
              "        </div>\n",
              "</body>\n",
              "</html>"
            ]
          },
          "metadata": {}
        }
      ]
    },
    {
      "cell_type": "code",
      "source": [
        "px.bar(dataset, x='age', color='gender', color_discrete_sequence=px.colors.sequential.Blues_r,barmode='group')"
      ],
      "metadata": {
        "colab": {
          "base_uri": "https://localhost:8080/",
          "height": 542
        },
        "id": "AXStrw_jXBtr",
        "outputId": "c1cf8886-099f-4092-a8d2-39d94e94fc22"
      },
      "execution_count": null,
      "outputs": [
        {
          "output_type": "display_data",
          "data": {
            "text/html": [
              "<html>\n",
              "<head><meta charset=\"utf-8\" /></head>\n",
              "<body>\n",
              "    <div>\n",
              "            <script src=\"https://cdnjs.cloudflare.com/ajax/libs/mathjax/2.7.5/MathJax.js?config=TeX-AMS-MML_SVG\"></script><script type=\"text/javascript\">if (window.MathJax) {MathJax.Hub.Config({SVG: {font: \"STIX-Web\"}});}</script>\n",
              "                <script type=\"text/javascript\">window.PlotlyConfig = {MathJaxConfig: 'local'};</script>\n",
              "        <script src=\"https://cdn.plot.ly/plotly-latest.min.js\"></script>    \n",
              "            <div id=\"445eab19-cdba-4f28-8d96-c6873cdb87e6\" class=\"plotly-graph-div\" style=\"height:525px; width:100%;\"></div>\n",
              "            <script type=\"text/javascript\">\n",
              "                \n",
              "                    window.PLOTLYENV=window.PLOTLYENV || {};\n",
              "                    \n",
              "                if (document.getElementById(\"445eab19-cdba-4f28-8d96-c6873cdb87e6\")) {\n",
              "                    Plotly.newPlot(\n",
              "                        '445eab19-cdba-4f28-8d96-c6873cdb87e6',\n",
              "                        [{\"alignmentgroup\": \"True\", \"hoverlabel\": {\"namelength\": 0}, \"hovertemplate\": \"gender=M<br>age=%{x}\", \"legendgroup\": \"gender=M\", \"marker\": {\"color\": \"rgb(8,48,107)\"}, \"name\": \"gender=M\", \"offsetgroup\": \"gender=M\", \"orientation\": \"v\", \"showlegend\": true, \"textposition\": \"auto\", \"type\": \"bar\", \"x\": [\"30-34\", \"30-34\", \"30-34\", \"30-34\", \"30-34\", \"30-34\", \"30-34\", \"30-34\", \"30-34\", \"30-34\", \"30-34\", \"30-34\", \"30-34\", \"30-34\", \"30-34\", \"30-34\", \"30-34\", \"30-34\", \"35-39\", \"35-39\", \"35-39\", \"35-39\", \"35-39\", \"35-39\", \"35-39\", \"35-39\", \"35-39\", \"40-44\", \"40-44\", \"40-44\", \"40-44\", \"40-44\", \"45-49\", \"45-49\", \"45-49\", \"30-34\", \"30-34\", \"30-34\", \"30-34\", \"30-34\", \"30-34\", \"30-34\", \"30-34\", \"30-34\", \"35-39\", \"35-39\", \"35-39\", \"35-39\", \"35-39\", \"35-39\", \"35-39\", \"35-39\", \"40-44\", \"40-44\", \"45-49\", \"45-49\", \"45-49\", \"45-49\", \"30-34\", \"30-34\", \"30-34\", \"30-34\", \"30-34\", \"30-34\", \"30-34\", \"35-39\", \"35-39\", \"35-39\", \"40-44\", \"40-44\", \"45-49\", \"45-49\", \"45-49\", \"45-49\", \"45-49\", \"30-34\", \"30-34\", \"30-34\", \"30-34\", \"30-34\", \"30-34\", \"30-34\", \"35-39\", \"35-39\", \"35-39\", \"35-39\", \"35-39\", \"35-39\", \"40-44\", \"40-44\", \"45-49\", \"45-49\", \"45-49\", \"45-49\", \"45-49\", \"30-34\", \"30-34\", \"30-34\", \"30-34\", \"30-34\", \"30-34\", \"45-49\", \"45-49\", \"40-44\", \"30-34\", \"30-34\", \"30-34\", \"30-34\", \"30-34\", \"30-34\", \"40-44\", \"40-44\", \"40-44\", \"40-44\", \"30-34\", \"30-34\", \"30-34\", \"30-34\", \"30-34\", \"40-44\", \"40-44\", \"45-49\", \"45-49\", \"40-44\", \"45-49\", \"45-49\", \"45-49\", \"35-39\", \"45-49\", \"40-44\", \"35-39\", \"45-49\", \"45-49\", \"35-39\", \"35-39\", \"30-34\", \"40-44\", \"30-34\", \"30-34\", \"30-34\", \"30-34\", \"40-44\", \"40-44\", \"35-39\", \"45-49\", \"45-49\", \"40-44\", \"45-49\", \"45-49\", \"45-49\", \"40-44\", \"40-44\", \"40-44\", \"35-39\", \"30-34\", \"30-34\", \"40-44\", \"30-34\", \"30-34\", \"30-34\", \"35-39\", \"30-34\", \"30-34\", \"30-34\", \"35-39\", \"35-39\", \"30-34\", \"35-39\", \"30-34\", \"30-34\", \"40-44\", \"30-34\", \"30-34\", \"40-44\", \"30-34\", \"30-34\", \"30-34\", \"35-39\", \"30-34\", \"35-39\", \"30-34\", \"30-34\", \"40-44\", \"45-49\", \"45-49\", \"45-49\", \"45-49\", \"35-39\", \"35-39\", \"30-34\", \"35-39\", \"35-39\", \"35-39\", \"30-34\", \"30-34\", \"30-34\", \"30-34\", \"30-34\", \"30-34\", \"30-34\", \"30-34\", \"30-34\", \"30-34\", \"30-34\", \"30-34\", \"30-34\", \"30-34\", \"30-34\", \"30-34\", \"30-34\", \"30-34\", \"30-34\", \"30-34\", \"40-44\", \"35-39\", \"30-34\", \"45-49\", \"45-49\", \"45-49\", \"30-34\", \"45-49\", \"40-44\", \"30-34\", \"30-34\", \"30-34\", \"30-34\", \"30-34\", \"30-34\", \"30-34\", \"30-34\", \"30-34\", \"30-34\", \"35-39\", \"35-39\", \"35-39\", \"30-34\", \"35-39\", \"30-34\", \"40-44\", \"45-49\", \"45-49\", \"45-49\", \"35-39\", \"30-34\", \"30-34\", \"30-34\", \"30-34\", \"30-34\", \"30-34\", \"30-34\", \"30-34\", \"30-34\", \"30-34\", \"30-34\", \"30-34\", \"30-34\", \"30-34\", \"30-34\", \"30-34\", \"30-34\", \"30-34\", \"30-34\", \"30-34\", \"30-34\", \"30-34\", \"30-34\", \"30-34\", \"30-34\", \"30-34\", \"30-34\", \"30-34\", \"30-34\", \"30-34\", \"30-34\", \"30-34\", \"30-34\", \"30-34\", \"30-34\", \"30-34\", \"30-34\", \"30-34\", \"30-34\", \"30-34\", \"30-34\", \"30-34\", \"30-34\", \"30-34\", \"30-34\", \"30-34\", \"30-34\", \"30-34\", \"30-34\", \"30-34\", \"30-34\", \"30-34\", \"30-34\", \"30-34\", \"30-34\", \"30-34\", \"30-34\", \"30-34\", \"30-34\", \"30-34\", \"30-34\", \"30-34\", \"30-34\", \"30-34\", \"30-34\", \"30-34\", \"30-34\", \"30-34\", \"30-34\", \"30-34\", \"30-34\", \"30-34\", \"30-34\", \"30-34\", \"30-34\", \"30-34\", \"30-34\", \"30-34\", \"30-34\", \"30-34\", \"30-34\", \"30-34\", \"30-34\", \"30-34\", \"30-34\", \"30-34\", \"30-34\", \"30-34\", \"30-34\", \"30-34\", \"30-34\", \"30-34\", \"30-34\", \"30-34\", \"30-34\", \"30-34\", \"30-34\", \"30-34\", \"30-34\", \"30-34\", \"30-34\", \"30-34\", \"35-39\", \"35-39\", \"35-39\", \"35-39\", \"35-39\", \"35-39\", \"35-39\", \"35-39\", \"35-39\", \"35-39\", \"35-39\", \"35-39\", \"35-39\", \"35-39\", \"35-39\", \"35-39\", \"35-39\", \"35-39\", \"35-39\", \"35-39\", \"35-39\", \"35-39\", \"35-39\", \"35-39\", \"35-39\", \"35-39\", \"35-39\", \"35-39\", \"35-39\", \"35-39\", \"35-39\", \"35-39\", \"35-39\", \"35-39\", \"35-39\", \"35-39\", \"35-39\", \"35-39\", \"35-39\", \"35-39\", \"35-39\", \"35-39\", \"35-39\", \"35-39\", \"35-39\", \"35-39\", \"35-39\", \"35-39\", \"35-39\", \"35-39\", \"35-39\", \"35-39\", \"35-39\", \"35-39\", \"35-39\", \"35-39\", \"35-39\", \"35-39\", \"35-39\", \"35-39\", \"35-39\", \"35-39\", \"35-39\", \"35-39\", \"35-39\", \"35-39\", \"35-39\", \"35-39\", \"35-39\", \"35-39\", \"35-39\", \"35-39\", \"35-39\", \"35-39\", \"35-39\", \"35-39\", \"35-39\", \"35-39\", \"35-39\", \"40-44\", \"40-44\", \"40-44\", \"40-44\", \"40-44\", \"40-44\", \"40-44\", \"40-44\", \"40-44\", \"40-44\", \"40-44\", \"40-44\", \"40-44\", \"40-44\", \"40-44\", \"40-44\", \"40-44\", \"40-44\", \"40-44\", \"40-44\", \"40-44\", \"40-44\", \"40-44\", \"40-44\", \"40-44\", \"40-44\", \"40-44\", \"40-44\", \"40-44\", \"40-44\", \"40-44\", \"40-44\", \"40-44\", \"40-44\", \"40-44\", \"40-44\", \"40-44\", \"40-44\", \"40-44\", \"40-44\", \"40-44\", \"40-44\", \"40-44\", \"40-44\", \"40-44\", \"40-44\", \"40-44\", \"40-44\", \"40-44\", \"40-44\", \"40-44\", \"40-44\", \"40-44\", \"40-44\", \"40-44\", \"40-44\", \"40-44\", \"40-44\", \"45-49\", \"45-49\", \"45-49\", \"45-49\", \"45-49\", \"45-49\", \"45-49\", \"45-49\", \"45-49\", \"45-49\", \"45-49\", \"45-49\", \"45-49\", \"45-49\", \"45-49\", \"45-49\", \"45-49\", \"45-49\", \"45-49\", \"45-49\", \"45-49\", \"45-49\", \"45-49\", \"45-49\", \"45-49\", \"45-49\", \"45-49\", \"45-49\", \"45-49\", \"45-49\", \"45-49\", \"45-49\", \"45-49\", \"45-49\", \"45-49\", \"45-49\", \"45-49\", \"45-49\", \"45-49\", \"45-49\", \"45-49\", \"45-49\", \"45-49\", \"45-49\", \"45-49\", \"45-49\", \"45-49\", \"45-49\", \"45-49\", \"45-49\", \"45-49\", \"45-49\", \"45-49\", \"45-49\", \"45-49\", \"45-49\", \"45-49\", \"45-49\", \"45-49\", \"45-49\", \"45-49\", \"45-49\", \"45-49\", \"45-49\", \"45-49\", \"45-49\", \"45-49\", \"30-34\", \"30-34\", \"30-34\", \"30-34\", \"30-34\", \"30-34\", \"30-34\", \"30-34\", \"30-34\", \"30-34\", \"35-39\", \"35-39\", \"35-39\", \"35-39\", \"35-39\", \"35-39\", \"35-39\", \"35-39\", \"35-39\", \"35-39\", \"35-39\", \"40-44\", \"40-44\", \"40-44\", \"40-44\", \"40-44\", \"40-44\", \"40-44\", \"40-44\", \"40-44\", \"40-44\", \"40-44\", \"45-49\", \"45-49\", \"45-49\", \"45-49\", \"45-49\", \"45-49\", \"45-49\", \"45-49\", \"45-49\", \"45-49\", \"45-49\"], \"xaxis\": \"x\", \"yaxis\": \"y\"}, {\"alignmentgroup\": \"True\", \"hoverlabel\": {\"namelength\": 0}, \"hovertemplate\": \"gender=F<br>age=%{x}\", \"legendgroup\": \"gender=F\", \"marker\": {\"color\": \"rgb(8,81,156)\"}, \"name\": \"gender=F\", \"offsetgroup\": \"gender=F\", \"orientation\": \"v\", \"showlegend\": true, \"textposition\": \"auto\", \"type\": \"bar\", \"x\": [\"30-34\", \"30-34\", \"30-34\", \"30-34\", \"30-34\", \"30-34\", \"30-34\", \"30-34\", \"30-34\", \"30-34\", \"30-34\", \"35-39\", \"35-39\", \"35-39\", \"40-44\", \"45-49\", \"45-49\", \"45-49\", \"45-49\", \"30-34\", \"30-34\", \"30-34\", \"30-34\", \"30-34\", \"30-34\", \"30-34\", \"30-34\", \"30-34\", \"30-34\", \"30-34\", \"30-34\", \"35-39\", \"35-39\", \"35-39\", \"35-39\", \"35-39\", \"35-39\", \"35-39\", \"35-39\", \"35-39\", \"40-44\", \"40-44\", \"40-44\", \"40-44\", \"40-44\", \"40-44\", \"40-44\", \"45-49\", \"45-49\", \"45-49\", \"45-49\", \"45-49\", \"45-49\", \"45-49\", \"30-34\", \"30-34\", \"30-34\", \"30-34\", \"30-34\", \"30-34\", \"30-34\", \"35-39\", \"40-44\", \"40-44\", \"40-44\", \"40-44\", \"40-44\", \"40-44\", \"40-44\", \"40-44\", \"45-49\", \"45-49\", \"45-49\", \"45-49\", \"45-49\", \"45-49\", \"45-49\", \"30-34\", \"30-34\", \"30-34\", \"30-34\", \"30-34\", \"30-34\", \"30-34\", \"30-34\", \"30-34\", \"30-34\", \"30-34\", \"30-34\", \"35-39\", \"35-39\", \"35-39\", \"35-39\", \"35-39\", \"35-39\", \"40-44\", \"40-44\", \"40-44\", \"40-44\", \"45-49\", \"45-49\", \"45-49\", \"45-49\", \"45-49\", \"45-49\", \"45-49\", \"45-49\", \"45-49\", \"45-49\", \"45-49\", \"45-49\", \"45-49\", \"45-49\", \"45-49\", \"45-49\", \"45-49\", \"40-44\", \"45-49\", \"45-49\", \"45-49\", \"45-49\", \"45-49\", \"45-49\", \"45-49\", \"45-49\", \"45-49\", \"45-49\", \"45-49\", \"30-34\", \"30-34\", \"30-34\", \"30-34\", \"30-34\", \"30-34\", \"30-34\", \"30-34\", \"40-44\", \"40-44\", \"40-44\", \"40-44\", \"40-44\", \"40-44\", \"40-44\", \"35-39\", \"35-39\", \"35-39\", \"35-39\", \"30-34\", \"35-39\", \"35-39\", \"35-39\", \"30-34\", \"35-39\", \"30-34\", \"30-34\", \"30-34\", \"30-34\", \"30-34\", \"30-34\", \"30-34\", \"30-34\", \"30-34\", \"30-34\", \"30-34\", \"30-34\", \"35-39\", \"45-49\", \"45-49\", \"30-34\", \"30-34\", \"30-34\", \"30-34\", \"30-34\", \"30-34\", \"45-49\", \"30-34\", \"30-34\", \"30-34\", \"45-49\", \"45-49\", \"30-34\", \"30-34\", \"30-34\", \"45-49\", \"45-49\", \"30-34\", \"40-44\", \"40-44\", \"40-44\", \"40-44\", \"40-44\", \"40-44\", \"40-44\", \"35-39\", \"35-39\", \"35-39\", \"35-39\", \"35-39\", \"35-39\", \"35-39\", \"30-34\", \"30-34\", \"30-34\", \"45-49\", \"35-39\", \"45-49\", \"30-34\", \"30-34\", \"30-34\", \"30-34\", \"30-34\", \"30-34\", \"30-34\", \"40-44\", \"30-34\", \"30-34\", \"45-49\", \"45-49\", \"40-44\", \"40-44\", \"40-44\", \"35-39\", \"35-39\", \"35-39\", \"40-44\", \"40-44\", \"35-39\", \"30-34\", \"30-34\", \"30-34\", \"30-34\", \"30-34\", \"30-34\", \"45-49\", \"35-39\", \"35-39\", \"35-39\", \"35-39\", \"35-39\", \"35-39\", \"30-34\", \"30-34\", \"30-34\", \"45-49\", \"30-34\", \"30-34\", \"30-34\", \"30-34\", \"30-34\", \"45-49\", \"45-49\", \"45-49\", \"45-49\", \"30-34\", \"40-44\", \"40-44\", \"40-44\", \"40-44\", \"35-39\", \"35-39\", \"45-49\", \"35-39\", \"45-49\", \"45-49\", \"35-39\", \"35-39\", \"45-49\", \"30-34\", \"30-34\", \"30-34\", \"30-34\", \"45-49\", \"40-44\", \"40-44\", \"35-39\", \"30-34\", \"30-34\", \"30-34\", \"30-34\", \"30-34\", \"30-34\", \"30-34\", \"30-34\", \"30-34\", \"30-34\", \"30-34\", \"30-34\", \"30-34\", \"30-34\", \"30-34\", \"30-34\", \"30-34\", \"30-34\", \"30-34\", \"30-34\", \"30-34\", \"30-34\", \"30-34\", \"30-34\", \"30-34\", \"30-34\", \"30-34\", \"30-34\", \"30-34\", \"30-34\", \"30-34\", \"30-34\", \"30-34\", \"30-34\", \"30-34\", \"30-34\", \"30-34\", \"30-34\", \"30-34\", \"30-34\", \"30-34\", \"30-34\", \"30-34\", \"30-34\", \"30-34\", \"30-34\", \"30-34\", \"30-34\", \"30-34\", \"30-34\", \"30-34\", \"30-34\", \"30-34\", \"30-34\", \"30-34\", \"30-34\", \"30-34\", \"30-34\", \"30-34\", \"30-34\", \"30-34\", \"30-34\", \"30-34\", \"30-34\", \"30-34\", \"30-34\", \"30-34\", \"30-34\", \"30-34\", \"30-34\", \"30-34\", \"30-34\", \"30-34\", \"30-34\", \"30-34\", \"30-34\", \"30-34\", \"35-39\", \"35-39\", \"35-39\", \"35-39\", \"35-39\", \"35-39\", \"35-39\", \"35-39\", \"35-39\", \"35-39\", \"35-39\", \"35-39\", \"35-39\", \"35-39\", \"35-39\", \"35-39\", \"35-39\", \"35-39\", \"35-39\", \"35-39\", \"35-39\", \"35-39\", \"35-39\", \"35-39\", \"35-39\", \"35-39\", \"35-39\", \"35-39\", \"35-39\", \"35-39\", \"35-39\", \"35-39\", \"35-39\", \"35-39\", \"35-39\", \"35-39\", \"35-39\", \"35-39\", \"35-39\", \"35-39\", \"35-39\", \"35-39\", \"35-39\", \"35-39\", \"35-39\", \"40-44\", \"40-44\", \"40-44\", \"40-44\", \"40-44\", \"40-44\", \"40-44\", \"40-44\", \"40-44\", \"40-44\", \"40-44\", \"40-44\", \"40-44\", \"40-44\", \"40-44\", \"40-44\", \"40-44\", \"40-44\", \"40-44\", \"40-44\", \"40-44\", \"40-44\", \"40-44\", \"40-44\", \"40-44\", \"40-44\", \"40-44\", \"40-44\", \"40-44\", \"40-44\", \"40-44\", \"40-44\", \"40-44\", \"40-44\", \"40-44\", \"40-44\", \"40-44\", \"40-44\", \"40-44\", \"40-44\", \"40-44\", \"40-44\", \"40-44\", \"40-44\", \"40-44\", \"40-44\", \"45-49\", \"45-49\", \"45-49\", \"45-49\", \"45-49\", \"45-49\", \"45-49\", \"45-49\", \"45-49\", \"45-49\", \"45-49\", \"45-49\", \"45-49\", \"45-49\", \"45-49\", \"45-49\", \"45-49\", \"45-49\", \"45-49\", \"45-49\", \"45-49\", \"45-49\", \"45-49\", \"45-49\", \"45-49\", \"45-49\", \"45-49\", \"45-49\", \"45-49\", \"45-49\", \"45-49\", \"45-49\", \"45-49\", \"45-49\", \"45-49\", \"45-49\", \"45-49\", \"45-49\", \"45-49\", \"45-49\", \"45-49\", \"45-49\", \"45-49\", \"45-49\", \"45-49\", \"45-49\", \"45-49\", \"45-49\", \"45-49\", \"45-49\", \"45-49\", \"45-49\", \"45-49\", \"45-49\", \"45-49\", \"45-49\", \"30-34\", \"30-34\", \"30-34\", \"30-34\", \"30-34\", \"30-34\", \"30-34\", \"30-34\", \"30-34\", \"30-34\", \"30-34\", \"30-34\", \"35-39\", \"35-39\", \"35-39\", \"35-39\", \"35-39\", \"35-39\", \"35-39\", \"35-39\", \"35-39\", \"35-39\", \"35-39\", \"35-39\", \"40-44\", \"40-44\", \"40-44\", \"40-44\", \"40-44\", \"40-44\", \"40-44\", \"40-44\", \"40-44\", \"40-44\", \"40-44\", \"40-44\", \"40-44\", \"40-44\", \"45-49\", \"45-49\", \"45-49\", \"45-49\", \"45-49\", \"45-49\", \"45-49\", \"45-49\", \"45-49\", \"45-49\", \"45-49\", \"45-49\", \"45-49\", \"45-49\"], \"xaxis\": \"x\", \"yaxis\": \"y\"}],\n",
              "                        {\"barmode\": \"group\", \"legend\": {\"tracegroupgap\": 0}, \"margin\": {\"t\": 60}, \"template\": {\"data\": {\"bar\": [{\"error_x\": {\"color\": \"#2a3f5f\"}, \"error_y\": {\"color\": \"#2a3f5f\"}, \"marker\": {\"line\": {\"color\": \"#E5ECF6\", \"width\": 0.5}}, \"type\": \"bar\"}], \"barpolar\": [{\"marker\": {\"line\": {\"color\": \"#E5ECF6\", \"width\": 0.5}}, \"type\": \"barpolar\"}], \"carpet\": [{\"aaxis\": {\"endlinecolor\": \"#2a3f5f\", \"gridcolor\": \"white\", \"linecolor\": \"white\", \"minorgridcolor\": \"white\", \"startlinecolor\": \"#2a3f5f\"}, \"baxis\": {\"endlinecolor\": \"#2a3f5f\", \"gridcolor\": \"white\", \"linecolor\": \"white\", \"minorgridcolor\": \"white\", \"startlinecolor\": \"#2a3f5f\"}, \"type\": \"carpet\"}], \"choropleth\": [{\"colorbar\": {\"outlinewidth\": 0, \"ticks\": \"\"}, \"type\": \"choropleth\"}], \"contour\": [{\"colorbar\": {\"outlinewidth\": 0, \"ticks\": \"\"}, \"colorscale\": [[0.0, \"#0d0887\"], [0.1111111111111111, \"#46039f\"], [0.2222222222222222, \"#7201a8\"], [0.3333333333333333, \"#9c179e\"], [0.4444444444444444, \"#bd3786\"], [0.5555555555555556, \"#d8576b\"], [0.6666666666666666, \"#ed7953\"], [0.7777777777777778, \"#fb9f3a\"], [0.8888888888888888, \"#fdca26\"], [1.0, \"#f0f921\"]], \"type\": \"contour\"}], \"contourcarpet\": [{\"colorbar\": {\"outlinewidth\": 0, \"ticks\": \"\"}, \"type\": \"contourcarpet\"}], \"heatmap\": [{\"colorbar\": {\"outlinewidth\": 0, \"ticks\": \"\"}, \"colorscale\": [[0.0, \"#0d0887\"], [0.1111111111111111, \"#46039f\"], [0.2222222222222222, \"#7201a8\"], [0.3333333333333333, \"#9c179e\"], [0.4444444444444444, \"#bd3786\"], [0.5555555555555556, \"#d8576b\"], [0.6666666666666666, \"#ed7953\"], [0.7777777777777778, \"#fb9f3a\"], [0.8888888888888888, \"#fdca26\"], [1.0, \"#f0f921\"]], \"type\": \"heatmap\"}], \"heatmapgl\": [{\"colorbar\": {\"outlinewidth\": 0, \"ticks\": \"\"}, \"colorscale\": [[0.0, \"#0d0887\"], [0.1111111111111111, \"#46039f\"], [0.2222222222222222, \"#7201a8\"], [0.3333333333333333, \"#9c179e\"], [0.4444444444444444, \"#bd3786\"], [0.5555555555555556, \"#d8576b\"], [0.6666666666666666, \"#ed7953\"], [0.7777777777777778, \"#fb9f3a\"], [0.8888888888888888, \"#fdca26\"], [1.0, \"#f0f921\"]], \"type\": \"heatmapgl\"}], \"histogram\": [{\"marker\": {\"colorbar\": {\"outlinewidth\": 0, \"ticks\": \"\"}}, \"type\": \"histogram\"}], \"histogram2d\": [{\"colorbar\": {\"outlinewidth\": 0, \"ticks\": \"\"}, \"colorscale\": [[0.0, \"#0d0887\"], [0.1111111111111111, \"#46039f\"], [0.2222222222222222, \"#7201a8\"], [0.3333333333333333, \"#9c179e\"], [0.4444444444444444, \"#bd3786\"], [0.5555555555555556, \"#d8576b\"], [0.6666666666666666, \"#ed7953\"], [0.7777777777777778, \"#fb9f3a\"], [0.8888888888888888, \"#fdca26\"], [1.0, \"#f0f921\"]], \"type\": \"histogram2d\"}], \"histogram2dcontour\": [{\"colorbar\": {\"outlinewidth\": 0, \"ticks\": \"\"}, \"colorscale\": [[0.0, \"#0d0887\"], [0.1111111111111111, \"#46039f\"], [0.2222222222222222, \"#7201a8\"], [0.3333333333333333, \"#9c179e\"], [0.4444444444444444, \"#bd3786\"], [0.5555555555555556, \"#d8576b\"], [0.6666666666666666, \"#ed7953\"], [0.7777777777777778, \"#fb9f3a\"], [0.8888888888888888, \"#fdca26\"], [1.0, \"#f0f921\"]], \"type\": \"histogram2dcontour\"}], \"mesh3d\": [{\"colorbar\": {\"outlinewidth\": 0, \"ticks\": \"\"}, \"type\": \"mesh3d\"}], \"parcoords\": [{\"line\": {\"colorbar\": {\"outlinewidth\": 0, \"ticks\": \"\"}}, \"type\": \"parcoords\"}], \"pie\": [{\"automargin\": true, \"type\": \"pie\"}], \"scatter\": [{\"marker\": {\"colorbar\": {\"outlinewidth\": 0, \"ticks\": \"\"}}, \"type\": \"scatter\"}], \"scatter3d\": [{\"line\": {\"colorbar\": {\"outlinewidth\": 0, \"ticks\": \"\"}}, \"marker\": {\"colorbar\": {\"outlinewidth\": 0, \"ticks\": \"\"}}, \"type\": \"scatter3d\"}], \"scattercarpet\": [{\"marker\": {\"colorbar\": {\"outlinewidth\": 0, \"ticks\": \"\"}}, \"type\": \"scattercarpet\"}], \"scattergeo\": [{\"marker\": {\"colorbar\": {\"outlinewidth\": 0, \"ticks\": \"\"}}, \"type\": \"scattergeo\"}], \"scattergl\": [{\"marker\": {\"colorbar\": {\"outlinewidth\": 0, \"ticks\": \"\"}}, \"type\": \"scattergl\"}], \"scattermapbox\": [{\"marker\": {\"colorbar\": {\"outlinewidth\": 0, \"ticks\": \"\"}}, \"type\": \"scattermapbox\"}], \"scatterpolar\": [{\"marker\": {\"colorbar\": {\"outlinewidth\": 0, \"ticks\": \"\"}}, \"type\": \"scatterpolar\"}], \"scatterpolargl\": [{\"marker\": {\"colorbar\": {\"outlinewidth\": 0, \"ticks\": \"\"}}, \"type\": \"scatterpolargl\"}], \"scatterternary\": [{\"marker\": {\"colorbar\": {\"outlinewidth\": 0, \"ticks\": \"\"}}, \"type\": \"scatterternary\"}], \"surface\": [{\"colorbar\": {\"outlinewidth\": 0, \"ticks\": \"\"}, \"colorscale\": [[0.0, \"#0d0887\"], [0.1111111111111111, \"#46039f\"], [0.2222222222222222, \"#7201a8\"], [0.3333333333333333, \"#9c179e\"], [0.4444444444444444, \"#bd3786\"], [0.5555555555555556, \"#d8576b\"], [0.6666666666666666, \"#ed7953\"], [0.7777777777777778, \"#fb9f3a\"], [0.8888888888888888, \"#fdca26\"], [1.0, \"#f0f921\"]], \"type\": \"surface\"}], \"table\": [{\"cells\": {\"fill\": {\"color\": \"#EBF0F8\"}, \"line\": {\"color\": \"white\"}}, \"header\": {\"fill\": {\"color\": \"#C8D4E3\"}, \"line\": {\"color\": \"white\"}}, \"type\": \"table\"}]}, \"layout\": {\"annotationdefaults\": {\"arrowcolor\": \"#2a3f5f\", \"arrowhead\": 0, \"arrowwidth\": 1}, \"coloraxis\": {\"colorbar\": {\"outlinewidth\": 0, \"ticks\": \"\"}}, \"colorscale\": {\"diverging\": [[0, \"#8e0152\"], [0.1, \"#c51b7d\"], [0.2, \"#de77ae\"], [0.3, \"#f1b6da\"], [0.4, \"#fde0ef\"], [0.5, \"#f7f7f7\"], [0.6, \"#e6f5d0\"], [0.7, \"#b8e186\"], [0.8, \"#7fbc41\"], [0.9, \"#4d9221\"], [1, \"#276419\"]], \"sequential\": [[0.0, \"#0d0887\"], [0.1111111111111111, \"#46039f\"], [0.2222222222222222, \"#7201a8\"], [0.3333333333333333, \"#9c179e\"], [0.4444444444444444, \"#bd3786\"], [0.5555555555555556, \"#d8576b\"], [0.6666666666666666, \"#ed7953\"], [0.7777777777777778, \"#fb9f3a\"], [0.8888888888888888, \"#fdca26\"], [1.0, \"#f0f921\"]], \"sequentialminus\": [[0.0, \"#0d0887\"], [0.1111111111111111, \"#46039f\"], [0.2222222222222222, \"#7201a8\"], [0.3333333333333333, \"#9c179e\"], [0.4444444444444444, \"#bd3786\"], [0.5555555555555556, \"#d8576b\"], [0.6666666666666666, \"#ed7953\"], [0.7777777777777778, \"#fb9f3a\"], [0.8888888888888888, \"#fdca26\"], [1.0, \"#f0f921\"]]}, \"colorway\": [\"#636efa\", \"#EF553B\", \"#00cc96\", \"#ab63fa\", \"#FFA15A\", \"#19d3f3\", \"#FF6692\", \"#B6E880\", \"#FF97FF\", \"#FECB52\"], \"font\": {\"color\": \"#2a3f5f\"}, \"geo\": {\"bgcolor\": \"white\", \"lakecolor\": \"white\", \"landcolor\": \"#E5ECF6\", \"showlakes\": true, \"showland\": true, \"subunitcolor\": \"white\"}, \"hoverlabel\": {\"align\": \"left\"}, \"hovermode\": \"closest\", \"mapbox\": {\"style\": \"light\"}, \"paper_bgcolor\": \"white\", \"plot_bgcolor\": \"#E5ECF6\", \"polar\": {\"angularaxis\": {\"gridcolor\": \"white\", \"linecolor\": \"white\", \"ticks\": \"\"}, \"bgcolor\": \"#E5ECF6\", \"radialaxis\": {\"gridcolor\": \"white\", \"linecolor\": \"white\", \"ticks\": \"\"}}, \"scene\": {\"xaxis\": {\"backgroundcolor\": \"#E5ECF6\", \"gridcolor\": \"white\", \"gridwidth\": 2, \"linecolor\": \"white\", \"showbackground\": true, \"ticks\": \"\", \"zerolinecolor\": \"white\"}, \"yaxis\": {\"backgroundcolor\": \"#E5ECF6\", \"gridcolor\": \"white\", \"gridwidth\": 2, \"linecolor\": \"white\", \"showbackground\": true, \"ticks\": \"\", \"zerolinecolor\": \"white\"}, \"zaxis\": {\"backgroundcolor\": \"#E5ECF6\", \"gridcolor\": \"white\", \"gridwidth\": 2, \"linecolor\": \"white\", \"showbackground\": true, \"ticks\": \"\", \"zerolinecolor\": \"white\"}}, \"shapedefaults\": {\"line\": {\"color\": \"#2a3f5f\"}}, \"ternary\": {\"aaxis\": {\"gridcolor\": \"white\", \"linecolor\": \"white\", \"ticks\": \"\"}, \"baxis\": {\"gridcolor\": \"white\", \"linecolor\": \"white\", \"ticks\": \"\"}, \"bgcolor\": \"#E5ECF6\", \"caxis\": {\"gridcolor\": \"white\", \"linecolor\": \"white\", \"ticks\": \"\"}}, \"title\": {\"x\": 0.05}, \"xaxis\": {\"automargin\": true, \"gridcolor\": \"white\", \"linecolor\": \"white\", \"ticks\": \"\", \"title\": {\"standoff\": 15}, \"zerolinecolor\": \"white\", \"zerolinewidth\": 2}, \"yaxis\": {\"automargin\": true, \"gridcolor\": \"white\", \"linecolor\": \"white\", \"ticks\": \"\", \"title\": {\"standoff\": 15}, \"zerolinecolor\": \"white\", \"zerolinewidth\": 2}}}, \"xaxis\": {\"anchor\": \"y\", \"domain\": [0.0, 1.0], \"title\": {\"text\": \"age\"}}, \"yaxis\": {\"anchor\": \"x\", \"domain\": [0.0, 1.0]}},\n",
              "                        {\"responsive\": true}\n",
              "                    ).then(function(){\n",
              "                            \n",
              "var gd = document.getElementById('445eab19-cdba-4f28-8d96-c6873cdb87e6');\n",
              "var x = new MutationObserver(function (mutations, observer) {{\n",
              "        var display = window.getComputedStyle(gd).display;\n",
              "        if (!display || display === 'none') {{\n",
              "            console.log([gd, 'removed!']);\n",
              "            Plotly.purge(gd);\n",
              "            observer.disconnect();\n",
              "        }}\n",
              "}});\n",
              "\n",
              "// Listen for the removal of the full notebook cells\n",
              "var notebookContainer = gd.closest('#notebook-container');\n",
              "if (notebookContainer) {{\n",
              "    x.observe(notebookContainer, {childList: true});\n",
              "}}\n",
              "\n",
              "// Listen for the clearing of the current output cell\n",
              "var outputEl = gd.closest('.output');\n",
              "if (outputEl) {{\n",
              "    x.observe(outputEl, {childList: true});\n",
              "}}\n",
              "\n",
              "                        })\n",
              "                };\n",
              "                \n",
              "            </script>\n",
              "        </div>\n",
              "</body>\n",
              "</html>"
            ]
          },
          "metadata": {}
        }
      ]
    },
    {
      "cell_type": "markdown",
      "source": [
        "## Clicks"
      ],
      "metadata": {
        "id": "-YLxRwM9GbfO"
      }
    },
    {
      "cell_type": "code",
      "source": [
        "# Count of Clicks\n",
        "clicks=dataset['Clicks'].value_counts()\n",
        "px.bar(dataset, x=clicks.index, y=clicks,title='Count of Clicks',color_discrete_sequence=px.colors.sequential.Blues_r)"
      ],
      "metadata": {
        "id": "SAQ8y7tqcEug",
        "colab": {
          "base_uri": "https://localhost:8080/",
          "height": 542
        },
        "outputId": "05d1ae59-a2b1-4cba-d340-12fd938131d4"
      },
      "execution_count": null,
      "outputs": [
        {
          "output_type": "display_data",
          "data": {
            "text/html": [
              "<html>\n",
              "<head><meta charset=\"utf-8\" /></head>\n",
              "<body>\n",
              "    <div>\n",
              "            <script src=\"https://cdnjs.cloudflare.com/ajax/libs/mathjax/2.7.5/MathJax.js?config=TeX-AMS-MML_SVG\"></script><script type=\"text/javascript\">if (window.MathJax) {MathJax.Hub.Config({SVG: {font: \"STIX-Web\"}});}</script>\n",
              "                <script type=\"text/javascript\">window.PlotlyConfig = {MathJaxConfig: 'local'};</script>\n",
              "        <script src=\"https://cdn.plot.ly/plotly-latest.min.js\"></script>    \n",
              "            <div id=\"9ec4ddf6-9c45-4ee7-84e2-08554166447d\" class=\"plotly-graph-div\" style=\"height:525px; width:100%;\"></div>\n",
              "            <script type=\"text/javascript\">\n",
              "                \n",
              "                    window.PLOTLYENV=window.PLOTLYENV || {};\n",
              "                    \n",
              "                if (document.getElementById(\"9ec4ddf6-9c45-4ee7-84e2-08554166447d\")) {\n",
              "                    Plotly.newPlot(\n",
              "                        '9ec4ddf6-9c45-4ee7-84e2-08554166447d',\n",
              "                        [{\"alignmentgroup\": \"True\", \"hoverlabel\": {\"namelength\": 0}, \"hovertemplate\": \"x=%{x}<br>y=%{y}\", \"legendgroup\": \"\", \"marker\": {\"color\": \"rgb(8,48,107)\"}, \"name\": \"\", \"offsetgroup\": \"\", \"orientation\": \"v\", \"showlegend\": false, \"textposition\": \"auto\", \"type\": \"bar\", \"x\": [0, 1, 2, 3, 4, 5, 7, 6, 9, 20, 10, 11, 24, 8, 12, 25, 23, 13, 16, 15, 28, 19, 14, 43, 30, 21, 35, 26, 18, 33, 22, 38, 31, 34, 81, 53, 51, 49, 50, 27, 63, 55, 32, 41, 17, 86, 46, 114, 56, 77, 42, 40, 39, 80, 37, 36, 120, 48, 135, 125, 57, 66, 52, 91, 68, 29, 194, 72, 69, 75, 60, 147, 84, 82, 61, 65, 88, 76, 97, 83, 85, 100, 101, 89, 71, 107, 139, 233, 227, 206, 202, 172, 170, 164, 159, 152, 142, 138, 47, 128, 54, 123, 117, 113, 58, 59, 62, 45, 70, 67, 64, 44, 421, 73, 205, 223, 222, 221, 212, 211, 210, 198, 229, 197, 195, 190, 186, 183, 182, 224, 230, 78, 272, 353, 346, 340, 295, 282, 276, 268, 235, 266, 265, 258, 252, 247, 245, 179, 177, 168, 109, 124, 119, 118, 116, 111, 110, 105, 167, 103, 98, 367, 95, 90, 79, 127, 129, 130, 131, 134, 136, 137, 141, 145, 146, 149, 153, 160, 161, 162, 163, 166, 96], \"xaxis\": \"x\", \"y\": [207, 119, 70, 51, 34, 34, 29, 18, 17, 16, 16, 16, 14, 14, 14, 13, 13, 12, 12, 11, 11, 10, 10, 10, 9, 9, 9, 9, 8, 8, 8, 8, 6, 6, 5, 5, 5, 5, 5, 5, 5, 5, 4, 4, 4, 4, 4, 4, 4, 4, 4, 4, 4, 4, 4, 4, 4, 4, 3, 3, 3, 3, 3, 3, 3, 3, 3, 3, 3, 3, 3, 3, 3, 2, 2, 2, 2, 2, 2, 2, 2, 2, 2, 2, 2, 2, 2, 2, 2, 2, 2, 2, 2, 2, 2, 2, 2, 2, 2, 2, 2, 2, 2, 2, 2, 2, 1, 1, 1, 1, 1, 1, 1, 1, 1, 1, 1, 1, 1, 1, 1, 1, 1, 1, 1, 1, 1, 1, 1, 1, 1, 1, 1, 1, 1, 1, 1, 1, 1, 1, 1, 1, 1, 1, 1, 1, 1, 1, 1, 1, 1, 1, 1, 1, 1, 1, 1, 1, 1, 1, 1, 1, 1, 1, 1, 1, 1, 1, 1, 1, 1, 1, 1, 1, 1, 1, 1, 1, 1, 1, 1, 1, 1], \"yaxis\": \"y\"}],\n",
              "                        {\"barmode\": \"relative\", \"legend\": {\"tracegroupgap\": 0}, \"template\": {\"data\": {\"bar\": [{\"error_x\": {\"color\": \"#2a3f5f\"}, \"error_y\": {\"color\": \"#2a3f5f\"}, \"marker\": {\"line\": {\"color\": \"#E5ECF6\", \"width\": 0.5}}, \"type\": \"bar\"}], \"barpolar\": [{\"marker\": {\"line\": {\"color\": \"#E5ECF6\", \"width\": 0.5}}, \"type\": \"barpolar\"}], \"carpet\": [{\"aaxis\": {\"endlinecolor\": \"#2a3f5f\", \"gridcolor\": \"white\", \"linecolor\": \"white\", \"minorgridcolor\": \"white\", \"startlinecolor\": \"#2a3f5f\"}, \"baxis\": {\"endlinecolor\": \"#2a3f5f\", \"gridcolor\": \"white\", \"linecolor\": \"white\", \"minorgridcolor\": \"white\", \"startlinecolor\": \"#2a3f5f\"}, \"type\": \"carpet\"}], \"choropleth\": [{\"colorbar\": {\"outlinewidth\": 0, \"ticks\": \"\"}, \"type\": \"choropleth\"}], \"contour\": [{\"colorbar\": {\"outlinewidth\": 0, \"ticks\": \"\"}, \"colorscale\": [[0.0, \"#0d0887\"], [0.1111111111111111, \"#46039f\"], [0.2222222222222222, \"#7201a8\"], [0.3333333333333333, \"#9c179e\"], [0.4444444444444444, \"#bd3786\"], [0.5555555555555556, \"#d8576b\"], [0.6666666666666666, \"#ed7953\"], [0.7777777777777778, \"#fb9f3a\"], [0.8888888888888888, \"#fdca26\"], [1.0, \"#f0f921\"]], \"type\": \"contour\"}], \"contourcarpet\": [{\"colorbar\": {\"outlinewidth\": 0, \"ticks\": \"\"}, \"type\": \"contourcarpet\"}], \"heatmap\": [{\"colorbar\": {\"outlinewidth\": 0, \"ticks\": \"\"}, \"colorscale\": [[0.0, \"#0d0887\"], [0.1111111111111111, \"#46039f\"], [0.2222222222222222, \"#7201a8\"], [0.3333333333333333, \"#9c179e\"], [0.4444444444444444, \"#bd3786\"], [0.5555555555555556, \"#d8576b\"], [0.6666666666666666, \"#ed7953\"], [0.7777777777777778, \"#fb9f3a\"], [0.8888888888888888, \"#fdca26\"], [1.0, \"#f0f921\"]], \"type\": \"heatmap\"}], \"heatmapgl\": [{\"colorbar\": {\"outlinewidth\": 0, \"ticks\": \"\"}, \"colorscale\": [[0.0, \"#0d0887\"], [0.1111111111111111, \"#46039f\"], [0.2222222222222222, \"#7201a8\"], [0.3333333333333333, \"#9c179e\"], [0.4444444444444444, \"#bd3786\"], [0.5555555555555556, \"#d8576b\"], [0.6666666666666666, \"#ed7953\"], [0.7777777777777778, \"#fb9f3a\"], [0.8888888888888888, \"#fdca26\"], [1.0, \"#f0f921\"]], \"type\": \"heatmapgl\"}], \"histogram\": [{\"marker\": {\"colorbar\": {\"outlinewidth\": 0, \"ticks\": \"\"}}, \"type\": \"histogram\"}], \"histogram2d\": [{\"colorbar\": {\"outlinewidth\": 0, \"ticks\": \"\"}, \"colorscale\": [[0.0, \"#0d0887\"], [0.1111111111111111, \"#46039f\"], [0.2222222222222222, \"#7201a8\"], [0.3333333333333333, \"#9c179e\"], [0.4444444444444444, \"#bd3786\"], [0.5555555555555556, \"#d8576b\"], [0.6666666666666666, \"#ed7953\"], [0.7777777777777778, \"#fb9f3a\"], [0.8888888888888888, \"#fdca26\"], [1.0, \"#f0f921\"]], \"type\": \"histogram2d\"}], \"histogram2dcontour\": [{\"colorbar\": {\"outlinewidth\": 0, \"ticks\": \"\"}, \"colorscale\": [[0.0, \"#0d0887\"], [0.1111111111111111, \"#46039f\"], [0.2222222222222222, \"#7201a8\"], [0.3333333333333333, \"#9c179e\"], [0.4444444444444444, \"#bd3786\"], [0.5555555555555556, \"#d8576b\"], [0.6666666666666666, \"#ed7953\"], [0.7777777777777778, \"#fb9f3a\"], [0.8888888888888888, \"#fdca26\"], [1.0, \"#f0f921\"]], \"type\": \"histogram2dcontour\"}], \"mesh3d\": [{\"colorbar\": {\"outlinewidth\": 0, \"ticks\": \"\"}, \"type\": \"mesh3d\"}], \"parcoords\": [{\"line\": {\"colorbar\": {\"outlinewidth\": 0, \"ticks\": \"\"}}, \"type\": \"parcoords\"}], \"pie\": [{\"automargin\": true, \"type\": \"pie\"}], \"scatter\": [{\"marker\": {\"colorbar\": {\"outlinewidth\": 0, \"ticks\": \"\"}}, \"type\": \"scatter\"}], \"scatter3d\": [{\"line\": {\"colorbar\": {\"outlinewidth\": 0, \"ticks\": \"\"}}, \"marker\": {\"colorbar\": {\"outlinewidth\": 0, \"ticks\": \"\"}}, \"type\": \"scatter3d\"}], \"scattercarpet\": [{\"marker\": {\"colorbar\": {\"outlinewidth\": 0, \"ticks\": \"\"}}, \"type\": \"scattercarpet\"}], \"scattergeo\": [{\"marker\": {\"colorbar\": {\"outlinewidth\": 0, \"ticks\": \"\"}}, \"type\": \"scattergeo\"}], \"scattergl\": [{\"marker\": {\"colorbar\": {\"outlinewidth\": 0, \"ticks\": \"\"}}, \"type\": \"scattergl\"}], \"scattermapbox\": [{\"marker\": {\"colorbar\": {\"outlinewidth\": 0, \"ticks\": \"\"}}, \"type\": \"scattermapbox\"}], \"scatterpolar\": [{\"marker\": {\"colorbar\": {\"outlinewidth\": 0, \"ticks\": \"\"}}, \"type\": \"scatterpolar\"}], \"scatterpolargl\": [{\"marker\": {\"colorbar\": {\"outlinewidth\": 0, \"ticks\": \"\"}}, \"type\": \"scatterpolargl\"}], \"scatterternary\": [{\"marker\": {\"colorbar\": {\"outlinewidth\": 0, \"ticks\": \"\"}}, \"type\": \"scatterternary\"}], \"surface\": [{\"colorbar\": {\"outlinewidth\": 0, \"ticks\": \"\"}, \"colorscale\": [[0.0, \"#0d0887\"], [0.1111111111111111, \"#46039f\"], [0.2222222222222222, \"#7201a8\"], [0.3333333333333333, \"#9c179e\"], [0.4444444444444444, \"#bd3786\"], [0.5555555555555556, \"#d8576b\"], [0.6666666666666666, \"#ed7953\"], [0.7777777777777778, \"#fb9f3a\"], [0.8888888888888888, \"#fdca26\"], [1.0, \"#f0f921\"]], \"type\": \"surface\"}], \"table\": [{\"cells\": {\"fill\": {\"color\": \"#EBF0F8\"}, \"line\": {\"color\": \"white\"}}, \"header\": {\"fill\": {\"color\": \"#C8D4E3\"}, \"line\": {\"color\": \"white\"}}, \"type\": \"table\"}]}, \"layout\": {\"annotationdefaults\": {\"arrowcolor\": \"#2a3f5f\", \"arrowhead\": 0, \"arrowwidth\": 1}, \"coloraxis\": {\"colorbar\": {\"outlinewidth\": 0, \"ticks\": \"\"}}, \"colorscale\": {\"diverging\": [[0, \"#8e0152\"], [0.1, \"#c51b7d\"], [0.2, \"#de77ae\"], [0.3, \"#f1b6da\"], [0.4, \"#fde0ef\"], [0.5, \"#f7f7f7\"], [0.6, \"#e6f5d0\"], [0.7, \"#b8e186\"], [0.8, \"#7fbc41\"], [0.9, \"#4d9221\"], [1, \"#276419\"]], \"sequential\": [[0.0, \"#0d0887\"], [0.1111111111111111, \"#46039f\"], [0.2222222222222222, \"#7201a8\"], [0.3333333333333333, \"#9c179e\"], [0.4444444444444444, \"#bd3786\"], [0.5555555555555556, \"#d8576b\"], [0.6666666666666666, \"#ed7953\"], [0.7777777777777778, \"#fb9f3a\"], [0.8888888888888888, \"#fdca26\"], [1.0, \"#f0f921\"]], \"sequentialminus\": [[0.0, \"#0d0887\"], [0.1111111111111111, \"#46039f\"], [0.2222222222222222, \"#7201a8\"], [0.3333333333333333, \"#9c179e\"], [0.4444444444444444, \"#bd3786\"], [0.5555555555555556, \"#d8576b\"], [0.6666666666666666, \"#ed7953\"], [0.7777777777777778, \"#fb9f3a\"], [0.8888888888888888, \"#fdca26\"], [1.0, \"#f0f921\"]]}, \"colorway\": [\"#636efa\", \"#EF553B\", \"#00cc96\", \"#ab63fa\", \"#FFA15A\", \"#19d3f3\", \"#FF6692\", \"#B6E880\", \"#FF97FF\", \"#FECB52\"], \"font\": {\"color\": \"#2a3f5f\"}, \"geo\": {\"bgcolor\": \"white\", \"lakecolor\": \"white\", \"landcolor\": \"#E5ECF6\", \"showlakes\": true, \"showland\": true, \"subunitcolor\": \"white\"}, \"hoverlabel\": {\"align\": \"left\"}, \"hovermode\": \"closest\", \"mapbox\": {\"style\": \"light\"}, \"paper_bgcolor\": \"white\", \"plot_bgcolor\": \"#E5ECF6\", \"polar\": {\"angularaxis\": {\"gridcolor\": \"white\", \"linecolor\": \"white\", \"ticks\": \"\"}, \"bgcolor\": \"#E5ECF6\", \"radialaxis\": {\"gridcolor\": \"white\", \"linecolor\": \"white\", \"ticks\": \"\"}}, \"scene\": {\"xaxis\": {\"backgroundcolor\": \"#E5ECF6\", \"gridcolor\": \"white\", \"gridwidth\": 2, \"linecolor\": \"white\", \"showbackground\": true, \"ticks\": \"\", \"zerolinecolor\": \"white\"}, \"yaxis\": {\"backgroundcolor\": \"#E5ECF6\", \"gridcolor\": \"white\", \"gridwidth\": 2, \"linecolor\": \"white\", \"showbackground\": true, \"ticks\": \"\", \"zerolinecolor\": \"white\"}, \"zaxis\": {\"backgroundcolor\": \"#E5ECF6\", \"gridcolor\": \"white\", \"gridwidth\": 2, \"linecolor\": \"white\", \"showbackground\": true, \"ticks\": \"\", \"zerolinecolor\": \"white\"}}, \"shapedefaults\": {\"line\": {\"color\": \"#2a3f5f\"}}, \"ternary\": {\"aaxis\": {\"gridcolor\": \"white\", \"linecolor\": \"white\", \"ticks\": \"\"}, \"baxis\": {\"gridcolor\": \"white\", \"linecolor\": \"white\", \"ticks\": \"\"}, \"bgcolor\": \"#E5ECF6\", \"caxis\": {\"gridcolor\": \"white\", \"linecolor\": \"white\", \"ticks\": \"\"}}, \"title\": {\"x\": 0.05}, \"xaxis\": {\"automargin\": true, \"gridcolor\": \"white\", \"linecolor\": \"white\", \"ticks\": \"\", \"title\": {\"standoff\": 15}, \"zerolinecolor\": \"white\", \"zerolinewidth\": 2}, \"yaxis\": {\"automargin\": true, \"gridcolor\": \"white\", \"linecolor\": \"white\", \"ticks\": \"\", \"title\": {\"standoff\": 15}, \"zerolinecolor\": \"white\", \"zerolinewidth\": 2}}}, \"title\": {\"text\": \"Count of Clicks\"}, \"xaxis\": {\"anchor\": \"y\", \"domain\": [0.0, 1.0], \"title\": {\"text\": \"x\"}}, \"yaxis\": {\"anchor\": \"x\", \"domain\": [0.0, 1.0], \"title\": {\"text\": \"y\"}}},\n",
              "                        {\"responsive\": true}\n",
              "                    ).then(function(){\n",
              "                            \n",
              "var gd = document.getElementById('9ec4ddf6-9c45-4ee7-84e2-08554166447d');\n",
              "var x = new MutationObserver(function (mutations, observer) {{\n",
              "        var display = window.getComputedStyle(gd).display;\n",
              "        if (!display || display === 'none') {{\n",
              "            console.log([gd, 'removed!']);\n",
              "            Plotly.purge(gd);\n",
              "            observer.disconnect();\n",
              "        }}\n",
              "}});\n",
              "\n",
              "// Listen for the removal of the full notebook cells\n",
              "var notebookContainer = gd.closest('#notebook-container');\n",
              "if (notebookContainer) {{\n",
              "    x.observe(notebookContainer, {childList: true});\n",
              "}}\n",
              "\n",
              "// Listen for the clearing of the current output cell\n",
              "var outputEl = gd.closest('.output');\n",
              "if (outputEl) {{\n",
              "    x.observe(outputEl, {childList: true});\n",
              "}}\n",
              "\n",
              "                        })\n",
              "                };\n",
              "                \n",
              "            </script>\n",
              "        </div>\n",
              "</body>\n",
              "</html>"
            ]
          },
          "metadata": {}
        }
      ]
    },
    {
      "cell_type": "code",
      "source": [
        "#Campaign wise distribution of Clicks\n",
        "px.funnel(dataset, x='Clicks',y='xyz_campaign_id',title='Count of Clicks per Campaign',color_discrete_sequence=px.colors.sequential.Blues_r)"
      ],
      "metadata": {
        "colab": {
          "base_uri": "https://localhost:8080/",
          "height": 542
        },
        "id": "b_K9UDqEMP1s",
        "outputId": "805e3f5a-cfaf-4d5c-ced1-2242969cdb76"
      },
      "execution_count": null,
      "outputs": [
        {
          "output_type": "display_data",
          "data": {
            "text/html": [
              "<html>\n",
              "<head><meta charset=\"utf-8\" /></head>\n",
              "<body>\n",
              "    <div>\n",
              "            <script src=\"https://cdnjs.cloudflare.com/ajax/libs/mathjax/2.7.5/MathJax.js?config=TeX-AMS-MML_SVG\"></script><script type=\"text/javascript\">if (window.MathJax) {MathJax.Hub.Config({SVG: {font: \"STIX-Web\"}});}</script>\n",
              "                <script type=\"text/javascript\">window.PlotlyConfig = {MathJaxConfig: 'local'};</script>\n",
              "        <script src=\"https://cdn.plot.ly/plotly-latest.min.js\"></script>    \n",
              "            <div id=\"e87c6114-cbb6-48c3-9e50-9c01fb689ca0\" class=\"plotly-graph-div\" style=\"height:525px; width:100%;\"></div>\n",
              "            <script type=\"text/javascript\">\n",
              "                \n",
              "                    window.PLOTLYENV=window.PLOTLYENV || {};\n",
              "                    \n",
              "                if (document.getElementById(\"e87c6114-cbb6-48c3-9e50-9c01fb689ca0\")) {\n",
              "                    Plotly.newPlot(\n",
              "                        'e87c6114-cbb6-48c3-9e50-9c01fb689ca0',\n",
              "                        [{\"hoverlabel\": {\"namelength\": 0}, \"hovertemplate\": \"Clicks=%{x}<br>xyz_campaign_id=%{y}\", \"legendgroup\": \"\", \"marker\": {\"color\": \"rgb(8,48,107)\"}, \"name\": \"\", \"orientation\": \"h\", \"showlegend\": false, \"type\": \"funnel\", \"x\": [1, 2, 0, 1, 1, 0, 3, 1, 1, 3, 0, 0, 0, 0, 7, 0, 1, 0, 1, 4, 0, 2, 2, 2, 0, 0, 2, 4, 2, 0, 0, 7, 12, 1, 1, 0, 14, 1, 1, 7, 0, 0, 1, 7, 0, 5, 1, 2, 1, 1, 4, 0, 7, 0, 0, 4, 3, 0, 0, 0, 1, 0, 0, 1, 2, 1, 0, 0, 4, 3, 3, 2, 0, 0, 0, 3, 0, 1, 0, 7, 0, 0, 3, 13, 1, 3, 1, 0, 1, 1, 24, 3, 6, 4, 0, 0, 0, 0, 0, 0, 2, 13, 0, 1, 3, 23, 20, 0, 6, 5, 4, 28, 1, 0, 0, 0, 1, 0, 0, 0, 2, 2, 0, 1, 10, 2, 1, 0, 0, 3, 1, 0, 0, 7, 0, 0, 1, 9, 4, 36, 7, 4, 0, 0, 0, 15, 116, 27, 4, 0, 1, 38, 2, 0, 0, 2, 1, 0, 0, 1, 2, 0, 1, 0, 0, 2, 3, 3, 2, 0, 0, 0, 0, 8, 2, 5, 0, 10, 3, 5, 0, 0, 0, 0, 0, 2, 2, 2, 4, 0, 8, 7, 9, 10, 5, 21, 6, 19, 25, 24, 3, 2, 4, 0, 0, 34, 23, 114, 48, 6, 11, 8, 4, 0, 16, 1, 0, 1, 15, 2, 1, 5, 0, 55, 0, 3, 20, 16, 3, 1, 1, 2, 8, 0, 5, 0, 3, 6, 2, 6, 2, 0, 1, 3, 1, 1, 0, 2, 0, 1, 0, 3, 1, 0, 1, 2, 0, 3, 4, 1, 28, 20, 1, 6, 5, 2, 0, 1, 0, 0, 0, 3, 4, 0, 0, 1, 1, 4, 1, 1, 1, 0, 7, 5, 12, 33, 0, 4, 0, 1, 1, 3, 0, 1, 0, 0, 4, 12, 3, 5, 2, 0, 0, 0, 2, 6, 0, 1, 19, 2, 4, 2, 0, 5, 0, 4, 0, 4, 1, 0, 0, 1, 14, 2, 1, 2, 0, 25, 0, 7, 9, 1, 0, 24, 0, 2, 1, 1, 8, 3, 4, 1, 4, 0, 3, 3, 1, 2, 1, 0, 4, 0, 0, 1, 0, 56, 7, 0, 3, 1, 0, 1, 4, 0, 0, 0, 0, 0, 5, 7, 13, 2, 3, 12, 1, 3, 2, 1, 26, 1, 1, 41, 6, 0, 20, 7, 49, 1, 1, 0, 0, 1, 1, 0, 0, 3, 38, 1, 3, 1, 0, 0, 1, 0, 3, 2, 2, 1, 0, 5, 4, 0, 0, 0, 5, 1, 1, 29, 11, 0, 3, 0, 3, 0, 7, 0, 1, 3, 3, 1, 1, 2, 0, 0, 0, 0, 0, 0, 1, 0, 2, 1, 0, 1, 0, 1, 0, 0, 1, 0, 0, 0, 0, 0, 0, 0, 0, 0, 3, 0, 0, 1, 0, 0, 0, 1, 0, 0, 1, 0, 0, 0, 4, 0, 1, 2, 3, 2, 0, 1, 2, 0, 0, 1, 1, 1, 9, 0, 0, 0, 1, 0, 2, 10, 1, 0, 0, 0, 0, 1, 0, 1, 0, 5, 1, 2, 0, 0, 4, 1, 0, 0, 2, 1, 2, 8, 0, 0, 141, 67, 0, 50, 86, 1, 123, 340, 1, 30, 202, 9, 1, 95, 123, 20, 120, 2, 55, 89, 15, 54, 46, 58, 22, 15, 152, 5, 4, 34, 1, 7, 12, 1, 5, 16, 35, 2, 2, 31, 7, 23, 80, 145, 6, 9, 33, 20, 2, 3, 120, 53, 30, 31, 5, 3, 206, 159, 65, 128, 30, 22, 38, 32, 39, 3, 30, 10, 5, 0, 43, 1, 4, 5, 3, 6, 20, 2, 13, 31, 22, 0, 11, 1, 14, 66, 19, 12, 23, 50, 0, 7, 14, 38, 20, 142, 11, 25, 23, 4, 0, 51, 9, 100, 5, 39, 50, 21, 29, 118, 128, 7, 7, 16, 50, 19, 13, 68, 9, 38, 21, 37, 42, 2, 10, 13, 27, 43, 10, 4, 24, 40, 18, 23, 11, 31, 10, 59, 3, 14, 0, 103, 43, 25, 233, 52, 125, 84, 55, 56, 43, 0, 5, 147, 6, 18, 15, 1, 63, 64, 53, 5, 6, 33, 2, 2, 15, 43, 7, 21, 26, 41, 43, 24, 12, 14, 16, 22, 2, 15, 5, 91, 36, 18, 69, 35, 26, 147, 205, 54, 6, 82, 35, 71, 81, 5, 75, 59, 23, 80, 11, 0, 28, 31, 51, 5, 8, 24, 21, 30, 63, 5, 49, 9, 11, 30, 31, 85, 120, 25, 38, 25, 14, 9, 85, 36, 8, 32, 8, 49, 11, 19, 40, 44, 5, 23, 48, 5, 1, 77, 75, 66, 221, 72, 7, 89, 42, 353, 125, 20, 190, 134, 26, 70, 84, 60, 65, 72, 15, 20, 80, 20, 28, 2, 10, 7, 81, 8, 2, 18, 21, 81, 23, 24, 4, 105, 25, 35, 46, 62, 57, 172, 26, 24, 11, 86, 18, 17, 168, 258, 22, 9, 19, 24, 197, 147, 82, 3, 3, 25, 28, 12, 10, 16, 10, 11, 46, 30, 27, 177, 52, 30, 101, 35, 20, 98, 91, 69, 101, 11, 3, 7, 16, 113, 43, 51, 130, 25, 15, 45, 20, 3, 111, 0, 39, 3, 23, 19, 119, 26, 49, 170, 421, 36, 37, 127, 13, 268, 1, 295, 63, 3, 153, 34, 33, 16, 7, 1, 77, 24, 20, 60, 0, 4, 0, 2, 212, 12, 38, 35, 23, 60, 11, 16, 2, 2, 0, 28, 15, 7, 7, 43, 6, 25, 28, 229, 124, 25, 2, 172, 114, 222, 23, 161, 194, 20, 56, 77, 57, 8, 15, 63, 12, 16, 27, 35, 47, 1, 26, 40, 52, 230, 162, 8, 25, 135, 26, 22, 50, 210, 125, 81, 56, 43, 37, 55, 5, 33, 61, 48, 138, 233, 49, 142, 51, 39, 170, 182, 3, 11, 42, 7, 17, 51, 27, 63, 35, 69, 77, 183, 83, 276, 245, 24, 46, 35, 113, 194, 29, 13, 24, 21, 32, 79, 19, 135, 21, 41, 13, 28, 22, 12, 12, 17, 179, 97, 137, 346, 163, 139, 68, 202, 164, 198, 247, 227, 194, 76, 164, 7, 19, 206, 107, 73, 10, 53, 55, 109, 90, 32, 5, 84, 129, 71, 186, 28, 146, 265, 367, 272, 78, 53, 16, 96, 266, 138, 66, 227, 34, 6, 13, 28, 97, 282, 117, 136, 43, 131, 91, 88, 2, 5, 2, 18, 37, 42, 34, 9, 2, 22, 2, 16, 12, 33, 9, 14, 14, 30, 17, 8, 5, 9, 10, 1, 19, 10, 41, 18, 24, 9, 10, 6, 12, 18, 20, 5, 13, 34, 57, 25, 13, 9, 21, 81, 9, 68, 76, 86, 26, 86, 8, 100, 10, 117, 80, 11, 167, 33, 114, 139, 72, 88, 47, 14, 6, 53, 11, 166, 152, 48, 224, 58, 38, 159, 149, 223, 61, 75, 83, 211, 40, 195, 107, 24, 11, 110, 235, 23, 160, 33, 252, 120, 28, 135, 114], \"xaxis\": \"x\", \"y\": [\"Campaign_916\", \"Campaign_916\", \"Campaign_916\", \"Campaign_916\", \"Campaign_916\", \"Campaign_916\", \"Campaign_916\", \"Campaign_916\", \"Campaign_916\", \"Campaign_916\", \"Campaign_916\", \"Campaign_916\", \"Campaign_916\", \"Campaign_916\", \"Campaign_916\", \"Campaign_916\", \"Campaign_916\", \"Campaign_916\", \"Campaign_916\", \"Campaign_916\", \"Campaign_916\", \"Campaign_916\", \"Campaign_916\", \"Campaign_916\", \"Campaign_916\", \"Campaign_916\", \"Campaign_916\", \"Campaign_916\", \"Campaign_916\", \"Campaign_916\", \"Campaign_916\", \"Campaign_916\", \"Campaign_916\", \"Campaign_916\", \"Campaign_916\", \"Campaign_916\", \"Campaign_916\", \"Campaign_916\", \"Campaign_916\", \"Campaign_916\", \"Campaign_916\", \"Campaign_916\", \"Campaign_916\", \"Campaign_916\", \"Campaign_916\", \"Campaign_916\", \"Campaign_916\", \"Campaign_916\", \"Campaign_916\", \"Campaign_916\", \"Campaign_916\", \"Campaign_916\", \"Campaign_916\", \"Campaign_916\", \"Campaign_936\", \"Campaign_936\", \"Campaign_936\", \"Campaign_936\", \"Campaign_936\", \"Campaign_936\", \"Campaign_936\", \"Campaign_936\", \"Campaign_936\", \"Campaign_936\", \"Campaign_936\", \"Campaign_936\", \"Campaign_936\", \"Campaign_936\", \"Campaign_936\", \"Campaign_936\", \"Campaign_936\", \"Campaign_936\", \"Campaign_936\", \"Campaign_936\", \"Campaign_936\", \"Campaign_936\", \"Campaign_936\", \"Campaign_936\", \"Campaign_936\", \"Campaign_936\", \"Campaign_936\", \"Campaign_936\", \"Campaign_936\", \"Campaign_936\", \"Campaign_936\", \"Campaign_936\", \"Campaign_936\", \"Campaign_936\", \"Campaign_936\", \"Campaign_936\", \"Campaign_936\", \"Campaign_936\", \"Campaign_936\", \"Campaign_936\", \"Campaign_936\", \"Campaign_936\", \"Campaign_936\", \"Campaign_936\", \"Campaign_936\", \"Campaign_936\", \"Campaign_936\", \"Campaign_936\", \"Campaign_936\", \"Campaign_936\", \"Campaign_936\", \"Campaign_936\", \"Campaign_936\", \"Campaign_936\", \"Campaign_936\", \"Campaign_936\", \"Campaign_936\", \"Campaign_936\", \"Campaign_936\", \"Campaign_936\", \"Campaign_936\", \"Campaign_936\", \"Campaign_936\", \"Campaign_936\", \"Campaign_936\", \"Campaign_936\", \"Campaign_936\", \"Campaign_936\", \"Campaign_936\", \"Campaign_936\", \"Campaign_936\", \"Campaign_936\", \"Campaign_936\", \"Campaign_936\", \"Campaign_936\", \"Campaign_936\", \"Campaign_936\", \"Campaign_936\", \"Campaign_936\", \"Campaign_936\", \"Campaign_936\", \"Campaign_936\", \"Campaign_936\", \"Campaign_936\", \"Campaign_936\", \"Campaign_936\", \"Campaign_936\", \"Campaign_936\", \"Campaign_936\", \"Campaign_936\", \"Campaign_936\", \"Campaign_936\", \"Campaign_936\", \"Campaign_936\", \"Campaign_936\", \"Campaign_936\", \"Campaign_936\", \"Campaign_936\", \"Campaign_936\", \"Campaign_936\", \"Campaign_936\", \"Campaign_936\", \"Campaign_936\", \"Campaign_936\", \"Campaign_936\", \"Campaign_936\", \"Campaign_936\", \"Campaign_936\", \"Campaign_936\", \"Campaign_936\", \"Campaign_936\", \"Campaign_936\", \"Campaign_936\", \"Campaign_936\", \"Campaign_936\", \"Campaign_936\", \"Campaign_936\", \"Campaign_936\", \"Campaign_936\", \"Campaign_936\", \"Campaign_936\", \"Campaign_936\", \"Campaign_936\", \"Campaign_936\", \"Campaign_936\", \"Campaign_936\", \"Campaign_936\", \"Campaign_936\", \"Campaign_936\", \"Campaign_936\", \"Campaign_936\", \"Campaign_936\", \"Campaign_936\", \"Campaign_936\", \"Campaign_936\", \"Campaign_936\", \"Campaign_936\", \"Campaign_936\", \"Campaign_936\", \"Campaign_936\", \"Campaign_936\", \"Campaign_936\", \"Campaign_936\", \"Campaign_936\", \"Campaign_936\", \"Campaign_936\", \"Campaign_936\", \"Campaign_936\", \"Campaign_936\", \"Campaign_936\", \"Campaign_936\", \"Campaign_936\", \"Campaign_936\", \"Campaign_936\", \"Campaign_936\", \"Campaign_936\", \"Campaign_936\", \"Campaign_936\", \"Campaign_936\", \"Campaign_936\", \"Campaign_936\", \"Campaign_936\", \"Campaign_936\", \"Campaign_936\", \"Campaign_936\", \"Campaign_936\", \"Campaign_936\", \"Campaign_936\", \"Campaign_936\", \"Campaign_936\", \"Campaign_936\", \"Campaign_936\", \"Campaign_936\", \"Campaign_936\", \"Campaign_936\", \"Campaign_936\", \"Campaign_936\", \"Campaign_936\", \"Campaign_936\", \"Campaign_936\", \"Campaign_936\", \"Campaign_936\", \"Campaign_936\", \"Campaign_936\", \"Campaign_936\", \"Campaign_936\", \"Campaign_936\", \"Campaign_936\", \"Campaign_936\", \"Campaign_936\", \"Campaign_936\", \"Campaign_936\", \"Campaign_936\", \"Campaign_936\", \"Campaign_936\", \"Campaign_936\", \"Campaign_936\", \"Campaign_936\", \"Campaign_936\", \"Campaign_936\", \"Campaign_936\", \"Campaign_936\", \"Campaign_936\", \"Campaign_936\", \"Campaign_936\", \"Campaign_936\", \"Campaign_936\", \"Campaign_936\", \"Campaign_936\", \"Campaign_936\", \"Campaign_936\", \"Campaign_936\", \"Campaign_936\", \"Campaign_936\", \"Campaign_936\", \"Campaign_936\", \"Campaign_936\", \"Campaign_936\", \"Campaign_936\", \"Campaign_936\", \"Campaign_936\", \"Campaign_936\", \"Campaign_936\", \"Campaign_936\", \"Campaign_936\", \"Campaign_936\", \"Campaign_936\", \"Campaign_936\", \"Campaign_936\", \"Campaign_936\", \"Campaign_936\", \"Campaign_936\", \"Campaign_936\", \"Campaign_936\", \"Campaign_936\", \"Campaign_936\", \"Campaign_936\", \"Campaign_936\", \"Campaign_936\", \"Campaign_936\", \"Campaign_936\", \"Campaign_936\", \"Campaign_936\", \"Campaign_936\", \"Campaign_936\", \"Campaign_936\", \"Campaign_936\", \"Campaign_936\", \"Campaign_936\", \"Campaign_936\", \"Campaign_936\", \"Campaign_936\", \"Campaign_936\", \"Campaign_936\", \"Campaign_936\", \"Campaign_936\", \"Campaign_936\", \"Campaign_936\", \"Campaign_936\", \"Campaign_936\", \"Campaign_936\", \"Campaign_936\", \"Campaign_936\", \"Campaign_936\", \"Campaign_936\", \"Campaign_936\", \"Campaign_936\", \"Campaign_936\", \"Campaign_936\", \"Campaign_936\", \"Campaign_936\", \"Campaign_936\", \"Campaign_936\", \"Campaign_936\", \"Campaign_936\", \"Campaign_936\", \"Campaign_936\", \"Campaign_936\", \"Campaign_936\", \"Campaign_936\", \"Campaign_936\", \"Campaign_936\", \"Campaign_936\", \"Campaign_936\", \"Campaign_936\", \"Campaign_936\", \"Campaign_936\", \"Campaign_936\", \"Campaign_936\", \"Campaign_936\", \"Campaign_936\", \"Campaign_936\", \"Campaign_936\", \"Campaign_936\", \"Campaign_936\", \"Campaign_936\", \"Campaign_936\", \"Campaign_936\", \"Campaign_936\", \"Campaign_936\", \"Campaign_936\", \"Campaign_936\", \"Campaign_936\", \"Campaign_936\", \"Campaign_936\", \"Campaign_936\", \"Campaign_936\", \"Campaign_936\", \"Campaign_936\", \"Campaign_936\", \"Campaign_936\", \"Campaign_936\", \"Campaign_936\", \"Campaign_936\", \"Campaign_936\", \"Campaign_936\", \"Campaign_936\", \"Campaign_936\", \"Campaign_936\", \"Campaign_936\", \"Campaign_936\", \"Campaign_936\", \"Campaign_936\", \"Campaign_936\", \"Campaign_936\", \"Campaign_936\", \"Campaign_936\", \"Campaign_936\", \"Campaign_936\", \"Campaign_936\", \"Campaign_936\", \"Campaign_936\", \"Campaign_936\", \"Campaign_936\", \"Campaign_936\", \"Campaign_936\", \"Campaign_936\", \"Campaign_936\", \"Campaign_936\", \"Campaign_936\", \"Campaign_936\", \"Campaign_936\", \"Campaign_936\", \"Campaign_936\", \"Campaign_936\", \"Campaign_936\", \"Campaign_936\", \"Campaign_936\", \"Campaign_936\", \"Campaign_936\", \"Campaign_936\", \"Campaign_936\", \"Campaign_936\", \"Campaign_936\", \"Campaign_936\", \"Campaign_936\", \"Campaign_936\", \"Campaign_936\", \"Campaign_936\", \"Campaign_936\", \"Campaign_936\", \"Campaign_936\", \"Campaign_936\", \"Campaign_936\", \"Campaign_936\", \"Campaign_936\", \"Campaign_936\", \"Campaign_936\", \"Campaign_936\", \"Campaign_936\", \"Campaign_936\", \"Campaign_936\", \"Campaign_936\", \"Campaign_936\", \"Campaign_936\", \"Campaign_936\", \"Campaign_936\", \"Campaign_936\", \"Campaign_936\", \"Campaign_936\", \"Campaign_936\", \"Campaign_936\", \"Campaign_936\", \"Campaign_936\", \"Campaign_936\", \"Campaign_936\", \"Campaign_936\", \"Campaign_936\", \"Campaign_936\", \"Campaign_936\", \"Campaign_936\", \"Campaign_936\", \"Campaign_936\", \"Campaign_936\", \"Campaign_936\", \"Campaign_936\", \"Campaign_936\", \"Campaign_936\", \"Campaign_936\", \"Campaign_936\", \"Campaign_936\", \"Campaign_936\", \"Campaign_936\", \"Campaign_936\", \"Campaign_936\", \"Campaign_936\", \"Campaign_936\", \"Campaign_936\", \"Campaign_936\", \"Campaign_936\", \"Campaign_936\", \"Campaign_936\", \"Campaign_936\", \"Campaign_936\", \"Campaign_936\", \"Campaign_936\", \"Campaign_936\", \"Campaign_936\", \"Campaign_936\", \"Campaign_936\", \"Campaign_936\", \"Campaign_936\", \"Campaign_936\", \"Campaign_936\", \"Campaign_936\", \"Campaign_936\", \"Campaign_936\", \"Campaign_936\", \"Campaign_936\", \"Campaign_936\", \"Campaign_936\", \"Campaign_936\", \"Campaign_936\", \"Campaign_936\", \"Campaign_936\", \"Campaign_936\", \"Campaign_936\", \"Campaign_936\", \"Campaign_936\", \"Campaign_936\", \"Campaign_936\", \"Campaign_936\", \"Campaign_936\", \"Campaign_936\", \"Campaign_936\", \"Campaign_936\", \"Campaign_936\", \"Campaign_936\", \"Campaign_936\", \"Campaign_936\", \"Campaign_936\", \"Campaign_936\", \"Campaign_936\", \"Campaign_936\", \"Campaign_936\", \"Campaign_936\", \"Campaign_936\", \"Campaign_936\", \"Campaign_936\", \"Campaign_936\", \"Campaign_936\", \"Campaign_936\", \"Campaign_936\", \"Campaign_936\", \"Campaign_1178\", \"Campaign_1178\", \"Campaign_1178\", \"Campaign_1178\", \"Campaign_1178\", \"Campaign_1178\", \"Campaign_1178\", \"Campaign_1178\", \"Campaign_1178\", \"Campaign_1178\", \"Campaign_1178\", \"Campaign_1178\", \"Campaign_1178\", \"Campaign_1178\", \"Campaign_1178\", \"Campaign_1178\", \"Campaign_1178\", \"Campaign_1178\", \"Campaign_1178\", \"Campaign_1178\", \"Campaign_1178\", \"Campaign_1178\", \"Campaign_1178\", \"Campaign_1178\", \"Campaign_1178\", \"Campaign_1178\", \"Campaign_1178\", \"Campaign_1178\", \"Campaign_1178\", \"Campaign_1178\", \"Campaign_1178\", \"Campaign_1178\", \"Campaign_1178\", \"Campaign_1178\", \"Campaign_1178\", \"Campaign_1178\", \"Campaign_1178\", \"Campaign_1178\", \"Campaign_1178\", \"Campaign_1178\", \"Campaign_1178\", \"Campaign_1178\", \"Campaign_1178\", \"Campaign_1178\", \"Campaign_1178\", \"Campaign_1178\", \"Campaign_1178\", \"Campaign_1178\", \"Campaign_1178\", \"Campaign_1178\", \"Campaign_1178\", \"Campaign_1178\", \"Campaign_1178\", \"Campaign_1178\", \"Campaign_1178\", \"Campaign_1178\", \"Campaign_1178\", \"Campaign_1178\", \"Campaign_1178\", \"Campaign_1178\", \"Campaign_1178\", \"Campaign_1178\", \"Campaign_1178\", \"Campaign_1178\", \"Campaign_1178\", \"Campaign_1178\", \"Campaign_1178\", \"Campaign_1178\", \"Campaign_1178\", \"Campaign_1178\", \"Campaign_1178\", \"Campaign_1178\", \"Campaign_1178\", \"Campaign_1178\", \"Campaign_1178\", \"Campaign_1178\", \"Campaign_1178\", \"Campaign_1178\", \"Campaign_1178\", \"Campaign_1178\", \"Campaign_1178\", \"Campaign_1178\", \"Campaign_1178\", \"Campaign_1178\", \"Campaign_1178\", \"Campaign_1178\", \"Campaign_1178\", \"Campaign_1178\", \"Campaign_1178\", \"Campaign_1178\", \"Campaign_1178\", \"Campaign_1178\", \"Campaign_1178\", \"Campaign_1178\", \"Campaign_1178\", \"Campaign_1178\", \"Campaign_1178\", \"Campaign_1178\", \"Campaign_1178\", \"Campaign_1178\", \"Campaign_1178\", \"Campaign_1178\", \"Campaign_1178\", \"Campaign_1178\", \"Campaign_1178\", \"Campaign_1178\", \"Campaign_1178\", \"Campaign_1178\", \"Campaign_1178\", \"Campaign_1178\", \"Campaign_1178\", \"Campaign_1178\", \"Campaign_1178\", \"Campaign_1178\", \"Campaign_1178\", \"Campaign_1178\", \"Campaign_1178\", \"Campaign_1178\", \"Campaign_1178\", \"Campaign_1178\", \"Campaign_1178\", \"Campaign_1178\", \"Campaign_1178\", \"Campaign_1178\", \"Campaign_1178\", \"Campaign_1178\", \"Campaign_1178\", \"Campaign_1178\", \"Campaign_1178\", \"Campaign_1178\", \"Campaign_1178\", \"Campaign_1178\", \"Campaign_1178\", \"Campaign_1178\", \"Campaign_1178\", \"Campaign_1178\", \"Campaign_1178\", \"Campaign_1178\", \"Campaign_1178\", \"Campaign_1178\", \"Campaign_1178\", \"Campaign_1178\", \"Campaign_1178\", \"Campaign_1178\", \"Campaign_1178\", \"Campaign_1178\", \"Campaign_1178\", \"Campaign_1178\", \"Campaign_1178\", \"Campaign_1178\", \"Campaign_1178\", \"Campaign_1178\", \"Campaign_1178\", \"Campaign_1178\", \"Campaign_1178\", \"Campaign_1178\", \"Campaign_1178\", \"Campaign_1178\", \"Campaign_1178\", \"Campaign_1178\", \"Campaign_1178\", \"Campaign_1178\", \"Campaign_1178\", \"Campaign_1178\", \"Campaign_1178\", \"Campaign_1178\", \"Campaign_1178\", \"Campaign_1178\", \"Campaign_1178\", \"Campaign_1178\", \"Campaign_1178\", \"Campaign_1178\", \"Campaign_1178\", \"Campaign_1178\", \"Campaign_1178\", \"Campaign_1178\", \"Campaign_1178\", \"Campaign_1178\", \"Campaign_1178\", \"Campaign_1178\", \"Campaign_1178\", \"Campaign_1178\", \"Campaign_1178\", \"Campaign_1178\", \"Campaign_1178\", \"Campaign_1178\", \"Campaign_1178\", \"Campaign_1178\", \"Campaign_1178\", \"Campaign_1178\", \"Campaign_1178\", \"Campaign_1178\", \"Campaign_1178\", \"Campaign_1178\", \"Campaign_1178\", \"Campaign_1178\", \"Campaign_1178\", \"Campaign_1178\", \"Campaign_1178\", \"Campaign_1178\", \"Campaign_1178\", \"Campaign_1178\", \"Campaign_1178\", \"Campaign_1178\", \"Campaign_1178\", \"Campaign_1178\", \"Campaign_1178\", \"Campaign_1178\", \"Campaign_1178\", \"Campaign_1178\", \"Campaign_1178\", \"Campaign_1178\", \"Campaign_1178\", \"Campaign_1178\", \"Campaign_1178\", \"Campaign_1178\", \"Campaign_1178\", \"Campaign_1178\", \"Campaign_1178\", \"Campaign_1178\", \"Campaign_1178\", \"Campaign_1178\", \"Campaign_1178\", \"Campaign_1178\", \"Campaign_1178\", \"Campaign_1178\", \"Campaign_1178\", \"Campaign_1178\", \"Campaign_1178\", \"Campaign_1178\", \"Campaign_1178\", \"Campaign_1178\", \"Campaign_1178\", \"Campaign_1178\", \"Campaign_1178\", \"Campaign_1178\", \"Campaign_1178\", \"Campaign_1178\", \"Campaign_1178\", \"Campaign_1178\", \"Campaign_1178\", \"Campaign_1178\", \"Campaign_1178\", \"Campaign_1178\", \"Campaign_1178\", \"Campaign_1178\", \"Campaign_1178\", \"Campaign_1178\", \"Campaign_1178\", \"Campaign_1178\", \"Campaign_1178\", \"Campaign_1178\", \"Campaign_1178\", \"Campaign_1178\", \"Campaign_1178\", \"Campaign_1178\", \"Campaign_1178\", \"Campaign_1178\", \"Campaign_1178\", \"Campaign_1178\", \"Campaign_1178\", \"Campaign_1178\", \"Campaign_1178\", \"Campaign_1178\", \"Campaign_1178\", \"Campaign_1178\", \"Campaign_1178\", \"Campaign_1178\", \"Campaign_1178\", \"Campaign_1178\", \"Campaign_1178\", \"Campaign_1178\", \"Campaign_1178\", \"Campaign_1178\", \"Campaign_1178\", \"Campaign_1178\", \"Campaign_1178\", \"Campaign_1178\", \"Campaign_1178\", \"Campaign_1178\", \"Campaign_1178\", \"Campaign_1178\", \"Campaign_1178\", \"Campaign_1178\", \"Campaign_1178\", \"Campaign_1178\", \"Campaign_1178\", \"Campaign_1178\", \"Campaign_1178\", \"Campaign_1178\", \"Campaign_1178\", \"Campaign_1178\", \"Campaign_1178\", \"Campaign_1178\", \"Campaign_1178\", \"Campaign_1178\", \"Campaign_1178\", \"Campaign_1178\", \"Campaign_1178\", \"Campaign_1178\", \"Campaign_1178\", \"Campaign_1178\", \"Campaign_1178\", \"Campaign_1178\", \"Campaign_1178\", \"Campaign_1178\", \"Campaign_1178\", \"Campaign_1178\", \"Campaign_1178\", \"Campaign_1178\", \"Campaign_1178\", \"Campaign_1178\", \"Campaign_1178\", \"Campaign_1178\", \"Campaign_1178\", \"Campaign_1178\", \"Campaign_1178\", \"Campaign_1178\", \"Campaign_1178\", \"Campaign_1178\", \"Campaign_1178\", \"Campaign_1178\", \"Campaign_1178\", \"Campaign_1178\", \"Campaign_1178\", \"Campaign_1178\", \"Campaign_1178\", \"Campaign_1178\", \"Campaign_1178\", \"Campaign_1178\", \"Campaign_1178\", \"Campaign_1178\", \"Campaign_1178\", \"Campaign_1178\", \"Campaign_1178\", \"Campaign_1178\", \"Campaign_1178\", \"Campaign_1178\", \"Campaign_1178\", \"Campaign_1178\", \"Campaign_1178\", \"Campaign_1178\", \"Campaign_1178\", \"Campaign_1178\", \"Campaign_1178\", \"Campaign_1178\", \"Campaign_1178\", \"Campaign_1178\", \"Campaign_1178\", \"Campaign_1178\", \"Campaign_1178\", \"Campaign_1178\", \"Campaign_1178\", \"Campaign_1178\", \"Campaign_1178\", \"Campaign_1178\", \"Campaign_1178\", \"Campaign_1178\", \"Campaign_1178\", \"Campaign_1178\", \"Campaign_1178\", \"Campaign_1178\", \"Campaign_1178\", \"Campaign_1178\", \"Campaign_1178\", \"Campaign_1178\", \"Campaign_1178\", \"Campaign_1178\", \"Campaign_1178\", \"Campaign_1178\", \"Campaign_1178\", \"Campaign_1178\", \"Campaign_1178\", \"Campaign_1178\", \"Campaign_1178\", \"Campaign_1178\", \"Campaign_1178\", \"Campaign_1178\", \"Campaign_1178\", \"Campaign_1178\", \"Campaign_1178\", \"Campaign_1178\", \"Campaign_1178\", \"Campaign_1178\", \"Campaign_1178\", \"Campaign_1178\", \"Campaign_1178\", \"Campaign_1178\", \"Campaign_1178\", \"Campaign_1178\", \"Campaign_1178\", \"Campaign_1178\", \"Campaign_1178\", \"Campaign_1178\", \"Campaign_1178\", \"Campaign_1178\", \"Campaign_1178\", \"Campaign_1178\", \"Campaign_1178\", \"Campaign_1178\", \"Campaign_1178\", \"Campaign_1178\", \"Campaign_1178\", \"Campaign_1178\", \"Campaign_1178\", \"Campaign_1178\", \"Campaign_1178\", \"Campaign_1178\", \"Campaign_1178\", \"Campaign_1178\", \"Campaign_1178\", \"Campaign_1178\", \"Campaign_1178\", \"Campaign_1178\", \"Campaign_1178\", \"Campaign_1178\", \"Campaign_1178\", \"Campaign_1178\", \"Campaign_1178\", \"Campaign_1178\", \"Campaign_1178\", \"Campaign_1178\", \"Campaign_1178\", \"Campaign_1178\", \"Campaign_1178\", \"Campaign_1178\", \"Campaign_1178\", \"Campaign_1178\", \"Campaign_1178\", \"Campaign_1178\", \"Campaign_1178\", \"Campaign_1178\", \"Campaign_1178\", \"Campaign_1178\", \"Campaign_1178\", \"Campaign_1178\", \"Campaign_1178\", \"Campaign_1178\", \"Campaign_1178\", \"Campaign_1178\", \"Campaign_1178\", \"Campaign_1178\", \"Campaign_1178\", \"Campaign_1178\", \"Campaign_1178\", \"Campaign_1178\", \"Campaign_1178\", \"Campaign_1178\", \"Campaign_1178\", \"Campaign_1178\", \"Campaign_1178\", \"Campaign_1178\", \"Campaign_1178\", \"Campaign_1178\", \"Campaign_1178\", \"Campaign_1178\", \"Campaign_1178\", \"Campaign_1178\", \"Campaign_1178\", \"Campaign_1178\", \"Campaign_1178\", \"Campaign_1178\", \"Campaign_1178\", \"Campaign_1178\", \"Campaign_1178\", \"Campaign_1178\", \"Campaign_1178\", \"Campaign_1178\", \"Campaign_1178\", \"Campaign_1178\", \"Campaign_1178\", \"Campaign_1178\", \"Campaign_1178\", \"Campaign_1178\", \"Campaign_1178\", \"Campaign_1178\", \"Campaign_1178\", \"Campaign_1178\", \"Campaign_1178\", \"Campaign_1178\", \"Campaign_1178\", \"Campaign_1178\", \"Campaign_1178\", \"Campaign_1178\", \"Campaign_1178\", \"Campaign_1178\", \"Campaign_1178\", \"Campaign_1178\", \"Campaign_1178\", \"Campaign_1178\", \"Campaign_1178\", \"Campaign_1178\", \"Campaign_1178\", \"Campaign_1178\", \"Campaign_1178\", \"Campaign_1178\", \"Campaign_1178\", \"Campaign_1178\", \"Campaign_1178\", \"Campaign_1178\", \"Campaign_1178\", \"Campaign_1178\", \"Campaign_1178\", \"Campaign_1178\", \"Campaign_1178\", \"Campaign_1178\", \"Campaign_1178\", \"Campaign_1178\", \"Campaign_1178\", \"Campaign_1178\", \"Campaign_1178\", \"Campaign_1178\", \"Campaign_1178\", \"Campaign_1178\", \"Campaign_1178\", \"Campaign_1178\", \"Campaign_1178\", \"Campaign_1178\", \"Campaign_1178\", \"Campaign_1178\", \"Campaign_1178\", \"Campaign_1178\", \"Campaign_1178\", \"Campaign_1178\", \"Campaign_1178\", \"Campaign_1178\", \"Campaign_1178\", \"Campaign_1178\", \"Campaign_1178\", \"Campaign_1178\", \"Campaign_1178\", \"Campaign_1178\", \"Campaign_1178\", \"Campaign_1178\", \"Campaign_1178\", \"Campaign_1178\", \"Campaign_1178\", \"Campaign_1178\", \"Campaign_1178\", \"Campaign_1178\", \"Campaign_1178\", \"Campaign_1178\", \"Campaign_1178\", \"Campaign_1178\", \"Campaign_1178\", \"Campaign_1178\", \"Campaign_1178\", \"Campaign_1178\", \"Campaign_1178\", \"Campaign_1178\", \"Campaign_1178\", \"Campaign_1178\", \"Campaign_1178\", \"Campaign_1178\", \"Campaign_1178\", \"Campaign_1178\", \"Campaign_1178\", \"Campaign_1178\", \"Campaign_1178\", \"Campaign_1178\", \"Campaign_1178\", \"Campaign_1178\", \"Campaign_1178\", \"Campaign_1178\", \"Campaign_1178\", \"Campaign_1178\", \"Campaign_1178\", \"Campaign_1178\", \"Campaign_1178\", \"Campaign_1178\", \"Campaign_1178\", \"Campaign_1178\", \"Campaign_1178\", \"Campaign_1178\", \"Campaign_1178\", \"Campaign_1178\", \"Campaign_1178\", \"Campaign_1178\", \"Campaign_1178\", \"Campaign_1178\", \"Campaign_1178\", \"Campaign_1178\", \"Campaign_1178\", \"Campaign_1178\", \"Campaign_1178\", \"Campaign_1178\", \"Campaign_1178\", \"Campaign_1178\", \"Campaign_1178\", \"Campaign_1178\", \"Campaign_1178\", \"Campaign_1178\", \"Campaign_1178\", \"Campaign_1178\", \"Campaign_1178\", \"Campaign_1178\", \"Campaign_1178\", \"Campaign_1178\", \"Campaign_1178\", \"Campaign_1178\", \"Campaign_1178\", \"Campaign_1178\", \"Campaign_1178\", \"Campaign_1178\", \"Campaign_1178\", \"Campaign_1178\", \"Campaign_1178\", \"Campaign_1178\", \"Campaign_1178\", \"Campaign_1178\", \"Campaign_1178\", \"Campaign_1178\", \"Campaign_1178\", \"Campaign_1178\", \"Campaign_1178\", \"Campaign_1178\", \"Campaign_1178\", \"Campaign_1178\", \"Campaign_1178\", \"Campaign_1178\", \"Campaign_1178\", \"Campaign_1178\", \"Campaign_1178\", \"Campaign_1178\", \"Campaign_1178\"], \"yaxis\": \"y\"}],\n",
              "                        {\"legend\": {\"tracegroupgap\": 0}, \"template\": {\"data\": {\"bar\": [{\"error_x\": {\"color\": \"#2a3f5f\"}, \"error_y\": {\"color\": \"#2a3f5f\"}, \"marker\": {\"line\": {\"color\": \"#E5ECF6\", \"width\": 0.5}}, \"type\": \"bar\"}], \"barpolar\": [{\"marker\": {\"line\": {\"color\": \"#E5ECF6\", \"width\": 0.5}}, \"type\": \"barpolar\"}], \"carpet\": [{\"aaxis\": {\"endlinecolor\": \"#2a3f5f\", \"gridcolor\": \"white\", \"linecolor\": \"white\", \"minorgridcolor\": \"white\", \"startlinecolor\": \"#2a3f5f\"}, \"baxis\": {\"endlinecolor\": \"#2a3f5f\", \"gridcolor\": \"white\", \"linecolor\": \"white\", \"minorgridcolor\": \"white\", \"startlinecolor\": \"#2a3f5f\"}, \"type\": \"carpet\"}], \"choropleth\": [{\"colorbar\": {\"outlinewidth\": 0, \"ticks\": \"\"}, \"type\": \"choropleth\"}], \"contour\": [{\"colorbar\": {\"outlinewidth\": 0, \"ticks\": \"\"}, \"colorscale\": [[0.0, \"#0d0887\"], [0.1111111111111111, \"#46039f\"], [0.2222222222222222, \"#7201a8\"], [0.3333333333333333, \"#9c179e\"], [0.4444444444444444, \"#bd3786\"], [0.5555555555555556, \"#d8576b\"], [0.6666666666666666, \"#ed7953\"], [0.7777777777777778, \"#fb9f3a\"], [0.8888888888888888, \"#fdca26\"], [1.0, \"#f0f921\"]], \"type\": \"contour\"}], \"contourcarpet\": [{\"colorbar\": {\"outlinewidth\": 0, \"ticks\": \"\"}, \"type\": \"contourcarpet\"}], \"heatmap\": [{\"colorbar\": {\"outlinewidth\": 0, \"ticks\": \"\"}, \"colorscale\": [[0.0, \"#0d0887\"], [0.1111111111111111, \"#46039f\"], [0.2222222222222222, \"#7201a8\"], [0.3333333333333333, \"#9c179e\"], [0.4444444444444444, \"#bd3786\"], [0.5555555555555556, \"#d8576b\"], [0.6666666666666666, \"#ed7953\"], [0.7777777777777778, \"#fb9f3a\"], [0.8888888888888888, \"#fdca26\"], [1.0, \"#f0f921\"]], \"type\": \"heatmap\"}], \"heatmapgl\": [{\"colorbar\": {\"outlinewidth\": 0, \"ticks\": \"\"}, \"colorscale\": [[0.0, \"#0d0887\"], [0.1111111111111111, \"#46039f\"], [0.2222222222222222, \"#7201a8\"], [0.3333333333333333, \"#9c179e\"], [0.4444444444444444, \"#bd3786\"], [0.5555555555555556, \"#d8576b\"], [0.6666666666666666, \"#ed7953\"], [0.7777777777777778, \"#fb9f3a\"], [0.8888888888888888, \"#fdca26\"], [1.0, \"#f0f921\"]], \"type\": \"heatmapgl\"}], \"histogram\": [{\"marker\": {\"colorbar\": {\"outlinewidth\": 0, \"ticks\": \"\"}}, \"type\": \"histogram\"}], \"histogram2d\": [{\"colorbar\": {\"outlinewidth\": 0, \"ticks\": \"\"}, \"colorscale\": [[0.0, \"#0d0887\"], [0.1111111111111111, \"#46039f\"], [0.2222222222222222, \"#7201a8\"], [0.3333333333333333, \"#9c179e\"], [0.4444444444444444, \"#bd3786\"], [0.5555555555555556, \"#d8576b\"], [0.6666666666666666, \"#ed7953\"], [0.7777777777777778, \"#fb9f3a\"], [0.8888888888888888, \"#fdca26\"], [1.0, \"#f0f921\"]], \"type\": \"histogram2d\"}], \"histogram2dcontour\": [{\"colorbar\": {\"outlinewidth\": 0, \"ticks\": \"\"}, \"colorscale\": [[0.0, \"#0d0887\"], [0.1111111111111111, \"#46039f\"], [0.2222222222222222, \"#7201a8\"], [0.3333333333333333, \"#9c179e\"], [0.4444444444444444, \"#bd3786\"], [0.5555555555555556, \"#d8576b\"], [0.6666666666666666, \"#ed7953\"], [0.7777777777777778, \"#fb9f3a\"], [0.8888888888888888, \"#fdca26\"], [1.0, \"#f0f921\"]], \"type\": \"histogram2dcontour\"}], \"mesh3d\": [{\"colorbar\": {\"outlinewidth\": 0, \"ticks\": \"\"}, \"type\": \"mesh3d\"}], \"parcoords\": [{\"line\": {\"colorbar\": {\"outlinewidth\": 0, \"ticks\": \"\"}}, \"type\": \"parcoords\"}], \"pie\": [{\"automargin\": true, \"type\": \"pie\"}], \"scatter\": [{\"marker\": {\"colorbar\": {\"outlinewidth\": 0, \"ticks\": \"\"}}, \"type\": \"scatter\"}], \"scatter3d\": [{\"line\": {\"colorbar\": {\"outlinewidth\": 0, \"ticks\": \"\"}}, \"marker\": {\"colorbar\": {\"outlinewidth\": 0, \"ticks\": \"\"}}, \"type\": \"scatter3d\"}], \"scattercarpet\": [{\"marker\": {\"colorbar\": {\"outlinewidth\": 0, \"ticks\": \"\"}}, \"type\": \"scattercarpet\"}], \"scattergeo\": [{\"marker\": {\"colorbar\": {\"outlinewidth\": 0, \"ticks\": \"\"}}, \"type\": \"scattergeo\"}], \"scattergl\": [{\"marker\": {\"colorbar\": {\"outlinewidth\": 0, \"ticks\": \"\"}}, \"type\": \"scattergl\"}], \"scattermapbox\": [{\"marker\": {\"colorbar\": {\"outlinewidth\": 0, \"ticks\": \"\"}}, \"type\": \"scattermapbox\"}], \"scatterpolar\": [{\"marker\": {\"colorbar\": {\"outlinewidth\": 0, \"ticks\": \"\"}}, \"type\": \"scatterpolar\"}], \"scatterpolargl\": [{\"marker\": {\"colorbar\": {\"outlinewidth\": 0, \"ticks\": \"\"}}, \"type\": \"scatterpolargl\"}], \"scatterternary\": [{\"marker\": {\"colorbar\": {\"outlinewidth\": 0, \"ticks\": \"\"}}, \"type\": \"scatterternary\"}], \"surface\": [{\"colorbar\": {\"outlinewidth\": 0, \"ticks\": \"\"}, \"colorscale\": [[0.0, \"#0d0887\"], [0.1111111111111111, \"#46039f\"], [0.2222222222222222, \"#7201a8\"], [0.3333333333333333, \"#9c179e\"], [0.4444444444444444, \"#bd3786\"], [0.5555555555555556, \"#d8576b\"], [0.6666666666666666, \"#ed7953\"], [0.7777777777777778, \"#fb9f3a\"], [0.8888888888888888, \"#fdca26\"], [1.0, \"#f0f921\"]], \"type\": \"surface\"}], \"table\": [{\"cells\": {\"fill\": {\"color\": \"#EBF0F8\"}, \"line\": {\"color\": \"white\"}}, \"header\": {\"fill\": {\"color\": \"#C8D4E3\"}, \"line\": {\"color\": \"white\"}}, \"type\": \"table\"}]}, \"layout\": {\"annotationdefaults\": {\"arrowcolor\": \"#2a3f5f\", \"arrowhead\": 0, \"arrowwidth\": 1}, \"coloraxis\": {\"colorbar\": {\"outlinewidth\": 0, \"ticks\": \"\"}}, \"colorscale\": {\"diverging\": [[0, \"#8e0152\"], [0.1, \"#c51b7d\"], [0.2, \"#de77ae\"], [0.3, \"#f1b6da\"], [0.4, \"#fde0ef\"], [0.5, \"#f7f7f7\"], [0.6, \"#e6f5d0\"], [0.7, \"#b8e186\"], [0.8, \"#7fbc41\"], [0.9, \"#4d9221\"], [1, \"#276419\"]], \"sequential\": [[0.0, \"#0d0887\"], [0.1111111111111111, \"#46039f\"], [0.2222222222222222, \"#7201a8\"], [0.3333333333333333, \"#9c179e\"], [0.4444444444444444, \"#bd3786\"], [0.5555555555555556, \"#d8576b\"], [0.6666666666666666, \"#ed7953\"], [0.7777777777777778, \"#fb9f3a\"], [0.8888888888888888, \"#fdca26\"], [1.0, \"#f0f921\"]], \"sequentialminus\": [[0.0, \"#0d0887\"], [0.1111111111111111, \"#46039f\"], [0.2222222222222222, \"#7201a8\"], [0.3333333333333333, \"#9c179e\"], [0.4444444444444444, \"#bd3786\"], [0.5555555555555556, \"#d8576b\"], [0.6666666666666666, \"#ed7953\"], [0.7777777777777778, \"#fb9f3a\"], [0.8888888888888888, \"#fdca26\"], [1.0, \"#f0f921\"]]}, \"colorway\": [\"#636efa\", \"#EF553B\", \"#00cc96\", \"#ab63fa\", \"#FFA15A\", \"#19d3f3\", \"#FF6692\", \"#B6E880\", \"#FF97FF\", \"#FECB52\"], \"font\": {\"color\": \"#2a3f5f\"}, \"geo\": {\"bgcolor\": \"white\", \"lakecolor\": \"white\", \"landcolor\": \"#E5ECF6\", \"showlakes\": true, \"showland\": true, \"subunitcolor\": \"white\"}, \"hoverlabel\": {\"align\": \"left\"}, \"hovermode\": \"closest\", \"mapbox\": {\"style\": \"light\"}, \"paper_bgcolor\": \"white\", \"plot_bgcolor\": \"#E5ECF6\", \"polar\": {\"angularaxis\": {\"gridcolor\": \"white\", \"linecolor\": \"white\", \"ticks\": \"\"}, \"bgcolor\": \"#E5ECF6\", \"radialaxis\": {\"gridcolor\": \"white\", \"linecolor\": \"white\", \"ticks\": \"\"}}, \"scene\": {\"xaxis\": {\"backgroundcolor\": \"#E5ECF6\", \"gridcolor\": \"white\", \"gridwidth\": 2, \"linecolor\": \"white\", \"showbackground\": true, \"ticks\": \"\", \"zerolinecolor\": \"white\"}, \"yaxis\": {\"backgroundcolor\": \"#E5ECF6\", \"gridcolor\": \"white\", \"gridwidth\": 2, \"linecolor\": \"white\", \"showbackground\": true, \"ticks\": \"\", \"zerolinecolor\": \"white\"}, \"zaxis\": {\"backgroundcolor\": \"#E5ECF6\", \"gridcolor\": \"white\", \"gridwidth\": 2, \"linecolor\": \"white\", \"showbackground\": true, \"ticks\": \"\", \"zerolinecolor\": \"white\"}}, \"shapedefaults\": {\"line\": {\"color\": \"#2a3f5f\"}}, \"ternary\": {\"aaxis\": {\"gridcolor\": \"white\", \"linecolor\": \"white\", \"ticks\": \"\"}, \"baxis\": {\"gridcolor\": \"white\", \"linecolor\": \"white\", \"ticks\": \"\"}, \"bgcolor\": \"#E5ECF6\", \"caxis\": {\"gridcolor\": \"white\", \"linecolor\": \"white\", \"ticks\": \"\"}}, \"title\": {\"x\": 0.05}, \"xaxis\": {\"automargin\": true, \"gridcolor\": \"white\", \"linecolor\": \"white\", \"ticks\": \"\", \"title\": {\"standoff\": 15}, \"zerolinecolor\": \"white\", \"zerolinewidth\": 2}, \"yaxis\": {\"automargin\": true, \"gridcolor\": \"white\", \"linecolor\": \"white\", \"ticks\": \"\", \"title\": {\"standoff\": 15}, \"zerolinecolor\": \"white\", \"zerolinewidth\": 2}}}, \"title\": {\"text\": \"Count of Clicks per Campaign\"}, \"xaxis\": {\"anchor\": \"y\", \"domain\": [0.0, 1.0]}, \"yaxis\": {\"anchor\": \"x\", \"domain\": [0.0, 1.0]}},\n",
              "                        {\"responsive\": true}\n",
              "                    ).then(function(){\n",
              "                            \n",
              "var gd = document.getElementById('e87c6114-cbb6-48c3-9e50-9c01fb689ca0');\n",
              "var x = new MutationObserver(function (mutations, observer) {{\n",
              "        var display = window.getComputedStyle(gd).display;\n",
              "        if (!display || display === 'none') {{\n",
              "            console.log([gd, 'removed!']);\n",
              "            Plotly.purge(gd);\n",
              "            observer.disconnect();\n",
              "        }}\n",
              "}});\n",
              "\n",
              "// Listen for the removal of the full notebook cells\n",
              "var notebookContainer = gd.closest('#notebook-container');\n",
              "if (notebookContainer) {{\n",
              "    x.observe(notebookContainer, {childList: true});\n",
              "}}\n",
              "\n",
              "// Listen for the clearing of the current output cell\n",
              "var outputEl = gd.closest('.output');\n",
              "if (outputEl) {{\n",
              "    x.observe(outputEl, {childList: true});\n",
              "}}\n",
              "\n",
              "                        })\n",
              "                };\n",
              "                \n",
              "            </script>\n",
              "        </div>\n",
              "</body>\n",
              "</html>"
            ]
          },
          "metadata": {}
        }
      ]
    },
    {
      "cell_type": "code",
      "source": [
        "# Gender-wise distribution of clicks\n",
        "px.pie(dataset,names='gender', values='Clicks', title='Gender Vs Clicks',color_discrete_sequence=px.colors.sequential.Blues_r,hole=.3)"
      ],
      "metadata": {
        "colab": {
          "base_uri": "https://localhost:8080/",
          "height": 542
        },
        "id": "T6SGp6nlL9ko",
        "outputId": "a6b47be8-dce2-479d-9a2d-fb250fdd92d1"
      },
      "execution_count": null,
      "outputs": [
        {
          "output_type": "display_data",
          "data": {
            "text/html": [
              "<html>\n",
              "<head><meta charset=\"utf-8\" /></head>\n",
              "<body>\n",
              "    <div>\n",
              "            <script src=\"https://cdnjs.cloudflare.com/ajax/libs/mathjax/2.7.5/MathJax.js?config=TeX-AMS-MML_SVG\"></script><script type=\"text/javascript\">if (window.MathJax) {MathJax.Hub.Config({SVG: {font: \"STIX-Web\"}});}</script>\n",
              "                <script type=\"text/javascript\">window.PlotlyConfig = {MathJaxConfig: 'local'};</script>\n",
              "        <script src=\"https://cdn.plot.ly/plotly-latest.min.js\"></script>    \n",
              "            <div id=\"9cf5a54d-b96e-4ca3-83e0-a3efdd4114a1\" class=\"plotly-graph-div\" style=\"height:525px; width:100%;\"></div>\n",
              "            <script type=\"text/javascript\">\n",
              "                \n",
              "                    window.PLOTLYENV=window.PLOTLYENV || {};\n",
              "                    \n",
              "                if (document.getElementById(\"9cf5a54d-b96e-4ca3-83e0-a3efdd4114a1\")) {\n",
              "                    Plotly.newPlot(\n",
              "                        '9cf5a54d-b96e-4ca3-83e0-a3efdd4114a1',\n",
              "                        [{\"domain\": {\"x\": [0.0, 1.0], \"y\": [0.0, 1.0]}, \"hole\": 0.3, \"hoverlabel\": {\"namelength\": 0}, \"hovertemplate\": \"gender=%{label}<br>Clicks=%{value}\", \"labels\": [\"M\", \"M\", \"M\", \"M\", \"M\", \"M\", \"M\", \"M\", \"M\", \"M\", \"M\", \"M\", \"M\", \"M\", \"M\", \"M\", \"M\", \"M\", \"M\", \"M\", \"M\", \"M\", \"M\", \"M\", \"M\", \"M\", \"M\", \"M\", \"M\", \"M\", \"M\", \"M\", \"M\", \"M\", \"M\", \"F\", \"F\", \"F\", \"F\", \"F\", \"F\", \"F\", \"F\", \"F\", \"F\", \"F\", \"F\", \"F\", \"F\", \"F\", \"F\", \"F\", \"F\", \"F\", \"M\", \"M\", \"M\", \"M\", \"M\", \"M\", \"M\", \"M\", \"M\", \"M\", \"M\", \"M\", \"M\", \"M\", \"M\", \"M\", \"M\", \"M\", \"M\", \"M\", \"M\", \"M\", \"M\", \"F\", \"F\", \"F\", \"F\", \"F\", \"F\", \"F\", \"F\", \"F\", \"F\", \"F\", \"F\", \"F\", \"F\", \"F\", \"F\", \"F\", \"F\", \"F\", \"F\", \"F\", \"F\", \"F\", \"F\", \"F\", \"F\", \"F\", \"F\", \"F\", \"F\", \"F\", \"F\", \"F\", \"F\", \"F\", \"M\", \"M\", \"M\", \"M\", \"M\", \"M\", \"M\", \"M\", \"M\", \"M\", \"M\", \"M\", \"M\", \"M\", \"M\", \"M\", \"M\", \"F\", \"F\", \"F\", \"F\", \"F\", \"F\", \"F\", \"F\", \"F\", \"F\", \"F\", \"F\", \"F\", \"F\", \"F\", \"F\", \"F\", \"F\", \"F\", \"F\", \"F\", \"F\", \"F\", \"M\", \"M\", \"M\", \"M\", \"M\", \"M\", \"M\", \"M\", \"M\", \"M\", \"M\", \"M\", \"M\", \"M\", \"M\", \"M\", \"M\", \"M\", \"M\", \"M\", \"F\", \"F\", \"F\", \"F\", \"F\", \"F\", \"F\", \"F\", \"F\", \"F\", \"F\", \"F\", \"F\", \"F\", \"F\", \"F\", \"F\", \"F\", \"F\", \"F\", \"F\", \"F\", \"F\", \"F\", \"F\", \"F\", \"F\", \"F\", \"F\", \"F\", \"F\", \"F\", \"F\", \"F\", \"F\", \"F\", \"F\", \"F\", \"F\", \"F\", \"F\", \"F\", \"F\", \"F\", \"M\", \"F\", \"F\", \"M\", \"M\", \"M\", \"M\", \"F\", \"M\", \"F\", \"F\", \"F\", \"F\", \"F\", \"F\", \"F\", \"F\", \"F\", \"F\", \"F\", \"M\", \"M\", \"M\", \"M\", \"M\", \"M\", \"M\", \"M\", \"M\", \"M\", \"M\", \"M\", \"M\", \"M\", \"M\", \"M\", \"M\", \"M\", \"M\", \"M\", \"M\", \"M\", \"M\", \"M\", \"M\", \"M\", \"M\", \"M\", \"M\", \"M\", \"M\", \"M\", \"M\", \"M\", \"M\", \"M\", \"M\", \"M\", \"M\", \"M\", \"F\", \"M\", \"M\", \"M\", \"M\", \"M\", \"M\", \"M\", \"M\", \"M\", \"M\", \"M\", \"M\", \"M\", \"M\", \"M\", \"M\", \"M\", \"M\", \"M\", \"M\", \"M\", \"M\", \"M\", \"M\", \"M\", \"M\", \"M\", \"M\", \"M\", \"F\", \"F\", \"F\", \"F\", \"F\", \"M\", \"M\", \"F\", \"M\", \"M\", \"M\", \"F\", \"M\", \"M\", \"M\", \"M\", \"F\", \"M\", \"F\", \"M\", \"M\", \"F\", \"M\", \"F\", \"F\", \"M\", \"M\", \"F\", \"F\", \"F\", \"F\", \"F\", \"F\", \"F\", \"F\", \"F\", \"F\", \"F\", \"M\", \"M\", \"F\", \"F\", \"F\", \"M\", \"M\", \"F\", \"F\", \"F\", \"F\", \"F\", \"F\", \"F\", \"F\", \"F\", \"F\", \"F\", \"F\", \"F\", \"F\", \"F\", \"F\", \"F\", \"F\", \"F\", \"F\", \"F\", \"F\", \"F\", \"F\", \"F\", \"F\", \"F\", \"F\", \"F\", \"F\", \"F\", \"F\", \"F\", \"F\", \"F\", \"F\", \"F\", \"F\", \"M\", \"M\", \"M\", \"F\", \"F\", \"F\", \"M\", \"F\", \"F\", \"M\", \"M\", \"F\", \"M\", \"M\", \"F\", \"M\", \"M\", \"F\", \"F\", \"F\", \"F\", \"F\", \"F\", \"M\", \"M\", \"F\", \"F\", \"F\", \"F\", \"F\", \"F\", \"F\", \"M\", \"F\", \"M\", \"F\", \"F\", \"F\", \"F\", \"F\", \"F\", \"M\", \"M\", \"M\", \"M\", \"M\", \"M\", \"M\", \"M\", \"M\", \"M\", \"M\", \"M\", \"M\", \"M\", \"M\", \"M\", \"M\", \"M\", \"M\", \"M\", \"M\", \"M\", \"M\", \"M\", \"M\", \"M\", \"M\", \"M\", \"M\", \"M\", \"M\", \"M\", \"M\", \"M\", \"M\", \"M\", \"M\", \"F\", \"F\", \"F\", \"F\", \"F\", \"F\", \"M\", \"M\", \"M\", \"F\", \"F\", \"F\", \"F\", \"F\", \"F\", \"F\", \"F\", \"F\", \"F\", \"F\", \"F\", \"F\", \"F\", \"F\", \"F\", \"F\", \"F\", \"F\", \"F\", \"F\", \"F\", \"F\", \"F\", \"F\", \"F\", \"F\", \"F\", \"F\", \"F\", \"F\", \"F\", \"F\", \"F\", \"F\", \"F\", \"F\", \"F\", \"F\", \"F\", \"F\", \"F\", \"M\", \"M\", \"M\", \"M\", \"M\", \"M\", \"M\", \"M\", \"M\", \"M\", \"M\", \"M\", \"M\", \"M\", \"M\", \"M\", \"M\", \"M\", \"M\", \"M\", \"M\", \"M\", \"M\", \"M\", \"M\", \"M\", \"M\", \"M\", \"M\", \"M\", \"M\", \"M\", \"M\", \"M\", \"M\", \"M\", \"M\", \"M\", \"M\", \"M\", \"M\", \"M\", \"M\", \"M\", \"M\", \"M\", \"M\", \"M\", \"M\", \"M\", \"M\", \"M\", \"M\", \"M\", \"M\", \"M\", \"M\", \"M\", \"M\", \"M\", \"M\", \"M\", \"M\", \"M\", \"M\", \"M\", \"M\", \"M\", \"M\", \"M\", \"M\", \"M\", \"M\", \"M\", \"M\", \"M\", \"M\", \"M\", \"M\", \"M\", \"M\", \"M\", \"M\", \"M\", \"M\", \"M\", \"M\", \"M\", \"M\", \"M\", \"M\", \"M\", \"M\", \"M\", \"M\", \"M\", \"M\", \"M\", \"M\", \"M\", \"M\", \"M\", \"M\", \"M\", \"M\", \"M\", \"M\", \"M\", \"M\", \"M\", \"M\", \"M\", \"M\", \"M\", \"M\", \"M\", \"M\", \"M\", \"M\", \"M\", \"M\", \"M\", \"M\", \"M\", \"M\", \"M\", \"M\", \"M\", \"M\", \"M\", \"M\", \"M\", \"M\", \"M\", \"M\", \"M\", \"M\", \"M\", \"M\", \"M\", \"M\", \"M\", \"M\", \"M\", \"M\", \"M\", \"M\", \"M\", \"M\", \"M\", \"M\", \"M\", \"M\", \"M\", \"M\", \"M\", \"M\", \"M\", \"M\", \"M\", \"M\", \"M\", \"M\", \"M\", \"M\", \"M\", \"M\", \"M\", \"M\", \"M\", \"M\", \"M\", \"M\", \"M\", \"M\", \"M\", \"M\", \"M\", \"M\", \"M\", \"M\", \"M\", \"M\", \"M\", \"M\", \"M\", \"M\", \"M\", \"M\", \"M\", \"M\", \"M\", \"M\", \"M\", \"M\", \"M\", \"M\", \"M\", \"M\", \"M\", \"M\", \"M\", \"M\", \"M\", \"M\", \"M\", \"M\", \"M\", \"M\", \"M\", \"M\", \"M\", \"M\", \"M\", \"M\", \"M\", \"M\", \"M\", \"M\", \"M\", \"M\", \"M\", \"M\", \"M\", \"M\", \"M\", \"M\", \"M\", \"M\", \"M\", \"M\", \"M\", \"M\", \"M\", \"M\", \"M\", \"M\", \"M\", \"M\", \"M\", \"M\", \"M\", \"M\", \"M\", \"M\", \"M\", \"M\", \"M\", \"M\", \"M\", \"M\", \"M\", \"M\", \"M\", \"M\", \"M\", \"M\", \"M\", \"M\", \"M\", \"M\", \"M\", \"M\", \"M\", \"M\", \"M\", \"M\", \"M\", \"M\", \"M\", \"M\", \"M\", \"M\", \"M\", \"M\", \"M\", \"M\", \"M\", \"M\", \"M\", \"M\", \"M\", \"M\", \"M\", \"M\", \"M\", \"M\", \"M\", \"M\", \"M\", \"M\", \"M\", \"M\", \"M\", \"M\", \"M\", \"M\", \"M\", \"M\", \"M\", \"M\", \"M\", \"M\", \"M\", \"M\", \"M\", \"F\", \"F\", \"F\", \"F\", \"F\", \"F\", \"F\", \"F\", \"F\", \"F\", \"F\", \"F\", \"F\", \"F\", \"F\", \"F\", \"F\", \"F\", \"F\", \"F\", \"F\", \"F\", \"F\", \"F\", \"F\", \"F\", \"F\", \"F\", \"F\", \"F\", \"F\", \"F\", \"F\", \"F\", \"F\", \"F\", \"F\", \"F\", \"F\", \"F\", \"F\", \"F\", \"F\", \"F\", \"F\", \"F\", \"F\", \"F\", \"F\", \"F\", \"F\", \"F\", \"F\", \"F\", \"F\", \"F\", \"F\", \"F\", \"F\", \"F\", \"F\", \"F\", \"F\", \"F\", \"F\", \"F\", \"F\", \"F\", \"F\", \"F\", \"F\", \"F\", \"F\", \"F\", \"F\", \"F\", \"F\", \"F\", \"F\", \"F\", \"F\", \"F\", \"F\", \"F\", \"F\", \"F\", \"F\", \"F\", \"F\", \"F\", \"F\", \"F\", \"F\", \"F\", \"F\", \"F\", \"F\", \"F\", \"F\", \"F\", \"F\", \"F\", \"F\", \"F\", \"F\", \"F\", \"F\", \"F\", \"F\", \"F\", \"F\", \"F\", \"F\", \"F\", \"F\", \"F\", \"F\", \"F\", \"F\", \"F\", \"F\", \"F\", \"F\", \"F\", \"F\", \"F\", \"F\", \"F\", \"F\", \"F\", \"F\", \"F\", \"F\", \"F\", \"F\", \"F\", \"F\", \"F\", \"F\", \"F\", \"F\", \"F\", \"F\", \"F\", \"F\", \"F\", \"F\", \"F\", \"F\", \"F\", \"F\", \"F\", \"F\", \"F\", \"F\", \"F\", \"F\", \"F\", \"F\", \"F\", \"F\", \"F\", \"F\", \"F\", \"F\", \"F\", \"F\", \"F\", \"F\", \"F\", \"F\", \"F\", \"F\", \"F\", \"F\", \"F\", \"F\", \"F\", \"F\", \"F\", \"F\", \"F\", \"F\", \"F\", \"F\", \"F\", \"F\", \"F\", \"F\", \"F\", \"F\", \"F\", \"F\", \"F\", \"F\", \"F\", \"F\", \"F\", \"F\", \"F\", \"F\", \"F\", \"F\", \"F\", \"F\", \"F\", \"F\", \"F\", \"F\", \"F\", \"F\", \"F\", \"F\", \"F\", \"F\", \"F\", \"F\", \"F\", \"F\", \"F\", \"F\", \"F\", \"F\", \"F\", \"M\", \"M\", \"M\", \"M\", \"M\", \"M\", \"M\", \"M\", \"M\", \"M\", \"M\", \"M\", \"M\", \"M\", \"M\", \"M\", \"M\", \"M\", \"M\", \"M\", \"M\", \"M\", \"M\", \"M\", \"M\", \"M\", \"M\", \"M\", \"M\", \"M\", \"M\", \"M\", \"M\", \"M\", \"M\", \"M\", \"M\", \"M\", \"M\", \"M\", \"M\", \"M\", \"M\", \"F\", \"F\", \"F\", \"F\", \"F\", \"F\", \"F\", \"F\", \"F\", \"F\", \"F\", \"F\", \"F\", \"F\", \"F\", \"F\", \"F\", \"F\", \"F\", \"F\", \"F\", \"F\", \"F\", \"F\", \"F\", \"F\", \"F\", \"F\", \"F\", \"F\", \"F\", \"F\", \"F\", \"F\", \"F\", \"F\", \"F\", \"F\", \"F\", \"F\", \"F\", \"F\", \"F\", \"F\", \"F\", \"F\", \"F\", \"F\", \"F\", \"F\", \"F\", \"F\"], \"legendgroup\": \"\", \"name\": \"\", \"showlegend\": true, \"type\": \"pie\", \"values\": [1, 2, 0, 1, 1, 0, 3, 1, 1, 3, 0, 0, 0, 0, 7, 0, 1, 0, 1, 4, 0, 2, 2, 2, 0, 0, 2, 4, 2, 0, 0, 7, 12, 1, 1, 0, 14, 1, 1, 7, 0, 0, 1, 7, 0, 5, 1, 2, 1, 1, 4, 0, 7, 0, 0, 4, 3, 0, 0, 0, 1, 0, 0, 1, 2, 1, 0, 0, 4, 3, 3, 2, 0, 0, 0, 3, 0, 1, 0, 7, 0, 0, 3, 13, 1, 3, 1, 0, 1, 1, 24, 3, 6, 4, 0, 0, 0, 0, 0, 0, 2, 13, 0, 1, 3, 23, 20, 0, 6, 5, 4, 28, 1, 0, 0, 0, 1, 0, 0, 0, 2, 2, 0, 1, 10, 2, 1, 0, 0, 3, 1, 0, 0, 7, 0, 0, 1, 9, 4, 36, 7, 4, 0, 0, 0, 15, 116, 27, 4, 0, 1, 38, 2, 0, 0, 2, 1, 0, 0, 1, 2, 0, 1, 0, 0, 2, 3, 3, 2, 0, 0, 0, 0, 8, 2, 5, 0, 10, 3, 5, 0, 0, 0, 0, 0, 2, 2, 2, 4, 0, 8, 7, 9, 10, 5, 21, 6, 19, 25, 24, 3, 2, 4, 0, 0, 34, 23, 114, 48, 6, 11, 8, 4, 0, 16, 1, 0, 1, 15, 2, 1, 5, 0, 55, 0, 3, 20, 16, 3, 1, 1, 2, 8, 0, 5, 0, 3, 6, 2, 6, 2, 0, 1, 3, 1, 1, 0, 2, 0, 1, 0, 3, 1, 0, 1, 2, 0, 3, 4, 1, 28, 20, 1, 6, 5, 2, 0, 1, 0, 0, 0, 3, 4, 0, 0, 1, 1, 4, 1, 1, 1, 0, 7, 5, 12, 33, 0, 4, 0, 1, 1, 3, 0, 1, 0, 0, 4, 12, 3, 5, 2, 0, 0, 0, 2, 6, 0, 1, 19, 2, 4, 2, 0, 5, 0, 4, 0, 4, 1, 0, 0, 1, 14, 2, 1, 2, 0, 25, 0, 7, 9, 1, 0, 24, 0, 2, 1, 1, 8, 3, 4, 1, 4, 0, 3, 3, 1, 2, 1, 0, 4, 0, 0, 1, 0, 56, 7, 0, 3, 1, 0, 1, 4, 0, 0, 0, 0, 0, 5, 7, 13, 2, 3, 12, 1, 3, 2, 1, 26, 1, 1, 41, 6, 0, 20, 7, 49, 1, 1, 0, 0, 1, 1, 0, 0, 3, 38, 1, 3, 1, 0, 0, 1, 0, 3, 2, 2, 1, 0, 5, 4, 0, 0, 0, 5, 1, 1, 29, 11, 0, 3, 0, 3, 0, 7, 0, 1, 3, 3, 1, 1, 2, 0, 0, 0, 0, 0, 0, 1, 0, 2, 1, 0, 1, 0, 1, 0, 0, 1, 0, 0, 0, 0, 0, 0, 0, 0, 0, 3, 0, 0, 1, 0, 0, 0, 1, 0, 0, 1, 0, 0, 0, 4, 0, 1, 2, 3, 2, 0, 1, 2, 0, 0, 1, 1, 1, 9, 0, 0, 0, 1, 0, 2, 10, 1, 0, 0, 0, 0, 1, 0, 1, 0, 5, 1, 2, 0, 0, 4, 1, 0, 0, 2, 1, 2, 8, 0, 0, 141, 67, 0, 50, 86, 1, 123, 340, 1, 30, 202, 9, 1, 95, 123, 20, 120, 2, 55, 89, 15, 54, 46, 58, 22, 15, 152, 5, 4, 34, 1, 7, 12, 1, 5, 16, 35, 2, 2, 31, 7, 23, 80, 145, 6, 9, 33, 20, 2, 3, 120, 53, 30, 31, 5, 3, 206, 159, 65, 128, 30, 22, 38, 32, 39, 3, 30, 10, 5, 0, 43, 1, 4, 5, 3, 6, 20, 2, 13, 31, 22, 0, 11, 1, 14, 66, 19, 12, 23, 50, 0, 7, 14, 38, 20, 142, 11, 25, 23, 4, 0, 51, 9, 100, 5, 39, 50, 21, 29, 118, 128, 7, 7, 16, 50, 19, 13, 68, 9, 38, 21, 37, 42, 2, 10, 13, 27, 43, 10, 4, 24, 40, 18, 23, 11, 31, 10, 59, 3, 14, 0, 103, 43, 25, 233, 52, 125, 84, 55, 56, 43, 0, 5, 147, 6, 18, 15, 1, 63, 64, 53, 5, 6, 33, 2, 2, 15, 43, 7, 21, 26, 41, 43, 24, 12, 14, 16, 22, 2, 15, 5, 91, 36, 18, 69, 35, 26, 147, 205, 54, 6, 82, 35, 71, 81, 5, 75, 59, 23, 80, 11, 0, 28, 31, 51, 5, 8, 24, 21, 30, 63, 5, 49, 9, 11, 30, 31, 85, 120, 25, 38, 25, 14, 9, 85, 36, 8, 32, 8, 49, 11, 19, 40, 44, 5, 23, 48, 5, 1, 77, 75, 66, 221, 72, 7, 89, 42, 353, 125, 20, 190, 134, 26, 70, 84, 60, 65, 72, 15, 20, 80, 20, 28, 2, 10, 7, 81, 8, 2, 18, 21, 81, 23, 24, 4, 105, 25, 35, 46, 62, 57, 172, 26, 24, 11, 86, 18, 17, 168, 258, 22, 9, 19, 24, 197, 147, 82, 3, 3, 25, 28, 12, 10, 16, 10, 11, 46, 30, 27, 177, 52, 30, 101, 35, 20, 98, 91, 69, 101, 11, 3, 7, 16, 113, 43, 51, 130, 25, 15, 45, 20, 3, 111, 0, 39, 3, 23, 19, 119, 26, 49, 170, 421, 36, 37, 127, 13, 268, 1, 295, 63, 3, 153, 34, 33, 16, 7, 1, 77, 24, 20, 60, 0, 4, 0, 2, 212, 12, 38, 35, 23, 60, 11, 16, 2, 2, 0, 28, 15, 7, 7, 43, 6, 25, 28, 229, 124, 25, 2, 172, 114, 222, 23, 161, 194, 20, 56, 77, 57, 8, 15, 63, 12, 16, 27, 35, 47, 1, 26, 40, 52, 230, 162, 8, 25, 135, 26, 22, 50, 210, 125, 81, 56, 43, 37, 55, 5, 33, 61, 48, 138, 233, 49, 142, 51, 39, 170, 182, 3, 11, 42, 7, 17, 51, 27, 63, 35, 69, 77, 183, 83, 276, 245, 24, 46, 35, 113, 194, 29, 13, 24, 21, 32, 79, 19, 135, 21, 41, 13, 28, 22, 12, 12, 17, 179, 97, 137, 346, 163, 139, 68, 202, 164, 198, 247, 227, 194, 76, 164, 7, 19, 206, 107, 73, 10, 53, 55, 109, 90, 32, 5, 84, 129, 71, 186, 28, 146, 265, 367, 272, 78, 53, 16, 96, 266, 138, 66, 227, 34, 6, 13, 28, 97, 282, 117, 136, 43, 131, 91, 88, 2, 5, 2, 18, 37, 42, 34, 9, 2, 22, 2, 16, 12, 33, 9, 14, 14, 30, 17, 8, 5, 9, 10, 1, 19, 10, 41, 18, 24, 9, 10, 6, 12, 18, 20, 5, 13, 34, 57, 25, 13, 9, 21, 81, 9, 68, 76, 86, 26, 86, 8, 100, 10, 117, 80, 11, 167, 33, 114, 139, 72, 88, 47, 14, 6, 53, 11, 166, 152, 48, 224, 58, 38, 159, 149, 223, 61, 75, 83, 211, 40, 195, 107, 24, 11, 110, 235, 23, 160, 33, 252, 120, 28, 135, 114]}],\n",
              "                        {\"legend\": {\"tracegroupgap\": 0}, \"piecolorway\": [\"rgb(8,48,107)\", \"rgb(8,81,156)\", \"rgb(33,113,181)\", \"rgb(66,146,198)\", \"rgb(107,174,214)\", \"rgb(158,202,225)\", \"rgb(198,219,239)\", \"rgb(222,235,247)\", \"rgb(247,251,255)\"], \"template\": {\"data\": {\"bar\": [{\"error_x\": {\"color\": \"#2a3f5f\"}, \"error_y\": {\"color\": \"#2a3f5f\"}, \"marker\": {\"line\": {\"color\": \"#E5ECF6\", \"width\": 0.5}}, \"type\": \"bar\"}], \"barpolar\": [{\"marker\": {\"line\": {\"color\": \"#E5ECF6\", \"width\": 0.5}}, \"type\": \"barpolar\"}], \"carpet\": [{\"aaxis\": {\"endlinecolor\": \"#2a3f5f\", \"gridcolor\": \"white\", \"linecolor\": \"white\", \"minorgridcolor\": \"white\", \"startlinecolor\": \"#2a3f5f\"}, \"baxis\": {\"endlinecolor\": \"#2a3f5f\", \"gridcolor\": \"white\", \"linecolor\": \"white\", \"minorgridcolor\": \"white\", \"startlinecolor\": \"#2a3f5f\"}, \"type\": \"carpet\"}], \"choropleth\": [{\"colorbar\": {\"outlinewidth\": 0, \"ticks\": \"\"}, \"type\": \"choropleth\"}], \"contour\": [{\"colorbar\": {\"outlinewidth\": 0, \"ticks\": \"\"}, \"colorscale\": [[0.0, \"#0d0887\"], [0.1111111111111111, \"#46039f\"], [0.2222222222222222, \"#7201a8\"], [0.3333333333333333, \"#9c179e\"], [0.4444444444444444, \"#bd3786\"], [0.5555555555555556, \"#d8576b\"], [0.6666666666666666, \"#ed7953\"], [0.7777777777777778, \"#fb9f3a\"], [0.8888888888888888, \"#fdca26\"], [1.0, \"#f0f921\"]], \"type\": \"contour\"}], \"contourcarpet\": [{\"colorbar\": {\"outlinewidth\": 0, \"ticks\": \"\"}, \"type\": \"contourcarpet\"}], \"heatmap\": [{\"colorbar\": {\"outlinewidth\": 0, \"ticks\": \"\"}, \"colorscale\": [[0.0, \"#0d0887\"], [0.1111111111111111, \"#46039f\"], [0.2222222222222222, \"#7201a8\"], [0.3333333333333333, \"#9c179e\"], [0.4444444444444444, \"#bd3786\"], [0.5555555555555556, \"#d8576b\"], [0.6666666666666666, \"#ed7953\"], [0.7777777777777778, \"#fb9f3a\"], [0.8888888888888888, \"#fdca26\"], [1.0, \"#f0f921\"]], \"type\": \"heatmap\"}], \"heatmapgl\": [{\"colorbar\": {\"outlinewidth\": 0, \"ticks\": \"\"}, \"colorscale\": [[0.0, \"#0d0887\"], [0.1111111111111111, \"#46039f\"], [0.2222222222222222, \"#7201a8\"], [0.3333333333333333, \"#9c179e\"], [0.4444444444444444, \"#bd3786\"], [0.5555555555555556, \"#d8576b\"], [0.6666666666666666, \"#ed7953\"], [0.7777777777777778, \"#fb9f3a\"], [0.8888888888888888, \"#fdca26\"], [1.0, \"#f0f921\"]], \"type\": \"heatmapgl\"}], \"histogram\": [{\"marker\": {\"colorbar\": {\"outlinewidth\": 0, \"ticks\": \"\"}}, \"type\": \"histogram\"}], \"histogram2d\": [{\"colorbar\": {\"outlinewidth\": 0, \"ticks\": \"\"}, \"colorscale\": [[0.0, \"#0d0887\"], [0.1111111111111111, \"#46039f\"], [0.2222222222222222, \"#7201a8\"], [0.3333333333333333, \"#9c179e\"], [0.4444444444444444, \"#bd3786\"], [0.5555555555555556, \"#d8576b\"], [0.6666666666666666, \"#ed7953\"], [0.7777777777777778, \"#fb9f3a\"], [0.8888888888888888, \"#fdca26\"], [1.0, \"#f0f921\"]], \"type\": \"histogram2d\"}], \"histogram2dcontour\": [{\"colorbar\": {\"outlinewidth\": 0, \"ticks\": \"\"}, \"colorscale\": [[0.0, \"#0d0887\"], [0.1111111111111111, \"#46039f\"], [0.2222222222222222, \"#7201a8\"], [0.3333333333333333, \"#9c179e\"], [0.4444444444444444, \"#bd3786\"], [0.5555555555555556, \"#d8576b\"], [0.6666666666666666, \"#ed7953\"], [0.7777777777777778, \"#fb9f3a\"], [0.8888888888888888, \"#fdca26\"], [1.0, \"#f0f921\"]], \"type\": \"histogram2dcontour\"}], \"mesh3d\": [{\"colorbar\": {\"outlinewidth\": 0, \"ticks\": \"\"}, \"type\": \"mesh3d\"}], \"parcoords\": [{\"line\": {\"colorbar\": {\"outlinewidth\": 0, \"ticks\": \"\"}}, \"type\": \"parcoords\"}], \"pie\": [{\"automargin\": true, \"type\": \"pie\"}], \"scatter\": [{\"marker\": {\"colorbar\": {\"outlinewidth\": 0, \"ticks\": \"\"}}, \"type\": \"scatter\"}], \"scatter3d\": [{\"line\": {\"colorbar\": {\"outlinewidth\": 0, \"ticks\": \"\"}}, \"marker\": {\"colorbar\": {\"outlinewidth\": 0, \"ticks\": \"\"}}, \"type\": \"scatter3d\"}], \"scattercarpet\": [{\"marker\": {\"colorbar\": {\"outlinewidth\": 0, \"ticks\": \"\"}}, \"type\": \"scattercarpet\"}], \"scattergeo\": [{\"marker\": {\"colorbar\": {\"outlinewidth\": 0, \"ticks\": \"\"}}, \"type\": \"scattergeo\"}], \"scattergl\": [{\"marker\": {\"colorbar\": {\"outlinewidth\": 0, \"ticks\": \"\"}}, \"type\": \"scattergl\"}], \"scattermapbox\": [{\"marker\": {\"colorbar\": {\"outlinewidth\": 0, \"ticks\": \"\"}}, \"type\": \"scattermapbox\"}], \"scatterpolar\": [{\"marker\": {\"colorbar\": {\"outlinewidth\": 0, \"ticks\": \"\"}}, \"type\": \"scatterpolar\"}], \"scatterpolargl\": [{\"marker\": {\"colorbar\": {\"outlinewidth\": 0, \"ticks\": \"\"}}, \"type\": \"scatterpolargl\"}], \"scatterternary\": [{\"marker\": {\"colorbar\": {\"outlinewidth\": 0, \"ticks\": \"\"}}, \"type\": \"scatterternary\"}], \"surface\": [{\"colorbar\": {\"outlinewidth\": 0, \"ticks\": \"\"}, \"colorscale\": [[0.0, \"#0d0887\"], [0.1111111111111111, \"#46039f\"], [0.2222222222222222, \"#7201a8\"], [0.3333333333333333, \"#9c179e\"], [0.4444444444444444, \"#bd3786\"], [0.5555555555555556, \"#d8576b\"], [0.6666666666666666, \"#ed7953\"], [0.7777777777777778, \"#fb9f3a\"], [0.8888888888888888, \"#fdca26\"], [1.0, \"#f0f921\"]], \"type\": \"surface\"}], \"table\": [{\"cells\": {\"fill\": {\"color\": \"#EBF0F8\"}, \"line\": {\"color\": \"white\"}}, \"header\": {\"fill\": {\"color\": \"#C8D4E3\"}, \"line\": {\"color\": \"white\"}}, \"type\": \"table\"}]}, \"layout\": {\"annotationdefaults\": {\"arrowcolor\": \"#2a3f5f\", \"arrowhead\": 0, \"arrowwidth\": 1}, \"coloraxis\": {\"colorbar\": {\"outlinewidth\": 0, \"ticks\": \"\"}}, \"colorscale\": {\"diverging\": [[0, \"#8e0152\"], [0.1, \"#c51b7d\"], [0.2, \"#de77ae\"], [0.3, \"#f1b6da\"], [0.4, \"#fde0ef\"], [0.5, \"#f7f7f7\"], [0.6, \"#e6f5d0\"], [0.7, \"#b8e186\"], [0.8, \"#7fbc41\"], [0.9, \"#4d9221\"], [1, \"#276419\"]], \"sequential\": [[0.0, \"#0d0887\"], [0.1111111111111111, \"#46039f\"], [0.2222222222222222, \"#7201a8\"], [0.3333333333333333, \"#9c179e\"], [0.4444444444444444, \"#bd3786\"], [0.5555555555555556, \"#d8576b\"], [0.6666666666666666, \"#ed7953\"], [0.7777777777777778, \"#fb9f3a\"], [0.8888888888888888, \"#fdca26\"], [1.0, \"#f0f921\"]], \"sequentialminus\": [[0.0, \"#0d0887\"], [0.1111111111111111, \"#46039f\"], [0.2222222222222222, \"#7201a8\"], [0.3333333333333333, \"#9c179e\"], [0.4444444444444444, \"#bd3786\"], [0.5555555555555556, \"#d8576b\"], [0.6666666666666666, \"#ed7953\"], [0.7777777777777778, \"#fb9f3a\"], [0.8888888888888888, \"#fdca26\"], [1.0, \"#f0f921\"]]}, \"colorway\": [\"#636efa\", \"#EF553B\", \"#00cc96\", \"#ab63fa\", \"#FFA15A\", \"#19d3f3\", \"#FF6692\", \"#B6E880\", \"#FF97FF\", \"#FECB52\"], \"font\": {\"color\": \"#2a3f5f\"}, \"geo\": {\"bgcolor\": \"white\", \"lakecolor\": \"white\", \"landcolor\": \"#E5ECF6\", \"showlakes\": true, \"showland\": true, \"subunitcolor\": \"white\"}, \"hoverlabel\": {\"align\": \"left\"}, \"hovermode\": \"closest\", \"mapbox\": {\"style\": \"light\"}, \"paper_bgcolor\": \"white\", \"plot_bgcolor\": \"#E5ECF6\", \"polar\": {\"angularaxis\": {\"gridcolor\": \"white\", \"linecolor\": \"white\", \"ticks\": \"\"}, \"bgcolor\": \"#E5ECF6\", \"radialaxis\": {\"gridcolor\": \"white\", \"linecolor\": \"white\", \"ticks\": \"\"}}, \"scene\": {\"xaxis\": {\"backgroundcolor\": \"#E5ECF6\", \"gridcolor\": \"white\", \"gridwidth\": 2, \"linecolor\": \"white\", \"showbackground\": true, \"ticks\": \"\", \"zerolinecolor\": \"white\"}, \"yaxis\": {\"backgroundcolor\": \"#E5ECF6\", \"gridcolor\": \"white\", \"gridwidth\": 2, \"linecolor\": \"white\", \"showbackground\": true, \"ticks\": \"\", \"zerolinecolor\": \"white\"}, \"zaxis\": {\"backgroundcolor\": \"#E5ECF6\", \"gridcolor\": \"white\", \"gridwidth\": 2, \"linecolor\": \"white\", \"showbackground\": true, \"ticks\": \"\", \"zerolinecolor\": \"white\"}}, \"shapedefaults\": {\"line\": {\"color\": \"#2a3f5f\"}}, \"ternary\": {\"aaxis\": {\"gridcolor\": \"white\", \"linecolor\": \"white\", \"ticks\": \"\"}, \"baxis\": {\"gridcolor\": \"white\", \"linecolor\": \"white\", \"ticks\": \"\"}, \"bgcolor\": \"#E5ECF6\", \"caxis\": {\"gridcolor\": \"white\", \"linecolor\": \"white\", \"ticks\": \"\"}}, \"title\": {\"x\": 0.05}, \"xaxis\": {\"automargin\": true, \"gridcolor\": \"white\", \"linecolor\": \"white\", \"ticks\": \"\", \"title\": {\"standoff\": 15}, \"zerolinecolor\": \"white\", \"zerolinewidth\": 2}, \"yaxis\": {\"automargin\": true, \"gridcolor\": \"white\", \"linecolor\": \"white\", \"ticks\": \"\", \"title\": {\"standoff\": 15}, \"zerolinecolor\": \"white\", \"zerolinewidth\": 2}}}, \"title\": {\"text\": \"Gender Vs Spendings\"}},\n",
              "                        {\"responsive\": true}\n",
              "                    ).then(function(){\n",
              "                            \n",
              "var gd = document.getElementById('9cf5a54d-b96e-4ca3-83e0-a3efdd4114a1');\n",
              "var x = new MutationObserver(function (mutations, observer) {{\n",
              "        var display = window.getComputedStyle(gd).display;\n",
              "        if (!display || display === 'none') {{\n",
              "            console.log([gd, 'removed!']);\n",
              "            Plotly.purge(gd);\n",
              "            observer.disconnect();\n",
              "        }}\n",
              "}});\n",
              "\n",
              "// Listen for the removal of the full notebook cells\n",
              "var notebookContainer = gd.closest('#notebook-container');\n",
              "if (notebookContainer) {{\n",
              "    x.observe(notebookContainer, {childList: true});\n",
              "}}\n",
              "\n",
              "// Listen for the clearing of the current output cell\n",
              "var outputEl = gd.closest('.output');\n",
              "if (outputEl) {{\n",
              "    x.observe(outputEl, {childList: true});\n",
              "}}\n",
              "\n",
              "                        })\n",
              "                };\n",
              "                \n",
              "            </script>\n",
              "        </div>\n",
              "</body>\n",
              "</html>"
            ]
          },
          "metadata": {}
        }
      ]
    },
    {
      "cell_type": "code",
      "source": [
        "# Gender-wise distribution of clicks\n",
        "px.pie(dataset,names='age', values='Clicks', title='Age Vs Clicks',color_discrete_sequence=px.colors.sequential.Blues_r,hole=.3)"
      ],
      "metadata": {
        "colab": {
          "base_uri": "https://localhost:8080/",
          "height": 542
        },
        "id": "DbM6tj_mMEfv",
        "outputId": "39e00a45-beb1-4968-9be1-9c2851e40c94"
      },
      "execution_count": null,
      "outputs": [
        {
          "output_type": "display_data",
          "data": {
            "text/html": [
              "<html>\n",
              "<head><meta charset=\"utf-8\" /></head>\n",
              "<body>\n",
              "    <div>\n",
              "            <script src=\"https://cdnjs.cloudflare.com/ajax/libs/mathjax/2.7.5/MathJax.js?config=TeX-AMS-MML_SVG\"></script><script type=\"text/javascript\">if (window.MathJax) {MathJax.Hub.Config({SVG: {font: \"STIX-Web\"}});}</script>\n",
              "                <script type=\"text/javascript\">window.PlotlyConfig = {MathJaxConfig: 'local'};</script>\n",
              "        <script src=\"https://cdn.plot.ly/plotly-latest.min.js\"></script>    \n",
              "            <div id=\"032b402e-5bcc-4910-a074-6164e7caed9b\" class=\"plotly-graph-div\" style=\"height:525px; width:100%;\"></div>\n",
              "            <script type=\"text/javascript\">\n",
              "                \n",
              "                    window.PLOTLYENV=window.PLOTLYENV || {};\n",
              "                    \n",
              "                if (document.getElementById(\"032b402e-5bcc-4910-a074-6164e7caed9b\")) {\n",
              "                    Plotly.newPlot(\n",
              "                        '032b402e-5bcc-4910-a074-6164e7caed9b',\n",
              "                        [{\"domain\": {\"x\": [0.0, 1.0], \"y\": [0.0, 1.0]}, \"hole\": 0.3, \"hoverlabel\": {\"namelength\": 0}, \"hovertemplate\": \"age=%{label}<br>Clicks=%{value}\", \"labels\": [\"30-34\", \"30-34\", \"30-34\", \"30-34\", \"30-34\", \"30-34\", \"30-34\", \"30-34\", \"30-34\", \"30-34\", \"30-34\", \"30-34\", \"30-34\", \"30-34\", \"30-34\", \"30-34\", \"30-34\", \"30-34\", \"35-39\", \"35-39\", \"35-39\", \"35-39\", \"35-39\", \"35-39\", \"35-39\", \"35-39\", \"35-39\", \"40-44\", \"40-44\", \"40-44\", \"40-44\", \"40-44\", \"45-49\", \"45-49\", \"45-49\", \"30-34\", \"30-34\", \"30-34\", \"30-34\", \"30-34\", \"30-34\", \"30-34\", \"30-34\", \"30-34\", \"30-34\", \"30-34\", \"35-39\", \"35-39\", \"35-39\", \"40-44\", \"45-49\", \"45-49\", \"45-49\", \"45-49\", \"30-34\", \"30-34\", \"30-34\", \"30-34\", \"30-34\", \"30-34\", \"30-34\", \"30-34\", \"30-34\", \"35-39\", \"35-39\", \"35-39\", \"35-39\", \"35-39\", \"35-39\", \"35-39\", \"35-39\", \"40-44\", \"40-44\", \"45-49\", \"45-49\", \"45-49\", \"45-49\", \"30-34\", \"30-34\", \"30-34\", \"30-34\", \"30-34\", \"30-34\", \"30-34\", \"30-34\", \"30-34\", \"30-34\", \"30-34\", \"30-34\", \"35-39\", \"35-39\", \"35-39\", \"35-39\", \"35-39\", \"35-39\", \"35-39\", \"35-39\", \"35-39\", \"40-44\", \"40-44\", \"40-44\", \"40-44\", \"40-44\", \"40-44\", \"40-44\", \"45-49\", \"45-49\", \"45-49\", \"45-49\", \"45-49\", \"45-49\", \"45-49\", \"30-34\", \"30-34\", \"30-34\", \"30-34\", \"30-34\", \"30-34\", \"30-34\", \"35-39\", \"35-39\", \"35-39\", \"40-44\", \"40-44\", \"45-49\", \"45-49\", \"45-49\", \"45-49\", \"45-49\", \"30-34\", \"30-34\", \"30-34\", \"30-34\", \"30-34\", \"30-34\", \"30-34\", \"35-39\", \"40-44\", \"40-44\", \"40-44\", \"40-44\", \"40-44\", \"40-44\", \"40-44\", \"40-44\", \"45-49\", \"45-49\", \"45-49\", \"45-49\", \"45-49\", \"45-49\", \"45-49\", \"30-34\", \"30-34\", \"30-34\", \"30-34\", \"30-34\", \"30-34\", \"30-34\", \"35-39\", \"35-39\", \"35-39\", \"35-39\", \"35-39\", \"35-39\", \"40-44\", \"40-44\", \"45-49\", \"45-49\", \"45-49\", \"45-49\", \"45-49\", \"30-34\", \"30-34\", \"30-34\", \"30-34\", \"30-34\", \"30-34\", \"30-34\", \"30-34\", \"30-34\", \"30-34\", \"30-34\", \"30-34\", \"35-39\", \"35-39\", \"35-39\", \"35-39\", \"35-39\", \"35-39\", \"40-44\", \"40-44\", \"40-44\", \"40-44\", \"45-49\", \"45-49\", \"45-49\", \"45-49\", \"45-49\", \"45-49\", \"45-49\", \"45-49\", \"45-49\", \"45-49\", \"45-49\", \"45-49\", \"45-49\", \"45-49\", \"45-49\", \"45-49\", \"45-49\", \"40-44\", \"45-49\", \"45-49\", \"45-49\", \"45-49\", \"30-34\", \"45-49\", \"45-49\", \"30-34\", \"30-34\", \"30-34\", \"30-34\", \"45-49\", \"30-34\", \"45-49\", \"45-49\", \"45-49\", \"45-49\", \"30-34\", \"30-34\", \"30-34\", \"30-34\", \"30-34\", \"30-34\", \"30-34\", \"45-49\", \"45-49\", \"40-44\", \"30-34\", \"30-34\", \"30-34\", \"30-34\", \"30-34\", \"30-34\", \"40-44\", \"40-44\", \"40-44\", \"40-44\", \"30-34\", \"30-34\", \"30-34\", \"30-34\", \"30-34\", \"40-44\", \"40-44\", \"45-49\", \"45-49\", \"40-44\", \"45-49\", \"45-49\", \"45-49\", \"35-39\", \"45-49\", \"40-44\", \"35-39\", \"45-49\", \"45-49\", \"35-39\", \"35-39\", \"30-34\", \"40-44\", \"30-34\", \"30-34\", \"30-34\", \"30-34\", \"30-34\", \"40-44\", \"40-44\", \"35-39\", \"45-49\", \"45-49\", \"40-44\", \"45-49\", \"45-49\", \"45-49\", \"40-44\", \"40-44\", \"40-44\", \"35-39\", \"30-34\", \"30-34\", \"40-44\", \"30-34\", \"30-34\", \"30-34\", \"35-39\", \"30-34\", \"30-34\", \"30-34\", \"35-39\", \"35-39\", \"30-34\", \"35-39\", \"30-34\", \"30-34\", \"40-44\", \"40-44\", \"40-44\", \"40-44\", \"40-44\", \"40-44\", \"30-34\", \"40-44\", \"30-34\", \"40-44\", \"30-34\", \"40-44\", \"30-34\", \"30-34\", \"35-39\", \"30-34\", \"35-39\", \"35-39\", \"35-39\", \"30-34\", \"30-34\", \"35-39\", \"40-44\", \"35-39\", \"30-34\", \"45-49\", \"45-49\", \"35-39\", \"35-39\", \"35-39\", \"30-34\", \"35-39\", \"30-34\", \"30-34\", \"30-34\", \"30-34\", \"30-34\", \"30-34\", \"45-49\", \"45-49\", \"30-34\", \"30-34\", \"30-34\", \"35-39\", \"35-39\", \"30-34\", \"30-34\", \"30-34\", \"35-39\", \"45-49\", \"45-49\", \"30-34\", \"30-34\", \"30-34\", \"30-34\", \"30-34\", \"30-34\", \"45-49\", \"30-34\", \"30-34\", \"30-34\", \"45-49\", \"45-49\", \"30-34\", \"30-34\", \"30-34\", \"45-49\", \"45-49\", \"30-34\", \"40-44\", \"40-44\", \"40-44\", \"40-44\", \"40-44\", \"40-44\", \"40-44\", \"35-39\", \"35-39\", \"35-39\", \"35-39\", \"35-39\", \"35-39\", \"35-39\", \"30-34\", \"35-39\", \"35-39\", \"30-34\", \"30-34\", \"30-34\", \"35-39\", \"45-49\", \"35-39\", \"30-34\", \"30-34\", \"45-49\", \"30-34\", \"30-34\", \"30-34\", \"30-34\", \"30-34\", \"30-34\", \"30-34\", \"30-34\", \"30-34\", \"30-34\", \"30-34\", \"30-34\", \"30-34\", \"40-44\", \"30-34\", \"30-34\", \"45-49\", \"45-49\", \"40-44\", \"40-44\", \"30-34\", \"40-44\", \"30-34\", \"35-39\", \"35-39\", \"35-39\", \"40-44\", \"40-44\", \"35-39\", \"30-34\", \"30-34\", \"30-34\", \"30-34\", \"30-34\", \"30-34\", \"30-34\", \"30-34\", \"30-34\", \"30-34\", \"40-44\", \"35-39\", \"30-34\", \"45-49\", \"45-49\", \"45-49\", \"30-34\", \"45-49\", \"40-44\", \"30-34\", \"30-34\", \"30-34\", \"30-34\", \"30-34\", \"30-34\", \"30-34\", \"30-34\", \"30-34\", \"30-34\", \"35-39\", \"35-39\", \"35-39\", \"30-34\", \"35-39\", \"30-34\", \"40-44\", \"45-49\", \"30-34\", \"30-34\", \"30-34\", \"30-34\", \"30-34\", \"30-34\", \"45-49\", \"45-49\", \"35-39\", \"45-49\", \"35-39\", \"35-39\", \"35-39\", \"35-39\", \"35-39\", \"35-39\", \"30-34\", \"30-34\", \"30-34\", \"45-49\", \"30-34\", \"30-34\", \"30-34\", \"30-34\", \"30-34\", \"45-49\", \"45-49\", \"45-49\", \"45-49\", \"30-34\", \"40-44\", \"40-44\", \"40-44\", \"40-44\", \"35-39\", \"35-39\", \"45-49\", \"35-39\", \"45-49\", \"45-49\", \"35-39\", \"35-39\", \"45-49\", \"30-34\", \"30-34\", \"30-34\", \"30-34\", \"45-49\", \"40-44\", \"40-44\", \"35-39\", \"30-34\", \"30-34\", \"30-34\", \"30-34\", \"30-34\", \"30-34\", \"30-34\", \"30-34\", \"30-34\", \"30-34\", \"30-34\", \"30-34\", \"30-34\", \"30-34\", \"30-34\", \"30-34\", \"30-34\", \"30-34\", \"30-34\", \"30-34\", \"30-34\", \"30-34\", \"30-34\", \"30-34\", \"30-34\", \"30-34\", \"30-34\", \"30-34\", \"30-34\", \"30-34\", \"30-34\", \"30-34\", \"30-34\", \"30-34\", \"30-34\", \"30-34\", \"30-34\", \"30-34\", \"30-34\", \"30-34\", \"30-34\", \"30-34\", \"30-34\", \"30-34\", \"30-34\", \"30-34\", \"30-34\", \"30-34\", \"30-34\", \"30-34\", \"30-34\", \"30-34\", \"30-34\", \"30-34\", \"30-34\", \"30-34\", \"30-34\", \"30-34\", \"30-34\", \"30-34\", \"30-34\", \"30-34\", \"30-34\", \"30-34\", \"30-34\", \"30-34\", \"30-34\", \"30-34\", \"30-34\", \"30-34\", \"30-34\", \"30-34\", \"30-34\", \"30-34\", \"30-34\", \"30-34\", \"30-34\", \"30-34\", \"30-34\", \"30-34\", \"30-34\", \"30-34\", \"30-34\", \"30-34\", \"30-34\", \"30-34\", \"30-34\", \"30-34\", \"30-34\", \"30-34\", \"30-34\", \"30-34\", \"30-34\", \"30-34\", \"30-34\", \"30-34\", \"30-34\", \"30-34\", \"30-34\", \"30-34\", \"30-34\", \"30-34\", \"35-39\", \"35-39\", \"35-39\", \"35-39\", \"35-39\", \"35-39\", \"35-39\", \"35-39\", \"35-39\", \"35-39\", \"35-39\", \"35-39\", \"35-39\", \"35-39\", \"35-39\", \"35-39\", \"35-39\", \"35-39\", \"35-39\", \"35-39\", \"35-39\", \"35-39\", \"35-39\", \"35-39\", \"35-39\", \"35-39\", \"35-39\", \"35-39\", \"35-39\", \"35-39\", \"35-39\", \"35-39\", \"35-39\", \"35-39\", \"35-39\", \"35-39\", \"35-39\", \"35-39\", \"35-39\", \"35-39\", \"35-39\", \"35-39\", \"35-39\", \"35-39\", \"35-39\", \"35-39\", \"35-39\", \"35-39\", \"35-39\", \"35-39\", \"35-39\", \"35-39\", \"35-39\", \"35-39\", \"35-39\", \"35-39\", \"35-39\", \"35-39\", \"35-39\", \"35-39\", \"35-39\", \"35-39\", \"35-39\", \"35-39\", \"35-39\", \"35-39\", \"35-39\", \"35-39\", \"35-39\", \"35-39\", \"35-39\", \"35-39\", \"35-39\", \"35-39\", \"35-39\", \"35-39\", \"35-39\", \"35-39\", \"35-39\", \"40-44\", \"40-44\", \"40-44\", \"40-44\", \"40-44\", \"40-44\", \"40-44\", \"40-44\", \"40-44\", \"40-44\", \"40-44\", \"40-44\", \"40-44\", \"40-44\", \"40-44\", \"40-44\", \"40-44\", \"40-44\", \"40-44\", \"40-44\", \"40-44\", \"40-44\", \"40-44\", \"40-44\", \"40-44\", \"40-44\", \"40-44\", \"40-44\", \"40-44\", \"40-44\", \"40-44\", \"40-44\", \"40-44\", \"40-44\", \"40-44\", \"40-44\", \"40-44\", \"40-44\", \"40-44\", \"40-44\", \"40-44\", \"40-44\", \"40-44\", \"40-44\", \"40-44\", \"40-44\", \"40-44\", \"40-44\", \"40-44\", \"40-44\", \"40-44\", \"40-44\", \"40-44\", \"40-44\", \"40-44\", \"40-44\", \"40-44\", \"40-44\", \"45-49\", \"45-49\", \"45-49\", \"45-49\", \"45-49\", \"45-49\", \"45-49\", \"45-49\", \"45-49\", \"45-49\", \"45-49\", \"45-49\", \"45-49\", \"45-49\", \"45-49\", \"45-49\", \"45-49\", \"45-49\", \"45-49\", \"45-49\", \"45-49\", \"45-49\", \"45-49\", \"45-49\", \"45-49\", \"45-49\", \"45-49\", \"45-49\", \"45-49\", \"45-49\", \"45-49\", \"45-49\", \"45-49\", \"45-49\", \"45-49\", \"45-49\", \"45-49\", \"45-49\", \"45-49\", \"45-49\", \"45-49\", \"45-49\", \"45-49\", \"45-49\", \"45-49\", \"45-49\", \"45-49\", \"45-49\", \"45-49\", \"45-49\", \"45-49\", \"45-49\", \"45-49\", \"45-49\", \"45-49\", \"45-49\", \"45-49\", \"45-49\", \"45-49\", \"45-49\", \"45-49\", \"45-49\", \"45-49\", \"45-49\", \"45-49\", \"45-49\", \"45-49\", \"30-34\", \"30-34\", \"30-34\", \"30-34\", \"30-34\", \"30-34\", \"30-34\", \"30-34\", \"30-34\", \"30-34\", \"30-34\", \"30-34\", \"30-34\", \"30-34\", \"30-34\", \"30-34\", \"30-34\", \"30-34\", \"30-34\", \"30-34\", \"30-34\", \"30-34\", \"30-34\", \"30-34\", \"30-34\", \"30-34\", \"30-34\", \"30-34\", \"30-34\", \"30-34\", \"30-34\", \"30-34\", \"30-34\", \"30-34\", \"30-34\", \"30-34\", \"30-34\", \"30-34\", \"30-34\", \"30-34\", \"30-34\", \"30-34\", \"30-34\", \"30-34\", \"30-34\", \"30-34\", \"30-34\", \"30-34\", \"30-34\", \"30-34\", \"30-34\", \"30-34\", \"30-34\", \"30-34\", \"30-34\", \"30-34\", \"30-34\", \"30-34\", \"30-34\", \"30-34\", \"30-34\", \"30-34\", \"30-34\", \"30-34\", \"30-34\", \"30-34\", \"30-34\", \"30-34\", \"30-34\", \"30-34\", \"30-34\", \"30-34\", \"30-34\", \"30-34\", \"30-34\", \"30-34\", \"30-34\", \"35-39\", \"35-39\", \"35-39\", \"35-39\", \"35-39\", \"35-39\", \"35-39\", \"35-39\", \"35-39\", \"35-39\", \"35-39\", \"35-39\", \"35-39\", \"35-39\", \"35-39\", \"35-39\", \"35-39\", \"35-39\", \"35-39\", \"35-39\", \"35-39\", \"35-39\", \"35-39\", \"35-39\", \"35-39\", \"35-39\", \"35-39\", \"35-39\", \"35-39\", \"35-39\", \"35-39\", \"35-39\", \"35-39\", \"35-39\", \"35-39\", \"35-39\", \"35-39\", \"35-39\", \"35-39\", \"35-39\", \"35-39\", \"35-39\", \"35-39\", \"35-39\", \"35-39\", \"40-44\", \"40-44\", \"40-44\", \"40-44\", \"40-44\", \"40-44\", \"40-44\", \"40-44\", \"40-44\", \"40-44\", \"40-44\", \"40-44\", \"40-44\", \"40-44\", \"40-44\", \"40-44\", \"40-44\", \"40-44\", \"40-44\", \"40-44\", \"40-44\", \"40-44\", \"40-44\", \"40-44\", \"40-44\", \"40-44\", \"40-44\", \"40-44\", \"40-44\", \"40-44\", \"40-44\", \"40-44\", \"40-44\", \"40-44\", \"40-44\", \"40-44\", \"40-44\", \"40-44\", \"40-44\", \"40-44\", \"40-44\", \"40-44\", \"40-44\", \"40-44\", \"40-44\", \"40-44\", \"45-49\", \"45-49\", \"45-49\", \"45-49\", \"45-49\", \"45-49\", \"45-49\", \"45-49\", \"45-49\", \"45-49\", \"45-49\", \"45-49\", \"45-49\", \"45-49\", \"45-49\", \"45-49\", \"45-49\", \"45-49\", \"45-49\", \"45-49\", \"45-49\", \"45-49\", \"45-49\", \"45-49\", \"45-49\", \"45-49\", \"45-49\", \"45-49\", \"45-49\", \"45-49\", \"45-49\", \"45-49\", \"45-49\", \"45-49\", \"45-49\", \"45-49\", \"45-49\", \"45-49\", \"45-49\", \"45-49\", \"45-49\", \"45-49\", \"45-49\", \"45-49\", \"45-49\", \"45-49\", \"45-49\", \"45-49\", \"45-49\", \"45-49\", \"45-49\", \"45-49\", \"45-49\", \"45-49\", \"45-49\", \"45-49\", \"30-34\", \"30-34\", \"30-34\", \"30-34\", \"30-34\", \"30-34\", \"30-34\", \"30-34\", \"30-34\", \"30-34\", \"35-39\", \"35-39\", \"35-39\", \"35-39\", \"35-39\", \"35-39\", \"35-39\", \"35-39\", \"35-39\", \"35-39\", \"35-39\", \"40-44\", \"40-44\", \"40-44\", \"40-44\", \"40-44\", \"40-44\", \"40-44\", \"40-44\", \"40-44\", \"40-44\", \"40-44\", \"45-49\", \"45-49\", \"45-49\", \"45-49\", \"45-49\", \"45-49\", \"45-49\", \"45-49\", \"45-49\", \"45-49\", \"45-49\", \"30-34\", \"30-34\", \"30-34\", \"30-34\", \"30-34\", \"30-34\", \"30-34\", \"30-34\", \"30-34\", \"30-34\", \"30-34\", \"30-34\", \"35-39\", \"35-39\", \"35-39\", \"35-39\", \"35-39\", \"35-39\", \"35-39\", \"35-39\", \"35-39\", \"35-39\", \"35-39\", \"35-39\", \"40-44\", \"40-44\", \"40-44\", \"40-44\", \"40-44\", \"40-44\", \"40-44\", \"40-44\", \"40-44\", \"40-44\", \"40-44\", \"40-44\", \"40-44\", \"40-44\", \"45-49\", \"45-49\", \"45-49\", \"45-49\", \"45-49\", \"45-49\", \"45-49\", \"45-49\", \"45-49\", \"45-49\", \"45-49\", \"45-49\", \"45-49\", \"45-49\"], \"legendgroup\": \"\", \"name\": \"\", \"showlegend\": true, \"type\": \"pie\", \"values\": [1, 2, 0, 1, 1, 0, 3, 1, 1, 3, 0, 0, 0, 0, 7, 0, 1, 0, 1, 4, 0, 2, 2, 2, 0, 0, 2, 4, 2, 0, 0, 7, 12, 1, 1, 0, 14, 1, 1, 7, 0, 0, 1, 7, 0, 5, 1, 2, 1, 1, 4, 0, 7, 0, 0, 4, 3, 0, 0, 0, 1, 0, 0, 1, 2, 1, 0, 0, 4, 3, 3, 2, 0, 0, 0, 3, 0, 1, 0, 7, 0, 0, 3, 13, 1, 3, 1, 0, 1, 1, 24, 3, 6, 4, 0, 0, 0, 0, 0, 0, 2, 13, 0, 1, 3, 23, 20, 0, 6, 5, 4, 28, 1, 0, 0, 0, 1, 0, 0, 0, 2, 2, 0, 1, 10, 2, 1, 0, 0, 3, 1, 0, 0, 7, 0, 0, 1, 9, 4, 36, 7, 4, 0, 0, 0, 15, 116, 27, 4, 0, 1, 38, 2, 0, 0, 2, 1, 0, 0, 1, 2, 0, 1, 0, 0, 2, 3, 3, 2, 0, 0, 0, 0, 8, 2, 5, 0, 10, 3, 5, 0, 0, 0, 0, 0, 2, 2, 2, 4, 0, 8, 7, 9, 10, 5, 21, 6, 19, 25, 24, 3, 2, 4, 0, 0, 34, 23, 114, 48, 6, 11, 8, 4, 0, 16, 1, 0, 1, 15, 2, 1, 5, 0, 55, 0, 3, 20, 16, 3, 1, 1, 2, 8, 0, 5, 0, 3, 6, 2, 6, 2, 0, 1, 3, 1, 1, 0, 2, 0, 1, 0, 3, 1, 0, 1, 2, 0, 3, 4, 1, 28, 20, 1, 6, 5, 2, 0, 1, 0, 0, 0, 3, 4, 0, 0, 1, 1, 4, 1, 1, 1, 0, 7, 5, 12, 33, 0, 4, 0, 1, 1, 3, 0, 1, 0, 0, 4, 12, 3, 5, 2, 0, 0, 0, 2, 6, 0, 1, 19, 2, 4, 2, 0, 5, 0, 4, 0, 4, 1, 0, 0, 1, 14, 2, 1, 2, 0, 25, 0, 7, 9, 1, 0, 24, 0, 2, 1, 1, 8, 3, 4, 1, 4, 0, 3, 3, 1, 2, 1, 0, 4, 0, 0, 1, 0, 56, 7, 0, 3, 1, 0, 1, 4, 0, 0, 0, 0, 0, 5, 7, 13, 2, 3, 12, 1, 3, 2, 1, 26, 1, 1, 41, 6, 0, 20, 7, 49, 1, 1, 0, 0, 1, 1, 0, 0, 3, 38, 1, 3, 1, 0, 0, 1, 0, 3, 2, 2, 1, 0, 5, 4, 0, 0, 0, 5, 1, 1, 29, 11, 0, 3, 0, 3, 0, 7, 0, 1, 3, 3, 1, 1, 2, 0, 0, 0, 0, 0, 0, 1, 0, 2, 1, 0, 1, 0, 1, 0, 0, 1, 0, 0, 0, 0, 0, 0, 0, 0, 0, 3, 0, 0, 1, 0, 0, 0, 1, 0, 0, 1, 0, 0, 0, 4, 0, 1, 2, 3, 2, 0, 1, 2, 0, 0, 1, 1, 1, 9, 0, 0, 0, 1, 0, 2, 10, 1, 0, 0, 0, 0, 1, 0, 1, 0, 5, 1, 2, 0, 0, 4, 1, 0, 0, 2, 1, 2, 8, 0, 0, 141, 67, 0, 50, 86, 1, 123, 340, 1, 30, 202, 9, 1, 95, 123, 20, 120, 2, 55, 89, 15, 54, 46, 58, 22, 15, 152, 5, 4, 34, 1, 7, 12, 1, 5, 16, 35, 2, 2, 31, 7, 23, 80, 145, 6, 9, 33, 20, 2, 3, 120, 53, 30, 31, 5, 3, 206, 159, 65, 128, 30, 22, 38, 32, 39, 3, 30, 10, 5, 0, 43, 1, 4, 5, 3, 6, 20, 2, 13, 31, 22, 0, 11, 1, 14, 66, 19, 12, 23, 50, 0, 7, 14, 38, 20, 142, 11, 25, 23, 4, 0, 51, 9, 100, 5, 39, 50, 21, 29, 118, 128, 7, 7, 16, 50, 19, 13, 68, 9, 38, 21, 37, 42, 2, 10, 13, 27, 43, 10, 4, 24, 40, 18, 23, 11, 31, 10, 59, 3, 14, 0, 103, 43, 25, 233, 52, 125, 84, 55, 56, 43, 0, 5, 147, 6, 18, 15, 1, 63, 64, 53, 5, 6, 33, 2, 2, 15, 43, 7, 21, 26, 41, 43, 24, 12, 14, 16, 22, 2, 15, 5, 91, 36, 18, 69, 35, 26, 147, 205, 54, 6, 82, 35, 71, 81, 5, 75, 59, 23, 80, 11, 0, 28, 31, 51, 5, 8, 24, 21, 30, 63, 5, 49, 9, 11, 30, 31, 85, 120, 25, 38, 25, 14, 9, 85, 36, 8, 32, 8, 49, 11, 19, 40, 44, 5, 23, 48, 5, 1, 77, 75, 66, 221, 72, 7, 89, 42, 353, 125, 20, 190, 134, 26, 70, 84, 60, 65, 72, 15, 20, 80, 20, 28, 2, 10, 7, 81, 8, 2, 18, 21, 81, 23, 24, 4, 105, 25, 35, 46, 62, 57, 172, 26, 24, 11, 86, 18, 17, 168, 258, 22, 9, 19, 24, 197, 147, 82, 3, 3, 25, 28, 12, 10, 16, 10, 11, 46, 30, 27, 177, 52, 30, 101, 35, 20, 98, 91, 69, 101, 11, 3, 7, 16, 113, 43, 51, 130, 25, 15, 45, 20, 3, 111, 0, 39, 3, 23, 19, 119, 26, 49, 170, 421, 36, 37, 127, 13, 268, 1, 295, 63, 3, 153, 34, 33, 16, 7, 1, 77, 24, 20, 60, 0, 4, 0, 2, 212, 12, 38, 35, 23, 60, 11, 16, 2, 2, 0, 28, 15, 7, 7, 43, 6, 25, 28, 229, 124, 25, 2, 172, 114, 222, 23, 161, 194, 20, 56, 77, 57, 8, 15, 63, 12, 16, 27, 35, 47, 1, 26, 40, 52, 230, 162, 8, 25, 135, 26, 22, 50, 210, 125, 81, 56, 43, 37, 55, 5, 33, 61, 48, 138, 233, 49, 142, 51, 39, 170, 182, 3, 11, 42, 7, 17, 51, 27, 63, 35, 69, 77, 183, 83, 276, 245, 24, 46, 35, 113, 194, 29, 13, 24, 21, 32, 79, 19, 135, 21, 41, 13, 28, 22, 12, 12, 17, 179, 97, 137, 346, 163, 139, 68, 202, 164, 198, 247, 227, 194, 76, 164, 7, 19, 206, 107, 73, 10, 53, 55, 109, 90, 32, 5, 84, 129, 71, 186, 28, 146, 265, 367, 272, 78, 53, 16, 96, 266, 138, 66, 227, 34, 6, 13, 28, 97, 282, 117, 136, 43, 131, 91, 88, 2, 5, 2, 18, 37, 42, 34, 9, 2, 22, 2, 16, 12, 33, 9, 14, 14, 30, 17, 8, 5, 9, 10, 1, 19, 10, 41, 18, 24, 9, 10, 6, 12, 18, 20, 5, 13, 34, 57, 25, 13, 9, 21, 81, 9, 68, 76, 86, 26, 86, 8, 100, 10, 117, 80, 11, 167, 33, 114, 139, 72, 88, 47, 14, 6, 53, 11, 166, 152, 48, 224, 58, 38, 159, 149, 223, 61, 75, 83, 211, 40, 195, 107, 24, 11, 110, 235, 23, 160, 33, 252, 120, 28, 135, 114]}],\n",
              "                        {\"legend\": {\"tracegroupgap\": 0}, \"piecolorway\": [\"rgb(8,48,107)\", \"rgb(8,81,156)\", \"rgb(33,113,181)\", \"rgb(66,146,198)\", \"rgb(107,174,214)\", \"rgb(158,202,225)\", \"rgb(198,219,239)\", \"rgb(222,235,247)\", \"rgb(247,251,255)\"], \"template\": {\"data\": {\"bar\": [{\"error_x\": {\"color\": \"#2a3f5f\"}, \"error_y\": {\"color\": \"#2a3f5f\"}, \"marker\": {\"line\": {\"color\": \"#E5ECF6\", \"width\": 0.5}}, \"type\": \"bar\"}], \"barpolar\": [{\"marker\": {\"line\": {\"color\": \"#E5ECF6\", \"width\": 0.5}}, \"type\": \"barpolar\"}], \"carpet\": [{\"aaxis\": {\"endlinecolor\": \"#2a3f5f\", \"gridcolor\": \"white\", \"linecolor\": \"white\", \"minorgridcolor\": \"white\", \"startlinecolor\": \"#2a3f5f\"}, \"baxis\": {\"endlinecolor\": \"#2a3f5f\", \"gridcolor\": \"white\", \"linecolor\": \"white\", \"minorgridcolor\": \"white\", \"startlinecolor\": \"#2a3f5f\"}, \"type\": \"carpet\"}], \"choropleth\": [{\"colorbar\": {\"outlinewidth\": 0, \"ticks\": \"\"}, \"type\": \"choropleth\"}], \"contour\": [{\"colorbar\": {\"outlinewidth\": 0, \"ticks\": \"\"}, \"colorscale\": [[0.0, \"#0d0887\"], [0.1111111111111111, \"#46039f\"], [0.2222222222222222, \"#7201a8\"], [0.3333333333333333, \"#9c179e\"], [0.4444444444444444, \"#bd3786\"], [0.5555555555555556, \"#d8576b\"], [0.6666666666666666, \"#ed7953\"], [0.7777777777777778, \"#fb9f3a\"], [0.8888888888888888, \"#fdca26\"], [1.0, \"#f0f921\"]], \"type\": \"contour\"}], \"contourcarpet\": [{\"colorbar\": {\"outlinewidth\": 0, \"ticks\": \"\"}, \"type\": \"contourcarpet\"}], \"heatmap\": [{\"colorbar\": {\"outlinewidth\": 0, \"ticks\": \"\"}, \"colorscale\": [[0.0, \"#0d0887\"], [0.1111111111111111, \"#46039f\"], [0.2222222222222222, \"#7201a8\"], [0.3333333333333333, \"#9c179e\"], [0.4444444444444444, \"#bd3786\"], [0.5555555555555556, \"#d8576b\"], [0.6666666666666666, \"#ed7953\"], [0.7777777777777778, \"#fb9f3a\"], [0.8888888888888888, \"#fdca26\"], [1.0, \"#f0f921\"]], \"type\": \"heatmap\"}], \"heatmapgl\": [{\"colorbar\": {\"outlinewidth\": 0, \"ticks\": \"\"}, \"colorscale\": [[0.0, \"#0d0887\"], [0.1111111111111111, \"#46039f\"], [0.2222222222222222, \"#7201a8\"], [0.3333333333333333, \"#9c179e\"], [0.4444444444444444, \"#bd3786\"], [0.5555555555555556, \"#d8576b\"], [0.6666666666666666, \"#ed7953\"], [0.7777777777777778, \"#fb9f3a\"], [0.8888888888888888, \"#fdca26\"], [1.0, \"#f0f921\"]], \"type\": \"heatmapgl\"}], \"histogram\": [{\"marker\": {\"colorbar\": {\"outlinewidth\": 0, \"ticks\": \"\"}}, \"type\": \"histogram\"}], \"histogram2d\": [{\"colorbar\": {\"outlinewidth\": 0, \"ticks\": \"\"}, \"colorscale\": [[0.0, \"#0d0887\"], [0.1111111111111111, \"#46039f\"], [0.2222222222222222, \"#7201a8\"], [0.3333333333333333, \"#9c179e\"], [0.4444444444444444, \"#bd3786\"], [0.5555555555555556, \"#d8576b\"], [0.6666666666666666, \"#ed7953\"], [0.7777777777777778, \"#fb9f3a\"], [0.8888888888888888, \"#fdca26\"], [1.0, \"#f0f921\"]], \"type\": \"histogram2d\"}], \"histogram2dcontour\": [{\"colorbar\": {\"outlinewidth\": 0, \"ticks\": \"\"}, \"colorscale\": [[0.0, \"#0d0887\"], [0.1111111111111111, \"#46039f\"], [0.2222222222222222, \"#7201a8\"], [0.3333333333333333, \"#9c179e\"], [0.4444444444444444, \"#bd3786\"], [0.5555555555555556, \"#d8576b\"], [0.6666666666666666, \"#ed7953\"], [0.7777777777777778, \"#fb9f3a\"], [0.8888888888888888, \"#fdca26\"], [1.0, \"#f0f921\"]], \"type\": \"histogram2dcontour\"}], \"mesh3d\": [{\"colorbar\": {\"outlinewidth\": 0, \"ticks\": \"\"}, \"type\": \"mesh3d\"}], \"parcoords\": [{\"line\": {\"colorbar\": {\"outlinewidth\": 0, \"ticks\": \"\"}}, \"type\": \"parcoords\"}], \"pie\": [{\"automargin\": true, \"type\": \"pie\"}], \"scatter\": [{\"marker\": {\"colorbar\": {\"outlinewidth\": 0, \"ticks\": \"\"}}, \"type\": \"scatter\"}], \"scatter3d\": [{\"line\": {\"colorbar\": {\"outlinewidth\": 0, \"ticks\": \"\"}}, \"marker\": {\"colorbar\": {\"outlinewidth\": 0, \"ticks\": \"\"}}, \"type\": \"scatter3d\"}], \"scattercarpet\": [{\"marker\": {\"colorbar\": {\"outlinewidth\": 0, \"ticks\": \"\"}}, \"type\": \"scattercarpet\"}], \"scattergeo\": [{\"marker\": {\"colorbar\": {\"outlinewidth\": 0, \"ticks\": \"\"}}, \"type\": \"scattergeo\"}], \"scattergl\": [{\"marker\": {\"colorbar\": {\"outlinewidth\": 0, \"ticks\": \"\"}}, \"type\": \"scattergl\"}], \"scattermapbox\": [{\"marker\": {\"colorbar\": {\"outlinewidth\": 0, \"ticks\": \"\"}}, \"type\": \"scattermapbox\"}], \"scatterpolar\": [{\"marker\": {\"colorbar\": {\"outlinewidth\": 0, \"ticks\": \"\"}}, \"type\": \"scatterpolar\"}], \"scatterpolargl\": [{\"marker\": {\"colorbar\": {\"outlinewidth\": 0, \"ticks\": \"\"}}, \"type\": \"scatterpolargl\"}], \"scatterternary\": [{\"marker\": {\"colorbar\": {\"outlinewidth\": 0, \"ticks\": \"\"}}, \"type\": \"scatterternary\"}], \"surface\": [{\"colorbar\": {\"outlinewidth\": 0, \"ticks\": \"\"}, \"colorscale\": [[0.0, \"#0d0887\"], [0.1111111111111111, \"#46039f\"], [0.2222222222222222, \"#7201a8\"], [0.3333333333333333, \"#9c179e\"], [0.4444444444444444, \"#bd3786\"], [0.5555555555555556, \"#d8576b\"], [0.6666666666666666, \"#ed7953\"], [0.7777777777777778, \"#fb9f3a\"], [0.8888888888888888, \"#fdca26\"], [1.0, \"#f0f921\"]], \"type\": \"surface\"}], \"table\": [{\"cells\": {\"fill\": {\"color\": \"#EBF0F8\"}, \"line\": {\"color\": \"white\"}}, \"header\": {\"fill\": {\"color\": \"#C8D4E3\"}, \"line\": {\"color\": \"white\"}}, \"type\": \"table\"}]}, \"layout\": {\"annotationdefaults\": {\"arrowcolor\": \"#2a3f5f\", \"arrowhead\": 0, \"arrowwidth\": 1}, \"coloraxis\": {\"colorbar\": {\"outlinewidth\": 0, \"ticks\": \"\"}}, \"colorscale\": {\"diverging\": [[0, \"#8e0152\"], [0.1, \"#c51b7d\"], [0.2, \"#de77ae\"], [0.3, \"#f1b6da\"], [0.4, \"#fde0ef\"], [0.5, \"#f7f7f7\"], [0.6, \"#e6f5d0\"], [0.7, \"#b8e186\"], [0.8, \"#7fbc41\"], [0.9, \"#4d9221\"], [1, \"#276419\"]], \"sequential\": [[0.0, \"#0d0887\"], [0.1111111111111111, \"#46039f\"], [0.2222222222222222, \"#7201a8\"], [0.3333333333333333, \"#9c179e\"], [0.4444444444444444, \"#bd3786\"], [0.5555555555555556, \"#d8576b\"], [0.6666666666666666, \"#ed7953\"], [0.7777777777777778, \"#fb9f3a\"], [0.8888888888888888, \"#fdca26\"], [1.0, \"#f0f921\"]], \"sequentialminus\": [[0.0, \"#0d0887\"], [0.1111111111111111, \"#46039f\"], [0.2222222222222222, \"#7201a8\"], [0.3333333333333333, \"#9c179e\"], [0.4444444444444444, \"#bd3786\"], [0.5555555555555556, \"#d8576b\"], [0.6666666666666666, \"#ed7953\"], [0.7777777777777778, \"#fb9f3a\"], [0.8888888888888888, \"#fdca26\"], [1.0, \"#f0f921\"]]}, \"colorway\": [\"#636efa\", \"#EF553B\", \"#00cc96\", \"#ab63fa\", \"#FFA15A\", \"#19d3f3\", \"#FF6692\", \"#B6E880\", \"#FF97FF\", \"#FECB52\"], \"font\": {\"color\": \"#2a3f5f\"}, \"geo\": {\"bgcolor\": \"white\", \"lakecolor\": \"white\", \"landcolor\": \"#E5ECF6\", \"showlakes\": true, \"showland\": true, \"subunitcolor\": \"white\"}, \"hoverlabel\": {\"align\": \"left\"}, \"hovermode\": \"closest\", \"mapbox\": {\"style\": \"light\"}, \"paper_bgcolor\": \"white\", \"plot_bgcolor\": \"#E5ECF6\", \"polar\": {\"angularaxis\": {\"gridcolor\": \"white\", \"linecolor\": \"white\", \"ticks\": \"\"}, \"bgcolor\": \"#E5ECF6\", \"radialaxis\": {\"gridcolor\": \"white\", \"linecolor\": \"white\", \"ticks\": \"\"}}, \"scene\": {\"xaxis\": {\"backgroundcolor\": \"#E5ECF6\", \"gridcolor\": \"white\", \"gridwidth\": 2, \"linecolor\": \"white\", \"showbackground\": true, \"ticks\": \"\", \"zerolinecolor\": \"white\"}, \"yaxis\": {\"backgroundcolor\": \"#E5ECF6\", \"gridcolor\": \"white\", \"gridwidth\": 2, \"linecolor\": \"white\", \"showbackground\": true, \"ticks\": \"\", \"zerolinecolor\": \"white\"}, \"zaxis\": {\"backgroundcolor\": \"#E5ECF6\", \"gridcolor\": \"white\", \"gridwidth\": 2, \"linecolor\": \"white\", \"showbackground\": true, \"ticks\": \"\", \"zerolinecolor\": \"white\"}}, \"shapedefaults\": {\"line\": {\"color\": \"#2a3f5f\"}}, \"ternary\": {\"aaxis\": {\"gridcolor\": \"white\", \"linecolor\": \"white\", \"ticks\": \"\"}, \"baxis\": {\"gridcolor\": \"white\", \"linecolor\": \"white\", \"ticks\": \"\"}, \"bgcolor\": \"#E5ECF6\", \"caxis\": {\"gridcolor\": \"white\", \"linecolor\": \"white\", \"ticks\": \"\"}}, \"title\": {\"x\": 0.05}, \"xaxis\": {\"automargin\": true, \"gridcolor\": \"white\", \"linecolor\": \"white\", \"ticks\": \"\", \"title\": {\"standoff\": 15}, \"zerolinecolor\": \"white\", \"zerolinewidth\": 2}, \"yaxis\": {\"automargin\": true, \"gridcolor\": \"white\", \"linecolor\": \"white\", \"ticks\": \"\", \"title\": {\"standoff\": 15}, \"zerolinecolor\": \"white\", \"zerolinewidth\": 2}}}, \"title\": {\"text\": \"Age Vs Clicks\"}},\n",
              "                        {\"responsive\": true}\n",
              "                    ).then(function(){\n",
              "                            \n",
              "var gd = document.getElementById('032b402e-5bcc-4910-a074-6164e7caed9b');\n",
              "var x = new MutationObserver(function (mutations, observer) {{\n",
              "        var display = window.getComputedStyle(gd).display;\n",
              "        if (!display || display === 'none') {{\n",
              "            console.log([gd, 'removed!']);\n",
              "            Plotly.purge(gd);\n",
              "            observer.disconnect();\n",
              "        }}\n",
              "}});\n",
              "\n",
              "// Listen for the removal of the full notebook cells\n",
              "var notebookContainer = gd.closest('#notebook-container');\n",
              "if (notebookContainer) {{\n",
              "    x.observe(notebookContainer, {childList: true});\n",
              "}}\n",
              "\n",
              "// Listen for the clearing of the current output cell\n",
              "var outputEl = gd.closest('.output');\n",
              "if (outputEl) {{\n",
              "    x.observe(outputEl, {childList: true});\n",
              "}}\n",
              "\n",
              "                        })\n",
              "                };\n",
              "                \n",
              "            </script>\n",
              "        </div>\n",
              "</body>\n",
              "</html>"
            ]
          },
          "metadata": {}
        }
      ]
    },
    {
      "cell_type": "markdown",
      "source": [
        "## Campaign"
      ],
      "metadata": {
        "id": "hIdGc_j1GgHN"
      }
    },
    {
      "cell_type": "code",
      "source": [
        "xyz_campaign_id=dataset['xyz_campaign_id'].value_counts()\n",
        "px.bar(dataset, x=xyz_campaign_id.index, y=xyz_campaign_id,title='Count of Campaigns')"
      ],
      "metadata": {
        "colab": {
          "base_uri": "https://localhost:8080/",
          "height": 542
        },
        "id": "s0InIzStaw3c",
        "outputId": "2b2ffe2f-2203-47bd-c161-149db83612e1"
      },
      "execution_count": null,
      "outputs": [
        {
          "output_type": "display_data",
          "data": {
            "text/html": [
              "<html>\n",
              "<head><meta charset=\"utf-8\" /></head>\n",
              "<body>\n",
              "    <div>\n",
              "            <script src=\"https://cdnjs.cloudflare.com/ajax/libs/mathjax/2.7.5/MathJax.js?config=TeX-AMS-MML_SVG\"></script><script type=\"text/javascript\">if (window.MathJax) {MathJax.Hub.Config({SVG: {font: \"STIX-Web\"}});}</script>\n",
              "                <script type=\"text/javascript\">window.PlotlyConfig = {MathJaxConfig: 'local'};</script>\n",
              "        <script src=\"https://cdn.plot.ly/plotly-latest.min.js\"></script>    \n",
              "            <div id=\"b9ff0396-73e4-417f-bb16-00687f3a5a5c\" class=\"plotly-graph-div\" style=\"height:525px; width:100%;\"></div>\n",
              "            <script type=\"text/javascript\">\n",
              "                \n",
              "                    window.PLOTLYENV=window.PLOTLYENV || {};\n",
              "                    \n",
              "                if (document.getElementById(\"b9ff0396-73e4-417f-bb16-00687f3a5a5c\")) {\n",
              "                    Plotly.newPlot(\n",
              "                        'b9ff0396-73e4-417f-bb16-00687f3a5a5c',\n",
              "                        [{\"alignmentgroup\": \"True\", \"hoverlabel\": {\"namelength\": 0}, \"hovertemplate\": \"x=%{x}<br>y=%{y}\", \"legendgroup\": \"\", \"marker\": {\"color\": \"#636efa\"}, \"name\": \"\", \"offsetgroup\": \"\", \"orientation\": \"v\", \"showlegend\": false, \"textposition\": \"auto\", \"type\": \"bar\", \"x\": [\"Campaign_1178\", \"Campaign_936\", \"Campaign_916\"], \"xaxis\": \"x\", \"y\": [625, 464, 54], \"yaxis\": \"y\"}],\n",
              "                        {\"barmode\": \"relative\", \"legend\": {\"tracegroupgap\": 0}, \"template\": {\"data\": {\"bar\": [{\"error_x\": {\"color\": \"#2a3f5f\"}, \"error_y\": {\"color\": \"#2a3f5f\"}, \"marker\": {\"line\": {\"color\": \"#E5ECF6\", \"width\": 0.5}}, \"type\": \"bar\"}], \"barpolar\": [{\"marker\": {\"line\": {\"color\": \"#E5ECF6\", \"width\": 0.5}}, \"type\": \"barpolar\"}], \"carpet\": [{\"aaxis\": {\"endlinecolor\": \"#2a3f5f\", \"gridcolor\": \"white\", \"linecolor\": \"white\", \"minorgridcolor\": \"white\", \"startlinecolor\": \"#2a3f5f\"}, \"baxis\": {\"endlinecolor\": \"#2a3f5f\", \"gridcolor\": \"white\", \"linecolor\": \"white\", \"minorgridcolor\": \"white\", \"startlinecolor\": \"#2a3f5f\"}, \"type\": \"carpet\"}], \"choropleth\": [{\"colorbar\": {\"outlinewidth\": 0, \"ticks\": \"\"}, \"type\": \"choropleth\"}], \"contour\": [{\"colorbar\": {\"outlinewidth\": 0, \"ticks\": \"\"}, \"colorscale\": [[0.0, \"#0d0887\"], [0.1111111111111111, \"#46039f\"], [0.2222222222222222, \"#7201a8\"], [0.3333333333333333, \"#9c179e\"], [0.4444444444444444, \"#bd3786\"], [0.5555555555555556, \"#d8576b\"], [0.6666666666666666, \"#ed7953\"], [0.7777777777777778, \"#fb9f3a\"], [0.8888888888888888, \"#fdca26\"], [1.0, \"#f0f921\"]], \"type\": \"contour\"}], \"contourcarpet\": [{\"colorbar\": {\"outlinewidth\": 0, \"ticks\": \"\"}, \"type\": \"contourcarpet\"}], \"heatmap\": [{\"colorbar\": {\"outlinewidth\": 0, \"ticks\": \"\"}, \"colorscale\": [[0.0, \"#0d0887\"], [0.1111111111111111, \"#46039f\"], [0.2222222222222222, \"#7201a8\"], [0.3333333333333333, \"#9c179e\"], [0.4444444444444444, \"#bd3786\"], [0.5555555555555556, \"#d8576b\"], [0.6666666666666666, \"#ed7953\"], [0.7777777777777778, \"#fb9f3a\"], [0.8888888888888888, \"#fdca26\"], [1.0, \"#f0f921\"]], \"type\": \"heatmap\"}], \"heatmapgl\": [{\"colorbar\": {\"outlinewidth\": 0, \"ticks\": \"\"}, \"colorscale\": [[0.0, \"#0d0887\"], [0.1111111111111111, \"#46039f\"], [0.2222222222222222, \"#7201a8\"], [0.3333333333333333, \"#9c179e\"], [0.4444444444444444, \"#bd3786\"], [0.5555555555555556, \"#d8576b\"], [0.6666666666666666, \"#ed7953\"], [0.7777777777777778, \"#fb9f3a\"], [0.8888888888888888, \"#fdca26\"], [1.0, \"#f0f921\"]], \"type\": \"heatmapgl\"}], \"histogram\": [{\"marker\": {\"colorbar\": {\"outlinewidth\": 0, \"ticks\": \"\"}}, \"type\": \"histogram\"}], \"histogram2d\": [{\"colorbar\": {\"outlinewidth\": 0, \"ticks\": \"\"}, \"colorscale\": [[0.0, \"#0d0887\"], [0.1111111111111111, \"#46039f\"], [0.2222222222222222, \"#7201a8\"], [0.3333333333333333, \"#9c179e\"], [0.4444444444444444, \"#bd3786\"], [0.5555555555555556, \"#d8576b\"], [0.6666666666666666, \"#ed7953\"], [0.7777777777777778, \"#fb9f3a\"], [0.8888888888888888, \"#fdca26\"], [1.0, \"#f0f921\"]], \"type\": \"histogram2d\"}], \"histogram2dcontour\": [{\"colorbar\": {\"outlinewidth\": 0, \"ticks\": \"\"}, \"colorscale\": [[0.0, \"#0d0887\"], [0.1111111111111111, \"#46039f\"], [0.2222222222222222, \"#7201a8\"], [0.3333333333333333, \"#9c179e\"], [0.4444444444444444, \"#bd3786\"], [0.5555555555555556, \"#d8576b\"], [0.6666666666666666, \"#ed7953\"], [0.7777777777777778, \"#fb9f3a\"], [0.8888888888888888, \"#fdca26\"], [1.0, \"#f0f921\"]], \"type\": \"histogram2dcontour\"}], \"mesh3d\": [{\"colorbar\": {\"outlinewidth\": 0, \"ticks\": \"\"}, \"type\": \"mesh3d\"}], \"parcoords\": [{\"line\": {\"colorbar\": {\"outlinewidth\": 0, \"ticks\": \"\"}}, \"type\": \"parcoords\"}], \"pie\": [{\"automargin\": true, \"type\": \"pie\"}], \"scatter\": [{\"marker\": {\"colorbar\": {\"outlinewidth\": 0, \"ticks\": \"\"}}, \"type\": \"scatter\"}], \"scatter3d\": [{\"line\": {\"colorbar\": {\"outlinewidth\": 0, \"ticks\": \"\"}}, \"marker\": {\"colorbar\": {\"outlinewidth\": 0, \"ticks\": \"\"}}, \"type\": \"scatter3d\"}], \"scattercarpet\": [{\"marker\": {\"colorbar\": {\"outlinewidth\": 0, \"ticks\": \"\"}}, \"type\": \"scattercarpet\"}], \"scattergeo\": [{\"marker\": {\"colorbar\": {\"outlinewidth\": 0, \"ticks\": \"\"}}, \"type\": \"scattergeo\"}], \"scattergl\": [{\"marker\": {\"colorbar\": {\"outlinewidth\": 0, \"ticks\": \"\"}}, \"type\": \"scattergl\"}], \"scattermapbox\": [{\"marker\": {\"colorbar\": {\"outlinewidth\": 0, \"ticks\": \"\"}}, \"type\": \"scattermapbox\"}], \"scatterpolar\": [{\"marker\": {\"colorbar\": {\"outlinewidth\": 0, \"ticks\": \"\"}}, \"type\": \"scatterpolar\"}], \"scatterpolargl\": [{\"marker\": {\"colorbar\": {\"outlinewidth\": 0, \"ticks\": \"\"}}, \"type\": \"scatterpolargl\"}], \"scatterternary\": [{\"marker\": {\"colorbar\": {\"outlinewidth\": 0, \"ticks\": \"\"}}, \"type\": \"scatterternary\"}], \"surface\": [{\"colorbar\": {\"outlinewidth\": 0, \"ticks\": \"\"}, \"colorscale\": [[0.0, \"#0d0887\"], [0.1111111111111111, \"#46039f\"], [0.2222222222222222, \"#7201a8\"], [0.3333333333333333, \"#9c179e\"], [0.4444444444444444, \"#bd3786\"], [0.5555555555555556, \"#d8576b\"], [0.6666666666666666, \"#ed7953\"], [0.7777777777777778, \"#fb9f3a\"], [0.8888888888888888, \"#fdca26\"], [1.0, \"#f0f921\"]], \"type\": \"surface\"}], \"table\": [{\"cells\": {\"fill\": {\"color\": \"#EBF0F8\"}, \"line\": {\"color\": \"white\"}}, \"header\": {\"fill\": {\"color\": \"#C8D4E3\"}, \"line\": {\"color\": \"white\"}}, \"type\": \"table\"}]}, \"layout\": {\"annotationdefaults\": {\"arrowcolor\": \"#2a3f5f\", \"arrowhead\": 0, \"arrowwidth\": 1}, \"coloraxis\": {\"colorbar\": {\"outlinewidth\": 0, \"ticks\": \"\"}}, \"colorscale\": {\"diverging\": [[0, \"#8e0152\"], [0.1, \"#c51b7d\"], [0.2, \"#de77ae\"], [0.3, \"#f1b6da\"], [0.4, \"#fde0ef\"], [0.5, \"#f7f7f7\"], [0.6, \"#e6f5d0\"], [0.7, \"#b8e186\"], [0.8, \"#7fbc41\"], [0.9, \"#4d9221\"], [1, \"#276419\"]], \"sequential\": [[0.0, \"#0d0887\"], [0.1111111111111111, \"#46039f\"], [0.2222222222222222, \"#7201a8\"], [0.3333333333333333, \"#9c179e\"], [0.4444444444444444, \"#bd3786\"], [0.5555555555555556, \"#d8576b\"], [0.6666666666666666, \"#ed7953\"], [0.7777777777777778, \"#fb9f3a\"], [0.8888888888888888, \"#fdca26\"], [1.0, \"#f0f921\"]], \"sequentialminus\": [[0.0, \"#0d0887\"], [0.1111111111111111, \"#46039f\"], [0.2222222222222222, \"#7201a8\"], [0.3333333333333333, \"#9c179e\"], [0.4444444444444444, \"#bd3786\"], [0.5555555555555556, \"#d8576b\"], [0.6666666666666666, \"#ed7953\"], [0.7777777777777778, \"#fb9f3a\"], [0.8888888888888888, \"#fdca26\"], [1.0, \"#f0f921\"]]}, \"colorway\": [\"#636efa\", \"#EF553B\", \"#00cc96\", \"#ab63fa\", \"#FFA15A\", \"#19d3f3\", \"#FF6692\", \"#B6E880\", \"#FF97FF\", \"#FECB52\"], \"font\": {\"color\": \"#2a3f5f\"}, \"geo\": {\"bgcolor\": \"white\", \"lakecolor\": \"white\", \"landcolor\": \"#E5ECF6\", \"showlakes\": true, \"showland\": true, \"subunitcolor\": \"white\"}, \"hoverlabel\": {\"align\": \"left\"}, \"hovermode\": \"closest\", \"mapbox\": {\"style\": \"light\"}, \"paper_bgcolor\": \"white\", \"plot_bgcolor\": \"#E5ECF6\", \"polar\": {\"angularaxis\": {\"gridcolor\": \"white\", \"linecolor\": \"white\", \"ticks\": \"\"}, \"bgcolor\": \"#E5ECF6\", \"radialaxis\": {\"gridcolor\": \"white\", \"linecolor\": \"white\", \"ticks\": \"\"}}, \"scene\": {\"xaxis\": {\"backgroundcolor\": \"#E5ECF6\", \"gridcolor\": \"white\", \"gridwidth\": 2, \"linecolor\": \"white\", \"showbackground\": true, \"ticks\": \"\", \"zerolinecolor\": \"white\"}, \"yaxis\": {\"backgroundcolor\": \"#E5ECF6\", \"gridcolor\": \"white\", \"gridwidth\": 2, \"linecolor\": \"white\", \"showbackground\": true, \"ticks\": \"\", \"zerolinecolor\": \"white\"}, \"zaxis\": {\"backgroundcolor\": \"#E5ECF6\", \"gridcolor\": \"white\", \"gridwidth\": 2, \"linecolor\": \"white\", \"showbackground\": true, \"ticks\": \"\", \"zerolinecolor\": \"white\"}}, \"shapedefaults\": {\"line\": {\"color\": \"#2a3f5f\"}}, \"ternary\": {\"aaxis\": {\"gridcolor\": \"white\", \"linecolor\": \"white\", \"ticks\": \"\"}, \"baxis\": {\"gridcolor\": \"white\", \"linecolor\": \"white\", \"ticks\": \"\"}, \"bgcolor\": \"#E5ECF6\", \"caxis\": {\"gridcolor\": \"white\", \"linecolor\": \"white\", \"ticks\": \"\"}}, \"title\": {\"x\": 0.05}, \"xaxis\": {\"automargin\": true, \"gridcolor\": \"white\", \"linecolor\": \"white\", \"ticks\": \"\", \"title\": {\"standoff\": 15}, \"zerolinecolor\": \"white\", \"zerolinewidth\": 2}, \"yaxis\": {\"automargin\": true, \"gridcolor\": \"white\", \"linecolor\": \"white\", \"ticks\": \"\", \"title\": {\"standoff\": 15}, \"zerolinecolor\": \"white\", \"zerolinewidth\": 2}}}, \"title\": {\"text\": \"Count of Campaigns\"}, \"xaxis\": {\"anchor\": \"y\", \"domain\": [0.0, 1.0], \"title\": {\"text\": \"x\"}}, \"yaxis\": {\"anchor\": \"x\", \"domain\": [0.0, 1.0], \"title\": {\"text\": \"y\"}}},\n",
              "                        {\"responsive\": true}\n",
              "                    ).then(function(){\n",
              "                            \n",
              "var gd = document.getElementById('b9ff0396-73e4-417f-bb16-00687f3a5a5c');\n",
              "var x = new MutationObserver(function (mutations, observer) {{\n",
              "        var display = window.getComputedStyle(gd).display;\n",
              "        if (!display || display === 'none') {{\n",
              "            console.log([gd, 'removed!']);\n",
              "            Plotly.purge(gd);\n",
              "            observer.disconnect();\n",
              "        }}\n",
              "}});\n",
              "\n",
              "// Listen for the removal of the full notebook cells\n",
              "var notebookContainer = gd.closest('#notebook-container');\n",
              "if (notebookContainer) {{\n",
              "    x.observe(notebookContainer, {childList: true});\n",
              "}}\n",
              "\n",
              "// Listen for the clearing of the current output cell\n",
              "var outputEl = gd.closest('.output');\n",
              "if (outputEl) {{\n",
              "    x.observe(outputEl, {childList: true});\n",
              "}}\n",
              "\n",
              "                        })\n",
              "                };\n",
              "                \n",
              "            </script>\n",
              "        </div>\n",
              "</body>\n",
              "</html>"
            ]
          },
          "metadata": {}
        }
      ]
    },
    {
      "cell_type": "markdown",
      "source": [
        "## Interest"
      ],
      "metadata": {
        "id": "pH__Ht6QHdTF"
      }
    },
    {
      "cell_type": "code",
      "source": [
        "# Count of interest\n",
        "interest=dataset['interest'].value_counts()\n",
        "px.bar(dataset, x=interest.index, y=interest,title='Count of Interests')"
      ],
      "metadata": {
        "colab": {
          "base_uri": "https://localhost:8080/",
          "height": 542
        },
        "id": "yEjNsUekwTXq",
        "outputId": "12033e4b-c960-4ca0-977e-be7a13bf8b88"
      },
      "execution_count": null,
      "outputs": [
        {
          "output_type": "display_data",
          "data": {
            "text/html": [
              "<html>\n",
              "<head><meta charset=\"utf-8\" /></head>\n",
              "<body>\n",
              "    <div>\n",
              "            <script src=\"https://cdnjs.cloudflare.com/ajax/libs/mathjax/2.7.5/MathJax.js?config=TeX-AMS-MML_SVG\"></script><script type=\"text/javascript\">if (window.MathJax) {MathJax.Hub.Config({SVG: {font: \"STIX-Web\"}});}</script>\n",
              "                <script type=\"text/javascript\">window.PlotlyConfig = {MathJaxConfig: 'local'};</script>\n",
              "        <script src=\"https://cdn.plot.ly/plotly-latest.min.js\"></script>    \n",
              "            <div id=\"5f6765d4-0864-4410-830a-c1c2c61af1ae\" class=\"plotly-graph-div\" style=\"height:525px; width:100%;\"></div>\n",
              "            <script type=\"text/javascript\">\n",
              "                \n",
              "                    window.PLOTLYENV=window.PLOTLYENV || {};\n",
              "                    \n",
              "                if (document.getElementById(\"5f6765d4-0864-4410-830a-c1c2c61af1ae\")) {\n",
              "                    Plotly.newPlot(\n",
              "                        '5f6765d4-0864-4410-830a-c1c2c61af1ae',\n",
              "                        [{\"alignmentgroup\": \"True\", \"hoverlabel\": {\"namelength\": 0}, \"hovertemplate\": \"x=%{x}<br>y=%{y}\", \"legendgroup\": \"\", \"marker\": {\"color\": \"#636efa\"}, \"name\": \"\", \"offsetgroup\": \"\", \"orientation\": \"v\", \"showlegend\": false, \"textposition\": \"auto\", \"type\": \"bar\", \"x\": [16, 10, 29, 27, 15, 28, 20, 64, 63, 18, 26, 21, 32, 22, 19, 25, 30, 31, 2, 24, 7, 23, 36, 65, 66, 107, 110, 102, 112, 105, 101, 108, 100, 111, 113, 109, 106, 104, 103, 114], \"xaxis\": \"x\", \"y\": [140, 85, 77, 60, 51, 51, 49, 48, 46, 43, 41, 36, 33, 33, 32, 26, 25, 25, 25, 24, 24, 23, 21, 19, 11, 8, 8, 7, 7, 7, 7, 7, 6, 6, 6, 6, 5, 5, 5, 5], \"yaxis\": \"y\"}],\n",
              "                        {\"barmode\": \"relative\", \"legend\": {\"tracegroupgap\": 0}, \"template\": {\"data\": {\"bar\": [{\"error_x\": {\"color\": \"#2a3f5f\"}, \"error_y\": {\"color\": \"#2a3f5f\"}, \"marker\": {\"line\": {\"color\": \"#E5ECF6\", \"width\": 0.5}}, \"type\": \"bar\"}], \"barpolar\": [{\"marker\": {\"line\": {\"color\": \"#E5ECF6\", \"width\": 0.5}}, \"type\": \"barpolar\"}], \"carpet\": [{\"aaxis\": {\"endlinecolor\": \"#2a3f5f\", \"gridcolor\": \"white\", \"linecolor\": \"white\", \"minorgridcolor\": \"white\", \"startlinecolor\": \"#2a3f5f\"}, \"baxis\": {\"endlinecolor\": \"#2a3f5f\", \"gridcolor\": \"white\", \"linecolor\": \"white\", \"minorgridcolor\": \"white\", \"startlinecolor\": \"#2a3f5f\"}, \"type\": \"carpet\"}], \"choropleth\": [{\"colorbar\": {\"outlinewidth\": 0, \"ticks\": \"\"}, \"type\": \"choropleth\"}], \"contour\": [{\"colorbar\": {\"outlinewidth\": 0, \"ticks\": \"\"}, \"colorscale\": [[0.0, \"#0d0887\"], [0.1111111111111111, \"#46039f\"], [0.2222222222222222, \"#7201a8\"], [0.3333333333333333, \"#9c179e\"], [0.4444444444444444, \"#bd3786\"], [0.5555555555555556, \"#d8576b\"], [0.6666666666666666, \"#ed7953\"], [0.7777777777777778, \"#fb9f3a\"], [0.8888888888888888, \"#fdca26\"], [1.0, \"#f0f921\"]], \"type\": \"contour\"}], \"contourcarpet\": [{\"colorbar\": {\"outlinewidth\": 0, \"ticks\": \"\"}, \"type\": \"contourcarpet\"}], \"heatmap\": [{\"colorbar\": {\"outlinewidth\": 0, \"ticks\": \"\"}, \"colorscale\": [[0.0, \"#0d0887\"], [0.1111111111111111, \"#46039f\"], [0.2222222222222222, \"#7201a8\"], [0.3333333333333333, \"#9c179e\"], [0.4444444444444444, \"#bd3786\"], [0.5555555555555556, \"#d8576b\"], [0.6666666666666666, \"#ed7953\"], [0.7777777777777778, \"#fb9f3a\"], [0.8888888888888888, \"#fdca26\"], [1.0, \"#f0f921\"]], \"type\": \"heatmap\"}], \"heatmapgl\": [{\"colorbar\": {\"outlinewidth\": 0, \"ticks\": \"\"}, \"colorscale\": [[0.0, \"#0d0887\"], [0.1111111111111111, \"#46039f\"], [0.2222222222222222, \"#7201a8\"], [0.3333333333333333, \"#9c179e\"], [0.4444444444444444, \"#bd3786\"], [0.5555555555555556, \"#d8576b\"], [0.6666666666666666, \"#ed7953\"], [0.7777777777777778, \"#fb9f3a\"], [0.8888888888888888, \"#fdca26\"], [1.0, \"#f0f921\"]], \"type\": \"heatmapgl\"}], \"histogram\": [{\"marker\": {\"colorbar\": {\"outlinewidth\": 0, \"ticks\": \"\"}}, \"type\": \"histogram\"}], \"histogram2d\": [{\"colorbar\": {\"outlinewidth\": 0, \"ticks\": \"\"}, \"colorscale\": [[0.0, \"#0d0887\"], [0.1111111111111111, \"#46039f\"], [0.2222222222222222, \"#7201a8\"], [0.3333333333333333, \"#9c179e\"], [0.4444444444444444, \"#bd3786\"], [0.5555555555555556, \"#d8576b\"], [0.6666666666666666, \"#ed7953\"], [0.7777777777777778, \"#fb9f3a\"], [0.8888888888888888, \"#fdca26\"], [1.0, \"#f0f921\"]], \"type\": \"histogram2d\"}], \"histogram2dcontour\": [{\"colorbar\": {\"outlinewidth\": 0, \"ticks\": \"\"}, \"colorscale\": [[0.0, \"#0d0887\"], [0.1111111111111111, \"#46039f\"], [0.2222222222222222, \"#7201a8\"], [0.3333333333333333, \"#9c179e\"], [0.4444444444444444, \"#bd3786\"], [0.5555555555555556, \"#d8576b\"], [0.6666666666666666, \"#ed7953\"], [0.7777777777777778, \"#fb9f3a\"], [0.8888888888888888, \"#fdca26\"], [1.0, \"#f0f921\"]], \"type\": \"histogram2dcontour\"}], \"mesh3d\": [{\"colorbar\": {\"outlinewidth\": 0, \"ticks\": \"\"}, \"type\": \"mesh3d\"}], \"parcoords\": [{\"line\": {\"colorbar\": {\"outlinewidth\": 0, \"ticks\": \"\"}}, \"type\": \"parcoords\"}], \"pie\": [{\"automargin\": true, \"type\": \"pie\"}], \"scatter\": [{\"marker\": {\"colorbar\": {\"outlinewidth\": 0, \"ticks\": \"\"}}, \"type\": \"scatter\"}], \"scatter3d\": [{\"line\": {\"colorbar\": {\"outlinewidth\": 0, \"ticks\": \"\"}}, \"marker\": {\"colorbar\": {\"outlinewidth\": 0, \"ticks\": \"\"}}, \"type\": \"scatter3d\"}], \"scattercarpet\": [{\"marker\": {\"colorbar\": {\"outlinewidth\": 0, \"ticks\": \"\"}}, \"type\": \"scattercarpet\"}], \"scattergeo\": [{\"marker\": {\"colorbar\": {\"outlinewidth\": 0, \"ticks\": \"\"}}, \"type\": \"scattergeo\"}], \"scattergl\": [{\"marker\": {\"colorbar\": {\"outlinewidth\": 0, \"ticks\": \"\"}}, \"type\": \"scattergl\"}], \"scattermapbox\": [{\"marker\": {\"colorbar\": {\"outlinewidth\": 0, \"ticks\": \"\"}}, \"type\": \"scattermapbox\"}], \"scatterpolar\": [{\"marker\": {\"colorbar\": {\"outlinewidth\": 0, \"ticks\": \"\"}}, \"type\": \"scatterpolar\"}], \"scatterpolargl\": [{\"marker\": {\"colorbar\": {\"outlinewidth\": 0, \"ticks\": \"\"}}, \"type\": \"scatterpolargl\"}], \"scatterternary\": [{\"marker\": {\"colorbar\": {\"outlinewidth\": 0, \"ticks\": \"\"}}, \"type\": \"scatterternary\"}], \"surface\": [{\"colorbar\": {\"outlinewidth\": 0, \"ticks\": \"\"}, \"colorscale\": [[0.0, \"#0d0887\"], [0.1111111111111111, \"#46039f\"], [0.2222222222222222, \"#7201a8\"], [0.3333333333333333, \"#9c179e\"], [0.4444444444444444, \"#bd3786\"], [0.5555555555555556, \"#d8576b\"], [0.6666666666666666, \"#ed7953\"], [0.7777777777777778, \"#fb9f3a\"], [0.8888888888888888, \"#fdca26\"], [1.0, \"#f0f921\"]], \"type\": \"surface\"}], \"table\": [{\"cells\": {\"fill\": {\"color\": \"#EBF0F8\"}, \"line\": {\"color\": \"white\"}}, \"header\": {\"fill\": {\"color\": \"#C8D4E3\"}, \"line\": {\"color\": \"white\"}}, \"type\": \"table\"}]}, \"layout\": {\"annotationdefaults\": {\"arrowcolor\": \"#2a3f5f\", \"arrowhead\": 0, \"arrowwidth\": 1}, \"coloraxis\": {\"colorbar\": {\"outlinewidth\": 0, \"ticks\": \"\"}}, \"colorscale\": {\"diverging\": [[0, \"#8e0152\"], [0.1, \"#c51b7d\"], [0.2, \"#de77ae\"], [0.3, \"#f1b6da\"], [0.4, \"#fde0ef\"], [0.5, \"#f7f7f7\"], [0.6, \"#e6f5d0\"], [0.7, \"#b8e186\"], [0.8, \"#7fbc41\"], [0.9, \"#4d9221\"], [1, \"#276419\"]], \"sequential\": [[0.0, \"#0d0887\"], [0.1111111111111111, \"#46039f\"], [0.2222222222222222, \"#7201a8\"], [0.3333333333333333, \"#9c179e\"], [0.4444444444444444, \"#bd3786\"], [0.5555555555555556, \"#d8576b\"], [0.6666666666666666, \"#ed7953\"], [0.7777777777777778, \"#fb9f3a\"], [0.8888888888888888, \"#fdca26\"], [1.0, \"#f0f921\"]], \"sequentialminus\": [[0.0, \"#0d0887\"], [0.1111111111111111, \"#46039f\"], [0.2222222222222222, \"#7201a8\"], [0.3333333333333333, \"#9c179e\"], [0.4444444444444444, \"#bd3786\"], [0.5555555555555556, \"#d8576b\"], [0.6666666666666666, \"#ed7953\"], [0.7777777777777778, \"#fb9f3a\"], [0.8888888888888888, \"#fdca26\"], [1.0, \"#f0f921\"]]}, \"colorway\": [\"#636efa\", \"#EF553B\", \"#00cc96\", \"#ab63fa\", \"#FFA15A\", \"#19d3f3\", \"#FF6692\", \"#B6E880\", \"#FF97FF\", \"#FECB52\"], \"font\": {\"color\": \"#2a3f5f\"}, \"geo\": {\"bgcolor\": \"white\", \"lakecolor\": \"white\", \"landcolor\": \"#E5ECF6\", \"showlakes\": true, \"showland\": true, \"subunitcolor\": \"white\"}, \"hoverlabel\": {\"align\": \"left\"}, \"hovermode\": \"closest\", \"mapbox\": {\"style\": \"light\"}, \"paper_bgcolor\": \"white\", \"plot_bgcolor\": \"#E5ECF6\", \"polar\": {\"angularaxis\": {\"gridcolor\": \"white\", \"linecolor\": \"white\", \"ticks\": \"\"}, \"bgcolor\": \"#E5ECF6\", \"radialaxis\": {\"gridcolor\": \"white\", \"linecolor\": \"white\", \"ticks\": \"\"}}, \"scene\": {\"xaxis\": {\"backgroundcolor\": \"#E5ECF6\", \"gridcolor\": \"white\", \"gridwidth\": 2, \"linecolor\": \"white\", \"showbackground\": true, \"ticks\": \"\", \"zerolinecolor\": \"white\"}, \"yaxis\": {\"backgroundcolor\": \"#E5ECF6\", \"gridcolor\": \"white\", \"gridwidth\": 2, \"linecolor\": \"white\", \"showbackground\": true, \"ticks\": \"\", \"zerolinecolor\": \"white\"}, \"zaxis\": {\"backgroundcolor\": \"#E5ECF6\", \"gridcolor\": \"white\", \"gridwidth\": 2, \"linecolor\": \"white\", \"showbackground\": true, \"ticks\": \"\", \"zerolinecolor\": \"white\"}}, \"shapedefaults\": {\"line\": {\"color\": \"#2a3f5f\"}}, \"ternary\": {\"aaxis\": {\"gridcolor\": \"white\", \"linecolor\": \"white\", \"ticks\": \"\"}, \"baxis\": {\"gridcolor\": \"white\", \"linecolor\": \"white\", \"ticks\": \"\"}, \"bgcolor\": \"#E5ECF6\", \"caxis\": {\"gridcolor\": \"white\", \"linecolor\": \"white\", \"ticks\": \"\"}}, \"title\": {\"x\": 0.05}, \"xaxis\": {\"automargin\": true, \"gridcolor\": \"white\", \"linecolor\": \"white\", \"ticks\": \"\", \"title\": {\"standoff\": 15}, \"zerolinecolor\": \"white\", \"zerolinewidth\": 2}, \"yaxis\": {\"automargin\": true, \"gridcolor\": \"white\", \"linecolor\": \"white\", \"ticks\": \"\", \"title\": {\"standoff\": 15}, \"zerolinecolor\": \"white\", \"zerolinewidth\": 2}}}, \"title\": {\"text\": \"Count of Interests\"}, \"xaxis\": {\"anchor\": \"y\", \"domain\": [0.0, 1.0], \"title\": {\"text\": \"x\"}}, \"yaxis\": {\"anchor\": \"x\", \"domain\": [0.0, 1.0], \"title\": {\"text\": \"y\"}}},\n",
              "                        {\"responsive\": true}\n",
              "                    ).then(function(){\n",
              "                            \n",
              "var gd = document.getElementById('5f6765d4-0864-4410-830a-c1c2c61af1ae');\n",
              "var x = new MutationObserver(function (mutations, observer) {{\n",
              "        var display = window.getComputedStyle(gd).display;\n",
              "        if (!display || display === 'none') {{\n",
              "            console.log([gd, 'removed!']);\n",
              "            Plotly.purge(gd);\n",
              "            observer.disconnect();\n",
              "        }}\n",
              "}});\n",
              "\n",
              "// Listen for the removal of the full notebook cells\n",
              "var notebookContainer = gd.closest('#notebook-container');\n",
              "if (notebookContainer) {{\n",
              "    x.observe(notebookContainer, {childList: true});\n",
              "}}\n",
              "\n",
              "// Listen for the clearing of the current output cell\n",
              "var outputEl = gd.closest('.output');\n",
              "if (outputEl) {{\n",
              "    x.observe(outputEl, {childList: true});\n",
              "}}\n",
              "\n",
              "                        })\n",
              "                };\n",
              "                \n",
              "            </script>\n",
              "        </div>\n",
              "</body>\n",
              "</html>"
            ]
          },
          "metadata": {}
        }
      ]
    },
    {
      "cell_type": "code",
      "source": [
        "# Age-wise distribution of interest\n",
        "px.pie(dataset,names='age', values='interest', title='Age Vs Interest',color_discrete_sequence=px.colors.sequential.Blues_r,hole=.3)"
      ],
      "metadata": {
        "colab": {
          "base_uri": "https://localhost:8080/",
          "height": 542
        },
        "id": "Z-tcN01Ke-bC",
        "outputId": "406e9d70-2486-4654-a147-3e004a015b7c"
      },
      "execution_count": null,
      "outputs": [
        {
          "output_type": "display_data",
          "data": {
            "text/html": [
              "<html>\n",
              "<head><meta charset=\"utf-8\" /></head>\n",
              "<body>\n",
              "    <div>\n",
              "            <script src=\"https://cdnjs.cloudflare.com/ajax/libs/mathjax/2.7.5/MathJax.js?config=TeX-AMS-MML_SVG\"></script><script type=\"text/javascript\">if (window.MathJax) {MathJax.Hub.Config({SVG: {font: \"STIX-Web\"}});}</script>\n",
              "                <script type=\"text/javascript\">window.PlotlyConfig = {MathJaxConfig: 'local'};</script>\n",
              "        <script src=\"https://cdn.plot.ly/plotly-latest.min.js\"></script>    \n",
              "            <div id=\"c31ba388-0146-4f89-b8ef-3a8d87bc71f2\" class=\"plotly-graph-div\" style=\"height:525px; width:100%;\"></div>\n",
              "            <script type=\"text/javascript\">\n",
              "                \n",
              "                    window.PLOTLYENV=window.PLOTLYENV || {};\n",
              "                    \n",
              "                if (document.getElementById(\"c31ba388-0146-4f89-b8ef-3a8d87bc71f2\")) {\n",
              "                    Plotly.newPlot(\n",
              "                        'c31ba388-0146-4f89-b8ef-3a8d87bc71f2',\n",
              "                        [{\"domain\": {\"x\": [0.0, 1.0], \"y\": [0.0, 1.0]}, \"hole\": 0.3, \"hoverlabel\": {\"namelength\": 0}, \"hovertemplate\": \"age=%{label}<br>interest=%{value}\", \"labels\": [\"30-34\", \"30-34\", \"30-34\", \"30-34\", \"30-34\", \"30-34\", \"30-34\", \"30-34\", \"30-34\", \"30-34\", \"30-34\", \"30-34\", \"30-34\", \"30-34\", \"30-34\", \"30-34\", \"30-34\", \"30-34\", \"35-39\", \"35-39\", \"35-39\", \"35-39\", \"35-39\", \"35-39\", \"35-39\", \"35-39\", \"35-39\", \"40-44\", \"40-44\", \"40-44\", \"40-44\", \"40-44\", \"45-49\", \"45-49\", \"45-49\", \"30-34\", \"30-34\", \"30-34\", \"30-34\", \"30-34\", \"30-34\", \"30-34\", \"30-34\", \"30-34\", \"30-34\", \"30-34\", \"35-39\", \"35-39\", \"35-39\", \"40-44\", \"45-49\", \"45-49\", \"45-49\", \"45-49\", \"30-34\", \"30-34\", \"30-34\", \"30-34\", \"30-34\", \"30-34\", \"30-34\", \"30-34\", \"30-34\", \"35-39\", \"35-39\", \"35-39\", \"35-39\", \"35-39\", \"35-39\", \"35-39\", \"35-39\", \"40-44\", \"40-44\", \"45-49\", \"45-49\", \"45-49\", \"45-49\", \"30-34\", \"30-34\", \"30-34\", \"30-34\", \"30-34\", \"30-34\", \"30-34\", \"30-34\", \"30-34\", \"30-34\", \"30-34\", \"30-34\", \"35-39\", \"35-39\", \"35-39\", \"35-39\", \"35-39\", \"35-39\", \"35-39\", \"35-39\", \"35-39\", \"40-44\", \"40-44\", \"40-44\", \"40-44\", \"40-44\", \"40-44\", \"40-44\", \"45-49\", \"45-49\", \"45-49\", \"45-49\", \"45-49\", \"45-49\", \"45-49\", \"30-34\", \"30-34\", \"30-34\", \"30-34\", \"30-34\", \"30-34\", \"30-34\", \"35-39\", \"35-39\", \"35-39\", \"40-44\", \"40-44\", \"45-49\", \"45-49\", \"45-49\", \"45-49\", \"45-49\", \"30-34\", \"30-34\", \"30-34\", \"30-34\", \"30-34\", \"30-34\", \"30-34\", \"35-39\", \"40-44\", \"40-44\", \"40-44\", \"40-44\", \"40-44\", \"40-44\", \"40-44\", \"40-44\", \"45-49\", \"45-49\", \"45-49\", \"45-49\", \"45-49\", \"45-49\", \"45-49\", \"30-34\", \"30-34\", \"30-34\", \"30-34\", \"30-34\", \"30-34\", \"30-34\", \"35-39\", \"35-39\", \"35-39\", \"35-39\", \"35-39\", \"35-39\", \"40-44\", \"40-44\", \"45-49\", \"45-49\", \"45-49\", \"45-49\", \"45-49\", \"30-34\", \"30-34\", \"30-34\", \"30-34\", \"30-34\", \"30-34\", \"30-34\", \"30-34\", \"30-34\", \"30-34\", \"30-34\", \"30-34\", \"35-39\", \"35-39\", \"35-39\", \"35-39\", \"35-39\", \"35-39\", \"40-44\", \"40-44\", \"40-44\", \"40-44\", \"45-49\", \"45-49\", \"45-49\", \"45-49\", \"45-49\", \"45-49\", \"45-49\", \"45-49\", \"45-49\", \"45-49\", \"45-49\", \"45-49\", \"45-49\", \"45-49\", \"45-49\", \"45-49\", \"45-49\", \"40-44\", \"45-49\", \"45-49\", \"45-49\", \"45-49\", \"30-34\", \"45-49\", \"45-49\", \"30-34\", \"30-34\", \"30-34\", \"30-34\", \"45-49\", \"30-34\", \"45-49\", \"45-49\", \"45-49\", \"45-49\", \"30-34\", \"30-34\", \"30-34\", \"30-34\", \"30-34\", \"30-34\", \"30-34\", \"45-49\", \"45-49\", \"40-44\", \"30-34\", \"30-34\", \"30-34\", \"30-34\", \"30-34\", \"30-34\", \"40-44\", \"40-44\", \"40-44\", \"40-44\", \"30-34\", \"30-34\", \"30-34\", \"30-34\", \"30-34\", \"40-44\", \"40-44\", \"45-49\", \"45-49\", \"40-44\", \"45-49\", \"45-49\", \"45-49\", \"35-39\", \"45-49\", \"40-44\", \"35-39\", \"45-49\", \"45-49\", \"35-39\", \"35-39\", \"30-34\", \"40-44\", \"30-34\", \"30-34\", \"30-34\", \"30-34\", \"30-34\", \"40-44\", \"40-44\", \"35-39\", \"45-49\", \"45-49\", \"40-44\", \"45-49\", \"45-49\", \"45-49\", \"40-44\", \"40-44\", \"40-44\", \"35-39\", \"30-34\", \"30-34\", \"40-44\", \"30-34\", \"30-34\", \"30-34\", \"35-39\", \"30-34\", \"30-34\", \"30-34\", \"35-39\", \"35-39\", \"30-34\", \"35-39\", \"30-34\", \"30-34\", \"40-44\", \"40-44\", \"40-44\", \"40-44\", \"40-44\", \"40-44\", \"30-34\", \"40-44\", \"30-34\", \"40-44\", \"30-34\", \"40-44\", \"30-34\", \"30-34\", \"35-39\", \"30-34\", \"35-39\", \"35-39\", \"35-39\", \"30-34\", \"30-34\", \"35-39\", \"40-44\", \"35-39\", \"30-34\", \"45-49\", \"45-49\", \"35-39\", \"35-39\", \"35-39\", \"30-34\", \"35-39\", \"30-34\", \"30-34\", \"30-34\", \"30-34\", \"30-34\", \"30-34\", \"45-49\", \"45-49\", \"30-34\", \"30-34\", \"30-34\", \"35-39\", \"35-39\", \"30-34\", \"30-34\", \"30-34\", \"35-39\", \"45-49\", \"45-49\", \"30-34\", \"30-34\", \"30-34\", \"30-34\", \"30-34\", \"30-34\", \"45-49\", \"30-34\", \"30-34\", \"30-34\", \"45-49\", \"45-49\", \"30-34\", \"30-34\", \"30-34\", \"45-49\", \"45-49\", \"30-34\", \"40-44\", \"40-44\", \"40-44\", \"40-44\", \"40-44\", \"40-44\", \"40-44\", \"35-39\", \"35-39\", \"35-39\", \"35-39\", \"35-39\", \"35-39\", \"35-39\", \"30-34\", \"35-39\", \"35-39\", \"30-34\", \"30-34\", \"30-34\", \"35-39\", \"45-49\", \"35-39\", \"30-34\", \"30-34\", \"45-49\", \"30-34\", \"30-34\", \"30-34\", \"30-34\", \"30-34\", \"30-34\", \"30-34\", \"30-34\", \"30-34\", \"30-34\", \"30-34\", \"30-34\", \"30-34\", \"40-44\", \"30-34\", \"30-34\", \"45-49\", \"45-49\", \"40-44\", \"40-44\", \"30-34\", \"40-44\", \"30-34\", \"35-39\", \"35-39\", \"35-39\", \"40-44\", \"40-44\", \"35-39\", \"30-34\", \"30-34\", \"30-34\", \"30-34\", \"30-34\", \"30-34\", \"30-34\", \"30-34\", \"30-34\", \"30-34\", \"40-44\", \"35-39\", \"30-34\", \"45-49\", \"45-49\", \"45-49\", \"30-34\", \"45-49\", \"40-44\", \"30-34\", \"30-34\", \"30-34\", \"30-34\", \"30-34\", \"30-34\", \"30-34\", \"30-34\", \"30-34\", \"30-34\", \"35-39\", \"35-39\", \"35-39\", \"30-34\", \"35-39\", \"30-34\", \"40-44\", \"45-49\", \"30-34\", \"30-34\", \"30-34\", \"30-34\", \"30-34\", \"30-34\", \"45-49\", \"45-49\", \"35-39\", \"45-49\", \"35-39\", \"35-39\", \"35-39\", \"35-39\", \"35-39\", \"35-39\", \"30-34\", \"30-34\", \"30-34\", \"45-49\", \"30-34\", \"30-34\", \"30-34\", \"30-34\", \"30-34\", \"45-49\", \"45-49\", \"45-49\", \"45-49\", \"30-34\", \"40-44\", \"40-44\", \"40-44\", \"40-44\", \"35-39\", \"35-39\", \"45-49\", \"35-39\", \"45-49\", \"45-49\", \"35-39\", \"35-39\", \"45-49\", \"30-34\", \"30-34\", \"30-34\", \"30-34\", \"45-49\", \"40-44\", \"40-44\", \"35-39\", \"30-34\", \"30-34\", \"30-34\", \"30-34\", \"30-34\", \"30-34\", \"30-34\", \"30-34\", \"30-34\", \"30-34\", \"30-34\", \"30-34\", \"30-34\", \"30-34\", \"30-34\", \"30-34\", \"30-34\", \"30-34\", \"30-34\", \"30-34\", \"30-34\", \"30-34\", \"30-34\", \"30-34\", \"30-34\", \"30-34\", \"30-34\", \"30-34\", \"30-34\", \"30-34\", \"30-34\", \"30-34\", \"30-34\", \"30-34\", \"30-34\", \"30-34\", \"30-34\", \"30-34\", \"30-34\", \"30-34\", \"30-34\", \"30-34\", \"30-34\", \"30-34\", \"30-34\", \"30-34\", \"30-34\", \"30-34\", \"30-34\", \"30-34\", \"30-34\", \"30-34\", \"30-34\", \"30-34\", \"30-34\", \"30-34\", \"30-34\", \"30-34\", \"30-34\", \"30-34\", \"30-34\", \"30-34\", \"30-34\", \"30-34\", \"30-34\", \"30-34\", \"30-34\", \"30-34\", \"30-34\", \"30-34\", \"30-34\", \"30-34\", \"30-34\", \"30-34\", \"30-34\", \"30-34\", \"30-34\", \"30-34\", \"30-34\", \"30-34\", \"30-34\", \"30-34\", \"30-34\", \"30-34\", \"30-34\", \"30-34\", \"30-34\", \"30-34\", \"30-34\", \"30-34\", \"30-34\", \"30-34\", \"30-34\", \"30-34\", \"30-34\", \"30-34\", \"30-34\", \"30-34\", \"30-34\", \"30-34\", \"30-34\", \"30-34\", \"35-39\", \"35-39\", \"35-39\", \"35-39\", \"35-39\", \"35-39\", \"35-39\", \"35-39\", \"35-39\", \"35-39\", \"35-39\", \"35-39\", \"35-39\", \"35-39\", \"35-39\", \"35-39\", \"35-39\", \"35-39\", \"35-39\", \"35-39\", \"35-39\", \"35-39\", \"35-39\", \"35-39\", \"35-39\", \"35-39\", \"35-39\", \"35-39\", \"35-39\", \"35-39\", \"35-39\", \"35-39\", \"35-39\", \"35-39\", \"35-39\", \"35-39\", \"35-39\", \"35-39\", \"35-39\", \"35-39\", \"35-39\", \"35-39\", \"35-39\", \"35-39\", \"35-39\", \"35-39\", \"35-39\", \"35-39\", \"35-39\", \"35-39\", \"35-39\", \"35-39\", \"35-39\", \"35-39\", \"35-39\", \"35-39\", \"35-39\", \"35-39\", \"35-39\", \"35-39\", \"35-39\", \"35-39\", \"35-39\", \"35-39\", \"35-39\", \"35-39\", \"35-39\", \"35-39\", \"35-39\", \"35-39\", \"35-39\", \"35-39\", \"35-39\", \"35-39\", \"35-39\", \"35-39\", \"35-39\", \"35-39\", \"35-39\", \"40-44\", \"40-44\", \"40-44\", \"40-44\", \"40-44\", \"40-44\", \"40-44\", \"40-44\", \"40-44\", \"40-44\", \"40-44\", \"40-44\", \"40-44\", \"40-44\", \"40-44\", \"40-44\", \"40-44\", \"40-44\", \"40-44\", \"40-44\", \"40-44\", \"40-44\", \"40-44\", \"40-44\", \"40-44\", \"40-44\", \"40-44\", \"40-44\", \"40-44\", \"40-44\", \"40-44\", \"40-44\", \"40-44\", \"40-44\", \"40-44\", \"40-44\", \"40-44\", \"40-44\", \"40-44\", \"40-44\", \"40-44\", \"40-44\", \"40-44\", \"40-44\", \"40-44\", \"40-44\", \"40-44\", \"40-44\", \"40-44\", \"40-44\", \"40-44\", \"40-44\", \"40-44\", \"40-44\", \"40-44\", \"40-44\", \"40-44\", \"40-44\", \"45-49\", \"45-49\", \"45-49\", \"45-49\", \"45-49\", \"45-49\", \"45-49\", \"45-49\", \"45-49\", \"45-49\", \"45-49\", \"45-49\", \"45-49\", \"45-49\", \"45-49\", \"45-49\", \"45-49\", \"45-49\", \"45-49\", \"45-49\", \"45-49\", \"45-49\", \"45-49\", \"45-49\", \"45-49\", \"45-49\", \"45-49\", \"45-49\", \"45-49\", \"45-49\", \"45-49\", \"45-49\", \"45-49\", \"45-49\", \"45-49\", \"45-49\", \"45-49\", \"45-49\", \"45-49\", \"45-49\", \"45-49\", \"45-49\", \"45-49\", \"45-49\", \"45-49\", \"45-49\", \"45-49\", \"45-49\", \"45-49\", \"45-49\", \"45-49\", \"45-49\", \"45-49\", \"45-49\", \"45-49\", \"45-49\", \"45-49\", \"45-49\", \"45-49\", \"45-49\", \"45-49\", \"45-49\", \"45-49\", \"45-49\", \"45-49\", \"45-49\", \"45-49\", \"30-34\", \"30-34\", \"30-34\", \"30-34\", \"30-34\", \"30-34\", \"30-34\", \"30-34\", \"30-34\", \"30-34\", \"30-34\", \"30-34\", \"30-34\", \"30-34\", \"30-34\", \"30-34\", \"30-34\", \"30-34\", \"30-34\", \"30-34\", \"30-34\", \"30-34\", \"30-34\", \"30-34\", \"30-34\", \"30-34\", \"30-34\", \"30-34\", \"30-34\", \"30-34\", \"30-34\", \"30-34\", \"30-34\", \"30-34\", \"30-34\", \"30-34\", \"30-34\", \"30-34\", \"30-34\", \"30-34\", \"30-34\", \"30-34\", \"30-34\", \"30-34\", \"30-34\", \"30-34\", \"30-34\", \"30-34\", \"30-34\", \"30-34\", \"30-34\", \"30-34\", \"30-34\", \"30-34\", \"30-34\", \"30-34\", \"30-34\", \"30-34\", \"30-34\", \"30-34\", \"30-34\", \"30-34\", \"30-34\", \"30-34\", \"30-34\", \"30-34\", \"30-34\", \"30-34\", \"30-34\", \"30-34\", \"30-34\", \"30-34\", \"30-34\", \"30-34\", \"30-34\", \"30-34\", \"30-34\", \"35-39\", \"35-39\", \"35-39\", \"35-39\", \"35-39\", \"35-39\", \"35-39\", \"35-39\", \"35-39\", \"35-39\", \"35-39\", \"35-39\", \"35-39\", \"35-39\", \"35-39\", \"35-39\", \"35-39\", \"35-39\", \"35-39\", \"35-39\", \"35-39\", \"35-39\", \"35-39\", \"35-39\", \"35-39\", \"35-39\", \"35-39\", \"35-39\", \"35-39\", \"35-39\", \"35-39\", \"35-39\", \"35-39\", \"35-39\", \"35-39\", \"35-39\", \"35-39\", \"35-39\", \"35-39\", \"35-39\", \"35-39\", \"35-39\", \"35-39\", \"35-39\", \"35-39\", \"40-44\", \"40-44\", \"40-44\", \"40-44\", \"40-44\", \"40-44\", \"40-44\", \"40-44\", \"40-44\", \"40-44\", \"40-44\", \"40-44\", \"40-44\", \"40-44\", \"40-44\", \"40-44\", \"40-44\", \"40-44\", \"40-44\", \"40-44\", \"40-44\", \"40-44\", \"40-44\", \"40-44\", \"40-44\", \"40-44\", \"40-44\", \"40-44\", \"40-44\", \"40-44\", \"40-44\", \"40-44\", \"40-44\", \"40-44\", \"40-44\", \"40-44\", \"40-44\", \"40-44\", \"40-44\", \"40-44\", \"40-44\", \"40-44\", \"40-44\", \"40-44\", \"40-44\", \"40-44\", \"45-49\", \"45-49\", \"45-49\", \"45-49\", \"45-49\", \"45-49\", \"45-49\", \"45-49\", \"45-49\", \"45-49\", \"45-49\", \"45-49\", \"45-49\", \"45-49\", \"45-49\", \"45-49\", \"45-49\", \"45-49\", \"45-49\", \"45-49\", \"45-49\", \"45-49\", \"45-49\", \"45-49\", \"45-49\", \"45-49\", \"45-49\", \"45-49\", \"45-49\", \"45-49\", \"45-49\", \"45-49\", \"45-49\", \"45-49\", \"45-49\", \"45-49\", \"45-49\", \"45-49\", \"45-49\", \"45-49\", \"45-49\", \"45-49\", \"45-49\", \"45-49\", \"45-49\", \"45-49\", \"45-49\", \"45-49\", \"45-49\", \"45-49\", \"45-49\", \"45-49\", \"45-49\", \"45-49\", \"45-49\", \"45-49\", \"30-34\", \"30-34\", \"30-34\", \"30-34\", \"30-34\", \"30-34\", \"30-34\", \"30-34\", \"30-34\", \"30-34\", \"35-39\", \"35-39\", \"35-39\", \"35-39\", \"35-39\", \"35-39\", \"35-39\", \"35-39\", \"35-39\", \"35-39\", \"35-39\", \"40-44\", \"40-44\", \"40-44\", \"40-44\", \"40-44\", \"40-44\", \"40-44\", \"40-44\", \"40-44\", \"40-44\", \"40-44\", \"45-49\", \"45-49\", \"45-49\", \"45-49\", \"45-49\", \"45-49\", \"45-49\", \"45-49\", \"45-49\", \"45-49\", \"45-49\", \"30-34\", \"30-34\", \"30-34\", \"30-34\", \"30-34\", \"30-34\", \"30-34\", \"30-34\", \"30-34\", \"30-34\", \"30-34\", \"30-34\", \"35-39\", \"35-39\", \"35-39\", \"35-39\", \"35-39\", \"35-39\", \"35-39\", \"35-39\", \"35-39\", \"35-39\", \"35-39\", \"35-39\", \"40-44\", \"40-44\", \"40-44\", \"40-44\", \"40-44\", \"40-44\", \"40-44\", \"40-44\", \"40-44\", \"40-44\", \"40-44\", \"40-44\", \"40-44\", \"40-44\", \"45-49\", \"45-49\", \"45-49\", \"45-49\", \"45-49\", \"45-49\", \"45-49\", \"45-49\", \"45-49\", \"45-49\", \"45-49\", \"45-49\", \"45-49\", \"45-49\"], \"legendgroup\": \"\", \"name\": \"\", \"showlegend\": true, \"type\": \"pie\", \"values\": [15, 16, 20, 28, 28, 29, 15, 16, 27, 28, 31, 7, 16, 16, 20, 28, 30, 31, 15, 16, 15, 15, 16, 16, 16, 7, 29, 16, 16, 16, 15, 16, 16, 24, 21, 16, 16, 32, 15, 16, 18, 27, 15, 29, 63, 65, 25, 27, 20, 15, 10, 19, 63, 10, 10, 10, 15, 21, 25, 26, 29, 36, 36, 10, 16, 20, 23, 26, 27, 28, 29, 29, 36, 18, 19, 29, 31, 10, 16, 16, 18, 18, 26, 27, 27, 29, 31, 64, 64, 10, 16, 22, 27, 29, 32, 36, 63, 64, 7, 21, 26, 27, 28, 63, 64, 10, 15, 19, 20, 27, 27, 29, 2, 15, 16, 27, 28, 29, 29, 7, 16, 63, 10, 30, 16, 18, 18, 20, 29, 16, 20, 23, 26, 27, 32, 64, 31, 10, 16, 16, 18, 19, 21, 30, 64, 10, 16, 16, 18, 19, 24, 26, 10, 10, 15, 16, 16, 21, 64, 15, 16, 16, 22, 28, 29, 2, 16, 10, 16, 20, 21, 26, 10, 10, 15, 16, 21, 22, 26, 27, 27, 30, 63, 64, 21, 25, 26, 27, 29, 63, 16, 16, 16, 16, 15, 16, 16, 16, 16, 27, 27, 29, 31, 64, 15, 16, 16, 16, 10, 10, 10, 63, 25, 23, 21, 19, 10, 29, 28, 16, 16, 16, 16, 26, 15, 65, 65, 63, 63, 15, 16, 16, 16, 7, 10, 2, 63, 64, 29, 15, 15, 16, 16, 16, 16, 19, 16, 16, 16, 10, 10, 10, 10, 2, 23, 2, 21, 20, 10, 18, 16, 16, 36, 7, 63, 10, 36, 63, 16, 16, 63, 27, 64, 64, 64, 65, 7, 29, 24, 24, 26, 28, 19, 29, 16, 16, 7, 16, 16, 64, 19, 18, 2, 20, 31, 31, 27, 27, 26, 26, 29, 29, 29, 28, 28, 28, 29, 27, 27, 20, 20, 29, 32, 18, 31, 32, 30, 22, 29, 29, 29, 28, 64, 27, 63, 26, 26, 27, 15, 30, 64, 64, 65, 10, 15, 15, 15, 16, 16, 16, 29, 29, 28, 31, 10, 7, 32, 18, 18, 10, 16, 20, 22, 25, 23, 29, 29, 65, 64, 63, 28, 29, 29, 10, 26, 27, 24, 18, 18, 22, 22, 23, 16, 16, 21, 32, 22, 18, 10, 10, 15, 16, 63, 64, 27, 27, 29, 10, 10, 63, 16, 15, 63, 32, 32, 20, 26, 16, 20, 20, 21, 18, 18, 20, 24, 24, 18, 18, 16, 16, 16, 30, 29, 26, 63, 28, 29, 16, 10, 20, 28, 10, 27, 15, 29, 30, 26, 10, 10, 64, 10, 16, 16, 18, 20, 15, 16, 16, 16, 10, 20, 16, 64, 16, 15, 21, 21, 22, 36, 30, 32, 32, 26, 29, 65, 65, 64, 29, 28, 28, 28, 28, 27, 32, 24, 10, 36, 7, 10, 10, 16, 16, 16, 16, 16, 16, 26, 22, 18, 16, 16, 15, 10, 64, 28, 28, 10, 29, 26, 27, 25, 25, 16, 16, 16, 20, 18, 27, 10, 10, 2, 27, 10, 64, 22, 27, 26, 16, 16, 20, 20, 20, 20, 28, 10, 16, 27, 29, 10, 10, 10, 10, 10, 15, 15, 15, 15, 15, 16, 16, 16, 16, 18, 18, 18, 18, 19, 19, 19, 19, 20, 20, 20, 20, 20, 20, 21, 21, 21, 21, 21, 22, 22, 22, 22, 23, 23, 23, 24, 24, 25, 25, 25, 26, 26, 26, 26, 27, 27, 27, 27, 27, 28, 28, 28, 28, 29, 29, 29, 29, 29, 30, 30, 30, 30, 31, 31, 31, 32, 32, 32, 36, 36, 36, 36, 36, 36, 63, 63, 63, 63, 63, 64, 64, 64, 64, 65, 65, 2, 2, 2, 2, 7, 7, 7, 7, 66, 66, 66, 66, 10, 10, 10, 10, 10, 15, 15, 15, 16, 16, 16, 18, 18, 18, 18, 19, 19, 20, 20, 20, 21, 21, 22, 22, 22, 22, 23, 23, 23, 23, 23, 24, 24, 24, 25, 25, 25, 26, 26, 27, 27, 27, 28, 28, 28, 28, 28, 29, 29, 29, 29, 29, 30, 30, 30, 31, 32, 32, 32, 36, 36, 63, 63, 64, 64, 64, 64, 64, 65, 65, 2, 2, 2, 2, 7, 7, 7, 66, 66, 10, 10, 10, 10, 10, 15, 16, 16, 16, 16, 16, 16, 19, 19, 19, 20, 20, 20, 20, 20, 21, 22, 22, 22, 22, 23, 23, 24, 24, 25, 26, 27, 27, 29, 29, 29, 29, 29, 29, 30, 30, 31, 32, 32, 32, 36, 36, 63, 63, 64, 64, 65, 2, 2, 2, 7, 66, 66, 10, 10, 10, 10, 10, 15, 15, 15, 16, 16, 16, 16, 16, 18, 18, 18, 19, 19, 19, 19, 20, 20, 20, 20, 20, 21, 21, 21, 22, 23, 23, 23, 24, 25, 25, 26, 27, 27, 27, 27, 27, 28, 28, 28, 28, 28, 29, 29, 29, 29, 29, 29, 31, 31, 31, 32, 32, 32, 32, 36, 63, 63, 63, 64, 65, 2, 66, 10, 10, 15, 15, 15, 16, 16, 16, 16, 16, 18, 18, 18, 19, 19, 19, 19, 19, 20, 20, 20, 21, 21, 21, 21, 22, 22, 23, 24, 24, 24, 24, 25, 26, 26, 27, 27, 27, 27, 28, 28, 28, 28, 29, 29, 29, 29, 30, 30, 30, 31, 31, 32, 32, 32, 32, 32, 36, 63, 63, 63, 63, 64, 64, 64, 64, 64, 65, 65, 2, 2, 2, 2, 7, 7, 7, 66, 10, 10, 10, 10, 15, 15, 16, 16, 16, 16, 16, 16, 18, 19, 19, 21, 21, 22, 22, 22, 22, 24, 24, 25, 25, 25, 26, 26, 27, 27, 28, 29, 29, 29, 30, 32, 63, 63, 63, 63, 63, 64, 64, 2, 7, 10, 10, 10, 10, 10, 15, 16, 16, 16, 16, 18, 21, 21, 21, 22, 23, 23, 25, 25, 25, 26, 26, 26, 27, 27, 28, 28, 28, 29, 29, 30, 31, 31, 31, 32, 32, 36, 63, 63, 64, 65, 65, 2, 7, 7, 66, 10, 10, 10, 10, 15, 15, 16, 16, 16, 16, 16, 18, 18, 18, 18, 19, 19, 19, 20, 20, 21, 21, 22, 22, 23, 24, 24, 25, 25, 25, 26, 26, 26, 27, 27, 27, 28, 28, 28, 28, 29, 29, 29, 29, 30, 30, 31, 31, 63, 63, 63, 64, 64, 64, 64, 65, 100, 101, 102, 103, 105, 107, 110, 111, 112, 113, 101, 102, 103, 105, 107, 108, 109, 110, 112, 113, 114, 100, 101, 104, 105, 106, 107, 108, 110, 111, 112, 113, 100, 102, 104, 105, 107, 108, 109, 110, 112, 113, 114, 101, 102, 103, 104, 105, 106, 107, 108, 109, 110, 111, 112, 100, 101, 102, 106, 107, 108, 109, 110, 111, 112, 113, 114, 100, 101, 102, 103, 104, 105, 106, 107, 108, 109, 110, 111, 112, 114, 100, 101, 102, 103, 104, 105, 106, 107, 108, 109, 110, 111, 113, 114]}],\n",
              "                        {\"legend\": {\"tracegroupgap\": 0}, \"piecolorway\": [\"rgb(8,48,107)\", \"rgb(8,81,156)\", \"rgb(33,113,181)\", \"rgb(66,146,198)\", \"rgb(107,174,214)\", \"rgb(158,202,225)\", \"rgb(198,219,239)\", \"rgb(222,235,247)\", \"rgb(247,251,255)\"], \"template\": {\"data\": {\"bar\": [{\"error_x\": {\"color\": \"#2a3f5f\"}, \"error_y\": {\"color\": \"#2a3f5f\"}, \"marker\": {\"line\": {\"color\": \"#E5ECF6\", \"width\": 0.5}}, \"type\": \"bar\"}], \"barpolar\": [{\"marker\": {\"line\": {\"color\": \"#E5ECF6\", \"width\": 0.5}}, \"type\": \"barpolar\"}], \"carpet\": [{\"aaxis\": {\"endlinecolor\": \"#2a3f5f\", \"gridcolor\": \"white\", \"linecolor\": \"white\", \"minorgridcolor\": \"white\", \"startlinecolor\": \"#2a3f5f\"}, \"baxis\": {\"endlinecolor\": \"#2a3f5f\", \"gridcolor\": \"white\", \"linecolor\": \"white\", \"minorgridcolor\": \"white\", \"startlinecolor\": \"#2a3f5f\"}, \"type\": \"carpet\"}], \"choropleth\": [{\"colorbar\": {\"outlinewidth\": 0, \"ticks\": \"\"}, \"type\": \"choropleth\"}], \"contour\": [{\"colorbar\": {\"outlinewidth\": 0, \"ticks\": \"\"}, \"colorscale\": [[0.0, \"#0d0887\"], [0.1111111111111111, \"#46039f\"], [0.2222222222222222, \"#7201a8\"], [0.3333333333333333, \"#9c179e\"], [0.4444444444444444, \"#bd3786\"], [0.5555555555555556, \"#d8576b\"], [0.6666666666666666, \"#ed7953\"], [0.7777777777777778, \"#fb9f3a\"], [0.8888888888888888, \"#fdca26\"], [1.0, \"#f0f921\"]], \"type\": \"contour\"}], \"contourcarpet\": [{\"colorbar\": {\"outlinewidth\": 0, \"ticks\": \"\"}, \"type\": \"contourcarpet\"}], \"heatmap\": [{\"colorbar\": {\"outlinewidth\": 0, \"ticks\": \"\"}, \"colorscale\": [[0.0, \"#0d0887\"], [0.1111111111111111, \"#46039f\"], [0.2222222222222222, \"#7201a8\"], [0.3333333333333333, \"#9c179e\"], [0.4444444444444444, \"#bd3786\"], [0.5555555555555556, \"#d8576b\"], [0.6666666666666666, \"#ed7953\"], [0.7777777777777778, \"#fb9f3a\"], [0.8888888888888888, \"#fdca26\"], [1.0, \"#f0f921\"]], \"type\": \"heatmap\"}], \"heatmapgl\": [{\"colorbar\": {\"outlinewidth\": 0, \"ticks\": \"\"}, \"colorscale\": [[0.0, \"#0d0887\"], [0.1111111111111111, \"#46039f\"], [0.2222222222222222, \"#7201a8\"], [0.3333333333333333, \"#9c179e\"], [0.4444444444444444, \"#bd3786\"], [0.5555555555555556, \"#d8576b\"], [0.6666666666666666, \"#ed7953\"], [0.7777777777777778, \"#fb9f3a\"], [0.8888888888888888, \"#fdca26\"], [1.0, \"#f0f921\"]], \"type\": \"heatmapgl\"}], \"histogram\": [{\"marker\": {\"colorbar\": {\"outlinewidth\": 0, \"ticks\": \"\"}}, \"type\": \"histogram\"}], \"histogram2d\": [{\"colorbar\": {\"outlinewidth\": 0, \"ticks\": \"\"}, \"colorscale\": [[0.0, \"#0d0887\"], [0.1111111111111111, \"#46039f\"], [0.2222222222222222, \"#7201a8\"], [0.3333333333333333, \"#9c179e\"], [0.4444444444444444, \"#bd3786\"], [0.5555555555555556, \"#d8576b\"], [0.6666666666666666, \"#ed7953\"], [0.7777777777777778, \"#fb9f3a\"], [0.8888888888888888, \"#fdca26\"], [1.0, \"#f0f921\"]], \"type\": \"histogram2d\"}], \"histogram2dcontour\": [{\"colorbar\": {\"outlinewidth\": 0, \"ticks\": \"\"}, \"colorscale\": [[0.0, \"#0d0887\"], [0.1111111111111111, \"#46039f\"], [0.2222222222222222, \"#7201a8\"], [0.3333333333333333, \"#9c179e\"], [0.4444444444444444, \"#bd3786\"], [0.5555555555555556, \"#d8576b\"], [0.6666666666666666, \"#ed7953\"], [0.7777777777777778, \"#fb9f3a\"], [0.8888888888888888, \"#fdca26\"], [1.0, \"#f0f921\"]], \"type\": \"histogram2dcontour\"}], \"mesh3d\": [{\"colorbar\": {\"outlinewidth\": 0, \"ticks\": \"\"}, \"type\": \"mesh3d\"}], \"parcoords\": [{\"line\": {\"colorbar\": {\"outlinewidth\": 0, \"ticks\": \"\"}}, \"type\": \"parcoords\"}], \"pie\": [{\"automargin\": true, \"type\": \"pie\"}], \"scatter\": [{\"marker\": {\"colorbar\": {\"outlinewidth\": 0, \"ticks\": \"\"}}, \"type\": \"scatter\"}], \"scatter3d\": [{\"line\": {\"colorbar\": {\"outlinewidth\": 0, \"ticks\": \"\"}}, \"marker\": {\"colorbar\": {\"outlinewidth\": 0, \"ticks\": \"\"}}, \"type\": \"scatter3d\"}], \"scattercarpet\": [{\"marker\": {\"colorbar\": {\"outlinewidth\": 0, \"ticks\": \"\"}}, \"type\": \"scattercarpet\"}], \"scattergeo\": [{\"marker\": {\"colorbar\": {\"outlinewidth\": 0, \"ticks\": \"\"}}, \"type\": \"scattergeo\"}], \"scattergl\": [{\"marker\": {\"colorbar\": {\"outlinewidth\": 0, \"ticks\": \"\"}}, \"type\": \"scattergl\"}], \"scattermapbox\": [{\"marker\": {\"colorbar\": {\"outlinewidth\": 0, \"ticks\": \"\"}}, \"type\": \"scattermapbox\"}], \"scatterpolar\": [{\"marker\": {\"colorbar\": {\"outlinewidth\": 0, \"ticks\": \"\"}}, \"type\": \"scatterpolar\"}], \"scatterpolargl\": [{\"marker\": {\"colorbar\": {\"outlinewidth\": 0, \"ticks\": \"\"}}, \"type\": \"scatterpolargl\"}], \"scatterternary\": [{\"marker\": {\"colorbar\": {\"outlinewidth\": 0, \"ticks\": \"\"}}, \"type\": \"scatterternary\"}], \"surface\": [{\"colorbar\": {\"outlinewidth\": 0, \"ticks\": \"\"}, \"colorscale\": [[0.0, \"#0d0887\"], [0.1111111111111111, \"#46039f\"], [0.2222222222222222, \"#7201a8\"], [0.3333333333333333, \"#9c179e\"], [0.4444444444444444, \"#bd3786\"], [0.5555555555555556, \"#d8576b\"], [0.6666666666666666, \"#ed7953\"], [0.7777777777777778, \"#fb9f3a\"], [0.8888888888888888, \"#fdca26\"], [1.0, \"#f0f921\"]], \"type\": \"surface\"}], \"table\": [{\"cells\": {\"fill\": {\"color\": \"#EBF0F8\"}, \"line\": {\"color\": \"white\"}}, \"header\": {\"fill\": {\"color\": \"#C8D4E3\"}, \"line\": {\"color\": \"white\"}}, \"type\": \"table\"}]}, \"layout\": {\"annotationdefaults\": {\"arrowcolor\": \"#2a3f5f\", \"arrowhead\": 0, \"arrowwidth\": 1}, \"coloraxis\": {\"colorbar\": {\"outlinewidth\": 0, \"ticks\": \"\"}}, \"colorscale\": {\"diverging\": [[0, \"#8e0152\"], [0.1, \"#c51b7d\"], [0.2, \"#de77ae\"], [0.3, \"#f1b6da\"], [0.4, \"#fde0ef\"], [0.5, \"#f7f7f7\"], [0.6, \"#e6f5d0\"], [0.7, \"#b8e186\"], [0.8, \"#7fbc41\"], [0.9, \"#4d9221\"], [1, \"#276419\"]], \"sequential\": [[0.0, \"#0d0887\"], [0.1111111111111111, \"#46039f\"], [0.2222222222222222, \"#7201a8\"], [0.3333333333333333, \"#9c179e\"], [0.4444444444444444, \"#bd3786\"], [0.5555555555555556, \"#d8576b\"], [0.6666666666666666, \"#ed7953\"], [0.7777777777777778, \"#fb9f3a\"], [0.8888888888888888, \"#fdca26\"], [1.0, \"#f0f921\"]], \"sequentialminus\": [[0.0, \"#0d0887\"], [0.1111111111111111, \"#46039f\"], [0.2222222222222222, \"#7201a8\"], [0.3333333333333333, \"#9c179e\"], [0.4444444444444444, \"#bd3786\"], [0.5555555555555556, \"#d8576b\"], [0.6666666666666666, \"#ed7953\"], [0.7777777777777778, \"#fb9f3a\"], [0.8888888888888888, \"#fdca26\"], [1.0, \"#f0f921\"]]}, \"colorway\": [\"#636efa\", \"#EF553B\", \"#00cc96\", \"#ab63fa\", \"#FFA15A\", \"#19d3f3\", \"#FF6692\", \"#B6E880\", \"#FF97FF\", \"#FECB52\"], \"font\": {\"color\": \"#2a3f5f\"}, \"geo\": {\"bgcolor\": \"white\", \"lakecolor\": \"white\", \"landcolor\": \"#E5ECF6\", \"showlakes\": true, \"showland\": true, \"subunitcolor\": \"white\"}, \"hoverlabel\": {\"align\": \"left\"}, \"hovermode\": \"closest\", \"mapbox\": {\"style\": \"light\"}, \"paper_bgcolor\": \"white\", \"plot_bgcolor\": \"#E5ECF6\", \"polar\": {\"angularaxis\": {\"gridcolor\": \"white\", \"linecolor\": \"white\", \"ticks\": \"\"}, \"bgcolor\": \"#E5ECF6\", \"radialaxis\": {\"gridcolor\": \"white\", \"linecolor\": \"white\", \"ticks\": \"\"}}, \"scene\": {\"xaxis\": {\"backgroundcolor\": \"#E5ECF6\", \"gridcolor\": \"white\", \"gridwidth\": 2, \"linecolor\": \"white\", \"showbackground\": true, \"ticks\": \"\", \"zerolinecolor\": \"white\"}, \"yaxis\": {\"backgroundcolor\": \"#E5ECF6\", \"gridcolor\": \"white\", \"gridwidth\": 2, \"linecolor\": \"white\", \"showbackground\": true, \"ticks\": \"\", \"zerolinecolor\": \"white\"}, \"zaxis\": {\"backgroundcolor\": \"#E5ECF6\", \"gridcolor\": \"white\", \"gridwidth\": 2, \"linecolor\": \"white\", \"showbackground\": true, \"ticks\": \"\", \"zerolinecolor\": \"white\"}}, \"shapedefaults\": {\"line\": {\"color\": \"#2a3f5f\"}}, \"ternary\": {\"aaxis\": {\"gridcolor\": \"white\", \"linecolor\": \"white\", \"ticks\": \"\"}, \"baxis\": {\"gridcolor\": \"white\", \"linecolor\": \"white\", \"ticks\": \"\"}, \"bgcolor\": \"#E5ECF6\", \"caxis\": {\"gridcolor\": \"white\", \"linecolor\": \"white\", \"ticks\": \"\"}}, \"title\": {\"x\": 0.05}, \"xaxis\": {\"automargin\": true, \"gridcolor\": \"white\", \"linecolor\": \"white\", \"ticks\": \"\", \"title\": {\"standoff\": 15}, \"zerolinecolor\": \"white\", \"zerolinewidth\": 2}, \"yaxis\": {\"automargin\": true, \"gridcolor\": \"white\", \"linecolor\": \"white\", \"ticks\": \"\", \"title\": {\"standoff\": 15}, \"zerolinecolor\": \"white\", \"zerolinewidth\": 2}}}, \"title\": {\"text\": \"Age Vs Interest\"}},\n",
              "                        {\"responsive\": true}\n",
              "                    ).then(function(){\n",
              "                            \n",
              "var gd = document.getElementById('c31ba388-0146-4f89-b8ef-3a8d87bc71f2');\n",
              "var x = new MutationObserver(function (mutations, observer) {{\n",
              "        var display = window.getComputedStyle(gd).display;\n",
              "        if (!display || display === 'none') {{\n",
              "            console.log([gd, 'removed!']);\n",
              "            Plotly.purge(gd);\n",
              "            observer.disconnect();\n",
              "        }}\n",
              "}});\n",
              "\n",
              "// Listen for the removal of the full notebook cells\n",
              "var notebookContainer = gd.closest('#notebook-container');\n",
              "if (notebookContainer) {{\n",
              "    x.observe(notebookContainer, {childList: true});\n",
              "}}\n",
              "\n",
              "// Listen for the clearing of the current output cell\n",
              "var outputEl = gd.closest('.output');\n",
              "if (outputEl) {{\n",
              "    x.observe(outputEl, {childList: true});\n",
              "}}\n",
              "\n",
              "                        })\n",
              "                };\n",
              "                \n",
              "            </script>\n",
              "        </div>\n",
              "</body>\n",
              "</html>"
            ]
          },
          "metadata": {}
        }
      ]
    },
    {
      "cell_type": "code",
      "source": [
        "# Gender-wise distribution of interest\n",
        "px.pie(dataset,names='gender', values='interest', title='Gender Vs Interest',color_discrete_sequence=px.colors.sequential.Blues_r,hole=.3)"
      ],
      "metadata": {
        "colab": {
          "base_uri": "https://localhost:8080/",
          "height": 542
        },
        "id": "dHotfNhmiIkf",
        "outputId": "7a4b18fb-8a7d-4023-e10b-7b192f3be1f8"
      },
      "execution_count": null,
      "outputs": [
        {
          "output_type": "display_data",
          "data": {
            "text/html": [
              "<html>\n",
              "<head><meta charset=\"utf-8\" /></head>\n",
              "<body>\n",
              "    <div>\n",
              "            <script src=\"https://cdnjs.cloudflare.com/ajax/libs/mathjax/2.7.5/MathJax.js?config=TeX-AMS-MML_SVG\"></script><script type=\"text/javascript\">if (window.MathJax) {MathJax.Hub.Config({SVG: {font: \"STIX-Web\"}});}</script>\n",
              "                <script type=\"text/javascript\">window.PlotlyConfig = {MathJaxConfig: 'local'};</script>\n",
              "        <script src=\"https://cdn.plot.ly/plotly-latest.min.js\"></script>    \n",
              "            <div id=\"357fe0d4-1288-4507-84b3-0bc1a68f85f5\" class=\"plotly-graph-div\" style=\"height:525px; width:100%;\"></div>\n",
              "            <script type=\"text/javascript\">\n",
              "                \n",
              "                    window.PLOTLYENV=window.PLOTLYENV || {};\n",
              "                    \n",
              "                if (document.getElementById(\"357fe0d4-1288-4507-84b3-0bc1a68f85f5\")) {\n",
              "                    Plotly.newPlot(\n",
              "                        '357fe0d4-1288-4507-84b3-0bc1a68f85f5',\n",
              "                        [{\"domain\": {\"x\": [0.0, 1.0], \"y\": [0.0, 1.0]}, \"hole\": 0.3, \"hoverlabel\": {\"namelength\": 0}, \"hovertemplate\": \"gender=%{label}<br>interest=%{value}\", \"labels\": [\"M\", \"M\", \"M\", \"M\", \"M\", \"M\", \"M\", \"M\", \"M\", \"M\", \"M\", \"M\", \"M\", \"M\", \"M\", \"M\", \"M\", \"M\", \"M\", \"M\", \"M\", \"M\", \"M\", \"M\", \"M\", \"M\", \"M\", \"M\", \"M\", \"M\", \"M\", \"M\", \"M\", \"M\", \"M\", \"F\", \"F\", \"F\", \"F\", \"F\", \"F\", \"F\", \"F\", \"F\", \"F\", \"F\", \"F\", \"F\", \"F\", \"F\", \"F\", \"F\", \"F\", \"F\", \"M\", \"M\", \"M\", \"M\", \"M\", \"M\", \"M\", \"M\", \"M\", \"M\", \"M\", \"M\", \"M\", \"M\", \"M\", \"M\", \"M\", \"M\", \"M\", \"M\", \"M\", \"M\", \"M\", \"F\", \"F\", \"F\", \"F\", \"F\", \"F\", \"F\", \"F\", \"F\", \"F\", \"F\", \"F\", \"F\", \"F\", \"F\", \"F\", \"F\", \"F\", \"F\", \"F\", \"F\", \"F\", \"F\", \"F\", \"F\", \"F\", \"F\", \"F\", \"F\", \"F\", \"F\", \"F\", \"F\", \"F\", \"F\", \"M\", \"M\", \"M\", \"M\", \"M\", \"M\", \"M\", \"M\", \"M\", \"M\", \"M\", \"M\", \"M\", \"M\", \"M\", \"M\", \"M\", \"F\", \"F\", \"F\", \"F\", \"F\", \"F\", \"F\", \"F\", \"F\", \"F\", \"F\", \"F\", \"F\", \"F\", \"F\", \"F\", \"F\", \"F\", \"F\", \"F\", \"F\", \"F\", \"F\", \"M\", \"M\", \"M\", \"M\", \"M\", \"M\", \"M\", \"M\", \"M\", \"M\", \"M\", \"M\", \"M\", \"M\", \"M\", \"M\", \"M\", \"M\", \"M\", \"M\", \"F\", \"F\", \"F\", \"F\", \"F\", \"F\", \"F\", \"F\", \"F\", \"F\", \"F\", \"F\", \"F\", \"F\", \"F\", \"F\", \"F\", \"F\", \"F\", \"F\", \"F\", \"F\", \"F\", \"F\", \"F\", \"F\", \"F\", \"F\", \"F\", \"F\", \"F\", \"F\", \"F\", \"F\", \"F\", \"F\", \"F\", \"F\", \"F\", \"F\", \"F\", \"F\", \"F\", \"F\", \"M\", \"F\", \"F\", \"M\", \"M\", \"M\", \"M\", \"F\", \"M\", \"F\", \"F\", \"F\", \"F\", \"F\", \"F\", \"F\", \"F\", \"F\", \"F\", \"F\", \"M\", \"M\", \"M\", \"M\", \"M\", \"M\", \"M\", \"M\", \"M\", \"M\", \"M\", \"M\", \"M\", \"M\", \"M\", \"M\", \"M\", \"M\", \"M\", \"M\", \"M\", \"M\", \"M\", \"M\", \"M\", \"M\", \"M\", \"M\", \"M\", \"M\", \"M\", \"M\", \"M\", \"M\", \"M\", \"M\", \"M\", \"M\", \"M\", \"M\", \"F\", \"M\", \"M\", \"M\", \"M\", \"M\", \"M\", \"M\", \"M\", \"M\", \"M\", \"M\", \"M\", \"M\", \"M\", \"M\", \"M\", \"M\", \"M\", \"M\", \"M\", \"M\", \"M\", \"M\", \"M\", \"M\", \"M\", \"M\", \"M\", \"M\", \"F\", \"F\", \"F\", \"F\", \"F\", \"M\", \"M\", \"F\", \"M\", \"M\", \"M\", \"F\", \"M\", \"M\", \"M\", \"M\", \"F\", \"M\", \"F\", \"M\", \"M\", \"F\", \"M\", \"F\", \"F\", \"M\", \"M\", \"F\", \"F\", \"F\", \"F\", \"F\", \"F\", \"F\", \"F\", \"F\", \"F\", \"F\", \"M\", \"M\", \"F\", \"F\", \"F\", \"M\", \"M\", \"F\", \"F\", \"F\", \"F\", \"F\", \"F\", \"F\", \"F\", \"F\", \"F\", \"F\", \"F\", \"F\", \"F\", \"F\", \"F\", \"F\", \"F\", \"F\", \"F\", \"F\", \"F\", \"F\", \"F\", \"F\", \"F\", \"F\", \"F\", \"F\", \"F\", \"F\", \"F\", \"F\", \"F\", \"F\", \"F\", \"F\", \"F\", \"M\", \"M\", \"M\", \"F\", \"F\", \"F\", \"M\", \"F\", \"F\", \"M\", \"M\", \"F\", \"M\", \"M\", \"F\", \"M\", \"M\", \"F\", \"F\", \"F\", \"F\", \"F\", \"F\", \"M\", \"M\", \"F\", \"F\", \"F\", \"F\", \"F\", \"F\", \"F\", \"M\", \"F\", \"M\", \"F\", \"F\", \"F\", \"F\", \"F\", \"F\", \"M\", \"M\", \"M\", \"M\", \"M\", \"M\", \"M\", \"M\", \"M\", \"M\", \"M\", \"M\", \"M\", \"M\", \"M\", \"M\", \"M\", \"M\", \"M\", \"M\", \"M\", \"M\", \"M\", \"M\", \"M\", \"M\", \"M\", \"M\", \"M\", \"M\", \"M\", \"M\", \"M\", \"M\", \"M\", \"M\", \"M\", \"F\", \"F\", \"F\", \"F\", \"F\", \"F\", \"M\", \"M\", \"M\", \"F\", \"F\", \"F\", \"F\", \"F\", \"F\", \"F\", \"F\", \"F\", \"F\", \"F\", \"F\", \"F\", \"F\", \"F\", \"F\", \"F\", \"F\", \"F\", \"F\", \"F\", \"F\", \"F\", \"F\", \"F\", \"F\", \"F\", \"F\", \"F\", \"F\", \"F\", \"F\", \"F\", \"F\", \"F\", \"F\", \"F\", \"F\", \"F\", \"F\", \"F\", \"F\", \"M\", \"M\", \"M\", \"M\", \"M\", \"M\", \"M\", \"M\", \"M\", \"M\", \"M\", \"M\", \"M\", \"M\", \"M\", \"M\", \"M\", \"M\", \"M\", \"M\", \"M\", \"M\", \"M\", \"M\", \"M\", \"M\", \"M\", \"M\", \"M\", \"M\", \"M\", \"M\", \"M\", \"M\", \"M\", \"M\", \"M\", \"M\", \"M\", \"M\", \"M\", \"M\", \"M\", \"M\", \"M\", \"M\", \"M\", \"M\", \"M\", \"M\", \"M\", \"M\", \"M\", \"M\", \"M\", \"M\", \"M\", \"M\", \"M\", \"M\", \"M\", \"M\", \"M\", \"M\", \"M\", \"M\", \"M\", \"M\", \"M\", \"M\", \"M\", \"M\", \"M\", \"M\", \"M\", \"M\", \"M\", \"M\", \"M\", \"M\", \"M\", \"M\", \"M\", \"M\", \"M\", \"M\", \"M\", \"M\", \"M\", \"M\", \"M\", \"M\", \"M\", \"M\", \"M\", \"M\", \"M\", \"M\", \"M\", \"M\", \"M\", \"M\", \"M\", \"M\", \"M\", \"M\", \"M\", \"M\", \"M\", \"M\", \"M\", \"M\", \"M\", \"M\", \"M\", \"M\", \"M\", \"M\", \"M\", \"M\", \"M\", \"M\", \"M\", \"M\", \"M\", \"M\", \"M\", \"M\", \"M\", \"M\", \"M\", \"M\", \"M\", \"M\", \"M\", \"M\", \"M\", \"M\", \"M\", \"M\", \"M\", \"M\", \"M\", \"M\", \"M\", \"M\", \"M\", \"M\", \"M\", \"M\", \"M\", \"M\", \"M\", \"M\", \"M\", \"M\", \"M\", \"M\", \"M\", \"M\", \"M\", \"M\", \"M\", \"M\", \"M\", \"M\", \"M\", \"M\", \"M\", \"M\", \"M\", \"M\", \"M\", \"M\", \"M\", \"M\", \"M\", \"M\", \"M\", \"M\", \"M\", \"M\", \"M\", \"M\", \"M\", \"M\", \"M\", \"M\", \"M\", \"M\", \"M\", \"M\", \"M\", \"M\", \"M\", \"M\", \"M\", \"M\", \"M\", \"M\", \"M\", \"M\", \"M\", \"M\", \"M\", \"M\", \"M\", \"M\", \"M\", \"M\", \"M\", \"M\", \"M\", \"M\", \"M\", \"M\", \"M\", \"M\", \"M\", \"M\", \"M\", \"M\", \"M\", \"M\", \"M\", \"M\", \"M\", \"M\", \"M\", \"M\", \"M\", \"M\", \"M\", \"M\", \"M\", \"M\", \"M\", \"M\", \"M\", \"M\", \"M\", \"M\", \"M\", \"M\", \"M\", \"M\", \"M\", \"M\", \"M\", \"M\", \"M\", \"M\", \"M\", \"M\", \"M\", \"M\", \"M\", \"M\", \"M\", \"M\", \"M\", \"M\", \"M\", \"M\", \"M\", \"M\", \"M\", \"M\", \"M\", \"M\", \"M\", \"M\", \"M\", \"M\", \"M\", \"M\", \"M\", \"M\", \"M\", \"M\", \"M\", \"M\", \"M\", \"M\", \"M\", \"M\", \"M\", \"M\", \"M\", \"M\", \"M\", \"M\", \"M\", \"M\", \"M\", \"M\", \"M\", \"M\", \"M\", \"M\", \"M\", \"M\", \"M\", \"M\", \"M\", \"M\", \"F\", \"F\", \"F\", \"F\", \"F\", \"F\", \"F\", \"F\", \"F\", \"F\", \"F\", \"F\", \"F\", \"F\", \"F\", \"F\", \"F\", \"F\", \"F\", \"F\", \"F\", \"F\", \"F\", \"F\", \"F\", \"F\", \"F\", \"F\", \"F\", \"F\", \"F\", \"F\", \"F\", \"F\", \"F\", \"F\", \"F\", \"F\", \"F\", \"F\", \"F\", \"F\", \"F\", \"F\", \"F\", \"F\", \"F\", \"F\", \"F\", \"F\", \"F\", \"F\", \"F\", \"F\", \"F\", \"F\", \"F\", \"F\", \"F\", \"F\", \"F\", \"F\", \"F\", \"F\", \"F\", \"F\", \"F\", \"F\", \"F\", \"F\", \"F\", \"F\", \"F\", \"F\", \"F\", \"F\", \"F\", \"F\", \"F\", \"F\", \"F\", \"F\", \"F\", \"F\", \"F\", \"F\", \"F\", \"F\", \"F\", \"F\", \"F\", \"F\", \"F\", \"F\", \"F\", \"F\", \"F\", \"F\", \"F\", \"F\", \"F\", \"F\", \"F\", \"F\", \"F\", \"F\", \"F\", \"F\", \"F\", \"F\", \"F\", \"F\", \"F\", \"F\", \"F\", \"F\", \"F\", \"F\", \"F\", \"F\", \"F\", \"F\", \"F\", \"F\", \"F\", \"F\", \"F\", \"F\", \"F\", \"F\", \"F\", \"F\", \"F\", \"F\", \"F\", \"F\", \"F\", \"F\", \"F\", \"F\", \"F\", \"F\", \"F\", \"F\", \"F\", \"F\", \"F\", \"F\", \"F\", \"F\", \"F\", \"F\", \"F\", \"F\", \"F\", \"F\", \"F\", \"F\", \"F\", \"F\", \"F\", \"F\", \"F\", \"F\", \"F\", \"F\", \"F\", \"F\", \"F\", \"F\", \"F\", \"F\", \"F\", \"F\", \"F\", \"F\", \"F\", \"F\", \"F\", \"F\", \"F\", \"F\", \"F\", \"F\", \"F\", \"F\", \"F\", \"F\", \"F\", \"F\", \"F\", \"F\", \"F\", \"F\", \"F\", \"F\", \"F\", \"F\", \"F\", \"F\", \"F\", \"F\", \"F\", \"F\", \"F\", \"F\", \"F\", \"F\", \"F\", \"F\", \"F\", \"F\", \"F\", \"F\", \"F\", \"F\", \"F\", \"F\", \"F\", \"F\", \"F\", \"F\", \"F\", \"F\", \"M\", \"M\", \"M\", \"M\", \"M\", \"M\", \"M\", \"M\", \"M\", \"M\", \"M\", \"M\", \"M\", \"M\", \"M\", \"M\", \"M\", \"M\", \"M\", \"M\", \"M\", \"M\", \"M\", \"M\", \"M\", \"M\", \"M\", \"M\", \"M\", \"M\", \"M\", \"M\", \"M\", \"M\", \"M\", \"M\", \"M\", \"M\", \"M\", \"M\", \"M\", \"M\", \"M\", \"F\", \"F\", \"F\", \"F\", \"F\", \"F\", \"F\", \"F\", \"F\", \"F\", \"F\", \"F\", \"F\", \"F\", \"F\", \"F\", \"F\", \"F\", \"F\", \"F\", \"F\", \"F\", \"F\", \"F\", \"F\", \"F\", \"F\", \"F\", \"F\", \"F\", \"F\", \"F\", \"F\", \"F\", \"F\", \"F\", \"F\", \"F\", \"F\", \"F\", \"F\", \"F\", \"F\", \"F\", \"F\", \"F\", \"F\", \"F\", \"F\", \"F\", \"F\", \"F\"], \"legendgroup\": \"\", \"name\": \"\", \"showlegend\": true, \"type\": \"pie\", \"values\": [15, 16, 20, 28, 28, 29, 15, 16, 27, 28, 31, 7, 16, 16, 20, 28, 30, 31, 15, 16, 15, 15, 16, 16, 16, 7, 29, 16, 16, 16, 15, 16, 16, 24, 21, 16, 16, 32, 15, 16, 18, 27, 15, 29, 63, 65, 25, 27, 20, 15, 10, 19, 63, 10, 10, 10, 15, 21, 25, 26, 29, 36, 36, 10, 16, 20, 23, 26, 27, 28, 29, 29, 36, 18, 19, 29, 31, 10, 16, 16, 18, 18, 26, 27, 27, 29, 31, 64, 64, 10, 16, 22, 27, 29, 32, 36, 63, 64, 7, 21, 26, 27, 28, 63, 64, 10, 15, 19, 20, 27, 27, 29, 2, 15, 16, 27, 28, 29, 29, 7, 16, 63, 10, 30, 16, 18, 18, 20, 29, 16, 20, 23, 26, 27, 32, 64, 31, 10, 16, 16, 18, 19, 21, 30, 64, 10, 16, 16, 18, 19, 24, 26, 10, 10, 15, 16, 16, 21, 64, 15, 16, 16, 22, 28, 29, 2, 16, 10, 16, 20, 21, 26, 10, 10, 15, 16, 21, 22, 26, 27, 27, 30, 63, 64, 21, 25, 26, 27, 29, 63, 16, 16, 16, 16, 15, 16, 16, 16, 16, 27, 27, 29, 31, 64, 15, 16, 16, 16, 10, 10, 10, 63, 25, 23, 21, 19, 10, 29, 28, 16, 16, 16, 16, 26, 15, 65, 65, 63, 63, 15, 16, 16, 16, 7, 10, 2, 63, 64, 29, 15, 15, 16, 16, 16, 16, 19, 16, 16, 16, 10, 10, 10, 10, 2, 23, 2, 21, 20, 10, 18, 16, 16, 36, 7, 63, 10, 36, 63, 16, 16, 63, 27, 64, 64, 64, 65, 7, 29, 24, 24, 26, 28, 19, 29, 16, 16, 7, 16, 16, 64, 19, 18, 2, 20, 31, 31, 27, 27, 26, 26, 29, 29, 29, 28, 28, 28, 29, 27, 27, 20, 20, 29, 32, 18, 31, 32, 30, 22, 29, 29, 29, 28, 64, 27, 63, 26, 26, 27, 15, 30, 64, 64, 65, 10, 15, 15, 15, 16, 16, 16, 29, 29, 28, 31, 10, 7, 32, 18, 18, 10, 16, 20, 22, 25, 23, 29, 29, 65, 64, 63, 28, 29, 29, 10, 26, 27, 24, 18, 18, 22, 22, 23, 16, 16, 21, 32, 22, 18, 10, 10, 15, 16, 63, 64, 27, 27, 29, 10, 10, 63, 16, 15, 63, 32, 32, 20, 26, 16, 20, 20, 21, 18, 18, 20, 24, 24, 18, 18, 16, 16, 16, 30, 29, 26, 63, 28, 29, 16, 10, 20, 28, 10, 27, 15, 29, 30, 26, 10, 10, 64, 10, 16, 16, 18, 20, 15, 16, 16, 16, 10, 20, 16, 64, 16, 15, 21, 21, 22, 36, 30, 32, 32, 26, 29, 65, 65, 64, 29, 28, 28, 28, 28, 27, 32, 24, 10, 36, 7, 10, 10, 16, 16, 16, 16, 16, 16, 26, 22, 18, 16, 16, 15, 10, 64, 28, 28, 10, 29, 26, 27, 25, 25, 16, 16, 16, 20, 18, 27, 10, 10, 2, 27, 10, 64, 22, 27, 26, 16, 16, 20, 20, 20, 20, 28, 10, 16, 27, 29, 10, 10, 10, 10, 10, 15, 15, 15, 15, 15, 16, 16, 16, 16, 18, 18, 18, 18, 19, 19, 19, 19, 20, 20, 20, 20, 20, 20, 21, 21, 21, 21, 21, 22, 22, 22, 22, 23, 23, 23, 24, 24, 25, 25, 25, 26, 26, 26, 26, 27, 27, 27, 27, 27, 28, 28, 28, 28, 29, 29, 29, 29, 29, 30, 30, 30, 30, 31, 31, 31, 32, 32, 32, 36, 36, 36, 36, 36, 36, 63, 63, 63, 63, 63, 64, 64, 64, 64, 65, 65, 2, 2, 2, 2, 7, 7, 7, 7, 66, 66, 66, 66, 10, 10, 10, 10, 10, 15, 15, 15, 16, 16, 16, 18, 18, 18, 18, 19, 19, 20, 20, 20, 21, 21, 22, 22, 22, 22, 23, 23, 23, 23, 23, 24, 24, 24, 25, 25, 25, 26, 26, 27, 27, 27, 28, 28, 28, 28, 28, 29, 29, 29, 29, 29, 30, 30, 30, 31, 32, 32, 32, 36, 36, 63, 63, 64, 64, 64, 64, 64, 65, 65, 2, 2, 2, 2, 7, 7, 7, 66, 66, 10, 10, 10, 10, 10, 15, 16, 16, 16, 16, 16, 16, 19, 19, 19, 20, 20, 20, 20, 20, 21, 22, 22, 22, 22, 23, 23, 24, 24, 25, 26, 27, 27, 29, 29, 29, 29, 29, 29, 30, 30, 31, 32, 32, 32, 36, 36, 63, 63, 64, 64, 65, 2, 2, 2, 7, 66, 66, 10, 10, 10, 10, 10, 15, 15, 15, 16, 16, 16, 16, 16, 18, 18, 18, 19, 19, 19, 19, 20, 20, 20, 20, 20, 21, 21, 21, 22, 23, 23, 23, 24, 25, 25, 26, 27, 27, 27, 27, 27, 28, 28, 28, 28, 28, 29, 29, 29, 29, 29, 29, 31, 31, 31, 32, 32, 32, 32, 36, 63, 63, 63, 64, 65, 2, 66, 10, 10, 15, 15, 15, 16, 16, 16, 16, 16, 18, 18, 18, 19, 19, 19, 19, 19, 20, 20, 20, 21, 21, 21, 21, 22, 22, 23, 24, 24, 24, 24, 25, 26, 26, 27, 27, 27, 27, 28, 28, 28, 28, 29, 29, 29, 29, 30, 30, 30, 31, 31, 32, 32, 32, 32, 32, 36, 63, 63, 63, 63, 64, 64, 64, 64, 64, 65, 65, 2, 2, 2, 2, 7, 7, 7, 66, 10, 10, 10, 10, 15, 15, 16, 16, 16, 16, 16, 16, 18, 19, 19, 21, 21, 22, 22, 22, 22, 24, 24, 25, 25, 25, 26, 26, 27, 27, 28, 29, 29, 29, 30, 32, 63, 63, 63, 63, 63, 64, 64, 2, 7, 10, 10, 10, 10, 10, 15, 16, 16, 16, 16, 18, 21, 21, 21, 22, 23, 23, 25, 25, 25, 26, 26, 26, 27, 27, 28, 28, 28, 29, 29, 30, 31, 31, 31, 32, 32, 36, 63, 63, 64, 65, 65, 2, 7, 7, 66, 10, 10, 10, 10, 15, 15, 16, 16, 16, 16, 16, 18, 18, 18, 18, 19, 19, 19, 20, 20, 21, 21, 22, 22, 23, 24, 24, 25, 25, 25, 26, 26, 26, 27, 27, 27, 28, 28, 28, 28, 29, 29, 29, 29, 30, 30, 31, 31, 63, 63, 63, 64, 64, 64, 64, 65, 100, 101, 102, 103, 105, 107, 110, 111, 112, 113, 101, 102, 103, 105, 107, 108, 109, 110, 112, 113, 114, 100, 101, 104, 105, 106, 107, 108, 110, 111, 112, 113, 100, 102, 104, 105, 107, 108, 109, 110, 112, 113, 114, 101, 102, 103, 104, 105, 106, 107, 108, 109, 110, 111, 112, 100, 101, 102, 106, 107, 108, 109, 110, 111, 112, 113, 114, 100, 101, 102, 103, 104, 105, 106, 107, 108, 109, 110, 111, 112, 114, 100, 101, 102, 103, 104, 105, 106, 107, 108, 109, 110, 111, 113, 114]}],\n",
              "                        {\"legend\": {\"tracegroupgap\": 0}, \"piecolorway\": [\"rgb(8,48,107)\", \"rgb(8,81,156)\", \"rgb(33,113,181)\", \"rgb(66,146,198)\", \"rgb(107,174,214)\", \"rgb(158,202,225)\", \"rgb(198,219,239)\", \"rgb(222,235,247)\", \"rgb(247,251,255)\"], \"template\": {\"data\": {\"bar\": [{\"error_x\": {\"color\": \"#2a3f5f\"}, \"error_y\": {\"color\": \"#2a3f5f\"}, \"marker\": {\"line\": {\"color\": \"#E5ECF6\", \"width\": 0.5}}, \"type\": \"bar\"}], \"barpolar\": [{\"marker\": {\"line\": {\"color\": \"#E5ECF6\", \"width\": 0.5}}, \"type\": \"barpolar\"}], \"carpet\": [{\"aaxis\": {\"endlinecolor\": \"#2a3f5f\", \"gridcolor\": \"white\", \"linecolor\": \"white\", \"minorgridcolor\": \"white\", \"startlinecolor\": \"#2a3f5f\"}, \"baxis\": {\"endlinecolor\": \"#2a3f5f\", \"gridcolor\": \"white\", \"linecolor\": \"white\", \"minorgridcolor\": \"white\", \"startlinecolor\": \"#2a3f5f\"}, \"type\": \"carpet\"}], \"choropleth\": [{\"colorbar\": {\"outlinewidth\": 0, \"ticks\": \"\"}, \"type\": \"choropleth\"}], \"contour\": [{\"colorbar\": {\"outlinewidth\": 0, \"ticks\": \"\"}, \"colorscale\": [[0.0, \"#0d0887\"], [0.1111111111111111, \"#46039f\"], [0.2222222222222222, \"#7201a8\"], [0.3333333333333333, \"#9c179e\"], [0.4444444444444444, \"#bd3786\"], [0.5555555555555556, \"#d8576b\"], [0.6666666666666666, \"#ed7953\"], [0.7777777777777778, \"#fb9f3a\"], [0.8888888888888888, \"#fdca26\"], [1.0, \"#f0f921\"]], \"type\": \"contour\"}], \"contourcarpet\": [{\"colorbar\": {\"outlinewidth\": 0, \"ticks\": \"\"}, \"type\": \"contourcarpet\"}], \"heatmap\": [{\"colorbar\": {\"outlinewidth\": 0, \"ticks\": \"\"}, \"colorscale\": [[0.0, \"#0d0887\"], [0.1111111111111111, \"#46039f\"], [0.2222222222222222, \"#7201a8\"], [0.3333333333333333, \"#9c179e\"], [0.4444444444444444, \"#bd3786\"], [0.5555555555555556, \"#d8576b\"], [0.6666666666666666, \"#ed7953\"], [0.7777777777777778, \"#fb9f3a\"], [0.8888888888888888, \"#fdca26\"], [1.0, \"#f0f921\"]], \"type\": \"heatmap\"}], \"heatmapgl\": [{\"colorbar\": {\"outlinewidth\": 0, \"ticks\": \"\"}, \"colorscale\": [[0.0, \"#0d0887\"], [0.1111111111111111, \"#46039f\"], [0.2222222222222222, \"#7201a8\"], [0.3333333333333333, \"#9c179e\"], [0.4444444444444444, \"#bd3786\"], [0.5555555555555556, \"#d8576b\"], [0.6666666666666666, \"#ed7953\"], [0.7777777777777778, \"#fb9f3a\"], [0.8888888888888888, \"#fdca26\"], [1.0, \"#f0f921\"]], \"type\": \"heatmapgl\"}], \"histogram\": [{\"marker\": {\"colorbar\": {\"outlinewidth\": 0, \"ticks\": \"\"}}, \"type\": \"histogram\"}], \"histogram2d\": [{\"colorbar\": {\"outlinewidth\": 0, \"ticks\": \"\"}, \"colorscale\": [[0.0, \"#0d0887\"], [0.1111111111111111, \"#46039f\"], [0.2222222222222222, \"#7201a8\"], [0.3333333333333333, \"#9c179e\"], [0.4444444444444444, \"#bd3786\"], [0.5555555555555556, \"#d8576b\"], [0.6666666666666666, \"#ed7953\"], [0.7777777777777778, \"#fb9f3a\"], [0.8888888888888888, \"#fdca26\"], [1.0, \"#f0f921\"]], \"type\": \"histogram2d\"}], \"histogram2dcontour\": [{\"colorbar\": {\"outlinewidth\": 0, \"ticks\": \"\"}, \"colorscale\": [[0.0, \"#0d0887\"], [0.1111111111111111, \"#46039f\"], [0.2222222222222222, \"#7201a8\"], [0.3333333333333333, \"#9c179e\"], [0.4444444444444444, \"#bd3786\"], [0.5555555555555556, \"#d8576b\"], [0.6666666666666666, \"#ed7953\"], [0.7777777777777778, \"#fb9f3a\"], [0.8888888888888888, \"#fdca26\"], [1.0, \"#f0f921\"]], \"type\": \"histogram2dcontour\"}], \"mesh3d\": [{\"colorbar\": {\"outlinewidth\": 0, \"ticks\": \"\"}, \"type\": \"mesh3d\"}], \"parcoords\": [{\"line\": {\"colorbar\": {\"outlinewidth\": 0, \"ticks\": \"\"}}, \"type\": \"parcoords\"}], \"pie\": [{\"automargin\": true, \"type\": \"pie\"}], \"scatter\": [{\"marker\": {\"colorbar\": {\"outlinewidth\": 0, \"ticks\": \"\"}}, \"type\": \"scatter\"}], \"scatter3d\": [{\"line\": {\"colorbar\": {\"outlinewidth\": 0, \"ticks\": \"\"}}, \"marker\": {\"colorbar\": {\"outlinewidth\": 0, \"ticks\": \"\"}}, \"type\": \"scatter3d\"}], \"scattercarpet\": [{\"marker\": {\"colorbar\": {\"outlinewidth\": 0, \"ticks\": \"\"}}, \"type\": \"scattercarpet\"}], \"scattergeo\": [{\"marker\": {\"colorbar\": {\"outlinewidth\": 0, \"ticks\": \"\"}}, \"type\": \"scattergeo\"}], \"scattergl\": [{\"marker\": {\"colorbar\": {\"outlinewidth\": 0, \"ticks\": \"\"}}, \"type\": \"scattergl\"}], \"scattermapbox\": [{\"marker\": {\"colorbar\": {\"outlinewidth\": 0, \"ticks\": \"\"}}, \"type\": \"scattermapbox\"}], \"scatterpolar\": [{\"marker\": {\"colorbar\": {\"outlinewidth\": 0, \"ticks\": \"\"}}, \"type\": \"scatterpolar\"}], \"scatterpolargl\": [{\"marker\": {\"colorbar\": {\"outlinewidth\": 0, \"ticks\": \"\"}}, \"type\": \"scatterpolargl\"}], \"scatterternary\": [{\"marker\": {\"colorbar\": {\"outlinewidth\": 0, \"ticks\": \"\"}}, \"type\": \"scatterternary\"}], \"surface\": [{\"colorbar\": {\"outlinewidth\": 0, \"ticks\": \"\"}, \"colorscale\": [[0.0, \"#0d0887\"], [0.1111111111111111, \"#46039f\"], [0.2222222222222222, \"#7201a8\"], [0.3333333333333333, \"#9c179e\"], [0.4444444444444444, \"#bd3786\"], [0.5555555555555556, \"#d8576b\"], [0.6666666666666666, \"#ed7953\"], [0.7777777777777778, \"#fb9f3a\"], [0.8888888888888888, \"#fdca26\"], [1.0, \"#f0f921\"]], \"type\": \"surface\"}], \"table\": [{\"cells\": {\"fill\": {\"color\": \"#EBF0F8\"}, \"line\": {\"color\": \"white\"}}, \"header\": {\"fill\": {\"color\": \"#C8D4E3\"}, \"line\": {\"color\": \"white\"}}, \"type\": \"table\"}]}, \"layout\": {\"annotationdefaults\": {\"arrowcolor\": \"#2a3f5f\", \"arrowhead\": 0, \"arrowwidth\": 1}, \"coloraxis\": {\"colorbar\": {\"outlinewidth\": 0, \"ticks\": \"\"}}, \"colorscale\": {\"diverging\": [[0, \"#8e0152\"], [0.1, \"#c51b7d\"], [0.2, \"#de77ae\"], [0.3, \"#f1b6da\"], [0.4, \"#fde0ef\"], [0.5, \"#f7f7f7\"], [0.6, \"#e6f5d0\"], [0.7, \"#b8e186\"], [0.8, \"#7fbc41\"], [0.9, \"#4d9221\"], [1, \"#276419\"]], \"sequential\": [[0.0, \"#0d0887\"], [0.1111111111111111, \"#46039f\"], [0.2222222222222222, \"#7201a8\"], [0.3333333333333333, \"#9c179e\"], [0.4444444444444444, \"#bd3786\"], [0.5555555555555556, \"#d8576b\"], [0.6666666666666666, \"#ed7953\"], [0.7777777777777778, \"#fb9f3a\"], [0.8888888888888888, \"#fdca26\"], [1.0, \"#f0f921\"]], \"sequentialminus\": [[0.0, \"#0d0887\"], [0.1111111111111111, \"#46039f\"], [0.2222222222222222, \"#7201a8\"], [0.3333333333333333, \"#9c179e\"], [0.4444444444444444, \"#bd3786\"], [0.5555555555555556, \"#d8576b\"], [0.6666666666666666, \"#ed7953\"], [0.7777777777777778, \"#fb9f3a\"], [0.8888888888888888, \"#fdca26\"], [1.0, \"#f0f921\"]]}, \"colorway\": [\"#636efa\", \"#EF553B\", \"#00cc96\", \"#ab63fa\", \"#FFA15A\", \"#19d3f3\", \"#FF6692\", \"#B6E880\", \"#FF97FF\", \"#FECB52\"], \"font\": {\"color\": \"#2a3f5f\"}, \"geo\": {\"bgcolor\": \"white\", \"lakecolor\": \"white\", \"landcolor\": \"#E5ECF6\", \"showlakes\": true, \"showland\": true, \"subunitcolor\": \"white\"}, \"hoverlabel\": {\"align\": \"left\"}, \"hovermode\": \"closest\", \"mapbox\": {\"style\": \"light\"}, \"paper_bgcolor\": \"white\", \"plot_bgcolor\": \"#E5ECF6\", \"polar\": {\"angularaxis\": {\"gridcolor\": \"white\", \"linecolor\": \"white\", \"ticks\": \"\"}, \"bgcolor\": \"#E5ECF6\", \"radialaxis\": {\"gridcolor\": \"white\", \"linecolor\": \"white\", \"ticks\": \"\"}}, \"scene\": {\"xaxis\": {\"backgroundcolor\": \"#E5ECF6\", \"gridcolor\": \"white\", \"gridwidth\": 2, \"linecolor\": \"white\", \"showbackground\": true, \"ticks\": \"\", \"zerolinecolor\": \"white\"}, \"yaxis\": {\"backgroundcolor\": \"#E5ECF6\", \"gridcolor\": \"white\", \"gridwidth\": 2, \"linecolor\": \"white\", \"showbackground\": true, \"ticks\": \"\", \"zerolinecolor\": \"white\"}, \"zaxis\": {\"backgroundcolor\": \"#E5ECF6\", \"gridcolor\": \"white\", \"gridwidth\": 2, \"linecolor\": \"white\", \"showbackground\": true, \"ticks\": \"\", \"zerolinecolor\": \"white\"}}, \"shapedefaults\": {\"line\": {\"color\": \"#2a3f5f\"}}, \"ternary\": {\"aaxis\": {\"gridcolor\": \"white\", \"linecolor\": \"white\", \"ticks\": \"\"}, \"baxis\": {\"gridcolor\": \"white\", \"linecolor\": \"white\", \"ticks\": \"\"}, \"bgcolor\": \"#E5ECF6\", \"caxis\": {\"gridcolor\": \"white\", \"linecolor\": \"white\", \"ticks\": \"\"}}, \"title\": {\"x\": 0.05}, \"xaxis\": {\"automargin\": true, \"gridcolor\": \"white\", \"linecolor\": \"white\", \"ticks\": \"\", \"title\": {\"standoff\": 15}, \"zerolinecolor\": \"white\", \"zerolinewidth\": 2}, \"yaxis\": {\"automargin\": true, \"gridcolor\": \"white\", \"linecolor\": \"white\", \"ticks\": \"\", \"title\": {\"standoff\": 15}, \"zerolinecolor\": \"white\", \"zerolinewidth\": 2}}}, \"title\": {\"text\": \"Gender Vs Interest\"}},\n",
              "                        {\"responsive\": true}\n",
              "                    ).then(function(){\n",
              "                            \n",
              "var gd = document.getElementById('357fe0d4-1288-4507-84b3-0bc1a68f85f5');\n",
              "var x = new MutationObserver(function (mutations, observer) {{\n",
              "        var display = window.getComputedStyle(gd).display;\n",
              "        if (!display || display === 'none') {{\n",
              "            console.log([gd, 'removed!']);\n",
              "            Plotly.purge(gd);\n",
              "            observer.disconnect();\n",
              "        }}\n",
              "}});\n",
              "\n",
              "// Listen for the removal of the full notebook cells\n",
              "var notebookContainer = gd.closest('#notebook-container');\n",
              "if (notebookContainer) {{\n",
              "    x.observe(notebookContainer, {childList: true});\n",
              "}}\n",
              "\n",
              "// Listen for the clearing of the current output cell\n",
              "var outputEl = gd.closest('.output');\n",
              "if (outputEl) {{\n",
              "    x.observe(outputEl, {childList: true});\n",
              "}}\n",
              "\n",
              "                        })\n",
              "                };\n",
              "                \n",
              "            </script>\n",
              "        </div>\n",
              "</body>\n",
              "</html>"
            ]
          },
          "metadata": {}
        }
      ]
    },
    {
      "cell_type": "code",
      "source": [
        "# Campaign-wise distribution of interest\n",
        "px.violin(dataset, x='xyz_campaign_id',y='interest',title='Count of interest per Campaign',color_discrete_sequence=px.colors.sequential.Blues_r)"
      ],
      "metadata": {
        "colab": {
          "base_uri": "https://localhost:8080/",
          "height": 542
        },
        "id": "M8YgnKAviE1K",
        "outputId": "cb79877e-51ae-4df1-e707-1796df68897b"
      },
      "execution_count": null,
      "outputs": [
        {
          "output_type": "display_data",
          "data": {
            "text/html": [
              "<html>\n",
              "<head><meta charset=\"utf-8\" /></head>\n",
              "<body>\n",
              "    <div>\n",
              "            <script src=\"https://cdnjs.cloudflare.com/ajax/libs/mathjax/2.7.5/MathJax.js?config=TeX-AMS-MML_SVG\"></script><script type=\"text/javascript\">if (window.MathJax) {MathJax.Hub.Config({SVG: {font: \"STIX-Web\"}});}</script>\n",
              "                <script type=\"text/javascript\">window.PlotlyConfig = {MathJaxConfig: 'local'};</script>\n",
              "        <script src=\"https://cdn.plot.ly/plotly-latest.min.js\"></script>    \n",
              "            <div id=\"5c23f26b-ab96-4b7b-be58-f448e9b28dff\" class=\"plotly-graph-div\" style=\"height:525px; width:100%;\"></div>\n",
              "            <script type=\"text/javascript\">\n",
              "                \n",
              "                    window.PLOTLYENV=window.PLOTLYENV || {};\n",
              "                    \n",
              "                if (document.getElementById(\"5c23f26b-ab96-4b7b-be58-f448e9b28dff\")) {\n",
              "                    Plotly.newPlot(\n",
              "                        '5c23f26b-ab96-4b7b-be58-f448e9b28dff',\n",
              "                        [{\"alignmentgroup\": \"True\", \"box\": {\"visible\": false}, \"hoverlabel\": {\"namelength\": 0}, \"hovertemplate\": \"xyz_campaign_id=%{x}<br>interest=%{y}\", \"legendgroup\": \"\", \"marker\": {\"color\": \"rgb(8,48,107)\"}, \"name\": \"\", \"offsetgroup\": \"\", \"orientation\": \"v\", \"scalegroup\": \"True\", \"showlegend\": false, \"type\": \"violin\", \"x\": [\"Campaign_916\", \"Campaign_916\", \"Campaign_916\", \"Campaign_916\", \"Campaign_916\", \"Campaign_916\", \"Campaign_916\", \"Campaign_916\", \"Campaign_916\", \"Campaign_916\", \"Campaign_916\", \"Campaign_916\", \"Campaign_916\", \"Campaign_916\", \"Campaign_916\", \"Campaign_916\", \"Campaign_916\", \"Campaign_916\", \"Campaign_916\", \"Campaign_916\", \"Campaign_916\", \"Campaign_916\", \"Campaign_916\", \"Campaign_916\", \"Campaign_916\", \"Campaign_916\", \"Campaign_916\", \"Campaign_916\", \"Campaign_916\", \"Campaign_916\", \"Campaign_916\", \"Campaign_916\", \"Campaign_916\", \"Campaign_916\", \"Campaign_916\", \"Campaign_916\", \"Campaign_916\", \"Campaign_916\", \"Campaign_916\", \"Campaign_916\", \"Campaign_916\", \"Campaign_916\", \"Campaign_916\", \"Campaign_916\", \"Campaign_916\", \"Campaign_916\", \"Campaign_916\", \"Campaign_916\", \"Campaign_916\", \"Campaign_916\", \"Campaign_916\", \"Campaign_916\", \"Campaign_916\", \"Campaign_916\", \"Campaign_936\", \"Campaign_936\", \"Campaign_936\", \"Campaign_936\", \"Campaign_936\", \"Campaign_936\", \"Campaign_936\", \"Campaign_936\", \"Campaign_936\", \"Campaign_936\", \"Campaign_936\", \"Campaign_936\", \"Campaign_936\", \"Campaign_936\", \"Campaign_936\", \"Campaign_936\", \"Campaign_936\", \"Campaign_936\", \"Campaign_936\", \"Campaign_936\", \"Campaign_936\", \"Campaign_936\", \"Campaign_936\", \"Campaign_936\", \"Campaign_936\", \"Campaign_936\", \"Campaign_936\", \"Campaign_936\", \"Campaign_936\", \"Campaign_936\", \"Campaign_936\", \"Campaign_936\", \"Campaign_936\", \"Campaign_936\", \"Campaign_936\", \"Campaign_936\", \"Campaign_936\", \"Campaign_936\", \"Campaign_936\", \"Campaign_936\", \"Campaign_936\", \"Campaign_936\", \"Campaign_936\", \"Campaign_936\", \"Campaign_936\", \"Campaign_936\", \"Campaign_936\", \"Campaign_936\", \"Campaign_936\", \"Campaign_936\", \"Campaign_936\", \"Campaign_936\", \"Campaign_936\", \"Campaign_936\", \"Campaign_936\", \"Campaign_936\", \"Campaign_936\", \"Campaign_936\", \"Campaign_936\", \"Campaign_936\", \"Campaign_936\", \"Campaign_936\", \"Campaign_936\", \"Campaign_936\", \"Campaign_936\", \"Campaign_936\", \"Campaign_936\", \"Campaign_936\", \"Campaign_936\", \"Campaign_936\", \"Campaign_936\", \"Campaign_936\", \"Campaign_936\", \"Campaign_936\", \"Campaign_936\", \"Campaign_936\", \"Campaign_936\", \"Campaign_936\", \"Campaign_936\", \"Campaign_936\", \"Campaign_936\", \"Campaign_936\", \"Campaign_936\", \"Campaign_936\", \"Campaign_936\", \"Campaign_936\", \"Campaign_936\", \"Campaign_936\", \"Campaign_936\", \"Campaign_936\", \"Campaign_936\", \"Campaign_936\", \"Campaign_936\", \"Campaign_936\", \"Campaign_936\", \"Campaign_936\", \"Campaign_936\", \"Campaign_936\", \"Campaign_936\", \"Campaign_936\", \"Campaign_936\", \"Campaign_936\", \"Campaign_936\", \"Campaign_936\", \"Campaign_936\", \"Campaign_936\", \"Campaign_936\", \"Campaign_936\", \"Campaign_936\", \"Campaign_936\", \"Campaign_936\", \"Campaign_936\", \"Campaign_936\", \"Campaign_936\", \"Campaign_936\", \"Campaign_936\", \"Campaign_936\", \"Campaign_936\", \"Campaign_936\", \"Campaign_936\", \"Campaign_936\", \"Campaign_936\", \"Campaign_936\", \"Campaign_936\", \"Campaign_936\", \"Campaign_936\", \"Campaign_936\", \"Campaign_936\", \"Campaign_936\", \"Campaign_936\", \"Campaign_936\", \"Campaign_936\", \"Campaign_936\", \"Campaign_936\", \"Campaign_936\", \"Campaign_936\", \"Campaign_936\", \"Campaign_936\", \"Campaign_936\", \"Campaign_936\", \"Campaign_936\", \"Campaign_936\", \"Campaign_936\", \"Campaign_936\", \"Campaign_936\", \"Campaign_936\", \"Campaign_936\", \"Campaign_936\", \"Campaign_936\", \"Campaign_936\", \"Campaign_936\", \"Campaign_936\", \"Campaign_936\", \"Campaign_936\", \"Campaign_936\", \"Campaign_936\", \"Campaign_936\", \"Campaign_936\", \"Campaign_936\", \"Campaign_936\", \"Campaign_936\", \"Campaign_936\", \"Campaign_936\", \"Campaign_936\", \"Campaign_936\", \"Campaign_936\", \"Campaign_936\", \"Campaign_936\", \"Campaign_936\", \"Campaign_936\", \"Campaign_936\", \"Campaign_936\", \"Campaign_936\", \"Campaign_936\", \"Campaign_936\", \"Campaign_936\", \"Campaign_936\", \"Campaign_936\", \"Campaign_936\", \"Campaign_936\", \"Campaign_936\", \"Campaign_936\", \"Campaign_936\", \"Campaign_936\", \"Campaign_936\", \"Campaign_936\", \"Campaign_936\", \"Campaign_936\", \"Campaign_936\", \"Campaign_936\", \"Campaign_936\", \"Campaign_936\", \"Campaign_936\", \"Campaign_936\", \"Campaign_936\", \"Campaign_936\", \"Campaign_936\", \"Campaign_936\", \"Campaign_936\", \"Campaign_936\", \"Campaign_936\", \"Campaign_936\", \"Campaign_936\", \"Campaign_936\", \"Campaign_936\", \"Campaign_936\", \"Campaign_936\", \"Campaign_936\", \"Campaign_936\", \"Campaign_936\", \"Campaign_936\", \"Campaign_936\", \"Campaign_936\", \"Campaign_936\", \"Campaign_936\", \"Campaign_936\", \"Campaign_936\", \"Campaign_936\", \"Campaign_936\", \"Campaign_936\", \"Campaign_936\", \"Campaign_936\", \"Campaign_936\", \"Campaign_936\", \"Campaign_936\", \"Campaign_936\", \"Campaign_936\", \"Campaign_936\", \"Campaign_936\", \"Campaign_936\", \"Campaign_936\", \"Campaign_936\", \"Campaign_936\", \"Campaign_936\", \"Campaign_936\", \"Campaign_936\", \"Campaign_936\", \"Campaign_936\", \"Campaign_936\", \"Campaign_936\", \"Campaign_936\", \"Campaign_936\", \"Campaign_936\", \"Campaign_936\", \"Campaign_936\", \"Campaign_936\", \"Campaign_936\", \"Campaign_936\", \"Campaign_936\", \"Campaign_936\", \"Campaign_936\", \"Campaign_936\", \"Campaign_936\", \"Campaign_936\", \"Campaign_936\", \"Campaign_936\", \"Campaign_936\", \"Campaign_936\", \"Campaign_936\", \"Campaign_936\", \"Campaign_936\", \"Campaign_936\", \"Campaign_936\", \"Campaign_936\", \"Campaign_936\", \"Campaign_936\", \"Campaign_936\", \"Campaign_936\", \"Campaign_936\", \"Campaign_936\", \"Campaign_936\", \"Campaign_936\", \"Campaign_936\", \"Campaign_936\", \"Campaign_936\", \"Campaign_936\", \"Campaign_936\", \"Campaign_936\", \"Campaign_936\", \"Campaign_936\", \"Campaign_936\", \"Campaign_936\", \"Campaign_936\", \"Campaign_936\", \"Campaign_936\", \"Campaign_936\", \"Campaign_936\", \"Campaign_936\", \"Campaign_936\", \"Campaign_936\", \"Campaign_936\", \"Campaign_936\", \"Campaign_936\", \"Campaign_936\", \"Campaign_936\", \"Campaign_936\", \"Campaign_936\", \"Campaign_936\", \"Campaign_936\", \"Campaign_936\", \"Campaign_936\", \"Campaign_936\", \"Campaign_936\", \"Campaign_936\", \"Campaign_936\", \"Campaign_936\", \"Campaign_936\", \"Campaign_936\", \"Campaign_936\", \"Campaign_936\", \"Campaign_936\", \"Campaign_936\", \"Campaign_936\", \"Campaign_936\", \"Campaign_936\", \"Campaign_936\", \"Campaign_936\", \"Campaign_936\", \"Campaign_936\", \"Campaign_936\", \"Campaign_936\", \"Campaign_936\", \"Campaign_936\", \"Campaign_936\", \"Campaign_936\", \"Campaign_936\", \"Campaign_936\", \"Campaign_936\", \"Campaign_936\", \"Campaign_936\", \"Campaign_936\", \"Campaign_936\", \"Campaign_936\", \"Campaign_936\", \"Campaign_936\", \"Campaign_936\", \"Campaign_936\", \"Campaign_936\", \"Campaign_936\", \"Campaign_936\", \"Campaign_936\", \"Campaign_936\", \"Campaign_936\", \"Campaign_936\", \"Campaign_936\", \"Campaign_936\", \"Campaign_936\", \"Campaign_936\", \"Campaign_936\", \"Campaign_936\", \"Campaign_936\", \"Campaign_936\", \"Campaign_936\", \"Campaign_936\", \"Campaign_936\", \"Campaign_936\", \"Campaign_936\", \"Campaign_936\", \"Campaign_936\", \"Campaign_936\", \"Campaign_936\", \"Campaign_936\", \"Campaign_936\", \"Campaign_936\", \"Campaign_936\", \"Campaign_936\", \"Campaign_936\", \"Campaign_936\", \"Campaign_936\", \"Campaign_936\", \"Campaign_936\", \"Campaign_936\", \"Campaign_936\", \"Campaign_936\", \"Campaign_936\", \"Campaign_936\", \"Campaign_936\", \"Campaign_936\", \"Campaign_936\", \"Campaign_936\", \"Campaign_936\", \"Campaign_936\", \"Campaign_936\", \"Campaign_936\", \"Campaign_936\", \"Campaign_936\", \"Campaign_936\", \"Campaign_936\", \"Campaign_936\", \"Campaign_936\", \"Campaign_936\", \"Campaign_936\", \"Campaign_936\", \"Campaign_936\", \"Campaign_936\", \"Campaign_936\", \"Campaign_936\", \"Campaign_936\", \"Campaign_936\", \"Campaign_936\", \"Campaign_936\", \"Campaign_936\", \"Campaign_936\", \"Campaign_936\", \"Campaign_936\", \"Campaign_936\", \"Campaign_936\", \"Campaign_936\", \"Campaign_936\", \"Campaign_936\", \"Campaign_936\", \"Campaign_936\", \"Campaign_936\", \"Campaign_936\", \"Campaign_936\", \"Campaign_936\", \"Campaign_936\", \"Campaign_936\", \"Campaign_936\", \"Campaign_936\", \"Campaign_936\", \"Campaign_936\", \"Campaign_936\", \"Campaign_936\", \"Campaign_936\", \"Campaign_936\", \"Campaign_936\", \"Campaign_936\", \"Campaign_936\", \"Campaign_936\", \"Campaign_936\", \"Campaign_936\", \"Campaign_936\", \"Campaign_936\", \"Campaign_936\", \"Campaign_936\", \"Campaign_936\", \"Campaign_936\", \"Campaign_936\", \"Campaign_936\", \"Campaign_936\", \"Campaign_936\", \"Campaign_936\", \"Campaign_936\", \"Campaign_936\", \"Campaign_936\", \"Campaign_936\", \"Campaign_936\", \"Campaign_936\", \"Campaign_936\", \"Campaign_936\", \"Campaign_936\", \"Campaign_936\", \"Campaign_936\", \"Campaign_936\", \"Campaign_936\", \"Campaign_936\", \"Campaign_936\", \"Campaign_936\", \"Campaign_936\", \"Campaign_936\", \"Campaign_936\", \"Campaign_936\", \"Campaign_936\", \"Campaign_1178\", \"Campaign_1178\", \"Campaign_1178\", \"Campaign_1178\", \"Campaign_1178\", \"Campaign_1178\", \"Campaign_1178\", \"Campaign_1178\", \"Campaign_1178\", \"Campaign_1178\", \"Campaign_1178\", \"Campaign_1178\", \"Campaign_1178\", \"Campaign_1178\", \"Campaign_1178\", \"Campaign_1178\", \"Campaign_1178\", \"Campaign_1178\", \"Campaign_1178\", \"Campaign_1178\", \"Campaign_1178\", \"Campaign_1178\", \"Campaign_1178\", \"Campaign_1178\", \"Campaign_1178\", \"Campaign_1178\", \"Campaign_1178\", \"Campaign_1178\", \"Campaign_1178\", \"Campaign_1178\", \"Campaign_1178\", \"Campaign_1178\", \"Campaign_1178\", \"Campaign_1178\", \"Campaign_1178\", \"Campaign_1178\", \"Campaign_1178\", \"Campaign_1178\", \"Campaign_1178\", \"Campaign_1178\", \"Campaign_1178\", \"Campaign_1178\", \"Campaign_1178\", \"Campaign_1178\", \"Campaign_1178\", \"Campaign_1178\", \"Campaign_1178\", \"Campaign_1178\", \"Campaign_1178\", \"Campaign_1178\", \"Campaign_1178\", \"Campaign_1178\", \"Campaign_1178\", \"Campaign_1178\", \"Campaign_1178\", \"Campaign_1178\", \"Campaign_1178\", \"Campaign_1178\", \"Campaign_1178\", \"Campaign_1178\", \"Campaign_1178\", \"Campaign_1178\", \"Campaign_1178\", \"Campaign_1178\", \"Campaign_1178\", \"Campaign_1178\", \"Campaign_1178\", \"Campaign_1178\", \"Campaign_1178\", \"Campaign_1178\", \"Campaign_1178\", \"Campaign_1178\", \"Campaign_1178\", \"Campaign_1178\", \"Campaign_1178\", \"Campaign_1178\", \"Campaign_1178\", \"Campaign_1178\", \"Campaign_1178\", \"Campaign_1178\", \"Campaign_1178\", \"Campaign_1178\", \"Campaign_1178\", \"Campaign_1178\", \"Campaign_1178\", \"Campaign_1178\", \"Campaign_1178\", \"Campaign_1178\", \"Campaign_1178\", \"Campaign_1178\", \"Campaign_1178\", \"Campaign_1178\", \"Campaign_1178\", \"Campaign_1178\", \"Campaign_1178\", \"Campaign_1178\", \"Campaign_1178\", \"Campaign_1178\", \"Campaign_1178\", \"Campaign_1178\", \"Campaign_1178\", \"Campaign_1178\", \"Campaign_1178\", \"Campaign_1178\", \"Campaign_1178\", \"Campaign_1178\", \"Campaign_1178\", \"Campaign_1178\", \"Campaign_1178\", \"Campaign_1178\", \"Campaign_1178\", \"Campaign_1178\", \"Campaign_1178\", \"Campaign_1178\", \"Campaign_1178\", \"Campaign_1178\", \"Campaign_1178\", \"Campaign_1178\", \"Campaign_1178\", \"Campaign_1178\", \"Campaign_1178\", \"Campaign_1178\", \"Campaign_1178\", \"Campaign_1178\", \"Campaign_1178\", \"Campaign_1178\", \"Campaign_1178\", \"Campaign_1178\", \"Campaign_1178\", \"Campaign_1178\", \"Campaign_1178\", \"Campaign_1178\", \"Campaign_1178\", \"Campaign_1178\", \"Campaign_1178\", \"Campaign_1178\", \"Campaign_1178\", \"Campaign_1178\", \"Campaign_1178\", \"Campaign_1178\", \"Campaign_1178\", \"Campaign_1178\", \"Campaign_1178\", \"Campaign_1178\", \"Campaign_1178\", \"Campaign_1178\", \"Campaign_1178\", \"Campaign_1178\", \"Campaign_1178\", \"Campaign_1178\", \"Campaign_1178\", \"Campaign_1178\", \"Campaign_1178\", \"Campaign_1178\", \"Campaign_1178\", \"Campaign_1178\", \"Campaign_1178\", \"Campaign_1178\", \"Campaign_1178\", \"Campaign_1178\", \"Campaign_1178\", \"Campaign_1178\", \"Campaign_1178\", \"Campaign_1178\", \"Campaign_1178\", \"Campaign_1178\", \"Campaign_1178\", \"Campaign_1178\", \"Campaign_1178\", \"Campaign_1178\", \"Campaign_1178\", \"Campaign_1178\", \"Campaign_1178\", \"Campaign_1178\", \"Campaign_1178\", \"Campaign_1178\", \"Campaign_1178\", \"Campaign_1178\", \"Campaign_1178\", \"Campaign_1178\", \"Campaign_1178\", \"Campaign_1178\", \"Campaign_1178\", \"Campaign_1178\", \"Campaign_1178\", \"Campaign_1178\", \"Campaign_1178\", \"Campaign_1178\", \"Campaign_1178\", \"Campaign_1178\", \"Campaign_1178\", \"Campaign_1178\", \"Campaign_1178\", \"Campaign_1178\", \"Campaign_1178\", \"Campaign_1178\", \"Campaign_1178\", \"Campaign_1178\", \"Campaign_1178\", \"Campaign_1178\", \"Campaign_1178\", \"Campaign_1178\", \"Campaign_1178\", \"Campaign_1178\", \"Campaign_1178\", \"Campaign_1178\", \"Campaign_1178\", \"Campaign_1178\", \"Campaign_1178\", \"Campaign_1178\", \"Campaign_1178\", \"Campaign_1178\", \"Campaign_1178\", \"Campaign_1178\", \"Campaign_1178\", \"Campaign_1178\", \"Campaign_1178\", \"Campaign_1178\", \"Campaign_1178\", \"Campaign_1178\", \"Campaign_1178\", \"Campaign_1178\", \"Campaign_1178\", \"Campaign_1178\", \"Campaign_1178\", \"Campaign_1178\", \"Campaign_1178\", \"Campaign_1178\", \"Campaign_1178\", \"Campaign_1178\", \"Campaign_1178\", \"Campaign_1178\", \"Campaign_1178\", \"Campaign_1178\", \"Campaign_1178\", \"Campaign_1178\", \"Campaign_1178\", \"Campaign_1178\", \"Campaign_1178\", \"Campaign_1178\", \"Campaign_1178\", \"Campaign_1178\", \"Campaign_1178\", \"Campaign_1178\", \"Campaign_1178\", \"Campaign_1178\", \"Campaign_1178\", \"Campaign_1178\", \"Campaign_1178\", \"Campaign_1178\", \"Campaign_1178\", \"Campaign_1178\", \"Campaign_1178\", \"Campaign_1178\", \"Campaign_1178\", \"Campaign_1178\", \"Campaign_1178\", \"Campaign_1178\", \"Campaign_1178\", \"Campaign_1178\", \"Campaign_1178\", \"Campaign_1178\", \"Campaign_1178\", \"Campaign_1178\", \"Campaign_1178\", \"Campaign_1178\", \"Campaign_1178\", \"Campaign_1178\", \"Campaign_1178\", \"Campaign_1178\", \"Campaign_1178\", \"Campaign_1178\", \"Campaign_1178\", \"Campaign_1178\", \"Campaign_1178\", \"Campaign_1178\", \"Campaign_1178\", \"Campaign_1178\", \"Campaign_1178\", \"Campaign_1178\", \"Campaign_1178\", \"Campaign_1178\", \"Campaign_1178\", \"Campaign_1178\", \"Campaign_1178\", \"Campaign_1178\", \"Campaign_1178\", \"Campaign_1178\", \"Campaign_1178\", \"Campaign_1178\", \"Campaign_1178\", \"Campaign_1178\", \"Campaign_1178\", \"Campaign_1178\", \"Campaign_1178\", \"Campaign_1178\", \"Campaign_1178\", \"Campaign_1178\", \"Campaign_1178\", \"Campaign_1178\", \"Campaign_1178\", \"Campaign_1178\", \"Campaign_1178\", \"Campaign_1178\", \"Campaign_1178\", \"Campaign_1178\", \"Campaign_1178\", \"Campaign_1178\", \"Campaign_1178\", \"Campaign_1178\", \"Campaign_1178\", \"Campaign_1178\", \"Campaign_1178\", \"Campaign_1178\", \"Campaign_1178\", \"Campaign_1178\", \"Campaign_1178\", \"Campaign_1178\", \"Campaign_1178\", \"Campaign_1178\", \"Campaign_1178\", \"Campaign_1178\", \"Campaign_1178\", \"Campaign_1178\", \"Campaign_1178\", \"Campaign_1178\", \"Campaign_1178\", \"Campaign_1178\", \"Campaign_1178\", \"Campaign_1178\", \"Campaign_1178\", \"Campaign_1178\", \"Campaign_1178\", \"Campaign_1178\", \"Campaign_1178\", \"Campaign_1178\", \"Campaign_1178\", \"Campaign_1178\", \"Campaign_1178\", \"Campaign_1178\", \"Campaign_1178\", \"Campaign_1178\", \"Campaign_1178\", \"Campaign_1178\", \"Campaign_1178\", \"Campaign_1178\", \"Campaign_1178\", \"Campaign_1178\", \"Campaign_1178\", \"Campaign_1178\", \"Campaign_1178\", \"Campaign_1178\", \"Campaign_1178\", \"Campaign_1178\", \"Campaign_1178\", \"Campaign_1178\", \"Campaign_1178\", \"Campaign_1178\", \"Campaign_1178\", \"Campaign_1178\", \"Campaign_1178\", \"Campaign_1178\", \"Campaign_1178\", \"Campaign_1178\", \"Campaign_1178\", \"Campaign_1178\", \"Campaign_1178\", \"Campaign_1178\", \"Campaign_1178\", \"Campaign_1178\", \"Campaign_1178\", \"Campaign_1178\", \"Campaign_1178\", \"Campaign_1178\", \"Campaign_1178\", \"Campaign_1178\", \"Campaign_1178\", \"Campaign_1178\", \"Campaign_1178\", \"Campaign_1178\", \"Campaign_1178\", \"Campaign_1178\", \"Campaign_1178\", \"Campaign_1178\", \"Campaign_1178\", \"Campaign_1178\", \"Campaign_1178\", \"Campaign_1178\", \"Campaign_1178\", \"Campaign_1178\", \"Campaign_1178\", \"Campaign_1178\", \"Campaign_1178\", \"Campaign_1178\", \"Campaign_1178\", \"Campaign_1178\", \"Campaign_1178\", \"Campaign_1178\", \"Campaign_1178\", \"Campaign_1178\", \"Campaign_1178\", \"Campaign_1178\", \"Campaign_1178\", \"Campaign_1178\", \"Campaign_1178\", \"Campaign_1178\", \"Campaign_1178\", \"Campaign_1178\", \"Campaign_1178\", \"Campaign_1178\", \"Campaign_1178\", \"Campaign_1178\", \"Campaign_1178\", \"Campaign_1178\", \"Campaign_1178\", \"Campaign_1178\", \"Campaign_1178\", \"Campaign_1178\", \"Campaign_1178\", \"Campaign_1178\", \"Campaign_1178\", \"Campaign_1178\", \"Campaign_1178\", \"Campaign_1178\", \"Campaign_1178\", \"Campaign_1178\", \"Campaign_1178\", \"Campaign_1178\", \"Campaign_1178\", \"Campaign_1178\", \"Campaign_1178\", \"Campaign_1178\", \"Campaign_1178\", \"Campaign_1178\", \"Campaign_1178\", \"Campaign_1178\", \"Campaign_1178\", \"Campaign_1178\", \"Campaign_1178\", \"Campaign_1178\", \"Campaign_1178\", \"Campaign_1178\", \"Campaign_1178\", \"Campaign_1178\", \"Campaign_1178\", \"Campaign_1178\", \"Campaign_1178\", \"Campaign_1178\", \"Campaign_1178\", \"Campaign_1178\", \"Campaign_1178\", \"Campaign_1178\", \"Campaign_1178\", \"Campaign_1178\", \"Campaign_1178\", \"Campaign_1178\", \"Campaign_1178\", \"Campaign_1178\", \"Campaign_1178\", \"Campaign_1178\", \"Campaign_1178\", \"Campaign_1178\", \"Campaign_1178\", \"Campaign_1178\", \"Campaign_1178\", \"Campaign_1178\", \"Campaign_1178\", \"Campaign_1178\", \"Campaign_1178\", \"Campaign_1178\", \"Campaign_1178\", \"Campaign_1178\", \"Campaign_1178\", \"Campaign_1178\", \"Campaign_1178\", \"Campaign_1178\", \"Campaign_1178\", \"Campaign_1178\", \"Campaign_1178\", \"Campaign_1178\", \"Campaign_1178\", \"Campaign_1178\", \"Campaign_1178\", \"Campaign_1178\", \"Campaign_1178\", \"Campaign_1178\", \"Campaign_1178\", \"Campaign_1178\", \"Campaign_1178\", \"Campaign_1178\", \"Campaign_1178\", \"Campaign_1178\", \"Campaign_1178\", \"Campaign_1178\", \"Campaign_1178\", \"Campaign_1178\", \"Campaign_1178\", \"Campaign_1178\", \"Campaign_1178\", \"Campaign_1178\", \"Campaign_1178\", \"Campaign_1178\", \"Campaign_1178\", \"Campaign_1178\", \"Campaign_1178\", \"Campaign_1178\", \"Campaign_1178\", \"Campaign_1178\", \"Campaign_1178\", \"Campaign_1178\", \"Campaign_1178\", \"Campaign_1178\", \"Campaign_1178\", \"Campaign_1178\", \"Campaign_1178\", \"Campaign_1178\", \"Campaign_1178\", \"Campaign_1178\", \"Campaign_1178\", \"Campaign_1178\", \"Campaign_1178\", \"Campaign_1178\", \"Campaign_1178\", \"Campaign_1178\", \"Campaign_1178\", \"Campaign_1178\", \"Campaign_1178\", \"Campaign_1178\", \"Campaign_1178\", \"Campaign_1178\", \"Campaign_1178\", \"Campaign_1178\", \"Campaign_1178\", \"Campaign_1178\", \"Campaign_1178\", \"Campaign_1178\", \"Campaign_1178\", \"Campaign_1178\", \"Campaign_1178\", \"Campaign_1178\", \"Campaign_1178\", \"Campaign_1178\", \"Campaign_1178\", \"Campaign_1178\", \"Campaign_1178\", \"Campaign_1178\", \"Campaign_1178\", \"Campaign_1178\", \"Campaign_1178\", \"Campaign_1178\", \"Campaign_1178\", \"Campaign_1178\", \"Campaign_1178\", \"Campaign_1178\", \"Campaign_1178\", \"Campaign_1178\", \"Campaign_1178\", \"Campaign_1178\", \"Campaign_1178\", \"Campaign_1178\", \"Campaign_1178\", \"Campaign_1178\", \"Campaign_1178\", \"Campaign_1178\", \"Campaign_1178\", \"Campaign_1178\", \"Campaign_1178\", \"Campaign_1178\", \"Campaign_1178\", \"Campaign_1178\", \"Campaign_1178\", \"Campaign_1178\", \"Campaign_1178\", \"Campaign_1178\", \"Campaign_1178\", \"Campaign_1178\", \"Campaign_1178\", \"Campaign_1178\", \"Campaign_1178\", \"Campaign_1178\", \"Campaign_1178\", \"Campaign_1178\", \"Campaign_1178\", \"Campaign_1178\", \"Campaign_1178\", \"Campaign_1178\", \"Campaign_1178\", \"Campaign_1178\", \"Campaign_1178\", \"Campaign_1178\", \"Campaign_1178\", \"Campaign_1178\", \"Campaign_1178\", \"Campaign_1178\", \"Campaign_1178\", \"Campaign_1178\", \"Campaign_1178\", \"Campaign_1178\", \"Campaign_1178\", \"Campaign_1178\", \"Campaign_1178\", \"Campaign_1178\", \"Campaign_1178\", \"Campaign_1178\", \"Campaign_1178\", \"Campaign_1178\", \"Campaign_1178\", \"Campaign_1178\", \"Campaign_1178\", \"Campaign_1178\", \"Campaign_1178\", \"Campaign_1178\", \"Campaign_1178\", \"Campaign_1178\", \"Campaign_1178\", \"Campaign_1178\", \"Campaign_1178\", \"Campaign_1178\", \"Campaign_1178\", \"Campaign_1178\", \"Campaign_1178\", \"Campaign_1178\", \"Campaign_1178\", \"Campaign_1178\", \"Campaign_1178\"], \"x0\": \" \", \"xaxis\": \"x\", \"y\": [15, 16, 20, 28, 28, 29, 15, 16, 27, 28, 31, 7, 16, 16, 20, 28, 30, 31, 15, 16, 15, 15, 16, 16, 16, 7, 29, 16, 16, 16, 15, 16, 16, 24, 21, 16, 16, 32, 15, 16, 18, 27, 15, 29, 63, 65, 25, 27, 20, 15, 10, 19, 63, 10, 10, 10, 15, 21, 25, 26, 29, 36, 36, 10, 16, 20, 23, 26, 27, 28, 29, 29, 36, 18, 19, 29, 31, 10, 16, 16, 18, 18, 26, 27, 27, 29, 31, 64, 64, 10, 16, 22, 27, 29, 32, 36, 63, 64, 7, 21, 26, 27, 28, 63, 64, 10, 15, 19, 20, 27, 27, 29, 2, 15, 16, 27, 28, 29, 29, 7, 16, 63, 10, 30, 16, 18, 18, 20, 29, 16, 20, 23, 26, 27, 32, 64, 31, 10, 16, 16, 18, 19, 21, 30, 64, 10, 16, 16, 18, 19, 24, 26, 10, 10, 15, 16, 16, 21, 64, 15, 16, 16, 22, 28, 29, 2, 16, 10, 16, 20, 21, 26, 10, 10, 15, 16, 21, 22, 26, 27, 27, 30, 63, 64, 21, 25, 26, 27, 29, 63, 16, 16, 16, 16, 15, 16, 16, 16, 16, 27, 27, 29, 31, 64, 15, 16, 16, 16, 10, 10, 10, 63, 25, 23, 21, 19, 10, 29, 28, 16, 16, 16, 16, 26, 15, 65, 65, 63, 63, 15, 16, 16, 16, 7, 10, 2, 63, 64, 29, 15, 15, 16, 16, 16, 16, 19, 16, 16, 16, 10, 10, 10, 10, 2, 23, 2, 21, 20, 10, 18, 16, 16, 36, 7, 63, 10, 36, 63, 16, 16, 63, 27, 64, 64, 64, 65, 7, 29, 24, 24, 26, 28, 19, 29, 16, 16, 7, 16, 16, 64, 19, 18, 2, 20, 31, 31, 27, 27, 26, 26, 29, 29, 29, 28, 28, 28, 29, 27, 27, 20, 20, 29, 32, 18, 31, 32, 30, 22, 29, 29, 29, 28, 64, 27, 63, 26, 26, 27, 15, 30, 64, 64, 65, 10, 15, 15, 15, 16, 16, 16, 29, 29, 28, 31, 10, 7, 32, 18, 18, 10, 16, 20, 22, 25, 23, 29, 29, 65, 64, 63, 28, 29, 29, 10, 26, 27, 24, 18, 18, 22, 22, 23, 16, 16, 21, 32, 22, 18, 10, 10, 15, 16, 63, 64, 27, 27, 29, 10, 10, 63, 16, 15, 63, 32, 32, 20, 26, 16, 20, 20, 21, 18, 18, 20, 24, 24, 18, 18, 16, 16, 16, 30, 29, 26, 63, 28, 29, 16, 10, 20, 28, 10, 27, 15, 29, 30, 26, 10, 10, 64, 10, 16, 16, 18, 20, 15, 16, 16, 16, 10, 20, 16, 64, 16, 15, 21, 21, 22, 36, 30, 32, 32, 26, 29, 65, 65, 64, 29, 28, 28, 28, 28, 27, 32, 24, 10, 36, 7, 10, 10, 16, 16, 16, 16, 16, 16, 26, 22, 18, 16, 16, 15, 10, 64, 28, 28, 10, 29, 26, 27, 25, 25, 16, 16, 16, 20, 18, 27, 10, 10, 2, 27, 10, 64, 22, 27, 26, 16, 16, 20, 20, 20, 20, 28, 10, 16, 27, 29, 10, 10, 10, 10, 10, 15, 15, 15, 15, 15, 16, 16, 16, 16, 18, 18, 18, 18, 19, 19, 19, 19, 20, 20, 20, 20, 20, 20, 21, 21, 21, 21, 21, 22, 22, 22, 22, 23, 23, 23, 24, 24, 25, 25, 25, 26, 26, 26, 26, 27, 27, 27, 27, 27, 28, 28, 28, 28, 29, 29, 29, 29, 29, 30, 30, 30, 30, 31, 31, 31, 32, 32, 32, 36, 36, 36, 36, 36, 36, 63, 63, 63, 63, 63, 64, 64, 64, 64, 65, 65, 2, 2, 2, 2, 7, 7, 7, 7, 66, 66, 66, 66, 10, 10, 10, 10, 10, 15, 15, 15, 16, 16, 16, 18, 18, 18, 18, 19, 19, 20, 20, 20, 21, 21, 22, 22, 22, 22, 23, 23, 23, 23, 23, 24, 24, 24, 25, 25, 25, 26, 26, 27, 27, 27, 28, 28, 28, 28, 28, 29, 29, 29, 29, 29, 30, 30, 30, 31, 32, 32, 32, 36, 36, 63, 63, 64, 64, 64, 64, 64, 65, 65, 2, 2, 2, 2, 7, 7, 7, 66, 66, 10, 10, 10, 10, 10, 15, 16, 16, 16, 16, 16, 16, 19, 19, 19, 20, 20, 20, 20, 20, 21, 22, 22, 22, 22, 23, 23, 24, 24, 25, 26, 27, 27, 29, 29, 29, 29, 29, 29, 30, 30, 31, 32, 32, 32, 36, 36, 63, 63, 64, 64, 65, 2, 2, 2, 7, 66, 66, 10, 10, 10, 10, 10, 15, 15, 15, 16, 16, 16, 16, 16, 18, 18, 18, 19, 19, 19, 19, 20, 20, 20, 20, 20, 21, 21, 21, 22, 23, 23, 23, 24, 25, 25, 26, 27, 27, 27, 27, 27, 28, 28, 28, 28, 28, 29, 29, 29, 29, 29, 29, 31, 31, 31, 32, 32, 32, 32, 36, 63, 63, 63, 64, 65, 2, 66, 10, 10, 15, 15, 15, 16, 16, 16, 16, 16, 18, 18, 18, 19, 19, 19, 19, 19, 20, 20, 20, 21, 21, 21, 21, 22, 22, 23, 24, 24, 24, 24, 25, 26, 26, 27, 27, 27, 27, 28, 28, 28, 28, 29, 29, 29, 29, 30, 30, 30, 31, 31, 32, 32, 32, 32, 32, 36, 63, 63, 63, 63, 64, 64, 64, 64, 64, 65, 65, 2, 2, 2, 2, 7, 7, 7, 66, 10, 10, 10, 10, 15, 15, 16, 16, 16, 16, 16, 16, 18, 19, 19, 21, 21, 22, 22, 22, 22, 24, 24, 25, 25, 25, 26, 26, 27, 27, 28, 29, 29, 29, 30, 32, 63, 63, 63, 63, 63, 64, 64, 2, 7, 10, 10, 10, 10, 10, 15, 16, 16, 16, 16, 18, 21, 21, 21, 22, 23, 23, 25, 25, 25, 26, 26, 26, 27, 27, 28, 28, 28, 29, 29, 30, 31, 31, 31, 32, 32, 36, 63, 63, 64, 65, 65, 2, 7, 7, 66, 10, 10, 10, 10, 15, 15, 16, 16, 16, 16, 16, 18, 18, 18, 18, 19, 19, 19, 20, 20, 21, 21, 22, 22, 23, 24, 24, 25, 25, 25, 26, 26, 26, 27, 27, 27, 28, 28, 28, 28, 29, 29, 29, 29, 30, 30, 31, 31, 63, 63, 63, 64, 64, 64, 64, 65, 100, 101, 102, 103, 105, 107, 110, 111, 112, 113, 101, 102, 103, 105, 107, 108, 109, 110, 112, 113, 114, 100, 101, 104, 105, 106, 107, 108, 110, 111, 112, 113, 100, 102, 104, 105, 107, 108, 109, 110, 112, 113, 114, 101, 102, 103, 104, 105, 106, 107, 108, 109, 110, 111, 112, 100, 101, 102, 106, 107, 108, 109, 110, 111, 112, 113, 114, 100, 101, 102, 103, 104, 105, 106, 107, 108, 109, 110, 111, 112, 114, 100, 101, 102, 103, 104, 105, 106, 107, 108, 109, 110, 111, 113, 114], \"y0\": \" \", \"yaxis\": \"y\"}],\n",
              "                        {\"legend\": {\"tracegroupgap\": 0}, \"template\": {\"data\": {\"bar\": [{\"error_x\": {\"color\": \"#2a3f5f\"}, \"error_y\": {\"color\": \"#2a3f5f\"}, \"marker\": {\"line\": {\"color\": \"#E5ECF6\", \"width\": 0.5}}, \"type\": \"bar\"}], \"barpolar\": [{\"marker\": {\"line\": {\"color\": \"#E5ECF6\", \"width\": 0.5}}, \"type\": \"barpolar\"}], \"carpet\": [{\"aaxis\": {\"endlinecolor\": \"#2a3f5f\", \"gridcolor\": \"white\", \"linecolor\": \"white\", \"minorgridcolor\": \"white\", \"startlinecolor\": \"#2a3f5f\"}, \"baxis\": {\"endlinecolor\": \"#2a3f5f\", \"gridcolor\": \"white\", \"linecolor\": \"white\", \"minorgridcolor\": \"white\", \"startlinecolor\": \"#2a3f5f\"}, \"type\": \"carpet\"}], \"choropleth\": [{\"colorbar\": {\"outlinewidth\": 0, \"ticks\": \"\"}, \"type\": \"choropleth\"}], \"contour\": [{\"colorbar\": {\"outlinewidth\": 0, \"ticks\": \"\"}, \"colorscale\": [[0.0, \"#0d0887\"], [0.1111111111111111, \"#46039f\"], [0.2222222222222222, \"#7201a8\"], [0.3333333333333333, \"#9c179e\"], [0.4444444444444444, \"#bd3786\"], [0.5555555555555556, \"#d8576b\"], [0.6666666666666666, \"#ed7953\"], [0.7777777777777778, \"#fb9f3a\"], [0.8888888888888888, \"#fdca26\"], [1.0, \"#f0f921\"]], \"type\": \"contour\"}], \"contourcarpet\": [{\"colorbar\": {\"outlinewidth\": 0, \"ticks\": \"\"}, \"type\": \"contourcarpet\"}], \"heatmap\": [{\"colorbar\": {\"outlinewidth\": 0, \"ticks\": \"\"}, \"colorscale\": [[0.0, \"#0d0887\"], [0.1111111111111111, \"#46039f\"], [0.2222222222222222, \"#7201a8\"], [0.3333333333333333, \"#9c179e\"], [0.4444444444444444, \"#bd3786\"], [0.5555555555555556, \"#d8576b\"], [0.6666666666666666, \"#ed7953\"], [0.7777777777777778, \"#fb9f3a\"], [0.8888888888888888, \"#fdca26\"], [1.0, \"#f0f921\"]], \"type\": \"heatmap\"}], \"heatmapgl\": [{\"colorbar\": {\"outlinewidth\": 0, \"ticks\": \"\"}, \"colorscale\": [[0.0, \"#0d0887\"], [0.1111111111111111, \"#46039f\"], [0.2222222222222222, \"#7201a8\"], [0.3333333333333333, \"#9c179e\"], [0.4444444444444444, \"#bd3786\"], [0.5555555555555556, \"#d8576b\"], [0.6666666666666666, \"#ed7953\"], [0.7777777777777778, \"#fb9f3a\"], [0.8888888888888888, \"#fdca26\"], [1.0, \"#f0f921\"]], \"type\": \"heatmapgl\"}], \"histogram\": [{\"marker\": {\"colorbar\": {\"outlinewidth\": 0, \"ticks\": \"\"}}, \"type\": \"histogram\"}], \"histogram2d\": [{\"colorbar\": {\"outlinewidth\": 0, \"ticks\": \"\"}, \"colorscale\": [[0.0, \"#0d0887\"], [0.1111111111111111, \"#46039f\"], [0.2222222222222222, \"#7201a8\"], [0.3333333333333333, \"#9c179e\"], [0.4444444444444444, \"#bd3786\"], [0.5555555555555556, \"#d8576b\"], [0.6666666666666666, \"#ed7953\"], [0.7777777777777778, \"#fb9f3a\"], [0.8888888888888888, \"#fdca26\"], [1.0, \"#f0f921\"]], \"type\": \"histogram2d\"}], \"histogram2dcontour\": [{\"colorbar\": {\"outlinewidth\": 0, \"ticks\": \"\"}, \"colorscale\": [[0.0, \"#0d0887\"], [0.1111111111111111, \"#46039f\"], [0.2222222222222222, \"#7201a8\"], [0.3333333333333333, \"#9c179e\"], [0.4444444444444444, \"#bd3786\"], [0.5555555555555556, \"#d8576b\"], [0.6666666666666666, \"#ed7953\"], [0.7777777777777778, \"#fb9f3a\"], [0.8888888888888888, \"#fdca26\"], [1.0, \"#f0f921\"]], \"type\": \"histogram2dcontour\"}], \"mesh3d\": [{\"colorbar\": {\"outlinewidth\": 0, \"ticks\": \"\"}, \"type\": \"mesh3d\"}], \"parcoords\": [{\"line\": {\"colorbar\": {\"outlinewidth\": 0, \"ticks\": \"\"}}, \"type\": \"parcoords\"}], \"pie\": [{\"automargin\": true, \"type\": \"pie\"}], \"scatter\": [{\"marker\": {\"colorbar\": {\"outlinewidth\": 0, \"ticks\": \"\"}}, \"type\": \"scatter\"}], \"scatter3d\": [{\"line\": {\"colorbar\": {\"outlinewidth\": 0, \"ticks\": \"\"}}, \"marker\": {\"colorbar\": {\"outlinewidth\": 0, \"ticks\": \"\"}}, \"type\": \"scatter3d\"}], \"scattercarpet\": [{\"marker\": {\"colorbar\": {\"outlinewidth\": 0, \"ticks\": \"\"}}, \"type\": \"scattercarpet\"}], \"scattergeo\": [{\"marker\": {\"colorbar\": {\"outlinewidth\": 0, \"ticks\": \"\"}}, \"type\": \"scattergeo\"}], \"scattergl\": [{\"marker\": {\"colorbar\": {\"outlinewidth\": 0, \"ticks\": \"\"}}, \"type\": \"scattergl\"}], \"scattermapbox\": [{\"marker\": {\"colorbar\": {\"outlinewidth\": 0, \"ticks\": \"\"}}, \"type\": \"scattermapbox\"}], \"scatterpolar\": [{\"marker\": {\"colorbar\": {\"outlinewidth\": 0, \"ticks\": \"\"}}, \"type\": \"scatterpolar\"}], \"scatterpolargl\": [{\"marker\": {\"colorbar\": {\"outlinewidth\": 0, \"ticks\": \"\"}}, \"type\": \"scatterpolargl\"}], \"scatterternary\": [{\"marker\": {\"colorbar\": {\"outlinewidth\": 0, \"ticks\": \"\"}}, \"type\": \"scatterternary\"}], \"surface\": [{\"colorbar\": {\"outlinewidth\": 0, \"ticks\": \"\"}, \"colorscale\": [[0.0, \"#0d0887\"], [0.1111111111111111, \"#46039f\"], [0.2222222222222222, \"#7201a8\"], [0.3333333333333333, \"#9c179e\"], [0.4444444444444444, \"#bd3786\"], [0.5555555555555556, \"#d8576b\"], [0.6666666666666666, \"#ed7953\"], [0.7777777777777778, \"#fb9f3a\"], [0.8888888888888888, \"#fdca26\"], [1.0, \"#f0f921\"]], \"type\": \"surface\"}], \"table\": [{\"cells\": {\"fill\": {\"color\": \"#EBF0F8\"}, \"line\": {\"color\": \"white\"}}, \"header\": {\"fill\": {\"color\": \"#C8D4E3\"}, \"line\": {\"color\": \"white\"}}, \"type\": \"table\"}]}, \"layout\": {\"annotationdefaults\": {\"arrowcolor\": \"#2a3f5f\", \"arrowhead\": 0, \"arrowwidth\": 1}, \"coloraxis\": {\"colorbar\": {\"outlinewidth\": 0, \"ticks\": \"\"}}, \"colorscale\": {\"diverging\": [[0, \"#8e0152\"], [0.1, \"#c51b7d\"], [0.2, \"#de77ae\"], [0.3, \"#f1b6da\"], [0.4, \"#fde0ef\"], [0.5, \"#f7f7f7\"], [0.6, \"#e6f5d0\"], [0.7, \"#b8e186\"], [0.8, \"#7fbc41\"], [0.9, \"#4d9221\"], [1, \"#276419\"]], \"sequential\": [[0.0, \"#0d0887\"], [0.1111111111111111, \"#46039f\"], [0.2222222222222222, \"#7201a8\"], [0.3333333333333333, \"#9c179e\"], [0.4444444444444444, \"#bd3786\"], [0.5555555555555556, \"#d8576b\"], [0.6666666666666666, \"#ed7953\"], [0.7777777777777778, \"#fb9f3a\"], [0.8888888888888888, \"#fdca26\"], [1.0, \"#f0f921\"]], \"sequentialminus\": [[0.0, \"#0d0887\"], [0.1111111111111111, \"#46039f\"], [0.2222222222222222, \"#7201a8\"], [0.3333333333333333, \"#9c179e\"], [0.4444444444444444, \"#bd3786\"], [0.5555555555555556, \"#d8576b\"], [0.6666666666666666, \"#ed7953\"], [0.7777777777777778, \"#fb9f3a\"], [0.8888888888888888, \"#fdca26\"], [1.0, \"#f0f921\"]]}, \"colorway\": [\"#636efa\", \"#EF553B\", \"#00cc96\", \"#ab63fa\", \"#FFA15A\", \"#19d3f3\", \"#FF6692\", \"#B6E880\", \"#FF97FF\", \"#FECB52\"], \"font\": {\"color\": \"#2a3f5f\"}, \"geo\": {\"bgcolor\": \"white\", \"lakecolor\": \"white\", \"landcolor\": \"#E5ECF6\", \"showlakes\": true, \"showland\": true, \"subunitcolor\": \"white\"}, \"hoverlabel\": {\"align\": \"left\"}, \"hovermode\": \"closest\", \"mapbox\": {\"style\": \"light\"}, \"paper_bgcolor\": \"white\", \"plot_bgcolor\": \"#E5ECF6\", \"polar\": {\"angularaxis\": {\"gridcolor\": \"white\", \"linecolor\": \"white\", \"ticks\": \"\"}, \"bgcolor\": \"#E5ECF6\", \"radialaxis\": {\"gridcolor\": \"white\", \"linecolor\": \"white\", \"ticks\": \"\"}}, \"scene\": {\"xaxis\": {\"backgroundcolor\": \"#E5ECF6\", \"gridcolor\": \"white\", \"gridwidth\": 2, \"linecolor\": \"white\", \"showbackground\": true, \"ticks\": \"\", \"zerolinecolor\": \"white\"}, \"yaxis\": {\"backgroundcolor\": \"#E5ECF6\", \"gridcolor\": \"white\", \"gridwidth\": 2, \"linecolor\": \"white\", \"showbackground\": true, \"ticks\": \"\", \"zerolinecolor\": \"white\"}, \"zaxis\": {\"backgroundcolor\": \"#E5ECF6\", \"gridcolor\": \"white\", \"gridwidth\": 2, \"linecolor\": \"white\", \"showbackground\": true, \"ticks\": \"\", \"zerolinecolor\": \"white\"}}, \"shapedefaults\": {\"line\": {\"color\": \"#2a3f5f\"}}, \"ternary\": {\"aaxis\": {\"gridcolor\": \"white\", \"linecolor\": \"white\", \"ticks\": \"\"}, \"baxis\": {\"gridcolor\": \"white\", \"linecolor\": \"white\", \"ticks\": \"\"}, \"bgcolor\": \"#E5ECF6\", \"caxis\": {\"gridcolor\": \"white\", \"linecolor\": \"white\", \"ticks\": \"\"}}, \"title\": {\"x\": 0.05}, \"xaxis\": {\"automargin\": true, \"gridcolor\": \"white\", \"linecolor\": \"white\", \"ticks\": \"\", \"title\": {\"standoff\": 15}, \"zerolinecolor\": \"white\", \"zerolinewidth\": 2}, \"yaxis\": {\"automargin\": true, \"gridcolor\": \"white\", \"linecolor\": \"white\", \"ticks\": \"\", \"title\": {\"standoff\": 15}, \"zerolinecolor\": \"white\", \"zerolinewidth\": 2}}}, \"title\": {\"text\": \"Count of interest per Campaign\"}, \"violinmode\": \"group\", \"xaxis\": {\"anchor\": \"y\", \"domain\": [0.0, 1.0], \"title\": {\"text\": \"xyz_campaign_id\"}}, \"yaxis\": {\"anchor\": \"x\", \"domain\": [0.0, 1.0], \"title\": {\"text\": \"interest\"}}},\n",
              "                        {\"responsive\": true}\n",
              "                    ).then(function(){\n",
              "                            \n",
              "var gd = document.getElementById('5c23f26b-ab96-4b7b-be58-f448e9b28dff');\n",
              "var x = new MutationObserver(function (mutations, observer) {{\n",
              "        var display = window.getComputedStyle(gd).display;\n",
              "        if (!display || display === 'none') {{\n",
              "            console.log([gd, 'removed!']);\n",
              "            Plotly.purge(gd);\n",
              "            observer.disconnect();\n",
              "        }}\n",
              "}});\n",
              "\n",
              "// Listen for the removal of the full notebook cells\n",
              "var notebookContainer = gd.closest('#notebook-container');\n",
              "if (notebookContainer) {{\n",
              "    x.observe(notebookContainer, {childList: true});\n",
              "}}\n",
              "\n",
              "// Listen for the clearing of the current output cell\n",
              "var outputEl = gd.closest('.output');\n",
              "if (outputEl) {{\n",
              "    x.observe(outputEl, {childList: true});\n",
              "}}\n",
              "\n",
              "                        })\n",
              "                };\n",
              "                \n",
              "            </script>\n",
              "        </div>\n",
              "</body>\n",
              "</html>"
            ]
          },
          "metadata": {}
        }
      ]
    },
    {
      "cell_type": "markdown",
      "source": [
        "## Impressions and Spendings"
      ],
      "metadata": {
        "id": "81euCMDnIo5V"
      }
    },
    {
      "cell_type": "code",
      "source": [
        "#Distribution of Impressions With Respect To Age\n",
        "px.pie(dataset,names='age', values='Impressions',title='Age Vs Impressions', color_discrete_sequence=px.colors.sequential.Blues_r)"
      ],
      "metadata": {
        "colab": {
          "base_uri": "https://localhost:8080/",
          "height": 542
        },
        "id": "MJUcV7iEV1gs",
        "outputId": "15ecf2de-de82-475a-dc30-edbf00e7ab72"
      },
      "execution_count": null,
      "outputs": [
        {
          "output_type": "display_data",
          "data": {
            "text/html": [
              "<html>\n",
              "<head><meta charset=\"utf-8\" /></head>\n",
              "<body>\n",
              "    <div>\n",
              "            <script src=\"https://cdnjs.cloudflare.com/ajax/libs/mathjax/2.7.5/MathJax.js?config=TeX-AMS-MML_SVG\"></script><script type=\"text/javascript\">if (window.MathJax) {MathJax.Hub.Config({SVG: {font: \"STIX-Web\"}});}</script>\n",
              "                <script type=\"text/javascript\">window.PlotlyConfig = {MathJaxConfig: 'local'};</script>\n",
              "        <script src=\"https://cdn.plot.ly/plotly-latest.min.js\"></script>    \n",
              "            <div id=\"dcd43bdd-1f2c-4748-a9a9-10de8b96a5dd\" class=\"plotly-graph-div\" style=\"height:525px; width:100%;\"></div>\n",
              "            <script type=\"text/javascript\">\n",
              "                \n",
              "                    window.PLOTLYENV=window.PLOTLYENV || {};\n",
              "                    \n",
              "                if (document.getElementById(\"dcd43bdd-1f2c-4748-a9a9-10de8b96a5dd\")) {\n",
              "                    Plotly.newPlot(\n",
              "                        'dcd43bdd-1f2c-4748-a9a9-10de8b96a5dd',\n",
              "                        [{\"domain\": {\"x\": [0.0, 1.0], \"y\": [0.0, 1.0]}, \"hoverlabel\": {\"namelength\": 0}, \"hovertemplate\": \"age=%{label}<br>Impressions=%{value}\", \"labels\": [\"30-34\", \"30-34\", \"30-34\", \"30-34\", \"30-34\", \"30-34\", \"30-34\", \"30-34\", \"30-34\", \"30-34\", \"30-34\", \"30-34\", \"30-34\", \"30-34\", \"30-34\", \"30-34\", \"30-34\", \"30-34\", \"35-39\", \"35-39\", \"35-39\", \"35-39\", \"35-39\", \"35-39\", \"35-39\", \"35-39\", \"35-39\", \"40-44\", \"40-44\", \"40-44\", \"40-44\", \"40-44\", \"45-49\", \"45-49\", \"45-49\", \"30-34\", \"30-34\", \"30-34\", \"30-34\", \"30-34\", \"30-34\", \"30-34\", \"30-34\", \"30-34\", \"30-34\", \"30-34\", \"35-39\", \"35-39\", \"35-39\", \"40-44\", \"45-49\", \"45-49\", \"45-49\", \"45-49\", \"30-34\", \"30-34\", \"30-34\", \"30-34\", \"30-34\", \"30-34\", \"30-34\", \"30-34\", \"30-34\", \"35-39\", \"35-39\", \"35-39\", \"35-39\", \"35-39\", \"35-39\", \"35-39\", \"35-39\", \"40-44\", \"40-44\", \"45-49\", \"45-49\", \"45-49\", \"45-49\", \"30-34\", \"30-34\", \"30-34\", \"30-34\", \"30-34\", \"30-34\", \"30-34\", \"30-34\", \"30-34\", \"30-34\", \"30-34\", \"30-34\", \"35-39\", \"35-39\", \"35-39\", \"35-39\", \"35-39\", \"35-39\", \"35-39\", \"35-39\", \"35-39\", \"40-44\", \"40-44\", \"40-44\", \"40-44\", \"40-44\", \"40-44\", \"40-44\", \"45-49\", \"45-49\", \"45-49\", \"45-49\", \"45-49\", \"45-49\", \"45-49\", \"30-34\", \"30-34\", \"30-34\", \"30-34\", \"30-34\", \"30-34\", \"30-34\", \"35-39\", \"35-39\", \"35-39\", \"40-44\", \"40-44\", \"45-49\", \"45-49\", \"45-49\", \"45-49\", \"45-49\", \"30-34\", \"30-34\", \"30-34\", \"30-34\", \"30-34\", \"30-34\", \"30-34\", \"35-39\", \"40-44\", \"40-44\", \"40-44\", \"40-44\", \"40-44\", \"40-44\", \"40-44\", \"40-44\", \"45-49\", \"45-49\", \"45-49\", \"45-49\", \"45-49\", \"45-49\", \"45-49\", \"30-34\", \"30-34\", \"30-34\", \"30-34\", \"30-34\", \"30-34\", \"30-34\", \"35-39\", \"35-39\", \"35-39\", \"35-39\", \"35-39\", \"35-39\", \"40-44\", \"40-44\", \"45-49\", \"45-49\", \"45-49\", \"45-49\", \"45-49\", \"30-34\", \"30-34\", \"30-34\", \"30-34\", \"30-34\", \"30-34\", \"30-34\", \"30-34\", \"30-34\", \"30-34\", \"30-34\", \"30-34\", \"35-39\", \"35-39\", \"35-39\", \"35-39\", \"35-39\", \"35-39\", \"40-44\", \"40-44\", \"40-44\", \"40-44\", \"45-49\", \"45-49\", \"45-49\", \"45-49\", \"45-49\", \"45-49\", \"45-49\", \"45-49\", \"45-49\", \"45-49\", \"45-49\", \"45-49\", \"45-49\", \"45-49\", \"45-49\", \"45-49\", \"45-49\", \"40-44\", \"45-49\", \"45-49\", \"45-49\", \"45-49\", \"30-34\", \"45-49\", \"45-49\", \"30-34\", \"30-34\", \"30-34\", \"30-34\", \"45-49\", \"30-34\", \"45-49\", \"45-49\", \"45-49\", \"45-49\", \"30-34\", \"30-34\", \"30-34\", \"30-34\", \"30-34\", \"30-34\", \"30-34\", \"45-49\", \"45-49\", \"40-44\", \"30-34\", \"30-34\", \"30-34\", \"30-34\", \"30-34\", \"30-34\", \"40-44\", \"40-44\", \"40-44\", \"40-44\", \"30-34\", \"30-34\", \"30-34\", \"30-34\", \"30-34\", \"40-44\", \"40-44\", \"45-49\", \"45-49\", \"40-44\", \"45-49\", \"45-49\", \"45-49\", \"35-39\", \"45-49\", \"40-44\", \"35-39\", \"45-49\", \"45-49\", \"35-39\", \"35-39\", \"30-34\", \"40-44\", \"30-34\", \"30-34\", \"30-34\", \"30-34\", \"30-34\", \"40-44\", \"40-44\", \"35-39\", \"45-49\", \"45-49\", \"40-44\", \"45-49\", \"45-49\", \"45-49\", \"40-44\", \"40-44\", \"40-44\", \"35-39\", \"30-34\", \"30-34\", \"40-44\", \"30-34\", \"30-34\", \"30-34\", \"35-39\", \"30-34\", \"30-34\", \"30-34\", \"35-39\", \"35-39\", \"30-34\", \"35-39\", \"30-34\", \"30-34\", \"40-44\", \"40-44\", \"40-44\", \"40-44\", \"40-44\", \"40-44\", \"30-34\", \"40-44\", \"30-34\", \"40-44\", \"30-34\", \"40-44\", \"30-34\", \"30-34\", \"35-39\", \"30-34\", \"35-39\", \"35-39\", \"35-39\", \"30-34\", \"30-34\", \"35-39\", \"40-44\", \"35-39\", \"30-34\", \"45-49\", \"45-49\", \"35-39\", \"35-39\", \"35-39\", \"30-34\", \"35-39\", \"30-34\", \"30-34\", \"30-34\", \"30-34\", \"30-34\", \"30-34\", \"45-49\", \"45-49\", \"30-34\", \"30-34\", \"30-34\", \"35-39\", \"35-39\", \"30-34\", \"30-34\", \"30-34\", \"35-39\", \"45-49\", \"45-49\", \"30-34\", \"30-34\", \"30-34\", \"30-34\", \"30-34\", \"30-34\", \"45-49\", \"30-34\", \"30-34\", \"30-34\", \"45-49\", \"45-49\", \"30-34\", \"30-34\", \"30-34\", \"45-49\", \"45-49\", \"30-34\", \"40-44\", \"40-44\", \"40-44\", \"40-44\", \"40-44\", \"40-44\", \"40-44\", \"35-39\", \"35-39\", \"35-39\", \"35-39\", \"35-39\", \"35-39\", \"35-39\", \"30-34\", \"35-39\", \"35-39\", \"30-34\", \"30-34\", \"30-34\", \"35-39\", \"45-49\", \"35-39\", \"30-34\", \"30-34\", \"45-49\", \"30-34\", \"30-34\", \"30-34\", \"30-34\", \"30-34\", \"30-34\", \"30-34\", \"30-34\", \"30-34\", \"30-34\", \"30-34\", \"30-34\", \"30-34\", \"40-44\", \"30-34\", \"30-34\", \"45-49\", \"45-49\", \"40-44\", \"40-44\", \"30-34\", \"40-44\", \"30-34\", \"35-39\", \"35-39\", \"35-39\", \"40-44\", \"40-44\", \"35-39\", \"30-34\", \"30-34\", \"30-34\", \"30-34\", \"30-34\", \"30-34\", \"30-34\", \"30-34\", \"30-34\", \"30-34\", \"40-44\", \"35-39\", \"30-34\", \"45-49\", \"45-49\", \"45-49\", \"30-34\", \"45-49\", \"40-44\", \"30-34\", \"30-34\", \"30-34\", \"30-34\", \"30-34\", \"30-34\", \"30-34\", \"30-34\", \"30-34\", \"30-34\", \"35-39\", \"35-39\", \"35-39\", \"30-34\", \"35-39\", \"30-34\", \"40-44\", \"45-49\", \"30-34\", \"30-34\", \"30-34\", \"30-34\", \"30-34\", \"30-34\", \"45-49\", \"45-49\", \"35-39\", \"45-49\", \"35-39\", \"35-39\", \"35-39\", \"35-39\", \"35-39\", \"35-39\", \"30-34\", \"30-34\", \"30-34\", \"45-49\", \"30-34\", \"30-34\", \"30-34\", \"30-34\", \"30-34\", \"45-49\", \"45-49\", \"45-49\", \"45-49\", \"30-34\", \"40-44\", \"40-44\", \"40-44\", \"40-44\", \"35-39\", \"35-39\", \"45-49\", \"35-39\", \"45-49\", \"45-49\", \"35-39\", \"35-39\", \"45-49\", \"30-34\", \"30-34\", \"30-34\", \"30-34\", \"45-49\", \"40-44\", \"40-44\", \"35-39\", \"30-34\", \"30-34\", \"30-34\", \"30-34\", \"30-34\", \"30-34\", \"30-34\", \"30-34\", \"30-34\", \"30-34\", \"30-34\", \"30-34\", \"30-34\", \"30-34\", \"30-34\", \"30-34\", \"30-34\", \"30-34\", \"30-34\", \"30-34\", \"30-34\", \"30-34\", \"30-34\", \"30-34\", \"30-34\", \"30-34\", \"30-34\", \"30-34\", \"30-34\", \"30-34\", \"30-34\", \"30-34\", \"30-34\", \"30-34\", \"30-34\", \"30-34\", \"30-34\", \"30-34\", \"30-34\", \"30-34\", \"30-34\", \"30-34\", \"30-34\", \"30-34\", \"30-34\", \"30-34\", \"30-34\", \"30-34\", \"30-34\", \"30-34\", \"30-34\", \"30-34\", \"30-34\", \"30-34\", \"30-34\", \"30-34\", \"30-34\", \"30-34\", \"30-34\", \"30-34\", \"30-34\", \"30-34\", \"30-34\", \"30-34\", \"30-34\", \"30-34\", \"30-34\", \"30-34\", \"30-34\", \"30-34\", \"30-34\", \"30-34\", \"30-34\", \"30-34\", \"30-34\", \"30-34\", \"30-34\", \"30-34\", \"30-34\", \"30-34\", \"30-34\", \"30-34\", \"30-34\", \"30-34\", \"30-34\", \"30-34\", \"30-34\", \"30-34\", \"30-34\", \"30-34\", \"30-34\", \"30-34\", \"30-34\", \"30-34\", \"30-34\", \"30-34\", \"30-34\", \"30-34\", \"30-34\", \"30-34\", \"30-34\", \"30-34\", \"35-39\", \"35-39\", \"35-39\", \"35-39\", \"35-39\", \"35-39\", \"35-39\", \"35-39\", \"35-39\", \"35-39\", \"35-39\", \"35-39\", \"35-39\", \"35-39\", \"35-39\", \"35-39\", \"35-39\", \"35-39\", \"35-39\", \"35-39\", \"35-39\", \"35-39\", \"35-39\", \"35-39\", \"35-39\", \"35-39\", \"35-39\", \"35-39\", \"35-39\", \"35-39\", \"35-39\", \"35-39\", \"35-39\", \"35-39\", \"35-39\", \"35-39\", \"35-39\", \"35-39\", \"35-39\", \"35-39\", \"35-39\", \"35-39\", \"35-39\", \"35-39\", \"35-39\", \"35-39\", \"35-39\", \"35-39\", \"35-39\", \"35-39\", \"35-39\", \"35-39\", \"35-39\", \"35-39\", \"35-39\", \"35-39\", \"35-39\", \"35-39\", \"35-39\", \"35-39\", \"35-39\", \"35-39\", \"35-39\", \"35-39\", \"35-39\", \"35-39\", \"35-39\", \"35-39\", \"35-39\", \"35-39\", \"35-39\", \"35-39\", \"35-39\", \"35-39\", \"35-39\", \"35-39\", \"35-39\", \"35-39\", \"35-39\", \"40-44\", \"40-44\", \"40-44\", \"40-44\", \"40-44\", \"40-44\", \"40-44\", \"40-44\", \"40-44\", \"40-44\", \"40-44\", \"40-44\", \"40-44\", \"40-44\", \"40-44\", \"40-44\", \"40-44\", \"40-44\", \"40-44\", \"40-44\", \"40-44\", \"40-44\", \"40-44\", \"40-44\", \"40-44\", \"40-44\", \"40-44\", \"40-44\", \"40-44\", \"40-44\", \"40-44\", \"40-44\", \"40-44\", \"40-44\", \"40-44\", \"40-44\", \"40-44\", \"40-44\", \"40-44\", \"40-44\", \"40-44\", \"40-44\", \"40-44\", \"40-44\", \"40-44\", \"40-44\", \"40-44\", \"40-44\", \"40-44\", \"40-44\", \"40-44\", \"40-44\", \"40-44\", \"40-44\", \"40-44\", \"40-44\", \"40-44\", \"40-44\", \"45-49\", \"45-49\", \"45-49\", \"45-49\", \"45-49\", \"45-49\", \"45-49\", \"45-49\", \"45-49\", \"45-49\", \"45-49\", \"45-49\", \"45-49\", \"45-49\", \"45-49\", \"45-49\", \"45-49\", \"45-49\", \"45-49\", \"45-49\", \"45-49\", \"45-49\", \"45-49\", \"45-49\", \"45-49\", \"45-49\", \"45-49\", \"45-49\", \"45-49\", \"45-49\", \"45-49\", \"45-49\", \"45-49\", \"45-49\", \"45-49\", \"45-49\", \"45-49\", \"45-49\", \"45-49\", \"45-49\", \"45-49\", \"45-49\", \"45-49\", \"45-49\", \"45-49\", \"45-49\", \"45-49\", \"45-49\", \"45-49\", \"45-49\", \"45-49\", \"45-49\", \"45-49\", \"45-49\", \"45-49\", \"45-49\", \"45-49\", \"45-49\", \"45-49\", \"45-49\", \"45-49\", \"45-49\", \"45-49\", \"45-49\", \"45-49\", \"45-49\", \"45-49\", \"30-34\", \"30-34\", \"30-34\", \"30-34\", \"30-34\", \"30-34\", \"30-34\", \"30-34\", \"30-34\", \"30-34\", \"30-34\", \"30-34\", \"30-34\", \"30-34\", \"30-34\", \"30-34\", \"30-34\", \"30-34\", \"30-34\", \"30-34\", \"30-34\", \"30-34\", \"30-34\", \"30-34\", \"30-34\", \"30-34\", \"30-34\", \"30-34\", \"30-34\", \"30-34\", \"30-34\", \"30-34\", \"30-34\", \"30-34\", \"30-34\", \"30-34\", \"30-34\", \"30-34\", \"30-34\", \"30-34\", \"30-34\", \"30-34\", \"30-34\", \"30-34\", \"30-34\", \"30-34\", \"30-34\", \"30-34\", \"30-34\", \"30-34\", \"30-34\", \"30-34\", \"30-34\", \"30-34\", \"30-34\", \"30-34\", \"30-34\", \"30-34\", \"30-34\", \"30-34\", \"30-34\", \"30-34\", \"30-34\", \"30-34\", \"30-34\", \"30-34\", \"30-34\", \"30-34\", \"30-34\", \"30-34\", \"30-34\", \"30-34\", \"30-34\", \"30-34\", \"30-34\", \"30-34\", \"30-34\", \"35-39\", \"35-39\", \"35-39\", \"35-39\", \"35-39\", \"35-39\", \"35-39\", \"35-39\", \"35-39\", \"35-39\", \"35-39\", \"35-39\", \"35-39\", \"35-39\", \"35-39\", \"35-39\", \"35-39\", \"35-39\", \"35-39\", \"35-39\", \"35-39\", \"35-39\", \"35-39\", \"35-39\", \"35-39\", \"35-39\", \"35-39\", \"35-39\", \"35-39\", \"35-39\", \"35-39\", \"35-39\", \"35-39\", \"35-39\", \"35-39\", \"35-39\", \"35-39\", \"35-39\", \"35-39\", \"35-39\", \"35-39\", \"35-39\", \"35-39\", \"35-39\", \"35-39\", \"40-44\", \"40-44\", \"40-44\", \"40-44\", \"40-44\", \"40-44\", \"40-44\", \"40-44\", \"40-44\", \"40-44\", \"40-44\", \"40-44\", \"40-44\", \"40-44\", \"40-44\", \"40-44\", \"40-44\", \"40-44\", \"40-44\", \"40-44\", \"40-44\", \"40-44\", \"40-44\", \"40-44\", \"40-44\", \"40-44\", \"40-44\", \"40-44\", \"40-44\", \"40-44\", \"40-44\", \"40-44\", \"40-44\", \"40-44\", \"40-44\", \"40-44\", \"40-44\", \"40-44\", \"40-44\", \"40-44\", \"40-44\", \"40-44\", \"40-44\", \"40-44\", \"40-44\", \"40-44\", \"45-49\", \"45-49\", \"45-49\", \"45-49\", \"45-49\", \"45-49\", \"45-49\", \"45-49\", \"45-49\", \"45-49\", \"45-49\", \"45-49\", \"45-49\", \"45-49\", \"45-49\", \"45-49\", \"45-49\", \"45-49\", \"45-49\", \"45-49\", \"45-49\", \"45-49\", \"45-49\", \"45-49\", \"45-49\", \"45-49\", \"45-49\", \"45-49\", \"45-49\", \"45-49\", \"45-49\", \"45-49\", \"45-49\", \"45-49\", \"45-49\", \"45-49\", \"45-49\", \"45-49\", \"45-49\", \"45-49\", \"45-49\", \"45-49\", \"45-49\", \"45-49\", \"45-49\", \"45-49\", \"45-49\", \"45-49\", \"45-49\", \"45-49\", \"45-49\", \"45-49\", \"45-49\", \"45-49\", \"45-49\", \"45-49\", \"30-34\", \"30-34\", \"30-34\", \"30-34\", \"30-34\", \"30-34\", \"30-34\", \"30-34\", \"30-34\", \"30-34\", \"35-39\", \"35-39\", \"35-39\", \"35-39\", \"35-39\", \"35-39\", \"35-39\", \"35-39\", \"35-39\", \"35-39\", \"35-39\", \"40-44\", \"40-44\", \"40-44\", \"40-44\", \"40-44\", \"40-44\", \"40-44\", \"40-44\", \"40-44\", \"40-44\", \"40-44\", \"45-49\", \"45-49\", \"45-49\", \"45-49\", \"45-49\", \"45-49\", \"45-49\", \"45-49\", \"45-49\", \"45-49\", \"45-49\", \"30-34\", \"30-34\", \"30-34\", \"30-34\", \"30-34\", \"30-34\", \"30-34\", \"30-34\", \"30-34\", \"30-34\", \"30-34\", \"30-34\", \"35-39\", \"35-39\", \"35-39\", \"35-39\", \"35-39\", \"35-39\", \"35-39\", \"35-39\", \"35-39\", \"35-39\", \"35-39\", \"35-39\", \"40-44\", \"40-44\", \"40-44\", \"40-44\", \"40-44\", \"40-44\", \"40-44\", \"40-44\", \"40-44\", \"40-44\", \"40-44\", \"40-44\", \"40-44\", \"40-44\", \"45-49\", \"45-49\", \"45-49\", \"45-49\", \"45-49\", \"45-49\", \"45-49\", \"45-49\", \"45-49\", \"45-49\", \"45-49\", \"45-49\", \"45-49\", \"45-49\"], \"legendgroup\": \"\", \"name\": \"\", \"showlegend\": true, \"type\": \"pie\", \"values\": [7350, 17861, 693, 4259, 4133, 1915, 15615, 10951, 2355, 9502, 1224, 735, 5117, 5120, 14669, 1241, 2305, 1024, 4627, 21026, 1422, 7132, 12190, 12193, 3332, 559, 7440, 19113, 10976, 2861, 1398, 23817, 47224, 2283, 2182, 2654, 57665, 3091, 5014, 38726, 1473, 1186, 5369, 22221, 1185, 13019, 2508, 5864, 2783, 3812, 11199, 292, 17572, 1448, 1772, 13329, 13659, 739, 605, 1030, 5374, 790, 962, 4423, 12382, 2938, 239, 591, 10332, 8259, 12158, 7709, 834, 1299, 371, 10466, 839, 5576, 4010, 39337, 1635, 1631, 13479, 57022, 5453, 11803, 4259, 1554, 5323, 5024, 104648, 8504, 20277, 12403, 498, 652, 1357, 1393, 648, 708, 6907, 39035, 926, 4412, 9965, 73634, 69708, 530, 14257, 20362, 12215, 85412, 2338, 2522, 3587, 1273, 3891, 1888, 1895, 715, 11199, 5676, 1415, 2148, 45401, 7478, 4919, 533, 1447, 17553, 3343, 523, 1873, 34740, 658, 1539, 3010, 27081, 20233, 147159, 21664, 9112, 542, 402, 1338, 46150, 493821, 92011, 12956, 529, 944, 111090, 7208, 1746, 2474, 12489, 8032, 472, 792, 4607, 13355, 2936, 2793, 1032, 1662, 4016, 14843, 9674, 12186, 673, 370, 450, 2077, 31393, 8410, 25884, 608, 28488, 10126, 22572, 1955, 493, 1491, 1495, 512, 4868, 6585, 10164, 11182, 1238, 34127, 29466, 38759, 41720, 18602, 83929, 25194, 78627, 102695, 82827, 9240, 7706, 7821, 1363, 3569, 119063, 99078, 452398, 191223, 22216, 48291, 27559, 10194, 1168, 40126, 3659, 3200, 7550, 45397, 23086, 16425, 43756, 9982, 175389, 7015, 12706, 70702, 63927, 15105, 8774, 14459, 21596, 66765, 1369, 26910, 506, 11988, 19353, 10960, 33491, 20083, 8817, 15466, 27072, 15753, 3523, 7745, 18709, 8022, 7966, 4132, 12785, 8213, 545, 2479, 3812, 1609, 10257, 12356, 7410, 140098, 107021, 2797, 16461, 17488, 9750, 1136, 4333, 6260, 6359, 2383, 11292, 12729, 1898, 1882, 2883, 3989, 19603, 3047, 3029, 3490, 2479, 19581, 19537, 59433, 157534, 1781, 23769, 7101, 4726, 5209, 13473, 500, 4616, 3279, 3288, 14615, 56615, 11735, 15910, 11446, 4595, 4871, 3199, 9388, 17954, 2755, 8152, 74542, 6699, 11911, 10090, 1273, 24188, 2214, 9735, 1371, 10750, 7629, 4608, 3732, 7453, 41785, 8077, 5602, 6184, 1738, 112460, 4414, 14670, 33144, 4397, 1006, 89527, 2459, 7116, 8613, 9730, 51816, 27289, 20409, 8044, 15645, 2466, 11611, 9375, 4402, 8469, 5823, 2549, 25817, 1961, 2554, 4971, 1030, 162341, 24542, 2879, 13621, 6175, 2963, 9076, 20941, 3462, 4073, 3745, 830, 2912, 17167, 24491, 44699, 6469, 16053, 54724, 4706, 8316, 5794, 4813, 85285, 5839, 5859, 164118, 18234, 2755, 73676, 18421, 164754, 7449, 6424, 2086, 6016, 6412, 5040, 1772, 1783, 8200, 115896, 10186, 9134, 3385, 1314, 2916, 6142, 1984, 9142, 5475, 8254, 5704, 7301, 37873, 25267, 535, 3396, 977, 12318, 4783, 6475, 104578, 33664, 979, 7337, 2499, 11244, 4827, 29035, 761, 6532, 11537, 12183, 5912, 4012, 12396, 3142, 1120, 343, 1720, 3423, 3242, 15720, 1217, 2367, 6607, 616, 5537, 818, 1909, 351, 572, 1884, 219, 540, 550, 465, 1761, 152, 152, 429, 1514, 7780, 460, 471, 2633, 199, 398, 246, 2967, 255, 457, 5517, 1539, 3189, 3348, 20050, 2254, 5894, 9948, 5307, 4621, 784, 5775, 9297, 699, 1104, 3717, 2879, 2749, 24028, 1118, 1083, 843, 2983, 696, 7589, 20997, 4617, 259, 1134, 357, 848, 3149, 87, 2563, 1107, 10677, 2189, 3277, 781, 2226, 16274, 2077, 529, 487, 4626, 2764, 5447, 28169, 415, 810, 1194718, 637648, 24362, 459690, 750060, 30068, 1267550, 3052003, 29945, 357856, 2080666, 145999, 32616, 984521, 880814, 182452, 894911, 31349, 410310, 572450, 98759, 345371, 323899, 399199, 171202, 128386, 1034284, 45923, 40873, 286553, 20618, 83591, 114923, 25002, 68905, 169588, 328991, 23198, 26890, 221695, 88443, 187856, 570699, 1063508, 50523, 87935, 278225, 209461, 26316, 41030, 876671, 399392, 283858, 260699, 57781, 38757, 1392288, 1109387, 581281, 1048861, 297452, 227925, 374175, 223586, 283170, 41636, 198658, 100596, 64020, 14289, 404866, 22256, 57690, 24952, 38900, 53520, 181683, 29185, 105047, 287976, 212175, 11139, 124005, 20423, 103001, 447420, 156101, 93015, 145398, 296413, 9370, 63785, 118522, 240123, 169108, 1044442, 93891, 185823, 175631, 37187, 10991, 344618, 98066, 770749, 52553, 362296, 427729, 180351, 187329, 782894, 1206533, 84494, 94257, 131060, 341603, 140749, 102525, 447952, 76355, 256598, 127476, 237603, 271091, 21743, 88970, 108362, 188596, 275080, 64647, 31265, 140147, 223120, 104869, 165177, 84194, 220581, 75804, 368986, 28194, 99961, 7573, 685781, 274222, 110503, 1447755, 358987, 826205, 550954, 378350, 492784, 327158, 9921, 59390, 1040330, 49422, 131091, 95691, 15513, 382537, 461356, 392541, 35088, 53933, 228861, 20959, 24992, 100351, 292448, 65060, 133316, 113501, 192810, 233404, 128843, 63564, 85970, 131232, 152454, 28989, 80248, 38580, 621591, 250499, 131637, 463813, 211767, 163181, 1117385, 1663441, 455248, 75589, 594267, 315281, 363456, 438983, 42563, 399035, 304680, 140596, 439986, 75803, 7073, 153586, 180815, 253169, 34453, 51550, 110018, 137584, 209825, 264222, 31202, 252991, 56265, 76923, 209332, 214094, 526209, 741143, 172827, 188873, 123126, 77794, 56630, 400844, 208572, 59004, 196253, 51858, 280764, 63660, 109289, 188440, 212496, 32574, 128595, 242234, 33154, 9773, 464036, 478480, 428812, 1177535, 426500, 54237, 506916, 250960, 2286228, 915451, 159478, 1228924, 938283, 154572, 378171, 468749, 309823, 327227, 334945, 68859, 127125, 415798, 107671, 164356, 17662, 65339, 59838, 381577, 45491, 18946, 114370, 99698, 355165, 101431, 123151, 24078, 517801, 145104, 179950, 258531, 272500, 273197, 775904, 120251, 139406, 60314, 563074, 168655, 111963, 1026304, 1391924, 147551, 66794, 118882, 148010, 932890, 718359, 433658, 29455, 23973, 126480, 138959, 68829, 49916, 76014, 50947, 55536, 318042, 213016, 182265, 1117371, 333345, 275930, 740631, 328272, 178455, 705712, 690373, 515812, 764793, 87832, 23368, 51509, 87043, 565565, 253758, 319131, 670608, 159123, 103709, 271589, 119772, 26340, 594968, 6838, 185665, 24959, 136967, 107548, 588617, 190560, 373110, 935646, 2223278, 240497, 259984, 606786, 83270, 1189509, 11471, 1705246, 418016, 30155, 990404, 187468, 208301, 101856, 48935, 13911, 511726, 177452, 149808, 390339, 8350, 39339, 8587, 24893, 1296189, 91607, 238036, 254344, 157705, 411571, 94136, 82640, 17870, 19178, 5264, 145548, 82455, 44189, 45199, 221843, 41672, 127546, 127865, 1025327, 561415, 132803, 24664, 1020561, 682143, 1247717, 146406, 905699, 1184580, 98057, 238735, 320657, 244074, 39146, 78468, 325653, 66277, 93002, 109723, 118941, 221576, 8341, 120335, 182098, 227473, 1050947, 720859, 41111, 148616, 707260, 139596, 105399, 222378, 975792, 579150, 449588, 318157, 196967, 158298, 222739, 20780, 128616, 258954, 205289, 611601, 947657, 233043, 582725, 265038, 222273, 797234, 925555, 22210, 46391, 190477, 25382, 65726, 195220, 107501, 197772, 138154, 270124, 303971, 682046, 328365, 1083259, 913929, 101586, 181053, 133419, 489573, 822023, 93176, 47229, 92263, 81551, 141037, 319501, 72741, 597419, 98768, 173165, 55823, 118451, 74424, 47929, 40801, 66017, 725043, 382776, 548250, 1358324, 662249, 559554, 320757, 906151, 699314, 850337, 1015460, 890295, 791817, 317601, 685211, 32781, 76785, 719083, 368480, 260945, 40998, 183293, 221561, 436943, 284488, 85083, 14167, 300637, 449921, 282899, 669671, 108655, 536248, 1055017, 1428421, 1088027, 288517, 202231, 73222, 348542, 1097966, 526923, 264386, 854940, 113567, 22859, 51754, 104347, 391998, 1111156, 427772, 536457, 179894, 479882, 358261, 346688, 33445, 72228, 49699, 189761, 312524, 496760, 310988, 98606, 51104, 276762, 33534, 128859, 92080, 211882, 112776, 145324, 106492, 233845, 155426, 97540, 61441, 76703, 68619, 17559, 137879, 67710, 348180, 146246, 187236, 72157, 91180, 86293, 101410, 134245, 125650, 50406, 121769, 267106, 365539, 188758, 108426, 138525, 150858, 524306, 104496, 452519, 442919, 596831, 173912, 780967, 132124, 623137, 99020, 665817, 699232, 72982, 975884, 245607, 485369, 866355, 502710, 475184, 357401, 99810, 81569, 441192, 90470, 834243, 696612, 329333, 1114711, 267316, 228629, 758340, 877535, 1357386, 280240, 419922, 402975, 1137635, 250234, 904907, 589270, 168714, 71982, 558666, 1118200, 107100, 877769, 212508, 1129773, 637549, 151531, 790253, 513161]}],\n",
              "                        {\"legend\": {\"tracegroupgap\": 0}, \"piecolorway\": [\"rgb(8,48,107)\", \"rgb(8,81,156)\", \"rgb(33,113,181)\", \"rgb(66,146,198)\", \"rgb(107,174,214)\", \"rgb(158,202,225)\", \"rgb(198,219,239)\", \"rgb(222,235,247)\", \"rgb(247,251,255)\"], \"template\": {\"data\": {\"bar\": [{\"error_x\": {\"color\": \"#2a3f5f\"}, \"error_y\": {\"color\": \"#2a3f5f\"}, \"marker\": {\"line\": {\"color\": \"#E5ECF6\", \"width\": 0.5}}, \"type\": \"bar\"}], \"barpolar\": [{\"marker\": {\"line\": {\"color\": \"#E5ECF6\", \"width\": 0.5}}, \"type\": \"barpolar\"}], \"carpet\": [{\"aaxis\": {\"endlinecolor\": \"#2a3f5f\", \"gridcolor\": \"white\", \"linecolor\": \"white\", \"minorgridcolor\": \"white\", \"startlinecolor\": \"#2a3f5f\"}, \"baxis\": {\"endlinecolor\": \"#2a3f5f\", \"gridcolor\": \"white\", \"linecolor\": \"white\", \"minorgridcolor\": \"white\", \"startlinecolor\": \"#2a3f5f\"}, \"type\": \"carpet\"}], \"choropleth\": [{\"colorbar\": {\"outlinewidth\": 0, \"ticks\": \"\"}, \"type\": \"choropleth\"}], \"contour\": [{\"colorbar\": {\"outlinewidth\": 0, \"ticks\": \"\"}, \"colorscale\": [[0.0, \"#0d0887\"], [0.1111111111111111, \"#46039f\"], [0.2222222222222222, \"#7201a8\"], [0.3333333333333333, \"#9c179e\"], [0.4444444444444444, \"#bd3786\"], [0.5555555555555556, \"#d8576b\"], [0.6666666666666666, \"#ed7953\"], [0.7777777777777778, \"#fb9f3a\"], [0.8888888888888888, \"#fdca26\"], [1.0, \"#f0f921\"]], \"type\": \"contour\"}], \"contourcarpet\": [{\"colorbar\": {\"outlinewidth\": 0, \"ticks\": \"\"}, \"type\": \"contourcarpet\"}], \"heatmap\": [{\"colorbar\": {\"outlinewidth\": 0, \"ticks\": \"\"}, \"colorscale\": [[0.0, \"#0d0887\"], [0.1111111111111111, \"#46039f\"], [0.2222222222222222, \"#7201a8\"], [0.3333333333333333, \"#9c179e\"], [0.4444444444444444, \"#bd3786\"], [0.5555555555555556, \"#d8576b\"], [0.6666666666666666, \"#ed7953\"], [0.7777777777777778, \"#fb9f3a\"], [0.8888888888888888, \"#fdca26\"], [1.0, \"#f0f921\"]], \"type\": \"heatmap\"}], \"heatmapgl\": [{\"colorbar\": {\"outlinewidth\": 0, \"ticks\": \"\"}, \"colorscale\": [[0.0, \"#0d0887\"], [0.1111111111111111, \"#46039f\"], [0.2222222222222222, \"#7201a8\"], [0.3333333333333333, \"#9c179e\"], [0.4444444444444444, \"#bd3786\"], [0.5555555555555556, \"#d8576b\"], [0.6666666666666666, \"#ed7953\"], [0.7777777777777778, \"#fb9f3a\"], [0.8888888888888888, \"#fdca26\"], [1.0, \"#f0f921\"]], \"type\": \"heatmapgl\"}], \"histogram\": [{\"marker\": {\"colorbar\": {\"outlinewidth\": 0, \"ticks\": \"\"}}, \"type\": \"histogram\"}], \"histogram2d\": [{\"colorbar\": {\"outlinewidth\": 0, \"ticks\": \"\"}, \"colorscale\": [[0.0, \"#0d0887\"], [0.1111111111111111, \"#46039f\"], [0.2222222222222222, \"#7201a8\"], [0.3333333333333333, \"#9c179e\"], [0.4444444444444444, \"#bd3786\"], [0.5555555555555556, \"#d8576b\"], [0.6666666666666666, \"#ed7953\"], [0.7777777777777778, \"#fb9f3a\"], [0.8888888888888888, \"#fdca26\"], [1.0, \"#f0f921\"]], \"type\": \"histogram2d\"}], \"histogram2dcontour\": [{\"colorbar\": {\"outlinewidth\": 0, \"ticks\": \"\"}, \"colorscale\": [[0.0, \"#0d0887\"], [0.1111111111111111, \"#46039f\"], [0.2222222222222222, \"#7201a8\"], [0.3333333333333333, \"#9c179e\"], [0.4444444444444444, \"#bd3786\"], [0.5555555555555556, \"#d8576b\"], [0.6666666666666666, \"#ed7953\"], [0.7777777777777778, \"#fb9f3a\"], [0.8888888888888888, \"#fdca26\"], [1.0, \"#f0f921\"]], \"type\": \"histogram2dcontour\"}], \"mesh3d\": [{\"colorbar\": {\"outlinewidth\": 0, \"ticks\": \"\"}, \"type\": \"mesh3d\"}], \"parcoords\": [{\"line\": {\"colorbar\": {\"outlinewidth\": 0, \"ticks\": \"\"}}, \"type\": \"parcoords\"}], \"pie\": [{\"automargin\": true, \"type\": \"pie\"}], \"scatter\": [{\"marker\": {\"colorbar\": {\"outlinewidth\": 0, \"ticks\": \"\"}}, \"type\": \"scatter\"}], \"scatter3d\": [{\"line\": {\"colorbar\": {\"outlinewidth\": 0, \"ticks\": \"\"}}, \"marker\": {\"colorbar\": {\"outlinewidth\": 0, \"ticks\": \"\"}}, \"type\": \"scatter3d\"}], \"scattercarpet\": [{\"marker\": {\"colorbar\": {\"outlinewidth\": 0, \"ticks\": \"\"}}, \"type\": \"scattercarpet\"}], \"scattergeo\": [{\"marker\": {\"colorbar\": {\"outlinewidth\": 0, \"ticks\": \"\"}}, \"type\": \"scattergeo\"}], \"scattergl\": [{\"marker\": {\"colorbar\": {\"outlinewidth\": 0, \"ticks\": \"\"}}, \"type\": \"scattergl\"}], \"scattermapbox\": [{\"marker\": {\"colorbar\": {\"outlinewidth\": 0, \"ticks\": \"\"}}, \"type\": \"scattermapbox\"}], \"scatterpolar\": [{\"marker\": {\"colorbar\": {\"outlinewidth\": 0, \"ticks\": \"\"}}, \"type\": \"scatterpolar\"}], \"scatterpolargl\": [{\"marker\": {\"colorbar\": {\"outlinewidth\": 0, \"ticks\": \"\"}}, \"type\": \"scatterpolargl\"}], \"scatterternary\": [{\"marker\": {\"colorbar\": {\"outlinewidth\": 0, \"ticks\": \"\"}}, \"type\": \"scatterternary\"}], \"surface\": [{\"colorbar\": {\"outlinewidth\": 0, \"ticks\": \"\"}, \"colorscale\": [[0.0, \"#0d0887\"], [0.1111111111111111, \"#46039f\"], [0.2222222222222222, \"#7201a8\"], [0.3333333333333333, \"#9c179e\"], [0.4444444444444444, \"#bd3786\"], [0.5555555555555556, \"#d8576b\"], [0.6666666666666666, \"#ed7953\"], [0.7777777777777778, \"#fb9f3a\"], [0.8888888888888888, \"#fdca26\"], [1.0, \"#f0f921\"]], \"type\": \"surface\"}], \"table\": [{\"cells\": {\"fill\": {\"color\": \"#EBF0F8\"}, \"line\": {\"color\": \"white\"}}, \"header\": {\"fill\": {\"color\": \"#C8D4E3\"}, \"line\": {\"color\": \"white\"}}, \"type\": \"table\"}]}, \"layout\": {\"annotationdefaults\": {\"arrowcolor\": \"#2a3f5f\", \"arrowhead\": 0, \"arrowwidth\": 1}, \"coloraxis\": {\"colorbar\": {\"outlinewidth\": 0, \"ticks\": \"\"}}, \"colorscale\": {\"diverging\": [[0, \"#8e0152\"], [0.1, \"#c51b7d\"], [0.2, \"#de77ae\"], [0.3, \"#f1b6da\"], [0.4, \"#fde0ef\"], [0.5, \"#f7f7f7\"], [0.6, \"#e6f5d0\"], [0.7, \"#b8e186\"], [0.8, \"#7fbc41\"], [0.9, \"#4d9221\"], [1, \"#276419\"]], \"sequential\": [[0.0, \"#0d0887\"], [0.1111111111111111, \"#46039f\"], [0.2222222222222222, \"#7201a8\"], [0.3333333333333333, \"#9c179e\"], [0.4444444444444444, \"#bd3786\"], [0.5555555555555556, \"#d8576b\"], [0.6666666666666666, \"#ed7953\"], [0.7777777777777778, \"#fb9f3a\"], [0.8888888888888888, \"#fdca26\"], [1.0, \"#f0f921\"]], \"sequentialminus\": [[0.0, \"#0d0887\"], [0.1111111111111111, \"#46039f\"], [0.2222222222222222, \"#7201a8\"], [0.3333333333333333, \"#9c179e\"], [0.4444444444444444, \"#bd3786\"], [0.5555555555555556, \"#d8576b\"], [0.6666666666666666, \"#ed7953\"], [0.7777777777777778, \"#fb9f3a\"], [0.8888888888888888, \"#fdca26\"], [1.0, \"#f0f921\"]]}, \"colorway\": [\"#636efa\", \"#EF553B\", \"#00cc96\", \"#ab63fa\", \"#FFA15A\", \"#19d3f3\", \"#FF6692\", \"#B6E880\", \"#FF97FF\", \"#FECB52\"], \"font\": {\"color\": \"#2a3f5f\"}, \"geo\": {\"bgcolor\": \"white\", \"lakecolor\": \"white\", \"landcolor\": \"#E5ECF6\", \"showlakes\": true, \"showland\": true, \"subunitcolor\": \"white\"}, \"hoverlabel\": {\"align\": \"left\"}, \"hovermode\": \"closest\", \"mapbox\": {\"style\": \"light\"}, \"paper_bgcolor\": \"white\", \"plot_bgcolor\": \"#E5ECF6\", \"polar\": {\"angularaxis\": {\"gridcolor\": \"white\", \"linecolor\": \"white\", \"ticks\": \"\"}, \"bgcolor\": \"#E5ECF6\", \"radialaxis\": {\"gridcolor\": \"white\", \"linecolor\": \"white\", \"ticks\": \"\"}}, \"scene\": {\"xaxis\": {\"backgroundcolor\": \"#E5ECF6\", \"gridcolor\": \"white\", \"gridwidth\": 2, \"linecolor\": \"white\", \"showbackground\": true, \"ticks\": \"\", \"zerolinecolor\": \"white\"}, \"yaxis\": {\"backgroundcolor\": \"#E5ECF6\", \"gridcolor\": \"white\", \"gridwidth\": 2, \"linecolor\": \"white\", \"showbackground\": true, \"ticks\": \"\", \"zerolinecolor\": \"white\"}, \"zaxis\": {\"backgroundcolor\": \"#E5ECF6\", \"gridcolor\": \"white\", \"gridwidth\": 2, \"linecolor\": \"white\", \"showbackground\": true, \"ticks\": \"\", \"zerolinecolor\": \"white\"}}, \"shapedefaults\": {\"line\": {\"color\": \"#2a3f5f\"}}, \"ternary\": {\"aaxis\": {\"gridcolor\": \"white\", \"linecolor\": \"white\", \"ticks\": \"\"}, \"baxis\": {\"gridcolor\": \"white\", \"linecolor\": \"white\", \"ticks\": \"\"}, \"bgcolor\": \"#E5ECF6\", \"caxis\": {\"gridcolor\": \"white\", \"linecolor\": \"white\", \"ticks\": \"\"}}, \"title\": {\"x\": 0.05}, \"xaxis\": {\"automargin\": true, \"gridcolor\": \"white\", \"linecolor\": \"white\", \"ticks\": \"\", \"title\": {\"standoff\": 15}, \"zerolinecolor\": \"white\", \"zerolinewidth\": 2}, \"yaxis\": {\"automargin\": true, \"gridcolor\": \"white\", \"linecolor\": \"white\", \"ticks\": \"\", \"title\": {\"standoff\": 15}, \"zerolinecolor\": \"white\", \"zerolinewidth\": 2}}}, \"title\": {\"text\": \"Age Vs Impressions\"}},\n",
              "                        {\"responsive\": true}\n",
              "                    ).then(function(){\n",
              "                            \n",
              "var gd = document.getElementById('dcd43bdd-1f2c-4748-a9a9-10de8b96a5dd');\n",
              "var x = new MutationObserver(function (mutations, observer) {{\n",
              "        var display = window.getComputedStyle(gd).display;\n",
              "        if (!display || display === 'none') {{\n",
              "            console.log([gd, 'removed!']);\n",
              "            Plotly.purge(gd);\n",
              "            observer.disconnect();\n",
              "        }}\n",
              "}});\n",
              "\n",
              "// Listen for the removal of the full notebook cells\n",
              "var notebookContainer = gd.closest('#notebook-container');\n",
              "if (notebookContainer) {{\n",
              "    x.observe(notebookContainer, {childList: true});\n",
              "}}\n",
              "\n",
              "// Listen for the clearing of the current output cell\n",
              "var outputEl = gd.closest('.output');\n",
              "if (outputEl) {{\n",
              "    x.observe(outputEl, {childList: true});\n",
              "}}\n",
              "\n",
              "                        })\n",
              "                };\n",
              "                \n",
              "            </script>\n",
              "        </div>\n",
              "</body>\n",
              "</html>"
            ]
          },
          "metadata": {}
        }
      ]
    },
    {
      "cell_type": "code",
      "source": [
        "#Distribution of Impressions With Respect To Gender\n",
        "px.pie(dataset,names='gender', values='Impressions',title='Gender Vs Impressions',color_discrete_sequence=px.colors.sequential.Blues_r,hole=.3)"
      ],
      "metadata": {
        "colab": {
          "base_uri": "https://localhost:8080/",
          "height": 542
        },
        "id": "tHa65SWJTy3V",
        "outputId": "0c3ce2f6-f9f2-452a-eafb-083f7ae77e10"
      },
      "execution_count": null,
      "outputs": [
        {
          "output_type": "display_data",
          "data": {
            "text/html": [
              "<html>\n",
              "<head><meta charset=\"utf-8\" /></head>\n",
              "<body>\n",
              "    <div>\n",
              "            <script src=\"https://cdnjs.cloudflare.com/ajax/libs/mathjax/2.7.5/MathJax.js?config=TeX-AMS-MML_SVG\"></script><script type=\"text/javascript\">if (window.MathJax) {MathJax.Hub.Config({SVG: {font: \"STIX-Web\"}});}</script>\n",
              "                <script type=\"text/javascript\">window.PlotlyConfig = {MathJaxConfig: 'local'};</script>\n",
              "        <script src=\"https://cdn.plot.ly/plotly-latest.min.js\"></script>    \n",
              "            <div id=\"e4dd0459-4a10-407d-8cef-388424da2518\" class=\"plotly-graph-div\" style=\"height:525px; width:100%;\"></div>\n",
              "            <script type=\"text/javascript\">\n",
              "                \n",
              "                    window.PLOTLYENV=window.PLOTLYENV || {};\n",
              "                    \n",
              "                if (document.getElementById(\"e4dd0459-4a10-407d-8cef-388424da2518\")) {\n",
              "                    Plotly.newPlot(\n",
              "                        'e4dd0459-4a10-407d-8cef-388424da2518',\n",
              "                        [{\"domain\": {\"x\": [0.0, 1.0], \"y\": [0.0, 1.0]}, \"hole\": 0.3, \"hoverlabel\": {\"namelength\": 0}, \"hovertemplate\": \"gender=%{label}<br>Impressions=%{value}\", \"labels\": [\"M\", \"M\", \"M\", \"M\", \"M\", \"M\", \"M\", \"M\", \"M\", \"M\", \"M\", \"M\", \"M\", \"M\", \"M\", \"M\", \"M\", \"M\", \"M\", \"M\", \"M\", \"M\", \"M\", \"M\", \"M\", \"M\", \"M\", \"M\", \"M\", \"M\", \"M\", \"M\", \"M\", \"M\", \"M\", \"F\", \"F\", \"F\", \"F\", \"F\", \"F\", \"F\", \"F\", \"F\", \"F\", \"F\", \"F\", \"F\", \"F\", \"F\", \"F\", \"F\", \"F\", \"F\", \"M\", \"M\", \"M\", \"M\", \"M\", \"M\", \"M\", \"M\", \"M\", \"M\", \"M\", \"M\", \"M\", \"M\", \"M\", \"M\", \"M\", \"M\", \"M\", \"M\", \"M\", \"M\", \"M\", \"F\", \"F\", \"F\", \"F\", \"F\", \"F\", \"F\", \"F\", \"F\", \"F\", \"F\", \"F\", \"F\", \"F\", \"F\", \"F\", \"F\", \"F\", \"F\", \"F\", \"F\", \"F\", \"F\", \"F\", \"F\", \"F\", \"F\", \"F\", \"F\", \"F\", \"F\", \"F\", \"F\", \"F\", \"F\", \"M\", \"M\", \"M\", \"M\", \"M\", \"M\", \"M\", \"M\", \"M\", \"M\", \"M\", \"M\", \"M\", \"M\", \"M\", \"M\", \"M\", \"F\", \"F\", \"F\", \"F\", \"F\", \"F\", \"F\", \"F\", \"F\", \"F\", \"F\", \"F\", \"F\", \"F\", \"F\", \"F\", \"F\", \"F\", \"F\", \"F\", \"F\", \"F\", \"F\", \"M\", \"M\", \"M\", \"M\", \"M\", \"M\", \"M\", \"M\", \"M\", \"M\", \"M\", \"M\", \"M\", \"M\", \"M\", \"M\", \"M\", \"M\", \"M\", \"M\", \"F\", \"F\", \"F\", \"F\", \"F\", \"F\", \"F\", \"F\", \"F\", \"F\", \"F\", \"F\", \"F\", \"F\", \"F\", \"F\", \"F\", \"F\", \"F\", \"F\", \"F\", \"F\", \"F\", \"F\", \"F\", \"F\", \"F\", \"F\", \"F\", \"F\", \"F\", \"F\", \"F\", \"F\", \"F\", \"F\", \"F\", \"F\", \"F\", \"F\", \"F\", \"F\", \"F\", \"F\", \"M\", \"F\", \"F\", \"M\", \"M\", \"M\", \"M\", \"F\", \"M\", \"F\", \"F\", \"F\", \"F\", \"F\", \"F\", \"F\", \"F\", \"F\", \"F\", \"F\", \"M\", \"M\", \"M\", \"M\", \"M\", \"M\", \"M\", \"M\", \"M\", \"M\", \"M\", \"M\", \"M\", \"M\", \"M\", \"M\", \"M\", \"M\", \"M\", \"M\", \"M\", \"M\", \"M\", \"M\", \"M\", \"M\", \"M\", \"M\", \"M\", \"M\", \"M\", \"M\", \"M\", \"M\", \"M\", \"M\", \"M\", \"M\", \"M\", \"M\", \"F\", \"M\", \"M\", \"M\", \"M\", \"M\", \"M\", \"M\", \"M\", \"M\", \"M\", \"M\", \"M\", \"M\", \"M\", \"M\", \"M\", \"M\", \"M\", \"M\", \"M\", \"M\", \"M\", \"M\", \"M\", \"M\", \"M\", \"M\", \"M\", \"M\", \"F\", \"F\", \"F\", \"F\", \"F\", \"M\", \"M\", \"F\", \"M\", \"M\", \"M\", \"F\", \"M\", \"M\", \"M\", \"M\", \"F\", \"M\", \"F\", \"M\", \"M\", \"F\", \"M\", \"F\", \"F\", \"M\", \"M\", \"F\", \"F\", \"F\", \"F\", \"F\", \"F\", \"F\", \"F\", \"F\", \"F\", \"F\", \"M\", \"M\", \"F\", \"F\", \"F\", \"M\", \"M\", \"F\", \"F\", \"F\", \"F\", \"F\", \"F\", \"F\", \"F\", \"F\", \"F\", \"F\", \"F\", \"F\", \"F\", \"F\", \"F\", \"F\", \"F\", \"F\", \"F\", \"F\", \"F\", \"F\", \"F\", \"F\", \"F\", \"F\", \"F\", \"F\", \"F\", \"F\", \"F\", \"F\", \"F\", \"F\", \"F\", \"F\", \"F\", \"M\", \"M\", \"M\", \"F\", \"F\", \"F\", \"M\", \"F\", \"F\", \"M\", \"M\", \"F\", \"M\", \"M\", \"F\", \"M\", \"M\", \"F\", \"F\", \"F\", \"F\", \"F\", \"F\", \"M\", \"M\", \"F\", \"F\", \"F\", \"F\", \"F\", \"F\", \"F\", \"M\", \"F\", \"M\", \"F\", \"F\", \"F\", \"F\", \"F\", \"F\", \"M\", \"M\", \"M\", \"M\", \"M\", \"M\", \"M\", \"M\", \"M\", \"M\", \"M\", \"M\", \"M\", \"M\", \"M\", \"M\", \"M\", \"M\", \"M\", \"M\", \"M\", \"M\", \"M\", \"M\", \"M\", \"M\", \"M\", \"M\", \"M\", \"M\", \"M\", \"M\", \"M\", \"M\", \"M\", \"M\", \"M\", \"F\", \"F\", \"F\", \"F\", \"F\", \"F\", \"M\", \"M\", \"M\", \"F\", \"F\", \"F\", \"F\", \"F\", \"F\", \"F\", \"F\", \"F\", \"F\", \"F\", \"F\", \"F\", \"F\", \"F\", \"F\", \"F\", \"F\", \"F\", \"F\", \"F\", \"F\", \"F\", \"F\", \"F\", \"F\", \"F\", \"F\", \"F\", \"F\", \"F\", \"F\", \"F\", \"F\", \"F\", \"F\", \"F\", \"F\", \"F\", \"F\", \"F\", \"F\", \"M\", \"M\", \"M\", \"M\", \"M\", \"M\", \"M\", \"M\", \"M\", \"M\", \"M\", \"M\", \"M\", \"M\", \"M\", \"M\", \"M\", \"M\", \"M\", \"M\", \"M\", \"M\", \"M\", \"M\", \"M\", \"M\", \"M\", \"M\", \"M\", \"M\", \"M\", \"M\", \"M\", \"M\", \"M\", \"M\", \"M\", \"M\", \"M\", \"M\", \"M\", \"M\", \"M\", \"M\", \"M\", \"M\", \"M\", \"M\", \"M\", \"M\", \"M\", \"M\", \"M\", \"M\", \"M\", \"M\", \"M\", \"M\", \"M\", \"M\", \"M\", \"M\", \"M\", \"M\", \"M\", \"M\", \"M\", \"M\", \"M\", \"M\", \"M\", \"M\", \"M\", \"M\", \"M\", \"M\", \"M\", \"M\", \"M\", \"M\", \"M\", \"M\", \"M\", \"M\", \"M\", \"M\", \"M\", \"M\", \"M\", \"M\", \"M\", \"M\", \"M\", \"M\", \"M\", \"M\", \"M\", \"M\", \"M\", \"M\", \"M\", \"M\", \"M\", \"M\", \"M\", \"M\", \"M\", \"M\", \"M\", \"M\", \"M\", \"M\", \"M\", \"M\", \"M\", \"M\", \"M\", \"M\", \"M\", \"M\", \"M\", \"M\", \"M\", \"M\", \"M\", \"M\", \"M\", \"M\", \"M\", \"M\", \"M\", \"M\", \"M\", \"M\", \"M\", \"M\", \"M\", \"M\", \"M\", \"M\", \"M\", \"M\", \"M\", \"M\", \"M\", \"M\", \"M\", \"M\", \"M\", \"M\", \"M\", \"M\", \"M\", \"M\", \"M\", \"M\", \"M\", \"M\", \"M\", \"M\", \"M\", \"M\", \"M\", \"M\", \"M\", \"M\", \"M\", \"M\", \"M\", \"M\", \"M\", \"M\", \"M\", \"M\", \"M\", \"M\", \"M\", \"M\", \"M\", \"M\", \"M\", \"M\", \"M\", \"M\", \"M\", \"M\", \"M\", \"M\", \"M\", \"M\", \"M\", \"M\", \"M\", \"M\", \"M\", \"M\", \"M\", \"M\", \"M\", \"M\", \"M\", \"M\", \"M\", \"M\", \"M\", \"M\", \"M\", \"M\", \"M\", \"M\", \"M\", \"M\", \"M\", \"M\", \"M\", \"M\", \"M\", \"M\", \"M\", \"M\", \"M\", \"M\", \"M\", \"M\", \"M\", \"M\", \"M\", \"M\", \"M\", \"M\", \"M\", \"M\", \"M\", \"M\", \"M\", \"M\", \"M\", \"M\", \"M\", \"M\", \"M\", \"M\", \"M\", \"M\", \"M\", \"M\", \"M\", \"M\", \"M\", \"M\", \"M\", \"M\", \"M\", \"M\", \"M\", \"M\", \"M\", \"M\", \"M\", \"M\", \"M\", \"M\", \"M\", \"M\", \"M\", \"M\", \"M\", \"M\", \"M\", \"M\", \"M\", \"M\", \"M\", \"M\", \"M\", \"M\", \"M\", \"M\", \"M\", \"M\", \"M\", \"M\", \"M\", \"M\", \"M\", \"M\", \"M\", \"M\", \"M\", \"M\", \"M\", \"M\", \"M\", \"M\", \"M\", \"M\", \"M\", \"M\", \"M\", \"M\", \"M\", \"M\", \"M\", \"M\", \"M\", \"M\", \"F\", \"F\", \"F\", \"F\", \"F\", \"F\", \"F\", \"F\", \"F\", \"F\", \"F\", \"F\", \"F\", \"F\", \"F\", \"F\", \"F\", \"F\", \"F\", \"F\", \"F\", \"F\", \"F\", \"F\", \"F\", \"F\", \"F\", \"F\", \"F\", \"F\", \"F\", \"F\", \"F\", \"F\", \"F\", \"F\", \"F\", \"F\", \"F\", \"F\", \"F\", \"F\", \"F\", \"F\", \"F\", \"F\", \"F\", \"F\", \"F\", \"F\", \"F\", \"F\", \"F\", \"F\", \"F\", \"F\", \"F\", \"F\", \"F\", \"F\", \"F\", \"F\", \"F\", \"F\", \"F\", \"F\", \"F\", \"F\", \"F\", \"F\", \"F\", \"F\", \"F\", \"F\", \"F\", \"F\", \"F\", \"F\", \"F\", \"F\", \"F\", \"F\", \"F\", \"F\", \"F\", \"F\", \"F\", \"F\", \"F\", \"F\", \"F\", \"F\", \"F\", \"F\", \"F\", \"F\", \"F\", \"F\", \"F\", \"F\", \"F\", \"F\", \"F\", \"F\", \"F\", \"F\", \"F\", \"F\", \"F\", \"F\", \"F\", \"F\", \"F\", \"F\", \"F\", \"F\", \"F\", \"F\", \"F\", \"F\", \"F\", \"F\", \"F\", \"F\", \"F\", \"F\", \"F\", \"F\", \"F\", \"F\", \"F\", \"F\", \"F\", \"F\", \"F\", \"F\", \"F\", \"F\", \"F\", \"F\", \"F\", \"F\", \"F\", \"F\", \"F\", \"F\", \"F\", \"F\", \"F\", \"F\", \"F\", \"F\", \"F\", \"F\", \"F\", \"F\", \"F\", \"F\", \"F\", \"F\", \"F\", \"F\", \"F\", \"F\", \"F\", \"F\", \"F\", \"F\", \"F\", \"F\", \"F\", \"F\", \"F\", \"F\", \"F\", \"F\", \"F\", \"F\", \"F\", \"F\", \"F\", \"F\", \"F\", \"F\", \"F\", \"F\", \"F\", \"F\", \"F\", \"F\", \"F\", \"F\", \"F\", \"F\", \"F\", \"F\", \"F\", \"F\", \"F\", \"F\", \"F\", \"F\", \"F\", \"F\", \"F\", \"F\", \"F\", \"F\", \"F\", \"F\", \"F\", \"F\", \"F\", \"F\", \"F\", \"F\", \"F\", \"F\", \"F\", \"F\", \"F\", \"F\", \"F\", \"F\", \"M\", \"M\", \"M\", \"M\", \"M\", \"M\", \"M\", \"M\", \"M\", \"M\", \"M\", \"M\", \"M\", \"M\", \"M\", \"M\", \"M\", \"M\", \"M\", \"M\", \"M\", \"M\", \"M\", \"M\", \"M\", \"M\", \"M\", \"M\", \"M\", \"M\", \"M\", \"M\", \"M\", \"M\", \"M\", \"M\", \"M\", \"M\", \"M\", \"M\", \"M\", \"M\", \"M\", \"F\", \"F\", \"F\", \"F\", \"F\", \"F\", \"F\", \"F\", \"F\", \"F\", \"F\", \"F\", \"F\", \"F\", \"F\", \"F\", \"F\", \"F\", \"F\", \"F\", \"F\", \"F\", \"F\", \"F\", \"F\", \"F\", \"F\", \"F\", \"F\", \"F\", \"F\", \"F\", \"F\", \"F\", \"F\", \"F\", \"F\", \"F\", \"F\", \"F\", \"F\", \"F\", \"F\", \"F\", \"F\", \"F\", \"F\", \"F\", \"F\", \"F\", \"F\", \"F\"], \"legendgroup\": \"\", \"name\": \"\", \"showlegend\": true, \"type\": \"pie\", \"values\": [7350, 17861, 693, 4259, 4133, 1915, 15615, 10951, 2355, 9502, 1224, 735, 5117, 5120, 14669, 1241, 2305, 1024, 4627, 21026, 1422, 7132, 12190, 12193, 3332, 559, 7440, 19113, 10976, 2861, 1398, 23817, 47224, 2283, 2182, 2654, 57665, 3091, 5014, 38726, 1473, 1186, 5369, 22221, 1185, 13019, 2508, 5864, 2783, 3812, 11199, 292, 17572, 1448, 1772, 13329, 13659, 739, 605, 1030, 5374, 790, 962, 4423, 12382, 2938, 239, 591, 10332, 8259, 12158, 7709, 834, 1299, 371, 10466, 839, 5576, 4010, 39337, 1635, 1631, 13479, 57022, 5453, 11803, 4259, 1554, 5323, 5024, 104648, 8504, 20277, 12403, 498, 652, 1357, 1393, 648, 708, 6907, 39035, 926, 4412, 9965, 73634, 69708, 530, 14257, 20362, 12215, 85412, 2338, 2522, 3587, 1273, 3891, 1888, 1895, 715, 11199, 5676, 1415, 2148, 45401, 7478, 4919, 533, 1447, 17553, 3343, 523, 1873, 34740, 658, 1539, 3010, 27081, 20233, 147159, 21664, 9112, 542, 402, 1338, 46150, 493821, 92011, 12956, 529, 944, 111090, 7208, 1746, 2474, 12489, 8032, 472, 792, 4607, 13355, 2936, 2793, 1032, 1662, 4016, 14843, 9674, 12186, 673, 370, 450, 2077, 31393, 8410, 25884, 608, 28488, 10126, 22572, 1955, 493, 1491, 1495, 512, 4868, 6585, 10164, 11182, 1238, 34127, 29466, 38759, 41720, 18602, 83929, 25194, 78627, 102695, 82827, 9240, 7706, 7821, 1363, 3569, 119063, 99078, 452398, 191223, 22216, 48291, 27559, 10194, 1168, 40126, 3659, 3200, 7550, 45397, 23086, 16425, 43756, 9982, 175389, 7015, 12706, 70702, 63927, 15105, 8774, 14459, 21596, 66765, 1369, 26910, 506, 11988, 19353, 10960, 33491, 20083, 8817, 15466, 27072, 15753, 3523, 7745, 18709, 8022, 7966, 4132, 12785, 8213, 545, 2479, 3812, 1609, 10257, 12356, 7410, 140098, 107021, 2797, 16461, 17488, 9750, 1136, 4333, 6260, 6359, 2383, 11292, 12729, 1898, 1882, 2883, 3989, 19603, 3047, 3029, 3490, 2479, 19581, 19537, 59433, 157534, 1781, 23769, 7101, 4726, 5209, 13473, 500, 4616, 3279, 3288, 14615, 56615, 11735, 15910, 11446, 4595, 4871, 3199, 9388, 17954, 2755, 8152, 74542, 6699, 11911, 10090, 1273, 24188, 2214, 9735, 1371, 10750, 7629, 4608, 3732, 7453, 41785, 8077, 5602, 6184, 1738, 112460, 4414, 14670, 33144, 4397, 1006, 89527, 2459, 7116, 8613, 9730, 51816, 27289, 20409, 8044, 15645, 2466, 11611, 9375, 4402, 8469, 5823, 2549, 25817, 1961, 2554, 4971, 1030, 162341, 24542, 2879, 13621, 6175, 2963, 9076, 20941, 3462, 4073, 3745, 830, 2912, 17167, 24491, 44699, 6469, 16053, 54724, 4706, 8316, 5794, 4813, 85285, 5839, 5859, 164118, 18234, 2755, 73676, 18421, 164754, 7449, 6424, 2086, 6016, 6412, 5040, 1772, 1783, 8200, 115896, 10186, 9134, 3385, 1314, 2916, 6142, 1984, 9142, 5475, 8254, 5704, 7301, 37873, 25267, 535, 3396, 977, 12318, 4783, 6475, 104578, 33664, 979, 7337, 2499, 11244, 4827, 29035, 761, 6532, 11537, 12183, 5912, 4012, 12396, 3142, 1120, 343, 1720, 3423, 3242, 15720, 1217, 2367, 6607, 616, 5537, 818, 1909, 351, 572, 1884, 219, 540, 550, 465, 1761, 152, 152, 429, 1514, 7780, 460, 471, 2633, 199, 398, 246, 2967, 255, 457, 5517, 1539, 3189, 3348, 20050, 2254, 5894, 9948, 5307, 4621, 784, 5775, 9297, 699, 1104, 3717, 2879, 2749, 24028, 1118, 1083, 843, 2983, 696, 7589, 20997, 4617, 259, 1134, 357, 848, 3149, 87, 2563, 1107, 10677, 2189, 3277, 781, 2226, 16274, 2077, 529, 487, 4626, 2764, 5447, 28169, 415, 810, 1194718, 637648, 24362, 459690, 750060, 30068, 1267550, 3052003, 29945, 357856, 2080666, 145999, 32616, 984521, 880814, 182452, 894911, 31349, 410310, 572450, 98759, 345371, 323899, 399199, 171202, 128386, 1034284, 45923, 40873, 286553, 20618, 83591, 114923, 25002, 68905, 169588, 328991, 23198, 26890, 221695, 88443, 187856, 570699, 1063508, 50523, 87935, 278225, 209461, 26316, 41030, 876671, 399392, 283858, 260699, 57781, 38757, 1392288, 1109387, 581281, 1048861, 297452, 227925, 374175, 223586, 283170, 41636, 198658, 100596, 64020, 14289, 404866, 22256, 57690, 24952, 38900, 53520, 181683, 29185, 105047, 287976, 212175, 11139, 124005, 20423, 103001, 447420, 156101, 93015, 145398, 296413, 9370, 63785, 118522, 240123, 169108, 1044442, 93891, 185823, 175631, 37187, 10991, 344618, 98066, 770749, 52553, 362296, 427729, 180351, 187329, 782894, 1206533, 84494, 94257, 131060, 341603, 140749, 102525, 447952, 76355, 256598, 127476, 237603, 271091, 21743, 88970, 108362, 188596, 275080, 64647, 31265, 140147, 223120, 104869, 165177, 84194, 220581, 75804, 368986, 28194, 99961, 7573, 685781, 274222, 110503, 1447755, 358987, 826205, 550954, 378350, 492784, 327158, 9921, 59390, 1040330, 49422, 131091, 95691, 15513, 382537, 461356, 392541, 35088, 53933, 228861, 20959, 24992, 100351, 292448, 65060, 133316, 113501, 192810, 233404, 128843, 63564, 85970, 131232, 152454, 28989, 80248, 38580, 621591, 250499, 131637, 463813, 211767, 163181, 1117385, 1663441, 455248, 75589, 594267, 315281, 363456, 438983, 42563, 399035, 304680, 140596, 439986, 75803, 7073, 153586, 180815, 253169, 34453, 51550, 110018, 137584, 209825, 264222, 31202, 252991, 56265, 76923, 209332, 214094, 526209, 741143, 172827, 188873, 123126, 77794, 56630, 400844, 208572, 59004, 196253, 51858, 280764, 63660, 109289, 188440, 212496, 32574, 128595, 242234, 33154, 9773, 464036, 478480, 428812, 1177535, 426500, 54237, 506916, 250960, 2286228, 915451, 159478, 1228924, 938283, 154572, 378171, 468749, 309823, 327227, 334945, 68859, 127125, 415798, 107671, 164356, 17662, 65339, 59838, 381577, 45491, 18946, 114370, 99698, 355165, 101431, 123151, 24078, 517801, 145104, 179950, 258531, 272500, 273197, 775904, 120251, 139406, 60314, 563074, 168655, 111963, 1026304, 1391924, 147551, 66794, 118882, 148010, 932890, 718359, 433658, 29455, 23973, 126480, 138959, 68829, 49916, 76014, 50947, 55536, 318042, 213016, 182265, 1117371, 333345, 275930, 740631, 328272, 178455, 705712, 690373, 515812, 764793, 87832, 23368, 51509, 87043, 565565, 253758, 319131, 670608, 159123, 103709, 271589, 119772, 26340, 594968, 6838, 185665, 24959, 136967, 107548, 588617, 190560, 373110, 935646, 2223278, 240497, 259984, 606786, 83270, 1189509, 11471, 1705246, 418016, 30155, 990404, 187468, 208301, 101856, 48935, 13911, 511726, 177452, 149808, 390339, 8350, 39339, 8587, 24893, 1296189, 91607, 238036, 254344, 157705, 411571, 94136, 82640, 17870, 19178, 5264, 145548, 82455, 44189, 45199, 221843, 41672, 127546, 127865, 1025327, 561415, 132803, 24664, 1020561, 682143, 1247717, 146406, 905699, 1184580, 98057, 238735, 320657, 244074, 39146, 78468, 325653, 66277, 93002, 109723, 118941, 221576, 8341, 120335, 182098, 227473, 1050947, 720859, 41111, 148616, 707260, 139596, 105399, 222378, 975792, 579150, 449588, 318157, 196967, 158298, 222739, 20780, 128616, 258954, 205289, 611601, 947657, 233043, 582725, 265038, 222273, 797234, 925555, 22210, 46391, 190477, 25382, 65726, 195220, 107501, 197772, 138154, 270124, 303971, 682046, 328365, 1083259, 913929, 101586, 181053, 133419, 489573, 822023, 93176, 47229, 92263, 81551, 141037, 319501, 72741, 597419, 98768, 173165, 55823, 118451, 74424, 47929, 40801, 66017, 725043, 382776, 548250, 1358324, 662249, 559554, 320757, 906151, 699314, 850337, 1015460, 890295, 791817, 317601, 685211, 32781, 76785, 719083, 368480, 260945, 40998, 183293, 221561, 436943, 284488, 85083, 14167, 300637, 449921, 282899, 669671, 108655, 536248, 1055017, 1428421, 1088027, 288517, 202231, 73222, 348542, 1097966, 526923, 264386, 854940, 113567, 22859, 51754, 104347, 391998, 1111156, 427772, 536457, 179894, 479882, 358261, 346688, 33445, 72228, 49699, 189761, 312524, 496760, 310988, 98606, 51104, 276762, 33534, 128859, 92080, 211882, 112776, 145324, 106492, 233845, 155426, 97540, 61441, 76703, 68619, 17559, 137879, 67710, 348180, 146246, 187236, 72157, 91180, 86293, 101410, 134245, 125650, 50406, 121769, 267106, 365539, 188758, 108426, 138525, 150858, 524306, 104496, 452519, 442919, 596831, 173912, 780967, 132124, 623137, 99020, 665817, 699232, 72982, 975884, 245607, 485369, 866355, 502710, 475184, 357401, 99810, 81569, 441192, 90470, 834243, 696612, 329333, 1114711, 267316, 228629, 758340, 877535, 1357386, 280240, 419922, 402975, 1137635, 250234, 904907, 589270, 168714, 71982, 558666, 1118200, 107100, 877769, 212508, 1129773, 637549, 151531, 790253, 513161]}],\n",
              "                        {\"legend\": {\"tracegroupgap\": 0}, \"piecolorway\": [\"rgb(8,48,107)\", \"rgb(8,81,156)\", \"rgb(33,113,181)\", \"rgb(66,146,198)\", \"rgb(107,174,214)\", \"rgb(158,202,225)\", \"rgb(198,219,239)\", \"rgb(222,235,247)\", \"rgb(247,251,255)\"], \"template\": {\"data\": {\"bar\": [{\"error_x\": {\"color\": \"#2a3f5f\"}, \"error_y\": {\"color\": \"#2a3f5f\"}, \"marker\": {\"line\": {\"color\": \"#E5ECF6\", \"width\": 0.5}}, \"type\": \"bar\"}], \"barpolar\": [{\"marker\": {\"line\": {\"color\": \"#E5ECF6\", \"width\": 0.5}}, \"type\": \"barpolar\"}], \"carpet\": [{\"aaxis\": {\"endlinecolor\": \"#2a3f5f\", \"gridcolor\": \"white\", \"linecolor\": \"white\", \"minorgridcolor\": \"white\", \"startlinecolor\": \"#2a3f5f\"}, \"baxis\": {\"endlinecolor\": \"#2a3f5f\", \"gridcolor\": \"white\", \"linecolor\": \"white\", \"minorgridcolor\": \"white\", \"startlinecolor\": \"#2a3f5f\"}, \"type\": \"carpet\"}], \"choropleth\": [{\"colorbar\": {\"outlinewidth\": 0, \"ticks\": \"\"}, \"type\": \"choropleth\"}], \"contour\": [{\"colorbar\": {\"outlinewidth\": 0, \"ticks\": \"\"}, \"colorscale\": [[0.0, \"#0d0887\"], [0.1111111111111111, \"#46039f\"], [0.2222222222222222, \"#7201a8\"], [0.3333333333333333, \"#9c179e\"], [0.4444444444444444, \"#bd3786\"], [0.5555555555555556, \"#d8576b\"], [0.6666666666666666, \"#ed7953\"], [0.7777777777777778, \"#fb9f3a\"], [0.8888888888888888, \"#fdca26\"], [1.0, \"#f0f921\"]], \"type\": \"contour\"}], \"contourcarpet\": [{\"colorbar\": {\"outlinewidth\": 0, \"ticks\": \"\"}, \"type\": \"contourcarpet\"}], \"heatmap\": [{\"colorbar\": {\"outlinewidth\": 0, \"ticks\": \"\"}, \"colorscale\": [[0.0, \"#0d0887\"], [0.1111111111111111, \"#46039f\"], [0.2222222222222222, \"#7201a8\"], [0.3333333333333333, \"#9c179e\"], [0.4444444444444444, \"#bd3786\"], [0.5555555555555556, \"#d8576b\"], [0.6666666666666666, \"#ed7953\"], [0.7777777777777778, \"#fb9f3a\"], [0.8888888888888888, \"#fdca26\"], [1.0, \"#f0f921\"]], \"type\": \"heatmap\"}], \"heatmapgl\": [{\"colorbar\": {\"outlinewidth\": 0, \"ticks\": \"\"}, \"colorscale\": [[0.0, \"#0d0887\"], [0.1111111111111111, \"#46039f\"], [0.2222222222222222, \"#7201a8\"], [0.3333333333333333, \"#9c179e\"], [0.4444444444444444, \"#bd3786\"], [0.5555555555555556, \"#d8576b\"], [0.6666666666666666, \"#ed7953\"], [0.7777777777777778, \"#fb9f3a\"], [0.8888888888888888, \"#fdca26\"], [1.0, \"#f0f921\"]], \"type\": \"heatmapgl\"}], \"histogram\": [{\"marker\": {\"colorbar\": {\"outlinewidth\": 0, \"ticks\": \"\"}}, \"type\": \"histogram\"}], \"histogram2d\": [{\"colorbar\": {\"outlinewidth\": 0, \"ticks\": \"\"}, \"colorscale\": [[0.0, \"#0d0887\"], [0.1111111111111111, \"#46039f\"], [0.2222222222222222, \"#7201a8\"], [0.3333333333333333, \"#9c179e\"], [0.4444444444444444, \"#bd3786\"], [0.5555555555555556, \"#d8576b\"], [0.6666666666666666, \"#ed7953\"], [0.7777777777777778, \"#fb9f3a\"], [0.8888888888888888, \"#fdca26\"], [1.0, \"#f0f921\"]], \"type\": \"histogram2d\"}], \"histogram2dcontour\": [{\"colorbar\": {\"outlinewidth\": 0, \"ticks\": \"\"}, \"colorscale\": [[0.0, \"#0d0887\"], [0.1111111111111111, \"#46039f\"], [0.2222222222222222, \"#7201a8\"], [0.3333333333333333, \"#9c179e\"], [0.4444444444444444, \"#bd3786\"], [0.5555555555555556, \"#d8576b\"], [0.6666666666666666, \"#ed7953\"], [0.7777777777777778, \"#fb9f3a\"], [0.8888888888888888, \"#fdca26\"], [1.0, \"#f0f921\"]], \"type\": \"histogram2dcontour\"}], \"mesh3d\": [{\"colorbar\": {\"outlinewidth\": 0, \"ticks\": \"\"}, \"type\": \"mesh3d\"}], \"parcoords\": [{\"line\": {\"colorbar\": {\"outlinewidth\": 0, \"ticks\": \"\"}}, \"type\": \"parcoords\"}], \"pie\": [{\"automargin\": true, \"type\": \"pie\"}], \"scatter\": [{\"marker\": {\"colorbar\": {\"outlinewidth\": 0, \"ticks\": \"\"}}, \"type\": \"scatter\"}], \"scatter3d\": [{\"line\": {\"colorbar\": {\"outlinewidth\": 0, \"ticks\": \"\"}}, \"marker\": {\"colorbar\": {\"outlinewidth\": 0, \"ticks\": \"\"}}, \"type\": \"scatter3d\"}], \"scattercarpet\": [{\"marker\": {\"colorbar\": {\"outlinewidth\": 0, \"ticks\": \"\"}}, \"type\": \"scattercarpet\"}], \"scattergeo\": [{\"marker\": {\"colorbar\": {\"outlinewidth\": 0, \"ticks\": \"\"}}, \"type\": \"scattergeo\"}], \"scattergl\": [{\"marker\": {\"colorbar\": {\"outlinewidth\": 0, \"ticks\": \"\"}}, \"type\": \"scattergl\"}], \"scattermapbox\": [{\"marker\": {\"colorbar\": {\"outlinewidth\": 0, \"ticks\": \"\"}}, \"type\": \"scattermapbox\"}], \"scatterpolar\": [{\"marker\": {\"colorbar\": {\"outlinewidth\": 0, \"ticks\": \"\"}}, \"type\": \"scatterpolar\"}], \"scatterpolargl\": [{\"marker\": {\"colorbar\": {\"outlinewidth\": 0, \"ticks\": \"\"}}, \"type\": \"scatterpolargl\"}], \"scatterternary\": [{\"marker\": {\"colorbar\": {\"outlinewidth\": 0, \"ticks\": \"\"}}, \"type\": \"scatterternary\"}], \"surface\": [{\"colorbar\": {\"outlinewidth\": 0, \"ticks\": \"\"}, \"colorscale\": [[0.0, \"#0d0887\"], [0.1111111111111111, \"#46039f\"], [0.2222222222222222, \"#7201a8\"], [0.3333333333333333, \"#9c179e\"], [0.4444444444444444, \"#bd3786\"], [0.5555555555555556, \"#d8576b\"], [0.6666666666666666, \"#ed7953\"], [0.7777777777777778, \"#fb9f3a\"], [0.8888888888888888, \"#fdca26\"], [1.0, \"#f0f921\"]], \"type\": \"surface\"}], \"table\": [{\"cells\": {\"fill\": {\"color\": \"#EBF0F8\"}, \"line\": {\"color\": \"white\"}}, \"header\": {\"fill\": {\"color\": \"#C8D4E3\"}, \"line\": {\"color\": \"white\"}}, \"type\": \"table\"}]}, \"layout\": {\"annotationdefaults\": {\"arrowcolor\": \"#2a3f5f\", \"arrowhead\": 0, \"arrowwidth\": 1}, \"coloraxis\": {\"colorbar\": {\"outlinewidth\": 0, \"ticks\": \"\"}}, \"colorscale\": {\"diverging\": [[0, \"#8e0152\"], [0.1, \"#c51b7d\"], [0.2, \"#de77ae\"], [0.3, \"#f1b6da\"], [0.4, \"#fde0ef\"], [0.5, \"#f7f7f7\"], [0.6, \"#e6f5d0\"], [0.7, \"#b8e186\"], [0.8, \"#7fbc41\"], [0.9, \"#4d9221\"], [1, \"#276419\"]], \"sequential\": [[0.0, \"#0d0887\"], [0.1111111111111111, \"#46039f\"], [0.2222222222222222, \"#7201a8\"], [0.3333333333333333, \"#9c179e\"], [0.4444444444444444, \"#bd3786\"], [0.5555555555555556, \"#d8576b\"], [0.6666666666666666, \"#ed7953\"], [0.7777777777777778, \"#fb9f3a\"], [0.8888888888888888, \"#fdca26\"], [1.0, \"#f0f921\"]], \"sequentialminus\": [[0.0, \"#0d0887\"], [0.1111111111111111, \"#46039f\"], [0.2222222222222222, \"#7201a8\"], [0.3333333333333333, \"#9c179e\"], [0.4444444444444444, \"#bd3786\"], [0.5555555555555556, \"#d8576b\"], [0.6666666666666666, \"#ed7953\"], [0.7777777777777778, \"#fb9f3a\"], [0.8888888888888888, \"#fdca26\"], [1.0, \"#f0f921\"]]}, \"colorway\": [\"#636efa\", \"#EF553B\", \"#00cc96\", \"#ab63fa\", \"#FFA15A\", \"#19d3f3\", \"#FF6692\", \"#B6E880\", \"#FF97FF\", \"#FECB52\"], \"font\": {\"color\": \"#2a3f5f\"}, \"geo\": {\"bgcolor\": \"white\", \"lakecolor\": \"white\", \"landcolor\": \"#E5ECF6\", \"showlakes\": true, \"showland\": true, \"subunitcolor\": \"white\"}, \"hoverlabel\": {\"align\": \"left\"}, \"hovermode\": \"closest\", \"mapbox\": {\"style\": \"light\"}, \"paper_bgcolor\": \"white\", \"plot_bgcolor\": \"#E5ECF6\", \"polar\": {\"angularaxis\": {\"gridcolor\": \"white\", \"linecolor\": \"white\", \"ticks\": \"\"}, \"bgcolor\": \"#E5ECF6\", \"radialaxis\": {\"gridcolor\": \"white\", \"linecolor\": \"white\", \"ticks\": \"\"}}, \"scene\": {\"xaxis\": {\"backgroundcolor\": \"#E5ECF6\", \"gridcolor\": \"white\", \"gridwidth\": 2, \"linecolor\": \"white\", \"showbackground\": true, \"ticks\": \"\", \"zerolinecolor\": \"white\"}, \"yaxis\": {\"backgroundcolor\": \"#E5ECF6\", \"gridcolor\": \"white\", \"gridwidth\": 2, \"linecolor\": \"white\", \"showbackground\": true, \"ticks\": \"\", \"zerolinecolor\": \"white\"}, \"zaxis\": {\"backgroundcolor\": \"#E5ECF6\", \"gridcolor\": \"white\", \"gridwidth\": 2, \"linecolor\": \"white\", \"showbackground\": true, \"ticks\": \"\", \"zerolinecolor\": \"white\"}}, \"shapedefaults\": {\"line\": {\"color\": \"#2a3f5f\"}}, \"ternary\": {\"aaxis\": {\"gridcolor\": \"white\", \"linecolor\": \"white\", \"ticks\": \"\"}, \"baxis\": {\"gridcolor\": \"white\", \"linecolor\": \"white\", \"ticks\": \"\"}, \"bgcolor\": \"#E5ECF6\", \"caxis\": {\"gridcolor\": \"white\", \"linecolor\": \"white\", \"ticks\": \"\"}}, \"title\": {\"x\": 0.05}, \"xaxis\": {\"automargin\": true, \"gridcolor\": \"white\", \"linecolor\": \"white\", \"ticks\": \"\", \"title\": {\"standoff\": 15}, \"zerolinecolor\": \"white\", \"zerolinewidth\": 2}, \"yaxis\": {\"automargin\": true, \"gridcolor\": \"white\", \"linecolor\": \"white\", \"ticks\": \"\", \"title\": {\"standoff\": 15}, \"zerolinecolor\": \"white\", \"zerolinewidth\": 2}}}, \"title\": {\"text\": \"Gender Vs Impressions\"}},\n",
              "                        {\"responsive\": true}\n",
              "                    ).then(function(){\n",
              "                            \n",
              "var gd = document.getElementById('e4dd0459-4a10-407d-8cef-388424da2518');\n",
              "var x = new MutationObserver(function (mutations, observer) {{\n",
              "        var display = window.getComputedStyle(gd).display;\n",
              "        if (!display || display === 'none') {{\n",
              "            console.log([gd, 'removed!']);\n",
              "            Plotly.purge(gd);\n",
              "            observer.disconnect();\n",
              "        }}\n",
              "}});\n",
              "\n",
              "// Listen for the removal of the full notebook cells\n",
              "var notebookContainer = gd.closest('#notebook-container');\n",
              "if (notebookContainer) {{\n",
              "    x.observe(notebookContainer, {childList: true});\n",
              "}}\n",
              "\n",
              "// Listen for the clearing of the current output cell\n",
              "var outputEl = gd.closest('.output');\n",
              "if (outputEl) {{\n",
              "    x.observe(outputEl, {childList: true});\n",
              "}}\n",
              "\n",
              "                        })\n",
              "                };\n",
              "                \n",
              "            </script>\n",
              "        </div>\n",
              "</body>\n",
              "</html>"
            ]
          },
          "metadata": {}
        }
      ]
    },
    {
      "cell_type": "code",
      "source": [
        "#Distribution of  Spendings With Respect To Age\n",
        "px.pie(dataset,names='age', values='Spent', title='Age Vs Spendings',color_discrete_sequence=px.colors.sequential.Blues_r)"
      ],
      "metadata": {
        "colab": {
          "base_uri": "https://localhost:8080/",
          "height": 542
        },
        "id": "-6FW2HVRIBKd",
        "outputId": "ec869b3a-6244-4fe1-b900-5928f682e530"
      },
      "execution_count": null,
      "outputs": [
        {
          "output_type": "display_data",
          "data": {
            "text/html": [
              "<html>\n",
              "<head><meta charset=\"utf-8\" /></head>\n",
              "<body>\n",
              "    <div>\n",
              "            <script src=\"https://cdnjs.cloudflare.com/ajax/libs/mathjax/2.7.5/MathJax.js?config=TeX-AMS-MML_SVG\"></script><script type=\"text/javascript\">if (window.MathJax) {MathJax.Hub.Config({SVG: {font: \"STIX-Web\"}});}</script>\n",
              "                <script type=\"text/javascript\">window.PlotlyConfig = {MathJaxConfig: 'local'};</script>\n",
              "        <script src=\"https://cdn.plot.ly/plotly-latest.min.js\"></script>    \n",
              "            <div id=\"fec46aa0-4c22-41fe-932f-9e65f7655035\" class=\"plotly-graph-div\" style=\"height:525px; width:100%;\"></div>\n",
              "            <script type=\"text/javascript\">\n",
              "                \n",
              "                    window.PLOTLYENV=window.PLOTLYENV || {};\n",
              "                    \n",
              "                if (document.getElementById(\"fec46aa0-4c22-41fe-932f-9e65f7655035\")) {\n",
              "                    Plotly.newPlot(\n",
              "                        'fec46aa0-4c22-41fe-932f-9e65f7655035',\n",
              "                        [{\"domain\": {\"x\": [0.0, 1.0], \"y\": [0.0, 1.0]}, \"hoverlabel\": {\"namelength\": 0}, \"hovertemplate\": \"age=%{label}<br>Spent=%{value}\", \"labels\": [\"30-34\", \"30-34\", \"30-34\", \"30-34\", \"30-34\", \"30-34\", \"30-34\", \"30-34\", \"30-34\", \"30-34\", \"30-34\", \"30-34\", \"30-34\", \"30-34\", \"30-34\", \"30-34\", \"30-34\", \"30-34\", \"35-39\", \"35-39\", \"35-39\", \"35-39\", \"35-39\", \"35-39\", \"35-39\", \"35-39\", \"35-39\", \"40-44\", \"40-44\", \"40-44\", \"40-44\", \"40-44\", \"45-49\", \"45-49\", \"45-49\", \"30-34\", \"30-34\", \"30-34\", \"30-34\", \"30-34\", \"30-34\", \"30-34\", \"30-34\", \"30-34\", \"30-34\", \"30-34\", \"35-39\", \"35-39\", \"35-39\", \"40-44\", \"45-49\", \"45-49\", \"45-49\", \"45-49\", \"30-34\", \"30-34\", \"30-34\", \"30-34\", \"30-34\", \"30-34\", \"30-34\", \"30-34\", \"30-34\", \"35-39\", \"35-39\", \"35-39\", \"35-39\", \"35-39\", \"35-39\", \"35-39\", \"35-39\", \"40-44\", \"40-44\", \"45-49\", \"45-49\", \"45-49\", \"45-49\", \"30-34\", \"30-34\", \"30-34\", \"30-34\", \"30-34\", \"30-34\", \"30-34\", \"30-34\", \"30-34\", \"30-34\", \"30-34\", \"30-34\", \"35-39\", \"35-39\", \"35-39\", \"35-39\", \"35-39\", \"35-39\", \"35-39\", \"35-39\", \"35-39\", \"40-44\", \"40-44\", \"40-44\", \"40-44\", \"40-44\", \"40-44\", \"40-44\", \"45-49\", \"45-49\", \"45-49\", \"45-49\", \"45-49\", \"45-49\", \"45-49\", \"30-34\", \"30-34\", \"30-34\", \"30-34\", \"30-34\", \"30-34\", \"30-34\", \"35-39\", \"35-39\", \"35-39\", \"40-44\", \"40-44\", \"45-49\", \"45-49\", \"45-49\", \"45-49\", \"45-49\", \"30-34\", \"30-34\", \"30-34\", \"30-34\", \"30-34\", \"30-34\", \"30-34\", \"35-39\", \"40-44\", \"40-44\", \"40-44\", \"40-44\", \"40-44\", \"40-44\", \"40-44\", \"40-44\", \"45-49\", \"45-49\", \"45-49\", \"45-49\", \"45-49\", \"45-49\", \"45-49\", \"30-34\", \"30-34\", \"30-34\", \"30-34\", \"30-34\", \"30-34\", \"30-34\", \"35-39\", \"35-39\", \"35-39\", \"35-39\", \"35-39\", \"35-39\", \"40-44\", \"40-44\", \"45-49\", \"45-49\", \"45-49\", \"45-49\", \"45-49\", \"30-34\", \"30-34\", \"30-34\", \"30-34\", \"30-34\", \"30-34\", \"30-34\", \"30-34\", \"30-34\", \"30-34\", \"30-34\", \"30-34\", \"35-39\", \"35-39\", \"35-39\", \"35-39\", \"35-39\", \"35-39\", \"40-44\", \"40-44\", \"40-44\", \"40-44\", \"45-49\", \"45-49\", \"45-49\", \"45-49\", \"45-49\", \"45-49\", \"45-49\", \"45-49\", \"45-49\", \"45-49\", \"45-49\", \"45-49\", \"45-49\", \"45-49\", \"45-49\", \"45-49\", \"45-49\", \"40-44\", \"45-49\", \"45-49\", \"45-49\", \"45-49\", \"30-34\", \"45-49\", \"45-49\", \"30-34\", \"30-34\", \"30-34\", \"30-34\", \"45-49\", \"30-34\", \"45-49\", \"45-49\", \"45-49\", \"45-49\", \"30-34\", \"30-34\", \"30-34\", \"30-34\", \"30-34\", \"30-34\", \"30-34\", \"45-49\", \"45-49\", \"40-44\", \"30-34\", \"30-34\", \"30-34\", \"30-34\", \"30-34\", \"30-34\", \"40-44\", \"40-44\", \"40-44\", \"40-44\", \"30-34\", \"30-34\", \"30-34\", \"30-34\", \"30-34\", \"40-44\", \"40-44\", \"45-49\", \"45-49\", \"40-44\", \"45-49\", \"45-49\", \"45-49\", \"35-39\", \"45-49\", \"40-44\", \"35-39\", \"45-49\", \"45-49\", \"35-39\", \"35-39\", \"30-34\", \"40-44\", \"30-34\", \"30-34\", \"30-34\", \"30-34\", \"30-34\", \"40-44\", \"40-44\", \"35-39\", \"45-49\", \"45-49\", \"40-44\", \"45-49\", \"45-49\", \"45-49\", \"40-44\", \"40-44\", \"40-44\", \"35-39\", \"30-34\", \"30-34\", \"40-44\", \"30-34\", \"30-34\", \"30-34\", \"35-39\", \"30-34\", \"30-34\", \"30-34\", \"35-39\", \"35-39\", \"30-34\", \"35-39\", \"30-34\", \"30-34\", \"40-44\", \"40-44\", \"40-44\", \"40-44\", \"40-44\", \"40-44\", \"30-34\", \"40-44\", \"30-34\", \"40-44\", \"30-34\", \"40-44\", \"30-34\", \"30-34\", \"35-39\", \"30-34\", \"35-39\", \"35-39\", \"35-39\", \"30-34\", \"30-34\", \"35-39\", \"40-44\", \"35-39\", \"30-34\", \"45-49\", \"45-49\", \"35-39\", \"35-39\", \"35-39\", \"30-34\", \"35-39\", \"30-34\", \"30-34\", \"30-34\", \"30-34\", \"30-34\", \"30-34\", \"45-49\", \"45-49\", \"30-34\", \"30-34\", \"30-34\", \"35-39\", \"35-39\", \"30-34\", \"30-34\", \"30-34\", \"35-39\", \"45-49\", \"45-49\", \"30-34\", \"30-34\", \"30-34\", \"30-34\", \"30-34\", \"30-34\", \"45-49\", \"30-34\", \"30-34\", \"30-34\", \"45-49\", \"45-49\", \"30-34\", \"30-34\", \"30-34\", \"45-49\", \"45-49\", \"30-34\", \"40-44\", \"40-44\", \"40-44\", \"40-44\", \"40-44\", \"40-44\", \"40-44\", \"35-39\", \"35-39\", \"35-39\", \"35-39\", \"35-39\", \"35-39\", \"35-39\", \"30-34\", \"35-39\", \"35-39\", \"30-34\", \"30-34\", \"30-34\", \"35-39\", \"45-49\", \"35-39\", \"30-34\", \"30-34\", \"45-49\", \"30-34\", \"30-34\", \"30-34\", \"30-34\", \"30-34\", \"30-34\", \"30-34\", \"30-34\", \"30-34\", \"30-34\", \"30-34\", \"30-34\", \"30-34\", \"40-44\", \"30-34\", \"30-34\", \"45-49\", \"45-49\", \"40-44\", \"40-44\", \"30-34\", \"40-44\", \"30-34\", \"35-39\", \"35-39\", \"35-39\", \"40-44\", \"40-44\", \"35-39\", \"30-34\", \"30-34\", \"30-34\", \"30-34\", \"30-34\", \"30-34\", \"30-34\", \"30-34\", \"30-34\", \"30-34\", \"40-44\", \"35-39\", \"30-34\", \"45-49\", \"45-49\", \"45-49\", \"30-34\", \"45-49\", \"40-44\", \"30-34\", \"30-34\", \"30-34\", \"30-34\", \"30-34\", \"30-34\", \"30-34\", \"30-34\", \"30-34\", \"30-34\", \"35-39\", \"35-39\", \"35-39\", \"30-34\", \"35-39\", \"30-34\", \"40-44\", \"45-49\", \"30-34\", \"30-34\", \"30-34\", \"30-34\", \"30-34\", \"30-34\", \"45-49\", \"45-49\", \"35-39\", \"45-49\", \"35-39\", \"35-39\", \"35-39\", \"35-39\", \"35-39\", \"35-39\", \"30-34\", \"30-34\", \"30-34\", \"45-49\", \"30-34\", \"30-34\", \"30-34\", \"30-34\", \"30-34\", \"45-49\", \"45-49\", \"45-49\", \"45-49\", \"30-34\", \"40-44\", \"40-44\", \"40-44\", \"40-44\", \"35-39\", \"35-39\", \"45-49\", \"35-39\", \"45-49\", \"45-49\", \"35-39\", \"35-39\", \"45-49\", \"30-34\", \"30-34\", \"30-34\", \"30-34\", \"45-49\", \"40-44\", \"40-44\", \"35-39\", \"30-34\", \"30-34\", \"30-34\", \"30-34\", \"30-34\", \"30-34\", \"30-34\", \"30-34\", \"30-34\", \"30-34\", \"30-34\", \"30-34\", \"30-34\", \"30-34\", \"30-34\", \"30-34\", \"30-34\", \"30-34\", \"30-34\", \"30-34\", \"30-34\", \"30-34\", \"30-34\", \"30-34\", \"30-34\", \"30-34\", \"30-34\", \"30-34\", \"30-34\", \"30-34\", \"30-34\", \"30-34\", \"30-34\", \"30-34\", \"30-34\", \"30-34\", \"30-34\", \"30-34\", \"30-34\", \"30-34\", \"30-34\", \"30-34\", \"30-34\", \"30-34\", \"30-34\", \"30-34\", \"30-34\", \"30-34\", \"30-34\", \"30-34\", \"30-34\", \"30-34\", \"30-34\", \"30-34\", \"30-34\", \"30-34\", \"30-34\", \"30-34\", \"30-34\", \"30-34\", \"30-34\", \"30-34\", \"30-34\", \"30-34\", \"30-34\", \"30-34\", \"30-34\", \"30-34\", \"30-34\", \"30-34\", \"30-34\", \"30-34\", \"30-34\", \"30-34\", \"30-34\", \"30-34\", \"30-34\", \"30-34\", \"30-34\", \"30-34\", \"30-34\", \"30-34\", \"30-34\", \"30-34\", \"30-34\", \"30-34\", \"30-34\", \"30-34\", \"30-34\", \"30-34\", \"30-34\", \"30-34\", \"30-34\", \"30-34\", \"30-34\", \"30-34\", \"30-34\", \"30-34\", \"30-34\", \"30-34\", \"30-34\", \"30-34\", \"35-39\", \"35-39\", \"35-39\", \"35-39\", \"35-39\", \"35-39\", \"35-39\", \"35-39\", \"35-39\", \"35-39\", \"35-39\", \"35-39\", \"35-39\", \"35-39\", \"35-39\", \"35-39\", \"35-39\", \"35-39\", \"35-39\", \"35-39\", \"35-39\", \"35-39\", \"35-39\", \"35-39\", \"35-39\", \"35-39\", \"35-39\", \"35-39\", \"35-39\", \"35-39\", \"35-39\", \"35-39\", \"35-39\", \"35-39\", \"35-39\", \"35-39\", \"35-39\", \"35-39\", \"35-39\", \"35-39\", \"35-39\", \"35-39\", \"35-39\", \"35-39\", \"35-39\", \"35-39\", \"35-39\", \"35-39\", \"35-39\", \"35-39\", \"35-39\", \"35-39\", \"35-39\", \"35-39\", \"35-39\", \"35-39\", \"35-39\", \"35-39\", \"35-39\", \"35-39\", \"35-39\", \"35-39\", \"35-39\", \"35-39\", \"35-39\", \"35-39\", \"35-39\", \"35-39\", \"35-39\", \"35-39\", \"35-39\", \"35-39\", \"35-39\", \"35-39\", \"35-39\", \"35-39\", \"35-39\", \"35-39\", \"35-39\", \"40-44\", \"40-44\", \"40-44\", \"40-44\", \"40-44\", \"40-44\", \"40-44\", \"40-44\", \"40-44\", \"40-44\", \"40-44\", \"40-44\", \"40-44\", \"40-44\", \"40-44\", \"40-44\", \"40-44\", \"40-44\", \"40-44\", \"40-44\", \"40-44\", \"40-44\", \"40-44\", \"40-44\", \"40-44\", \"40-44\", \"40-44\", \"40-44\", \"40-44\", \"40-44\", \"40-44\", \"40-44\", \"40-44\", \"40-44\", \"40-44\", \"40-44\", \"40-44\", \"40-44\", \"40-44\", \"40-44\", \"40-44\", \"40-44\", \"40-44\", \"40-44\", \"40-44\", \"40-44\", \"40-44\", \"40-44\", \"40-44\", \"40-44\", \"40-44\", \"40-44\", \"40-44\", \"40-44\", \"40-44\", \"40-44\", \"40-44\", \"40-44\", \"45-49\", \"45-49\", \"45-49\", \"45-49\", \"45-49\", \"45-49\", \"45-49\", \"45-49\", \"45-49\", \"45-49\", \"45-49\", \"45-49\", \"45-49\", \"45-49\", \"45-49\", \"45-49\", \"45-49\", \"45-49\", \"45-49\", \"45-49\", \"45-49\", \"45-49\", \"45-49\", \"45-49\", \"45-49\", \"45-49\", \"45-49\", \"45-49\", \"45-49\", \"45-49\", \"45-49\", \"45-49\", \"45-49\", \"45-49\", \"45-49\", \"45-49\", \"45-49\", \"45-49\", \"45-49\", \"45-49\", \"45-49\", \"45-49\", \"45-49\", \"45-49\", \"45-49\", \"45-49\", \"45-49\", \"45-49\", \"45-49\", \"45-49\", \"45-49\", \"45-49\", \"45-49\", \"45-49\", \"45-49\", \"45-49\", \"45-49\", \"45-49\", \"45-49\", \"45-49\", \"45-49\", \"45-49\", \"45-49\", \"45-49\", \"45-49\", \"45-49\", \"45-49\", \"30-34\", \"30-34\", \"30-34\", \"30-34\", \"30-34\", \"30-34\", \"30-34\", \"30-34\", \"30-34\", \"30-34\", \"30-34\", \"30-34\", \"30-34\", \"30-34\", \"30-34\", \"30-34\", \"30-34\", \"30-34\", \"30-34\", \"30-34\", \"30-34\", \"30-34\", \"30-34\", \"30-34\", \"30-34\", \"30-34\", \"30-34\", \"30-34\", \"30-34\", \"30-34\", \"30-34\", \"30-34\", \"30-34\", \"30-34\", \"30-34\", \"30-34\", \"30-34\", \"30-34\", \"30-34\", \"30-34\", \"30-34\", \"30-34\", \"30-34\", \"30-34\", \"30-34\", \"30-34\", \"30-34\", \"30-34\", \"30-34\", \"30-34\", \"30-34\", \"30-34\", \"30-34\", \"30-34\", \"30-34\", \"30-34\", \"30-34\", \"30-34\", \"30-34\", \"30-34\", \"30-34\", \"30-34\", \"30-34\", \"30-34\", \"30-34\", \"30-34\", \"30-34\", \"30-34\", \"30-34\", \"30-34\", \"30-34\", \"30-34\", \"30-34\", \"30-34\", \"30-34\", \"30-34\", \"30-34\", \"35-39\", \"35-39\", \"35-39\", \"35-39\", \"35-39\", \"35-39\", \"35-39\", \"35-39\", \"35-39\", \"35-39\", \"35-39\", \"35-39\", \"35-39\", \"35-39\", \"35-39\", \"35-39\", \"35-39\", \"35-39\", \"35-39\", \"35-39\", \"35-39\", \"35-39\", \"35-39\", \"35-39\", \"35-39\", \"35-39\", \"35-39\", \"35-39\", \"35-39\", \"35-39\", \"35-39\", \"35-39\", \"35-39\", \"35-39\", \"35-39\", \"35-39\", \"35-39\", \"35-39\", \"35-39\", \"35-39\", \"35-39\", \"35-39\", \"35-39\", \"35-39\", \"35-39\", \"40-44\", \"40-44\", \"40-44\", \"40-44\", \"40-44\", \"40-44\", \"40-44\", \"40-44\", \"40-44\", \"40-44\", \"40-44\", \"40-44\", \"40-44\", \"40-44\", \"40-44\", \"40-44\", \"40-44\", \"40-44\", \"40-44\", \"40-44\", \"40-44\", \"40-44\", \"40-44\", \"40-44\", \"40-44\", \"40-44\", \"40-44\", \"40-44\", \"40-44\", \"40-44\", \"40-44\", \"40-44\", \"40-44\", \"40-44\", \"40-44\", \"40-44\", \"40-44\", \"40-44\", \"40-44\", \"40-44\", \"40-44\", \"40-44\", \"40-44\", \"40-44\", \"40-44\", \"40-44\", \"45-49\", \"45-49\", \"45-49\", \"45-49\", \"45-49\", \"45-49\", \"45-49\", \"45-49\", \"45-49\", \"45-49\", \"45-49\", \"45-49\", \"45-49\", \"45-49\", \"45-49\", \"45-49\", \"45-49\", \"45-49\", \"45-49\", \"45-49\", \"45-49\", \"45-49\", \"45-49\", \"45-49\", \"45-49\", \"45-49\", \"45-49\", \"45-49\", \"45-49\", \"45-49\", \"45-49\", \"45-49\", \"45-49\", \"45-49\", \"45-49\", \"45-49\", \"45-49\", \"45-49\", \"45-49\", \"45-49\", \"45-49\", \"45-49\", \"45-49\", \"45-49\", \"45-49\", \"45-49\", \"45-49\", \"45-49\", \"45-49\", \"45-49\", \"45-49\", \"45-49\", \"45-49\", \"45-49\", \"45-49\", \"45-49\", \"30-34\", \"30-34\", \"30-34\", \"30-34\", \"30-34\", \"30-34\", \"30-34\", \"30-34\", \"30-34\", \"30-34\", \"35-39\", \"35-39\", \"35-39\", \"35-39\", \"35-39\", \"35-39\", \"35-39\", \"35-39\", \"35-39\", \"35-39\", \"35-39\", \"40-44\", \"40-44\", \"40-44\", \"40-44\", \"40-44\", \"40-44\", \"40-44\", \"40-44\", \"40-44\", \"40-44\", \"40-44\", \"45-49\", \"45-49\", \"45-49\", \"45-49\", \"45-49\", \"45-49\", \"45-49\", \"45-49\", \"45-49\", \"45-49\", \"45-49\", \"30-34\", \"30-34\", \"30-34\", \"30-34\", \"30-34\", \"30-34\", \"30-34\", \"30-34\", \"30-34\", \"30-34\", \"30-34\", \"30-34\", \"35-39\", \"35-39\", \"35-39\", \"35-39\", \"35-39\", \"35-39\", \"35-39\", \"35-39\", \"35-39\", \"35-39\", \"35-39\", \"35-39\", \"40-44\", \"40-44\", \"40-44\", \"40-44\", \"40-44\", \"40-44\", \"40-44\", \"40-44\", \"40-44\", \"40-44\", \"40-44\", \"40-44\", \"40-44\", \"40-44\", \"45-49\", \"45-49\", \"45-49\", \"45-49\", \"45-49\", \"45-49\", \"45-49\", \"45-49\", \"45-49\", \"45-49\", \"45-49\", \"45-49\", \"45-49\", \"45-49\"], \"legendgroup\": \"\", \"name\": \"\", \"showlegend\": true, \"type\": \"pie\", \"values\": [1.429999948, 1.8200000230000002, 0.0, 1.25, 1.289999962, 0.0, 4.769999981000001, 1.269999981, 1.5, 3.159999967, 0.0, 0.0, 0.0, 0.0, 10.28000021, 0.0, 0.5699999929999999, 0.0, 1.6900000569999998, 4.6300001139999996, 0.0, 2.609999895, 3.049999952, 3.0599999430000002, 0.0, 0.0, 2.9800000189999998, 5.5200001, 1.6900000569999998, 0.0, 0.0, 8.470000147999999, 15.82000017, 1.4700000290000002, 1.5299999709999998, 0.0, 18.06999969, 1.6100000140000001, 1.190000057, 9.220000267, 0.0, 0.0, 1.50999999, 9.430000067, 0.0, 6.9600000379999996, 1.2200000290000002, 2.799999952, 1.600000024, 1.129999995, 5.730000018999999, 0.0, 9.379999995, 0.0, 0.0, 5.629999995, 3.840000033, 0.0, 0.0, 0.0, 1.039999962, 0.0, 0.0, 1.4600000380000002, 2.839999914, 1.350000024, 0.0, 0.0, 5.75, 3.9800000189999998, 4.449999928, 1.320000052, 0.0, 0.0, 0.0, 4.090000033, 0.0, 1.5299999709999998, 0.0, 10.03000009, 0.0, 0.0, 4.25, 20.29000032, 1.3899999859999999, 4.440000057, 1.570000052, 0.0, 1.289999962, 1.4099999669999999, 33.33000004, 3.340000093, 8.050000072000001, 5.210000038, 0.0, 0.0, 0.0, 0.0, 0.0, 0.0, 2.349999964, 19.32999957, 0.0, 1.4500000480000002, 4.050000072, 32.97999978, 31.28999949, 0.0, 8.789999962000001, 9.119999886, 6.26000011, 38.63999999, 0.239999995, 0.0, 0.0, 0.0, 1.090000033, 0.0, 0.0, 0.0, 2.680000067, 3.00999999, 0.0, 1.580000043, 14.06000042, 2.900000095, 1.5900000330000001, 0.0, 0.0, 4.590000153, 0.540000021, 0.0, 0.0, 13.41000009, 0.0, 0.0, 0.860000014, 10.77000046, 5.590000152999999, 58.16000044, 10.61999977, 5.4600000379999996, 0.0, 0.0, 0.0, 20.17999983, 176.3799977, 34.39000046, 5.49000001, 0.0, 1.419999957, 51.97000027, 3.1900000569999998, 0.0, 0.0, 1.9600000380000002, 0.600000024, 0.0, 0.0, 1.149999976, 3.180000067, 0.0, 0.9800000190000001, 0.0, 0.0, 1.480000049, 2.939999938, 4.600000024, 2.669999957, 0.0, 0.0, 0.0, 0.0, 10.96000051, 2.359999895, 7.350000143, 0.0, 9.340000032999999, 4.6199998860000004, 8.5, 0.0, 0.0, 0.0, 0.0, 0.0, 2.420000076, 2.950000048, 3.720000029, 4.4499998089999995, 0.0, 13.07000017, 10.84999967, 10.84999967, 12.06000006, 8.860000134, 27.72999954, 7.349999905, 26.53000045, 39.42999983, 47.93000031, 6.0399999620000004, 2.369999886, 6.340000152999999, 0.0, 0.0, 53.21999949, 35.79999948, 180.22000119999998, 76.41000056, 9.549999952, 18.01999998, 13.37, 4.590000033, 0.0, 25.86000001, 0.49000001, 0.0, 1.679999948, 25.41999936, 3.310000062, 1.5499999519999998, 5.439999938, 0.0, 81.60999787, 0.0, 4.98999989, 31.709999800000002, 25.52000046, 4.25999999, 1.830000043, 1.3899999859999999, 2.8099999430000002, 11.04999971, 0.0, 7.229999781, 0.0, 4.269999862, 9.479999900000001, 2.890000105, 10.56999969, 3.200000048, 0.0, 0.970000029, 4.370000005, 0.5699999929999999, 1.8099999430000002, 0.0, 3.319999933, 0.0, 1.179999948, 0.0, 4.730000018999999, 1.379999995, 0.0, 1.25999999, 3.049999952, 0.0, 3.5799999239999996, 6.2799999710000005, 1.210000038, 46.63000011, 34.44000012, 1.289999962, 9.21999979, 7.719999908999999, 1.5, 0.0, 0.180000007, 0.0, 0.0, 0.0, 5.389999866, 5.779999852, 0.0, 0.0, 0.99000001, 1.2799999709999998, 5.2799999710000005, 1.379999995, 1.049999952, 1.340000033, 0.0, 10.42999983, 6.099999905, 19.65999949, 56.19000077, 0.0, 6.029999852, 0.0, 1.830000043, 0.9599999790000001, 2.619999945, 0.0, 1.3600000140000001, 0.0, 0.0, 6.0500001910000005, 19.88000035, 4.5299999710000005, 6.779999852, 3.090000033, 0.0, 0.0, 0.0, 3.140000105, 7.540000200000001, 0.0, 0.99000001, 34.1500001, 3.090000033, 3.959999919, 2.650000095, 0.0, 8.179999828, 0.0, 4.1300001139999996, 0.0, 5.389999866, 0.720000029, 0.0, 0.0, 1.679999948, 19.10000038, 3.5799999239999996, 1.580000043, 2.75, 0.0, 41.29000068, 0.0, 9.410000324, 13.40999985, 0.949999988, 0.0, 32.28999996, 0.0, 1.730000019, 0.889999986, 1.379999995, 10.229999900000001, 4.429999828, 3.8299999239999996, 1.1100000140000001, 5.349999905, 0.0, 3.950000048, 4.019999981000001, 1.330000043, 3.089999914, 1.419999957, 0.0, 6.019999981000001, 0.0, 0.0, 1.230000019, 0.0, 77.07999969, 9.329999924, 0.0, 4.090000033, 1.370000005, 0.0, 1.379999995, 5.909999967, 0.0, 0.0, 0.0, 0.0, 0.0, 6.910000086, 9.539999962000001, 17.30000037, 1.309999943, 4.079999924, 17.92999995, 1.2200000290000002, 4.569999933, 2.269999981, 1.0299999709999998, 36.13000035, 1.370000005, 1.5399999619999998, 59.06999993, 7.810000062, 0.0, 28.5, 10.07999992, 67.97999978, 1.6399999859999999, 0.5299999710000001, 0.0, 0.0, 1.370000005, 1.4400000569999998, 0.0, 0.0, 3.919999957, 49.44000006, 1.230000019, 4.180000067, 1.4400000569999998, 0.0, 0.0, 1.330000043, 0.0, 3.7499998810000004, 2.7300000189999998, 2.3200000519999997, 1.320000052, 0.0, 6.169999957000001, 4.940000057, 0.0, 0.0, 0.0, 6.340000152999999, 0.860000014, 1.350000024, 39.25000095, 12.51000035, 0.0, 4.079999924, 0.0, 4.5500001910000005, 0.0, 8.910000086, 0.0, 1.6100000140000001, 4.3000001910000005, 2.869999945, 1.5599999430000002, 1.570000052, 3.210000038, 0.0, 0.0, 0.0, 0.0, 0.0, 0.0, 1.379999995, 0.0, 2.839999914, 1.320000052, 0.0, 1.519999981, 0.0, 0.9800000190000001, 0.0, 0.0, 1.4099999669999999, 0.0, 0.0, 0.0, 0.0, 0.0, 0.0, 0.0, 0.0, 0.0, 4.329999924, 0.0, 0.0, 1.070000052, 0.0, 0.0, 0.0, 1.5, 0.0, 0.0, 1.230000019, 0.0, 0.0, 0.0, 4.659999847, 0.0, 1.5399999619999998, 2.720000029, 4.289999962, 3.25, 0.0, 1.580000043, 2.619999886, 0.0, 0.0, 1.5399999619999998, 1.5900000330000001, 1.3899999859999999, 12.39000034, 0.0, 0.0, 0.0, 0.970000029, 0.0, 3.150000095, 11.94999981, 1.3600000140000001, 0.0, 0.0, 0.0, 0.0, 1.480000019, 0.0, 1.480000019, 0.0, 7.269999981000001, 0.40999999600000003, 2.680000067, 0.0, 0.0, 6.079999924, 1.50999999, 0.0, 0.0, 2.099999905, 1.5599999430000002, 2.960000038, 12.36999989, 0.0, 0.0, 254.049996, 122.4, 0.0, 86.33000112, 161.9099991, 1.820000052, 236.7699986, 639.9499981, 1.5900000330000001, 52.97000015, 360.15000150000003, 16.520000099999997, 1.5399999619999998, 163.89999719999997, 210.3600006, 35.73000026, 215.83999939999998, 3.800000072, 96.80000055, 157.329998, 26.56999946, 93.08999991, 78.9200002, 103.1500002, 36.53000021, 28.85000002, 257.7099986, 7.220000148, 7.899999976, 62.06000042, 2.099999905, 14.14000046, 23.73000026, 1.7100000380000002, 9.440000057, 27.79999924, 67.65000057, 2.9800000189999998, 3.24000001, 52.26000011, 13.0400002, 38.38999975, 138.7699997, 260.3800013, 8.549999952, 15.63000023, 60.19999957, 34.19000006, 3.24000001, 5.140000105, 216.5599982, 93.07000041, 56.05999923, 54.09999871, 7.8000000720000005, 5.2200000289999995, 358.5500029, 280.9899995, 115.12000079999999, 219.770002, 52.01999986, 35.30999994, 63.32000101, 54.24000037, 65.22999996, 4.210000038, 48.60999978, 13.91999972, 11.059999699999999, 0.0, 87.42000079, 1.6599999669999999, 6.74000001, 8.220000267, 5.580000042999999, 9.229999900000001, 34.22999972, 3.149999976, 20.209999399999997, 59.43999982, 38.58999968, 0.0, 21.84999979, 1.9600000380000002, 22.32000005, 110.23999909999999, 29.75000048, 18.47000015, 36.24000025, 76.43999958, 0.0, 11.80000019, 26.81999981, 65.67000115, 32.24000025, 245.59999989999997, 17.6400001, 38.54999936, 40.75999951, 6.370000005, 0.0, 89.76000047, 16.1500001, 189.1299984, 8.529999852000001, 67.77000129, 96.8999989, 37.13000011, 53.15999961, 192.9299995, 236.1199988, 12.57000017, 12.5800004, 28.04999959, 83.48000121, 30.479999900000003, 20.29999983, 131.5799983, 14.62999988, 64.46999931, 30.15000057, 62.25000024, 78.03999984, 3.400000095, 14.830000400000001, 22.42999983, 44.14000034, 69.65999997, 16.26999998, 5.789999902000001, 42.08000016, 67.66999984, 34.07000089, 41.71999967, 19.56999981, 57.37, 17.36999965, 100.289999, 3.709999919, 23.209999800000002, 0.0, 177.88999919999998, 66.7700001, 32.67999995, 420.5799983, 87.55000067, 232.37000079999999, 150.1400012, 96.48000073, 95.5100013, 72.3100003, 0.0, 9.209999919, 254.25000380000003, 11.17000031, 34.23000026, 25.26000011, 1.289999962, 113.99000120000001, 121.0999982, 98.70000017, 8.800000072000001, 9.929999947999999, 53.38999939, 3.7699999810000002, 3.1900000569999998, 24.17999995, 76.89999968, 14.520000099999999, 36.17000055, 38.44000077, 61.92999995, 70.41000079999999, 37.5999999, 20.59000027, 24.78000021, 29.53999937, 37.84999979, 2.290000021, 24.1900003, 8.519999981, 163.36, 58.14000005, 29.30999982, 116.3399996, 60.89999914, 40.02000093, 260.06999840000003, 359.4700001, 105.7099996, 10.66000009, 143.30000090000001, 65.02999854, 117.55999969999999, 143.4300001, 9.659999847, 124.79999950000001, 98.55000019, 40.77000022, 134.8799999, 19.3599999, 0.0, 43.01000035, 42.62999976, 75.78999984, 7.7100000379999996, 14.03999984, 39.85999966, 36.77999961, 54.86999953, 87.78999959999999, 6.730000018999999, 76.83999932, 15.53999972, 17.67000008, 49.60000014, 53.26999903, 126.9299996, 179.620001, 38.42000043, 58.59999989999999, 39.72999978, 19.11000001, 15.81000018, 140.97000219999998, 60.76000023, 13.51000011, 55.10000002, 12.63000011, 81.36000025, 16.47000003, 31.02999997, 60.72999966, 74.83000135, 7.480000018999999, 36.4800005, 68.06000054, 7.879999995, 1.4600000380000002, 123.5500004, 135.75000119999999, 116.88000009999999, 365.66000089999994, 128.2799988, 10.77999985, 133.69999860000001, 64.87999952, 603.380002, 220.55999900000003, 33.89999998, 318.97000319999995, 248.6400001, 40.93000007, 109.2500008, 134.1199975, 103.3899996, 116.5599996, 120.29999939999999, 25.45999968, 35.67999983, 131.7800006, 29.91000021, 46.7900002, 3.189999938, 16.67999983, 11.11000013, 127.5699993, 11.00999999, 3.599999905, 33.65999997, 33.3499999, 128.6099997, 33.93000031, 36.440000299999994, 5.769999981000001, 181.7200011, 41.42000008, 58.67999971, 80.33999979, 104.45999959999999, 87.7300005, 253.990002, 39.44000006, 39.04999948, 16.93999958, 142.7099985, 27.29999983, 29.3799994, 277.5799986, 422.8400038, 38.50000083, 17.329999800000003, 32.30999994, 41.96999943, 352.44999889999997, 264.5899997, 158.5999998, 4.769999981000001, 4.820000052, 37.25999999, 39.520000700000004, 19.47999978, 16.38, 22.67000031, 15.99000025, 17.04999995, 64.40999997, 44.21999955, 38.18000007, 268.050002, 77.59000027, 46.77999997, 153.1199975, 55.99000025, 31.540000199999998, 147.339999, 159.57000209999998, 117.62999950000001, 171.9799976, 18.10000038, 4.3000001910000005, 11.57000005, 24.48000002, 169.66999819999998, 62.14000034, 76.68000025, 195.14999780000002, 38.36000013, 24.56999969, 74.41000032, 33.46999907, 4.2200000289999995, 147.6700006, 0.0, 62.14000058, 4.560000062, 35.05999982, 29.31000018, 169.91999730000003, 41.63, 75.70000076, 256.46999819999996, 612.3000032000001, 51.84000087, 54.790000199999994, 179.050001, 17.74000001, 375.7199963, 1.570000052, 429.47999810000005, 95.85000050000001, 3.819999933, 226.5399992, 50.72000062, 54.57000089, 25.22000039, 9.970000267, 1.730000019, 123.0900019, 37.83000016, 33.03999937, 105.0199997, 0.0, 5.929999948, 0.0, 3.75, 343.2599944, 19.1899997, 61.02999771, 56.16999996, 39.23000026, 99.1799984, 16.17999971, 23.97000039, 2.620000005, 2.779999971, 0.0, 42.37000036, 22.04999971, 10.31999981, 9.809999943, 63.45000076, 10.54999995, 38.94000041, 38.02999961, 314.2999983, 173.76, 37.32000124, 2.629999995, 263.8100007, 177.1099993, 343.4199994, 33.22999942, 234.6599982, 297.8299981, 31.00999963, 84.65999889, 115.88000259999998, 84.51000023, 13.05999959, 23.64999962, 89.35000026, 17.30000019, 23.33999968, 40.9600004, 50.11000001, 66.79000068, 1.6399999859999999, 36.229999299999996, 62.86999989, 71.58000052, 350.5099957, 213.6899986, 10.96000016, 37.39999962, 210.8200028, 42.41000032, 33.19999933, 72.91000104, 293.8800011, 167.0499997, 123.800001, 85.70000196, 65.17999971, 46.43000007, 68.55999959, 8.189999938, 48.54999948, 82.27999902, 71.53000104, 191.419996, 321.8700004, 65.03000033, 194.80999880000002, 78.45999932, 53.62999868, 243.7699978, 262.8899981, 4.0500001910000005, 16.40999985, 66.38999987, 9.609999895, 22.12000012, 78.06000042, 40.87999928, 88.21000016, 48.93999863, 95.84999895, 106.92999979999999, 254.41999700000002, 117.34000049999999, 390.2599992, 340.40999930000004, 33.47000039, 66.27999985, 48.18000007, 156.1199993, 288.33000350000003, 40.37000024, 19.27999985, 34.03000015, 29.67000008, 47.78999913, 111.6500003, 24.33000016, 188.51000019999998, 33.14000034, 59.85000026, 21.10999966, 38.35000062, 30.84000027, 14.58999991, 15.91999972, 24.22000015, 238.40000069999996, 132.7300007, 201.6000042, 465.07999810000007, 234.93999920000002, 195.0799994, 104.6899989, 295.5499957, 226.0300014, 287.690003, 315.90000510000004, 332.98999889999993, 282.49000099999995, 115.66000079999999, 247.3200026, 11.20000017, 25.45999998, 299.5299983, 140.4200011, 100.88000109999999, 13.35000038, 73.74999964, 76.75999916, 145.8199974, 125.27000109999999, 38.62999976, 7.139999986, 116.9899981, 175.9700005, 105.6600007, 259.17999879999996, 46.92000186, 187.73999780000003, 380.6599952, 541.7000022999999, 409.5600026, 102.3900002, 67.13000107, 22.86000025, 134.889999, 369.069997, 198.08999719999997, 91.00000054, 297.91000069999996, 50.29000044, 9.419999837999999, 20.51999998, 38.13999993, 142.05000249999998, 402.3000026, 159.29999899999999, 193.6599991, 66.83999872, 178.6700007, 130.3600011, 114.8599998, 3.199999928, 7.529999852, 2.6900000569999998, 27.32999969, 53.78999972, 61.00999904, 46.66999936, 12.10999984, 3.199999928, 32.09000015, 2.960000038, 23.69999957, 16.94000018, 46.64999926, 12.67999995, 19.82000005, 21.26000023, 40.73000062, 25.01000023, 11.519999499999999, 7.700000048, 12.14999962, 14.96000034, 1.49000001, 28.47000003, 15.14999998, 60.22999907, 28.71999955, 34.86999965, 13.50000036, 13.55999994, 9.259999871, 17.94000006, 25.75000024, 30.08000076, 7.26000011, 18.41999996, 50.5, 82.13999915, 36.60000038, 19.58000016, 13.65000045, 30.26000011, 113.6800029, 11.42999983, 99.52000237, 110.78000209999999, 120.87999920000001, 35.54000032, 119.6400018, 11.18999994, 138.9200006, 14.48000044, 163.8000002, 111.98999950000001, 15.04999995, 237.3199975, 47.87999952, 164.64000149999998, 200.8299961, 105.2199969, 127.3200028, 68.67000008, 20.05000019, 9.409999967000001, 77.59999979, 16.73000002, 246.7499975, 223.18999480000002, 67.60999918, 319.0000019, 82.92999887, 57.0, 233.110002, 217.7799966, 323.06000710000006, 87.99000168, 105.4500008, 120.8999977, 301.0499992, 62.31999922, 279.21999500000004, 158.05000230000002, 36.01000071, 16.34000051, 162.63999750000002, 333.74999429999997, 33.71000051, 232.5900005, 47.69000006, 358.189997, 173.8800035, 40.28999949, 198.71000049999998, 165.6099987]}],\n",
              "                        {\"legend\": {\"tracegroupgap\": 0}, \"piecolorway\": [\"rgb(8,48,107)\", \"rgb(8,81,156)\", \"rgb(33,113,181)\", \"rgb(66,146,198)\", \"rgb(107,174,214)\", \"rgb(158,202,225)\", \"rgb(198,219,239)\", \"rgb(222,235,247)\", \"rgb(247,251,255)\"], \"template\": {\"data\": {\"bar\": [{\"error_x\": {\"color\": \"#2a3f5f\"}, \"error_y\": {\"color\": \"#2a3f5f\"}, \"marker\": {\"line\": {\"color\": \"#E5ECF6\", \"width\": 0.5}}, \"type\": \"bar\"}], \"barpolar\": [{\"marker\": {\"line\": {\"color\": \"#E5ECF6\", \"width\": 0.5}}, \"type\": \"barpolar\"}], \"carpet\": [{\"aaxis\": {\"endlinecolor\": \"#2a3f5f\", \"gridcolor\": \"white\", \"linecolor\": \"white\", \"minorgridcolor\": \"white\", \"startlinecolor\": \"#2a3f5f\"}, \"baxis\": {\"endlinecolor\": \"#2a3f5f\", \"gridcolor\": \"white\", \"linecolor\": \"white\", \"minorgridcolor\": \"white\", \"startlinecolor\": \"#2a3f5f\"}, \"type\": \"carpet\"}], \"choropleth\": [{\"colorbar\": {\"outlinewidth\": 0, \"ticks\": \"\"}, \"type\": \"choropleth\"}], \"contour\": [{\"colorbar\": {\"outlinewidth\": 0, \"ticks\": \"\"}, \"colorscale\": [[0.0, \"#0d0887\"], [0.1111111111111111, \"#46039f\"], [0.2222222222222222, \"#7201a8\"], [0.3333333333333333, \"#9c179e\"], [0.4444444444444444, \"#bd3786\"], [0.5555555555555556, \"#d8576b\"], [0.6666666666666666, \"#ed7953\"], [0.7777777777777778, \"#fb9f3a\"], [0.8888888888888888, \"#fdca26\"], [1.0, \"#f0f921\"]], \"type\": \"contour\"}], \"contourcarpet\": [{\"colorbar\": {\"outlinewidth\": 0, \"ticks\": \"\"}, \"type\": \"contourcarpet\"}], \"heatmap\": [{\"colorbar\": {\"outlinewidth\": 0, \"ticks\": \"\"}, \"colorscale\": [[0.0, \"#0d0887\"], [0.1111111111111111, \"#46039f\"], [0.2222222222222222, \"#7201a8\"], [0.3333333333333333, \"#9c179e\"], [0.4444444444444444, \"#bd3786\"], [0.5555555555555556, \"#d8576b\"], [0.6666666666666666, \"#ed7953\"], [0.7777777777777778, \"#fb9f3a\"], [0.8888888888888888, \"#fdca26\"], [1.0, \"#f0f921\"]], \"type\": \"heatmap\"}], \"heatmapgl\": [{\"colorbar\": {\"outlinewidth\": 0, \"ticks\": \"\"}, \"colorscale\": [[0.0, \"#0d0887\"], [0.1111111111111111, \"#46039f\"], [0.2222222222222222, \"#7201a8\"], [0.3333333333333333, \"#9c179e\"], [0.4444444444444444, \"#bd3786\"], [0.5555555555555556, \"#d8576b\"], [0.6666666666666666, \"#ed7953\"], [0.7777777777777778, \"#fb9f3a\"], [0.8888888888888888, \"#fdca26\"], [1.0, \"#f0f921\"]], \"type\": \"heatmapgl\"}], \"histogram\": [{\"marker\": {\"colorbar\": {\"outlinewidth\": 0, \"ticks\": \"\"}}, \"type\": \"histogram\"}], \"histogram2d\": [{\"colorbar\": {\"outlinewidth\": 0, \"ticks\": \"\"}, \"colorscale\": [[0.0, \"#0d0887\"], [0.1111111111111111, \"#46039f\"], [0.2222222222222222, \"#7201a8\"], [0.3333333333333333, \"#9c179e\"], [0.4444444444444444, \"#bd3786\"], [0.5555555555555556, \"#d8576b\"], [0.6666666666666666, \"#ed7953\"], [0.7777777777777778, \"#fb9f3a\"], [0.8888888888888888, \"#fdca26\"], [1.0, \"#f0f921\"]], \"type\": \"histogram2d\"}], \"histogram2dcontour\": [{\"colorbar\": {\"outlinewidth\": 0, \"ticks\": \"\"}, \"colorscale\": [[0.0, \"#0d0887\"], [0.1111111111111111, \"#46039f\"], [0.2222222222222222, \"#7201a8\"], [0.3333333333333333, \"#9c179e\"], [0.4444444444444444, \"#bd3786\"], [0.5555555555555556, \"#d8576b\"], [0.6666666666666666, \"#ed7953\"], [0.7777777777777778, \"#fb9f3a\"], [0.8888888888888888, \"#fdca26\"], [1.0, \"#f0f921\"]], \"type\": \"histogram2dcontour\"}], \"mesh3d\": [{\"colorbar\": {\"outlinewidth\": 0, \"ticks\": \"\"}, \"type\": \"mesh3d\"}], \"parcoords\": [{\"line\": {\"colorbar\": {\"outlinewidth\": 0, \"ticks\": \"\"}}, \"type\": \"parcoords\"}], \"pie\": [{\"automargin\": true, \"type\": \"pie\"}], \"scatter\": [{\"marker\": {\"colorbar\": {\"outlinewidth\": 0, \"ticks\": \"\"}}, \"type\": \"scatter\"}], \"scatter3d\": [{\"line\": {\"colorbar\": {\"outlinewidth\": 0, \"ticks\": \"\"}}, \"marker\": {\"colorbar\": {\"outlinewidth\": 0, \"ticks\": \"\"}}, \"type\": \"scatter3d\"}], \"scattercarpet\": [{\"marker\": {\"colorbar\": {\"outlinewidth\": 0, \"ticks\": \"\"}}, \"type\": \"scattercarpet\"}], \"scattergeo\": [{\"marker\": {\"colorbar\": {\"outlinewidth\": 0, \"ticks\": \"\"}}, \"type\": \"scattergeo\"}], \"scattergl\": [{\"marker\": {\"colorbar\": {\"outlinewidth\": 0, \"ticks\": \"\"}}, \"type\": \"scattergl\"}], \"scattermapbox\": [{\"marker\": {\"colorbar\": {\"outlinewidth\": 0, \"ticks\": \"\"}}, \"type\": \"scattermapbox\"}], \"scatterpolar\": [{\"marker\": {\"colorbar\": {\"outlinewidth\": 0, \"ticks\": \"\"}}, \"type\": \"scatterpolar\"}], \"scatterpolargl\": [{\"marker\": {\"colorbar\": {\"outlinewidth\": 0, \"ticks\": \"\"}}, \"type\": \"scatterpolargl\"}], \"scatterternary\": [{\"marker\": {\"colorbar\": {\"outlinewidth\": 0, \"ticks\": \"\"}}, \"type\": \"scatterternary\"}], \"surface\": [{\"colorbar\": {\"outlinewidth\": 0, \"ticks\": \"\"}, \"colorscale\": [[0.0, \"#0d0887\"], [0.1111111111111111, \"#46039f\"], [0.2222222222222222, \"#7201a8\"], [0.3333333333333333, \"#9c179e\"], [0.4444444444444444, \"#bd3786\"], [0.5555555555555556, \"#d8576b\"], [0.6666666666666666, \"#ed7953\"], [0.7777777777777778, \"#fb9f3a\"], [0.8888888888888888, \"#fdca26\"], [1.0, \"#f0f921\"]], \"type\": \"surface\"}], \"table\": [{\"cells\": {\"fill\": {\"color\": \"#EBF0F8\"}, \"line\": {\"color\": \"white\"}}, \"header\": {\"fill\": {\"color\": \"#C8D4E3\"}, \"line\": {\"color\": \"white\"}}, \"type\": \"table\"}]}, \"layout\": {\"annotationdefaults\": {\"arrowcolor\": \"#2a3f5f\", \"arrowhead\": 0, \"arrowwidth\": 1}, \"coloraxis\": {\"colorbar\": {\"outlinewidth\": 0, \"ticks\": \"\"}}, \"colorscale\": {\"diverging\": [[0, \"#8e0152\"], [0.1, \"#c51b7d\"], [0.2, \"#de77ae\"], [0.3, \"#f1b6da\"], [0.4, \"#fde0ef\"], [0.5, \"#f7f7f7\"], [0.6, \"#e6f5d0\"], [0.7, \"#b8e186\"], [0.8, \"#7fbc41\"], [0.9, \"#4d9221\"], [1, \"#276419\"]], \"sequential\": [[0.0, \"#0d0887\"], [0.1111111111111111, \"#46039f\"], [0.2222222222222222, \"#7201a8\"], [0.3333333333333333, \"#9c179e\"], [0.4444444444444444, \"#bd3786\"], [0.5555555555555556, \"#d8576b\"], [0.6666666666666666, \"#ed7953\"], [0.7777777777777778, \"#fb9f3a\"], [0.8888888888888888, \"#fdca26\"], [1.0, \"#f0f921\"]], \"sequentialminus\": [[0.0, \"#0d0887\"], [0.1111111111111111, \"#46039f\"], [0.2222222222222222, \"#7201a8\"], [0.3333333333333333, \"#9c179e\"], [0.4444444444444444, \"#bd3786\"], [0.5555555555555556, \"#d8576b\"], [0.6666666666666666, \"#ed7953\"], [0.7777777777777778, \"#fb9f3a\"], [0.8888888888888888, \"#fdca26\"], [1.0, \"#f0f921\"]]}, \"colorway\": [\"#636efa\", \"#EF553B\", \"#00cc96\", \"#ab63fa\", \"#FFA15A\", \"#19d3f3\", \"#FF6692\", \"#B6E880\", \"#FF97FF\", \"#FECB52\"], \"font\": {\"color\": \"#2a3f5f\"}, \"geo\": {\"bgcolor\": \"white\", \"lakecolor\": \"white\", \"landcolor\": \"#E5ECF6\", \"showlakes\": true, \"showland\": true, \"subunitcolor\": \"white\"}, \"hoverlabel\": {\"align\": \"left\"}, \"hovermode\": \"closest\", \"mapbox\": {\"style\": \"light\"}, \"paper_bgcolor\": \"white\", \"plot_bgcolor\": \"#E5ECF6\", \"polar\": {\"angularaxis\": {\"gridcolor\": \"white\", \"linecolor\": \"white\", \"ticks\": \"\"}, \"bgcolor\": \"#E5ECF6\", \"radialaxis\": {\"gridcolor\": \"white\", \"linecolor\": \"white\", \"ticks\": \"\"}}, \"scene\": {\"xaxis\": {\"backgroundcolor\": \"#E5ECF6\", \"gridcolor\": \"white\", \"gridwidth\": 2, \"linecolor\": \"white\", \"showbackground\": true, \"ticks\": \"\", \"zerolinecolor\": \"white\"}, \"yaxis\": {\"backgroundcolor\": \"#E5ECF6\", \"gridcolor\": \"white\", \"gridwidth\": 2, \"linecolor\": \"white\", \"showbackground\": true, \"ticks\": \"\", \"zerolinecolor\": \"white\"}, \"zaxis\": {\"backgroundcolor\": \"#E5ECF6\", \"gridcolor\": \"white\", \"gridwidth\": 2, \"linecolor\": \"white\", \"showbackground\": true, \"ticks\": \"\", \"zerolinecolor\": \"white\"}}, \"shapedefaults\": {\"line\": {\"color\": \"#2a3f5f\"}}, \"ternary\": {\"aaxis\": {\"gridcolor\": \"white\", \"linecolor\": \"white\", \"ticks\": \"\"}, \"baxis\": {\"gridcolor\": \"white\", \"linecolor\": \"white\", \"ticks\": \"\"}, \"bgcolor\": \"#E5ECF6\", \"caxis\": {\"gridcolor\": \"white\", \"linecolor\": \"white\", \"ticks\": \"\"}}, \"title\": {\"x\": 0.05}, \"xaxis\": {\"automargin\": true, \"gridcolor\": \"white\", \"linecolor\": \"white\", \"ticks\": \"\", \"title\": {\"standoff\": 15}, \"zerolinecolor\": \"white\", \"zerolinewidth\": 2}, \"yaxis\": {\"automargin\": true, \"gridcolor\": \"white\", \"linecolor\": \"white\", \"ticks\": \"\", \"title\": {\"standoff\": 15}, \"zerolinecolor\": \"white\", \"zerolinewidth\": 2}}}, \"title\": {\"text\": \"Age Vs Spendings\"}},\n",
              "                        {\"responsive\": true}\n",
              "                    ).then(function(){\n",
              "                            \n",
              "var gd = document.getElementById('fec46aa0-4c22-41fe-932f-9e65f7655035');\n",
              "var x = new MutationObserver(function (mutations, observer) {{\n",
              "        var display = window.getComputedStyle(gd).display;\n",
              "        if (!display || display === 'none') {{\n",
              "            console.log([gd, 'removed!']);\n",
              "            Plotly.purge(gd);\n",
              "            observer.disconnect();\n",
              "        }}\n",
              "}});\n",
              "\n",
              "// Listen for the removal of the full notebook cells\n",
              "var notebookContainer = gd.closest('#notebook-container');\n",
              "if (notebookContainer) {{\n",
              "    x.observe(notebookContainer, {childList: true});\n",
              "}}\n",
              "\n",
              "// Listen for the clearing of the current output cell\n",
              "var outputEl = gd.closest('.output');\n",
              "if (outputEl) {{\n",
              "    x.observe(outputEl, {childList: true});\n",
              "}}\n",
              "\n",
              "                        })\n",
              "                };\n",
              "                \n",
              "            </script>\n",
              "        </div>\n",
              "</body>\n",
              "</html>"
            ]
          },
          "metadata": {}
        }
      ]
    },
    {
      "cell_type": "code",
      "source": [
        "#Distribution of Spendings With Respect To Gender\n",
        "px.pie(dataset,names='gender', values='Spent', title='Gender Vs Spendings',color_discrete_sequence=px.colors.sequential.Blues_r,hole=.3)"
      ],
      "metadata": {
        "colab": {
          "base_uri": "https://localhost:8080/",
          "height": 542
        },
        "id": "jLUCBqygT14d",
        "outputId": "16670127-9b42-492c-f4c6-c115e82a127d"
      },
      "execution_count": null,
      "outputs": [
        {
          "output_type": "display_data",
          "data": {
            "text/html": [
              "<html>\n",
              "<head><meta charset=\"utf-8\" /></head>\n",
              "<body>\n",
              "    <div>\n",
              "            <script src=\"https://cdnjs.cloudflare.com/ajax/libs/mathjax/2.7.5/MathJax.js?config=TeX-AMS-MML_SVG\"></script><script type=\"text/javascript\">if (window.MathJax) {MathJax.Hub.Config({SVG: {font: \"STIX-Web\"}});}</script>\n",
              "                <script type=\"text/javascript\">window.PlotlyConfig = {MathJaxConfig: 'local'};</script>\n",
              "        <script src=\"https://cdn.plot.ly/plotly-latest.min.js\"></script>    \n",
              "            <div id=\"9c0256a6-b885-48a4-815b-6084f5508cce\" class=\"plotly-graph-div\" style=\"height:525px; width:100%;\"></div>\n",
              "            <script type=\"text/javascript\">\n",
              "                \n",
              "                    window.PLOTLYENV=window.PLOTLYENV || {};\n",
              "                    \n",
              "                if (document.getElementById(\"9c0256a6-b885-48a4-815b-6084f5508cce\")) {\n",
              "                    Plotly.newPlot(\n",
              "                        '9c0256a6-b885-48a4-815b-6084f5508cce',\n",
              "                        [{\"domain\": {\"x\": [0.0, 1.0], \"y\": [0.0, 1.0]}, \"hole\": 0.3, \"hoverlabel\": {\"namelength\": 0}, \"hovertemplate\": \"gender=%{label}<br>Spent=%{value}\", \"labels\": [\"M\", \"M\", \"M\", \"M\", \"M\", \"M\", \"M\", \"M\", \"M\", \"M\", \"M\", \"M\", \"M\", \"M\", \"M\", \"M\", \"M\", \"M\", \"M\", \"M\", \"M\", \"M\", \"M\", \"M\", \"M\", \"M\", \"M\", \"M\", \"M\", \"M\", \"M\", \"M\", \"M\", \"M\", \"M\", \"F\", \"F\", \"F\", \"F\", \"F\", \"F\", \"F\", \"F\", \"F\", \"F\", \"F\", \"F\", \"F\", \"F\", \"F\", \"F\", \"F\", \"F\", \"F\", \"M\", \"M\", \"M\", \"M\", \"M\", \"M\", \"M\", \"M\", \"M\", \"M\", \"M\", \"M\", \"M\", \"M\", \"M\", \"M\", \"M\", \"M\", \"M\", \"M\", \"M\", \"M\", \"M\", \"F\", \"F\", \"F\", \"F\", \"F\", \"F\", \"F\", \"F\", \"F\", \"F\", \"F\", \"F\", \"F\", \"F\", \"F\", \"F\", \"F\", \"F\", \"F\", \"F\", \"F\", \"F\", \"F\", \"F\", \"F\", \"F\", \"F\", \"F\", \"F\", \"F\", \"F\", \"F\", \"F\", \"F\", \"F\", \"M\", \"M\", \"M\", \"M\", \"M\", \"M\", \"M\", \"M\", \"M\", \"M\", \"M\", \"M\", \"M\", \"M\", \"M\", \"M\", \"M\", \"F\", \"F\", \"F\", \"F\", \"F\", \"F\", \"F\", \"F\", \"F\", \"F\", \"F\", \"F\", \"F\", \"F\", \"F\", \"F\", \"F\", \"F\", \"F\", \"F\", \"F\", \"F\", \"F\", \"M\", \"M\", \"M\", \"M\", \"M\", \"M\", \"M\", \"M\", \"M\", \"M\", \"M\", \"M\", \"M\", \"M\", \"M\", \"M\", \"M\", \"M\", \"M\", \"M\", \"F\", \"F\", \"F\", \"F\", \"F\", \"F\", \"F\", \"F\", \"F\", \"F\", \"F\", \"F\", \"F\", \"F\", \"F\", \"F\", \"F\", \"F\", \"F\", \"F\", \"F\", \"F\", \"F\", \"F\", \"F\", \"F\", \"F\", \"F\", \"F\", \"F\", \"F\", \"F\", \"F\", \"F\", \"F\", \"F\", \"F\", \"F\", \"F\", \"F\", \"F\", \"F\", \"F\", \"F\", \"M\", \"F\", \"F\", \"M\", \"M\", \"M\", \"M\", \"F\", \"M\", \"F\", \"F\", \"F\", \"F\", \"F\", \"F\", \"F\", \"F\", \"F\", \"F\", \"F\", \"M\", \"M\", \"M\", \"M\", \"M\", \"M\", \"M\", \"M\", \"M\", \"M\", \"M\", \"M\", \"M\", \"M\", \"M\", \"M\", \"M\", \"M\", \"M\", \"M\", \"M\", \"M\", \"M\", \"M\", \"M\", \"M\", \"M\", \"M\", \"M\", \"M\", \"M\", \"M\", \"M\", \"M\", \"M\", \"M\", \"M\", \"M\", \"M\", \"M\", \"F\", \"M\", \"M\", \"M\", \"M\", \"M\", \"M\", \"M\", \"M\", \"M\", \"M\", \"M\", \"M\", \"M\", \"M\", \"M\", \"M\", \"M\", \"M\", \"M\", \"M\", \"M\", \"M\", \"M\", \"M\", \"M\", \"M\", \"M\", \"M\", \"M\", \"F\", \"F\", \"F\", \"F\", \"F\", \"M\", \"M\", \"F\", \"M\", \"M\", \"M\", \"F\", \"M\", \"M\", \"M\", \"M\", \"F\", \"M\", \"F\", \"M\", \"M\", \"F\", \"M\", \"F\", \"F\", \"M\", \"M\", \"F\", \"F\", \"F\", \"F\", \"F\", \"F\", \"F\", \"F\", \"F\", \"F\", \"F\", \"M\", \"M\", \"F\", \"F\", \"F\", \"M\", \"M\", \"F\", \"F\", \"F\", \"F\", \"F\", \"F\", \"F\", \"F\", \"F\", \"F\", \"F\", \"F\", \"F\", \"F\", \"F\", \"F\", \"F\", \"F\", \"F\", \"F\", \"F\", \"F\", \"F\", \"F\", \"F\", \"F\", \"F\", \"F\", \"F\", \"F\", \"F\", \"F\", \"F\", \"F\", \"F\", \"F\", \"F\", \"F\", \"M\", \"M\", \"M\", \"F\", \"F\", \"F\", \"M\", \"F\", \"F\", \"M\", \"M\", \"F\", \"M\", \"M\", \"F\", \"M\", \"M\", \"F\", \"F\", \"F\", \"F\", \"F\", \"F\", \"M\", \"M\", \"F\", \"F\", \"F\", \"F\", \"F\", \"F\", \"F\", \"M\", \"F\", \"M\", \"F\", \"F\", \"F\", \"F\", \"F\", \"F\", \"M\", \"M\", \"M\", \"M\", \"M\", \"M\", \"M\", \"M\", \"M\", \"M\", \"M\", \"M\", \"M\", \"M\", \"M\", \"M\", \"M\", \"M\", \"M\", \"M\", \"M\", \"M\", \"M\", \"M\", \"M\", \"M\", \"M\", \"M\", \"M\", \"M\", \"M\", \"M\", \"M\", \"M\", \"M\", \"M\", \"M\", \"F\", \"F\", \"F\", \"F\", \"F\", \"F\", \"M\", \"M\", \"M\", \"F\", \"F\", \"F\", \"F\", \"F\", \"F\", \"F\", \"F\", \"F\", \"F\", \"F\", \"F\", \"F\", \"F\", \"F\", \"F\", \"F\", \"F\", \"F\", \"F\", \"F\", \"F\", \"F\", \"F\", \"F\", \"F\", \"F\", \"F\", \"F\", \"F\", \"F\", \"F\", \"F\", \"F\", \"F\", \"F\", \"F\", \"F\", \"F\", \"F\", \"F\", \"F\", \"M\", \"M\", \"M\", \"M\", \"M\", \"M\", \"M\", \"M\", \"M\", \"M\", \"M\", \"M\", \"M\", \"M\", \"M\", \"M\", \"M\", \"M\", \"M\", \"M\", \"M\", \"M\", \"M\", \"M\", \"M\", \"M\", \"M\", \"M\", \"M\", \"M\", \"M\", \"M\", \"M\", \"M\", \"M\", \"M\", \"M\", \"M\", \"M\", \"M\", \"M\", \"M\", \"M\", \"M\", \"M\", \"M\", \"M\", \"M\", \"M\", \"M\", \"M\", \"M\", \"M\", \"M\", \"M\", \"M\", \"M\", \"M\", \"M\", \"M\", \"M\", \"M\", \"M\", \"M\", \"M\", \"M\", \"M\", \"M\", \"M\", \"M\", \"M\", \"M\", \"M\", \"M\", \"M\", \"M\", \"M\", \"M\", \"M\", \"M\", \"M\", \"M\", \"M\", \"M\", \"M\", \"M\", \"M\", \"M\", \"M\", \"M\", \"M\", \"M\", \"M\", \"M\", \"M\", \"M\", \"M\", \"M\", \"M\", \"M\", \"M\", \"M\", \"M\", \"M\", \"M\", \"M\", \"M\", \"M\", \"M\", \"M\", \"M\", \"M\", \"M\", \"M\", \"M\", \"M\", \"M\", \"M\", \"M\", \"M\", \"M\", \"M\", \"M\", \"M\", \"M\", \"M\", \"M\", \"M\", \"M\", \"M\", \"M\", \"M\", \"M\", \"M\", \"M\", \"M\", \"M\", \"M\", \"M\", \"M\", \"M\", \"M\", \"M\", \"M\", \"M\", \"M\", \"M\", \"M\", \"M\", \"M\", \"M\", \"M\", \"M\", \"M\", \"M\", \"M\", \"M\", \"M\", \"M\", \"M\", \"M\", \"M\", \"M\", \"M\", \"M\", \"M\", \"M\", \"M\", \"M\", \"M\", \"M\", \"M\", \"M\", \"M\", \"M\", \"M\", \"M\", \"M\", \"M\", \"M\", \"M\", \"M\", \"M\", \"M\", \"M\", \"M\", \"M\", \"M\", \"M\", \"M\", \"M\", \"M\", \"M\", \"M\", \"M\", \"M\", \"M\", \"M\", \"M\", \"M\", \"M\", \"M\", \"M\", \"M\", \"M\", \"M\", \"M\", \"M\", \"M\", \"M\", \"M\", \"M\", \"M\", \"M\", \"M\", \"M\", \"M\", \"M\", \"M\", \"M\", \"M\", \"M\", \"M\", \"M\", \"M\", \"M\", \"M\", \"M\", \"M\", \"M\", \"M\", \"M\", \"M\", \"M\", \"M\", \"M\", \"M\", \"M\", \"M\", \"M\", \"M\", \"M\", \"M\", \"M\", \"M\", \"M\", \"M\", \"M\", \"M\", \"M\", \"M\", \"M\", \"M\", \"M\", \"M\", \"M\", \"M\", \"M\", \"M\", \"M\", \"M\", \"M\", \"M\", \"M\", \"M\", \"M\", \"M\", \"M\", \"M\", \"M\", \"M\", \"M\", \"M\", \"M\", \"M\", \"M\", \"M\", \"M\", \"M\", \"M\", \"M\", \"M\", \"M\", \"M\", \"M\", \"M\", \"M\", \"M\", \"M\", \"M\", \"M\", \"M\", \"M\", \"M\", \"M\", \"M\", \"M\", \"M\", \"M\", \"M\", \"M\", \"M\", \"M\", \"M\", \"M\", \"M\", \"F\", \"F\", \"F\", \"F\", \"F\", \"F\", \"F\", \"F\", \"F\", \"F\", \"F\", \"F\", \"F\", \"F\", \"F\", \"F\", \"F\", \"F\", \"F\", \"F\", \"F\", \"F\", \"F\", \"F\", \"F\", \"F\", \"F\", \"F\", \"F\", \"F\", \"F\", \"F\", \"F\", \"F\", \"F\", \"F\", \"F\", \"F\", \"F\", \"F\", \"F\", \"F\", \"F\", \"F\", \"F\", \"F\", \"F\", \"F\", \"F\", \"F\", \"F\", \"F\", \"F\", \"F\", \"F\", \"F\", \"F\", \"F\", \"F\", \"F\", \"F\", \"F\", \"F\", \"F\", \"F\", \"F\", \"F\", \"F\", \"F\", \"F\", \"F\", \"F\", \"F\", \"F\", \"F\", \"F\", \"F\", \"F\", \"F\", \"F\", \"F\", \"F\", \"F\", \"F\", \"F\", \"F\", \"F\", \"F\", \"F\", \"F\", \"F\", \"F\", \"F\", \"F\", \"F\", \"F\", \"F\", \"F\", \"F\", \"F\", \"F\", \"F\", \"F\", \"F\", \"F\", \"F\", \"F\", \"F\", \"F\", \"F\", \"F\", \"F\", \"F\", \"F\", \"F\", \"F\", \"F\", \"F\", \"F\", \"F\", \"F\", \"F\", \"F\", \"F\", \"F\", \"F\", \"F\", \"F\", \"F\", \"F\", \"F\", \"F\", \"F\", \"F\", \"F\", \"F\", \"F\", \"F\", \"F\", \"F\", \"F\", \"F\", \"F\", \"F\", \"F\", \"F\", \"F\", \"F\", \"F\", \"F\", \"F\", \"F\", \"F\", \"F\", \"F\", \"F\", \"F\", \"F\", \"F\", \"F\", \"F\", \"F\", \"F\", \"F\", \"F\", \"F\", \"F\", \"F\", \"F\", \"F\", \"F\", \"F\", \"F\", \"F\", \"F\", \"F\", \"F\", \"F\", \"F\", \"F\", \"F\", \"F\", \"F\", \"F\", \"F\", \"F\", \"F\", \"F\", \"F\", \"F\", \"F\", \"F\", \"F\", \"F\", \"F\", \"F\", \"F\", \"F\", \"F\", \"F\", \"F\", \"F\", \"F\", \"F\", \"F\", \"F\", \"F\", \"F\", \"F\", \"F\", \"F\", \"F\", \"F\", \"F\", \"F\", \"F\", \"F\", \"F\", \"F\", \"F\", \"F\", \"F\", \"F\", \"F\", \"M\", \"M\", \"M\", \"M\", \"M\", \"M\", \"M\", \"M\", \"M\", \"M\", \"M\", \"M\", \"M\", \"M\", \"M\", \"M\", \"M\", \"M\", \"M\", \"M\", \"M\", \"M\", \"M\", \"M\", \"M\", \"M\", \"M\", \"M\", \"M\", \"M\", \"M\", \"M\", \"M\", \"M\", \"M\", \"M\", \"M\", \"M\", \"M\", \"M\", \"M\", \"M\", \"M\", \"F\", \"F\", \"F\", \"F\", \"F\", \"F\", \"F\", \"F\", \"F\", \"F\", \"F\", \"F\", \"F\", \"F\", \"F\", \"F\", \"F\", \"F\", \"F\", \"F\", \"F\", \"F\", \"F\", \"F\", \"F\", \"F\", \"F\", \"F\", \"F\", \"F\", \"F\", \"F\", \"F\", \"F\", \"F\", \"F\", \"F\", \"F\", \"F\", \"F\", \"F\", \"F\", \"F\", \"F\", \"F\", \"F\", \"F\", \"F\", \"F\", \"F\", \"F\", \"F\"], \"legendgroup\": \"\", \"name\": \"\", \"showlegend\": true, \"type\": \"pie\", \"values\": [1.429999948, 1.8200000230000002, 0.0, 1.25, 1.289999962, 0.0, 4.769999981000001, 1.269999981, 1.5, 3.159999967, 0.0, 0.0, 0.0, 0.0, 10.28000021, 0.0, 0.5699999929999999, 0.0, 1.6900000569999998, 4.6300001139999996, 0.0, 2.609999895, 3.049999952, 3.0599999430000002, 0.0, 0.0, 2.9800000189999998, 5.5200001, 1.6900000569999998, 0.0, 0.0, 8.470000147999999, 15.82000017, 1.4700000290000002, 1.5299999709999998, 0.0, 18.06999969, 1.6100000140000001, 1.190000057, 9.220000267, 0.0, 0.0, 1.50999999, 9.430000067, 0.0, 6.9600000379999996, 1.2200000290000002, 2.799999952, 1.600000024, 1.129999995, 5.730000018999999, 0.0, 9.379999995, 0.0, 0.0, 5.629999995, 3.840000033, 0.0, 0.0, 0.0, 1.039999962, 0.0, 0.0, 1.4600000380000002, 2.839999914, 1.350000024, 0.0, 0.0, 5.75, 3.9800000189999998, 4.449999928, 1.320000052, 0.0, 0.0, 0.0, 4.090000033, 0.0, 1.5299999709999998, 0.0, 10.03000009, 0.0, 0.0, 4.25, 20.29000032, 1.3899999859999999, 4.440000057, 1.570000052, 0.0, 1.289999962, 1.4099999669999999, 33.33000004, 3.340000093, 8.050000072000001, 5.210000038, 0.0, 0.0, 0.0, 0.0, 0.0, 0.0, 2.349999964, 19.32999957, 0.0, 1.4500000480000002, 4.050000072, 32.97999978, 31.28999949, 0.0, 8.789999962000001, 9.119999886, 6.26000011, 38.63999999, 0.239999995, 0.0, 0.0, 0.0, 1.090000033, 0.0, 0.0, 0.0, 2.680000067, 3.00999999, 0.0, 1.580000043, 14.06000042, 2.900000095, 1.5900000330000001, 0.0, 0.0, 4.590000153, 0.540000021, 0.0, 0.0, 13.41000009, 0.0, 0.0, 0.860000014, 10.77000046, 5.590000152999999, 58.16000044, 10.61999977, 5.4600000379999996, 0.0, 0.0, 0.0, 20.17999983, 176.3799977, 34.39000046, 5.49000001, 0.0, 1.419999957, 51.97000027, 3.1900000569999998, 0.0, 0.0, 1.9600000380000002, 0.600000024, 0.0, 0.0, 1.149999976, 3.180000067, 0.0, 0.9800000190000001, 0.0, 0.0, 1.480000049, 2.939999938, 4.600000024, 2.669999957, 0.0, 0.0, 0.0, 0.0, 10.96000051, 2.359999895, 7.350000143, 0.0, 9.340000032999999, 4.6199998860000004, 8.5, 0.0, 0.0, 0.0, 0.0, 0.0, 2.420000076, 2.950000048, 3.720000029, 4.4499998089999995, 0.0, 13.07000017, 10.84999967, 10.84999967, 12.06000006, 8.860000134, 27.72999954, 7.349999905, 26.53000045, 39.42999983, 47.93000031, 6.0399999620000004, 2.369999886, 6.340000152999999, 0.0, 0.0, 53.21999949, 35.79999948, 180.22000119999998, 76.41000056, 9.549999952, 18.01999998, 13.37, 4.590000033, 0.0, 25.86000001, 0.49000001, 0.0, 1.679999948, 25.41999936, 3.310000062, 1.5499999519999998, 5.439999938, 0.0, 81.60999787, 0.0, 4.98999989, 31.709999800000002, 25.52000046, 4.25999999, 1.830000043, 1.3899999859999999, 2.8099999430000002, 11.04999971, 0.0, 7.229999781, 0.0, 4.269999862, 9.479999900000001, 2.890000105, 10.56999969, 3.200000048, 0.0, 0.970000029, 4.370000005, 0.5699999929999999, 1.8099999430000002, 0.0, 3.319999933, 0.0, 1.179999948, 0.0, 4.730000018999999, 1.379999995, 0.0, 1.25999999, 3.049999952, 0.0, 3.5799999239999996, 6.2799999710000005, 1.210000038, 46.63000011, 34.44000012, 1.289999962, 9.21999979, 7.719999908999999, 1.5, 0.0, 0.180000007, 0.0, 0.0, 0.0, 5.389999866, 5.779999852, 0.0, 0.0, 0.99000001, 1.2799999709999998, 5.2799999710000005, 1.379999995, 1.049999952, 1.340000033, 0.0, 10.42999983, 6.099999905, 19.65999949, 56.19000077, 0.0, 6.029999852, 0.0, 1.830000043, 0.9599999790000001, 2.619999945, 0.0, 1.3600000140000001, 0.0, 0.0, 6.0500001910000005, 19.88000035, 4.5299999710000005, 6.779999852, 3.090000033, 0.0, 0.0, 0.0, 3.140000105, 7.540000200000001, 0.0, 0.99000001, 34.1500001, 3.090000033, 3.959999919, 2.650000095, 0.0, 8.179999828, 0.0, 4.1300001139999996, 0.0, 5.389999866, 0.720000029, 0.0, 0.0, 1.679999948, 19.10000038, 3.5799999239999996, 1.580000043, 2.75, 0.0, 41.29000068, 0.0, 9.410000324, 13.40999985, 0.949999988, 0.0, 32.28999996, 0.0, 1.730000019, 0.889999986, 1.379999995, 10.229999900000001, 4.429999828, 3.8299999239999996, 1.1100000140000001, 5.349999905, 0.0, 3.950000048, 4.019999981000001, 1.330000043, 3.089999914, 1.419999957, 0.0, 6.019999981000001, 0.0, 0.0, 1.230000019, 0.0, 77.07999969, 9.329999924, 0.0, 4.090000033, 1.370000005, 0.0, 1.379999995, 5.909999967, 0.0, 0.0, 0.0, 0.0, 0.0, 6.910000086, 9.539999962000001, 17.30000037, 1.309999943, 4.079999924, 17.92999995, 1.2200000290000002, 4.569999933, 2.269999981, 1.0299999709999998, 36.13000035, 1.370000005, 1.5399999619999998, 59.06999993, 7.810000062, 0.0, 28.5, 10.07999992, 67.97999978, 1.6399999859999999, 0.5299999710000001, 0.0, 0.0, 1.370000005, 1.4400000569999998, 0.0, 0.0, 3.919999957, 49.44000006, 1.230000019, 4.180000067, 1.4400000569999998, 0.0, 0.0, 1.330000043, 0.0, 3.7499998810000004, 2.7300000189999998, 2.3200000519999997, 1.320000052, 0.0, 6.169999957000001, 4.940000057, 0.0, 0.0, 0.0, 6.340000152999999, 0.860000014, 1.350000024, 39.25000095, 12.51000035, 0.0, 4.079999924, 0.0, 4.5500001910000005, 0.0, 8.910000086, 0.0, 1.6100000140000001, 4.3000001910000005, 2.869999945, 1.5599999430000002, 1.570000052, 3.210000038, 0.0, 0.0, 0.0, 0.0, 0.0, 0.0, 1.379999995, 0.0, 2.839999914, 1.320000052, 0.0, 1.519999981, 0.0, 0.9800000190000001, 0.0, 0.0, 1.4099999669999999, 0.0, 0.0, 0.0, 0.0, 0.0, 0.0, 0.0, 0.0, 0.0, 4.329999924, 0.0, 0.0, 1.070000052, 0.0, 0.0, 0.0, 1.5, 0.0, 0.0, 1.230000019, 0.0, 0.0, 0.0, 4.659999847, 0.0, 1.5399999619999998, 2.720000029, 4.289999962, 3.25, 0.0, 1.580000043, 2.619999886, 0.0, 0.0, 1.5399999619999998, 1.5900000330000001, 1.3899999859999999, 12.39000034, 0.0, 0.0, 0.0, 0.970000029, 0.0, 3.150000095, 11.94999981, 1.3600000140000001, 0.0, 0.0, 0.0, 0.0, 1.480000019, 0.0, 1.480000019, 0.0, 7.269999981000001, 0.40999999600000003, 2.680000067, 0.0, 0.0, 6.079999924, 1.50999999, 0.0, 0.0, 2.099999905, 1.5599999430000002, 2.960000038, 12.36999989, 0.0, 0.0, 254.049996, 122.4, 0.0, 86.33000112, 161.9099991, 1.820000052, 236.7699986, 639.9499981, 1.5900000330000001, 52.97000015, 360.15000150000003, 16.520000099999997, 1.5399999619999998, 163.89999719999997, 210.3600006, 35.73000026, 215.83999939999998, 3.800000072, 96.80000055, 157.329998, 26.56999946, 93.08999991, 78.9200002, 103.1500002, 36.53000021, 28.85000002, 257.7099986, 7.220000148, 7.899999976, 62.06000042, 2.099999905, 14.14000046, 23.73000026, 1.7100000380000002, 9.440000057, 27.79999924, 67.65000057, 2.9800000189999998, 3.24000001, 52.26000011, 13.0400002, 38.38999975, 138.7699997, 260.3800013, 8.549999952, 15.63000023, 60.19999957, 34.19000006, 3.24000001, 5.140000105, 216.5599982, 93.07000041, 56.05999923, 54.09999871, 7.8000000720000005, 5.2200000289999995, 358.5500029, 280.9899995, 115.12000079999999, 219.770002, 52.01999986, 35.30999994, 63.32000101, 54.24000037, 65.22999996, 4.210000038, 48.60999978, 13.91999972, 11.059999699999999, 0.0, 87.42000079, 1.6599999669999999, 6.74000001, 8.220000267, 5.580000042999999, 9.229999900000001, 34.22999972, 3.149999976, 20.209999399999997, 59.43999982, 38.58999968, 0.0, 21.84999979, 1.9600000380000002, 22.32000005, 110.23999909999999, 29.75000048, 18.47000015, 36.24000025, 76.43999958, 0.0, 11.80000019, 26.81999981, 65.67000115, 32.24000025, 245.59999989999997, 17.6400001, 38.54999936, 40.75999951, 6.370000005, 0.0, 89.76000047, 16.1500001, 189.1299984, 8.529999852000001, 67.77000129, 96.8999989, 37.13000011, 53.15999961, 192.9299995, 236.1199988, 12.57000017, 12.5800004, 28.04999959, 83.48000121, 30.479999900000003, 20.29999983, 131.5799983, 14.62999988, 64.46999931, 30.15000057, 62.25000024, 78.03999984, 3.400000095, 14.830000400000001, 22.42999983, 44.14000034, 69.65999997, 16.26999998, 5.789999902000001, 42.08000016, 67.66999984, 34.07000089, 41.71999967, 19.56999981, 57.37, 17.36999965, 100.289999, 3.709999919, 23.209999800000002, 0.0, 177.88999919999998, 66.7700001, 32.67999995, 420.5799983, 87.55000067, 232.37000079999999, 150.1400012, 96.48000073, 95.5100013, 72.3100003, 0.0, 9.209999919, 254.25000380000003, 11.17000031, 34.23000026, 25.26000011, 1.289999962, 113.99000120000001, 121.0999982, 98.70000017, 8.800000072000001, 9.929999947999999, 53.38999939, 3.7699999810000002, 3.1900000569999998, 24.17999995, 76.89999968, 14.520000099999999, 36.17000055, 38.44000077, 61.92999995, 70.41000079999999, 37.5999999, 20.59000027, 24.78000021, 29.53999937, 37.84999979, 2.290000021, 24.1900003, 8.519999981, 163.36, 58.14000005, 29.30999982, 116.3399996, 60.89999914, 40.02000093, 260.06999840000003, 359.4700001, 105.7099996, 10.66000009, 143.30000090000001, 65.02999854, 117.55999969999999, 143.4300001, 9.659999847, 124.79999950000001, 98.55000019, 40.77000022, 134.8799999, 19.3599999, 0.0, 43.01000035, 42.62999976, 75.78999984, 7.7100000379999996, 14.03999984, 39.85999966, 36.77999961, 54.86999953, 87.78999959999999, 6.730000018999999, 76.83999932, 15.53999972, 17.67000008, 49.60000014, 53.26999903, 126.9299996, 179.620001, 38.42000043, 58.59999989999999, 39.72999978, 19.11000001, 15.81000018, 140.97000219999998, 60.76000023, 13.51000011, 55.10000002, 12.63000011, 81.36000025, 16.47000003, 31.02999997, 60.72999966, 74.83000135, 7.480000018999999, 36.4800005, 68.06000054, 7.879999995, 1.4600000380000002, 123.5500004, 135.75000119999999, 116.88000009999999, 365.66000089999994, 128.2799988, 10.77999985, 133.69999860000001, 64.87999952, 603.380002, 220.55999900000003, 33.89999998, 318.97000319999995, 248.6400001, 40.93000007, 109.2500008, 134.1199975, 103.3899996, 116.5599996, 120.29999939999999, 25.45999968, 35.67999983, 131.7800006, 29.91000021, 46.7900002, 3.189999938, 16.67999983, 11.11000013, 127.5699993, 11.00999999, 3.599999905, 33.65999997, 33.3499999, 128.6099997, 33.93000031, 36.440000299999994, 5.769999981000001, 181.7200011, 41.42000008, 58.67999971, 80.33999979, 104.45999959999999, 87.7300005, 253.990002, 39.44000006, 39.04999948, 16.93999958, 142.7099985, 27.29999983, 29.3799994, 277.5799986, 422.8400038, 38.50000083, 17.329999800000003, 32.30999994, 41.96999943, 352.44999889999997, 264.5899997, 158.5999998, 4.769999981000001, 4.820000052, 37.25999999, 39.520000700000004, 19.47999978, 16.38, 22.67000031, 15.99000025, 17.04999995, 64.40999997, 44.21999955, 38.18000007, 268.050002, 77.59000027, 46.77999997, 153.1199975, 55.99000025, 31.540000199999998, 147.339999, 159.57000209999998, 117.62999950000001, 171.9799976, 18.10000038, 4.3000001910000005, 11.57000005, 24.48000002, 169.66999819999998, 62.14000034, 76.68000025, 195.14999780000002, 38.36000013, 24.56999969, 74.41000032, 33.46999907, 4.2200000289999995, 147.6700006, 0.0, 62.14000058, 4.560000062, 35.05999982, 29.31000018, 169.91999730000003, 41.63, 75.70000076, 256.46999819999996, 612.3000032000001, 51.84000087, 54.790000199999994, 179.050001, 17.74000001, 375.7199963, 1.570000052, 429.47999810000005, 95.85000050000001, 3.819999933, 226.5399992, 50.72000062, 54.57000089, 25.22000039, 9.970000267, 1.730000019, 123.0900019, 37.83000016, 33.03999937, 105.0199997, 0.0, 5.929999948, 0.0, 3.75, 343.2599944, 19.1899997, 61.02999771, 56.16999996, 39.23000026, 99.1799984, 16.17999971, 23.97000039, 2.620000005, 2.779999971, 0.0, 42.37000036, 22.04999971, 10.31999981, 9.809999943, 63.45000076, 10.54999995, 38.94000041, 38.02999961, 314.2999983, 173.76, 37.32000124, 2.629999995, 263.8100007, 177.1099993, 343.4199994, 33.22999942, 234.6599982, 297.8299981, 31.00999963, 84.65999889, 115.88000259999998, 84.51000023, 13.05999959, 23.64999962, 89.35000026, 17.30000019, 23.33999968, 40.9600004, 50.11000001, 66.79000068, 1.6399999859999999, 36.229999299999996, 62.86999989, 71.58000052, 350.5099957, 213.6899986, 10.96000016, 37.39999962, 210.8200028, 42.41000032, 33.19999933, 72.91000104, 293.8800011, 167.0499997, 123.800001, 85.70000196, 65.17999971, 46.43000007, 68.55999959, 8.189999938, 48.54999948, 82.27999902, 71.53000104, 191.419996, 321.8700004, 65.03000033, 194.80999880000002, 78.45999932, 53.62999868, 243.7699978, 262.8899981, 4.0500001910000005, 16.40999985, 66.38999987, 9.609999895, 22.12000012, 78.06000042, 40.87999928, 88.21000016, 48.93999863, 95.84999895, 106.92999979999999, 254.41999700000002, 117.34000049999999, 390.2599992, 340.40999930000004, 33.47000039, 66.27999985, 48.18000007, 156.1199993, 288.33000350000003, 40.37000024, 19.27999985, 34.03000015, 29.67000008, 47.78999913, 111.6500003, 24.33000016, 188.51000019999998, 33.14000034, 59.85000026, 21.10999966, 38.35000062, 30.84000027, 14.58999991, 15.91999972, 24.22000015, 238.40000069999996, 132.7300007, 201.6000042, 465.07999810000007, 234.93999920000002, 195.0799994, 104.6899989, 295.5499957, 226.0300014, 287.690003, 315.90000510000004, 332.98999889999993, 282.49000099999995, 115.66000079999999, 247.3200026, 11.20000017, 25.45999998, 299.5299983, 140.4200011, 100.88000109999999, 13.35000038, 73.74999964, 76.75999916, 145.8199974, 125.27000109999999, 38.62999976, 7.139999986, 116.9899981, 175.9700005, 105.6600007, 259.17999879999996, 46.92000186, 187.73999780000003, 380.6599952, 541.7000022999999, 409.5600026, 102.3900002, 67.13000107, 22.86000025, 134.889999, 369.069997, 198.08999719999997, 91.00000054, 297.91000069999996, 50.29000044, 9.419999837999999, 20.51999998, 38.13999993, 142.05000249999998, 402.3000026, 159.29999899999999, 193.6599991, 66.83999872, 178.6700007, 130.3600011, 114.8599998, 3.199999928, 7.529999852, 2.6900000569999998, 27.32999969, 53.78999972, 61.00999904, 46.66999936, 12.10999984, 3.199999928, 32.09000015, 2.960000038, 23.69999957, 16.94000018, 46.64999926, 12.67999995, 19.82000005, 21.26000023, 40.73000062, 25.01000023, 11.519999499999999, 7.700000048, 12.14999962, 14.96000034, 1.49000001, 28.47000003, 15.14999998, 60.22999907, 28.71999955, 34.86999965, 13.50000036, 13.55999994, 9.259999871, 17.94000006, 25.75000024, 30.08000076, 7.26000011, 18.41999996, 50.5, 82.13999915, 36.60000038, 19.58000016, 13.65000045, 30.26000011, 113.6800029, 11.42999983, 99.52000237, 110.78000209999999, 120.87999920000001, 35.54000032, 119.6400018, 11.18999994, 138.9200006, 14.48000044, 163.8000002, 111.98999950000001, 15.04999995, 237.3199975, 47.87999952, 164.64000149999998, 200.8299961, 105.2199969, 127.3200028, 68.67000008, 20.05000019, 9.409999967000001, 77.59999979, 16.73000002, 246.7499975, 223.18999480000002, 67.60999918, 319.0000019, 82.92999887, 57.0, 233.110002, 217.7799966, 323.06000710000006, 87.99000168, 105.4500008, 120.8999977, 301.0499992, 62.31999922, 279.21999500000004, 158.05000230000002, 36.01000071, 16.34000051, 162.63999750000002, 333.74999429999997, 33.71000051, 232.5900005, 47.69000006, 358.189997, 173.8800035, 40.28999949, 198.71000049999998, 165.6099987]}],\n",
              "                        {\"legend\": {\"tracegroupgap\": 0}, \"piecolorway\": [\"rgb(8,48,107)\", \"rgb(8,81,156)\", \"rgb(33,113,181)\", \"rgb(66,146,198)\", \"rgb(107,174,214)\", \"rgb(158,202,225)\", \"rgb(198,219,239)\", \"rgb(222,235,247)\", \"rgb(247,251,255)\"], \"template\": {\"data\": {\"bar\": [{\"error_x\": {\"color\": \"#2a3f5f\"}, \"error_y\": {\"color\": \"#2a3f5f\"}, \"marker\": {\"line\": {\"color\": \"#E5ECF6\", \"width\": 0.5}}, \"type\": \"bar\"}], \"barpolar\": [{\"marker\": {\"line\": {\"color\": \"#E5ECF6\", \"width\": 0.5}}, \"type\": \"barpolar\"}], \"carpet\": [{\"aaxis\": {\"endlinecolor\": \"#2a3f5f\", \"gridcolor\": \"white\", \"linecolor\": \"white\", \"minorgridcolor\": \"white\", \"startlinecolor\": \"#2a3f5f\"}, \"baxis\": {\"endlinecolor\": \"#2a3f5f\", \"gridcolor\": \"white\", \"linecolor\": \"white\", \"minorgridcolor\": \"white\", \"startlinecolor\": \"#2a3f5f\"}, \"type\": \"carpet\"}], \"choropleth\": [{\"colorbar\": {\"outlinewidth\": 0, \"ticks\": \"\"}, \"type\": \"choropleth\"}], \"contour\": [{\"colorbar\": {\"outlinewidth\": 0, \"ticks\": \"\"}, \"colorscale\": [[0.0, \"#0d0887\"], [0.1111111111111111, \"#46039f\"], [0.2222222222222222, \"#7201a8\"], [0.3333333333333333, \"#9c179e\"], [0.4444444444444444, \"#bd3786\"], [0.5555555555555556, \"#d8576b\"], [0.6666666666666666, \"#ed7953\"], [0.7777777777777778, \"#fb9f3a\"], [0.8888888888888888, \"#fdca26\"], [1.0, \"#f0f921\"]], \"type\": \"contour\"}], \"contourcarpet\": [{\"colorbar\": {\"outlinewidth\": 0, \"ticks\": \"\"}, \"type\": \"contourcarpet\"}], \"heatmap\": [{\"colorbar\": {\"outlinewidth\": 0, \"ticks\": \"\"}, \"colorscale\": [[0.0, \"#0d0887\"], [0.1111111111111111, \"#46039f\"], [0.2222222222222222, \"#7201a8\"], [0.3333333333333333, \"#9c179e\"], [0.4444444444444444, \"#bd3786\"], [0.5555555555555556, \"#d8576b\"], [0.6666666666666666, \"#ed7953\"], [0.7777777777777778, \"#fb9f3a\"], [0.8888888888888888, \"#fdca26\"], [1.0, \"#f0f921\"]], \"type\": \"heatmap\"}], \"heatmapgl\": [{\"colorbar\": {\"outlinewidth\": 0, \"ticks\": \"\"}, \"colorscale\": [[0.0, \"#0d0887\"], [0.1111111111111111, \"#46039f\"], [0.2222222222222222, \"#7201a8\"], [0.3333333333333333, \"#9c179e\"], [0.4444444444444444, \"#bd3786\"], [0.5555555555555556, \"#d8576b\"], [0.6666666666666666, \"#ed7953\"], [0.7777777777777778, \"#fb9f3a\"], [0.8888888888888888, \"#fdca26\"], [1.0, \"#f0f921\"]], \"type\": \"heatmapgl\"}], \"histogram\": [{\"marker\": {\"colorbar\": {\"outlinewidth\": 0, \"ticks\": \"\"}}, \"type\": \"histogram\"}], \"histogram2d\": [{\"colorbar\": {\"outlinewidth\": 0, \"ticks\": \"\"}, \"colorscale\": [[0.0, \"#0d0887\"], [0.1111111111111111, \"#46039f\"], [0.2222222222222222, \"#7201a8\"], [0.3333333333333333, \"#9c179e\"], [0.4444444444444444, \"#bd3786\"], [0.5555555555555556, \"#d8576b\"], [0.6666666666666666, \"#ed7953\"], [0.7777777777777778, \"#fb9f3a\"], [0.8888888888888888, \"#fdca26\"], [1.0, \"#f0f921\"]], \"type\": \"histogram2d\"}], \"histogram2dcontour\": [{\"colorbar\": {\"outlinewidth\": 0, \"ticks\": \"\"}, \"colorscale\": [[0.0, \"#0d0887\"], [0.1111111111111111, \"#46039f\"], [0.2222222222222222, \"#7201a8\"], [0.3333333333333333, \"#9c179e\"], [0.4444444444444444, \"#bd3786\"], [0.5555555555555556, \"#d8576b\"], [0.6666666666666666, \"#ed7953\"], [0.7777777777777778, \"#fb9f3a\"], [0.8888888888888888, \"#fdca26\"], [1.0, \"#f0f921\"]], \"type\": \"histogram2dcontour\"}], \"mesh3d\": [{\"colorbar\": {\"outlinewidth\": 0, \"ticks\": \"\"}, \"type\": \"mesh3d\"}], \"parcoords\": [{\"line\": {\"colorbar\": {\"outlinewidth\": 0, \"ticks\": \"\"}}, \"type\": \"parcoords\"}], \"pie\": [{\"automargin\": true, \"type\": \"pie\"}], \"scatter\": [{\"marker\": {\"colorbar\": {\"outlinewidth\": 0, \"ticks\": \"\"}}, \"type\": \"scatter\"}], \"scatter3d\": [{\"line\": {\"colorbar\": {\"outlinewidth\": 0, \"ticks\": \"\"}}, \"marker\": {\"colorbar\": {\"outlinewidth\": 0, \"ticks\": \"\"}}, \"type\": \"scatter3d\"}], \"scattercarpet\": [{\"marker\": {\"colorbar\": {\"outlinewidth\": 0, \"ticks\": \"\"}}, \"type\": \"scattercarpet\"}], \"scattergeo\": [{\"marker\": {\"colorbar\": {\"outlinewidth\": 0, \"ticks\": \"\"}}, \"type\": \"scattergeo\"}], \"scattergl\": [{\"marker\": {\"colorbar\": {\"outlinewidth\": 0, \"ticks\": \"\"}}, \"type\": \"scattergl\"}], \"scattermapbox\": [{\"marker\": {\"colorbar\": {\"outlinewidth\": 0, \"ticks\": \"\"}}, \"type\": \"scattermapbox\"}], \"scatterpolar\": [{\"marker\": {\"colorbar\": {\"outlinewidth\": 0, \"ticks\": \"\"}}, \"type\": \"scatterpolar\"}], \"scatterpolargl\": [{\"marker\": {\"colorbar\": {\"outlinewidth\": 0, \"ticks\": \"\"}}, \"type\": \"scatterpolargl\"}], \"scatterternary\": [{\"marker\": {\"colorbar\": {\"outlinewidth\": 0, \"ticks\": \"\"}}, \"type\": \"scatterternary\"}], \"surface\": [{\"colorbar\": {\"outlinewidth\": 0, \"ticks\": \"\"}, \"colorscale\": [[0.0, \"#0d0887\"], [0.1111111111111111, \"#46039f\"], [0.2222222222222222, \"#7201a8\"], [0.3333333333333333, \"#9c179e\"], [0.4444444444444444, \"#bd3786\"], [0.5555555555555556, \"#d8576b\"], [0.6666666666666666, \"#ed7953\"], [0.7777777777777778, \"#fb9f3a\"], [0.8888888888888888, \"#fdca26\"], [1.0, \"#f0f921\"]], \"type\": \"surface\"}], \"table\": [{\"cells\": {\"fill\": {\"color\": \"#EBF0F8\"}, \"line\": {\"color\": \"white\"}}, \"header\": {\"fill\": {\"color\": \"#C8D4E3\"}, \"line\": {\"color\": \"white\"}}, \"type\": \"table\"}]}, \"layout\": {\"annotationdefaults\": {\"arrowcolor\": \"#2a3f5f\", \"arrowhead\": 0, \"arrowwidth\": 1}, \"coloraxis\": {\"colorbar\": {\"outlinewidth\": 0, \"ticks\": \"\"}}, \"colorscale\": {\"diverging\": [[0, \"#8e0152\"], [0.1, \"#c51b7d\"], [0.2, \"#de77ae\"], [0.3, \"#f1b6da\"], [0.4, \"#fde0ef\"], [0.5, \"#f7f7f7\"], [0.6, \"#e6f5d0\"], [0.7, \"#b8e186\"], [0.8, \"#7fbc41\"], [0.9, \"#4d9221\"], [1, \"#276419\"]], \"sequential\": [[0.0, \"#0d0887\"], [0.1111111111111111, \"#46039f\"], [0.2222222222222222, \"#7201a8\"], [0.3333333333333333, \"#9c179e\"], [0.4444444444444444, \"#bd3786\"], [0.5555555555555556, \"#d8576b\"], [0.6666666666666666, \"#ed7953\"], [0.7777777777777778, \"#fb9f3a\"], [0.8888888888888888, \"#fdca26\"], [1.0, \"#f0f921\"]], \"sequentialminus\": [[0.0, \"#0d0887\"], [0.1111111111111111, \"#46039f\"], [0.2222222222222222, \"#7201a8\"], [0.3333333333333333, \"#9c179e\"], [0.4444444444444444, \"#bd3786\"], [0.5555555555555556, \"#d8576b\"], [0.6666666666666666, \"#ed7953\"], [0.7777777777777778, \"#fb9f3a\"], [0.8888888888888888, \"#fdca26\"], [1.0, \"#f0f921\"]]}, \"colorway\": [\"#636efa\", \"#EF553B\", \"#00cc96\", \"#ab63fa\", \"#FFA15A\", \"#19d3f3\", \"#FF6692\", \"#B6E880\", \"#FF97FF\", \"#FECB52\"], \"font\": {\"color\": \"#2a3f5f\"}, \"geo\": {\"bgcolor\": \"white\", \"lakecolor\": \"white\", \"landcolor\": \"#E5ECF6\", \"showlakes\": true, \"showland\": true, \"subunitcolor\": \"white\"}, \"hoverlabel\": {\"align\": \"left\"}, \"hovermode\": \"closest\", \"mapbox\": {\"style\": \"light\"}, \"paper_bgcolor\": \"white\", \"plot_bgcolor\": \"#E5ECF6\", \"polar\": {\"angularaxis\": {\"gridcolor\": \"white\", \"linecolor\": \"white\", \"ticks\": \"\"}, \"bgcolor\": \"#E5ECF6\", \"radialaxis\": {\"gridcolor\": \"white\", \"linecolor\": \"white\", \"ticks\": \"\"}}, \"scene\": {\"xaxis\": {\"backgroundcolor\": \"#E5ECF6\", \"gridcolor\": \"white\", \"gridwidth\": 2, \"linecolor\": \"white\", \"showbackground\": true, \"ticks\": \"\", \"zerolinecolor\": \"white\"}, \"yaxis\": {\"backgroundcolor\": \"#E5ECF6\", \"gridcolor\": \"white\", \"gridwidth\": 2, \"linecolor\": \"white\", \"showbackground\": true, \"ticks\": \"\", \"zerolinecolor\": \"white\"}, \"zaxis\": {\"backgroundcolor\": \"#E5ECF6\", \"gridcolor\": \"white\", \"gridwidth\": 2, \"linecolor\": \"white\", \"showbackground\": true, \"ticks\": \"\", \"zerolinecolor\": \"white\"}}, \"shapedefaults\": {\"line\": {\"color\": \"#2a3f5f\"}}, \"ternary\": {\"aaxis\": {\"gridcolor\": \"white\", \"linecolor\": \"white\", \"ticks\": \"\"}, \"baxis\": {\"gridcolor\": \"white\", \"linecolor\": \"white\", \"ticks\": \"\"}, \"bgcolor\": \"#E5ECF6\", \"caxis\": {\"gridcolor\": \"white\", \"linecolor\": \"white\", \"ticks\": \"\"}}, \"title\": {\"x\": 0.05}, \"xaxis\": {\"automargin\": true, \"gridcolor\": \"white\", \"linecolor\": \"white\", \"ticks\": \"\", \"title\": {\"standoff\": 15}, \"zerolinecolor\": \"white\", \"zerolinewidth\": 2}, \"yaxis\": {\"automargin\": true, \"gridcolor\": \"white\", \"linecolor\": \"white\", \"ticks\": \"\", \"title\": {\"standoff\": 15}, \"zerolinecolor\": \"white\", \"zerolinewidth\": 2}}}, \"title\": {\"text\": \"Gender Vs Spendings\"}},\n",
              "                        {\"responsive\": true}\n",
              "                    ).then(function(){\n",
              "                            \n",
              "var gd = document.getElementById('9c0256a6-b885-48a4-815b-6084f5508cce');\n",
              "var x = new MutationObserver(function (mutations, observer) {{\n",
              "        var display = window.getComputedStyle(gd).display;\n",
              "        if (!display || display === 'none') {{\n",
              "            console.log([gd, 'removed!']);\n",
              "            Plotly.purge(gd);\n",
              "            observer.disconnect();\n",
              "        }}\n",
              "}});\n",
              "\n",
              "// Listen for the removal of the full notebook cells\n",
              "var notebookContainer = gd.closest('#notebook-container');\n",
              "if (notebookContainer) {{\n",
              "    x.observe(notebookContainer, {childList: true});\n",
              "}}\n",
              "\n",
              "// Listen for the clearing of the current output cell\n",
              "var outputEl = gd.closest('.output');\n",
              "if (outputEl) {{\n",
              "    x.observe(outputEl, {childList: true});\n",
              "}}\n",
              "\n",
              "                        })\n",
              "                };\n",
              "                \n",
              "            </script>\n",
              "        </div>\n",
              "</body>\n",
              "</html>"
            ]
          },
          "metadata": {}
        }
      ]
    },
    {
      "cell_type": "code",
      "source": [
        "def sum_mean(data,col1,col2=[]):\n",
        "    sum_df, mean_df = [] ,[]\n",
        "    for i in data[col1].unique():\n",
        "        d = data[data[col1] == i]\n",
        "        s, m = [i], [i]\n",
        "        if len(col2) == 0:\n",
        "            col2 = [x for x in data.columns if x != col1]\n",
        "        for j in col2:\n",
        "            s.append(d[j].sum())\n",
        "            m.append(d[j].sum())\n",
        "        sum_df.append(s)\n",
        "        mean_df.append(m)\n",
        "    return sum_df,mean_df"
      ],
      "metadata": {
        "id": "wMCSFbd0K891"
      },
      "execution_count": null,
      "outputs": []
    },
    {
      "cell_type": "code",
      "source": [
        "sum_df,_ = sum_mean(dataset,'gender',['Impressions','Spent'])\n",
        "dt2 = pd.DataFrame(sum_df)\n",
        "dt2.columns =['gender','Impressions','Spent']\n",
        "dt2[\"gender\"].replace({0:\"F\",1:\"M\"}, inplace=True)\n",
        "\n",
        "fig = make_subplots(rows=1, cols=2)\n",
        "fig.add_trace(\n",
        "    go.Bar(x=dt2['gender'], y=dt2['Impressions']),\n",
        "    row=1, col=1\n",
        ")\n",
        "fig.add_trace(\n",
        "    go.Bar(x=dt2['gender'], y=dt2['Spent'],marker=dict(color = 'rgb(1,73,218)')),\n",
        "    row=1, col=2\n",
        ")\n",
        "fig.update_layout(height=600, width=800, title_text='Impressions and Spendings in Gender')\n",
        "fig.update_yaxes(title_text=\"Impressions\",row=1, col=1)\n",
        "fig.update_yaxes(title_text=\"Spent\",row=1, col=2)\n",
        "fig.update_xaxes(title_text=\"Gender\")\n",
        "fig.show()"
      ],
      "metadata": {
        "colab": {
          "base_uri": "https://localhost:8080/",
          "height": 617
        },
        "id": "5Qf76imGLCYk",
        "outputId": "d4dad391-d542-49e8-86b8-4b13bf6ca734"
      },
      "execution_count": null,
      "outputs": [
        {
          "output_type": "display_data",
          "data": {
            "text/html": [
              "<html>\n",
              "<head><meta charset=\"utf-8\" /></head>\n",
              "<body>\n",
              "    <div>\n",
              "            <script src=\"https://cdnjs.cloudflare.com/ajax/libs/mathjax/2.7.5/MathJax.js?config=TeX-AMS-MML_SVG\"></script><script type=\"text/javascript\">if (window.MathJax) {MathJax.Hub.Config({SVG: {font: \"STIX-Web\"}});}</script>\n",
              "                <script type=\"text/javascript\">window.PlotlyConfig = {MathJaxConfig: 'local'};</script>\n",
              "        <script src=\"https://cdn.plot.ly/plotly-latest.min.js\"></script>    \n",
              "            <div id=\"7b22fa32-791c-4231-80be-1ae98e160c6c\" class=\"plotly-graph-div\" style=\"height:600px; width:800px;\"></div>\n",
              "            <script type=\"text/javascript\">\n",
              "                \n",
              "                    window.PLOTLYENV=window.PLOTLYENV || {};\n",
              "                    \n",
              "                if (document.getElementById(\"7b22fa32-791c-4231-80be-1ae98e160c6c\")) {\n",
              "                    Plotly.newPlot(\n",
              "                        '7b22fa32-791c-4231-80be-1ae98e160c6c',\n",
              "                        [{\"type\": \"bar\", \"x\": [\"M\", \"F\"], \"xaxis\": \"x\", \"y\": [98571981, 114862847], \"yaxis\": \"y\"}, {\"marker\": {\"color\": \"rgb(1,73,218)\"}, \"type\": \"bar\", \"x\": [\"M\", \"F\"], \"xaxis\": \"x2\", \"y\": [24202.609994836996, 34502.619963368], \"yaxis\": \"y2\"}],\n",
              "                        {\"height\": 600, \"template\": {\"data\": {\"bar\": [{\"error_x\": {\"color\": \"#2a3f5f\"}, \"error_y\": {\"color\": \"#2a3f5f\"}, \"marker\": {\"line\": {\"color\": \"#E5ECF6\", \"width\": 0.5}}, \"type\": \"bar\"}], \"barpolar\": [{\"marker\": {\"line\": {\"color\": \"#E5ECF6\", \"width\": 0.5}}, \"type\": \"barpolar\"}], \"carpet\": [{\"aaxis\": {\"endlinecolor\": \"#2a3f5f\", \"gridcolor\": \"white\", \"linecolor\": \"white\", \"minorgridcolor\": \"white\", \"startlinecolor\": \"#2a3f5f\"}, \"baxis\": {\"endlinecolor\": \"#2a3f5f\", \"gridcolor\": \"white\", \"linecolor\": \"white\", \"minorgridcolor\": \"white\", \"startlinecolor\": \"#2a3f5f\"}, \"type\": \"carpet\"}], \"choropleth\": [{\"colorbar\": {\"outlinewidth\": 0, \"ticks\": \"\"}, \"type\": \"choropleth\"}], \"contour\": [{\"colorbar\": {\"outlinewidth\": 0, \"ticks\": \"\"}, \"colorscale\": [[0.0, \"#0d0887\"], [0.1111111111111111, \"#46039f\"], [0.2222222222222222, \"#7201a8\"], [0.3333333333333333, \"#9c179e\"], [0.4444444444444444, \"#bd3786\"], [0.5555555555555556, \"#d8576b\"], [0.6666666666666666, \"#ed7953\"], [0.7777777777777778, \"#fb9f3a\"], [0.8888888888888888, \"#fdca26\"], [1.0, \"#f0f921\"]], \"type\": \"contour\"}], \"contourcarpet\": [{\"colorbar\": {\"outlinewidth\": 0, \"ticks\": \"\"}, \"type\": \"contourcarpet\"}], \"heatmap\": [{\"colorbar\": {\"outlinewidth\": 0, \"ticks\": \"\"}, \"colorscale\": [[0.0, \"#0d0887\"], [0.1111111111111111, \"#46039f\"], [0.2222222222222222, \"#7201a8\"], [0.3333333333333333, \"#9c179e\"], [0.4444444444444444, \"#bd3786\"], [0.5555555555555556, \"#d8576b\"], [0.6666666666666666, \"#ed7953\"], [0.7777777777777778, \"#fb9f3a\"], [0.8888888888888888, \"#fdca26\"], [1.0, \"#f0f921\"]], \"type\": \"heatmap\"}], \"heatmapgl\": [{\"colorbar\": {\"outlinewidth\": 0, \"ticks\": \"\"}, \"colorscale\": [[0.0, \"#0d0887\"], [0.1111111111111111, \"#46039f\"], [0.2222222222222222, \"#7201a8\"], [0.3333333333333333, \"#9c179e\"], [0.4444444444444444, \"#bd3786\"], [0.5555555555555556, \"#d8576b\"], [0.6666666666666666, \"#ed7953\"], [0.7777777777777778, \"#fb9f3a\"], [0.8888888888888888, \"#fdca26\"], [1.0, \"#f0f921\"]], \"type\": \"heatmapgl\"}], \"histogram\": [{\"marker\": {\"colorbar\": {\"outlinewidth\": 0, \"ticks\": \"\"}}, \"type\": \"histogram\"}], \"histogram2d\": [{\"colorbar\": {\"outlinewidth\": 0, \"ticks\": \"\"}, \"colorscale\": [[0.0, \"#0d0887\"], [0.1111111111111111, \"#46039f\"], [0.2222222222222222, \"#7201a8\"], [0.3333333333333333, \"#9c179e\"], [0.4444444444444444, \"#bd3786\"], [0.5555555555555556, \"#d8576b\"], [0.6666666666666666, \"#ed7953\"], [0.7777777777777778, \"#fb9f3a\"], [0.8888888888888888, \"#fdca26\"], [1.0, \"#f0f921\"]], \"type\": \"histogram2d\"}], \"histogram2dcontour\": [{\"colorbar\": {\"outlinewidth\": 0, \"ticks\": \"\"}, \"colorscale\": [[0.0, \"#0d0887\"], [0.1111111111111111, \"#46039f\"], [0.2222222222222222, \"#7201a8\"], [0.3333333333333333, \"#9c179e\"], [0.4444444444444444, \"#bd3786\"], [0.5555555555555556, \"#d8576b\"], [0.6666666666666666, \"#ed7953\"], [0.7777777777777778, \"#fb9f3a\"], [0.8888888888888888, \"#fdca26\"], [1.0, \"#f0f921\"]], \"type\": \"histogram2dcontour\"}], \"mesh3d\": [{\"colorbar\": {\"outlinewidth\": 0, \"ticks\": \"\"}, \"type\": \"mesh3d\"}], \"parcoords\": [{\"line\": {\"colorbar\": {\"outlinewidth\": 0, \"ticks\": \"\"}}, \"type\": \"parcoords\"}], \"pie\": [{\"automargin\": true, \"type\": \"pie\"}], \"scatter\": [{\"marker\": {\"colorbar\": {\"outlinewidth\": 0, \"ticks\": \"\"}}, \"type\": \"scatter\"}], \"scatter3d\": [{\"line\": {\"colorbar\": {\"outlinewidth\": 0, \"ticks\": \"\"}}, \"marker\": {\"colorbar\": {\"outlinewidth\": 0, \"ticks\": \"\"}}, \"type\": \"scatter3d\"}], \"scattercarpet\": [{\"marker\": {\"colorbar\": {\"outlinewidth\": 0, \"ticks\": \"\"}}, \"type\": \"scattercarpet\"}], \"scattergeo\": [{\"marker\": {\"colorbar\": {\"outlinewidth\": 0, \"ticks\": \"\"}}, \"type\": \"scattergeo\"}], \"scattergl\": [{\"marker\": {\"colorbar\": {\"outlinewidth\": 0, \"ticks\": \"\"}}, \"type\": \"scattergl\"}], \"scattermapbox\": [{\"marker\": {\"colorbar\": {\"outlinewidth\": 0, \"ticks\": \"\"}}, \"type\": \"scattermapbox\"}], \"scatterpolar\": [{\"marker\": {\"colorbar\": {\"outlinewidth\": 0, \"ticks\": \"\"}}, \"type\": \"scatterpolar\"}], \"scatterpolargl\": [{\"marker\": {\"colorbar\": {\"outlinewidth\": 0, \"ticks\": \"\"}}, \"type\": \"scatterpolargl\"}], \"scatterternary\": [{\"marker\": {\"colorbar\": {\"outlinewidth\": 0, \"ticks\": \"\"}}, \"type\": \"scatterternary\"}], \"surface\": [{\"colorbar\": {\"outlinewidth\": 0, \"ticks\": \"\"}, \"colorscale\": [[0.0, \"#0d0887\"], [0.1111111111111111, \"#46039f\"], [0.2222222222222222, \"#7201a8\"], [0.3333333333333333, \"#9c179e\"], [0.4444444444444444, \"#bd3786\"], [0.5555555555555556, \"#d8576b\"], [0.6666666666666666, \"#ed7953\"], [0.7777777777777778, \"#fb9f3a\"], [0.8888888888888888, \"#fdca26\"], [1.0, \"#f0f921\"]], \"type\": \"surface\"}], \"table\": [{\"cells\": {\"fill\": {\"color\": \"#EBF0F8\"}, \"line\": {\"color\": \"white\"}}, \"header\": {\"fill\": {\"color\": \"#C8D4E3\"}, \"line\": {\"color\": \"white\"}}, \"type\": \"table\"}]}, \"layout\": {\"annotationdefaults\": {\"arrowcolor\": \"#2a3f5f\", \"arrowhead\": 0, \"arrowwidth\": 1}, \"coloraxis\": {\"colorbar\": {\"outlinewidth\": 0, \"ticks\": \"\"}}, \"colorscale\": {\"diverging\": [[0, \"#8e0152\"], [0.1, \"#c51b7d\"], [0.2, \"#de77ae\"], [0.3, \"#f1b6da\"], [0.4, \"#fde0ef\"], [0.5, \"#f7f7f7\"], [0.6, \"#e6f5d0\"], [0.7, \"#b8e186\"], [0.8, \"#7fbc41\"], [0.9, \"#4d9221\"], [1, \"#276419\"]], \"sequential\": [[0.0, \"#0d0887\"], [0.1111111111111111, \"#46039f\"], [0.2222222222222222, \"#7201a8\"], [0.3333333333333333, \"#9c179e\"], [0.4444444444444444, \"#bd3786\"], [0.5555555555555556, \"#d8576b\"], [0.6666666666666666, \"#ed7953\"], [0.7777777777777778, \"#fb9f3a\"], [0.8888888888888888, \"#fdca26\"], [1.0, \"#f0f921\"]], \"sequentialminus\": [[0.0, \"#0d0887\"], [0.1111111111111111, \"#46039f\"], [0.2222222222222222, \"#7201a8\"], [0.3333333333333333, \"#9c179e\"], [0.4444444444444444, \"#bd3786\"], [0.5555555555555556, \"#d8576b\"], [0.6666666666666666, \"#ed7953\"], [0.7777777777777778, \"#fb9f3a\"], [0.8888888888888888, \"#fdca26\"], [1.0, \"#f0f921\"]]}, \"colorway\": [\"#636efa\", \"#EF553B\", \"#00cc96\", \"#ab63fa\", \"#FFA15A\", \"#19d3f3\", \"#FF6692\", \"#B6E880\", \"#FF97FF\", \"#FECB52\"], \"font\": {\"color\": \"#2a3f5f\"}, \"geo\": {\"bgcolor\": \"white\", \"lakecolor\": \"white\", \"landcolor\": \"#E5ECF6\", \"showlakes\": true, \"showland\": true, \"subunitcolor\": \"white\"}, \"hoverlabel\": {\"align\": \"left\"}, \"hovermode\": \"closest\", \"mapbox\": {\"style\": \"light\"}, \"paper_bgcolor\": \"white\", \"plot_bgcolor\": \"#E5ECF6\", \"polar\": {\"angularaxis\": {\"gridcolor\": \"white\", \"linecolor\": \"white\", \"ticks\": \"\"}, \"bgcolor\": \"#E5ECF6\", \"radialaxis\": {\"gridcolor\": \"white\", \"linecolor\": \"white\", \"ticks\": \"\"}}, \"scene\": {\"xaxis\": {\"backgroundcolor\": \"#E5ECF6\", \"gridcolor\": \"white\", \"gridwidth\": 2, \"linecolor\": \"white\", \"showbackground\": true, \"ticks\": \"\", \"zerolinecolor\": \"white\"}, \"yaxis\": {\"backgroundcolor\": \"#E5ECF6\", \"gridcolor\": \"white\", \"gridwidth\": 2, \"linecolor\": \"white\", \"showbackground\": true, \"ticks\": \"\", \"zerolinecolor\": \"white\"}, \"zaxis\": {\"backgroundcolor\": \"#E5ECF6\", \"gridcolor\": \"white\", \"gridwidth\": 2, \"linecolor\": \"white\", \"showbackground\": true, \"ticks\": \"\", \"zerolinecolor\": \"white\"}}, \"shapedefaults\": {\"line\": {\"color\": \"#2a3f5f\"}}, \"ternary\": {\"aaxis\": {\"gridcolor\": \"white\", \"linecolor\": \"white\", \"ticks\": \"\"}, \"baxis\": {\"gridcolor\": \"white\", \"linecolor\": \"white\", \"ticks\": \"\"}, \"bgcolor\": \"#E5ECF6\", \"caxis\": {\"gridcolor\": \"white\", \"linecolor\": \"white\", \"ticks\": \"\"}}, \"title\": {\"x\": 0.05}, \"xaxis\": {\"automargin\": true, \"gridcolor\": \"white\", \"linecolor\": \"white\", \"ticks\": \"\", \"title\": {\"standoff\": 15}, \"zerolinecolor\": \"white\", \"zerolinewidth\": 2}, \"yaxis\": {\"automargin\": true, \"gridcolor\": \"white\", \"linecolor\": \"white\", \"ticks\": \"\", \"title\": {\"standoff\": 15}, \"zerolinecolor\": \"white\", \"zerolinewidth\": 2}}}, \"title\": {\"text\": \"Impressions and Spendings in Gender\"}, \"width\": 800, \"xaxis\": {\"anchor\": \"y\", \"domain\": [0.0, 0.45], \"title\": {\"text\": \"Gender\"}}, \"xaxis2\": {\"anchor\": \"y2\", \"domain\": [0.55, 1.0], \"title\": {\"text\": \"Gender\"}}, \"yaxis\": {\"anchor\": \"x\", \"domain\": [0.0, 1.0], \"title\": {\"text\": \"Impressions\"}}, \"yaxis2\": {\"anchor\": \"x2\", \"domain\": [0.0, 1.0], \"title\": {\"text\": \"Spent\"}}},\n",
              "                        {\"responsive\": true}\n",
              "                    ).then(function(){\n",
              "                            \n",
              "var gd = document.getElementById('7b22fa32-791c-4231-80be-1ae98e160c6c');\n",
              "var x = new MutationObserver(function (mutations, observer) {{\n",
              "        var display = window.getComputedStyle(gd).display;\n",
              "        if (!display || display === 'none') {{\n",
              "            console.log([gd, 'removed!']);\n",
              "            Plotly.purge(gd);\n",
              "            observer.disconnect();\n",
              "        }}\n",
              "}});\n",
              "\n",
              "// Listen for the removal of the full notebook cells\n",
              "var notebookContainer = gd.closest('#notebook-container');\n",
              "if (notebookContainer) {{\n",
              "    x.observe(notebookContainer, {childList: true});\n",
              "}}\n",
              "\n",
              "// Listen for the clearing of the current output cell\n",
              "var outputEl = gd.closest('.output');\n",
              "if (outputEl) {{\n",
              "    x.observe(outputEl, {childList: true});\n",
              "}}\n",
              "\n",
              "                        })\n",
              "                };\n",
              "                \n",
              "            </script>\n",
              "        </div>\n",
              "</body>\n",
              "</html>"
            ]
          },
          "metadata": {}
        }
      ]
    },
    {
      "cell_type": "code",
      "source": [
        "sum_df,_ = sum_mean(dataset,'age',['Impressions','Spent'])\n",
        "dt2 = pd.DataFrame(sum_df)\n",
        "dt2.columns =['age','Impressions','Spent']\n",
        "\n",
        "fig = make_subplots(rows=1, cols=2)\n",
        "fig.add_trace(\n",
        "    go.Bar(x=dt2['age'], y=dt2['Impressions']),\n",
        "    row=1, col=1\n",
        ")\n",
        "fig.add_trace(\n",
        "    go.Bar(x=dt2['age'], y=dt2['Spent'],marker=dict(color = 'rgb(1,73,218)')),\n",
        "    row=1, col=2\n",
        ")\n",
        "fig.update_layout(height=600, width=800, title_text='Impressions and Spent in Age')\n",
        "fig.update_yaxes(title_text=\"Impressions\",row=1, col=1)\n",
        "fig.update_yaxes(title_text=\"Spent\",row=1, col=2)\n",
        "fig.update_xaxes(title_text=\"Age\")\n",
        "fig.show()"
      ],
      "metadata": {
        "colab": {
          "base_uri": "https://localhost:8080/",
          "height": 617
        },
        "id": "a4-vlPbCLKQ2",
        "outputId": "773c5eae-db5f-4da4-dc04-3631524cd464"
      },
      "execution_count": null,
      "outputs": [
        {
          "output_type": "display_data",
          "data": {
            "text/html": [
              "<html>\n",
              "<head><meta charset=\"utf-8\" /></head>\n",
              "<body>\n",
              "    <div>\n",
              "            <script src=\"https://cdnjs.cloudflare.com/ajax/libs/mathjax/2.7.5/MathJax.js?config=TeX-AMS-MML_SVG\"></script><script type=\"text/javascript\">if (window.MathJax) {MathJax.Hub.Config({SVG: {font: \"STIX-Web\"}});}</script>\n",
              "                <script type=\"text/javascript\">window.PlotlyConfig = {MathJaxConfig: 'local'};</script>\n",
              "        <script src=\"https://cdn.plot.ly/plotly-latest.min.js\"></script>    \n",
              "            <div id=\"0347e4ac-1dc8-4181-adf7-ce32da11099e\" class=\"plotly-graph-div\" style=\"height:600px; width:800px;\"></div>\n",
              "            <script type=\"text/javascript\">\n",
              "                \n",
              "                    window.PLOTLYENV=window.PLOTLYENV || {};\n",
              "                    \n",
              "                if (document.getElementById(\"0347e4ac-1dc8-4181-adf7-ce32da11099e\")) {\n",
              "                    Plotly.newPlot(\n",
              "                        '0347e4ac-1dc8-4181-adf7-ce32da11099e',\n",
              "                        [{\"type\": \"bar\", \"x\": [\"30-34\", \"35-39\", \"40-44\", \"45-49\"], \"xaxis\": \"x\", \"y\": [67993019, 42104644, 39604307, 63732858], \"yaxis\": \"y\"}, {\"marker\": {\"color\": \"rgb(1,73,218)\"}, \"type\": \"bar\", \"x\": [\"30-34\", \"35-39\", \"40-44\", \"45-49\"], \"xaxis\": \"x2\", \"y\": [15252.399986378, 11112.429994335002, 11589.729980838001, 20750.669996653996], \"yaxis\": \"y2\"}],\n",
              "                        {\"height\": 600, \"template\": {\"data\": {\"bar\": [{\"error_x\": {\"color\": \"#2a3f5f\"}, \"error_y\": {\"color\": \"#2a3f5f\"}, \"marker\": {\"line\": {\"color\": \"#E5ECF6\", \"width\": 0.5}}, \"type\": \"bar\"}], \"barpolar\": [{\"marker\": {\"line\": {\"color\": \"#E5ECF6\", \"width\": 0.5}}, \"type\": \"barpolar\"}], \"carpet\": [{\"aaxis\": {\"endlinecolor\": \"#2a3f5f\", \"gridcolor\": \"white\", \"linecolor\": \"white\", \"minorgridcolor\": \"white\", \"startlinecolor\": \"#2a3f5f\"}, \"baxis\": {\"endlinecolor\": \"#2a3f5f\", \"gridcolor\": \"white\", \"linecolor\": \"white\", \"minorgridcolor\": \"white\", \"startlinecolor\": \"#2a3f5f\"}, \"type\": \"carpet\"}], \"choropleth\": [{\"colorbar\": {\"outlinewidth\": 0, \"ticks\": \"\"}, \"type\": \"choropleth\"}], \"contour\": [{\"colorbar\": {\"outlinewidth\": 0, \"ticks\": \"\"}, \"colorscale\": [[0.0, \"#0d0887\"], [0.1111111111111111, \"#46039f\"], [0.2222222222222222, \"#7201a8\"], [0.3333333333333333, \"#9c179e\"], [0.4444444444444444, \"#bd3786\"], [0.5555555555555556, \"#d8576b\"], [0.6666666666666666, \"#ed7953\"], [0.7777777777777778, \"#fb9f3a\"], [0.8888888888888888, \"#fdca26\"], [1.0, \"#f0f921\"]], \"type\": \"contour\"}], \"contourcarpet\": [{\"colorbar\": {\"outlinewidth\": 0, \"ticks\": \"\"}, \"type\": \"contourcarpet\"}], \"heatmap\": [{\"colorbar\": {\"outlinewidth\": 0, \"ticks\": \"\"}, \"colorscale\": [[0.0, \"#0d0887\"], [0.1111111111111111, \"#46039f\"], [0.2222222222222222, \"#7201a8\"], [0.3333333333333333, \"#9c179e\"], [0.4444444444444444, \"#bd3786\"], [0.5555555555555556, \"#d8576b\"], [0.6666666666666666, \"#ed7953\"], [0.7777777777777778, \"#fb9f3a\"], [0.8888888888888888, \"#fdca26\"], [1.0, \"#f0f921\"]], \"type\": \"heatmap\"}], \"heatmapgl\": [{\"colorbar\": {\"outlinewidth\": 0, \"ticks\": \"\"}, \"colorscale\": [[0.0, \"#0d0887\"], [0.1111111111111111, \"#46039f\"], [0.2222222222222222, \"#7201a8\"], [0.3333333333333333, \"#9c179e\"], [0.4444444444444444, \"#bd3786\"], [0.5555555555555556, \"#d8576b\"], [0.6666666666666666, \"#ed7953\"], [0.7777777777777778, \"#fb9f3a\"], [0.8888888888888888, \"#fdca26\"], [1.0, \"#f0f921\"]], \"type\": \"heatmapgl\"}], \"histogram\": [{\"marker\": {\"colorbar\": {\"outlinewidth\": 0, \"ticks\": \"\"}}, \"type\": \"histogram\"}], \"histogram2d\": [{\"colorbar\": {\"outlinewidth\": 0, \"ticks\": \"\"}, \"colorscale\": [[0.0, \"#0d0887\"], [0.1111111111111111, \"#46039f\"], [0.2222222222222222, \"#7201a8\"], [0.3333333333333333, \"#9c179e\"], [0.4444444444444444, \"#bd3786\"], [0.5555555555555556, \"#d8576b\"], [0.6666666666666666, \"#ed7953\"], [0.7777777777777778, \"#fb9f3a\"], [0.8888888888888888, \"#fdca26\"], [1.0, \"#f0f921\"]], \"type\": \"histogram2d\"}], \"histogram2dcontour\": [{\"colorbar\": {\"outlinewidth\": 0, \"ticks\": \"\"}, \"colorscale\": [[0.0, \"#0d0887\"], [0.1111111111111111, \"#46039f\"], [0.2222222222222222, \"#7201a8\"], [0.3333333333333333, \"#9c179e\"], [0.4444444444444444, \"#bd3786\"], [0.5555555555555556, \"#d8576b\"], [0.6666666666666666, \"#ed7953\"], [0.7777777777777778, \"#fb9f3a\"], [0.8888888888888888, \"#fdca26\"], [1.0, \"#f0f921\"]], \"type\": \"histogram2dcontour\"}], \"mesh3d\": [{\"colorbar\": {\"outlinewidth\": 0, \"ticks\": \"\"}, \"type\": \"mesh3d\"}], \"parcoords\": [{\"line\": {\"colorbar\": {\"outlinewidth\": 0, \"ticks\": \"\"}}, \"type\": \"parcoords\"}], \"pie\": [{\"automargin\": true, \"type\": \"pie\"}], \"scatter\": [{\"marker\": {\"colorbar\": {\"outlinewidth\": 0, \"ticks\": \"\"}}, \"type\": \"scatter\"}], \"scatter3d\": [{\"line\": {\"colorbar\": {\"outlinewidth\": 0, \"ticks\": \"\"}}, \"marker\": {\"colorbar\": {\"outlinewidth\": 0, \"ticks\": \"\"}}, \"type\": \"scatter3d\"}], \"scattercarpet\": [{\"marker\": {\"colorbar\": {\"outlinewidth\": 0, \"ticks\": \"\"}}, \"type\": \"scattercarpet\"}], \"scattergeo\": [{\"marker\": {\"colorbar\": {\"outlinewidth\": 0, \"ticks\": \"\"}}, \"type\": \"scattergeo\"}], \"scattergl\": [{\"marker\": {\"colorbar\": {\"outlinewidth\": 0, \"ticks\": \"\"}}, \"type\": \"scattergl\"}], \"scattermapbox\": [{\"marker\": {\"colorbar\": {\"outlinewidth\": 0, \"ticks\": \"\"}}, \"type\": \"scattermapbox\"}], \"scatterpolar\": [{\"marker\": {\"colorbar\": {\"outlinewidth\": 0, \"ticks\": \"\"}}, \"type\": \"scatterpolar\"}], \"scatterpolargl\": [{\"marker\": {\"colorbar\": {\"outlinewidth\": 0, \"ticks\": \"\"}}, \"type\": \"scatterpolargl\"}], \"scatterternary\": [{\"marker\": {\"colorbar\": {\"outlinewidth\": 0, \"ticks\": \"\"}}, \"type\": \"scatterternary\"}], \"surface\": [{\"colorbar\": {\"outlinewidth\": 0, \"ticks\": \"\"}, \"colorscale\": [[0.0, \"#0d0887\"], [0.1111111111111111, \"#46039f\"], [0.2222222222222222, \"#7201a8\"], [0.3333333333333333, \"#9c179e\"], [0.4444444444444444, \"#bd3786\"], [0.5555555555555556, \"#d8576b\"], [0.6666666666666666, \"#ed7953\"], [0.7777777777777778, \"#fb9f3a\"], [0.8888888888888888, \"#fdca26\"], [1.0, \"#f0f921\"]], \"type\": \"surface\"}], \"table\": [{\"cells\": {\"fill\": {\"color\": \"#EBF0F8\"}, \"line\": {\"color\": \"white\"}}, \"header\": {\"fill\": {\"color\": \"#C8D4E3\"}, \"line\": {\"color\": \"white\"}}, \"type\": \"table\"}]}, \"layout\": {\"annotationdefaults\": {\"arrowcolor\": \"#2a3f5f\", \"arrowhead\": 0, \"arrowwidth\": 1}, \"coloraxis\": {\"colorbar\": {\"outlinewidth\": 0, \"ticks\": \"\"}}, \"colorscale\": {\"diverging\": [[0, \"#8e0152\"], [0.1, \"#c51b7d\"], [0.2, \"#de77ae\"], [0.3, \"#f1b6da\"], [0.4, \"#fde0ef\"], [0.5, \"#f7f7f7\"], [0.6, \"#e6f5d0\"], [0.7, \"#b8e186\"], [0.8, \"#7fbc41\"], [0.9, \"#4d9221\"], [1, \"#276419\"]], \"sequential\": [[0.0, \"#0d0887\"], [0.1111111111111111, \"#46039f\"], [0.2222222222222222, \"#7201a8\"], [0.3333333333333333, \"#9c179e\"], [0.4444444444444444, \"#bd3786\"], [0.5555555555555556, \"#d8576b\"], [0.6666666666666666, \"#ed7953\"], [0.7777777777777778, \"#fb9f3a\"], [0.8888888888888888, \"#fdca26\"], [1.0, \"#f0f921\"]], \"sequentialminus\": [[0.0, \"#0d0887\"], [0.1111111111111111, \"#46039f\"], [0.2222222222222222, \"#7201a8\"], [0.3333333333333333, \"#9c179e\"], [0.4444444444444444, \"#bd3786\"], [0.5555555555555556, \"#d8576b\"], [0.6666666666666666, \"#ed7953\"], [0.7777777777777778, \"#fb9f3a\"], [0.8888888888888888, \"#fdca26\"], [1.0, \"#f0f921\"]]}, \"colorway\": [\"#636efa\", \"#EF553B\", \"#00cc96\", \"#ab63fa\", \"#FFA15A\", \"#19d3f3\", \"#FF6692\", \"#B6E880\", \"#FF97FF\", \"#FECB52\"], \"font\": {\"color\": \"#2a3f5f\"}, \"geo\": {\"bgcolor\": \"white\", \"lakecolor\": \"white\", \"landcolor\": \"#E5ECF6\", \"showlakes\": true, \"showland\": true, \"subunitcolor\": \"white\"}, \"hoverlabel\": {\"align\": \"left\"}, \"hovermode\": \"closest\", \"mapbox\": {\"style\": \"light\"}, \"paper_bgcolor\": \"white\", \"plot_bgcolor\": \"#E5ECF6\", \"polar\": {\"angularaxis\": {\"gridcolor\": \"white\", \"linecolor\": \"white\", \"ticks\": \"\"}, \"bgcolor\": \"#E5ECF6\", \"radialaxis\": {\"gridcolor\": \"white\", \"linecolor\": \"white\", \"ticks\": \"\"}}, \"scene\": {\"xaxis\": {\"backgroundcolor\": \"#E5ECF6\", \"gridcolor\": \"white\", \"gridwidth\": 2, \"linecolor\": \"white\", \"showbackground\": true, \"ticks\": \"\", \"zerolinecolor\": \"white\"}, \"yaxis\": {\"backgroundcolor\": \"#E5ECF6\", \"gridcolor\": \"white\", \"gridwidth\": 2, \"linecolor\": \"white\", \"showbackground\": true, \"ticks\": \"\", \"zerolinecolor\": \"white\"}, \"zaxis\": {\"backgroundcolor\": \"#E5ECF6\", \"gridcolor\": \"white\", \"gridwidth\": 2, \"linecolor\": \"white\", \"showbackground\": true, \"ticks\": \"\", \"zerolinecolor\": \"white\"}}, \"shapedefaults\": {\"line\": {\"color\": \"#2a3f5f\"}}, \"ternary\": {\"aaxis\": {\"gridcolor\": \"white\", \"linecolor\": \"white\", \"ticks\": \"\"}, \"baxis\": {\"gridcolor\": \"white\", \"linecolor\": \"white\", \"ticks\": \"\"}, \"bgcolor\": \"#E5ECF6\", \"caxis\": {\"gridcolor\": \"white\", \"linecolor\": \"white\", \"ticks\": \"\"}}, \"title\": {\"x\": 0.05}, \"xaxis\": {\"automargin\": true, \"gridcolor\": \"white\", \"linecolor\": \"white\", \"ticks\": \"\", \"title\": {\"standoff\": 15}, \"zerolinecolor\": \"white\", \"zerolinewidth\": 2}, \"yaxis\": {\"automargin\": true, \"gridcolor\": \"white\", \"linecolor\": \"white\", \"ticks\": \"\", \"title\": {\"standoff\": 15}, \"zerolinecolor\": \"white\", \"zerolinewidth\": 2}}}, \"title\": {\"text\": \"Impressions and Spent in Age\"}, \"width\": 800, \"xaxis\": {\"anchor\": \"y\", \"domain\": [0.0, 0.45], \"title\": {\"text\": \"Age\"}}, \"xaxis2\": {\"anchor\": \"y2\", \"domain\": [0.55, 1.0], \"title\": {\"text\": \"Age\"}}, \"yaxis\": {\"anchor\": \"x\", \"domain\": [0.0, 1.0], \"title\": {\"text\": \"Impressions\"}}, \"yaxis2\": {\"anchor\": \"x2\", \"domain\": [0.0, 1.0], \"title\": {\"text\": \"Spent\"}}},\n",
              "                        {\"responsive\": true}\n",
              "                    ).then(function(){\n",
              "                            \n",
              "var gd = document.getElementById('0347e4ac-1dc8-4181-adf7-ce32da11099e');\n",
              "var x = new MutationObserver(function (mutations, observer) {{\n",
              "        var display = window.getComputedStyle(gd).display;\n",
              "        if (!display || display === 'none') {{\n",
              "            console.log([gd, 'removed!']);\n",
              "            Plotly.purge(gd);\n",
              "            observer.disconnect();\n",
              "        }}\n",
              "}});\n",
              "\n",
              "// Listen for the removal of the full notebook cells\n",
              "var notebookContainer = gd.closest('#notebook-container');\n",
              "if (notebookContainer) {{\n",
              "    x.observe(notebookContainer, {childList: true});\n",
              "}}\n",
              "\n",
              "// Listen for the clearing of the current output cell\n",
              "var outputEl = gd.closest('.output');\n",
              "if (outputEl) {{\n",
              "    x.observe(outputEl, {childList: true});\n",
              "}}\n",
              "\n",
              "                        })\n",
              "                };\n",
              "                \n",
              "            </script>\n",
              "        </div>\n",
              "</body>\n",
              "</html>"
            ]
          },
          "metadata": {}
        }
      ]
    },
    {
      "cell_type": "code",
      "source": [
        "categories = ['ad_id', 'fb_campaign_id','age', 'gender', 'xyz_campaign_id', 'interest']\n",
        "dataset[categories] = dataset[categories].astype('category')"
      ],
      "metadata": {
        "id": "bu5y9smzWR5f"
      },
      "execution_count": null,
      "outputs": []
    },
    {
      "cell_type": "code",
      "source": [
        "# Cost analysis with respect to Age, Spendings and Conversions\n",
        "print('Cost analysis')\n",
        "print('Campaign wise clicks')\n",
        "print((dataset.groupby(['xyz_campaign_id'])).Clicks.sum())\n",
        "print('-------------------------')\n",
        "\n",
        "print('Campaign wise amount spent')\n",
        "print((dataset.groupby(['xyz_campaign_id'])).Spent.sum())\n",
        "print('--------------------------')\n",
        "\n",
        "print('Campaign wise total conversions')\n",
        "print((dataset.groupby(['xyz_campaign_id'])).Total_Conversion.sum())\n",
        "print('---------------------------')"
      ],
      "metadata": {
        "colab": {
          "base_uri": "https://localhost:8080/"
        },
        "id": "YW0C0rBRaGFC",
        "outputId": "999924dc-e319-4100-8de0-c272bfc0d5a5"
      },
      "execution_count": null,
      "outputs": [
        {
          "output_type": "stream",
          "name": "stdout",
          "text": [
            "Cost analysis\n",
            "Campaign wise clicks\n",
            "xyz_campaign_id\n",
            "916       113\n",
            "936      1984\n",
            "1178    36068\n",
            "Name: Clicks, dtype: int64\n",
            "-------------------------\n",
            "Campaign wise amount spent\n",
            "xyz_campaign_id\n",
            "916       149.710001\n",
            "936      2893.369999\n",
            "1178    55662.149959\n",
            "Name: Spent, dtype: float64\n",
            "--------------------------\n",
            "Campaign wise total conversions\n",
            "xyz_campaign_id\n",
            "916       58\n",
            "936      537\n",
            "1178    2669\n",
            "Name: Total_Conversion, dtype: int64\n",
            "---------------------------\n"
          ]
        }
      ]
    },
    {
      "cell_type": "code",
      "source": [
        "# Detailed analysis of campaign\n",
        "campaign_1178_clicks = 36068\n",
        "campaign_1178_cost = 55662.149959\n",
        "campaign_1178_conv = 2669\n",
        "campaign_1178_adcount = 625\n",
        "campaign_1178_cpc = (campaign_1178_cost/campaign_1178_clicks)\n",
        "campaign_1178_cpco = (campaign_1178_cost/campaign_1178_conv)\n",
        "campaign_1178_cpad = (campaign_1178_cost/campaign_1178_adcount)\n",
        "\n",
        "print('The cost per click of campaign_1178 is '+ str(campaign_1178_cpc))\n",
        "print('The cost per conversion of campaign_1178 is '+ str(campaign_1178_cpco))\n",
        "print('The cost per ad in campaign_1178 is '+ str(campaign_1178_cpad))\n",
        "print('---------------------------------------------------------------')\n",
        "\n",
        "\n",
        "campaign_936_clicks = 1984\n",
        "campaign_936_cost = 2893.369999\n",
        "campaign_936_conv = 537\n",
        "campaign_936_adcount = 464\n",
        "campaign_936_cpc = (campaign_936_cost/campaign_936_clicks)\n",
        "campaign_936_cpco = (campaign_936_cost/campaign_936_conv)\n",
        "campaign_936_cpad = (campaign_936_cost/campaign_936_adcount)\n",
        "\n",
        "print('The cost per click of campaign_936 is '+ str(campaign_936_cpc))\n",
        "print('The cost per conversion of campaign_936 is '+ str(campaign_936_cpco))\n",
        "print('The cost per ad in campaign_936 is '+ str(campaign_936_cpad))\n",
        "print('---------------------------------------------------------------')\n",
        "\n",
        "campaign_916_clicks = 113\n",
        "campaign_916_cost = 149.710001\n",
        "campaign_916_conv = 58\n",
        "campaign_916_adcount = 54\n",
        "campaign_916_cpc = (campaign_916_cost/campaign_916_clicks)\n",
        "campaign_916_cpco = (campaign_916_cost/campaign_916_conv)\n",
        "campaign_916_cpad = (campaign_916_cost/campaign_916_adcount)\n",
        "\n",
        "print('The cost per click of campaign_916 is '+ str(campaign_916_cpc))\n",
        "print('The cost per conversion of campaign_916 is '+ str(campaign_916_cpco))\n",
        "print('The cost per ad in campaign_916 is '+ str(campaign_916_cpad))\n",
        "print('---------------------------------------------------------------')"
      ],
      "metadata": {
        "id": "WmLW6FvdWFX5",
        "colab": {
          "base_uri": "https://localhost:8080/"
        },
        "outputId": "ca500629-deb1-42e7-eea7-c2978f955fde"
      },
      "execution_count": null,
      "outputs": [
        {
          "output_type": "stream",
          "name": "stdout",
          "text": [
            "The cost per click of campaign_1178 is 1.5432557934734392\n",
            "The cost per conversion of campaign_1178 is 20.85505805882353\n",
            "The cost per ad in campaign_1178 is 89.0594399344\n",
            "---------------------------------------------------------------\n",
            "The cost per click of campaign_936 is 1.4583518140120968\n",
            "The cost per conversion of campaign_936 is 5.388026068901303\n",
            "The cost per ad in campaign_936 is 6.23571120474138\n",
            "---------------------------------------------------------------\n",
            "The cost per click of campaign_916 is 1.3248672654867257\n",
            "The cost per conversion of campaign_916 is 2.5812069137931037\n",
            "The cost per ad in campaign_916 is 2.772407425925926\n",
            "---------------------------------------------------------------\n"
          ]
        }
      ]
    },
    {
      "cell_type": "markdown",
      "source": [
        "*   From the above analysis it is very clear that campaign 916 is the most efficient and profitable campaign.\n",
        "*   The cpc and cost per conversion is very low compared other campaigns.\n",
        "*   If we scale up the campaign 916 to the budget of campaign 1178 we might drive 5 times more results of campaign 1178."
      ],
      "metadata": {
        "id": "HQXsss4GWRBN"
      }
    },
    {
      "cell_type": "markdown",
      "source": [
        "##Conversion Analysis"
      ],
      "metadata": {
        "id": "1Dp8OVJcXXMp"
      }
    },
    {
      "cell_type": "code",
      "source": [
        "# Conversion with respect to age\n",
        "print((dataset.groupby(['age'])).Total_Conversion.sum())\n",
        "print((dataset.groupby(['age'])).ad_id.count())\n",
        "print((dataset.groupby(['age'])).Total_Conversion.sum())\n",
        "print((dataset.groupby(['age'])).ad_id.count())\n",
        "print((dataset.groupby(['age'])).Total_Conversion.sum())\n",
        "print((dataset.groupby(['age'])).ad_id.count())"
      ],
      "metadata": {
        "id": "Xd_2VVtqKOII",
        "colab": {
          "base_uri": "https://localhost:8080/"
        },
        "outputId": "df614fa9-48a7-4557-d4ed-5a877ee990e0"
      },
      "execution_count": null,
      "outputs": [
        {
          "output_type": "stream",
          "name": "stdout",
          "text": [
            "age\n",
            "30-34    1431\n",
            "35-39     626\n",
            "40-44     523\n",
            "45-49     684\n",
            "Name: Total_Conversion, dtype: int64\n",
            "age\n",
            "30-34    426\n",
            "35-39    248\n",
            "40-44    210\n",
            "45-49    259\n",
            "Name: ad_id, dtype: int64\n",
            "age\n",
            "30-34    1431\n",
            "35-39     626\n",
            "40-44     523\n",
            "45-49     684\n",
            "Name: Total_Conversion, dtype: int64\n",
            "age\n",
            "30-34    426\n",
            "35-39    248\n",
            "40-44    210\n",
            "45-49    259\n",
            "Name: ad_id, dtype: int64\n",
            "age\n",
            "30-34    1431\n",
            "35-39     626\n",
            "40-44     523\n",
            "45-49     684\n",
            "Name: Total_Conversion, dtype: int64\n",
            "age\n",
            "30-34    426\n",
            "35-39    248\n",
            "40-44    210\n",
            "45-49    259\n",
            "Name: ad_id, dtype: int64\n"
          ]
        }
      ]
    },
    {
      "cell_type": "code",
      "source": [
        "# Count of Approved Conversions\n",
        "approved_conversion=dataset['Approved_Conversion'].value_counts()\n",
        "px.bar(dataset, x=approved_conversion.index, y=approved_conversion,title='Count of Approved Conversions')"
      ],
      "metadata": {
        "id": "4Xt4ifSWe3Th",
        "colab": {
          "base_uri": "https://localhost:8080/",
          "height": 542
        },
        "outputId": "2f0daf13-f1de-4d1b-8ba0-1341456e2958"
      },
      "execution_count": null,
      "outputs": [
        {
          "output_type": "display_data",
          "data": {
            "text/html": [
              "<html>\n",
              "<head><meta charset=\"utf-8\" /></head>\n",
              "<body>\n",
              "    <div>\n",
              "            <script src=\"https://cdnjs.cloudflare.com/ajax/libs/mathjax/2.7.5/MathJax.js?config=TeX-AMS-MML_SVG\"></script><script type=\"text/javascript\">if (window.MathJax) {MathJax.Hub.Config({SVG: {font: \"STIX-Web\"}});}</script>\n",
              "                <script type=\"text/javascript\">window.PlotlyConfig = {MathJaxConfig: 'local'};</script>\n",
              "        <script src=\"https://cdn.plot.ly/plotly-latest.min.js\"></script>    \n",
              "            <div id=\"98cf8b8f-2c1c-4ed0-a823-88420c512a12\" class=\"plotly-graph-div\" style=\"height:525px; width:100%;\"></div>\n",
              "            <script type=\"text/javascript\">\n",
              "                \n",
              "                    window.PLOTLYENV=window.PLOTLYENV || {};\n",
              "                    \n",
              "                if (document.getElementById(\"98cf8b8f-2c1c-4ed0-a823-88420c512a12\")) {\n",
              "                    Plotly.newPlot(\n",
              "                        '98cf8b8f-2c1c-4ed0-a823-88420c512a12',\n",
              "                        [{\"alignmentgroup\": \"True\", \"hoverlabel\": {\"namelength\": 0}, \"hovertemplate\": \"x=%{x}<br>y=%{y}\", \"legendgroup\": \"\", \"marker\": {\"color\": \"#636efa\"}, \"name\": \"\", \"offsetgroup\": \"\", \"orientation\": \"v\", \"showlegend\": false, \"textposition\": \"auto\", \"type\": \"bar\", \"x\": [0, 1, 2, 3, 4, 6, 5, 8, 10, 7, 9, 14, 21, 17, 13, 12], \"xaxis\": \"x\", \"y\": [559, 403, 86, 35, 24, 7, 7, 5, 4, 4, 3, 2, 1, 1, 1, 1], \"yaxis\": \"y\"}],\n",
              "                        {\"barmode\": \"relative\", \"legend\": {\"tracegroupgap\": 0}, \"template\": {\"data\": {\"bar\": [{\"error_x\": {\"color\": \"#2a3f5f\"}, \"error_y\": {\"color\": \"#2a3f5f\"}, \"marker\": {\"line\": {\"color\": \"#E5ECF6\", \"width\": 0.5}}, \"type\": \"bar\"}], \"barpolar\": [{\"marker\": {\"line\": {\"color\": \"#E5ECF6\", \"width\": 0.5}}, \"type\": \"barpolar\"}], \"carpet\": [{\"aaxis\": {\"endlinecolor\": \"#2a3f5f\", \"gridcolor\": \"white\", \"linecolor\": \"white\", \"minorgridcolor\": \"white\", \"startlinecolor\": \"#2a3f5f\"}, \"baxis\": {\"endlinecolor\": \"#2a3f5f\", \"gridcolor\": \"white\", \"linecolor\": \"white\", \"minorgridcolor\": \"white\", \"startlinecolor\": \"#2a3f5f\"}, \"type\": \"carpet\"}], \"choropleth\": [{\"colorbar\": {\"outlinewidth\": 0, \"ticks\": \"\"}, \"type\": \"choropleth\"}], \"contour\": [{\"colorbar\": {\"outlinewidth\": 0, \"ticks\": \"\"}, \"colorscale\": [[0.0, \"#0d0887\"], [0.1111111111111111, \"#46039f\"], [0.2222222222222222, \"#7201a8\"], [0.3333333333333333, \"#9c179e\"], [0.4444444444444444, \"#bd3786\"], [0.5555555555555556, \"#d8576b\"], [0.6666666666666666, \"#ed7953\"], [0.7777777777777778, \"#fb9f3a\"], [0.8888888888888888, \"#fdca26\"], [1.0, \"#f0f921\"]], \"type\": \"contour\"}], \"contourcarpet\": [{\"colorbar\": {\"outlinewidth\": 0, \"ticks\": \"\"}, \"type\": \"contourcarpet\"}], \"heatmap\": [{\"colorbar\": {\"outlinewidth\": 0, \"ticks\": \"\"}, \"colorscale\": [[0.0, \"#0d0887\"], [0.1111111111111111, \"#46039f\"], [0.2222222222222222, \"#7201a8\"], [0.3333333333333333, \"#9c179e\"], [0.4444444444444444, \"#bd3786\"], [0.5555555555555556, \"#d8576b\"], [0.6666666666666666, \"#ed7953\"], [0.7777777777777778, \"#fb9f3a\"], [0.8888888888888888, \"#fdca26\"], [1.0, \"#f0f921\"]], \"type\": \"heatmap\"}], \"heatmapgl\": [{\"colorbar\": {\"outlinewidth\": 0, \"ticks\": \"\"}, \"colorscale\": [[0.0, \"#0d0887\"], [0.1111111111111111, \"#46039f\"], [0.2222222222222222, \"#7201a8\"], [0.3333333333333333, \"#9c179e\"], [0.4444444444444444, \"#bd3786\"], [0.5555555555555556, \"#d8576b\"], [0.6666666666666666, \"#ed7953\"], [0.7777777777777778, \"#fb9f3a\"], [0.8888888888888888, \"#fdca26\"], [1.0, \"#f0f921\"]], \"type\": \"heatmapgl\"}], \"histogram\": [{\"marker\": {\"colorbar\": {\"outlinewidth\": 0, \"ticks\": \"\"}}, \"type\": \"histogram\"}], \"histogram2d\": [{\"colorbar\": {\"outlinewidth\": 0, \"ticks\": \"\"}, \"colorscale\": [[0.0, \"#0d0887\"], [0.1111111111111111, \"#46039f\"], [0.2222222222222222, \"#7201a8\"], [0.3333333333333333, \"#9c179e\"], [0.4444444444444444, \"#bd3786\"], [0.5555555555555556, \"#d8576b\"], [0.6666666666666666, \"#ed7953\"], [0.7777777777777778, \"#fb9f3a\"], [0.8888888888888888, \"#fdca26\"], [1.0, \"#f0f921\"]], \"type\": \"histogram2d\"}], \"histogram2dcontour\": [{\"colorbar\": {\"outlinewidth\": 0, \"ticks\": \"\"}, \"colorscale\": [[0.0, \"#0d0887\"], [0.1111111111111111, \"#46039f\"], [0.2222222222222222, \"#7201a8\"], [0.3333333333333333, \"#9c179e\"], [0.4444444444444444, \"#bd3786\"], [0.5555555555555556, \"#d8576b\"], [0.6666666666666666, \"#ed7953\"], [0.7777777777777778, \"#fb9f3a\"], [0.8888888888888888, \"#fdca26\"], [1.0, \"#f0f921\"]], \"type\": \"histogram2dcontour\"}], \"mesh3d\": [{\"colorbar\": {\"outlinewidth\": 0, \"ticks\": \"\"}, \"type\": \"mesh3d\"}], \"parcoords\": [{\"line\": {\"colorbar\": {\"outlinewidth\": 0, \"ticks\": \"\"}}, \"type\": \"parcoords\"}], \"pie\": [{\"automargin\": true, \"type\": \"pie\"}], \"scatter\": [{\"marker\": {\"colorbar\": {\"outlinewidth\": 0, \"ticks\": \"\"}}, \"type\": \"scatter\"}], \"scatter3d\": [{\"line\": {\"colorbar\": {\"outlinewidth\": 0, \"ticks\": \"\"}}, \"marker\": {\"colorbar\": {\"outlinewidth\": 0, \"ticks\": \"\"}}, \"type\": \"scatter3d\"}], \"scattercarpet\": [{\"marker\": {\"colorbar\": {\"outlinewidth\": 0, \"ticks\": \"\"}}, \"type\": \"scattercarpet\"}], \"scattergeo\": [{\"marker\": {\"colorbar\": {\"outlinewidth\": 0, \"ticks\": \"\"}}, \"type\": \"scattergeo\"}], \"scattergl\": [{\"marker\": {\"colorbar\": {\"outlinewidth\": 0, \"ticks\": \"\"}}, \"type\": \"scattergl\"}], \"scattermapbox\": [{\"marker\": {\"colorbar\": {\"outlinewidth\": 0, \"ticks\": \"\"}}, \"type\": \"scattermapbox\"}], \"scatterpolar\": [{\"marker\": {\"colorbar\": {\"outlinewidth\": 0, \"ticks\": \"\"}}, \"type\": \"scatterpolar\"}], \"scatterpolargl\": [{\"marker\": {\"colorbar\": {\"outlinewidth\": 0, \"ticks\": \"\"}}, \"type\": \"scatterpolargl\"}], \"scatterternary\": [{\"marker\": {\"colorbar\": {\"outlinewidth\": 0, \"ticks\": \"\"}}, \"type\": \"scatterternary\"}], \"surface\": [{\"colorbar\": {\"outlinewidth\": 0, \"ticks\": \"\"}, \"colorscale\": [[0.0, \"#0d0887\"], [0.1111111111111111, \"#46039f\"], [0.2222222222222222, \"#7201a8\"], [0.3333333333333333, \"#9c179e\"], [0.4444444444444444, \"#bd3786\"], [0.5555555555555556, \"#d8576b\"], [0.6666666666666666, \"#ed7953\"], [0.7777777777777778, \"#fb9f3a\"], [0.8888888888888888, \"#fdca26\"], [1.0, \"#f0f921\"]], \"type\": \"surface\"}], \"table\": [{\"cells\": {\"fill\": {\"color\": \"#EBF0F8\"}, \"line\": {\"color\": \"white\"}}, \"header\": {\"fill\": {\"color\": \"#C8D4E3\"}, \"line\": {\"color\": \"white\"}}, \"type\": \"table\"}]}, \"layout\": {\"annotationdefaults\": {\"arrowcolor\": \"#2a3f5f\", \"arrowhead\": 0, \"arrowwidth\": 1}, \"coloraxis\": {\"colorbar\": {\"outlinewidth\": 0, \"ticks\": \"\"}}, \"colorscale\": {\"diverging\": [[0, \"#8e0152\"], [0.1, \"#c51b7d\"], [0.2, \"#de77ae\"], [0.3, \"#f1b6da\"], [0.4, \"#fde0ef\"], [0.5, \"#f7f7f7\"], [0.6, \"#e6f5d0\"], [0.7, \"#b8e186\"], [0.8, \"#7fbc41\"], [0.9, \"#4d9221\"], [1, \"#276419\"]], \"sequential\": [[0.0, \"#0d0887\"], [0.1111111111111111, \"#46039f\"], [0.2222222222222222, \"#7201a8\"], [0.3333333333333333, \"#9c179e\"], [0.4444444444444444, \"#bd3786\"], [0.5555555555555556, \"#d8576b\"], [0.6666666666666666, \"#ed7953\"], [0.7777777777777778, \"#fb9f3a\"], [0.8888888888888888, \"#fdca26\"], [1.0, \"#f0f921\"]], \"sequentialminus\": [[0.0, \"#0d0887\"], [0.1111111111111111, \"#46039f\"], [0.2222222222222222, \"#7201a8\"], [0.3333333333333333, \"#9c179e\"], [0.4444444444444444, \"#bd3786\"], [0.5555555555555556, \"#d8576b\"], [0.6666666666666666, \"#ed7953\"], [0.7777777777777778, \"#fb9f3a\"], [0.8888888888888888, \"#fdca26\"], [1.0, \"#f0f921\"]]}, \"colorway\": [\"#636efa\", \"#EF553B\", \"#00cc96\", \"#ab63fa\", \"#FFA15A\", \"#19d3f3\", \"#FF6692\", \"#B6E880\", \"#FF97FF\", \"#FECB52\"], \"font\": {\"color\": \"#2a3f5f\"}, \"geo\": {\"bgcolor\": \"white\", \"lakecolor\": \"white\", \"landcolor\": \"#E5ECF6\", \"showlakes\": true, \"showland\": true, \"subunitcolor\": \"white\"}, \"hoverlabel\": {\"align\": \"left\"}, \"hovermode\": \"closest\", \"mapbox\": {\"style\": \"light\"}, \"paper_bgcolor\": \"white\", \"plot_bgcolor\": \"#E5ECF6\", \"polar\": {\"angularaxis\": {\"gridcolor\": \"white\", \"linecolor\": \"white\", \"ticks\": \"\"}, \"bgcolor\": \"#E5ECF6\", \"radialaxis\": {\"gridcolor\": \"white\", \"linecolor\": \"white\", \"ticks\": \"\"}}, \"scene\": {\"xaxis\": {\"backgroundcolor\": \"#E5ECF6\", \"gridcolor\": \"white\", \"gridwidth\": 2, \"linecolor\": \"white\", \"showbackground\": true, \"ticks\": \"\", \"zerolinecolor\": \"white\"}, \"yaxis\": {\"backgroundcolor\": \"#E5ECF6\", \"gridcolor\": \"white\", \"gridwidth\": 2, \"linecolor\": \"white\", \"showbackground\": true, \"ticks\": \"\", \"zerolinecolor\": \"white\"}, \"zaxis\": {\"backgroundcolor\": \"#E5ECF6\", \"gridcolor\": \"white\", \"gridwidth\": 2, \"linecolor\": \"white\", \"showbackground\": true, \"ticks\": \"\", \"zerolinecolor\": \"white\"}}, \"shapedefaults\": {\"line\": {\"color\": \"#2a3f5f\"}}, \"ternary\": {\"aaxis\": {\"gridcolor\": \"white\", \"linecolor\": \"white\", \"ticks\": \"\"}, \"baxis\": {\"gridcolor\": \"white\", \"linecolor\": \"white\", \"ticks\": \"\"}, \"bgcolor\": \"#E5ECF6\", \"caxis\": {\"gridcolor\": \"white\", \"linecolor\": \"white\", \"ticks\": \"\"}}, \"title\": {\"x\": 0.05}, \"xaxis\": {\"automargin\": true, \"gridcolor\": \"white\", \"linecolor\": \"white\", \"ticks\": \"\", \"title\": {\"standoff\": 15}, \"zerolinecolor\": \"white\", \"zerolinewidth\": 2}, \"yaxis\": {\"automargin\": true, \"gridcolor\": \"white\", \"linecolor\": \"white\", \"ticks\": \"\", \"title\": {\"standoff\": 15}, \"zerolinecolor\": \"white\", \"zerolinewidth\": 2}}}, \"title\": {\"text\": \"Count of Approved Conversions\"}, \"xaxis\": {\"anchor\": \"y\", \"domain\": [0.0, 1.0], \"title\": {\"text\": \"x\"}}, \"yaxis\": {\"anchor\": \"x\", \"domain\": [0.0, 1.0], \"title\": {\"text\": \"y\"}}},\n",
              "                        {\"responsive\": true}\n",
              "                    ).then(function(){\n",
              "                            \n",
              "var gd = document.getElementById('98cf8b8f-2c1c-4ed0-a823-88420c512a12');\n",
              "var x = new MutationObserver(function (mutations, observer) {{\n",
              "        var display = window.getComputedStyle(gd).display;\n",
              "        if (!display || display === 'none') {{\n",
              "            console.log([gd, 'removed!']);\n",
              "            Plotly.purge(gd);\n",
              "            observer.disconnect();\n",
              "        }}\n",
              "}});\n",
              "\n",
              "// Listen for the removal of the full notebook cells\n",
              "var notebookContainer = gd.closest('#notebook-container');\n",
              "if (notebookContainer) {{\n",
              "    x.observe(notebookContainer, {childList: true});\n",
              "}}\n",
              "\n",
              "// Listen for the clearing of the current output cell\n",
              "var outputEl = gd.closest('.output');\n",
              "if (outputEl) {{\n",
              "    x.observe(outputEl, {childList: true});\n",
              "}}\n",
              "\n",
              "                        })\n",
              "                };\n",
              "                \n",
              "            </script>\n",
              "        </div>\n",
              "</body>\n",
              "</html>"
            ]
          },
          "metadata": {}
        }
      ]
    },
    {
      "cell_type": "code",
      "source": [
        "# Conversion with respect to gender\n",
        "print('Gender based analysis')\n",
        "print((dataset.groupby(['gender'])).Total_Conversion.sum())\n",
        "print((dataset.groupby(['gender'])).ad_id.count())"
      ],
      "metadata": {
        "id": "uMBvKp7bXWQf",
        "colab": {
          "base_uri": "https://localhost:8080/"
        },
        "outputId": "4d3acfd8-8ccd-46d3-bb67-2d352b0b037b"
      },
      "execution_count": null,
      "outputs": [
        {
          "output_type": "stream",
          "name": "stdout",
          "text": [
            "Gender based analysis\n",
            "gender\n",
            "F    1644\n",
            "M    1620\n",
            "Name: Total_Conversion, dtype: int64\n",
            "gender\n",
            "F    551\n",
            "M    592\n",
            "Name: ad_id, dtype: int64\n"
          ]
        }
      ]
    },
    {
      "cell_type": "code",
      "source": [
        "# Conversion with respect to age\n",
        "print((dataset.groupby(['age'])).Total_Conversion.sum())\n",
        "print((dataset.groupby(['age'])).ad_id.count())"
      ],
      "metadata": {
        "id": "zcX1ukOFX0aR",
        "colab": {
          "base_uri": "https://localhost:8080/"
        },
        "outputId": "634e23c2-b1f2-4ab2-8bbe-31342ee69d79"
      },
      "execution_count": null,
      "outputs": [
        {
          "output_type": "stream",
          "name": "stdout",
          "text": [
            "age\n",
            "30-34    1431\n",
            "35-39     626\n",
            "40-44     523\n",
            "45-49     684\n",
            "Name: Total_Conversion, dtype: int64\n",
            "age\n",
            "30-34    426\n",
            "35-39    248\n",
            "40-44    210\n",
            "45-49    259\n",
            "Name: ad_id, dtype: int64\n"
          ]
        }
      ]
    },
    {
      "cell_type": "markdown",
      "source": [
        "*   Though we can get more conversion by targeting Males alone, the cost per conversion is high (inferred from campaign 1178 analysis) and the number of ads.\n",
        "*   If there was to be more ads in campaign 916 the conversions would have been much higher\n",
        "*   From the gender analysis we can conclude that we need to target both male and female.\n",
        "*   From the age analysis , we can conclude that we need to target the age group of 30-34 and 45-49."
      ],
      "metadata": {
        "id": "6UMRVoLKXevL"
      }
    },
    {
      "cell_type": "code",
      "source": [
        "# Approved Conversion for each campaign.\n",
        "fig=px.bar(dataset,x=dataset[\"Approved_Conversion\"],y=dataset[\"xyz_campaign_id\"],orientation='h',color_discrete_sequence=px.colors.sequential.Blues_r)\n",
        "fig.show()"
      ],
      "metadata": {
        "colab": {
          "base_uri": "https://localhost:8080/",
          "height": 542
        },
        "id": "RWDUs8jYHCFS",
        "outputId": "c4929d32-baef-4438-a07a-5d24c4c79185"
      },
      "execution_count": null,
      "outputs": [
        {
          "output_type": "display_data",
          "data": {
            "text/html": [
              "<html>\n",
              "<head><meta charset=\"utf-8\" /></head>\n",
              "<body>\n",
              "    <div>\n",
              "            <script src=\"https://cdnjs.cloudflare.com/ajax/libs/mathjax/2.7.5/MathJax.js?config=TeX-AMS-MML_SVG\"></script><script type=\"text/javascript\">if (window.MathJax) {MathJax.Hub.Config({SVG: {font: \"STIX-Web\"}});}</script>\n",
              "                <script type=\"text/javascript\">window.PlotlyConfig = {MathJaxConfig: 'local'};</script>\n",
              "        <script src=\"https://cdn.plot.ly/plotly-latest.min.js\"></script>    \n",
              "            <div id=\"b8f3e05d-211b-4567-828b-02fd6f3b1a3a\" class=\"plotly-graph-div\" style=\"height:525px; width:100%;\"></div>\n",
              "            <script type=\"text/javascript\">\n",
              "                \n",
              "                    window.PLOTLYENV=window.PLOTLYENV || {};\n",
              "                    \n",
              "                if (document.getElementById(\"b8f3e05d-211b-4567-828b-02fd6f3b1a3a\")) {\n",
              "                    Plotly.newPlot(\n",
              "                        'b8f3e05d-211b-4567-828b-02fd6f3b1a3a',\n",
              "                        [{\"alignmentgroup\": \"True\", \"hoverlabel\": {\"namelength\": 0}, \"hovertemplate\": \"Approved_Conversion=%{x}<br>xyz_campaign_id=%{y}\", \"legendgroup\": \"\", \"marker\": {\"color\": \"rgb(8,48,107)\"}, \"name\": \"\", \"offsetgroup\": \"\", \"orientation\": \"h\", \"showlegend\": false, \"textposition\": \"auto\", \"type\": \"bar\", \"x\": [1, 0, 0, 0, 1, 1, 0, 1, 0, 0, 0, 0, 0, 0, 1, 1, 0, 1, 0, 1, 1, 0, 0, 1, 1, 0, 1, 0, 1, 0, 1, 1, 0, 0, 1, 1, 1, 1, 0, 0, 0, 0, 0, 1, 0, 0, 0, 1, 0, 1, 1, 0, 0, 1, 1, 1, 0, 1, 0, 0, 0, 1, 0, 1, 1, 1, 0, 0, 0, 0, 0, 0, 0, 0, 0, 0, 0, 1, 0, 1, 0, 0, 0, 3, 1, 0, 1, 0, 1, 1, 2, 1, 0, 1, 1, 0, 1, 0, 0, 1, 0, 0, 0, 0, 0, 0, 0, 0, 0, 1, 0, 1, 0, 0, 0, 0, 0, 0, 0, 0, 0, 0, 0, 1, 0, 1, 0, 1, 1, 0, 0, 0, 0, 1, 0, 0, 1, 1, 0, 1, 1, 1, 0, 1, 0, 1, 1, 1, 1, 0, 0, 1, 0, 0, 2, 0, 0, 1, 1, 1, 1, 0, 1, 0, 1, 1, 1, 1, 0, 0, 1, 1, 1, 1, 1, 0, 1, 0, 0, 0, 1, 0, 1, 1, 0, 0, 0, 1, 0, 0, 0, 0, 0, 1, 0, 1, 0, 0, 0, 0, 0, 0, 1, 1, 1, 0, 0, 0, 0, 0, 0, 0, 1, 1, 0, 1, 0, 1, 1, 1, 0, 0, 0, 0, 0, 1, 0, 0, 0, 0, 0, 0, 0, 1, 0, 0, 0, 1, 0, 1, 1, 1, 0, 0, 1, 1, 0, 0, 1, 1, 1, 1, 1, 1, 0, 0, 0, 1, 0, 0, 0, 0, 0, 0, 0, 1, 1, 1, 0, 0, 1, 1, 0, 1, 1, 1, 0, 1, 0, 1, 1, 0, 0, 0, 0, 0, 1, 0, 0, 1, 0, 0, 1, 0, 0, 0, 0, 0, 1, 0, 1, 0, 0, 0, 0, 1, 0, 0, 0, 0, 0, 1, 1, 0, 0, 1, 1, 0, 1, 0, 0, 1, 0, 1, 0, 1, 0, 0, 0, 0, 0, 0, 0, 0, 0, 1, 0, 0, 1, 0, 0, 0, 0, 2, 1, 0, 1, 0, 1, 0, 0, 0, 0, 1, 1, 0, 0, 1, 0, 1, 0, 1, 1, 0, 1, 0, 0, 0, 0, 0, 0, 0, 1, 1, 0, 1, 0, 0, 0, 0, 0, 0, 0, 0, 0, 0, 1, 1, 0, 0, 0, 0, 0, 0, 0, 0, 0, 1, 0, 1, 0, 1, 0, 0, 0, 1, 1, 0, 0, 1, 1, 0, 0, 0, 1, 0, 0, 1, 0, 0, 0, 0, 0, 0, 2, 0, 0, 0, 0, 1, 0, 1, 2, 0, 1, 1, 1, 0, 0, 1, 1, 0, 0, 0, 0, 0, 0, 0, 0, 0, 1, 0, 0, 1, 1, 1, 0, 2, 2, 0, 0, 0, 0, 0, 2, 1, 0, 1, 0, 1, 0, 0, 1, 0, 1, 0, 1, 1, 1, 1, 1, 0, 0, 0, 2, 0, 0, 1, 1, 0, 0, 0, 1, 0, 0, 0, 0, 0, 1, 0, 1, 0, 0, 0, 0, 0, 0, 0, 0, 1, 0, 0, 0, 1, 0, 1, 0, 1, 14, 5, 1, 2, 2, 0, 10, 17, 1, 3, 21, 2, 0, 14, 2, 1, 4, 0, 0, 4, 1, 3, 1, 0, 1, 1, 9, 0, 1, 1, 1, 2, 2, 0, 0, 0, 2, 0, 0, 2, 1, 1, 2, 7, 0, 0, 0, 0, 0, 1, 4, 0, 0, 2, 1, 0, 7, 2, 5, 8, 1, 12, 3, 0, 1, 0, 1, 2, 0, 0, 0, 1, 0, 2, 0, 1, 1, 0, 1, 2, 1, 1, 1, 0, 0, 2, 2, 0, 0, 1, 1, 2, 1, 4, 1, 8, 3, 1, 0, 0, 0, 1, 0, 3, 0, 3, 1, 1, 1, 2, 6, 0, 1, 1, 2, 1, 1, 1, 0, 1, 2, 2, 1, 0, 0, 1, 0, 3, 0, 0, 0, 0, 0, 1, 0, 1, 1, 0, 0, 0, 0, 1, 1, 0, 8, 0, 1, 0, 0, 4, 2, 0, 3, 2, 0, 1, 1, 0, 3, 3, 2, 1, 1, 2, 1, 0, 1, 1, 1, 0, 4, 3, 1, 0, 0, 1, 1, 1, 0, 1, 0, 1, 1, 1, 2, 1, 1, 2, 6, 2, 1, 2, 0, 1, 1, 1, 3, 0, 0, 3, 2, 0, 0, 0, 0, 1, 0, 0, 0, 0, 1, 0, 0, 0, 2, 1, 0, 2, 1, 0, 1, 1, 1, 1, 2, 1, 0, 0, 1, 1, 1, 0, 1, 1, 0, 1, 0, 1, 0, 1, 1, 2, 3, 1, 1, 2, 0, 7, 1, 1, 3, 2, 1, 0, 1, 4, 0, 1, 0, 0, 1, 1, 1, 0, 0, 0, 0, 0, 0, 0, 0, 3, 1, 1, 0, 0, 1, 0, 0, 0, 0, 2, 0, 0, 1, 2, 0, 1, 8, 10, 0, 1, 1, 0, 1, 1, 2, 0, 1, 1, 0, 0, 1, 1, 0, 0, 4, 2, 1, 5, 1, 2, 1, 1, 3, 1, 2, 1, 2, 1, 0, 0, 0, 4, 1, 1, 3, 3, 1, 3, 2, 1, 0, 0, 0, 1, 1, 0, 0, 1, 2, 6, 13, 0, 0, 3, 0, 3, 0, 10, 1, 0, 6, 1, 0, 1, 1, 1, 4, 0, 1, 6, 0, 0, 0, 0, 4, 1, 3, 1, 0, 1, 0, 1, 1, 1, 0, 1, 0, 0, 0, 0, 1, 0, 1, 2, 0, 1, 1, 3, 2, 4, 1, 1, 3, 1, 1, 0, 2, 0, 0, 0, 0, 0, 0, 1, 1, 0, 0, 1, 1, 1, 5, 0, 4, 6, 1, 0, 0, 4, 1, 2, 0, 1, 1, 2, 0, 0, 0, 0, 3, 4, 0, 2, 1, 1, 1, 2, 1, 1, 0, 0, 0, 0, 2, 2, 0, 0, 6, 2, 1, 0, 2, 1, 1, 1, 2, 0, 1, 0, 0, 0, 0, 0, 0, 1, 1, 0, 1, 1, 1, 1, 0, 0, 3, 1, 1, 2, 0, 0, 0, 0, 0, 1, 2, 0, 2, 0, 3, 2, 0, 5, 4, 2, 0, 1, 0, 1, 1, 1, 0, 0, 1, 0, 1, 0, 0, 2, 0, 4, 0, 1, 0, 0, 8, 1, 1, 3, 0, 0, 0, 3, 1, 0, 1, 1, 0, 0, 0, 0, 0, 4, 1, 1, 0, 3, 3, 0, 1, 1, 1, 0, 2, 1, 0, 1, 0, 0, 0, 1, 0, 1, 0, 1, 0, 0, 1, 1, 2, 1, 0, 1, 0, 1, 0, 1, 1, 1, 2, 1, 0, 0, 0, 4, 2, 2, 2, 0, 1, 4, 0, 1, 1, 9, 3, 0, 3, 1, 0, 5, 2, 1, 1, 0, 1, 2, 1, 7, 9, 0, 0, 0, 0, 4, 2, 1, 2, 1, 0, 10, 1, 1, 4, 2, 0, 5, 4, 0, 4, 1, 2, 0, 0, 2, 2], \"xaxis\": \"x\", \"y\": [\"Campaign_916\", \"Campaign_916\", \"Campaign_916\", \"Campaign_916\", \"Campaign_916\", \"Campaign_916\", \"Campaign_916\", \"Campaign_916\", \"Campaign_916\", \"Campaign_916\", \"Campaign_916\", \"Campaign_916\", \"Campaign_916\", \"Campaign_916\", \"Campaign_916\", \"Campaign_916\", \"Campaign_916\", \"Campaign_916\", \"Campaign_916\", \"Campaign_916\", \"Campaign_916\", \"Campaign_916\", \"Campaign_916\", \"Campaign_916\", \"Campaign_916\", \"Campaign_916\", \"Campaign_916\", \"Campaign_916\", \"Campaign_916\", \"Campaign_916\", \"Campaign_916\", \"Campaign_916\", \"Campaign_916\", \"Campaign_916\", \"Campaign_916\", \"Campaign_916\", \"Campaign_916\", \"Campaign_916\", \"Campaign_916\", \"Campaign_916\", \"Campaign_916\", \"Campaign_916\", \"Campaign_916\", \"Campaign_916\", \"Campaign_916\", \"Campaign_916\", \"Campaign_916\", \"Campaign_916\", \"Campaign_916\", \"Campaign_916\", \"Campaign_916\", \"Campaign_916\", \"Campaign_916\", \"Campaign_916\", \"Campaign_936\", \"Campaign_936\", \"Campaign_936\", \"Campaign_936\", \"Campaign_936\", \"Campaign_936\", \"Campaign_936\", \"Campaign_936\", \"Campaign_936\", \"Campaign_936\", \"Campaign_936\", \"Campaign_936\", \"Campaign_936\", \"Campaign_936\", \"Campaign_936\", \"Campaign_936\", \"Campaign_936\", \"Campaign_936\", \"Campaign_936\", \"Campaign_936\", \"Campaign_936\", \"Campaign_936\", \"Campaign_936\", \"Campaign_936\", \"Campaign_936\", \"Campaign_936\", \"Campaign_936\", \"Campaign_936\", \"Campaign_936\", \"Campaign_936\", \"Campaign_936\", \"Campaign_936\", \"Campaign_936\", \"Campaign_936\", \"Campaign_936\", \"Campaign_936\", \"Campaign_936\", \"Campaign_936\", \"Campaign_936\", \"Campaign_936\", \"Campaign_936\", \"Campaign_936\", \"Campaign_936\", \"Campaign_936\", \"Campaign_936\", \"Campaign_936\", \"Campaign_936\", \"Campaign_936\", \"Campaign_936\", \"Campaign_936\", \"Campaign_936\", \"Campaign_936\", \"Campaign_936\", \"Campaign_936\", \"Campaign_936\", \"Campaign_936\", \"Campaign_936\", \"Campaign_936\", \"Campaign_936\", \"Campaign_936\", \"Campaign_936\", \"Campaign_936\", \"Campaign_936\", \"Campaign_936\", \"Campaign_936\", \"Campaign_936\", \"Campaign_936\", \"Campaign_936\", \"Campaign_936\", \"Campaign_936\", \"Campaign_936\", \"Campaign_936\", \"Campaign_936\", \"Campaign_936\", \"Campaign_936\", \"Campaign_936\", \"Campaign_936\", \"Campaign_936\", \"Campaign_936\", \"Campaign_936\", \"Campaign_936\", \"Campaign_936\", \"Campaign_936\", \"Campaign_936\", \"Campaign_936\", \"Campaign_936\", \"Campaign_936\", \"Campaign_936\", \"Campaign_936\", \"Campaign_936\", \"Campaign_936\", \"Campaign_936\", \"Campaign_936\", \"Campaign_936\", \"Campaign_936\", \"Campaign_936\", \"Campaign_936\", \"Campaign_936\", \"Campaign_936\", \"Campaign_936\", \"Campaign_936\", \"Campaign_936\", \"Campaign_936\", \"Campaign_936\", \"Campaign_936\", \"Campaign_936\", \"Campaign_936\", \"Campaign_936\", \"Campaign_936\", \"Campaign_936\", \"Campaign_936\", \"Campaign_936\", \"Campaign_936\", \"Campaign_936\", \"Campaign_936\", \"Campaign_936\", \"Campaign_936\", \"Campaign_936\", \"Campaign_936\", \"Campaign_936\", \"Campaign_936\", \"Campaign_936\", \"Campaign_936\", \"Campaign_936\", \"Campaign_936\", \"Campaign_936\", \"Campaign_936\", \"Campaign_936\", \"Campaign_936\", \"Campaign_936\", \"Campaign_936\", \"Campaign_936\", \"Campaign_936\", \"Campaign_936\", \"Campaign_936\", \"Campaign_936\", \"Campaign_936\", \"Campaign_936\", \"Campaign_936\", \"Campaign_936\", \"Campaign_936\", \"Campaign_936\", \"Campaign_936\", \"Campaign_936\", \"Campaign_936\", \"Campaign_936\", \"Campaign_936\", \"Campaign_936\", \"Campaign_936\", \"Campaign_936\", \"Campaign_936\", \"Campaign_936\", \"Campaign_936\", \"Campaign_936\", \"Campaign_936\", \"Campaign_936\", \"Campaign_936\", \"Campaign_936\", \"Campaign_936\", \"Campaign_936\", \"Campaign_936\", \"Campaign_936\", \"Campaign_936\", \"Campaign_936\", \"Campaign_936\", \"Campaign_936\", \"Campaign_936\", \"Campaign_936\", \"Campaign_936\", \"Campaign_936\", \"Campaign_936\", \"Campaign_936\", \"Campaign_936\", \"Campaign_936\", \"Campaign_936\", \"Campaign_936\", \"Campaign_936\", \"Campaign_936\", \"Campaign_936\", \"Campaign_936\", \"Campaign_936\", \"Campaign_936\", \"Campaign_936\", \"Campaign_936\", \"Campaign_936\", \"Campaign_936\", \"Campaign_936\", \"Campaign_936\", \"Campaign_936\", \"Campaign_936\", \"Campaign_936\", \"Campaign_936\", \"Campaign_936\", \"Campaign_936\", \"Campaign_936\", \"Campaign_936\", \"Campaign_936\", \"Campaign_936\", \"Campaign_936\", \"Campaign_936\", \"Campaign_936\", \"Campaign_936\", \"Campaign_936\", \"Campaign_936\", \"Campaign_936\", \"Campaign_936\", \"Campaign_936\", \"Campaign_936\", \"Campaign_936\", \"Campaign_936\", \"Campaign_936\", \"Campaign_936\", \"Campaign_936\", \"Campaign_936\", \"Campaign_936\", \"Campaign_936\", \"Campaign_936\", \"Campaign_936\", \"Campaign_936\", \"Campaign_936\", \"Campaign_936\", \"Campaign_936\", \"Campaign_936\", \"Campaign_936\", \"Campaign_936\", \"Campaign_936\", \"Campaign_936\", \"Campaign_936\", \"Campaign_936\", \"Campaign_936\", \"Campaign_936\", \"Campaign_936\", \"Campaign_936\", \"Campaign_936\", \"Campaign_936\", \"Campaign_936\", \"Campaign_936\", \"Campaign_936\", \"Campaign_936\", \"Campaign_936\", \"Campaign_936\", \"Campaign_936\", \"Campaign_936\", \"Campaign_936\", \"Campaign_936\", \"Campaign_936\", \"Campaign_936\", \"Campaign_936\", \"Campaign_936\", \"Campaign_936\", \"Campaign_936\", \"Campaign_936\", \"Campaign_936\", \"Campaign_936\", \"Campaign_936\", \"Campaign_936\", \"Campaign_936\", \"Campaign_936\", \"Campaign_936\", \"Campaign_936\", \"Campaign_936\", \"Campaign_936\", \"Campaign_936\", \"Campaign_936\", \"Campaign_936\", \"Campaign_936\", \"Campaign_936\", \"Campaign_936\", \"Campaign_936\", \"Campaign_936\", \"Campaign_936\", \"Campaign_936\", \"Campaign_936\", \"Campaign_936\", \"Campaign_936\", \"Campaign_936\", \"Campaign_936\", \"Campaign_936\", \"Campaign_936\", \"Campaign_936\", \"Campaign_936\", \"Campaign_936\", \"Campaign_936\", \"Campaign_936\", \"Campaign_936\", \"Campaign_936\", \"Campaign_936\", \"Campaign_936\", \"Campaign_936\", \"Campaign_936\", \"Campaign_936\", \"Campaign_936\", \"Campaign_936\", \"Campaign_936\", \"Campaign_936\", \"Campaign_936\", \"Campaign_936\", \"Campaign_936\", \"Campaign_936\", \"Campaign_936\", \"Campaign_936\", \"Campaign_936\", \"Campaign_936\", \"Campaign_936\", \"Campaign_936\", \"Campaign_936\", \"Campaign_936\", \"Campaign_936\", \"Campaign_936\", \"Campaign_936\", \"Campaign_936\", \"Campaign_936\", \"Campaign_936\", \"Campaign_936\", \"Campaign_936\", \"Campaign_936\", \"Campaign_936\", \"Campaign_936\", \"Campaign_936\", \"Campaign_936\", \"Campaign_936\", \"Campaign_936\", \"Campaign_936\", \"Campaign_936\", \"Campaign_936\", \"Campaign_936\", \"Campaign_936\", \"Campaign_936\", \"Campaign_936\", \"Campaign_936\", \"Campaign_936\", \"Campaign_936\", \"Campaign_936\", \"Campaign_936\", \"Campaign_936\", \"Campaign_936\", \"Campaign_936\", \"Campaign_936\", \"Campaign_936\", \"Campaign_936\", \"Campaign_936\", \"Campaign_936\", \"Campaign_936\", \"Campaign_936\", \"Campaign_936\", \"Campaign_936\", \"Campaign_936\", \"Campaign_936\", \"Campaign_936\", \"Campaign_936\", \"Campaign_936\", \"Campaign_936\", \"Campaign_936\", \"Campaign_936\", \"Campaign_936\", \"Campaign_936\", \"Campaign_936\", \"Campaign_936\", \"Campaign_936\", \"Campaign_936\", \"Campaign_936\", \"Campaign_936\", \"Campaign_936\", \"Campaign_936\", \"Campaign_936\", \"Campaign_936\", \"Campaign_936\", \"Campaign_936\", \"Campaign_936\", \"Campaign_936\", \"Campaign_936\", \"Campaign_936\", \"Campaign_936\", \"Campaign_936\", \"Campaign_936\", \"Campaign_936\", \"Campaign_936\", \"Campaign_936\", \"Campaign_936\", \"Campaign_936\", \"Campaign_936\", \"Campaign_936\", \"Campaign_936\", \"Campaign_936\", \"Campaign_936\", \"Campaign_936\", \"Campaign_936\", \"Campaign_936\", \"Campaign_936\", \"Campaign_936\", \"Campaign_936\", \"Campaign_936\", \"Campaign_936\", \"Campaign_936\", \"Campaign_936\", \"Campaign_936\", \"Campaign_936\", \"Campaign_936\", \"Campaign_936\", \"Campaign_936\", \"Campaign_936\", \"Campaign_936\", \"Campaign_936\", \"Campaign_936\", \"Campaign_936\", \"Campaign_936\", \"Campaign_936\", \"Campaign_936\", \"Campaign_936\", \"Campaign_936\", \"Campaign_936\", \"Campaign_936\", \"Campaign_936\", \"Campaign_936\", \"Campaign_936\", \"Campaign_936\", \"Campaign_936\", \"Campaign_936\", \"Campaign_936\", \"Campaign_936\", \"Campaign_936\", \"Campaign_936\", \"Campaign_936\", \"Campaign_936\", \"Campaign_936\", \"Campaign_936\", \"Campaign_936\", \"Campaign_936\", \"Campaign_936\", \"Campaign_936\", \"Campaign_936\", \"Campaign_936\", \"Campaign_936\", \"Campaign_936\", \"Campaign_936\", \"Campaign_936\", \"Campaign_936\", \"Campaign_936\", \"Campaign_936\", \"Campaign_936\", \"Campaign_936\", \"Campaign_936\", \"Campaign_936\", \"Campaign_936\", \"Campaign_936\", \"Campaign_936\", \"Campaign_936\", \"Campaign_936\", \"Campaign_936\", \"Campaign_936\", \"Campaign_936\", \"Campaign_936\", \"Campaign_936\", \"Campaign_936\", \"Campaign_936\", \"Campaign_936\", \"Campaign_936\", \"Campaign_936\", \"Campaign_936\", \"Campaign_936\", \"Campaign_936\", \"Campaign_936\", \"Campaign_936\", \"Campaign_936\", \"Campaign_1178\", \"Campaign_1178\", \"Campaign_1178\", \"Campaign_1178\", \"Campaign_1178\", \"Campaign_1178\", \"Campaign_1178\", \"Campaign_1178\", \"Campaign_1178\", \"Campaign_1178\", \"Campaign_1178\", \"Campaign_1178\", \"Campaign_1178\", \"Campaign_1178\", \"Campaign_1178\", \"Campaign_1178\", \"Campaign_1178\", \"Campaign_1178\", \"Campaign_1178\", \"Campaign_1178\", \"Campaign_1178\", \"Campaign_1178\", \"Campaign_1178\", \"Campaign_1178\", \"Campaign_1178\", \"Campaign_1178\", \"Campaign_1178\", \"Campaign_1178\", \"Campaign_1178\", \"Campaign_1178\", \"Campaign_1178\", \"Campaign_1178\", \"Campaign_1178\", \"Campaign_1178\", \"Campaign_1178\", \"Campaign_1178\", \"Campaign_1178\", \"Campaign_1178\", \"Campaign_1178\", \"Campaign_1178\", \"Campaign_1178\", \"Campaign_1178\", \"Campaign_1178\", \"Campaign_1178\", \"Campaign_1178\", \"Campaign_1178\", \"Campaign_1178\", \"Campaign_1178\", \"Campaign_1178\", \"Campaign_1178\", \"Campaign_1178\", \"Campaign_1178\", \"Campaign_1178\", \"Campaign_1178\", \"Campaign_1178\", \"Campaign_1178\", \"Campaign_1178\", \"Campaign_1178\", \"Campaign_1178\", \"Campaign_1178\", \"Campaign_1178\", \"Campaign_1178\", \"Campaign_1178\", \"Campaign_1178\", \"Campaign_1178\", \"Campaign_1178\", \"Campaign_1178\", \"Campaign_1178\", \"Campaign_1178\", \"Campaign_1178\", \"Campaign_1178\", \"Campaign_1178\", \"Campaign_1178\", \"Campaign_1178\", \"Campaign_1178\", \"Campaign_1178\", \"Campaign_1178\", \"Campaign_1178\", \"Campaign_1178\", \"Campaign_1178\", \"Campaign_1178\", \"Campaign_1178\", \"Campaign_1178\", \"Campaign_1178\", \"Campaign_1178\", \"Campaign_1178\", \"Campaign_1178\", \"Campaign_1178\", \"Campaign_1178\", \"Campaign_1178\", \"Campaign_1178\", \"Campaign_1178\", \"Campaign_1178\", \"Campaign_1178\", \"Campaign_1178\", \"Campaign_1178\", \"Campaign_1178\", \"Campaign_1178\", \"Campaign_1178\", \"Campaign_1178\", \"Campaign_1178\", \"Campaign_1178\", \"Campaign_1178\", \"Campaign_1178\", \"Campaign_1178\", \"Campaign_1178\", \"Campaign_1178\", \"Campaign_1178\", \"Campaign_1178\", \"Campaign_1178\", \"Campaign_1178\", \"Campaign_1178\", \"Campaign_1178\", \"Campaign_1178\", \"Campaign_1178\", \"Campaign_1178\", \"Campaign_1178\", \"Campaign_1178\", \"Campaign_1178\", \"Campaign_1178\", \"Campaign_1178\", \"Campaign_1178\", \"Campaign_1178\", \"Campaign_1178\", \"Campaign_1178\", \"Campaign_1178\", \"Campaign_1178\", \"Campaign_1178\", \"Campaign_1178\", \"Campaign_1178\", \"Campaign_1178\", \"Campaign_1178\", \"Campaign_1178\", \"Campaign_1178\", \"Campaign_1178\", \"Campaign_1178\", \"Campaign_1178\", \"Campaign_1178\", \"Campaign_1178\", \"Campaign_1178\", \"Campaign_1178\", \"Campaign_1178\", \"Campaign_1178\", \"Campaign_1178\", \"Campaign_1178\", \"Campaign_1178\", \"Campaign_1178\", \"Campaign_1178\", \"Campaign_1178\", \"Campaign_1178\", \"Campaign_1178\", \"Campaign_1178\", \"Campaign_1178\", \"Campaign_1178\", \"Campaign_1178\", \"Campaign_1178\", \"Campaign_1178\", \"Campaign_1178\", \"Campaign_1178\", \"Campaign_1178\", \"Campaign_1178\", \"Campaign_1178\", \"Campaign_1178\", \"Campaign_1178\", \"Campaign_1178\", \"Campaign_1178\", \"Campaign_1178\", \"Campaign_1178\", \"Campaign_1178\", \"Campaign_1178\", \"Campaign_1178\", \"Campaign_1178\", \"Campaign_1178\", \"Campaign_1178\", \"Campaign_1178\", \"Campaign_1178\", \"Campaign_1178\", \"Campaign_1178\", \"Campaign_1178\", \"Campaign_1178\", \"Campaign_1178\", \"Campaign_1178\", \"Campaign_1178\", \"Campaign_1178\", \"Campaign_1178\", \"Campaign_1178\", \"Campaign_1178\", \"Campaign_1178\", \"Campaign_1178\", \"Campaign_1178\", \"Campaign_1178\", \"Campaign_1178\", \"Campaign_1178\", \"Campaign_1178\", \"Campaign_1178\", \"Campaign_1178\", \"Campaign_1178\", \"Campaign_1178\", \"Campaign_1178\", \"Campaign_1178\", \"Campaign_1178\", \"Campaign_1178\", \"Campaign_1178\", \"Campaign_1178\", \"Campaign_1178\", \"Campaign_1178\", \"Campaign_1178\", \"Campaign_1178\", \"Campaign_1178\", \"Campaign_1178\", \"Campaign_1178\", \"Campaign_1178\", \"Campaign_1178\", \"Campaign_1178\", \"Campaign_1178\", \"Campaign_1178\", \"Campaign_1178\", \"Campaign_1178\", \"Campaign_1178\", \"Campaign_1178\", \"Campaign_1178\", \"Campaign_1178\", \"Campaign_1178\", \"Campaign_1178\", \"Campaign_1178\", \"Campaign_1178\", \"Campaign_1178\", \"Campaign_1178\", \"Campaign_1178\", \"Campaign_1178\", \"Campaign_1178\", \"Campaign_1178\", \"Campaign_1178\", \"Campaign_1178\", \"Campaign_1178\", \"Campaign_1178\", \"Campaign_1178\", \"Campaign_1178\", \"Campaign_1178\", \"Campaign_1178\", \"Campaign_1178\", \"Campaign_1178\", \"Campaign_1178\", \"Campaign_1178\", \"Campaign_1178\", \"Campaign_1178\", \"Campaign_1178\", \"Campaign_1178\", \"Campaign_1178\", \"Campaign_1178\", \"Campaign_1178\", \"Campaign_1178\", \"Campaign_1178\", \"Campaign_1178\", \"Campaign_1178\", \"Campaign_1178\", \"Campaign_1178\", \"Campaign_1178\", \"Campaign_1178\", \"Campaign_1178\", \"Campaign_1178\", \"Campaign_1178\", \"Campaign_1178\", \"Campaign_1178\", \"Campaign_1178\", \"Campaign_1178\", \"Campaign_1178\", \"Campaign_1178\", \"Campaign_1178\", \"Campaign_1178\", \"Campaign_1178\", \"Campaign_1178\", \"Campaign_1178\", \"Campaign_1178\", \"Campaign_1178\", \"Campaign_1178\", \"Campaign_1178\", \"Campaign_1178\", \"Campaign_1178\", \"Campaign_1178\", \"Campaign_1178\", \"Campaign_1178\", \"Campaign_1178\", \"Campaign_1178\", \"Campaign_1178\", \"Campaign_1178\", \"Campaign_1178\", \"Campaign_1178\", \"Campaign_1178\", \"Campaign_1178\", \"Campaign_1178\", \"Campaign_1178\", \"Campaign_1178\", \"Campaign_1178\", \"Campaign_1178\", \"Campaign_1178\", \"Campaign_1178\", \"Campaign_1178\", \"Campaign_1178\", \"Campaign_1178\", \"Campaign_1178\", \"Campaign_1178\", \"Campaign_1178\", \"Campaign_1178\", \"Campaign_1178\", \"Campaign_1178\", \"Campaign_1178\", \"Campaign_1178\", \"Campaign_1178\", \"Campaign_1178\", \"Campaign_1178\", \"Campaign_1178\", \"Campaign_1178\", \"Campaign_1178\", \"Campaign_1178\", \"Campaign_1178\", \"Campaign_1178\", \"Campaign_1178\", \"Campaign_1178\", \"Campaign_1178\", \"Campaign_1178\", \"Campaign_1178\", \"Campaign_1178\", \"Campaign_1178\", \"Campaign_1178\", \"Campaign_1178\", \"Campaign_1178\", \"Campaign_1178\", \"Campaign_1178\", \"Campaign_1178\", \"Campaign_1178\", \"Campaign_1178\", \"Campaign_1178\", \"Campaign_1178\", \"Campaign_1178\", \"Campaign_1178\", \"Campaign_1178\", \"Campaign_1178\", \"Campaign_1178\", \"Campaign_1178\", \"Campaign_1178\", \"Campaign_1178\", \"Campaign_1178\", \"Campaign_1178\", \"Campaign_1178\", \"Campaign_1178\", \"Campaign_1178\", \"Campaign_1178\", \"Campaign_1178\", \"Campaign_1178\", \"Campaign_1178\", \"Campaign_1178\", \"Campaign_1178\", \"Campaign_1178\", \"Campaign_1178\", \"Campaign_1178\", \"Campaign_1178\", \"Campaign_1178\", \"Campaign_1178\", \"Campaign_1178\", \"Campaign_1178\", \"Campaign_1178\", \"Campaign_1178\", \"Campaign_1178\", \"Campaign_1178\", \"Campaign_1178\", \"Campaign_1178\", \"Campaign_1178\", \"Campaign_1178\", \"Campaign_1178\", \"Campaign_1178\", \"Campaign_1178\", \"Campaign_1178\", \"Campaign_1178\", \"Campaign_1178\", \"Campaign_1178\", \"Campaign_1178\", \"Campaign_1178\", \"Campaign_1178\", \"Campaign_1178\", \"Campaign_1178\", \"Campaign_1178\", \"Campaign_1178\", \"Campaign_1178\", \"Campaign_1178\", \"Campaign_1178\", \"Campaign_1178\", \"Campaign_1178\", \"Campaign_1178\", \"Campaign_1178\", \"Campaign_1178\", \"Campaign_1178\", \"Campaign_1178\", \"Campaign_1178\", \"Campaign_1178\", \"Campaign_1178\", \"Campaign_1178\", \"Campaign_1178\", \"Campaign_1178\", \"Campaign_1178\", \"Campaign_1178\", \"Campaign_1178\", \"Campaign_1178\", \"Campaign_1178\", \"Campaign_1178\", \"Campaign_1178\", \"Campaign_1178\", \"Campaign_1178\", \"Campaign_1178\", \"Campaign_1178\", \"Campaign_1178\", \"Campaign_1178\", \"Campaign_1178\", \"Campaign_1178\", \"Campaign_1178\", \"Campaign_1178\", \"Campaign_1178\", \"Campaign_1178\", \"Campaign_1178\", \"Campaign_1178\", \"Campaign_1178\", \"Campaign_1178\", \"Campaign_1178\", \"Campaign_1178\", \"Campaign_1178\", \"Campaign_1178\", \"Campaign_1178\", \"Campaign_1178\", \"Campaign_1178\", \"Campaign_1178\", \"Campaign_1178\", \"Campaign_1178\", \"Campaign_1178\", \"Campaign_1178\", \"Campaign_1178\", \"Campaign_1178\", \"Campaign_1178\", \"Campaign_1178\", \"Campaign_1178\", \"Campaign_1178\", \"Campaign_1178\", \"Campaign_1178\", \"Campaign_1178\", \"Campaign_1178\", \"Campaign_1178\", \"Campaign_1178\", \"Campaign_1178\", \"Campaign_1178\", \"Campaign_1178\", \"Campaign_1178\", \"Campaign_1178\", \"Campaign_1178\", \"Campaign_1178\", \"Campaign_1178\", \"Campaign_1178\", \"Campaign_1178\", \"Campaign_1178\", \"Campaign_1178\", \"Campaign_1178\", \"Campaign_1178\", \"Campaign_1178\", \"Campaign_1178\", \"Campaign_1178\", \"Campaign_1178\", \"Campaign_1178\", \"Campaign_1178\", \"Campaign_1178\", \"Campaign_1178\", \"Campaign_1178\", \"Campaign_1178\", \"Campaign_1178\", \"Campaign_1178\", \"Campaign_1178\", \"Campaign_1178\", \"Campaign_1178\", \"Campaign_1178\", \"Campaign_1178\", \"Campaign_1178\", \"Campaign_1178\", \"Campaign_1178\", \"Campaign_1178\", \"Campaign_1178\", \"Campaign_1178\", \"Campaign_1178\", \"Campaign_1178\", \"Campaign_1178\", \"Campaign_1178\", \"Campaign_1178\", \"Campaign_1178\", \"Campaign_1178\", \"Campaign_1178\", \"Campaign_1178\", \"Campaign_1178\", \"Campaign_1178\", \"Campaign_1178\", \"Campaign_1178\", \"Campaign_1178\", \"Campaign_1178\", \"Campaign_1178\", \"Campaign_1178\", \"Campaign_1178\", \"Campaign_1178\", \"Campaign_1178\", \"Campaign_1178\", \"Campaign_1178\", \"Campaign_1178\", \"Campaign_1178\", \"Campaign_1178\", \"Campaign_1178\", \"Campaign_1178\", \"Campaign_1178\", \"Campaign_1178\", \"Campaign_1178\", \"Campaign_1178\", \"Campaign_1178\", \"Campaign_1178\", \"Campaign_1178\", \"Campaign_1178\", \"Campaign_1178\", \"Campaign_1178\", \"Campaign_1178\", \"Campaign_1178\", \"Campaign_1178\", \"Campaign_1178\", \"Campaign_1178\", \"Campaign_1178\", \"Campaign_1178\", \"Campaign_1178\", \"Campaign_1178\", \"Campaign_1178\", \"Campaign_1178\", \"Campaign_1178\", \"Campaign_1178\", \"Campaign_1178\", \"Campaign_1178\", \"Campaign_1178\", \"Campaign_1178\", \"Campaign_1178\", \"Campaign_1178\", \"Campaign_1178\", \"Campaign_1178\", \"Campaign_1178\", \"Campaign_1178\", \"Campaign_1178\", \"Campaign_1178\", \"Campaign_1178\", \"Campaign_1178\", \"Campaign_1178\", \"Campaign_1178\", \"Campaign_1178\", \"Campaign_1178\", \"Campaign_1178\", \"Campaign_1178\", \"Campaign_1178\", \"Campaign_1178\", \"Campaign_1178\", \"Campaign_1178\", \"Campaign_1178\", \"Campaign_1178\", \"Campaign_1178\", \"Campaign_1178\", \"Campaign_1178\", \"Campaign_1178\", \"Campaign_1178\", \"Campaign_1178\", \"Campaign_1178\", \"Campaign_1178\", \"Campaign_1178\", \"Campaign_1178\", \"Campaign_1178\", \"Campaign_1178\", \"Campaign_1178\", \"Campaign_1178\", \"Campaign_1178\", \"Campaign_1178\", \"Campaign_1178\", \"Campaign_1178\", \"Campaign_1178\", \"Campaign_1178\", \"Campaign_1178\", \"Campaign_1178\", \"Campaign_1178\", \"Campaign_1178\", \"Campaign_1178\", \"Campaign_1178\", \"Campaign_1178\", \"Campaign_1178\", \"Campaign_1178\", \"Campaign_1178\", \"Campaign_1178\", \"Campaign_1178\", \"Campaign_1178\", \"Campaign_1178\", \"Campaign_1178\", \"Campaign_1178\", \"Campaign_1178\", \"Campaign_1178\", \"Campaign_1178\", \"Campaign_1178\", \"Campaign_1178\", \"Campaign_1178\", \"Campaign_1178\", \"Campaign_1178\", \"Campaign_1178\", \"Campaign_1178\", \"Campaign_1178\", \"Campaign_1178\", \"Campaign_1178\", \"Campaign_1178\", \"Campaign_1178\", \"Campaign_1178\", \"Campaign_1178\", \"Campaign_1178\", \"Campaign_1178\", \"Campaign_1178\", \"Campaign_1178\", \"Campaign_1178\", \"Campaign_1178\", \"Campaign_1178\", \"Campaign_1178\", \"Campaign_1178\", \"Campaign_1178\", \"Campaign_1178\", \"Campaign_1178\", \"Campaign_1178\"], \"yaxis\": \"y\"}],\n",
              "                        {\"barmode\": \"relative\", \"legend\": {\"tracegroupgap\": 0}, \"margin\": {\"t\": 60}, \"template\": {\"data\": {\"bar\": [{\"error_x\": {\"color\": \"#2a3f5f\"}, \"error_y\": {\"color\": \"#2a3f5f\"}, \"marker\": {\"line\": {\"color\": \"#E5ECF6\", \"width\": 0.5}}, \"type\": \"bar\"}], \"barpolar\": [{\"marker\": {\"line\": {\"color\": \"#E5ECF6\", \"width\": 0.5}}, \"type\": \"barpolar\"}], \"carpet\": [{\"aaxis\": {\"endlinecolor\": \"#2a3f5f\", \"gridcolor\": \"white\", \"linecolor\": \"white\", \"minorgridcolor\": \"white\", \"startlinecolor\": \"#2a3f5f\"}, \"baxis\": {\"endlinecolor\": \"#2a3f5f\", \"gridcolor\": \"white\", \"linecolor\": \"white\", \"minorgridcolor\": \"white\", \"startlinecolor\": \"#2a3f5f\"}, \"type\": \"carpet\"}], \"choropleth\": [{\"colorbar\": {\"outlinewidth\": 0, \"ticks\": \"\"}, \"type\": \"choropleth\"}], \"contour\": [{\"colorbar\": {\"outlinewidth\": 0, \"ticks\": \"\"}, \"colorscale\": [[0.0, \"#0d0887\"], [0.1111111111111111, \"#46039f\"], [0.2222222222222222, \"#7201a8\"], [0.3333333333333333, \"#9c179e\"], [0.4444444444444444, \"#bd3786\"], [0.5555555555555556, \"#d8576b\"], [0.6666666666666666, \"#ed7953\"], [0.7777777777777778, \"#fb9f3a\"], [0.8888888888888888, \"#fdca26\"], [1.0, \"#f0f921\"]], \"type\": \"contour\"}], \"contourcarpet\": [{\"colorbar\": {\"outlinewidth\": 0, \"ticks\": \"\"}, \"type\": \"contourcarpet\"}], \"heatmap\": [{\"colorbar\": {\"outlinewidth\": 0, \"ticks\": \"\"}, \"colorscale\": [[0.0, \"#0d0887\"], [0.1111111111111111, \"#46039f\"], [0.2222222222222222, \"#7201a8\"], [0.3333333333333333, \"#9c179e\"], [0.4444444444444444, \"#bd3786\"], [0.5555555555555556, \"#d8576b\"], [0.6666666666666666, \"#ed7953\"], [0.7777777777777778, \"#fb9f3a\"], [0.8888888888888888, \"#fdca26\"], [1.0, \"#f0f921\"]], \"type\": \"heatmap\"}], \"heatmapgl\": [{\"colorbar\": {\"outlinewidth\": 0, \"ticks\": \"\"}, \"colorscale\": [[0.0, \"#0d0887\"], [0.1111111111111111, \"#46039f\"], [0.2222222222222222, \"#7201a8\"], [0.3333333333333333, \"#9c179e\"], [0.4444444444444444, \"#bd3786\"], [0.5555555555555556, \"#d8576b\"], [0.6666666666666666, \"#ed7953\"], [0.7777777777777778, \"#fb9f3a\"], [0.8888888888888888, \"#fdca26\"], [1.0, \"#f0f921\"]], \"type\": \"heatmapgl\"}], \"histogram\": [{\"marker\": {\"colorbar\": {\"outlinewidth\": 0, \"ticks\": \"\"}}, \"type\": \"histogram\"}], \"histogram2d\": [{\"colorbar\": {\"outlinewidth\": 0, \"ticks\": \"\"}, \"colorscale\": [[0.0, \"#0d0887\"], [0.1111111111111111, \"#46039f\"], [0.2222222222222222, \"#7201a8\"], [0.3333333333333333, \"#9c179e\"], [0.4444444444444444, \"#bd3786\"], [0.5555555555555556, \"#d8576b\"], [0.6666666666666666, \"#ed7953\"], [0.7777777777777778, \"#fb9f3a\"], [0.8888888888888888, \"#fdca26\"], [1.0, \"#f0f921\"]], \"type\": \"histogram2d\"}], \"histogram2dcontour\": [{\"colorbar\": {\"outlinewidth\": 0, \"ticks\": \"\"}, \"colorscale\": [[0.0, \"#0d0887\"], [0.1111111111111111, \"#46039f\"], [0.2222222222222222, \"#7201a8\"], [0.3333333333333333, \"#9c179e\"], [0.4444444444444444, \"#bd3786\"], [0.5555555555555556, \"#d8576b\"], [0.6666666666666666, \"#ed7953\"], [0.7777777777777778, \"#fb9f3a\"], [0.8888888888888888, \"#fdca26\"], [1.0, \"#f0f921\"]], \"type\": \"histogram2dcontour\"}], \"mesh3d\": [{\"colorbar\": {\"outlinewidth\": 0, \"ticks\": \"\"}, \"type\": \"mesh3d\"}], \"parcoords\": [{\"line\": {\"colorbar\": {\"outlinewidth\": 0, \"ticks\": \"\"}}, \"type\": \"parcoords\"}], \"pie\": [{\"automargin\": true, \"type\": \"pie\"}], \"scatter\": [{\"marker\": {\"colorbar\": {\"outlinewidth\": 0, \"ticks\": \"\"}}, \"type\": \"scatter\"}], \"scatter3d\": [{\"line\": {\"colorbar\": {\"outlinewidth\": 0, \"ticks\": \"\"}}, \"marker\": {\"colorbar\": {\"outlinewidth\": 0, \"ticks\": \"\"}}, \"type\": \"scatter3d\"}], \"scattercarpet\": [{\"marker\": {\"colorbar\": {\"outlinewidth\": 0, \"ticks\": \"\"}}, \"type\": \"scattercarpet\"}], \"scattergeo\": [{\"marker\": {\"colorbar\": {\"outlinewidth\": 0, \"ticks\": \"\"}}, \"type\": \"scattergeo\"}], \"scattergl\": [{\"marker\": {\"colorbar\": {\"outlinewidth\": 0, \"ticks\": \"\"}}, \"type\": \"scattergl\"}], \"scattermapbox\": [{\"marker\": {\"colorbar\": {\"outlinewidth\": 0, \"ticks\": \"\"}}, \"type\": \"scattermapbox\"}], \"scatterpolar\": [{\"marker\": {\"colorbar\": {\"outlinewidth\": 0, \"ticks\": \"\"}}, \"type\": \"scatterpolar\"}], \"scatterpolargl\": [{\"marker\": {\"colorbar\": {\"outlinewidth\": 0, \"ticks\": \"\"}}, \"type\": \"scatterpolargl\"}], \"scatterternary\": [{\"marker\": {\"colorbar\": {\"outlinewidth\": 0, \"ticks\": \"\"}}, \"type\": \"scatterternary\"}], \"surface\": [{\"colorbar\": {\"outlinewidth\": 0, \"ticks\": \"\"}, \"colorscale\": [[0.0, \"#0d0887\"], [0.1111111111111111, \"#46039f\"], [0.2222222222222222, \"#7201a8\"], [0.3333333333333333, \"#9c179e\"], [0.4444444444444444, \"#bd3786\"], [0.5555555555555556, \"#d8576b\"], [0.6666666666666666, \"#ed7953\"], [0.7777777777777778, \"#fb9f3a\"], [0.8888888888888888, \"#fdca26\"], [1.0, \"#f0f921\"]], \"type\": \"surface\"}], \"table\": [{\"cells\": {\"fill\": {\"color\": \"#EBF0F8\"}, \"line\": {\"color\": \"white\"}}, \"header\": {\"fill\": {\"color\": \"#C8D4E3\"}, \"line\": {\"color\": \"white\"}}, \"type\": \"table\"}]}, \"layout\": {\"annotationdefaults\": {\"arrowcolor\": \"#2a3f5f\", \"arrowhead\": 0, \"arrowwidth\": 1}, \"coloraxis\": {\"colorbar\": {\"outlinewidth\": 0, \"ticks\": \"\"}}, \"colorscale\": {\"diverging\": [[0, \"#8e0152\"], [0.1, \"#c51b7d\"], [0.2, \"#de77ae\"], [0.3, \"#f1b6da\"], [0.4, \"#fde0ef\"], [0.5, \"#f7f7f7\"], [0.6, \"#e6f5d0\"], [0.7, \"#b8e186\"], [0.8, \"#7fbc41\"], [0.9, \"#4d9221\"], [1, \"#276419\"]], \"sequential\": [[0.0, \"#0d0887\"], [0.1111111111111111, \"#46039f\"], [0.2222222222222222, \"#7201a8\"], [0.3333333333333333, \"#9c179e\"], [0.4444444444444444, \"#bd3786\"], [0.5555555555555556, \"#d8576b\"], [0.6666666666666666, \"#ed7953\"], [0.7777777777777778, \"#fb9f3a\"], [0.8888888888888888, \"#fdca26\"], [1.0, \"#f0f921\"]], \"sequentialminus\": [[0.0, \"#0d0887\"], [0.1111111111111111, \"#46039f\"], [0.2222222222222222, \"#7201a8\"], [0.3333333333333333, \"#9c179e\"], [0.4444444444444444, \"#bd3786\"], [0.5555555555555556, \"#d8576b\"], [0.6666666666666666, \"#ed7953\"], [0.7777777777777778, \"#fb9f3a\"], [0.8888888888888888, \"#fdca26\"], [1.0, \"#f0f921\"]]}, \"colorway\": [\"#636efa\", \"#EF553B\", \"#00cc96\", \"#ab63fa\", \"#FFA15A\", \"#19d3f3\", \"#FF6692\", \"#B6E880\", \"#FF97FF\", \"#FECB52\"], \"font\": {\"color\": \"#2a3f5f\"}, \"geo\": {\"bgcolor\": \"white\", \"lakecolor\": \"white\", \"landcolor\": \"#E5ECF6\", \"showlakes\": true, \"showland\": true, \"subunitcolor\": \"white\"}, \"hoverlabel\": {\"align\": \"left\"}, \"hovermode\": \"closest\", \"mapbox\": {\"style\": \"light\"}, \"paper_bgcolor\": \"white\", \"plot_bgcolor\": \"#E5ECF6\", \"polar\": {\"angularaxis\": {\"gridcolor\": \"white\", \"linecolor\": \"white\", \"ticks\": \"\"}, \"bgcolor\": \"#E5ECF6\", \"radialaxis\": {\"gridcolor\": \"white\", \"linecolor\": \"white\", \"ticks\": \"\"}}, \"scene\": {\"xaxis\": {\"backgroundcolor\": \"#E5ECF6\", \"gridcolor\": \"white\", \"gridwidth\": 2, \"linecolor\": \"white\", \"showbackground\": true, \"ticks\": \"\", \"zerolinecolor\": \"white\"}, \"yaxis\": {\"backgroundcolor\": \"#E5ECF6\", \"gridcolor\": \"white\", \"gridwidth\": 2, \"linecolor\": \"white\", \"showbackground\": true, \"ticks\": \"\", \"zerolinecolor\": \"white\"}, \"zaxis\": {\"backgroundcolor\": \"#E5ECF6\", \"gridcolor\": \"white\", \"gridwidth\": 2, \"linecolor\": \"white\", \"showbackground\": true, \"ticks\": \"\", \"zerolinecolor\": \"white\"}}, \"shapedefaults\": {\"line\": {\"color\": \"#2a3f5f\"}}, \"ternary\": {\"aaxis\": {\"gridcolor\": \"white\", \"linecolor\": \"white\", \"ticks\": \"\"}, \"baxis\": {\"gridcolor\": \"white\", \"linecolor\": \"white\", \"ticks\": \"\"}, \"bgcolor\": \"#E5ECF6\", \"caxis\": {\"gridcolor\": \"white\", \"linecolor\": \"white\", \"ticks\": \"\"}}, \"title\": {\"x\": 0.05}, \"xaxis\": {\"automargin\": true, \"gridcolor\": \"white\", \"linecolor\": \"white\", \"ticks\": \"\", \"title\": {\"standoff\": 15}, \"zerolinecolor\": \"white\", \"zerolinewidth\": 2}, \"yaxis\": {\"automargin\": true, \"gridcolor\": \"white\", \"linecolor\": \"white\", \"ticks\": \"\", \"title\": {\"standoff\": 15}, \"zerolinecolor\": \"white\", \"zerolinewidth\": 2}}}, \"xaxis\": {\"anchor\": \"y\", \"domain\": [0.0, 1.0], \"title\": {\"text\": \"Approved_Conversion\"}}, \"yaxis\": {\"anchor\": \"x\", \"domain\": [0.0, 1.0], \"title\": {\"text\": \"xyz_campaign_id\"}}},\n",
              "                        {\"responsive\": true}\n",
              "                    ).then(function(){\n",
              "                            \n",
              "var gd = document.getElementById('b8f3e05d-211b-4567-828b-02fd6f3b1a3a');\n",
              "var x = new MutationObserver(function (mutations, observer) {{\n",
              "        var display = window.getComputedStyle(gd).display;\n",
              "        if (!display || display === 'none') {{\n",
              "            console.log([gd, 'removed!']);\n",
              "            Plotly.purge(gd);\n",
              "            observer.disconnect();\n",
              "        }}\n",
              "}});\n",
              "\n",
              "// Listen for the removal of the full notebook cells\n",
              "var notebookContainer = gd.closest('#notebook-container');\n",
              "if (notebookContainer) {{\n",
              "    x.observe(notebookContainer, {childList: true});\n",
              "}}\n",
              "\n",
              "// Listen for the clearing of the current output cell\n",
              "var outputEl = gd.closest('.output');\n",
              "if (outputEl) {{\n",
              "    x.observe(outputEl, {childList: true});\n",
              "}}\n",
              "\n",
              "                        })\n",
              "                };\n",
              "                \n",
              "            </script>\n",
              "        </div>\n",
              "</body>\n",
              "</html>"
            ]
          },
          "metadata": {}
        }
      ]
    },
    {
      "cell_type": "code",
      "source": [
        "# Approved Conversion for each campaign with respect to age.\n",
        "px.bar(dataset,x=dataset[\"xyz_campaign_id\"], y=dataset[\"Approved_Conversion\"], color=dataset[\"age\"],color_discrete_sequence=px.colors.sequential.Blues_r, barmode='group')"
      ],
      "metadata": {
        "colab": {
          "base_uri": "https://localhost:8080/",
          "height": 542
        },
        "id": "gyvTxVwPBYz-",
        "outputId": "d7115d96-c69c-4dad-b644-24e0967d2b55"
      },
      "execution_count": null,
      "outputs": [
        {
          "output_type": "display_data",
          "data": {
            "text/html": [
              "<html>\n",
              "<head><meta charset=\"utf-8\" /></head>\n",
              "<body>\n",
              "    <div>\n",
              "            <script src=\"https://cdnjs.cloudflare.com/ajax/libs/mathjax/2.7.5/MathJax.js?config=TeX-AMS-MML_SVG\"></script><script type=\"text/javascript\">if (window.MathJax) {MathJax.Hub.Config({SVG: {font: \"STIX-Web\"}});}</script>\n",
              "                <script type=\"text/javascript\">window.PlotlyConfig = {MathJaxConfig: 'local'};</script>\n",
              "        <script src=\"https://cdn.plot.ly/plotly-latest.min.js\"></script>    \n",
              "            <div id=\"a3d20383-e3ab-4911-87ab-5dbce399e743\" class=\"plotly-graph-div\" style=\"height:525px; width:100%;\"></div>\n",
              "            <script type=\"text/javascript\">\n",
              "                \n",
              "                    window.PLOTLYENV=window.PLOTLYENV || {};\n",
              "                    \n",
              "                if (document.getElementById(\"a3d20383-e3ab-4911-87ab-5dbce399e743\")) {\n",
              "                    Plotly.newPlot(\n",
              "                        'a3d20383-e3ab-4911-87ab-5dbce399e743',\n",
              "                        [{\"alignmentgroup\": \"True\", \"hoverlabel\": {\"namelength\": 0}, \"hovertemplate\": \"age=30-34<br>xyz_campaign_id=%{x}<br>Approved_Conversion=%{y}\", \"legendgroup\": \"age=30-34\", \"marker\": {\"color\": \"rgb(8,48,107)\"}, \"name\": \"age=30-34\", \"offsetgroup\": \"age=30-34\", \"orientation\": \"v\", \"showlegend\": true, \"textposition\": \"auto\", \"type\": \"bar\", \"x\": [\"Campaign_916\", \"Campaign_916\", \"Campaign_916\", \"Campaign_916\", \"Campaign_916\", \"Campaign_916\", \"Campaign_916\", \"Campaign_916\", \"Campaign_916\", \"Campaign_916\", \"Campaign_916\", \"Campaign_916\", \"Campaign_916\", \"Campaign_916\", \"Campaign_916\", \"Campaign_916\", \"Campaign_916\", \"Campaign_916\", \"Campaign_916\", \"Campaign_916\", \"Campaign_916\", \"Campaign_916\", \"Campaign_916\", \"Campaign_916\", \"Campaign_916\", \"Campaign_916\", \"Campaign_916\", \"Campaign_916\", \"Campaign_916\", \"Campaign_936\", \"Campaign_936\", \"Campaign_936\", \"Campaign_936\", \"Campaign_936\", \"Campaign_936\", \"Campaign_936\", \"Campaign_936\", \"Campaign_936\", \"Campaign_936\", \"Campaign_936\", \"Campaign_936\", \"Campaign_936\", \"Campaign_936\", \"Campaign_936\", \"Campaign_936\", \"Campaign_936\", \"Campaign_936\", \"Campaign_936\", \"Campaign_936\", \"Campaign_936\", \"Campaign_936\", \"Campaign_936\", \"Campaign_936\", \"Campaign_936\", \"Campaign_936\", \"Campaign_936\", \"Campaign_936\", \"Campaign_936\", \"Campaign_936\", \"Campaign_936\", \"Campaign_936\", \"Campaign_936\", \"Campaign_936\", \"Campaign_936\", \"Campaign_936\", \"Campaign_936\", \"Campaign_936\", \"Campaign_936\", \"Campaign_936\", \"Campaign_936\", \"Campaign_936\", \"Campaign_936\", \"Campaign_936\", \"Campaign_936\", \"Campaign_936\", \"Campaign_936\", \"Campaign_936\", \"Campaign_936\", \"Campaign_936\", \"Campaign_936\", \"Campaign_936\", \"Campaign_936\", \"Campaign_936\", \"Campaign_936\", \"Campaign_936\", \"Campaign_936\", \"Campaign_936\", \"Campaign_936\", \"Campaign_936\", \"Campaign_936\", \"Campaign_936\", \"Campaign_936\", \"Campaign_936\", \"Campaign_936\", \"Campaign_936\", \"Campaign_936\", \"Campaign_936\", \"Campaign_936\", \"Campaign_936\", \"Campaign_936\", \"Campaign_936\", \"Campaign_936\", \"Campaign_936\", \"Campaign_936\", \"Campaign_936\", \"Campaign_936\", \"Campaign_936\", \"Campaign_936\", \"Campaign_936\", \"Campaign_936\", \"Campaign_936\", \"Campaign_936\", \"Campaign_936\", \"Campaign_936\", \"Campaign_936\", \"Campaign_936\", \"Campaign_936\", \"Campaign_936\", \"Campaign_936\", \"Campaign_936\", \"Campaign_936\", \"Campaign_936\", \"Campaign_936\", \"Campaign_936\", \"Campaign_936\", \"Campaign_936\", \"Campaign_936\", \"Campaign_936\", \"Campaign_936\", \"Campaign_936\", \"Campaign_936\", \"Campaign_936\", \"Campaign_936\", \"Campaign_936\", \"Campaign_936\", \"Campaign_936\", \"Campaign_936\", \"Campaign_936\", \"Campaign_936\", \"Campaign_936\", \"Campaign_936\", \"Campaign_936\", \"Campaign_936\", \"Campaign_936\", \"Campaign_936\", \"Campaign_936\", \"Campaign_936\", \"Campaign_936\", \"Campaign_936\", \"Campaign_936\", \"Campaign_936\", \"Campaign_936\", \"Campaign_936\", \"Campaign_936\", \"Campaign_936\", \"Campaign_936\", \"Campaign_936\", \"Campaign_936\", \"Campaign_936\", \"Campaign_936\", \"Campaign_936\", \"Campaign_936\", \"Campaign_936\", \"Campaign_936\", \"Campaign_936\", \"Campaign_936\", \"Campaign_936\", \"Campaign_936\", \"Campaign_936\", \"Campaign_936\", \"Campaign_936\", \"Campaign_936\", \"Campaign_936\", \"Campaign_936\", \"Campaign_936\", \"Campaign_936\", \"Campaign_936\", \"Campaign_936\", \"Campaign_936\", \"Campaign_936\", \"Campaign_936\", \"Campaign_936\", \"Campaign_936\", \"Campaign_936\", \"Campaign_936\", \"Campaign_936\", \"Campaign_936\", \"Campaign_936\", \"Campaign_936\", \"Campaign_936\", \"Campaign_936\", \"Campaign_936\", \"Campaign_936\", \"Campaign_936\", \"Campaign_936\", \"Campaign_936\", \"Campaign_936\", \"Campaign_936\", \"Campaign_936\", \"Campaign_936\", \"Campaign_936\", \"Campaign_936\", \"Campaign_936\", \"Campaign_936\", \"Campaign_936\", \"Campaign_936\", \"Campaign_936\", \"Campaign_936\", \"Campaign_936\", \"Campaign_936\", \"Campaign_936\", \"Campaign_936\", \"Campaign_936\", \"Campaign_936\", \"Campaign_936\", \"Campaign_936\", \"Campaign_936\", \"Campaign_936\", \"Campaign_936\", \"Campaign_936\", \"Campaign_936\", \"Campaign_936\", \"Campaign_936\", \"Campaign_936\", \"Campaign_936\", \"Campaign_1178\", \"Campaign_1178\", \"Campaign_1178\", \"Campaign_1178\", \"Campaign_1178\", \"Campaign_1178\", \"Campaign_1178\", \"Campaign_1178\", \"Campaign_1178\", \"Campaign_1178\", \"Campaign_1178\", \"Campaign_1178\", \"Campaign_1178\", \"Campaign_1178\", \"Campaign_1178\", \"Campaign_1178\", \"Campaign_1178\", \"Campaign_1178\", \"Campaign_1178\", \"Campaign_1178\", \"Campaign_1178\", \"Campaign_1178\", \"Campaign_1178\", \"Campaign_1178\", \"Campaign_1178\", \"Campaign_1178\", \"Campaign_1178\", \"Campaign_1178\", \"Campaign_1178\", \"Campaign_1178\", \"Campaign_1178\", \"Campaign_1178\", \"Campaign_1178\", \"Campaign_1178\", \"Campaign_1178\", \"Campaign_1178\", \"Campaign_1178\", \"Campaign_1178\", \"Campaign_1178\", \"Campaign_1178\", \"Campaign_1178\", \"Campaign_1178\", \"Campaign_1178\", \"Campaign_1178\", \"Campaign_1178\", \"Campaign_1178\", \"Campaign_1178\", \"Campaign_1178\", \"Campaign_1178\", \"Campaign_1178\", \"Campaign_1178\", \"Campaign_1178\", \"Campaign_1178\", \"Campaign_1178\", \"Campaign_1178\", \"Campaign_1178\", \"Campaign_1178\", \"Campaign_1178\", \"Campaign_1178\", \"Campaign_1178\", \"Campaign_1178\", \"Campaign_1178\", \"Campaign_1178\", \"Campaign_1178\", \"Campaign_1178\", \"Campaign_1178\", \"Campaign_1178\", \"Campaign_1178\", \"Campaign_1178\", \"Campaign_1178\", \"Campaign_1178\", \"Campaign_1178\", \"Campaign_1178\", \"Campaign_1178\", \"Campaign_1178\", \"Campaign_1178\", \"Campaign_1178\", \"Campaign_1178\", \"Campaign_1178\", \"Campaign_1178\", \"Campaign_1178\", \"Campaign_1178\", \"Campaign_1178\", \"Campaign_1178\", \"Campaign_1178\", \"Campaign_1178\", \"Campaign_1178\", \"Campaign_1178\", \"Campaign_1178\", \"Campaign_1178\", \"Campaign_1178\", \"Campaign_1178\", \"Campaign_1178\", \"Campaign_1178\", \"Campaign_1178\", \"Campaign_1178\", \"Campaign_1178\", \"Campaign_1178\", \"Campaign_1178\", \"Campaign_1178\", \"Campaign_1178\", \"Campaign_1178\", \"Campaign_1178\", \"Campaign_1178\", \"Campaign_1178\", \"Campaign_1178\", \"Campaign_1178\", \"Campaign_1178\", \"Campaign_1178\", \"Campaign_1178\", \"Campaign_1178\", \"Campaign_1178\", \"Campaign_1178\", \"Campaign_1178\", \"Campaign_1178\", \"Campaign_1178\", \"Campaign_1178\", \"Campaign_1178\", \"Campaign_1178\", \"Campaign_1178\", \"Campaign_1178\", \"Campaign_1178\", \"Campaign_1178\", \"Campaign_1178\", \"Campaign_1178\", \"Campaign_1178\", \"Campaign_1178\", \"Campaign_1178\", \"Campaign_1178\", \"Campaign_1178\", \"Campaign_1178\", \"Campaign_1178\", \"Campaign_1178\", \"Campaign_1178\", \"Campaign_1178\", \"Campaign_1178\", \"Campaign_1178\", \"Campaign_1178\", \"Campaign_1178\", \"Campaign_1178\", \"Campaign_1178\", \"Campaign_1178\", \"Campaign_1178\", \"Campaign_1178\", \"Campaign_1178\", \"Campaign_1178\", \"Campaign_1178\", \"Campaign_1178\", \"Campaign_1178\", \"Campaign_1178\", \"Campaign_1178\", \"Campaign_1178\", \"Campaign_1178\", \"Campaign_1178\", \"Campaign_1178\", \"Campaign_1178\", \"Campaign_1178\", \"Campaign_1178\", \"Campaign_1178\", \"Campaign_1178\", \"Campaign_1178\", \"Campaign_1178\", \"Campaign_1178\", \"Campaign_1178\", \"Campaign_1178\", \"Campaign_1178\", \"Campaign_1178\", \"Campaign_1178\", \"Campaign_1178\", \"Campaign_1178\", \"Campaign_1178\", \"Campaign_1178\", \"Campaign_1178\", \"Campaign_1178\", \"Campaign_1178\", \"Campaign_1178\", \"Campaign_1178\", \"Campaign_1178\", \"Campaign_1178\", \"Campaign_1178\", \"Campaign_1178\", \"Campaign_1178\", \"Campaign_1178\", \"Campaign_1178\", \"Campaign_1178\", \"Campaign_1178\", \"Campaign_1178\", \"Campaign_1178\", \"Campaign_1178\", \"Campaign_1178\", \"Campaign_1178\", \"Campaign_1178\", \"Campaign_1178\", \"Campaign_1178\", \"Campaign_1178\", \"Campaign_1178\", \"Campaign_1178\", \"Campaign_1178\", \"Campaign_1178\", \"Campaign_1178\", \"Campaign_1178\"], \"xaxis\": \"x\", \"y\": [1, 0, 0, 0, 1, 1, 0, 1, 0, 0, 0, 0, 0, 0, 1, 1, 0, 1, 1, 1, 1, 0, 0, 0, 0, 0, 1, 0, 0, 1, 1, 0, 1, 0, 0, 0, 1, 0, 1, 0, 1, 0, 0, 0, 3, 1, 0, 1, 0, 1, 0, 0, 0, 0, 0, 0, 0, 0, 0, 0, 0, 1, 0, 0, 0, 0, 2, 0, 0, 1, 1, 1, 1, 1, 0, 1, 0, 0, 0, 1, 0, 1, 1, 0, 1, 0, 0, 0, 0, 0, 0, 0, 0, 1, 0, 0, 1, 1, 1, 0, 0, 1, 1, 1, 1, 1, 1, 1, 0, 1, 1, 1, 0, 0, 0, 0, 0, 0, 0, 1, 0, 0, 0, 1, 1, 0, 1, 1, 0, 1, 1, 0, 0, 0, 1, 0, 0, 0, 0, 2, 1, 0, 1, 0, 0, 1, 1, 0, 1, 0, 1, 1, 1, 0, 0, 0, 0, 0, 0, 0, 0, 0, 0, 0, 1, 1, 0, 0, 0, 1, 1, 0, 0, 1, 1, 0, 0, 0, 0, 0, 0, 0, 0, 1, 2, 0, 1, 1, 1, 0, 0, 1, 0, 0, 0, 1, 0, 0, 1, 1, 1, 0, 2, 2, 0, 2, 1, 0, 1, 0, 0, 1, 0, 2, 0, 1, 1, 0, 0, 0, 0, 0, 0, 0, 1, 14, 5, 1, 2, 2, 0, 10, 17, 1, 3, 21, 2, 0, 14, 2, 1, 4, 0, 0, 4, 1, 3, 1, 0, 1, 1, 9, 0, 1, 1, 1, 2, 2, 0, 0, 0, 2, 0, 0, 2, 1, 1, 2, 7, 0, 0, 0, 0, 0, 1, 4, 0, 0, 2, 1, 0, 7, 2, 5, 8, 1, 12, 3, 0, 1, 0, 1, 2, 0, 0, 0, 1, 0, 2, 0, 1, 1, 0, 1, 2, 1, 1, 1, 0, 0, 2, 2, 0, 0, 1, 1, 2, 1, 4, 1, 8, 3, 1, 0, 0, 0, 1, 4, 2, 1, 5, 1, 2, 1, 1, 3, 1, 2, 1, 2, 1, 0, 0, 0, 4, 1, 1, 3, 3, 1, 3, 2, 1, 0, 0, 0, 1, 1, 0, 0, 1, 2, 6, 13, 0, 0, 3, 0, 3, 0, 10, 1, 0, 6, 1, 0, 1, 1, 1, 4, 0, 1, 6, 0, 0, 0, 0, 4, 1, 3, 1, 0, 1, 0, 1, 1, 1, 0, 1, 0, 0, 0, 0, 1, 0, 4, 1, 1, 0, 3, 3, 0, 1, 1, 4, 2, 2, 2, 0, 1, 4, 0, 1, 1, 9, 3], \"yaxis\": \"y\"}, {\"alignmentgroup\": \"True\", \"hoverlabel\": {\"namelength\": 0}, \"hovertemplate\": \"age=35-39<br>xyz_campaign_id=%{x}<br>Approved_Conversion=%{y}\", \"legendgroup\": \"age=35-39\", \"marker\": {\"color\": \"rgb(8,81,156)\"}, \"name\": \"age=35-39\", \"offsetgroup\": \"age=35-39\", \"orientation\": \"v\", \"showlegend\": true, \"textposition\": \"auto\", \"type\": \"bar\", \"x\": [\"Campaign_916\", \"Campaign_916\", \"Campaign_916\", \"Campaign_916\", \"Campaign_916\", \"Campaign_916\", \"Campaign_916\", \"Campaign_916\", \"Campaign_916\", \"Campaign_916\", \"Campaign_916\", \"Campaign_916\", \"Campaign_936\", \"Campaign_936\", \"Campaign_936\", \"Campaign_936\", \"Campaign_936\", \"Campaign_936\", \"Campaign_936\", \"Campaign_936\", \"Campaign_936\", \"Campaign_936\", \"Campaign_936\", \"Campaign_936\", \"Campaign_936\", \"Campaign_936\", \"Campaign_936\", \"Campaign_936\", \"Campaign_936\", \"Campaign_936\", \"Campaign_936\", \"Campaign_936\", \"Campaign_936\", \"Campaign_936\", \"Campaign_936\", \"Campaign_936\", \"Campaign_936\", \"Campaign_936\", \"Campaign_936\", \"Campaign_936\", \"Campaign_936\", \"Campaign_936\", \"Campaign_936\", \"Campaign_936\", \"Campaign_936\", \"Campaign_936\", \"Campaign_936\", \"Campaign_936\", \"Campaign_936\", \"Campaign_936\", \"Campaign_936\", \"Campaign_936\", \"Campaign_936\", \"Campaign_936\", \"Campaign_936\", \"Campaign_936\", \"Campaign_936\", \"Campaign_936\", \"Campaign_936\", \"Campaign_936\", \"Campaign_936\", \"Campaign_936\", \"Campaign_936\", \"Campaign_936\", \"Campaign_936\", \"Campaign_936\", \"Campaign_936\", \"Campaign_936\", \"Campaign_936\", \"Campaign_936\", \"Campaign_936\", \"Campaign_936\", \"Campaign_936\", \"Campaign_936\", \"Campaign_936\", \"Campaign_936\", \"Campaign_936\", \"Campaign_936\", \"Campaign_936\", \"Campaign_936\", \"Campaign_936\", \"Campaign_936\", \"Campaign_936\", \"Campaign_936\", \"Campaign_936\", \"Campaign_936\", \"Campaign_936\", \"Campaign_936\", \"Campaign_936\", \"Campaign_936\", \"Campaign_936\", \"Campaign_936\", \"Campaign_936\", \"Campaign_936\", \"Campaign_936\", \"Campaign_936\", \"Campaign_936\", \"Campaign_936\", \"Campaign_936\", \"Campaign_936\", \"Campaign_936\", \"Campaign_1178\", \"Campaign_1178\", \"Campaign_1178\", \"Campaign_1178\", \"Campaign_1178\", \"Campaign_1178\", \"Campaign_1178\", \"Campaign_1178\", \"Campaign_1178\", \"Campaign_1178\", \"Campaign_1178\", \"Campaign_1178\", \"Campaign_1178\", \"Campaign_1178\", \"Campaign_1178\", \"Campaign_1178\", \"Campaign_1178\", \"Campaign_1178\", \"Campaign_1178\", \"Campaign_1178\", \"Campaign_1178\", \"Campaign_1178\", \"Campaign_1178\", \"Campaign_1178\", \"Campaign_1178\", \"Campaign_1178\", \"Campaign_1178\", \"Campaign_1178\", \"Campaign_1178\", \"Campaign_1178\", \"Campaign_1178\", \"Campaign_1178\", \"Campaign_1178\", \"Campaign_1178\", \"Campaign_1178\", \"Campaign_1178\", \"Campaign_1178\", \"Campaign_1178\", \"Campaign_1178\", \"Campaign_1178\", \"Campaign_1178\", \"Campaign_1178\", \"Campaign_1178\", \"Campaign_1178\", \"Campaign_1178\", \"Campaign_1178\", \"Campaign_1178\", \"Campaign_1178\", \"Campaign_1178\", \"Campaign_1178\", \"Campaign_1178\", \"Campaign_1178\", \"Campaign_1178\", \"Campaign_1178\", \"Campaign_1178\", \"Campaign_1178\", \"Campaign_1178\", \"Campaign_1178\", \"Campaign_1178\", \"Campaign_1178\", \"Campaign_1178\", \"Campaign_1178\", \"Campaign_1178\", \"Campaign_1178\", \"Campaign_1178\", \"Campaign_1178\", \"Campaign_1178\", \"Campaign_1178\", \"Campaign_1178\", \"Campaign_1178\", \"Campaign_1178\", \"Campaign_1178\", \"Campaign_1178\", \"Campaign_1178\", \"Campaign_1178\", \"Campaign_1178\", \"Campaign_1178\", \"Campaign_1178\", \"Campaign_1178\", \"Campaign_1178\", \"Campaign_1178\", \"Campaign_1178\", \"Campaign_1178\", \"Campaign_1178\", \"Campaign_1178\", \"Campaign_1178\", \"Campaign_1178\", \"Campaign_1178\", \"Campaign_1178\", \"Campaign_1178\", \"Campaign_1178\", \"Campaign_1178\", \"Campaign_1178\", \"Campaign_1178\", \"Campaign_1178\", \"Campaign_1178\", \"Campaign_1178\", \"Campaign_1178\", \"Campaign_1178\", \"Campaign_1178\", \"Campaign_1178\", \"Campaign_1178\", \"Campaign_1178\", \"Campaign_1178\", \"Campaign_1178\", \"Campaign_1178\", \"Campaign_1178\", \"Campaign_1178\", \"Campaign_1178\", \"Campaign_1178\", \"Campaign_1178\", \"Campaign_1178\", \"Campaign_1178\", \"Campaign_1178\", \"Campaign_1178\", \"Campaign_1178\", \"Campaign_1178\", \"Campaign_1178\", \"Campaign_1178\", \"Campaign_1178\", \"Campaign_1178\", \"Campaign_1178\", \"Campaign_1178\", \"Campaign_1178\", \"Campaign_1178\", \"Campaign_1178\", \"Campaign_1178\", \"Campaign_1178\", \"Campaign_1178\", \"Campaign_1178\", \"Campaign_1178\", \"Campaign_1178\", \"Campaign_1178\", \"Campaign_1178\", \"Campaign_1178\", \"Campaign_1178\", \"Campaign_1178\", \"Campaign_1178\", \"Campaign_1178\", \"Campaign_1178\", \"Campaign_1178\", \"Campaign_1178\", \"Campaign_1178\", \"Campaign_1178\", \"Campaign_1178\", \"Campaign_1178\", \"Campaign_1178\"], \"xaxis\": \"x\", \"y\": [0, 1, 1, 0, 0, 1, 1, 0, 1, 0, 1, 0, 1, 1, 1, 0, 0, 0, 0, 0, 1, 2, 1, 0, 1, 1, 0, 1, 0, 0, 0, 0, 1, 1, 1, 0, 1, 0, 1, 0, 0, 0, 1, 0, 0, 0, 1, 0, 0, 1, 1, 0, 1, 0, 0, 0, 0, 1, 0, 0, 0, 0, 0, 1, 0, 0, 0, 1, 0, 0, 0, 0, 1, 1, 0, 0, 0, 0, 1, 2, 0, 0, 1, 0, 0, 0, 0, 0, 0, 1, 1, 1, 1, 0, 0, 0, 0, 0, 0, 0, 1, 0, 3, 0, 3, 1, 1, 1, 2, 6, 0, 1, 1, 2, 1, 1, 1, 0, 1, 2, 2, 1, 0, 0, 1, 0, 3, 0, 0, 0, 0, 0, 1, 0, 1, 1, 0, 0, 0, 0, 1, 1, 0, 8, 0, 1, 0, 0, 4, 2, 0, 3, 2, 0, 1, 1, 0, 3, 3, 2, 1, 1, 2, 1, 0, 1, 1, 1, 0, 4, 3, 1, 0, 0, 1, 1, 1, 0, 1, 0, 0, 1, 2, 0, 1, 1, 3, 2, 4, 1, 1, 3, 1, 1, 0, 2, 0, 0, 0, 0, 0, 0, 1, 1, 0, 0, 1, 1, 1, 5, 0, 4, 6, 1, 0, 0, 4, 1, 2, 0, 1, 1, 2, 0, 0, 1, 0, 2, 1, 0, 1, 0, 0, 0, 1, 0, 0, 3, 1, 0, 5, 2, 1, 1, 0, 1, 2, 1], \"yaxis\": \"y\"}, {\"alignmentgroup\": \"True\", \"hoverlabel\": {\"namelength\": 0}, \"hovertemplate\": \"age=40-44<br>xyz_campaign_id=%{x}<br>Approved_Conversion=%{y}\", \"legendgroup\": \"age=40-44\", \"marker\": {\"color\": \"rgb(33,113,181)\"}, \"name\": \"age=40-44\", \"offsetgroup\": \"age=40-44\", \"orientation\": \"v\", \"showlegend\": true, \"textposition\": \"auto\", \"type\": \"bar\", \"x\": [\"Campaign_916\", \"Campaign_916\", \"Campaign_916\", \"Campaign_916\", \"Campaign_916\", \"Campaign_916\", \"Campaign_936\", \"Campaign_936\", \"Campaign_936\", \"Campaign_936\", \"Campaign_936\", \"Campaign_936\", \"Campaign_936\", \"Campaign_936\", \"Campaign_936\", \"Campaign_936\", \"Campaign_936\", \"Campaign_936\", \"Campaign_936\", \"Campaign_936\", \"Campaign_936\", \"Campaign_936\", \"Campaign_936\", \"Campaign_936\", \"Campaign_936\", \"Campaign_936\", \"Campaign_936\", \"Campaign_936\", \"Campaign_936\", \"Campaign_936\", \"Campaign_936\", \"Campaign_936\", \"Campaign_936\", \"Campaign_936\", \"Campaign_936\", \"Campaign_936\", \"Campaign_936\", \"Campaign_936\", \"Campaign_936\", \"Campaign_936\", \"Campaign_936\", \"Campaign_936\", \"Campaign_936\", \"Campaign_936\", \"Campaign_936\", \"Campaign_936\", \"Campaign_936\", \"Campaign_936\", \"Campaign_936\", \"Campaign_936\", \"Campaign_936\", \"Campaign_936\", \"Campaign_936\", \"Campaign_936\", \"Campaign_936\", \"Campaign_936\", \"Campaign_936\", \"Campaign_936\", \"Campaign_936\", \"Campaign_936\", \"Campaign_936\", \"Campaign_936\", \"Campaign_936\", \"Campaign_936\", \"Campaign_936\", \"Campaign_936\", \"Campaign_936\", \"Campaign_936\", \"Campaign_936\", \"Campaign_936\", \"Campaign_936\", \"Campaign_936\", \"Campaign_936\", \"Campaign_936\", \"Campaign_936\", \"Campaign_936\", \"Campaign_936\", \"Campaign_936\", \"Campaign_936\", \"Campaign_936\", \"Campaign_936\", \"Campaign_1178\", \"Campaign_1178\", \"Campaign_1178\", \"Campaign_1178\", \"Campaign_1178\", \"Campaign_1178\", \"Campaign_1178\", \"Campaign_1178\", \"Campaign_1178\", \"Campaign_1178\", \"Campaign_1178\", \"Campaign_1178\", \"Campaign_1178\", \"Campaign_1178\", \"Campaign_1178\", \"Campaign_1178\", \"Campaign_1178\", \"Campaign_1178\", \"Campaign_1178\", \"Campaign_1178\", \"Campaign_1178\", \"Campaign_1178\", \"Campaign_1178\", \"Campaign_1178\", \"Campaign_1178\", \"Campaign_1178\", \"Campaign_1178\", \"Campaign_1178\", \"Campaign_1178\", \"Campaign_1178\", \"Campaign_1178\", \"Campaign_1178\", \"Campaign_1178\", \"Campaign_1178\", \"Campaign_1178\", \"Campaign_1178\", \"Campaign_1178\", \"Campaign_1178\", \"Campaign_1178\", \"Campaign_1178\", \"Campaign_1178\", \"Campaign_1178\", \"Campaign_1178\", \"Campaign_1178\", \"Campaign_1178\", \"Campaign_1178\", \"Campaign_1178\", \"Campaign_1178\", \"Campaign_1178\", \"Campaign_1178\", \"Campaign_1178\", \"Campaign_1178\", \"Campaign_1178\", \"Campaign_1178\", \"Campaign_1178\", \"Campaign_1178\", \"Campaign_1178\", \"Campaign_1178\", \"Campaign_1178\", \"Campaign_1178\", \"Campaign_1178\", \"Campaign_1178\", \"Campaign_1178\", \"Campaign_1178\", \"Campaign_1178\", \"Campaign_1178\", \"Campaign_1178\", \"Campaign_1178\", \"Campaign_1178\", \"Campaign_1178\", \"Campaign_1178\", \"Campaign_1178\", \"Campaign_1178\", \"Campaign_1178\", \"Campaign_1178\", \"Campaign_1178\", \"Campaign_1178\", \"Campaign_1178\", \"Campaign_1178\", \"Campaign_1178\", \"Campaign_1178\", \"Campaign_1178\", \"Campaign_1178\", \"Campaign_1178\", \"Campaign_1178\", \"Campaign_1178\", \"Campaign_1178\", \"Campaign_1178\", \"Campaign_1178\", \"Campaign_1178\", \"Campaign_1178\", \"Campaign_1178\", \"Campaign_1178\", \"Campaign_1178\", \"Campaign_1178\", \"Campaign_1178\", \"Campaign_1178\", \"Campaign_1178\", \"Campaign_1178\", \"Campaign_1178\", \"Campaign_1178\", \"Campaign_1178\", \"Campaign_1178\", \"Campaign_1178\", \"Campaign_1178\", \"Campaign_1178\", \"Campaign_1178\", \"Campaign_1178\", \"Campaign_1178\", \"Campaign_1178\", \"Campaign_1178\", \"Campaign_1178\", \"Campaign_1178\", \"Campaign_1178\", \"Campaign_1178\", \"Campaign_1178\", \"Campaign_1178\", \"Campaign_1178\", \"Campaign_1178\", \"Campaign_1178\", \"Campaign_1178\", \"Campaign_1178\", \"Campaign_1178\", \"Campaign_1178\", \"Campaign_1178\", \"Campaign_1178\", \"Campaign_1178\", \"Campaign_1178\", \"Campaign_1178\"], \"xaxis\": \"x\", \"y\": [0, 1, 0, 1, 1, 1, 0, 0, 0, 1, 0, 0, 0, 0, 0, 0, 1, 1, 0, 1, 1, 1, 0, 1, 0, 1, 1, 0, 0, 0, 1, 0, 0, 1, 0, 0, 1, 0, 0, 0, 0, 1, 1, 0, 0, 1, 0, 0, 1, 0, 0, 0, 0, 0, 1, 0, 1, 0, 0, 1, 0, 0, 0, 0, 0, 0, 1, 0, 0, 0, 0, 0, 1, 0, 1, 0, 1, 0, 1, 1, 0, 1, 1, 1, 2, 1, 1, 2, 6, 2, 1, 2, 0, 1, 1, 1, 3, 0, 0, 3, 2, 0, 0, 0, 0, 1, 0, 0, 0, 0, 1, 0, 0, 0, 2, 1, 0, 2, 1, 0, 1, 1, 1, 1, 2, 1, 0, 0, 1, 1, 1, 0, 1, 1, 0, 1, 0, 1, 0, 0, 0, 3, 4, 0, 2, 1, 1, 1, 2, 1, 1, 0, 0, 0, 0, 2, 2, 0, 0, 6, 2, 1, 0, 2, 1, 1, 1, 2, 0, 1, 0, 0, 0, 0, 0, 0, 1, 1, 0, 1, 1, 1, 1, 0, 0, 1, 0, 1, 0, 0, 1, 1, 2, 1, 0, 1, 7, 9, 0, 0, 0, 0, 4, 2, 1, 2, 1, 0, 10, 1], \"yaxis\": \"y\"}, {\"alignmentgroup\": \"True\", \"hoverlabel\": {\"namelength\": 0}, \"hovertemplate\": \"age=45-49<br>xyz_campaign_id=%{x}<br>Approved_Conversion=%{y}\", \"legendgroup\": \"age=45-49\", \"marker\": {\"color\": \"rgb(66,146,198)\"}, \"name\": \"age=45-49\", \"offsetgroup\": \"age=45-49\", \"orientation\": \"v\", \"showlegend\": true, \"textposition\": \"auto\", \"type\": \"bar\", \"x\": [\"Campaign_916\", \"Campaign_916\", \"Campaign_916\", \"Campaign_916\", \"Campaign_916\", \"Campaign_916\", \"Campaign_916\", \"Campaign_936\", \"Campaign_936\", \"Campaign_936\", \"Campaign_936\", \"Campaign_936\", \"Campaign_936\", \"Campaign_936\", \"Campaign_936\", \"Campaign_936\", \"Campaign_936\", \"Campaign_936\", \"Campaign_936\", \"Campaign_936\", \"Campaign_936\", \"Campaign_936\", \"Campaign_936\", \"Campaign_936\", \"Campaign_936\", \"Campaign_936\", \"Campaign_936\", \"Campaign_936\", \"Campaign_936\", \"Campaign_936\", \"Campaign_936\", \"Campaign_936\", \"Campaign_936\", \"Campaign_936\", \"Campaign_936\", \"Campaign_936\", \"Campaign_936\", \"Campaign_936\", \"Campaign_936\", \"Campaign_936\", \"Campaign_936\", \"Campaign_936\", \"Campaign_936\", \"Campaign_936\", \"Campaign_936\", \"Campaign_936\", \"Campaign_936\", \"Campaign_936\", \"Campaign_936\", \"Campaign_936\", \"Campaign_936\", \"Campaign_936\", \"Campaign_936\", \"Campaign_936\", \"Campaign_936\", \"Campaign_936\", \"Campaign_936\", \"Campaign_936\", \"Campaign_936\", \"Campaign_936\", \"Campaign_936\", \"Campaign_936\", \"Campaign_936\", \"Campaign_936\", \"Campaign_936\", \"Campaign_936\", \"Campaign_936\", \"Campaign_936\", \"Campaign_936\", \"Campaign_936\", \"Campaign_936\", \"Campaign_936\", \"Campaign_936\", \"Campaign_936\", \"Campaign_936\", \"Campaign_936\", \"Campaign_936\", \"Campaign_936\", \"Campaign_936\", \"Campaign_936\", \"Campaign_936\", \"Campaign_936\", \"Campaign_936\", \"Campaign_936\", \"Campaign_936\", \"Campaign_936\", \"Campaign_936\", \"Campaign_936\", \"Campaign_936\", \"Campaign_936\", \"Campaign_936\", \"Campaign_936\", \"Campaign_936\", \"Campaign_936\", \"Campaign_936\", \"Campaign_936\", \"Campaign_936\", \"Campaign_936\", \"Campaign_936\", \"Campaign_936\", \"Campaign_936\", \"Campaign_936\", \"Campaign_936\", \"Campaign_936\", \"Campaign_936\", \"Campaign_936\", \"Campaign_936\", \"Campaign_936\", \"Campaign_936\", \"Campaign_936\", \"Campaign_936\", \"Campaign_1178\", \"Campaign_1178\", \"Campaign_1178\", \"Campaign_1178\", \"Campaign_1178\", \"Campaign_1178\", \"Campaign_1178\", \"Campaign_1178\", \"Campaign_1178\", \"Campaign_1178\", \"Campaign_1178\", \"Campaign_1178\", \"Campaign_1178\", \"Campaign_1178\", \"Campaign_1178\", \"Campaign_1178\", \"Campaign_1178\", \"Campaign_1178\", \"Campaign_1178\", \"Campaign_1178\", \"Campaign_1178\", \"Campaign_1178\", \"Campaign_1178\", \"Campaign_1178\", \"Campaign_1178\", \"Campaign_1178\", \"Campaign_1178\", \"Campaign_1178\", \"Campaign_1178\", \"Campaign_1178\", \"Campaign_1178\", \"Campaign_1178\", \"Campaign_1178\", \"Campaign_1178\", \"Campaign_1178\", \"Campaign_1178\", \"Campaign_1178\", \"Campaign_1178\", \"Campaign_1178\", \"Campaign_1178\", \"Campaign_1178\", \"Campaign_1178\", \"Campaign_1178\", \"Campaign_1178\", \"Campaign_1178\", \"Campaign_1178\", \"Campaign_1178\", \"Campaign_1178\", \"Campaign_1178\", \"Campaign_1178\", \"Campaign_1178\", \"Campaign_1178\", \"Campaign_1178\", \"Campaign_1178\", \"Campaign_1178\", \"Campaign_1178\", \"Campaign_1178\", \"Campaign_1178\", \"Campaign_1178\", \"Campaign_1178\", \"Campaign_1178\", \"Campaign_1178\", \"Campaign_1178\", \"Campaign_1178\", \"Campaign_1178\", \"Campaign_1178\", \"Campaign_1178\", \"Campaign_1178\", \"Campaign_1178\", \"Campaign_1178\", \"Campaign_1178\", \"Campaign_1178\", \"Campaign_1178\", \"Campaign_1178\", \"Campaign_1178\", \"Campaign_1178\", \"Campaign_1178\", \"Campaign_1178\", \"Campaign_1178\", \"Campaign_1178\", \"Campaign_1178\", \"Campaign_1178\", \"Campaign_1178\", \"Campaign_1178\", \"Campaign_1178\", \"Campaign_1178\", \"Campaign_1178\", \"Campaign_1178\", \"Campaign_1178\", \"Campaign_1178\", \"Campaign_1178\", \"Campaign_1178\", \"Campaign_1178\", \"Campaign_1178\", \"Campaign_1178\", \"Campaign_1178\", \"Campaign_1178\", \"Campaign_1178\", \"Campaign_1178\", \"Campaign_1178\", \"Campaign_1178\", \"Campaign_1178\", \"Campaign_1178\", \"Campaign_1178\", \"Campaign_1178\", \"Campaign_1178\", \"Campaign_1178\", \"Campaign_1178\", \"Campaign_1178\", \"Campaign_1178\", \"Campaign_1178\", \"Campaign_1178\", \"Campaign_1178\", \"Campaign_1178\", \"Campaign_1178\", \"Campaign_1178\", \"Campaign_1178\", \"Campaign_1178\", \"Campaign_1178\", \"Campaign_1178\", \"Campaign_1178\", \"Campaign_1178\", \"Campaign_1178\", \"Campaign_1178\", \"Campaign_1178\", \"Campaign_1178\", \"Campaign_1178\", \"Campaign_1178\", \"Campaign_1178\", \"Campaign_1178\", \"Campaign_1178\", \"Campaign_1178\", \"Campaign_1178\", \"Campaign_1178\", \"Campaign_1178\", \"Campaign_1178\", \"Campaign_1178\", \"Campaign_1178\", \"Campaign_1178\", \"Campaign_1178\", \"Campaign_1178\", \"Campaign_1178\", \"Campaign_1178\", \"Campaign_1178\", \"Campaign_1178\", \"Campaign_1178\", \"Campaign_1178\", \"Campaign_1178\"], \"xaxis\": \"x\", \"y\": [0, 0, 1, 1, 0, 0, 1, 0, 0, 0, 0, 0, 0, 0, 0, 1, 0, 1, 0, 1, 0, 1, 1, 1, 1, 1, 1, 0, 0, 1, 1, 0, 0, 1, 1, 0, 1, 0, 0, 0, 0, 0, 0, 1, 1, 1, 0, 0, 0, 0, 0, 0, 1, 1, 0, 1, 1, 1, 0, 1, 0, 0, 0, 0, 1, 0, 1, 0, 0, 0, 0, 1, 1, 1, 0, 0, 0, 0, 0, 0, 1, 0, 0, 0, 0, 0, 0, 1, 1, 0, 0, 1, 0, 0, 0, 0, 0, 0, 0, 1, 1, 0, 1, 0, 0, 0, 0, 0, 0, 1, 0, 1, 1, 2, 3, 1, 1, 2, 0, 7, 1, 1, 3, 2, 1, 0, 1, 4, 0, 1, 0, 0, 1, 1, 1, 0, 0, 0, 0, 0, 0, 0, 0, 3, 1, 1, 0, 0, 1, 0, 0, 0, 0, 2, 0, 0, 1, 2, 0, 1, 8, 10, 0, 1, 1, 0, 1, 1, 2, 0, 1, 1, 0, 0, 1, 1, 0, 0, 3, 1, 1, 2, 0, 0, 0, 0, 0, 1, 2, 0, 2, 0, 3, 2, 0, 5, 4, 2, 0, 1, 0, 1, 1, 1, 0, 0, 1, 0, 1, 0, 0, 2, 0, 4, 0, 1, 0, 0, 8, 1, 1, 3, 0, 0, 0, 3, 1, 0, 1, 1, 0, 0, 0, 0, 0, 1, 0, 1, 1, 1, 2, 1, 0, 0, 0, 1, 4, 2, 0, 5, 4, 0, 4, 1, 2, 0, 0, 2, 2], \"yaxis\": \"y\"}],\n",
              "                        {\"barmode\": \"group\", \"legend\": {\"tracegroupgap\": 0}, \"margin\": {\"t\": 60}, \"template\": {\"data\": {\"bar\": [{\"error_x\": {\"color\": \"#2a3f5f\"}, \"error_y\": {\"color\": \"#2a3f5f\"}, \"marker\": {\"line\": {\"color\": \"#E5ECF6\", \"width\": 0.5}}, \"type\": \"bar\"}], \"barpolar\": [{\"marker\": {\"line\": {\"color\": \"#E5ECF6\", \"width\": 0.5}}, \"type\": \"barpolar\"}], \"carpet\": [{\"aaxis\": {\"endlinecolor\": \"#2a3f5f\", \"gridcolor\": \"white\", \"linecolor\": \"white\", \"minorgridcolor\": \"white\", \"startlinecolor\": \"#2a3f5f\"}, \"baxis\": {\"endlinecolor\": \"#2a3f5f\", \"gridcolor\": \"white\", \"linecolor\": \"white\", \"minorgridcolor\": \"white\", \"startlinecolor\": \"#2a3f5f\"}, \"type\": \"carpet\"}], \"choropleth\": [{\"colorbar\": {\"outlinewidth\": 0, \"ticks\": \"\"}, \"type\": \"choropleth\"}], \"contour\": [{\"colorbar\": {\"outlinewidth\": 0, \"ticks\": \"\"}, \"colorscale\": [[0.0, \"#0d0887\"], [0.1111111111111111, \"#46039f\"], [0.2222222222222222, \"#7201a8\"], [0.3333333333333333, \"#9c179e\"], [0.4444444444444444, \"#bd3786\"], [0.5555555555555556, \"#d8576b\"], [0.6666666666666666, \"#ed7953\"], [0.7777777777777778, \"#fb9f3a\"], [0.8888888888888888, \"#fdca26\"], [1.0, \"#f0f921\"]], \"type\": \"contour\"}], \"contourcarpet\": [{\"colorbar\": {\"outlinewidth\": 0, \"ticks\": \"\"}, \"type\": \"contourcarpet\"}], \"heatmap\": [{\"colorbar\": {\"outlinewidth\": 0, \"ticks\": \"\"}, \"colorscale\": [[0.0, \"#0d0887\"], [0.1111111111111111, \"#46039f\"], [0.2222222222222222, \"#7201a8\"], [0.3333333333333333, \"#9c179e\"], [0.4444444444444444, \"#bd3786\"], [0.5555555555555556, \"#d8576b\"], [0.6666666666666666, \"#ed7953\"], [0.7777777777777778, \"#fb9f3a\"], [0.8888888888888888, \"#fdca26\"], [1.0, \"#f0f921\"]], \"type\": \"heatmap\"}], \"heatmapgl\": [{\"colorbar\": {\"outlinewidth\": 0, \"ticks\": \"\"}, \"colorscale\": [[0.0, \"#0d0887\"], [0.1111111111111111, \"#46039f\"], [0.2222222222222222, \"#7201a8\"], [0.3333333333333333, \"#9c179e\"], [0.4444444444444444, \"#bd3786\"], [0.5555555555555556, \"#d8576b\"], [0.6666666666666666, \"#ed7953\"], [0.7777777777777778, \"#fb9f3a\"], [0.8888888888888888, \"#fdca26\"], [1.0, \"#f0f921\"]], \"type\": \"heatmapgl\"}], \"histogram\": [{\"marker\": {\"colorbar\": {\"outlinewidth\": 0, \"ticks\": \"\"}}, \"type\": \"histogram\"}], \"histogram2d\": [{\"colorbar\": {\"outlinewidth\": 0, \"ticks\": \"\"}, \"colorscale\": [[0.0, \"#0d0887\"], [0.1111111111111111, \"#46039f\"], [0.2222222222222222, \"#7201a8\"], [0.3333333333333333, \"#9c179e\"], [0.4444444444444444, \"#bd3786\"], [0.5555555555555556, \"#d8576b\"], [0.6666666666666666, \"#ed7953\"], [0.7777777777777778, \"#fb9f3a\"], [0.8888888888888888, \"#fdca26\"], [1.0, \"#f0f921\"]], \"type\": \"histogram2d\"}], \"histogram2dcontour\": [{\"colorbar\": {\"outlinewidth\": 0, \"ticks\": \"\"}, \"colorscale\": [[0.0, \"#0d0887\"], [0.1111111111111111, \"#46039f\"], [0.2222222222222222, \"#7201a8\"], [0.3333333333333333, \"#9c179e\"], [0.4444444444444444, \"#bd3786\"], [0.5555555555555556, \"#d8576b\"], [0.6666666666666666, \"#ed7953\"], [0.7777777777777778, \"#fb9f3a\"], [0.8888888888888888, \"#fdca26\"], [1.0, \"#f0f921\"]], \"type\": \"histogram2dcontour\"}], \"mesh3d\": [{\"colorbar\": {\"outlinewidth\": 0, \"ticks\": \"\"}, \"type\": \"mesh3d\"}], \"parcoords\": [{\"line\": {\"colorbar\": {\"outlinewidth\": 0, \"ticks\": \"\"}}, \"type\": \"parcoords\"}], \"pie\": [{\"automargin\": true, \"type\": \"pie\"}], \"scatter\": [{\"marker\": {\"colorbar\": {\"outlinewidth\": 0, \"ticks\": \"\"}}, \"type\": \"scatter\"}], \"scatter3d\": [{\"line\": {\"colorbar\": {\"outlinewidth\": 0, \"ticks\": \"\"}}, \"marker\": {\"colorbar\": {\"outlinewidth\": 0, \"ticks\": \"\"}}, \"type\": \"scatter3d\"}], \"scattercarpet\": [{\"marker\": {\"colorbar\": {\"outlinewidth\": 0, \"ticks\": \"\"}}, \"type\": \"scattercarpet\"}], \"scattergeo\": [{\"marker\": {\"colorbar\": {\"outlinewidth\": 0, \"ticks\": \"\"}}, \"type\": \"scattergeo\"}], \"scattergl\": [{\"marker\": {\"colorbar\": {\"outlinewidth\": 0, \"ticks\": \"\"}}, \"type\": \"scattergl\"}], \"scattermapbox\": [{\"marker\": {\"colorbar\": {\"outlinewidth\": 0, \"ticks\": \"\"}}, \"type\": \"scattermapbox\"}], \"scatterpolar\": [{\"marker\": {\"colorbar\": {\"outlinewidth\": 0, \"ticks\": \"\"}}, \"type\": \"scatterpolar\"}], \"scatterpolargl\": [{\"marker\": {\"colorbar\": {\"outlinewidth\": 0, \"ticks\": \"\"}}, \"type\": \"scatterpolargl\"}], \"scatterternary\": [{\"marker\": {\"colorbar\": {\"outlinewidth\": 0, \"ticks\": \"\"}}, \"type\": \"scatterternary\"}], \"surface\": [{\"colorbar\": {\"outlinewidth\": 0, \"ticks\": \"\"}, \"colorscale\": [[0.0, \"#0d0887\"], [0.1111111111111111, \"#46039f\"], [0.2222222222222222, \"#7201a8\"], [0.3333333333333333, \"#9c179e\"], [0.4444444444444444, \"#bd3786\"], [0.5555555555555556, \"#d8576b\"], [0.6666666666666666, \"#ed7953\"], [0.7777777777777778, \"#fb9f3a\"], [0.8888888888888888, \"#fdca26\"], [1.0, \"#f0f921\"]], \"type\": \"surface\"}], \"table\": [{\"cells\": {\"fill\": {\"color\": \"#EBF0F8\"}, \"line\": {\"color\": \"white\"}}, \"header\": {\"fill\": {\"color\": \"#C8D4E3\"}, \"line\": {\"color\": \"white\"}}, \"type\": \"table\"}]}, \"layout\": {\"annotationdefaults\": {\"arrowcolor\": \"#2a3f5f\", \"arrowhead\": 0, \"arrowwidth\": 1}, \"coloraxis\": {\"colorbar\": {\"outlinewidth\": 0, \"ticks\": \"\"}}, \"colorscale\": {\"diverging\": [[0, \"#8e0152\"], [0.1, \"#c51b7d\"], [0.2, \"#de77ae\"], [0.3, \"#f1b6da\"], [0.4, \"#fde0ef\"], [0.5, \"#f7f7f7\"], [0.6, \"#e6f5d0\"], [0.7, \"#b8e186\"], [0.8, \"#7fbc41\"], [0.9, \"#4d9221\"], [1, \"#276419\"]], \"sequential\": [[0.0, \"#0d0887\"], [0.1111111111111111, \"#46039f\"], [0.2222222222222222, \"#7201a8\"], [0.3333333333333333, \"#9c179e\"], [0.4444444444444444, \"#bd3786\"], [0.5555555555555556, \"#d8576b\"], [0.6666666666666666, \"#ed7953\"], [0.7777777777777778, \"#fb9f3a\"], [0.8888888888888888, \"#fdca26\"], [1.0, \"#f0f921\"]], \"sequentialminus\": [[0.0, \"#0d0887\"], [0.1111111111111111, \"#46039f\"], [0.2222222222222222, \"#7201a8\"], [0.3333333333333333, \"#9c179e\"], [0.4444444444444444, \"#bd3786\"], [0.5555555555555556, \"#d8576b\"], [0.6666666666666666, \"#ed7953\"], [0.7777777777777778, \"#fb9f3a\"], [0.8888888888888888, \"#fdca26\"], [1.0, \"#f0f921\"]]}, \"colorway\": [\"#636efa\", \"#EF553B\", \"#00cc96\", \"#ab63fa\", \"#FFA15A\", \"#19d3f3\", \"#FF6692\", \"#B6E880\", \"#FF97FF\", \"#FECB52\"], \"font\": {\"color\": \"#2a3f5f\"}, \"geo\": {\"bgcolor\": \"white\", \"lakecolor\": \"white\", \"landcolor\": \"#E5ECF6\", \"showlakes\": true, \"showland\": true, \"subunitcolor\": \"white\"}, \"hoverlabel\": {\"align\": \"left\"}, \"hovermode\": \"closest\", \"mapbox\": {\"style\": \"light\"}, \"paper_bgcolor\": \"white\", \"plot_bgcolor\": \"#E5ECF6\", \"polar\": {\"angularaxis\": {\"gridcolor\": \"white\", \"linecolor\": \"white\", \"ticks\": \"\"}, \"bgcolor\": \"#E5ECF6\", \"radialaxis\": {\"gridcolor\": \"white\", \"linecolor\": \"white\", \"ticks\": \"\"}}, \"scene\": {\"xaxis\": {\"backgroundcolor\": \"#E5ECF6\", \"gridcolor\": \"white\", \"gridwidth\": 2, \"linecolor\": \"white\", \"showbackground\": true, \"ticks\": \"\", \"zerolinecolor\": \"white\"}, \"yaxis\": {\"backgroundcolor\": \"#E5ECF6\", \"gridcolor\": \"white\", \"gridwidth\": 2, \"linecolor\": \"white\", \"showbackground\": true, \"ticks\": \"\", \"zerolinecolor\": \"white\"}, \"zaxis\": {\"backgroundcolor\": \"#E5ECF6\", \"gridcolor\": \"white\", \"gridwidth\": 2, \"linecolor\": \"white\", \"showbackground\": true, \"ticks\": \"\", \"zerolinecolor\": \"white\"}}, \"shapedefaults\": {\"line\": {\"color\": \"#2a3f5f\"}}, \"ternary\": {\"aaxis\": {\"gridcolor\": \"white\", \"linecolor\": \"white\", \"ticks\": \"\"}, \"baxis\": {\"gridcolor\": \"white\", \"linecolor\": \"white\", \"ticks\": \"\"}, \"bgcolor\": \"#E5ECF6\", \"caxis\": {\"gridcolor\": \"white\", \"linecolor\": \"white\", \"ticks\": \"\"}}, \"title\": {\"x\": 0.05}, \"xaxis\": {\"automargin\": true, \"gridcolor\": \"white\", \"linecolor\": \"white\", \"ticks\": \"\", \"title\": {\"standoff\": 15}, \"zerolinecolor\": \"white\", \"zerolinewidth\": 2}, \"yaxis\": {\"automargin\": true, \"gridcolor\": \"white\", \"linecolor\": \"white\", \"ticks\": \"\", \"title\": {\"standoff\": 15}, \"zerolinecolor\": \"white\", \"zerolinewidth\": 2}}}, \"xaxis\": {\"anchor\": \"y\", \"domain\": [0.0, 1.0], \"title\": {\"text\": \"xyz_campaign_id\"}}, \"yaxis\": {\"anchor\": \"x\", \"domain\": [0.0, 1.0], \"title\": {\"text\": \"Approved_Conversion\"}}},\n",
              "                        {\"responsive\": true}\n",
              "                    ).then(function(){\n",
              "                            \n",
              "var gd = document.getElementById('a3d20383-e3ab-4911-87ab-5dbce399e743');\n",
              "var x = new MutationObserver(function (mutations, observer) {{\n",
              "        var display = window.getComputedStyle(gd).display;\n",
              "        if (!display || display === 'none') {{\n",
              "            console.log([gd, 'removed!']);\n",
              "            Plotly.purge(gd);\n",
              "            observer.disconnect();\n",
              "        }}\n",
              "}});\n",
              "\n",
              "// Listen for the removal of the full notebook cells\n",
              "var notebookContainer = gd.closest('#notebook-container');\n",
              "if (notebookContainer) {{\n",
              "    x.observe(notebookContainer, {childList: true});\n",
              "}}\n",
              "\n",
              "// Listen for the clearing of the current output cell\n",
              "var outputEl = gd.closest('.output');\n",
              "if (outputEl) {{\n",
              "    x.observe(outputEl, {childList: true});\n",
              "}}\n",
              "\n",
              "                        })\n",
              "                };\n",
              "                \n",
              "            </script>\n",
              "        </div>\n",
              "</body>\n",
              "</html>"
            ]
          },
          "metadata": {}
        }
      ]
    },
    {
      "cell_type": "markdown",
      "source": [
        "*   Though we can get more conversion by targeting 30-34 and 35-39 alone, the cost per conversion is high (inferred from campaign 1178 analysis).\n",
        "\n",
        "*   The number of ads are also different. If there was to be more ads in campaign 916 the conversions would have been much higher.\n",
        "*   From the above analysis we can conclude that we need to target all four age groups."
      ],
      "metadata": {
        "id": "gSCTag_2XzwX"
      }
    },
    {
      "cell_type": "markdown",
      "source": [
        "#**Prediction**"
      ],
      "metadata": {
        "id": "g7zKrabunJUb"
      }
    },
    {
      "cell_type": "code",
      "source": [
        "x = dataset.iloc[:, :-1]\n",
        "y = dataset.iloc[:, -1].values"
      ],
      "metadata": {
        "id": "Hl0aaZJNnyzO"
      },
      "execution_count": null,
      "outputs": []
    },
    {
      "cell_type": "code",
      "source": [
        "x['age'] = pd.np.where(x.age.str.contains(\"30-34\"), 32,\n",
        "                   pd.np.where(x.age.str.contains(\"35-39\"), 37,\n",
        "                   pd.np.where(x.age.str.contains(\"40-44\"), 42, 47)))"
      ],
      "metadata": {
        "id": "vODhsMAeRbma",
        "colab": {
          "base_uri": "https://localhost:8080/"
        },
        "outputId": "5e064024-775c-40db-88fb-3e49403928b4"
      },
      "execution_count": null,
      "outputs": [
        {
          "output_type": "stream",
          "name": "stderr",
          "text": [
            "/usr/local/lib/python3.7/dist-packages/ipykernel_launcher.py:1: FutureWarning:\n",
            "\n",
            "The pandas.np module is deprecated and will be removed from pandas in a future version. Import numpy directly instead\n",
            "\n",
            "/usr/local/lib/python3.7/dist-packages/ipykernel_launcher.py:2: FutureWarning:\n",
            "\n",
            "The pandas.np module is deprecated and will be removed from pandas in a future version. Import numpy directly instead\n",
            "\n",
            "/usr/local/lib/python3.7/dist-packages/ipykernel_launcher.py:3: FutureWarning:\n",
            "\n",
            "The pandas.np module is deprecated and will be removed from pandas in a future version. Import numpy directly instead\n",
            "\n"
          ]
        }
      ]
    },
    {
      "cell_type": "code",
      "source": [
        "from sklearn.preprocessing import LabelEncoder\n",
        "lb = LabelEncoder()\n",
        "x['gender'] = lb.fit_transform(x['gender'])\n",
        "\n",
        "x.head()"
      ],
      "metadata": {
        "id": "qpc-Qj0YnQqo",
        "colab": {
          "base_uri": "https://localhost:8080/",
          "height": 206
        },
        "outputId": "b5e09bf4-bdf6-4207-abff-c68fe6dc436f"
      },
      "execution_count": null,
      "outputs": [
        {
          "output_type": "execute_result",
          "data": {
            "text/html": [
              "\n",
              "  <div id=\"df-1c92ccef-77aa-46ec-a894-a8c7a2fea415\">\n",
              "    <div class=\"colab-df-container\">\n",
              "      <div>\n",
              "<style scoped>\n",
              "    .dataframe tbody tr th:only-of-type {\n",
              "        vertical-align: middle;\n",
              "    }\n",
              "\n",
              "    .dataframe tbody tr th {\n",
              "        vertical-align: top;\n",
              "    }\n",
              "\n",
              "    .dataframe thead th {\n",
              "        text-align: right;\n",
              "    }\n",
              "</style>\n",
              "<table border=\"1\" class=\"dataframe\">\n",
              "  <thead>\n",
              "    <tr style=\"text-align: right;\">\n",
              "      <th></th>\n",
              "      <th>ad_id</th>\n",
              "      <th>xyz_campaign_id</th>\n",
              "      <th>fb_campaign_id</th>\n",
              "      <th>age</th>\n",
              "      <th>gender</th>\n",
              "      <th>interest</th>\n",
              "      <th>Impressions</th>\n",
              "      <th>Clicks</th>\n",
              "      <th>Spent</th>\n",
              "      <th>Total_Conversion</th>\n",
              "    </tr>\n",
              "  </thead>\n",
              "  <tbody>\n",
              "    <tr>\n",
              "      <th>0</th>\n",
              "      <td>708746</td>\n",
              "      <td>916</td>\n",
              "      <td>103916</td>\n",
              "      <td>32</td>\n",
              "      <td>1</td>\n",
              "      <td>15</td>\n",
              "      <td>7350</td>\n",
              "      <td>1</td>\n",
              "      <td>1.43</td>\n",
              "      <td>2</td>\n",
              "    </tr>\n",
              "    <tr>\n",
              "      <th>1</th>\n",
              "      <td>708749</td>\n",
              "      <td>916</td>\n",
              "      <td>103917</td>\n",
              "      <td>32</td>\n",
              "      <td>1</td>\n",
              "      <td>16</td>\n",
              "      <td>17861</td>\n",
              "      <td>2</td>\n",
              "      <td>1.82</td>\n",
              "      <td>2</td>\n",
              "    </tr>\n",
              "    <tr>\n",
              "      <th>2</th>\n",
              "      <td>708771</td>\n",
              "      <td>916</td>\n",
              "      <td>103920</td>\n",
              "      <td>32</td>\n",
              "      <td>1</td>\n",
              "      <td>20</td>\n",
              "      <td>693</td>\n",
              "      <td>0</td>\n",
              "      <td>0.00</td>\n",
              "      <td>1</td>\n",
              "    </tr>\n",
              "    <tr>\n",
              "      <th>3</th>\n",
              "      <td>708815</td>\n",
              "      <td>916</td>\n",
              "      <td>103928</td>\n",
              "      <td>32</td>\n",
              "      <td>1</td>\n",
              "      <td>28</td>\n",
              "      <td>4259</td>\n",
              "      <td>1</td>\n",
              "      <td>1.25</td>\n",
              "      <td>1</td>\n",
              "    </tr>\n",
              "    <tr>\n",
              "      <th>4</th>\n",
              "      <td>708818</td>\n",
              "      <td>916</td>\n",
              "      <td>103928</td>\n",
              "      <td>32</td>\n",
              "      <td>1</td>\n",
              "      <td>28</td>\n",
              "      <td>4133</td>\n",
              "      <td>1</td>\n",
              "      <td>1.29</td>\n",
              "      <td>1</td>\n",
              "    </tr>\n",
              "  </tbody>\n",
              "</table>\n",
              "</div>\n",
              "      <button class=\"colab-df-convert\" onclick=\"convertToInteractive('df-1c92ccef-77aa-46ec-a894-a8c7a2fea415')\"\n",
              "              title=\"Convert this dataframe to an interactive table.\"\n",
              "              style=\"display:none;\">\n",
              "        \n",
              "  <svg xmlns=\"http://www.w3.org/2000/svg\" height=\"24px\"viewBox=\"0 0 24 24\"\n",
              "       width=\"24px\">\n",
              "    <path d=\"M0 0h24v24H0V0z\" fill=\"none\"/>\n",
              "    <path d=\"M18.56 5.44l.94 2.06.94-2.06 2.06-.94-2.06-.94-.94-2.06-.94 2.06-2.06.94zm-11 1L8.5 8.5l.94-2.06 2.06-.94-2.06-.94L8.5 2.5l-.94 2.06-2.06.94zm10 10l.94 2.06.94-2.06 2.06-.94-2.06-.94-.94-2.06-.94 2.06-2.06.94z\"/><path d=\"M17.41 7.96l-1.37-1.37c-.4-.4-.92-.59-1.43-.59-.52 0-1.04.2-1.43.59L10.3 9.45l-7.72 7.72c-.78.78-.78 2.05 0 2.83L4 21.41c.39.39.9.59 1.41.59.51 0 1.02-.2 1.41-.59l7.78-7.78 2.81-2.81c.8-.78.8-2.07 0-2.86zM5.41 20L4 18.59l7.72-7.72 1.47 1.35L5.41 20z\"/>\n",
              "  </svg>\n",
              "      </button>\n",
              "      \n",
              "  <style>\n",
              "    .colab-df-container {\n",
              "      display:flex;\n",
              "      flex-wrap:wrap;\n",
              "      gap: 12px;\n",
              "    }\n",
              "\n",
              "    .colab-df-convert {\n",
              "      background-color: #E8F0FE;\n",
              "      border: none;\n",
              "      border-radius: 50%;\n",
              "      cursor: pointer;\n",
              "      display: none;\n",
              "      fill: #1967D2;\n",
              "      height: 32px;\n",
              "      padding: 0 0 0 0;\n",
              "      width: 32px;\n",
              "    }\n",
              "\n",
              "    .colab-df-convert:hover {\n",
              "      background-color: #E2EBFA;\n",
              "      box-shadow: 0px 1px 2px rgba(60, 64, 67, 0.3), 0px 1px 3px 1px rgba(60, 64, 67, 0.15);\n",
              "      fill: #174EA6;\n",
              "    }\n",
              "\n",
              "    [theme=dark] .colab-df-convert {\n",
              "      background-color: #3B4455;\n",
              "      fill: #D2E3FC;\n",
              "    }\n",
              "\n",
              "    [theme=dark] .colab-df-convert:hover {\n",
              "      background-color: #434B5C;\n",
              "      box-shadow: 0px 1px 3px 1px rgba(0, 0, 0, 0.15);\n",
              "      filter: drop-shadow(0px 1px 2px rgba(0, 0, 0, 0.3));\n",
              "      fill: #FFFFFF;\n",
              "    }\n",
              "  </style>\n",
              "\n",
              "      <script>\n",
              "        const buttonEl =\n",
              "          document.querySelector('#df-1c92ccef-77aa-46ec-a894-a8c7a2fea415 button.colab-df-convert');\n",
              "        buttonEl.style.display =\n",
              "          google.colab.kernel.accessAllowed ? 'block' : 'none';\n",
              "\n",
              "        async function convertToInteractive(key) {\n",
              "          const element = document.querySelector('#df-1c92ccef-77aa-46ec-a894-a8c7a2fea415');\n",
              "          const dataTable =\n",
              "            await google.colab.kernel.invokeFunction('convertToInteractive',\n",
              "                                                     [key], {});\n",
              "          if (!dataTable) return;\n",
              "\n",
              "          const docLinkHtml = 'Like what you see? Visit the ' +\n",
              "            '<a target=\"_blank\" href=https://colab.research.google.com/notebooks/data_table.ipynb>data table notebook</a>'\n",
              "            + ' to learn more about interactive tables.';\n",
              "          element.innerHTML = '';\n",
              "          dataTable['output_type'] = 'display_data';\n",
              "          await google.colab.output.renderOutput(dataTable, element);\n",
              "          const docLink = document.createElement('div');\n",
              "          docLink.innerHTML = docLinkHtml;\n",
              "          element.appendChild(docLink);\n",
              "        }\n",
              "      </script>\n",
              "    </div>\n",
              "  </div>\n",
              "  "
            ],
            "text/plain": [
              "    ad_id  xyz_campaign_id  fb_campaign_id  ...  Clicks  Spent  Total_Conversion\n",
              "0  708746              916          103916  ...       1   1.43                 2\n",
              "1  708749              916          103917  ...       2   1.82                 2\n",
              "2  708771              916          103920  ...       0   0.00                 1\n",
              "3  708815              916          103928  ...       1   1.25                 1\n",
              "4  708818              916          103928  ...       1   1.29                 1\n",
              "\n",
              "[5 rows x 10 columns]"
            ]
          },
          "metadata": {},
          "execution_count": 6
        }
      ]
    },
    {
      "cell_type": "code",
      "source": [
        "x.clicks=x.Clicks.astype(int)\n",
        "x.age=x.age.astype(int)\n",
        "x.impressions=x.Impressions.astype(int)\n",
        "x.spent=x.Spent.astype(int)\n",
        "x.interest=x.interest.astype(int)\n",
        "x.campaign_id=x.xyz_campaign_id.astype('category')\n",
        "x.total_conversion=x.Total_Conversion.astype(int)"
      ],
      "metadata": {
        "id": "GzUx5yGxnZ4S",
        "colab": {
          "base_uri": "https://localhost:8080/"
        },
        "outputId": "5c05f633-683a-4c21-ff08-2fbd9c77a6ca"
      },
      "execution_count": null,
      "outputs": [
        {
          "output_type": "stream",
          "name": "stderr",
          "text": [
            "/usr/local/lib/python3.7/dist-packages/ipykernel_launcher.py:6: UserWarning:\n",
            "\n",
            "Pandas doesn't allow columns to be created via a new attribute name - see https://pandas.pydata.org/pandas-docs/stable/indexing.html#attribute-access\n",
            "\n",
            "/usr/local/lib/python3.7/dist-packages/ipykernel_launcher.py:7: UserWarning:\n",
            "\n",
            "Pandas doesn't allow columns to be created via a new attribute name - see https://pandas.pydata.org/pandas-docs/stable/indexing.html#attribute-access\n",
            "\n"
          ]
        }
      ]
    },
    {
      "cell_type": "code",
      "source": [
        "y = y.reshape(len(y),1)\n",
        "\n",
        "print(y)"
      ],
      "metadata": {
        "id": "wTP6Uy_QnZ64",
        "colab": {
          "base_uri": "https://localhost:8080/"
        },
        "outputId": "1353a583-af51-4098-82d9-1bec8a3d1b89"
      },
      "execution_count": null,
      "outputs": [
        {
          "output_type": "stream",
          "name": "stdout",
          "text": [
            "[[1]\n",
            " [0]\n",
            " [0]\n",
            " ...\n",
            " [0]\n",
            " [2]\n",
            " [2]]\n"
          ]
        }
      ]
    },
    {
      "cell_type": "code",
      "source": [
        "#Feature Scaling\n",
        "sc_x = StandardScaler()\n",
        "sc_y = StandardScaler()\n",
        "x = sc_x.fit_transform(x)\n",
        "y = sc_y.fit_transform(y)\n",
        "\n",
        "y"
      ],
      "metadata": {
        "id": "z143zLa9oBFc",
        "colab": {
          "base_uri": "https://localhost:8080/"
        },
        "outputId": "0f375448-f01f-402f-b262-e240b84873de"
      },
      "execution_count": null,
      "outputs": [
        {
          "output_type": "execute_result",
          "data": {
            "text/plain": [
              "array([[ 0.03223643],\n",
              "       [-0.54348614],\n",
              "       [-0.54348614],\n",
              "       ...,\n",
              "       [-0.54348614],\n",
              "       [ 0.60795901],\n",
              "       [ 0.60795901]])"
            ]
          },
          "metadata": {},
          "execution_count": 11
        }
      ]
    },
    {
      "cell_type": "code",
      "source": [
        "#Splitting the Dataset to Train and Test Sets\n",
        "x_train, x_test, y_train, y_test = train_test_split(x, y, test_size = 0.2, random_state = 42)\n",
        "\n",
        "print(x_train)"
      ],
      "metadata": {
        "id": "d8y0U051nZ9O",
        "colab": {
          "base_uri": "https://localhost:8080/"
        },
        "outputId": "4336a08c-5b2b-41a1-bb12-0f6395162262"
      },
      "execution_count": null,
      "outputs": [
        {
          "output_type": "stream",
          "name": "stdout",
          "text": [
            "[[-1.43482076 -1.24516442 -1.45519967 ... -0.58715742 -0.59123316\n",
            "  -0.41405523]\n",
            " [ 0.6927456   0.90986308  0.5289069  ...  0.73169676  0.97143967\n",
            "   0.0322108 ]\n",
            " [ 0.69133772  0.90986308  0.52666205 ... -0.42889492 -0.42282135\n",
            "  -0.19092221]\n",
            " ...\n",
            " [ 1.68709377  0.90986308  2.25387959 ...  1.29440788  1.22814395\n",
            "   1.59414191]\n",
            " [ 0.69390079  0.90986308  0.53071254 ...  6.8160107   6.4571983\n",
            "   7.84186635]\n",
            " [ 1.68706799  0.90986308  2.25363558 ...  0.87237454  0.80049531\n",
            "  -0.41405523]]\n"
          ]
        }
      ]
    },
    {
      "cell_type": "markdown",
      "source": [
        "Multiple Linear Regression\n"
      ],
      "metadata": {
        "id": "fHDhTUX12j4K"
      }
    },
    {
      "cell_type": "code",
      "source": [
        "regressor = LinearRegression()\n",
        "regressor.fit(x_train, y_train)"
      ],
      "metadata": {
        "id": "1a8Kp_hW0U-C",
        "colab": {
          "base_uri": "https://localhost:8080/"
        },
        "outputId": "e21b828a-1d4e-4950-9a79-1a79a8f868db"
      },
      "execution_count": null,
      "outputs": [
        {
          "output_type": "execute_result",
          "data": {
            "text/plain": [
              "LinearRegression()"
            ]
          },
          "metadata": {},
          "execution_count": 13
        }
      ]
    },
    {
      "cell_type": "code",
      "source": [
        "y_pred = regressor.predict(x_test)\n",
        "np.set_printoptions(precision=2)\n",
        "print(np.concatenate((y_pred.reshape(len(y_pred),1), y_test.reshape(len(y_test),1)),1))"
      ],
      "metadata": {
        "id": "sRe9Hk110eOD",
        "colab": {
          "base_uri": "https://localhost:8080/"
        },
        "outputId": "290d8bb2-b279-4e7d-e4aa-cb65aed33a25"
      },
      "execution_count": null,
      "outputs": [
        {
          "output_type": "stream",
          "name": "stdout",
          "text": [
            "[[-3.01e-01  3.22e-02]\n",
            " [-3.06e-01  3.22e-02]\n",
            " [ 5.17e-02 -5.43e-01]\n",
            " [-2.90e-01  3.22e-02]\n",
            " [-3.81e-01 -5.43e-01]\n",
            " [ 3.77e-03 -5.43e-01]\n",
            " [-2.84e-01  3.22e-02]\n",
            " [-2.96e-01 -5.43e-01]\n",
            " [-2.78e-01 -5.43e-01]\n",
            " [-3.93e-01 -5.43e-01]\n",
            " [-9.21e-02 -5.43e-01]\n",
            " [ 1.13e+00  1.76e+00]\n",
            " [ 4.42e-01 -5.43e-01]\n",
            " [-8.49e-02 -5.43e-01]\n",
            " [-2.99e-01  3.22e-02]\n",
            " [-3.35e-01 -5.43e-01]\n",
            " [-2.72e-01 -5.43e-01]\n",
            " [-8.18e-02  6.08e-01]\n",
            " [-3.40e-01 -5.43e-01]\n",
            " [-2.74e-01 -5.43e-01]\n",
            " [ 4.45e+00  2.34e+00]\n",
            " [ 1.05e-01 -5.43e-01]\n",
            " [-3.50e-01  3.22e-02]\n",
            " [ 1.49e+00  2.34e+00]\n",
            " [-3.41e-01 -5.43e-01]\n",
            " [-3.22e-01 -5.43e-01]\n",
            " [-2.63e-01  3.22e-02]\n",
            " [-3.28e-01  3.22e-02]\n",
            " [-3.29e-01  3.22e-02]\n",
            " [-3.40e-01 -5.43e-01]\n",
            " [-8.21e-02  3.22e-02]\n",
            " [-3.36e-01  3.22e-02]\n",
            " [-3.32e-01  3.22e-02]\n",
            " [-2.70e-01  3.22e-02]\n",
            " [-3.90e-01  3.22e-02]\n",
            " [-2.65e-01  3.22e-02]\n",
            " [-3.99e-01  3.22e-02]\n",
            " [-2.84e-01 -5.43e-01]\n",
            " [-3.45e-01 -5.43e-01]\n",
            " [-3.36e-01 -5.43e-01]\n",
            " [-2.74e-01  3.22e-02]\n",
            " [-4.00e-01 -5.43e-01]\n",
            " [-3.40e-01  3.22e-02]\n",
            " [-2.51e-01 -5.43e-01]\n",
            " [ 9.96e-01  1.76e+00]\n",
            " [-3.42e-01  3.22e-02]\n",
            " [-3.40e-01  3.22e-02]\n",
            " [-3.34e-01 -5.43e-01]\n",
            " [-2.86e-01  3.22e-02]\n",
            " [ 1.17e+00  3.22e-02]\n",
            " [ 2.88e-01 -5.43e-01]\n",
            " [-3.20e-01 -5.43e-01]\n",
            " [-3.63e-01 -5.43e-01]\n",
            " [ 6.31e-03 -5.43e-01]\n",
            " [-8.35e-02  3.22e-02]\n",
            " [-3.95e-01  3.22e-02]\n",
            " [ 6.87e-02  3.22e-02]\n",
            " [-4.79e-01  3.22e-02]\n",
            " [ 4.16e-04 -5.43e-01]\n",
            " [-2.78e-01 -5.43e-01]\n",
            " [-2.84e-01 -5.43e-01]\n",
            " [-3.33e-01 -5.43e-01]\n",
            " [-3.13e-01 -5.43e-01]\n",
            " [-3.35e-01 -5.43e-01]\n",
            " [ 4.29e-01  6.08e-01]\n",
            " [-2.90e-01 -5.43e-01]\n",
            " [-3.89e-01 -5.43e-01]\n",
            " [-1.88e-01  3.22e-02]\n",
            " [-3.68e-01 -5.43e-01]\n",
            " [-3.31e-01  3.22e-02]\n",
            " [-3.94e-01 -5.43e-01]\n",
            " [-3.24e-01 -5.43e-01]\n",
            " [-1.66e-01  3.22e-02]\n",
            " [ 1.94e-01  3.22e-02]\n",
            " [-2.86e-01 -5.43e-01]\n",
            " [-2.77e-01 -5.43e-01]\n",
            " [-1.08e-01  3.22e-02]\n",
            " [-2.00e-01 -5.43e-01]\n",
            " [-1.74e-01  6.08e-01]\n",
            " [-3.34e-01 -5.43e-01]\n",
            " [-3.61e-01  3.22e-02]\n",
            " [ 4.69e-02  3.22e-02]\n",
            " [-2.71e-01  3.22e-02]\n",
            " [ 8.26e-01  3.22e-02]\n",
            " [-3.50e-01 -5.43e-01]\n",
            " [-4.28e-01 -5.43e-01]\n",
            " [ 9.06e-01  6.08e-01]\n",
            " [ 4.84e-01  3.22e-02]\n",
            " [ 7.53e+00  1.15e+01]\n",
            " [-3.32e-01 -5.43e-01]\n",
            " [-3.46e-01  3.22e-02]\n",
            " [-1.28e-01 -5.43e-01]\n",
            " [-3.59e-01  3.22e-02]\n",
            " [ 5.29e-01  6.08e-01]\n",
            " [-2.82e-01 -5.43e-01]\n",
            " [-2.88e-01  3.22e-02]\n",
            " [ 1.49e+00  1.18e+00]\n",
            " [-1.38e-01  3.22e-02]\n",
            " [-1.51e-01 -5.43e-01]\n",
            " [-2.98e-01 -5.43e-01]\n",
            " [ 7.83e-01  6.08e-01]\n",
            " [-3.52e-01 -5.43e-01]\n",
            " [-3.35e-01  3.22e-02]\n",
            " [ 1.09e-01  3.22e-02]\n",
            " [-2.66e-01 -5.43e-01]\n",
            " [-4.00e-01 -5.43e-01]\n",
            " [-3.29e-01  3.22e-02]\n",
            " [-3.34e-01 -5.43e-01]\n",
            " [-3.48e-01  3.22e-02]\n",
            " [-3.37e-01 -5.43e-01]\n",
            " [-4.49e-01 -5.43e-01]\n",
            " [-7.76e-02 -5.43e-01]\n",
            " [-3.82e-01 -5.43e-01]\n",
            " [-2.85e-01  3.22e-02]\n",
            " [-2.78e-01  3.22e-02]\n",
            " [-2.76e-01 -5.43e-01]\n",
            " [-4.04e-01  3.22e-02]\n",
            " [-3.36e-01  3.22e-02]\n",
            " [ 2.15e-02  3.22e-02]\n",
            " [-3.30e-01 -5.43e-01]\n",
            " [-3.92e-01 -5.43e-01]\n",
            " [-1.24e-01  3.22e-02]\n",
            " [-3.35e-01 -5.43e-01]\n",
            " [-2.91e-01 -5.43e-01]\n",
            " [ 2.07e+00  1.76e+00]\n",
            " [ 5.63e-01  6.08e-01]\n",
            " [ 5.82e-02 -5.43e-01]\n",
            " [-5.08e-01 -5.43e-01]\n",
            " [-3.12e-02  3.22e-02]\n",
            " [-3.46e-01 -5.43e-01]\n",
            " [-1.61e-01  3.22e-02]\n",
            " [-3.32e-01  3.22e-02]\n",
            " [ 2.62e-01  3.22e-02]\n",
            " [-3.93e-01 -5.43e-01]\n",
            " [-2.87e-01 -5.43e-01]\n",
            " [-3.43e-01 -5.43e-01]\n",
            " [ 2.58e-02  1.18e+00]\n",
            " [-1.10e-01 -5.43e-01]\n",
            " [ 2.24e-01  3.22e-02]\n",
            " [ 1.18e+00  1.76e+00]\n",
            " [-3.96e-01  3.22e-02]\n",
            " [-3.45e-01 -5.43e-01]\n",
            " [-3.93e-01 -5.43e-01]\n",
            " [-2.66e-01 -5.43e-01]\n",
            " [-3.98e-01 -5.43e-01]\n",
            " [-2.76e-01 -5.43e-01]\n",
            " [-3.68e-01 -5.43e-01]\n",
            " [ 3.85e-02 -5.43e-01]\n",
            " [-1.86e-01  3.22e-02]\n",
            " [-2.80e-01 -5.43e-01]\n",
            " [-1.97e-01  3.22e-02]\n",
            " [-3.30e-01  3.22e-02]\n",
            " [-3.57e-01  3.22e-02]\n",
            " [-2.81e-01  3.22e-02]\n",
            " [-5.03e-01  3.22e-02]\n",
            " [ 2.01e+00  6.08e-01]\n",
            " [-9.29e-03  3.22e-02]\n",
            " [ 3.46e-02  1.18e+00]\n",
            " [-2.93e-01 -5.43e-01]\n",
            " [-4.92e-01 -5.43e-01]\n",
            " [-3.44e-01  3.22e-02]\n",
            " [-4.12e-01 -5.43e-01]\n",
            " [-3.32e-01 -5.43e-01]\n",
            " [-2.75e-01 -5.43e-01]\n",
            " [-3.34e-01 -5.43e-01]\n",
            " [ 7.14e-01  1.76e+00]\n",
            " [-3.46e-01 -5.43e-01]\n",
            " [ 3.15e-01  6.08e-01]\n",
            " [-3.66e-01  3.22e-02]\n",
            " [-3.47e-01  3.22e-02]\n",
            " [-3.28e-01 -5.43e-01]\n",
            " [ 3.99e+00  3.49e+00]\n",
            " [-2.93e-01 -5.43e-01]\n",
            " [-9.49e-02  3.22e-02]\n",
            " [-3.48e-01 -5.43e-01]\n",
            " [-7.62e-02  6.08e-01]\n",
            " [-2.71e-01  3.22e-02]\n",
            " [-3.95e-01 -5.43e-01]\n",
            " [-3.87e-01 -5.43e-01]\n",
            " [ 1.15e+00  1.76e+00]\n",
            " [-2.73e-01  3.22e-02]\n",
            " [-3.33e-01 -5.43e-01]\n",
            " [-2.59e-01  3.22e-02]\n",
            " [ 3.19e+00  1.76e+00]\n",
            " [-3.54e-01  3.22e-02]\n",
            " [-2.92e-01  3.22e-02]\n",
            " [-3.54e-01 -5.43e-01]\n",
            " [-1.61e-01 -5.43e-01]\n",
            " [-3.66e-01 -5.43e-01]\n",
            " [ 1.12e-01  3.22e-02]\n",
            " [-3.65e-01 -5.43e-01]\n",
            " [-3.96e-01 -5.43e-01]\n",
            " [ 6.97e-01  6.08e-01]\n",
            " [-2.68e-01 -5.43e-01]\n",
            " [ 2.79e-01 -5.43e-01]\n",
            " [ 8.69e-01  1.76e+00]\n",
            " [ 1.31e+00  2.34e+00]\n",
            " [-3.58e-01  3.22e-02]\n",
            " [-2.68e-01 -5.43e-01]\n",
            " [ 1.02e+00  6.08e-01]\n",
            " [ 2.42e-03  3.22e-02]\n",
            " [-3.44e-01 -5.43e-01]\n",
            " [-3.40e-01 -5.43e-01]\n",
            " [-2.91e-01 -5.43e-01]\n",
            " [ 6.07e-01  1.18e+00]\n",
            " [-3.52e-01 -5.43e-01]\n",
            " [-2.89e-01  3.22e-02]\n",
            " [ 9.92e-02 -5.43e-01]\n",
            " [ 1.65e+00  1.76e+00]\n",
            " [-2.86e-01  3.22e-02]\n",
            " [-3.42e-01 -5.43e-01]\n",
            " [-2.93e-01 -5.43e-01]\n",
            " [-7.94e-02  3.22e-02]\n",
            " [ 2.12e-01  1.18e+00]\n",
            " [-3.30e-01  3.22e-02]\n",
            " [-2.71e-01 -5.43e-01]\n",
            " [-3.30e-01  3.22e-02]\n",
            " [-3.32e-01 -5.43e-01]\n",
            " [-1.41e-01 -5.43e-01]\n",
            " [-3.82e-01 -5.43e-01]\n",
            " [ 2.11e+00  2.34e+00]\n",
            " [-1.39e-01  6.08e-01]\n",
            " [-3.41e-01  3.22e-02]\n",
            " [-2.65e-01 -5.43e-01]\n",
            " [-2.87e-01 -5.43e-01]\n",
            " [-3.27e-01 -5.43e-01]\n",
            " [-2.86e-01 -5.43e-01]\n",
            " [-3.90e-01 -5.43e-01]\n",
            " [ 1.52e+00  2.91e+00]]\n"
          ]
        }
      ]
    },
    {
      "cell_type": "code",
      "source": [
        "score = r2_score(y_test, y_pred)\n",
        "\n",
        "round(score, 5)"
      ],
      "metadata": {
        "id": "eREQ2eAK0iQ4",
        "colab": {
          "base_uri": "https://localhost:8080/"
        },
        "outputId": "8e418953-54c3-45b1-f45f-9d6fc08cf725"
      },
      "execution_count": null,
      "outputs": [
        {
          "output_type": "execute_result",
          "data": {
            "text/plain": [
              "0.76004"
            ]
          },
          "metadata": {},
          "execution_count": 15
        }
      ]
    },
    {
      "cell_type": "code",
      "source": [
        "mae = mean_absolute_error(y_test, y_pred)\n",
        "\n",
        "round(mae, 5)"
      ],
      "metadata": {
        "id": "FozHyLH30eV0",
        "colab": {
          "base_uri": "https://localhost:8080/"
        },
        "outputId": "df044bff-59fc-4b98-fd36-e650681d9613"
      },
      "execution_count": null,
      "outputs": [
        {
          "output_type": "execute_result",
          "data": {
            "text/plain": [
              "0.35966"
            ]
          },
          "metadata": {},
          "execution_count": 16
        }
      ]
    },
    {
      "cell_type": "code",
      "source": [
        "mse = np.sqrt(mean_squared_error(y_test, y_pred))\n",
        "\n",
        "round(mse, 3)"
      ],
      "metadata": {
        "id": "350NlL9d0qI1",
        "colab": {
          "base_uri": "https://localhost:8080/"
        },
        "outputId": "82da5730-c8c4-421f-b1cb-a5db795baf74"
      },
      "execution_count": null,
      "outputs": [
        {
          "output_type": "execute_result",
          "data": {
            "text/plain": [
              "0.511"
            ]
          },
          "metadata": {},
          "execution_count": 17
        }
      ]
    },
    {
      "cell_type": "markdown",
      "source": [
        "Random Forest"
      ],
      "metadata": {
        "id": "vGR8BDTB09kf"
      }
    },
    {
      "cell_type": "code",
      "source": [
        "regressor = RandomForestRegressor(n_estimators = 10, random_state = 10)\n",
        "regressor.fit(x_train, y_train)"
      ],
      "metadata": {
        "id": "CQ6g7Yks0qLJ",
        "colab": {
          "base_uri": "https://localhost:8080/"
        },
        "outputId": "00db605b-18a2-4956-ce1d-3fd072ad275a"
      },
      "execution_count": null,
      "outputs": [
        {
          "output_type": "stream",
          "name": "stderr",
          "text": [
            "/usr/local/lib/python3.7/dist-packages/ipykernel_launcher.py:3: DataConversionWarning:\n",
            "\n",
            "A column-vector y was passed when a 1d array was expected. Please change the shape of y to (n_samples,), for example using ravel().\n",
            "\n"
          ]
        },
        {
          "output_type": "execute_result",
          "data": {
            "text/plain": [
              "RandomForestRegressor(n_estimators=10, random_state=10)"
            ]
          },
          "metadata": {},
          "execution_count": 18
        }
      ]
    },
    {
      "cell_type": "code",
      "source": [
        "y_pred = regressor.predict(x_test)\n",
        "\n",
        "score = r2_score(y_test, y_pred)\n",
        "\n",
        "round(score, 3)"
      ],
      "metadata": {
        "id": "K5d_jfcz0qOe",
        "colab": {
          "base_uri": "https://localhost:8080/"
        },
        "outputId": "2ddc5ff2-a444-4be7-eca6-bf254440d225"
      },
      "execution_count": null,
      "outputs": [
        {
          "output_type": "execute_result",
          "data": {
            "text/plain": [
              "0.683"
            ]
          },
          "metadata": {},
          "execution_count": 19
        }
      ]
    },
    {
      "cell_type": "code",
      "source": [
        "mae = mean_absolute_error(y_test, y_pred)\n",
        "\n",
        "round(mae, 3)"
      ],
      "metadata": {
        "id": "dXvvAGez1Eww",
        "colab": {
          "base_uri": "https://localhost:8080/"
        },
        "outputId": "3d43c9ef-0727-44b3-a2bb-161a4fa0b05b"
      },
      "execution_count": null,
      "outputs": [
        {
          "output_type": "execute_result",
          "data": {
            "text/plain": [
              "0.377"
            ]
          },
          "metadata": {},
          "execution_count": 20
        }
      ]
    },
    {
      "cell_type": "code",
      "source": [
        "mse = np.sqrt(mean_squared_error(y_test, y_pred))\n",
        "\n",
        "round(mse, 3)"
      ],
      "metadata": {
        "id": "FpkAVDGk1GZY"
      },
      "execution_count": null,
      "outputs": []
    },
    {
      "cell_type": "markdown",
      "source": [
        "# **Optimization**"
      ],
      "metadata": {
        "id": "pHkUyfD-xNWi"
      }
    },
    {
      "cell_type": "code",
      "source": [
        "encoder=LabelEncoder()\n",
        "encoder.fit(dataset[\"gender\"])\n",
        "dataset[\"gender\"]=encoder.transform(dataset[\"gender\"])\n",
        "encoder.fit(dataset[\"age\"])\n",
        "dataset[\"age\"]=encoder.transform(dataset[\"age\"])"
      ],
      "metadata": {
        "id": "DaTiEF8NxY6E"
      },
      "execution_count": null,
      "outputs": []
    },
    {
      "cell_type": "code",
      "source": [
        "x=np.array(dataset.drop(labels=[\"Approved_Conversion\",\"Total_Conversion\"], axis=1))\n",
        "y=np.array(dataset[\"Total_Conversion\"])"
      ],
      "metadata": {
        "id": "tMoKWzBuxkHv"
      },
      "execution_count": null,
      "outputs": []
    },
    {
      "cell_type": "code",
      "source": [
        "from sklearn.model_selection import train_test_split\n",
        "x_train, x_val, y_train, y_val = train_test_split(x,y,test_size=0.2, random_state=42)"
      ],
      "metadata": {
        "id": "utCyJUp4xqEF"
      },
      "execution_count": null,
      "outputs": []
    },
    {
      "cell_type": "code",
      "source": [
        "dtrain = xgb.DMatrix(x_train,y_train)\n",
        "dtest  = xgb.DMatrix(x_val,y_val)"
      ],
      "metadata": {
        "id": "WoZ6hatCxuW3"
      },
      "execution_count": null,
      "outputs": []
    },
    {
      "cell_type": "code",
      "source": [
        "def objective(trial):\n",
        "    params = {\n",
        "        \"subsample\": trial.suggest_discrete_uniform(\"subsample\", 0.6,1,0.1),\n",
        "        \"colsample_bytree\": trial.suggest_discrete_uniform(\"colsample_bytree\", 0.6,1,0.1),\n",
        "        \"eta\": trial.suggest_loguniform(\"eta\",1e-2,0.1),\n",
        "        \"gamma\": trial.suggest_loguniform(\"gamma\",0.05,1),\n",
        "        \"max_depth\": trial.suggest_categorical(\"max_depth\",[5,7,9,11,13]),\n",
        "        \"min_child_weight\": trial.suggest_int(\"min_child_weight\",5,11),\n",
        "        \"random_state\": 2021\n",
        "    }\n",
        "    return(return_rmse(params)) "
      ],
      "metadata": {
        "id": "9ReXRf3uyFgi"
      },
      "execution_count": null,
      "outputs": []
    },
    {
      "cell_type": "code",
      "source": [
        "import re\n",
        "def return_rmse(params):\n",
        "    model = xgb.train(params , dtrain, num_boost_round = 20, evals = [(dtest, 'eval')],\n",
        "          early_stopping_rounds=20,verbose_eval = 0)\n",
        "    result = model.eval(dtest)\n",
        "    result = np.float(re.search(r'[\\d.]+$',result).group(0))\n",
        "    print(result)\n",
        "    return(result)"
      ],
      "metadata": {
        "id": "v8BrzDZqyKkD"
      },
      "execution_count": null,
      "outputs": []
    },
    {
      "cell_type": "code",
      "source": [
        "study1 = optuna.create_study(direction='minimize',sampler=TPESampler())\n",
        "study1.optimize(objective, n_trials= 300,show_progress_bar = True)"
      ],
      "metadata": {
        "colab": {
          "base_uri": "https://localhost:8080/",
          "height": 1000,
          "referenced_widgets": [
            "5bef95b372814ff58f3ed5c1db0444c8",
            "5c07e8c594d84f8d8bf0ea977439c6ee",
            "557821832d5540a3a40aa851fca5d575",
            "99d4548003f14de59501c788037d9c84",
            "e98b19c5766243a29a4777c1a6141a2f",
            "071a4b7025f04e8c9c7ed57101590ff9",
            "6fe037a37c16471bb4850e656529f66d",
            "792c4a4775a0454d86918c573bafd402",
            "12a2fb710ebc442abd982f627822a252",
            "9098fc36c716402c99634bd7ea3d9b83",
            "2caf95d5a9f84500aa31100010598e92"
          ]
        },
        "id": "Zi-7eBreyKw5",
        "outputId": "5f5adea6-bfd3-42ec-c3ea-d9ec4df6be63"
      },
      "execution_count": null,
      "outputs": [
        {
          "output_type": "stream",
          "name": "stderr",
          "text": [
            "\u001b[32m[I 2022-01-02 12:34:43,711]\u001b[0m A new study created in memory with name: no-name-414ec676-be63-45a2-aa22-81e921ed1027\u001b[0m\n",
            "/usr/local/lib/python3.7/dist-packages/optuna/progress_bar.py:47: ExperimentalWarning:\n",
            "\n",
            "Progress bar is experimental (supported from v1.2.0). The interface can change in the future.\n",
            "\n"
          ]
        },
        {
          "output_type": "display_data",
          "data": {
            "application/vnd.jupyter.widget-view+json": {
              "model_id": "5bef95b372814ff58f3ed5c1db0444c8",
              "version_minor": 0,
              "version_major": 2
            },
            "text/plain": [
              "  0%|          | 0/300 [00:00<?, ?it/s]"
            ]
          },
          "metadata": {}
        },
        {
          "output_type": "stream",
          "name": "stdout",
          "text": [
            "2.985266\n",
            "\u001b[32m[I 2022-01-02 12:34:44,089]\u001b[0m Trial 0 finished with value: 2.985266 and parameters: {'subsample': 0.8, 'colsample_bytree': 0.6, 'eta': 0.040961075969176385, 'gamma': 0.7628135465409368, 'max_depth': 13, 'min_child_weight': 9}. Best is trial 0 with value: 2.985266.\u001b[0m\n",
            "3.792477\n",
            "\u001b[32m[I 2022-01-02 12:34:44,575]\u001b[0m Trial 1 finished with value: 3.792477 and parameters: {'subsample': 1.0, 'colsample_bytree': 0.9, 'eta': 0.0171500376120401, 'gamma': 0.7998029892707778, 'max_depth': 13, 'min_child_weight': 8}. Best is trial 0 with value: 2.985266.\u001b[0m\n",
            "4.130503\n",
            "\u001b[32m[I 2022-01-02 12:34:44,726]\u001b[0m Trial 2 finished with value: 4.130503 and parameters: {'subsample': 1.0, 'colsample_bytree': 1.0, 'eta': 0.011169424648604202, 'gamma': 0.3376555148818167, 'max_depth': 13, 'min_child_weight': 7}. Best is trial 0 with value: 2.985266.\u001b[0m\n",
            "3.233826\n",
            "\u001b[32m[I 2022-01-02 12:34:44,864]\u001b[0m Trial 3 finished with value: 3.233826 and parameters: {'subsample': 0.7, 'colsample_bytree': 0.9, 'eta': 0.03138035619585974, 'gamma': 0.10492799803079102, 'max_depth': 5, 'min_child_weight': 6}. Best is trial 0 with value: 2.985266.\u001b[0m\n",
            "3.051353\n",
            "\u001b[32m[I 2022-01-02 12:34:45,044]\u001b[0m Trial 4 finished with value: 3.051353 and parameters: {'subsample': 0.6, 'colsample_bytree': 1.0, 'eta': 0.040493682107025614, 'gamma': 0.49259722687297214, 'max_depth': 7, 'min_child_weight': 8}. Best is trial 0 with value: 2.985266.\u001b[0m\n",
            "2.738538\n",
            "\u001b[32m[I 2022-01-02 12:34:45,162]\u001b[0m Trial 5 finished with value: 2.738538 and parameters: {'subsample': 0.9, 'colsample_bytree': 0.8, 'eta': 0.04624207523935943, 'gamma': 0.2011290566934779, 'max_depth': 7, 'min_child_weight': 8}. Best is trial 5 with value: 2.738538.\u001b[0m\n",
            "3.579927\n",
            "\u001b[32m[I 2022-01-02 12:34:45,283]\u001b[0m Trial 6 finished with value: 3.579927 and parameters: {'subsample': 0.8, 'colsample_bytree': 0.6, 'eta': 0.02356525911157153, 'gamma': 0.12253135334243741, 'max_depth': 13, 'min_child_weight': 8}. Best is trial 5 with value: 2.738538.\u001b[0m\n",
            "3.51836\n",
            "\u001b[32m[I 2022-01-02 12:34:45,455]\u001b[0m Trial 7 finished with value: 3.51836 and parameters: {'subsample': 0.6, 'colsample_bytree': 0.9, 'eta': 0.026500761647997348, 'gamma': 0.06175696830835892, 'max_depth': 9, 'min_child_weight': 9}. Best is trial 5 with value: 2.738538.\u001b[0m\n",
            "3.483\n",
            "\u001b[32m[I 2022-01-02 12:34:45,599]\u001b[0m Trial 8 finished with value: 3.483 and parameters: {'subsample': 0.8, 'colsample_bytree': 1.0, 'eta': 0.024959824291896016, 'gamma': 0.5819427453267583, 'max_depth': 7, 'min_child_weight': 6}. Best is trial 5 with value: 2.738538.\u001b[0m\n",
            "2.179006\n",
            "\u001b[32m[I 2022-01-02 12:34:45,783]\u001b[0m Trial 9 finished with value: 2.179006 and parameters: {'subsample': 1.0, 'colsample_bytree': 1.0, 'eta': 0.0999799229062404, 'gamma': 0.3520877326755266, 'max_depth': 13, 'min_child_weight': 7}. Best is trial 9 with value: 2.179006.\u001b[0m\n",
            "2.231592\n",
            "\u001b[32m[I 2022-01-02 12:34:46,071]\u001b[0m Trial 10 finished with value: 2.231592 and parameters: {'subsample': 0.9, 'colsample_bytree': 0.7, 'eta': 0.09269954297465516, 'gamma': 0.2731609375520014, 'max_depth': 11, 'min_child_weight': 11}. Best is trial 9 with value: 2.179006.\u001b[0m\n",
            "2.205654\n",
            "\u001b[32m[I 2022-01-02 12:34:46,201]\u001b[0m Trial 11 finished with value: 2.205654 and parameters: {'subsample': 0.9, 'colsample_bytree': 0.7, 'eta': 0.09656786919602292, 'gamma': 0.26847479450983003, 'max_depth': 11, 'min_child_weight': 11}. Best is trial 9 with value: 2.179006.\u001b[0m\n",
            "2.185811\n",
            "\u001b[32m[I 2022-01-02 12:34:46,450]\u001b[0m Trial 12 finished with value: 2.185811 and parameters: {'subsample': 0.9, 'colsample_bytree': 0.7, 'eta': 0.09564657778442026, 'gamma': 0.18662534633038283, 'max_depth': 11, 'min_child_weight': 11}. Best is trial 9 with value: 2.179006.\u001b[0m\n",
            "2.301942\n",
            "\u001b[32m[I 2022-01-02 12:34:46,692]\u001b[0m Trial 13 finished with value: 2.301942 and parameters: {'subsample': 1.0, 'colsample_bytree': 0.7, 'eta': 0.0682963303986895, 'gamma': 0.15995823959160074, 'max_depth': 11, 'min_child_weight': 5}. Best is trial 9 with value: 2.179006.\u001b[0m\n",
            "2.42031\n",
            "\u001b[32m[I 2022-01-02 12:34:46,966]\u001b[0m Trial 14 finished with value: 2.42031 and parameters: {'subsample': 0.9, 'colsample_bytree': 0.8, 'eta': 0.06494743284702299, 'gamma': 0.38247729392947316, 'max_depth': 9, 'min_child_weight': 10}. Best is trial 9 with value: 2.179006.\u001b[0m\n",
            "2.394969\n",
            "\u001b[32m[I 2022-01-02 12:34:47,088]\u001b[0m Trial 15 finished with value: 2.394969 and parameters: {'subsample': 1.0, 'colsample_bytree': 0.7, 'eta': 0.06588800918661539, 'gamma': 0.06652345262727555, 'max_depth': 5, 'min_child_weight': 10}. Best is trial 9 with value: 2.179006.\u001b[0m\n",
            "2.118473\n",
            "\u001b[32m[I 2022-01-02 12:34:47,257]\u001b[0m Trial 16 finished with value: 2.118473 and parameters: {'subsample': 0.9, 'colsample_bytree': 0.8, 'eta': 0.0986084690587125, 'gamma': 0.16176606607184618, 'max_depth': 11, 'min_child_weight': 7}. Best is trial 16 with value: 2.118473.\u001b[0m\n",
            "2.680537\n",
            "\u001b[32m[I 2022-01-02 12:34:47,392]\u001b[0m Trial 17 finished with value: 2.680537 and parameters: {'subsample': 0.7, 'colsample_bytree': 0.9, 'eta': 0.05428440932945672, 'gamma': 0.10134281601541086, 'max_depth': 13, 'min_child_weight': 7}. Best is trial 16 with value: 2.118473.\u001b[0m\n",
            "2.210996\n",
            "\u001b[32m[I 2022-01-02 12:34:47,507]\u001b[0m Trial 18 finished with value: 2.210996 and parameters: {'subsample': 1.0, 'colsample_bytree': 0.8, 'eta': 0.0781377453777134, 'gamma': 0.14281025967491756, 'max_depth': 11, 'min_child_weight': 5}. Best is trial 16 with value: 2.118473.\u001b[0m\n",
            "2.568333\n",
            "\u001b[32m[I 2022-01-02 12:34:47,569]\u001b[0m Trial 19 finished with value: 2.568333 and parameters: {'subsample': 0.9, 'colsample_bytree': 0.8, 'eta': 0.053282892756272134, 'gamma': 0.494790604571054, 'max_depth': 9, 'min_child_weight': 7}. Best is trial 16 with value: 2.118473.\u001b[0m\n",
            "3.845463\n",
            "\u001b[32m[I 2022-01-02 12:34:47,615]\u001b[0m Trial 20 finished with value: 3.845463 and parameters: {'subsample': 0.8, 'colsample_bytree': 0.9, 'eta': 0.017048841012013233, 'gamma': 0.9912760423162136, 'max_depth': 5, 'min_child_weight': 6}. Best is trial 16 with value: 2.118473.\u001b[0m\n",
            "2.122862\n",
            "\u001b[32m[I 2022-01-02 12:34:47,696]\u001b[0m Trial 21 finished with value: 2.122862 and parameters: {'subsample': 0.9, 'colsample_bytree': 0.7, 'eta': 0.09412479785052746, 'gamma': 0.19919048697355404, 'max_depth': 11, 'min_child_weight': 7}. Best is trial 16 with value: 2.118473.\u001b[0m\n",
            "2.265936\n",
            "\u001b[32m[I 2022-01-02 12:34:47,757]\u001b[0m Trial 22 finished with value: 2.265936 and parameters: {'subsample': 1.0, 'colsample_bytree': 0.6, 'eta': 0.07829267493681381, 'gamma': 0.2451553902854717, 'max_depth': 11, 'min_child_weight': 7}. Best is trial 16 with value: 2.118473.\u001b[0m\n",
            "2.205614\n",
            "\u001b[32m[I 2022-01-02 12:34:47,835]\u001b[0m Trial 23 finished with value: 2.205614 and parameters: {'subsample': 0.9, 'colsample_bytree': 0.8, 'eta': 0.08000172504065263, 'gamma': 0.3540334297656606, 'max_depth': 11, 'min_child_weight': 6}. Best is trial 16 with value: 2.118473.\u001b[0m\n",
            "2.190467\n",
            "\u001b[32m[I 2022-01-02 12:34:47,893]\u001b[0m Trial 24 finished with value: 2.190467 and parameters: {'subsample': 1.0, 'colsample_bytree': 0.7, 'eta': 0.09968174727818632, 'gamma': 0.07811964566993905, 'max_depth': 11, 'min_child_weight': 7}. Best is trial 16 with value: 2.118473.\u001b[0m\n",
            "2.430776\n",
            "\u001b[32m[I 2022-01-02 12:34:47,973]\u001b[0m Trial 25 finished with value: 2.430776 and parameters: {'subsample': 0.9, 'colsample_bytree': 0.8, 'eta': 0.06213142082769866, 'gamma': 0.16299616731553176, 'max_depth': 13, 'min_child_weight': 9}. Best is trial 16 with value: 2.118473.\u001b[0m\n",
            "2.286049\n",
            "\u001b[32m[I 2022-01-02 12:34:48,041]\u001b[0m Trial 26 finished with value: 2.286049 and parameters: {'subsample': 0.8, 'colsample_bytree': 1.0, 'eta': 0.07807119700900458, 'gamma': 0.21755669894213425, 'max_depth': 11, 'min_child_weight': 6}. Best is trial 16 with value: 2.118473.\u001b[0m\n",
            "2.22426\n",
            "\u001b[32m[I 2022-01-02 12:34:48,140]\u001b[0m Trial 27 finished with value: 2.22426 and parameters: {'subsample': 0.9, 'colsample_bytree': 0.9, 'eta': 0.08147331150989065, 'gamma': 0.05009481106129243, 'max_depth': 11, 'min_child_weight': 7}. Best is trial 16 with value: 2.118473.\u001b[0m\n",
            "2.556319\n",
            "\u001b[32m[I 2022-01-02 12:34:48,211]\u001b[0m Trial 28 finished with value: 2.556319 and parameters: {'subsample': 1.0, 'colsample_bytree': 0.8, 'eta': 0.052090982399240794, 'gamma': 0.31575857954184705, 'max_depth': 13, 'min_child_weight': 5}. Best is trial 16 with value: 2.118473.\u001b[0m\n",
            "3.088904\n",
            "\u001b[32m[I 2022-01-02 12:34:48,282]\u001b[0m Trial 29 finished with value: 3.088904 and parameters: {'subsample': 0.7, 'colsample_bytree': 0.6, 'eta': 0.0391360773249419, 'gamma': 0.4125251384043766, 'max_depth': 13, 'min_child_weight': 9}. Best is trial 16 with value: 2.118473.\u001b[0m\n",
            "2.313893\n",
            "\u001b[32m[I 2022-01-02 12:34:48,343]\u001b[0m Trial 30 finished with value: 2.313893 and parameters: {'subsample': 0.8, 'colsample_bytree': 0.7, 'eta': 0.08478531090535181, 'gamma': 0.12241150105258726, 'max_depth': 7, 'min_child_weight': 8}. Best is trial 16 with value: 2.118473.\u001b[0m\n",
            "2.234145\n",
            "\u001b[32m[I 2022-01-02 12:34:48,434]\u001b[0m Trial 31 finished with value: 2.234145 and parameters: {'subsample': 0.9, 'colsample_bytree': 0.7, 'eta': 0.09057659181173935, 'gamma': 0.19504134643748394, 'max_depth': 11, 'min_child_weight': 10}. Best is trial 16 with value: 2.118473.\u001b[0m\n",
            "2.333842\n",
            "\u001b[32m[I 2022-01-02 12:34:48,505]\u001b[0m Trial 32 finished with value: 2.333842 and parameters: {'subsample': 0.9, 'colsample_bytree': 0.6, 'eta': 0.07166051961040404, 'gamma': 0.1814086802306973, 'max_depth': 11, 'min_child_weight': 8}. Best is trial 16 with value: 2.118473.\u001b[0m\n",
            "2.205557\n",
            "\u001b[32m[I 2022-01-02 12:34:48,593]\u001b[0m Trial 33 finished with value: 2.205557 and parameters: {'subsample': 1.0, 'colsample_bytree': 0.7, 'eta': 0.09714810632208785, 'gamma': 0.28890748811900757, 'max_depth': 11, 'min_child_weight': 7}. Best is trial 16 with value: 2.118473.\u001b[0m\n",
            "2.48748\n",
            "\u001b[32m[I 2022-01-02 12:34:48,660]\u001b[0m Trial 34 finished with value: 2.48748 and parameters: {'subsample': 0.9, 'colsample_bytree': 0.7, 'eta': 0.05931559333169261, 'gamma': 0.22568813405796598, 'max_depth': 11, 'min_child_weight': 7}. Best is trial 16 with value: 2.118473.\u001b[0m\n",
            "4.186577\n",
            "\u001b[32m[I 2022-01-02 12:34:48,734]\u001b[0m Trial 35 finished with value: 4.186577 and parameters: {'subsample': 1.0, 'colsample_bytree': 0.6, 'eta': 0.010706058567772717, 'gamma': 0.1284498863364011, 'max_depth': 13, 'min_child_weight': 6}. Best is trial 16 with value: 2.118473.\u001b[0m\n",
            "3.138049\n",
            "\u001b[32m[I 2022-01-02 12:34:48,788]\u001b[0m Trial 36 finished with value: 3.138049 and parameters: {'subsample': 0.8, 'colsample_bytree': 0.9, 'eta': 0.034375531000247594, 'gamma': 0.09613479640551006, 'max_depth': 5, 'min_child_weight': 8}. Best is trial 16 with value: 2.118473.\u001b[0m\n",
            "4.037329\n",
            "\u001b[32m[I 2022-01-02 12:34:48,873]\u001b[0m Trial 37 finished with value: 4.037329 and parameters: {'subsample': 0.7, 'colsample_bytree': 1.0, 'eta': 0.014000516163622427, 'gamma': 0.6239498841070561, 'max_depth': 11, 'min_child_weight': 8}. Best is trial 16 with value: 2.118473.\u001b[0m\n",
            "2.744897\n",
            "\u001b[32m[I 2022-01-02 12:34:48,934]\u001b[0m Trial 38 finished with value: 2.744897 and parameters: {'subsample': 0.9, 'colsample_bytree': 0.8, 'eta': 0.045772675194698034, 'gamma': 0.17047338840945472, 'max_depth': 9, 'min_child_weight': 7}. Best is trial 16 with value: 2.118473.\u001b[0m\n",
            "2.296211\n",
            "\u001b[32m[I 2022-01-02 12:34:49,015]\u001b[0m Trial 39 finished with value: 2.296211 and parameters: {'subsample': 1.0, 'colsample_bytree': 0.8, 'eta': 0.07315534098113112, 'gamma': 0.13984743251200457, 'max_depth': 13, 'min_child_weight': 9}. Best is trial 16 with value: 2.118473.\u001b[0m\n",
            "2.254622\n",
            "\u001b[32m[I 2022-01-02 12:34:49,070]\u001b[0m Trial 40 finished with value: 2.254622 and parameters: {'subsample': 0.9, 'colsample_bytree': 0.9, 'eta': 0.08721390897613979, 'gamma': 0.4374333243198178, 'max_depth': 7, 'min_child_weight': 11}. Best is trial 16 with value: 2.118473.\u001b[0m\n",
            "2.177143\n",
            "\u001b[32m[I 2022-01-02 12:34:49,166]\u001b[0m Trial 41 finished with value: 2.177143 and parameters: {'subsample': 1.0, 'colsample_bytree': 0.7, 'eta': 0.09884030261309575, 'gamma': 0.08024429716803293, 'max_depth': 11, 'min_child_weight': 7}. Best is trial 16 with value: 2.118473.\u001b[0m\n",
            "2.162382\n",
            "\u001b[32m[I 2022-01-02 12:34:49,227]\u001b[0m Trial 42 finished with value: 2.162382 and parameters: {'subsample': 1.0, 'colsample_bytree': 0.7, 'eta': 0.09998214736537751, 'gamma': 0.0888817089771185, 'max_depth': 11, 'min_child_weight': 6}. Best is trial 16 with value: 2.118473.\u001b[0m\n",
            "2.156752\n",
            "\u001b[32m[I 2022-01-02 12:34:49,302]\u001b[0m Trial 43 finished with value: 2.156752 and parameters: {'subsample': 1.0, 'colsample_bytree': 0.7, 'eta': 0.09991312532659795, 'gamma': 0.06893730671688468, 'max_depth': 11, 'min_child_weight': 6}. Best is trial 16 with value: 2.118473.\u001b[0m\n",
            "2.236821\n",
            "\u001b[32m[I 2022-01-02 12:34:49,361]\u001b[0m Trial 44 finished with value: 2.236821 and parameters: {'subsample': 1.0, 'colsample_bytree': 0.7, 'eta': 0.08669874664716459, 'gamma': 0.08286094221799123, 'max_depth': 11, 'min_child_weight': 6}. Best is trial 16 with value: 2.118473.\u001b[0m\n",
            "2.317074\n",
            "\u001b[32m[I 2022-01-02 12:34:49,445]\u001b[0m Trial 45 finished with value: 2.317074 and parameters: {'subsample': 1.0, 'colsample_bytree': 0.6, 'eta': 0.07215070387366705, 'gamma': 0.055705387564672575, 'max_depth': 11, 'min_child_weight': 6}. Best is trial 16 with value: 2.118473.\u001b[0m\n",
            "2.160131\n",
            "\u001b[32m[I 2022-01-02 12:34:49,505]\u001b[0m Trial 46 finished with value: 2.160131 and parameters: {'subsample': 1.0, 'colsample_bytree': 0.7, 'eta': 0.08884113024144985, 'gamma': 0.07435581402525776, 'max_depth': 11, 'min_child_weight': 5}. Best is trial 16 with value: 2.118473.\u001b[0m\n",
            "3.597938\n",
            "\u001b[32m[I 2022-01-02 12:34:49,601]\u001b[0m Trial 47 finished with value: 3.597938 and parameters: {'subsample': 1.0, 'colsample_bytree': 0.7, 'eta': 0.021715474222882124, 'gamma': 0.07007723709325725, 'max_depth': 11, 'min_child_weight': 5}. Best is trial 16 with value: 2.118473.\u001b[0m\n",
            "2.145065\n",
            "\u001b[32m[I 2022-01-02 12:34:49,667]\u001b[0m Trial 48 finished with value: 2.145065 and parameters: {'subsample': 1.0, 'colsample_bytree': 0.7, 'eta': 0.08939585667372088, 'gamma': 0.0928160274738139, 'max_depth': 11, 'min_child_weight': 5}. Best is trial 16 with value: 2.118473.\u001b[0m\n",
            "2.496898\n",
            "\u001b[32m[I 2022-01-02 12:34:49,738]\u001b[0m Trial 49 finished with value: 2.496898 and parameters: {'subsample': 1.0, 'colsample_bytree': 0.6, 'eta': 0.05907878674016209, 'gamma': 0.1056561157159652, 'max_depth': 11, 'min_child_weight': 5}. Best is trial 16 with value: 2.118473.\u001b[0m\n",
            "2.10181\n",
            "\u001b[32m[I 2022-01-02 12:34:49,798]\u001b[0m Trial 50 finished with value: 2.10181 and parameters: {'subsample': 0.6, 'colsample_bytree': 0.8, 'eta': 0.09015234292287795, 'gamma': 0.11184563586849562, 'max_depth': 7, 'min_child_weight': 5}. Best is trial 50 with value: 2.10181.\u001b[0m\n",
            "2.147617\n",
            "\u001b[32m[I 2022-01-02 12:34:49,875]\u001b[0m Trial 51 finished with value: 2.147617 and parameters: {'subsample': 0.6, 'colsample_bytree': 0.8, 'eta': 0.0874822613705812, 'gamma': 0.11524852883505682, 'max_depth': 7, 'min_child_weight': 5}. Best is trial 50 with value: 2.10181.\u001b[0m\n",
            "2.348732\n",
            "\u001b[32m[I 2022-01-02 12:34:49,927]\u001b[0m Trial 52 finished with value: 2.348732 and parameters: {'subsample': 0.6, 'colsample_bytree': 0.8, 'eta': 0.07297213820815303, 'gamma': 0.11544668726921858, 'max_depth': 7, 'min_child_weight': 5}. Best is trial 50 with value: 2.10181.\u001b[0m\n",
            "2.161562\n",
            "\u001b[32m[I 2022-01-02 12:34:50,002]\u001b[0m Trial 53 finished with value: 2.161562 and parameters: {'subsample': 0.6, 'colsample_bytree': 0.8, 'eta': 0.08716624419128238, 'gamma': 0.1441082639560704, 'max_depth': 7, 'min_child_weight': 5}. Best is trial 50 with value: 2.10181.\u001b[0m\n",
            "2.426756\n",
            "\u001b[32m[I 2022-01-02 12:34:50,055]\u001b[0m Trial 54 finished with value: 2.426756 and parameters: {'subsample': 0.6, 'colsample_bytree': 0.8, 'eta': 0.06690443206070483, 'gamma': 0.10923700007727634, 'max_depth': 7, 'min_child_weight': 5}. Best is trial 50 with value: 2.10181.\u001b[0m\n",
            "2.313961\n",
            "\u001b[32m[I 2022-01-02 12:34:50,146]\u001b[0m Trial 55 finished with value: 2.313961 and parameters: {'subsample': 0.6, 'colsample_bytree': 0.8, 'eta': 0.08012037318188762, 'gamma': 0.060397872262167855, 'max_depth': 7, 'min_child_weight': 6}. Best is trial 50 with value: 2.10181.\u001b[0m\n",
            "2.090077\n",
            "\u001b[32m[I 2022-01-02 12:34:50,200]\u001b[0m Trial 56 finished with value: 2.090077 and parameters: {'subsample': 0.7, 'colsample_bytree': 0.8, 'eta': 0.09116342557342257, 'gamma': 0.09523826406401302, 'max_depth': 7, 'min_child_weight': 5}. Best is trial 56 with value: 2.090077.\u001b[0m\n",
            "2.087003\n",
            "\u001b[32m[I 2022-01-02 12:34:50,275]\u001b[0m Trial 57 finished with value: 2.087003 and parameters: {'subsample': 0.7, 'colsample_bytree': 0.8, 'eta': 0.09097709209606036, 'gamma': 0.14556234546919203, 'max_depth': 7, 'min_child_weight': 5}. Best is trial 57 with value: 2.087003.\u001b[0m\n",
            "2.280182\n",
            "\u001b[32m[I 2022-01-02 12:34:50,329]\u001b[0m Trial 58 finished with value: 2.280182 and parameters: {'subsample': 0.7, 'colsample_bytree': 0.8, 'eta': 0.07479209337307771, 'gamma': 0.1546195555958756, 'max_depth': 7, 'min_child_weight': 5}. Best is trial 57 with value: 2.087003.\u001b[0m\n",
            "2.412654\n",
            "\u001b[32m[I 2022-01-02 12:34:50,404]\u001b[0m Trial 59 finished with value: 2.412654 and parameters: {'subsample': 0.7, 'colsample_bytree': 0.8, 'eta': 0.0666552900610337, 'gamma': 0.09365319783375786, 'max_depth': 7, 'min_child_weight': 5}. Best is trial 57 with value: 2.087003.\u001b[0m\n",
            "3.321952\n",
            "\u001b[32m[I 2022-01-02 12:34:50,458]\u001b[0m Trial 60 finished with value: 3.321952 and parameters: {'subsample': 0.8, 'colsample_bytree': 0.9, 'eta': 0.028657309734320787, 'gamma': 0.12949403034184623, 'max_depth': 7, 'min_child_weight': 5}. Best is trial 57 with value: 2.087003.\u001b[0m\n",
            "2.123\n",
            "\u001b[32m[I 2022-01-02 12:34:50,534]\u001b[0m Trial 61 finished with value: 2.123 and parameters: {'subsample': 0.6, 'colsample_bytree': 0.8, 'eta': 0.09246127940816294, 'gamma': 0.11455452914244771, 'max_depth': 7, 'min_child_weight': 5}. Best is trial 57 with value: 2.087003.\u001b[0m\n",
            "2.086071\n",
            "\u001b[32m[I 2022-01-02 12:34:50,586]\u001b[0m Trial 62 finished with value: 2.086071 and parameters: {'subsample': 0.7, 'colsample_bytree': 0.8, 'eta': 0.09103938225965645, 'gamma': 0.14422431126865037, 'max_depth': 7, 'min_child_weight': 5}. Best is trial 62 with value: 2.086071.\u001b[0m\n",
            "2.249856\n",
            "\u001b[32m[I 2022-01-02 12:34:50,659]\u001b[0m Trial 63 finished with value: 2.249856 and parameters: {'subsample': 0.7, 'colsample_bytree': 0.8, 'eta': 0.08157145683348811, 'gamma': 0.2038086487252862, 'max_depth': 7, 'min_child_weight': 6}. Best is trial 62 with value: 2.086071.\u001b[0m\n",
            "2.119541\n",
            "\u001b[32m[I 2022-01-02 12:34:50,718]\u001b[0m Trial 64 finished with value: 2.119541 and parameters: {'subsample': 0.7, 'colsample_bytree': 0.9, 'eta': 0.0921340223469103, 'gamma': 0.14431976254973844, 'max_depth': 7, 'min_child_weight': 5}. Best is trial 62 with value: 2.086071.\u001b[0m\n",
            "2.223858\n",
            "\u001b[32m[I 2022-01-02 12:34:50,793]\u001b[0m Trial 65 finished with value: 2.223858 and parameters: {'subsample': 0.7, 'colsample_bytree': 0.9, 'eta': 0.07705865954952354, 'gamma': 0.14968645845689282, 'max_depth': 7, 'min_child_weight': 5}. Best is trial 62 with value: 2.086071.\u001b[0m\n",
            "2.197385\n",
            "\u001b[32m[I 2022-01-02 12:34:50,848]\u001b[0m Trial 66 finished with value: 2.197385 and parameters: {'subsample': 0.7, 'colsample_bytree': 0.9, 'eta': 0.0927523811675155, 'gamma': 0.1693817995374565, 'max_depth': 7, 'min_child_weight': 6}. Best is trial 62 with value: 2.086071.\u001b[0m\n",
            "2.163518\n",
            "\u001b[32m[I 2022-01-02 12:34:50,926]\u001b[0m Trial 67 finished with value: 2.163518 and parameters: {'subsample': 0.7, 'colsample_bytree': 0.8, 'eta': 0.08266920892865053, 'gamma': 0.24461375139735145, 'max_depth': 7, 'min_child_weight': 5}. Best is trial 62 with value: 2.086071.\u001b[0m\n",
            "2.327391\n",
            "\u001b[32m[I 2022-01-02 12:34:50,976]\u001b[0m Trial 68 finished with value: 2.327391 and parameters: {'subsample': 0.8, 'colsample_bytree': 0.9, 'eta': 0.0694998665237915, 'gamma': 0.13648533304516333, 'max_depth': 5, 'min_child_weight': 6}. Best is trial 62 with value: 2.086071.\u001b[0m\n",
            "2.522727\n",
            "\u001b[32m[I 2022-01-02 12:34:51,057]\u001b[0m Trial 69 finished with value: 2.522727 and parameters: {'subsample': 0.7, 'colsample_bytree': 0.8, 'eta': 0.05716229645433787, 'gamma': 0.178978175311725, 'max_depth': 9, 'min_child_weight': 5}. Best is trial 62 with value: 2.086071.\u001b[0m\n",
            "2.463166\n",
            "\u001b[32m[I 2022-01-02 12:34:51,115]\u001b[0m Trial 70 finished with value: 2.463166 and parameters: {'subsample': 0.7, 'colsample_bytree': 0.8, 'eta': 0.06338298641971736, 'gamma': 0.2134292349843545, 'max_depth': 7, 'min_child_weight': 5}. Best is trial 62 with value: 2.086071.\u001b[0m\n",
            "2.099826\n",
            "\u001b[32m[I 2022-01-02 12:34:51,201]\u001b[0m Trial 71 finished with value: 2.099826 and parameters: {'subsample': 0.6, 'colsample_bytree': 0.8, 'eta': 0.09300864317752322, 'gamma': 0.12852279370013053, 'max_depth': 7, 'min_child_weight': 5}. Best is trial 62 with value: 2.086071.\u001b[0m\n",
            "2.091511\n",
            "\u001b[32m[I 2022-01-02 12:34:51,255]\u001b[0m Trial 72 finished with value: 2.091511 and parameters: {'subsample': 0.6, 'colsample_bytree': 0.8, 'eta': 0.09370372303596397, 'gamma': 0.12844276033837393, 'max_depth': 7, 'min_child_weight': 5}. Best is trial 62 with value: 2.086071.\u001b[0m\n",
            "2.219654\n",
            "\u001b[32m[I 2022-01-02 12:34:51,326]\u001b[0m Trial 73 finished with value: 2.219654 and parameters: {'subsample': 0.6, 'colsample_bytree': 0.8, 'eta': 0.08446391352515338, 'gamma': 0.12510174950623126, 'max_depth': 7, 'min_child_weight': 5}. Best is trial 62 with value: 2.086071.\u001b[0m\n",
            "2.301039\n",
            "\u001b[32m[I 2022-01-02 12:34:51,379]\u001b[0m Trial 74 finished with value: 2.301039 and parameters: {'subsample': 0.6, 'colsample_bytree': 0.8, 'eta': 0.07711920542106634, 'gamma': 0.10187945175009781, 'max_depth': 7, 'min_child_weight': 5}. Best is trial 62 with value: 2.086071.\u001b[0m\n",
            "2.10258\n",
            "\u001b[32m[I 2022-01-02 12:34:51,467]\u001b[0m Trial 75 finished with value: 2.10258 and parameters: {'subsample': 0.6, 'colsample_bytree': 0.8, 'eta': 0.0943133981055982, 'gamma': 0.16155495856142033, 'max_depth': 7, 'min_child_weight': 5}. Best is trial 62 with value: 2.086071.\u001b[0m\n",
            "2.239296\n",
            "\u001b[32m[I 2022-01-02 12:34:51,520]\u001b[0m Trial 76 finished with value: 2.239296 and parameters: {'subsample': 0.6, 'colsample_bytree': 0.8, 'eta': 0.09337335051598865, 'gamma': 0.16016507907984404, 'max_depth': 7, 'min_child_weight': 6}. Best is trial 62 with value: 2.086071.\u001b[0m\n",
            "2.220011\n",
            "\u001b[32m[I 2022-01-02 12:34:51,605]\u001b[0m Trial 77 finished with value: 2.220011 and parameters: {'subsample': 0.6, 'colsample_bytree': 0.8, 'eta': 0.0836072604207765, 'gamma': 0.18477451887027904, 'max_depth': 7, 'min_child_weight': 5}. Best is trial 62 with value: 2.086071.\u001b[0m\n",
            "2.094691\n",
            "\u001b[32m[I 2022-01-02 12:34:51,660]\u001b[0m Trial 78 finished with value: 2.094691 and parameters: {'subsample': 0.6, 'colsample_bytree': 0.8, 'eta': 0.09465542374860215, 'gamma': 0.13197247471714846, 'max_depth': 7, 'min_child_weight': 5}. Best is trial 62 with value: 2.086071.\u001b[0m\n",
            "3.655996\n",
            "\u001b[32m[I 2022-01-02 12:34:51,735]\u001b[0m Trial 79 finished with value: 3.655996 and parameters: {'subsample': 0.6, 'colsample_bytree': 0.8, 'eta': 0.021916750405142328, 'gamma': 0.13426605209550696, 'max_depth': 7, 'min_child_weight': 5}. Best is trial 62 with value: 2.086071.\u001b[0m\n",
            "2.124639\n",
            "\u001b[32m[I 2022-01-02 12:34:51,794]\u001b[0m Trial 80 finished with value: 2.124639 and parameters: {'subsample': 0.6, 'colsample_bytree': 0.8, 'eta': 0.09476895784600738, 'gamma': 0.120114802732556, 'max_depth': 7, 'min_child_weight': 5}. Best is trial 62 with value: 2.086071.\u001b[0m\n",
            "2.267279\n",
            "\u001b[32m[I 2022-01-02 12:34:51,867]\u001b[0m Trial 81 finished with value: 2.267279 and parameters: {'subsample': 0.6, 'colsample_bytree': 0.8, 'eta': 0.0810281664320373, 'gamma': 0.1568499814904353, 'max_depth': 7, 'min_child_weight': 5}. Best is trial 62 with value: 2.086071.\u001b[0m\n",
            "2.131461\n",
            "\u001b[32m[I 2022-01-02 12:34:51,924]\u001b[0m Trial 82 finished with value: 2.131461 and parameters: {'subsample': 0.6, 'colsample_bytree': 0.8, 'eta': 0.09980661989200258, 'gamma': 0.10819724856838187, 'max_depth': 7, 'min_child_weight': 5}. Best is trial 62 with value: 2.086071.\u001b[0m\n",
            "2.233961\n",
            "\u001b[32m[I 2022-01-02 12:34:52,003]\u001b[0m Trial 83 finished with value: 2.233961 and parameters: {'subsample': 0.6, 'colsample_bytree': 0.8, 'eta': 0.0912183532405431, 'gamma': 0.08564773902924377, 'max_depth': 7, 'min_child_weight': 6}. Best is trial 62 with value: 2.086071.\u001b[0m\n",
            "2.321342\n",
            "\u001b[32m[I 2022-01-02 12:34:52,053]\u001b[0m Trial 84 finished with value: 2.321342 and parameters: {'subsample': 0.6, 'colsample_bytree': 0.8, 'eta': 0.07659135180242345, 'gamma': 0.13007929605174137, 'max_depth': 5, 'min_child_weight': 5}. Best is trial 62 with value: 2.086071.\u001b[0m\n",
            "2.158895\n",
            "\u001b[32m[I 2022-01-02 12:34:52,130]\u001b[0m Trial 85 finished with value: 2.158895 and parameters: {'subsample': 0.6, 'colsample_bytree': 0.8, 'eta': 0.0855648804754888, 'gamma': 0.09803209502768137, 'max_depth': 9, 'min_child_weight': 5}. Best is trial 62 with value: 2.086071.\u001b[0m\n",
            "2.246044\n",
            "\u001b[32m[I 2022-01-02 12:34:52,207]\u001b[0m Trial 86 finished with value: 2.246044 and parameters: {'subsample': 0.6, 'colsample_bytree': 0.8, 'eta': 0.09560873816297945, 'gamma': 0.1734326200724796, 'max_depth': 7, 'min_child_weight': 6}. Best is trial 62 with value: 2.086071.\u001b[0m\n",
            "2.717937\n",
            "\u001b[32m[I 2022-01-02 12:34:52,279]\u001b[0m Trial 87 finished with value: 2.717937 and parameters: {'subsample': 0.7, 'colsample_bytree': 0.8, 'eta': 0.048540292393004746, 'gamma': 0.14591201737476894, 'max_depth': 7, 'min_child_weight': 5}. Best is trial 62 with value: 2.086071.\u001b[0m\n",
            "2.408408\n",
            "\u001b[32m[I 2022-01-02 12:34:52,333]\u001b[0m Trial 88 finished with value: 2.408408 and parameters: {'subsample': 0.6, 'colsample_bytree': 0.8, 'eta': 0.0688645385175066, 'gamma': 0.12315802646724873, 'max_depth': 7, 'min_child_weight': 5}. Best is trial 62 with value: 2.086071.\u001b[0m\n",
            "4.119678\n",
            "\u001b[32m[I 2022-01-02 12:34:52,404]\u001b[0m Trial 89 finished with value: 4.119678 and parameters: {'subsample': 0.8, 'colsample_bytree': 0.8, 'eta': 0.012390334932775117, 'gamma': 0.11056448319773629, 'max_depth': 7, 'min_child_weight': 9}. Best is trial 62 with value: 2.086071.\u001b[0m\n",
            "2.191224\n",
            "\u001b[32m[I 2022-01-02 12:34:52,464]\u001b[0m Trial 90 finished with value: 2.191224 and parameters: {'subsample': 0.7, 'colsample_bytree': 0.8, 'eta': 0.08818217147114175, 'gamma': 0.19057656356776145, 'max_depth': 7, 'min_child_weight': 6}. Best is trial 62 with value: 2.086071.\u001b[0m\n",
            "2.087963\n",
            "\u001b[32m[I 2022-01-02 12:34:52,533]\u001b[0m Trial 91 finished with value: 2.087963 and parameters: {'subsample': 0.7, 'colsample_bytree': 0.8, 'eta': 0.09301004973709087, 'gamma': 0.14015353707935693, 'max_depth': 7, 'min_child_weight': 5}. Best is trial 62 with value: 2.086071.\u001b[0m\n",
            "2.061249\n",
            "\u001b[32m[I 2022-01-02 12:34:52,588]\u001b[0m Trial 92 finished with value: 2.061249 and parameters: {'subsample': 0.7, 'colsample_bytree': 0.8, 'eta': 0.0954780001374494, 'gamma': 0.16385205231058328, 'max_depth': 7, 'min_child_weight': 5}. Best is trial 92 with value: 2.061249.\u001b[0m\n",
            "2.068274\n",
            "\u001b[32m[I 2022-01-02 12:34:52,661]\u001b[0m Trial 93 finished with value: 2.068274 and parameters: {'subsample': 0.7, 'colsample_bytree': 0.8, 'eta': 0.09410948553801685, 'gamma': 0.13552029526887738, 'max_depth': 7, 'min_child_weight': 5}. Best is trial 92 with value: 2.061249.\u001b[0m\n",
            "2.158347\n",
            "\u001b[32m[I 2022-01-02 12:34:52,722]\u001b[0m Trial 94 finished with value: 2.158347 and parameters: {'subsample': 0.7, 'colsample_bytree': 0.8, 'eta': 0.08242755574723452, 'gamma': 0.13668938576742728, 'max_depth': 7, 'min_child_weight': 5}. Best is trial 92 with value: 2.061249.\u001b[0m\n",
            "2.124595\n",
            "\u001b[32m[I 2022-01-02 12:34:52,805]\u001b[0m Trial 95 finished with value: 2.124595 and parameters: {'subsample': 0.7, 'colsample_bytree': 0.8, 'eta': 0.0886799221388332, 'gamma': 0.1015417761960692, 'max_depth': 7, 'min_child_weight': 5}. Best is trial 92 with value: 2.061249.\u001b[0m\n",
            "2.283518\n",
            "\u001b[32m[I 2022-01-02 12:34:52,865]\u001b[0m Trial 96 finished with value: 2.283518 and parameters: {'subsample': 0.7, 'colsample_bytree': 0.8, 'eta': 0.07357235110108111, 'gamma': 0.12394520448018713, 'max_depth': 7, 'min_child_weight': 5}. Best is trial 92 with value: 2.061249.\u001b[0m\n",
            "2.039424\n",
            "\u001b[32m[I 2022-01-02 12:34:52,941]\u001b[0m Trial 97 finished with value: 2.039424 and parameters: {'subsample': 0.7, 'colsample_bytree': 0.8, 'eta': 0.09996090858936264, 'gamma': 0.15126997807813847, 'max_depth': 7, 'min_child_weight': 5}. Best is trial 97 with value: 2.039424.\u001b[0m\n",
            "3.066276\n",
            "\u001b[32m[I 2022-01-02 12:34:52,999]\u001b[0m Trial 98 finished with value: 3.066276 and parameters: {'subsample': 0.7, 'colsample_bytree': 0.8, 'eta': 0.037169370523152695, 'gamma': 0.15100914062453502, 'max_depth': 7, 'min_child_weight': 5}. Best is trial 97 with value: 2.039424.\u001b[0m\n",
            "2.063292\n",
            "\u001b[32m[I 2022-01-02 12:34:53,076]\u001b[0m Trial 99 finished with value: 2.063292 and parameters: {'subsample': 0.7, 'colsample_bytree': 0.8, 'eta': 0.09563033815561142, 'gamma': 0.23405898573856596, 'max_depth': 7, 'min_child_weight': 5}. Best is trial 97 with value: 2.039424.\u001b[0m\n",
            "2.035587\n",
            "\u001b[32m[I 2022-01-02 12:34:53,153]\u001b[0m Trial 100 finished with value: 2.035587 and parameters: {'subsample': 0.7, 'colsample_bytree': 0.8, 'eta': 0.09968232753766368, 'gamma': 0.24474304561454474, 'max_depth': 13, 'min_child_weight': 5}. Best is trial 100 with value: 2.035587.\u001b[0m\n",
            "2.053451\n",
            "\u001b[32m[I 2022-01-02 12:34:53,250]\u001b[0m Trial 101 finished with value: 2.053451 and parameters: {'subsample': 0.7, 'colsample_bytree': 0.8, 'eta': 0.09711310424684595, 'gamma': 0.23330729611530016, 'max_depth': 13, 'min_child_weight': 5}. Best is trial 100 with value: 2.035587.\u001b[0m\n",
            "2.035283\n",
            "\u001b[32m[I 2022-01-02 12:34:53,318]\u001b[0m Trial 102 finished with value: 2.035283 and parameters: {'subsample': 0.7, 'colsample_bytree': 0.8, 'eta': 0.0997399572071248, 'gamma': 0.24693418277859114, 'max_depth': 13, 'min_child_weight': 5}. Best is trial 102 with value: 2.035283.\u001b[0m\n",
            "2.048377\n",
            "\u001b[32m[I 2022-01-02 12:34:53,407]\u001b[0m Trial 103 finished with value: 2.048377 and parameters: {'subsample': 0.7, 'colsample_bytree': 0.8, 'eta': 0.09871936029384777, 'gamma': 0.28961587346614076, 'max_depth': 13, 'min_child_weight': 5}. Best is trial 102 with value: 2.035283.\u001b[0m\n",
            "2.038509\n",
            "\u001b[32m[I 2022-01-02 12:34:53,475]\u001b[0m Trial 104 finished with value: 2.038509 and parameters: {'subsample': 0.7, 'colsample_bytree': 0.8, 'eta': 0.09979081391240653, 'gamma': 0.2877553768920891, 'max_depth': 13, 'min_child_weight': 5}. Best is trial 102 with value: 2.035283.\u001b[0m\n",
            "2.030173\n",
            "\u001b[32m[I 2022-01-02 12:34:53,570]\u001b[0m Trial 105 finished with value: 2.030173 and parameters: {'subsample': 0.7, 'colsample_bytree': 0.8, 'eta': 0.09952953221394628, 'gamma': 0.31599488450235497, 'max_depth': 13, 'min_child_weight': 5}. Best is trial 105 with value: 2.030173.\u001b[0m\n",
            "2.038192\n",
            "\u001b[32m[I 2022-01-02 12:34:53,645]\u001b[0m Trial 106 finished with value: 2.038192 and parameters: {'subsample': 0.7, 'colsample_bytree': 0.8, 'eta': 0.09973790886619227, 'gamma': 0.3033035864622076, 'max_depth': 13, 'min_child_weight': 5}. Best is trial 105 with value: 2.030173.\u001b[0m\n",
            "2.267828\n",
            "\u001b[32m[I 2022-01-02 12:34:53,731]\u001b[0m Trial 107 finished with value: 2.267828 and parameters: {'subsample': 0.7, 'colsample_bytree': 0.8, 'eta': 0.09986016496059362, 'gamma': 0.3062843513044594, 'max_depth': 13, 'min_child_weight': 10}. Best is trial 105 with value: 2.030173.\u001b[0m\n",
            "2.051118\n",
            "\u001b[32m[I 2022-01-02 12:34:53,803]\u001b[0m Trial 108 finished with value: 2.051118 and parameters: {'subsample': 0.7, 'colsample_bytree': 0.8, 'eta': 0.09808306968082947, 'gamma': 0.26386387666407773, 'max_depth': 13, 'min_child_weight': 5}. Best is trial 105 with value: 2.030173.\u001b[0m\n",
            "2.03853\n",
            "\u001b[32m[I 2022-01-02 12:34:53,898]\u001b[0m Trial 109 finished with value: 2.03853 and parameters: {'subsample': 0.7, 'colsample_bytree': 0.8, 'eta': 0.09999923618138187, 'gamma': 0.26662033354063913, 'max_depth': 13, 'min_child_weight': 5}. Best is trial 105 with value: 2.030173.\u001b[0m\n",
            "2.109714\n",
            "\u001b[32m[I 2022-01-02 12:34:53,966]\u001b[0m Trial 110 finished with value: 2.109714 and parameters: {'subsample': 0.7, 'colsample_bytree': 0.8, 'eta': 0.09922130019331094, 'gamma': 0.2677591280165449, 'max_depth': 13, 'min_child_weight': 6}. Best is trial 105 with value: 2.030173.\u001b[0m\n",
            "2.162664\n",
            "\u001b[32m[I 2022-01-02 12:34:54,057]\u001b[0m Trial 111 finished with value: 2.162664 and parameters: {'subsample': 0.7, 'colsample_bytree': 0.8, 'eta': 0.0850171984604008, 'gamma': 0.24385656880420625, 'max_depth': 13, 'min_child_weight': 5}. Best is trial 105 with value: 2.030173.\u001b[0m\n",
            "2.063613\n",
            "\u001b[32m[I 2022-01-02 12:34:54,135]\u001b[0m Trial 112 finished with value: 2.063613 and parameters: {'subsample': 0.7, 'colsample_bytree': 0.8, 'eta': 0.09996710684361224, 'gamma': 0.34483402581786804, 'max_depth': 13, 'min_child_weight': 5}. Best is trial 105 with value: 2.030173.\u001b[0m\n",
            "2.158321\n",
            "\u001b[32m[I 2022-01-02 12:34:54,239]\u001b[0m Trial 113 finished with value: 2.158321 and parameters: {'subsample': 0.7, 'colsample_bytree': 0.8, 'eta': 0.08610802014712189, 'gamma': 0.2860565798389672, 'max_depth': 13, 'min_child_weight': 5}. Best is trial 105 with value: 2.030173.\u001b[0m\n",
            "2.062888\n",
            "\u001b[32m[I 2022-01-02 12:34:54,307]\u001b[0m Trial 114 finished with value: 2.062888 and parameters: {'subsample': 0.7, 'colsample_bytree': 0.8, 'eta': 0.0966663497909053, 'gamma': 0.2609844620237069, 'max_depth': 13, 'min_child_weight': 5}. Best is trial 105 with value: 2.030173.\u001b[0m\n",
            "2.222717\n",
            "\u001b[32m[I 2022-01-02 12:34:54,398]\u001b[0m Trial 115 finished with value: 2.222717 and parameters: {'subsample': 0.7, 'colsample_bytree': 0.8, 'eta': 0.07938251678051768, 'gamma': 0.37559538274594945, 'max_depth': 13, 'min_child_weight': 5}. Best is trial 105 with value: 2.030173.\u001b[0m\n",
            "2.053759\n",
            "\u001b[32m[I 2022-01-02 12:34:54,466]\u001b[0m Trial 116 finished with value: 2.053759 and parameters: {'subsample': 0.7, 'colsample_bytree': 0.8, 'eta': 0.09768242566111653, 'gamma': 0.26488967684590786, 'max_depth': 13, 'min_child_weight': 5}. Best is trial 105 with value: 2.030173.\u001b[0m\n",
            "2.138445\n",
            "\u001b[32m[I 2022-01-02 12:34:54,556]\u001b[0m Trial 117 finished with value: 2.138445 and parameters: {'subsample': 0.7, 'colsample_bytree': 0.8, 'eta': 0.08800058090979869, 'gamma': 0.31002762335537115, 'max_depth': 13, 'min_child_weight': 5}. Best is trial 105 with value: 2.030173.\u001b[0m\n",
            "2.167181\n",
            "\u001b[32m[I 2022-01-02 12:34:54,638]\u001b[0m Trial 118 finished with value: 2.167181 and parameters: {'subsample': 0.7, 'colsample_bytree': 0.8, 'eta': 0.08417319783778711, 'gamma': 0.29095660760820197, 'max_depth': 13, 'min_child_weight': 5}. Best is trial 105 with value: 2.030173.\u001b[0m\n",
            "2.118793\n",
            "\u001b[32m[I 2022-01-02 12:34:54,725]\u001b[0m Trial 119 finished with value: 2.118793 and parameters: {'subsample': 0.7, 'colsample_bytree': 0.8, 'eta': 0.09741434199296592, 'gamma': 0.3360257730998463, 'max_depth': 13, 'min_child_weight': 6}. Best is trial 105 with value: 2.030173.\u001b[0m\n",
            "3.807434\n",
            "\u001b[32m[I 2022-01-02 12:34:54,790]\u001b[0m Trial 120 finished with value: 3.807434 and parameters: {'subsample': 0.7, 'colsample_bytree': 0.8, 'eta': 0.018524561178848358, 'gamma': 0.2601930884747709, 'max_depth': 13, 'min_child_weight': 5}. Best is trial 105 with value: 2.030173.\u001b[0m\n",
            "2.06514\n",
            "\u001b[32m[I 2022-01-02 12:34:54,885]\u001b[0m Trial 121 finished with value: 2.06514 and parameters: {'subsample': 0.7, 'colsample_bytree': 0.8, 'eta': 0.09690774452196498, 'gamma': 0.2568901355085191, 'max_depth': 13, 'min_child_weight': 5}. Best is trial 105 with value: 2.030173.\u001b[0m\n",
            "2.031067\n",
            "\u001b[32m[I 2022-01-02 12:34:54,954]\u001b[0m Trial 122 finished with value: 2.031067 and parameters: {'subsample': 0.7, 'colsample_bytree': 0.8, 'eta': 0.0999461138703514, 'gamma': 0.22561572790402176, 'max_depth': 13, 'min_child_weight': 5}. Best is trial 105 with value: 2.030173.\u001b[0m\n",
            "2.113938\n",
            "\u001b[32m[I 2022-01-02 12:34:55,043]\u001b[0m Trial 123 finished with value: 2.113938 and parameters: {'subsample': 0.7, 'colsample_bytree': 0.8, 'eta': 0.09012638160512766, 'gamma': 0.21257602443863788, 'max_depth': 13, 'min_child_weight': 5}. Best is trial 105 with value: 2.030173.\u001b[0m\n",
            "2.037728\n",
            "\u001b[32m[I 2022-01-02 12:34:55,126]\u001b[0m Trial 124 finished with value: 2.037728 and parameters: {'subsample': 0.7, 'colsample_bytree': 0.8, 'eta': 0.09988588138480294, 'gamma': 0.27782503863871577, 'max_depth': 13, 'min_child_weight': 5}. Best is trial 105 with value: 2.030173.\u001b[0m\n",
            "2.120423\n",
            "\u001b[32m[I 2022-01-02 12:34:55,216]\u001b[0m Trial 125 finished with value: 2.120423 and parameters: {'subsample': 0.7, 'colsample_bytree': 0.8, 'eta': 0.08793694012128458, 'gamma': 0.3265842291956152, 'max_depth': 13, 'min_child_weight': 5}. Best is trial 105 with value: 2.030173.\u001b[0m\n",
            "2.221337\n",
            "\u001b[32m[I 2022-01-02 12:34:55,295]\u001b[0m Trial 126 finished with value: 2.221337 and parameters: {'subsample': 0.7, 'colsample_bytree': 0.8, 'eta': 0.08054486241384906, 'gamma': 0.28844434598063873, 'max_depth': 13, 'min_child_weight': 5}. Best is trial 105 with value: 2.030173.\u001b[0m\n",
            "2.113881\n",
            "\u001b[32m[I 2022-01-02 12:34:55,383]\u001b[0m Trial 127 finished with value: 2.113881 and parameters: {'subsample': 0.7, 'colsample_bytree': 0.8, 'eta': 0.09002319450595443, 'gamma': 0.22977733196893066, 'max_depth': 13, 'min_child_weight': 5}. Best is trial 105 with value: 2.030173.\u001b[0m\n",
            "2.041162\n",
            "\u001b[32m[I 2022-01-02 12:34:55,451]\u001b[0m Trial 128 finished with value: 2.041162 and parameters: {'subsample': 0.7, 'colsample_bytree': 0.8, 'eta': 0.09906747715685614, 'gamma': 0.2756946160428078, 'max_depth': 13, 'min_child_weight': 5}. Best is trial 105 with value: 2.030173.\u001b[0m\n",
            "2.149839\n",
            "\u001b[32m[I 2022-01-02 12:34:55,537]\u001b[0m Trial 129 finished with value: 2.149839 and parameters: {'subsample': 0.7, 'colsample_bytree': 0.8, 'eta': 0.08461161245569039, 'gamma': 0.4172045179035833, 'max_depth': 13, 'min_child_weight': 5}. Best is trial 105 with value: 2.030173.\u001b[0m\n",
            "2.165223\n",
            "\u001b[32m[I 2022-01-02 12:34:55,627]\u001b[0m Trial 130 finished with value: 2.165223 and parameters: {'subsample': 0.8, 'colsample_bytree': 0.8, 'eta': 0.09865263455391034, 'gamma': 0.36762801583596183, 'max_depth': 13, 'min_child_weight': 5}. Best is trial 105 with value: 2.030173.\u001b[0m\n",
            "2.042053\n",
            "\u001b[32m[I 2022-01-02 12:34:55,713]\u001b[0m Trial 131 finished with value: 2.042053 and parameters: {'subsample': 0.7, 'colsample_bytree': 0.8, 'eta': 0.09891894716296606, 'gamma': 0.2758672517369856, 'max_depth': 13, 'min_child_weight': 5}. Best is trial 105 with value: 2.030173.\u001b[0m\n",
            "2.10239\n",
            "\u001b[32m[I 2022-01-02 12:34:55,783]\u001b[0m Trial 132 finished with value: 2.10239 and parameters: {'subsample': 0.7, 'colsample_bytree': 0.8, 'eta': 0.0909792704718915, 'gamma': 0.2784335064641092, 'max_depth': 13, 'min_child_weight': 5}. Best is trial 105 with value: 2.030173.\u001b[0m\n",
            "2.059581\n",
            "\u001b[32m[I 2022-01-02 12:34:55,878]\u001b[0m Trial 133 finished with value: 2.059581 and parameters: {'subsample': 0.7, 'colsample_bytree': 0.8, 'eta': 0.09890530065115953, 'gamma': 0.3075474303843585, 'max_depth': 13, 'min_child_weight': 5}. Best is trial 105 with value: 2.030173.\u001b[0m\n",
            "2.034252\n",
            "\u001b[32m[I 2022-01-02 12:34:55,947]\u001b[0m Trial 134 finished with value: 2.034252 and parameters: {'subsample': 0.7, 'colsample_bytree': 0.8, 'eta': 0.09993661911221653, 'gamma': 0.24171404571763136, 'max_depth': 13, 'min_child_weight': 5}. Best is trial 105 with value: 2.030173.\u001b[0m\n",
            "2.034134\n",
            "\u001b[32m[I 2022-01-02 12:34:56,058]\u001b[0m Trial 135 finished with value: 2.034134 and parameters: {'subsample': 0.7, 'colsample_bytree': 0.8, 'eta': 0.09995923976599529, 'gamma': 0.24694364246720554, 'max_depth': 13, 'min_child_weight': 5}. Best is trial 105 with value: 2.030173.\u001b[0m\n",
            "2.111947\n",
            "\u001b[32m[I 2022-01-02 12:34:56,138]\u001b[0m Trial 136 finished with value: 2.111947 and parameters: {'subsample': 0.7, 'colsample_bytree': 0.8, 'eta': 0.09230957567429303, 'gamma': 0.2490149134659467, 'max_depth': 13, 'min_child_weight': 5}. Best is trial 105 with value: 2.030173.\u001b[0m\n",
            "2.137253\n",
            "\u001b[32m[I 2022-01-02 12:34:56,226]\u001b[0m Trial 137 finished with value: 2.137253 and parameters: {'subsample': 0.7, 'colsample_bytree': 0.8, 'eta': 0.08720883154896043, 'gamma': 0.21786957271166932, 'max_depth': 13, 'min_child_weight': 5}. Best is trial 105 with value: 2.030173.\u001b[0m\n",
            "2.115094\n",
            "\u001b[32m[I 2022-01-02 12:34:56,312]\u001b[0m Trial 138 finished with value: 2.115094 and parameters: {'subsample': 0.7, 'colsample_bytree': 0.8, 'eta': 0.0931819498344963, 'gamma': 0.29747181887636676, 'max_depth': 13, 'min_child_weight': 5}. Best is trial 105 with value: 2.030173.\u001b[0m\n",
            "2.189445\n",
            "\u001b[32m[I 2022-01-02 12:34:56,402]\u001b[0m Trial 139 finished with value: 2.189445 and parameters: {'subsample': 0.7, 'colsample_bytree': 0.8, 'eta': 0.08868818113089155, 'gamma': 0.32424617196975647, 'max_depth': 13, 'min_child_weight': 6}. Best is trial 105 with value: 2.030173.\u001b[0m\n",
            "2.171018\n",
            "\u001b[32m[I 2022-01-02 12:34:56,471]\u001b[0m Trial 140 finished with value: 2.171018 and parameters: {'subsample': 0.7, 'colsample_bytree': 0.8, 'eta': 0.08391965174416044, 'gamma': 0.2025528407229675, 'max_depth': 13, 'min_child_weight': 5}. Best is trial 105 with value: 2.030173.\u001b[0m\n",
            "2.079243\n",
            "\u001b[32m[I 2022-01-02 12:34:56,558]\u001b[0m Trial 141 finished with value: 2.079243 and parameters: {'subsample': 0.7, 'colsample_bytree': 0.8, 'eta': 0.09461467555930773, 'gamma': 0.27630681786600053, 'max_depth': 13, 'min_child_weight': 5}. Best is trial 105 with value: 2.030173.\u001b[0m\n",
            "2.036566\n",
            "\u001b[32m[I 2022-01-02 12:34:56,639]\u001b[0m Trial 142 finished with value: 2.036566 and parameters: {'subsample': 0.7, 'colsample_bytree': 0.8, 'eta': 0.09947179427448433, 'gamma': 0.24465011148528554, 'max_depth': 13, 'min_child_weight': 5}. Best is trial 105 with value: 2.030173.\u001b[0m\n",
            "2.038893\n",
            "\u001b[32m[I 2022-01-02 12:34:56,737]\u001b[0m Trial 143 finished with value: 2.038893 and parameters: {'subsample': 0.7, 'colsample_bytree': 0.8, 'eta': 0.0989634330242466, 'gamma': 0.24392632191183314, 'max_depth': 13, 'min_child_weight': 5}. Best is trial 105 with value: 2.030173.\u001b[0m\n",
            "2.113715\n",
            "\u001b[32m[I 2022-01-02 12:34:56,816]\u001b[0m Trial 144 finished with value: 2.113715 and parameters: {'subsample': 0.7, 'colsample_bytree': 0.8, 'eta': 0.09172394151257666, 'gamma': 0.2367831077931266, 'max_depth': 13, 'min_child_weight': 5}. Best is trial 105 with value: 2.030173.\u001b[0m\n",
            "2.027178\n",
            "\u001b[32m[I 2022-01-02 12:34:56,911]\u001b[0m Trial 145 finished with value: 2.027178 and parameters: {'subsample': 0.7, 'colsample_bytree': 0.8, 'eta': 0.0995817330929385, 'gamma': 0.22464181006796463, 'max_depth': 13, 'min_child_weight': 5}. Best is trial 145 with value: 2.027178.\u001b[0m\n",
            "2.101051\n",
            "\u001b[32m[I 2022-01-02 12:34:56,984]\u001b[0m Trial 146 finished with value: 2.101051 and parameters: {'subsample': 0.7, 'colsample_bytree': 0.8, 'eta': 0.09307886428070807, 'gamma': 0.22522257697734402, 'max_depth': 13, 'min_child_weight': 5}. Best is trial 145 with value: 2.027178.\u001b[0m\n",
            "2.129794\n",
            "\u001b[32m[I 2022-01-02 12:34:57,077]\u001b[0m Trial 147 finished with value: 2.129794 and parameters: {'subsample': 0.7, 'colsample_bytree': 0.8, 'eta': 0.08850630859927755, 'gamma': 0.21054907168207032, 'max_depth': 13, 'min_child_weight': 5}. Best is trial 145 with value: 2.027178.\u001b[0m\n",
            "2.027989\n",
            "\u001b[32m[I 2022-01-02 12:34:57,157]\u001b[0m Trial 148 finished with value: 2.027989 and parameters: {'subsample': 0.7, 'colsample_bytree': 0.8, 'eta': 0.09972422871501897, 'gamma': 0.25291210704814243, 'max_depth': 13, 'min_child_weight': 5}. Best is trial 145 with value: 2.027178.\u001b[0m\n",
            "3.29996\n",
            "\u001b[32m[I 2022-01-02 12:34:57,249]\u001b[0m Trial 149 finished with value: 3.29996 and parameters: {'subsample': 0.7, 'colsample_bytree': 0.8, 'eta': 0.030329381193695444, 'gamma': 0.2510594975639783, 'max_depth': 13, 'min_child_weight': 5}. Best is trial 145 with value: 2.027178.\u001b[0m\n",
            "2.019921\n",
            "\u001b[32m[I 2022-01-02 12:34:57,317]\u001b[0m Trial 150 finished with value: 2.019921 and parameters: {'subsample': 0.7, 'colsample_bytree': 0.8, 'eta': 0.09977694670104433, 'gamma': 0.1976142176363732, 'max_depth': 5, 'min_child_weight': 5}. Best is trial 150 with value: 2.019921.\u001b[0m\n",
            "2.058926\n",
            "\u001b[32m[I 2022-01-02 12:34:57,394]\u001b[0m Trial 151 finished with value: 2.058926 and parameters: {'subsample': 0.7, 'colsample_bytree': 0.8, 'eta': 0.09425364605785727, 'gamma': 0.22524438353432485, 'max_depth': 5, 'min_child_weight': 5}. Best is trial 150 with value: 2.019921.\u001b[0m\n",
            "2.019251\n",
            "\u001b[32m[I 2022-01-02 12:34:57,445]\u001b[0m Trial 152 finished with value: 2.019251 and parameters: {'subsample': 0.7, 'colsample_bytree': 0.8, 'eta': 0.09991951480963367, 'gamma': 0.1941263046956661, 'max_depth': 5, 'min_child_weight': 5}. Best is trial 152 with value: 2.019251.\u001b[0m\n",
            "2.055212\n",
            "\u001b[32m[I 2022-01-02 12:34:57,516]\u001b[0m Trial 153 finished with value: 2.055212 and parameters: {'subsample': 0.7, 'colsample_bytree': 0.8, 'eta': 0.09483623203873692, 'gamma': 0.19569097527754448, 'max_depth': 5, 'min_child_weight': 5}. Best is trial 152 with value: 2.019251.\u001b[0m\n",
            "2.875801\n",
            "\u001b[32m[I 2022-01-02 12:34:57,568]\u001b[0m Trial 154 finished with value: 2.875801 and parameters: {'subsample': 0.7, 'colsample_bytree': 0.8, 'eta': 0.042491658378137544, 'gamma': 0.2419986579083026, 'max_depth': 5, 'min_child_weight': 5}. Best is trial 152 with value: 2.019251.\u001b[0m\n",
            "2.067618\n",
            "\u001b[32m[I 2022-01-02 12:34:57,653]\u001b[0m Trial 155 finished with value: 2.067618 and parameters: {'subsample': 0.7, 'colsample_bytree': 0.8, 'eta': 0.09044650072368511, 'gamma': 0.2040397327121332, 'max_depth': 5, 'min_child_weight': 5}. Best is trial 152 with value: 2.019251.\u001b[0m\n",
            "2.020478\n",
            "\u001b[32m[I 2022-01-02 12:34:57,709]\u001b[0m Trial 156 finished with value: 2.020478 and parameters: {'subsample': 0.7, 'colsample_bytree': 0.8, 'eta': 0.09965903237395705, 'gamma': 0.21869857035623727, 'max_depth': 5, 'min_child_weight': 5}. Best is trial 152 with value: 2.019251.\u001b[0m\n",
            "2.195449\n",
            "\u001b[32m[I 2022-01-02 12:34:57,779]\u001b[0m Trial 157 finished with value: 2.195449 and parameters: {'subsample': 0.8, 'colsample_bytree': 0.8, 'eta': 0.08595166387442169, 'gamma': 0.19279464530610488, 'max_depth': 5, 'min_child_weight': 5}. Best is trial 152 with value: 2.019251.\u001b[0m\n",
            "2.056609\n",
            "\u001b[32m[I 2022-01-02 12:34:57,837]\u001b[0m Trial 158 finished with value: 2.056609 and parameters: {'subsample': 0.7, 'colsample_bytree': 0.8, 'eta': 0.09459572757590556, 'gamma': 0.22012813983080534, 'max_depth': 5, 'min_child_weight': 5}. Best is trial 152 with value: 2.019251.\u001b[0m\n",
            "2.120995\n",
            "\u001b[32m[I 2022-01-02 12:34:57,914]\u001b[0m Trial 159 finished with value: 2.120995 and parameters: {'subsample': 0.7, 'colsample_bytree': 0.8, 'eta': 0.09039538880126592, 'gamma': 0.18477000934915835, 'max_depth': 5, 'min_child_weight': 6}. Best is trial 152 with value: 2.019251.\u001b[0m\n",
            "2.154348\n",
            "\u001b[32m[I 2022-01-02 12:34:57,967]\u001b[0m Trial 160 finished with value: 2.154348 and parameters: {'subsample': 0.7, 'colsample_bytree': 0.8, 'eta': 0.08272044730184042, 'gamma': 0.23132330822982516, 'max_depth': 5, 'min_child_weight': 5}. Best is trial 152 with value: 2.019251.\u001b[0m\n",
            "2.036713\n",
            "\u001b[32m[I 2022-01-02 12:34:58,065]\u001b[0m Trial 161 finished with value: 2.036713 and parameters: {'subsample': 0.7, 'colsample_bytree': 0.8, 'eta': 0.09944408326185117, 'gamma': 0.2483956279275255, 'max_depth': 13, 'min_child_weight': 5}. Best is trial 152 with value: 2.019251.\u001b[0m\n",
            "2.068953\n",
            "\u001b[32m[I 2022-01-02 12:34:58,142]\u001b[0m Trial 162 finished with value: 2.068953 and parameters: {'subsample': 0.7, 'colsample_bytree': 0.8, 'eta': 0.0997027985376463, 'gamma': 0.24875798849693476, 'max_depth': 9, 'min_child_weight': 5}. Best is trial 152 with value: 2.019251.\u001b[0m\n",
            "2.06854\n",
            "\u001b[32m[I 2022-01-02 12:34:58,237]\u001b[0m Trial 163 finished with value: 2.06854 and parameters: {'subsample': 0.7, 'colsample_bytree': 0.8, 'eta': 0.09425566292143296, 'gamma': 0.2114121819461985, 'max_depth': 13, 'min_child_weight': 5}. Best is trial 152 with value: 2.019251.\u001b[0m\n",
            "2.033347\n",
            "\u001b[32m[I 2022-01-02 12:34:58,325]\u001b[0m Trial 164 finished with value: 2.033347 and parameters: {'subsample': 0.7, 'colsample_bytree': 0.8, 'eta': 0.09987526848027738, 'gamma': 0.2592365897187891, 'max_depth': 13, 'min_child_weight': 5}. Best is trial 152 with value: 2.019251.\u001b[0m\n",
            "2.05886\n",
            "\u001b[32m[I 2022-01-02 12:34:58,408]\u001b[0m Trial 165 finished with value: 2.05886 and parameters: {'subsample': 0.7, 'colsample_bytree': 0.8, 'eta': 0.09426483736925668, 'gamma': 0.22558920673990293, 'max_depth': 5, 'min_child_weight': 5}. Best is trial 152 with value: 2.019251.\u001b[0m\n",
            "2.130992\n",
            "\u001b[32m[I 2022-01-02 12:34:58,480]\u001b[0m Trial 166 finished with value: 2.130992 and parameters: {'subsample': 0.7, 'colsample_bytree': 0.8, 'eta': 0.08958350500464381, 'gamma': 0.30549660514613797, 'max_depth': 13, 'min_child_weight': 5}. Best is trial 152 with value: 2.019251.\u001b[0m\n",
            "2.034331\n",
            "\u001b[32m[I 2022-01-02 12:34:58,579]\u001b[0m Trial 167 finished with value: 2.034331 and parameters: {'subsample': 0.7, 'colsample_bytree': 0.8, 'eta': 0.09992233192036919, 'gamma': 0.2510897810852754, 'max_depth': 13, 'min_child_weight': 5}. Best is trial 152 with value: 2.019251.\u001b[0m\n",
            "2.082353\n",
            "\u001b[32m[I 2022-01-02 12:34:58,659]\u001b[0m Trial 168 finished with value: 2.082353 and parameters: {'subsample': 0.7, 'colsample_bytree': 0.8, 'eta': 0.09399691815438874, 'gamma': 0.24018670702736059, 'max_depth': 13, 'min_child_weight': 5}. Best is trial 152 with value: 2.019251.\u001b[0m\n",
            "2.135803\n",
            "\u001b[32m[I 2022-01-02 12:34:58,753]\u001b[0m Trial 169 finished with value: 2.135803 and parameters: {'subsample': 0.7, 'colsample_bytree': 0.8, 'eta': 0.08727913021801048, 'gamma': 0.2532222015365812, 'max_depth': 13, 'min_child_weight': 5}. Best is trial 152 with value: 2.019251.\u001b[0m\n",
            "2.304688\n",
            "\u001b[32m[I 2022-01-02 12:34:58,811]\u001b[0m Trial 170 finished with value: 2.304688 and parameters: {'subsample': 0.7, 'colsample_bytree': 0.8, 'eta': 0.09986988073588282, 'gamma': 0.19957131328338543, 'max_depth': 5, 'min_child_weight': 11}. Best is trial 152 with value: 2.019251.\u001b[0m\n",
            "2.077289\n",
            "\u001b[32m[I 2022-01-02 12:34:58,921]\u001b[0m Trial 171 finished with value: 2.077289 and parameters: {'subsample': 0.7, 'colsample_bytree': 0.8, 'eta': 0.09523625791429166, 'gamma': 0.26026123333062867, 'max_depth': 13, 'min_child_weight': 5}. Best is trial 152 with value: 2.019251.\u001b[0m\n",
            "2.027838\n",
            "\u001b[32m[I 2022-01-02 12:34:58,995]\u001b[0m Trial 172 finished with value: 2.027838 and parameters: {'subsample': 0.7, 'colsample_bytree': 0.8, 'eta': 0.09989146331670548, 'gamma': 0.21740170517254745, 'max_depth': 13, 'min_child_weight': 5}. Best is trial 152 with value: 2.019251.\u001b[0m\n",
            "2.10094\n",
            "\u001b[32m[I 2022-01-02 12:34:59,087]\u001b[0m Trial 173 finished with value: 2.10094 and parameters: {'subsample': 0.7, 'colsample_bytree': 0.8, 'eta': 0.09111057268007487, 'gamma': 0.22005712648162298, 'max_depth': 13, 'min_child_weight': 5}. Best is trial 152 with value: 2.019251.\u001b[0m\n",
            "2.073557\n",
            "\u001b[32m[I 2022-01-02 12:34:59,181]\u001b[0m Trial 174 finished with value: 2.073557 and parameters: {'subsample': 0.7, 'colsample_bytree': 0.8, 'eta': 0.0956402683167898, 'gamma': 0.21278900410976184, 'max_depth': 13, 'min_child_weight': 5}. Best is trial 152 with value: 2.019251.\u001b[0m\n",
            "2.081046\n",
            "\u001b[32m[I 2022-01-02 12:34:59,268]\u001b[0m Trial 175 finished with value: 2.081046 and parameters: {'subsample': 0.7, 'colsample_bytree': 0.8, 'eta': 0.09544222714866037, 'gamma': 0.23125902407834406, 'max_depth': 13, 'min_child_weight': 5}. Best is trial 152 with value: 2.019251.\u001b[0m\n",
            "2.090521\n",
            "\u001b[32m[I 2022-01-02 12:34:59,356]\u001b[0m Trial 176 finished with value: 2.090521 and parameters: {'subsample': 0.7, 'colsample_bytree': 0.8, 'eta': 0.09124631190844731, 'gamma': 0.1781409283193552, 'max_depth': 13, 'min_child_weight': 5}. Best is trial 152 with value: 2.019251.\u001b[0m\n",
            "2.035942\n",
            "\u001b[32m[I 2022-01-02 12:34:59,456]\u001b[0m Trial 177 finished with value: 2.035942 and parameters: {'subsample': 0.7, 'colsample_bytree': 0.8, 'eta': 0.09949514346796466, 'gamma': 0.782708635900371, 'max_depth': 13, 'min_child_weight': 5}. Best is trial 152 with value: 2.019251.\u001b[0m\n",
            "2.145467\n",
            "\u001b[32m[I 2022-01-02 12:34:59,527]\u001b[0m Trial 178 finished with value: 2.145467 and parameters: {'subsample': 0.7, 'colsample_bytree': 0.8, 'eta': 0.08558760811215395, 'gamma': 0.7102837724632464, 'max_depth': 13, 'min_child_weight': 5}. Best is trial 152 with value: 2.019251.\u001b[0m\n",
            "2.042024\n",
            "\u001b[32m[I 2022-01-02 12:34:59,618]\u001b[0m Trial 179 finished with value: 2.042024 and parameters: {'subsample': 0.7, 'colsample_bytree': 0.8, 'eta': 0.09964893839829798, 'gamma': 0.4745666083220936, 'max_depth': 13, 'min_child_weight': 5}. Best is trial 152 with value: 2.019251.\u001b[0m\n",
            "2.083272\n",
            "\u001b[32m[I 2022-01-02 12:34:59,691]\u001b[0m Trial 180 finished with value: 2.083272 and parameters: {'subsample': 0.7, 'colsample_bytree': 0.8, 'eta': 0.09559354910469231, 'gamma': 0.8808379467017579, 'max_depth': 9, 'min_child_weight': 5}. Best is trial 152 with value: 2.019251.\u001b[0m\n",
            "2.085604\n",
            "\u001b[32m[I 2022-01-02 12:34:59,790]\u001b[0m Trial 181 finished with value: 2.085604 and parameters: {'subsample': 0.7, 'colsample_bytree': 0.8, 'eta': 0.09559546694405276, 'gamma': 0.5486561387612462, 'max_depth': 13, 'min_child_weight': 5}. Best is trial 152 with value: 2.019251.\u001b[0m\n",
            "2.034882\n",
            "\u001b[32m[I 2022-01-02 12:34:59,867]\u001b[0m Trial 182 finished with value: 2.034882 and parameters: {'subsample': 0.7, 'colsample_bytree': 0.8, 'eta': 0.09981706492325972, 'gamma': 0.2512127958018631, 'max_depth': 13, 'min_child_weight': 5}. Best is trial 152 with value: 2.019251.\u001b[0m\n",
            "2.101228\n",
            "\u001b[32m[I 2022-01-02 12:34:59,976]\u001b[0m Trial 183 finished with value: 2.101228 and parameters: {'subsample': 0.7, 'colsample_bytree': 0.8, 'eta': 0.09107553865235883, 'gamma': 0.23728908518972797, 'max_depth': 13, 'min_child_weight': 5}. Best is trial 152 with value: 2.019251.\u001b[0m\n",
            "2.033873\n",
            "\u001b[32m[I 2022-01-02 12:35:00,050]\u001b[0m Trial 184 finished with value: 2.033873 and parameters: {'subsample': 0.7, 'colsample_bytree': 0.8, 'eta': 0.09999621638034718, 'gamma': 0.2525976522370763, 'max_depth': 13, 'min_child_weight': 5}. Best is trial 152 with value: 2.019251.\u001b[0m\n",
            "2.133835\n",
            "\u001b[32m[I 2022-01-02 12:35:00,145]\u001b[0m Trial 185 finished with value: 2.133835 and parameters: {'subsample': 0.7, 'colsample_bytree': 0.8, 'eta': 0.0893667016513044, 'gamma': 0.205340344693259, 'max_depth': 13, 'min_child_weight': 5}. Best is trial 152 with value: 2.019251.\u001b[0m\n",
            "2.038852\n",
            "\u001b[32m[I 2022-01-02 12:35:00,206]\u001b[0m Trial 186 finished with value: 2.038852 and parameters: {'subsample': 0.7, 'colsample_bytree': 0.8, 'eta': 0.09492326416617408, 'gamma': 0.25131897236150613, 'max_depth': 5, 'min_child_weight': 5}. Best is trial 152 with value: 2.019251.\u001b[0m\n",
            "2.0811\n",
            "\u001b[32m[I 2022-01-02 12:35:00,297]\u001b[0m Trial 187 finished with value: 2.0811 and parameters: {'subsample': 0.7, 'colsample_bytree': 0.8, 'eta': 0.09513507102233511, 'gamma': 0.1904732508020225, 'max_depth': 13, 'min_child_weight': 5}. Best is trial 152 with value: 2.019251.\u001b[0m\n",
            "2.025653\n",
            "\u001b[32m[I 2022-01-02 12:35:00,387]\u001b[0m Trial 188 finished with value: 2.025653 and parameters: {'subsample': 0.7, 'colsample_bytree': 0.8, 'eta': 0.0998651769779678, 'gamma': 0.2238563056562617, 'max_depth': 13, 'min_child_weight': 5}. Best is trial 152 with value: 2.019251.\u001b[0m\n",
            "2.137066\n",
            "\u001b[32m[I 2022-01-02 12:35:00,486]\u001b[0m Trial 189 finished with value: 2.137066 and parameters: {'subsample': 0.7, 'colsample_bytree': 0.8, 'eta': 0.0878128443749475, 'gamma': 0.21657684733261656, 'max_depth': 13, 'min_child_weight': 5}. Best is trial 152 with value: 2.019251.\u001b[0m\n",
            "2.11414\n",
            "\u001b[32m[I 2022-01-02 12:35:00,560]\u001b[0m Trial 190 finished with value: 2.11414 and parameters: {'subsample': 0.7, 'colsample_bytree': 0.8, 'eta': 0.09166612175808181, 'gamma': 0.2275144618550808, 'max_depth': 13, 'min_child_weight': 5}. Best is trial 152 with value: 2.019251.\u001b[0m\n",
            "2.034669\n",
            "\u001b[32m[I 2022-01-02 12:35:00,657]\u001b[0m Trial 191 finished with value: 2.034669 and parameters: {'subsample': 0.7, 'colsample_bytree': 0.8, 'eta': 0.09985688970401224, 'gamma': 0.24176245658004483, 'max_depth': 13, 'min_child_weight': 5}. Best is trial 152 with value: 2.019251.\u001b[0m\n",
            "2.081875\n",
            "\u001b[32m[I 2022-01-02 12:35:00,739]\u001b[0m Trial 192 finished with value: 2.081875 and parameters: {'subsample': 0.7, 'colsample_bytree': 0.8, 'eta': 0.095343244228895, 'gamma': 0.23636727843913075, 'max_depth': 13, 'min_child_weight': 5}. Best is trial 152 with value: 2.019251.\u001b[0m\n",
            "2.033761\n",
            "\u001b[32m[I 2022-01-02 12:35:00,834]\u001b[0m Trial 193 finished with value: 2.033761 and parameters: {'subsample': 0.7, 'colsample_bytree': 0.8, 'eta': 0.0998219566364712, 'gamma': 0.20388872125947194, 'max_depth': 13, 'min_child_weight': 5}. Best is trial 152 with value: 2.019251.\u001b[0m\n",
            "3.479666\n",
            "\u001b[32m[I 2022-01-02 12:35:00,902]\u001b[0m Trial 194 finished with value: 3.479666 and parameters: {'subsample': 0.7, 'colsample_bytree': 0.8, 'eta': 0.025875943024382977, 'gamma': 0.19996179124264668, 'max_depth': 13, 'min_child_weight': 5}. Best is trial 152 with value: 2.019251.\u001b[0m\n",
            "2.111922\n",
            "\u001b[32m[I 2022-01-02 12:35:01,007]\u001b[0m Trial 195 finished with value: 2.111922 and parameters: {'subsample': 0.7, 'colsample_bytree': 0.8, 'eta': 0.09215856068077923, 'gamma': 0.21389925734651352, 'max_depth': 13, 'min_child_weight': 5}. Best is trial 152 with value: 2.019251.\u001b[0m\n",
            "2.022314\n",
            "\u001b[32m[I 2022-01-02 12:35:01,063]\u001b[0m Trial 196 finished with value: 2.022314 and parameters: {'subsample': 0.7, 'colsample_bytree': 0.8, 'eta': 0.0993705513954793, 'gamma': 0.9811936586135455, 'max_depth': 5, 'min_child_weight': 5}. Best is trial 152 with value: 2.019251.\u001b[0m\n",
            "2.019254\n",
            "\u001b[32m[I 2022-01-02 12:35:01,142]\u001b[0m Trial 197 finished with value: 2.019254 and parameters: {'subsample': 0.7, 'colsample_bytree': 0.8, 'eta': 0.09991886135040476, 'gamma': 0.18507237337267568, 'max_depth': 5, 'min_child_weight': 5}. Best is trial 152 with value: 2.019251.\u001b[0m\n",
            "2.059965\n",
            "\u001b[32m[I 2022-01-02 12:35:01,198]\u001b[0m Trial 198 finished with value: 2.059965 and parameters: {'subsample': 0.7, 'colsample_bytree': 0.8, 'eta': 0.09441320874999491, 'gamma': 0.1860761460000104, 'max_depth': 5, 'min_child_weight': 5}. Best is trial 152 with value: 2.019251.\u001b[0m\n",
            "2.177351\n",
            "\u001b[32m[I 2022-01-02 12:35:01,276]\u001b[0m Trial 199 finished with value: 2.177351 and parameters: {'subsample': 0.7, 'colsample_bytree': 0.8, 'eta': 0.0999100507322374, 'gamma': 0.17914721089930608, 'max_depth': 5, 'min_child_weight': 8}. Best is trial 152 with value: 2.019251.\u001b[0m\n",
            "2.065479\n",
            "\u001b[32m[I 2022-01-02 12:35:01,337]\u001b[0m Trial 200 finished with value: 2.065479 and parameters: {'subsample': 0.7, 'colsample_bytree': 0.8, 'eta': 0.09076864838585487, 'gamma': 0.16837376179783384, 'max_depth': 5, 'min_child_weight': 5}. Best is trial 152 with value: 2.019251.\u001b[0m\n",
            "2.261397\n",
            "\u001b[32m[I 2022-01-02 12:35:01,425]\u001b[0m Trial 201 finished with value: 2.261397 and parameters: {'subsample': 0.7, 'colsample_bytree': 0.8, 'eta': 0.09975480631129138, 'gamma': 0.20281374738146057, 'max_depth': 5, 'min_child_weight': 10}. Best is trial 152 with value: 2.019251.\u001b[0m\n",
            "2.056903\n",
            "\u001b[32m[I 2022-01-02 12:35:01,488]\u001b[0m Trial 202 finished with value: 2.056903 and parameters: {'subsample': 0.7, 'colsample_bytree': 0.8, 'eta': 0.09536553776168362, 'gamma': 0.2664983986807009, 'max_depth': 5, 'min_child_weight': 5}. Best is trial 152 with value: 2.019251.\u001b[0m\n",
            "2.019185\n",
            "\u001b[32m[I 2022-01-02 12:35:01,565]\u001b[0m Trial 203 finished with value: 2.019185 and parameters: {'subsample': 0.7, 'colsample_bytree': 0.8, 'eta': 0.09993372394019703, 'gamma': 0.22313083091184452, 'max_depth': 5, 'min_child_weight': 5}. Best is trial 203 with value: 2.019185.\u001b[0m\n",
            "2.054379\n",
            "\u001b[32m[I 2022-01-02 12:35:01,620]\u001b[0m Trial 204 finished with value: 2.054379 and parameters: {'subsample': 0.7, 'colsample_bytree': 0.8, 'eta': 0.09498076524621432, 'gamma': 0.19172789500625206, 'max_depth': 5, 'min_child_weight': 5}. Best is trial 203 with value: 2.019185.\u001b[0m\n",
            "2.062496\n",
            "\u001b[32m[I 2022-01-02 12:35:01,697]\u001b[0m Trial 205 finished with value: 2.062496 and parameters: {'subsample': 0.7, 'colsample_bytree': 0.8, 'eta': 0.09170363625759545, 'gamma': 0.22436158679742926, 'max_depth': 5, 'min_child_weight': 5}. Best is trial 203 with value: 2.019185.\u001b[0m\n",
            "2.056073\n",
            "\u001b[32m[I 2022-01-02 12:35:01,754]\u001b[0m Trial 206 finished with value: 2.056073 and parameters: {'subsample': 0.7, 'colsample_bytree': 0.8, 'eta': 0.09551341182646157, 'gamma': 0.20976882163776692, 'max_depth': 5, 'min_child_weight': 5}. Best is trial 203 with value: 2.019185.\u001b[0m\n",
            "3.981865\n",
            "\u001b[32m[I 2022-01-02 12:35:01,847]\u001b[0m Trial 207 finished with value: 3.981865 and parameters: {'subsample': 0.7, 'colsample_bytree': 0.8, 'eta': 0.01499979886727809, 'gamma': 0.221194925898077, 'max_depth': 5, 'min_child_weight': 5}. Best is trial 203 with value: 2.019185.\u001b[0m\n",
            "2.018875\n",
            "\u001b[32m[I 2022-01-02 12:35:01,911]\u001b[0m Trial 208 finished with value: 2.018875 and parameters: {'subsample': 0.7, 'colsample_bytree': 0.8, 'eta': 0.09999989469292246, 'gamma': 0.23302000593687316, 'max_depth': 5, 'min_child_weight': 5}. Best is trial 208 with value: 2.018875.\u001b[0m\n",
            "2.149099\n",
            "\u001b[32m[I 2022-01-02 12:35:01,989]\u001b[0m Trial 209 finished with value: 2.149099 and parameters: {'subsample': 0.7, 'colsample_bytree': 1.0, 'eta': 0.08754677485838606, 'gamma': 0.19852758664496475, 'max_depth': 5, 'min_child_weight': 5}. Best is trial 208 with value: 2.018875.\u001b[0m\n",
            "2.068243\n",
            "\u001b[32m[I 2022-01-02 12:35:02,048]\u001b[0m Trial 210 finished with value: 2.068243 and parameters: {'subsample': 0.7, 'colsample_bytree': 0.8, 'eta': 0.09569702245205056, 'gamma': 0.22873283490604554, 'max_depth': 5, 'min_child_weight': 5}. Best is trial 208 with value: 2.018875.\u001b[0m\n",
            "2.019305\n",
            "\u001b[32m[I 2022-01-02 12:35:02,135]\u001b[0m Trial 211 finished with value: 2.019305 and parameters: {'subsample': 0.7, 'colsample_bytree': 0.8, 'eta': 0.09990807646467201, 'gamma': 0.26011048476064247, 'max_depth': 5, 'min_child_weight': 5}. Best is trial 208 with value: 2.018875.\u001b[0m\n",
            "2.020787\n",
            "\u001b[32m[I 2022-01-02 12:35:02,194]\u001b[0m Trial 212 finished with value: 2.020787 and parameters: {'subsample': 0.7, 'colsample_bytree': 0.8, 'eta': 0.09968513006580175, 'gamma': 0.995750239444188, 'max_depth': 5, 'min_child_weight': 5}. Best is trial 208 with value: 2.018875.\u001b[0m\n",
            "2.061357\n",
            "\u001b[32m[I 2022-01-02 12:35:02,275]\u001b[0m Trial 213 finished with value: 2.061357 and parameters: {'subsample': 0.7, 'colsample_bytree': 0.8, 'eta': 0.09190340129734255, 'gamma': 0.20921324232127284, 'max_depth': 5, 'min_child_weight': 5}. Best is trial 208 with value: 2.018875.\u001b[0m\n",
            "2.068496\n",
            "\u001b[32m[I 2022-01-02 12:35:02,331]\u001b[0m Trial 214 finished with value: 2.068496 and parameters: {'subsample': 0.7, 'colsample_bytree': 0.8, 'eta': 0.09565073893276682, 'gamma': 0.23591505669024998, 'max_depth': 5, 'min_child_weight': 5}. Best is trial 208 with value: 2.018875.\u001b[0m\n",
            "2.021357\n",
            "\u001b[32m[I 2022-01-02 12:35:02,431]\u001b[0m Trial 215 finished with value: 2.021357 and parameters: {'subsample': 0.7, 'colsample_bytree': 0.8, 'eta': 0.09955688076860095, 'gamma': 0.9421666179277683, 'max_depth': 5, 'min_child_weight': 5}. Best is trial 208 with value: 2.018875.\u001b[0m\n",
            "2.063651\n",
            "\u001b[32m[I 2022-01-02 12:35:02,487]\u001b[0m Trial 216 finished with value: 2.063651 and parameters: {'subsample': 0.7, 'colsample_bytree': 0.8, 'eta': 0.09159046637912427, 'gamma': 0.8833508453840206, 'max_depth': 5, 'min_child_weight': 5}. Best is trial 208 with value: 2.018875.\u001b[0m\n",
            "2.050237\n",
            "\u001b[32m[I 2022-01-02 12:35:02,563]\u001b[0m Trial 217 finished with value: 2.050237 and parameters: {'subsample': 0.7, 'colsample_bytree': 0.8, 'eta': 0.09554133963192904, 'gamma': 0.9663788594187196, 'max_depth': 5, 'min_child_weight': 5}. Best is trial 208 with value: 2.018875.\u001b[0m\n",
            "2.108048\n",
            "\u001b[32m[I 2022-01-02 12:35:02,619]\u001b[0m Trial 218 finished with value: 2.108048 and parameters: {'subsample': 0.7, 'colsample_bytree': 0.8, 'eta': 0.08811839089097816, 'gamma': 0.9827273115912798, 'max_depth': 5, 'min_child_weight': 5}. Best is trial 208 with value: 2.018875.\u001b[0m\n",
            "2.051646\n",
            "\u001b[32m[I 2022-01-02 12:35:02,701]\u001b[0m Trial 219 finished with value: 2.051646 and parameters: {'subsample': 0.7, 'colsample_bytree': 0.8, 'eta': 0.09529871709034267, 'gamma': 0.9280252724060215, 'max_depth': 5, 'min_child_weight': 5}. Best is trial 208 with value: 2.018875.\u001b[0m\n",
            "2.022164\n",
            "\u001b[32m[I 2022-01-02 12:35:02,764]\u001b[0m Trial 220 finished with value: 2.022164 and parameters: {'subsample': 0.7, 'colsample_bytree': 0.8, 'eta': 0.09939111077859544, 'gamma': 0.8840221453541339, 'max_depth': 5, 'min_child_weight': 5}. Best is trial 208 with value: 2.018875.\u001b[0m\n",
            "2.043355\n",
            "\u001b[32m[I 2022-01-02 12:35:02,850]\u001b[0m Trial 221 finished with value: 2.043355 and parameters: {'subsample': 0.7, 'colsample_bytree': 0.8, 'eta': 0.0962850893343937, 'gamma': 0.834178988722839, 'max_depth': 5, 'min_child_weight': 5}. Best is trial 208 with value: 2.018875.\u001b[0m\n",
            "2.023723\n",
            "\u001b[32m[I 2022-01-02 12:35:02,912]\u001b[0m Trial 222 finished with value: 2.023723 and parameters: {'subsample': 0.7, 'colsample_bytree': 0.8, 'eta': 0.09908418469832224, 'gamma': 0.996476050080181, 'max_depth': 5, 'min_child_weight': 5}. Best is trial 208 with value: 2.018875.\u001b[0m\n",
            "2.063323\n",
            "\u001b[32m[I 2022-01-02 12:35:02,987]\u001b[0m Trial 223 finished with value: 2.063323 and parameters: {'subsample': 0.7, 'colsample_bytree': 0.8, 'eta': 0.09164204041707302, 'gamma': 0.9393914398282821, 'max_depth': 5, 'min_child_weight': 5}. Best is trial 208 with value: 2.018875.\u001b[0m\n",
            "2.04548\n",
            "\u001b[32m[I 2022-01-02 12:35:03,044]\u001b[0m Trial 224 finished with value: 2.04548 and parameters: {'subsample': 0.7, 'colsample_bytree': 0.8, 'eta': 0.09608390994681311, 'gamma': 0.9983910246149891, 'max_depth': 5, 'min_child_weight': 5}. Best is trial 208 with value: 2.018875.\u001b[0m\n",
            "2.021133\n",
            "\u001b[32m[I 2022-01-02 12:35:03,129]\u001b[0m Trial 225 finished with value: 2.021133 and parameters: {'subsample': 0.7, 'colsample_bytree': 0.8, 'eta': 0.09961339302858542, 'gamma': 0.9963133754081402, 'max_depth': 5, 'min_child_weight': 5}. Best is trial 208 with value: 2.018875.\u001b[0m\n",
            "2.020438\n",
            "\u001b[32m[I 2022-01-02 12:35:03,185]\u001b[0m Trial 226 finished with value: 2.020438 and parameters: {'subsample': 0.7, 'colsample_bytree': 0.8, 'eta': 0.09974311851351973, 'gamma': 0.8891729012486035, 'max_depth': 5, 'min_child_weight': 5}. Best is trial 208 with value: 2.018875.\u001b[0m\n",
            "2.060406\n",
            "\u001b[32m[I 2022-01-02 12:35:03,263]\u001b[0m Trial 227 finished with value: 2.060406 and parameters: {'subsample': 0.7, 'colsample_bytree': 0.8, 'eta': 0.09207262006757957, 'gamma': 0.8593660891670636, 'max_depth': 5, 'min_child_weight': 5}. Best is trial 208 with value: 2.018875.\u001b[0m\n",
            "2.020956\n",
            "\u001b[32m[I 2022-01-02 12:35:03,325]\u001b[0m Trial 228 finished with value: 2.020956 and parameters: {'subsample': 0.7, 'colsample_bytree': 0.8, 'eta': 0.09963983683502306, 'gamma': 0.9032203183145205, 'max_depth': 5, 'min_child_weight': 5}. Best is trial 208 with value: 2.018875.\u001b[0m\n",
            "2.052268\n",
            "\u001b[32m[I 2022-01-02 12:35:03,403]\u001b[0m Trial 229 finished with value: 2.052268 and parameters: {'subsample': 0.7, 'colsample_bytree': 0.8, 'eta': 0.09527072640806725, 'gamma': 0.8176977520183575, 'max_depth': 5, 'min_child_weight': 5}. Best is trial 208 with value: 2.018875.\u001b[0m\n",
            "2.09314\n",
            "\u001b[32m[I 2022-01-02 12:35:03,474]\u001b[0m Trial 230 finished with value: 2.09314 and parameters: {'subsample': 0.7, 'colsample_bytree': 0.8, 'eta': 0.08908982402973434, 'gamma': 0.9042401578318725, 'max_depth': 5, 'min_child_weight': 5}. Best is trial 208 with value: 2.018875.\u001b[0m\n",
            "2.046323\n",
            "\u001b[32m[I 2022-01-02 12:35:03,553]\u001b[0m Trial 231 finished with value: 2.046323 and parameters: {'subsample': 0.7, 'colsample_bytree': 0.8, 'eta': 0.09604602410532971, 'gamma': 0.9350776356453593, 'max_depth': 5, 'min_child_weight': 5}. Best is trial 208 with value: 2.018875.\u001b[0m\n",
            "2.020812\n",
            "\u001b[32m[I 2022-01-02 12:35:03,620]\u001b[0m Trial 232 finished with value: 2.020812 and parameters: {'subsample': 0.7, 'colsample_bytree': 0.8, 'eta': 0.09967994223433645, 'gamma': 0.9972807737414243, 'max_depth': 5, 'min_child_weight': 5}. Best is trial 208 with value: 2.018875.\u001b[0m\n",
            "2.04713\n",
            "\u001b[32m[I 2022-01-02 12:35:03,710]\u001b[0m Trial 233 finished with value: 2.04713 and parameters: {'subsample': 0.7, 'colsample_bytree': 0.8, 'eta': 0.09590815810660752, 'gamma': 0.9979871338881684, 'max_depth': 5, 'min_child_weight': 5}. Best is trial 208 with value: 2.018875.\u001b[0m\n",
            "2.020471\n",
            "\u001b[32m[I 2022-01-02 12:35:03,771]\u001b[0m Trial 234 finished with value: 2.020471 and parameters: {'subsample': 0.7, 'colsample_bytree': 0.8, 'eta': 0.09973641392481396, 'gamma': 0.9337157438476386, 'max_depth': 5, 'min_child_weight': 5}. Best is trial 208 with value: 2.018875.\u001b[0m\n",
            "2.057256\n",
            "\u001b[32m[I 2022-01-02 12:35:03,856]\u001b[0m Trial 235 finished with value: 2.057256 and parameters: {'subsample': 0.7, 'colsample_bytree': 0.8, 'eta': 0.09307270069665899, 'gamma': 0.9055577980820926, 'max_depth': 5, 'min_child_weight': 5}. Best is trial 208 with value: 2.018875.\u001b[0m\n",
            "2.018211\n",
            "\u001b[32m[I 2022-01-02 12:35:03,915]\u001b[0m Trial 236 finished with value: 2.018211 and parameters: {'subsample': 0.7, 'colsample_bytree': 0.8, 'eta': 0.09986732384645193, 'gamma': 0.9384882043020683, 'max_depth': 5, 'min_child_weight': 5}. Best is trial 236 with value: 2.018211.\u001b[0m\n",
            "2.019972\n",
            "\u001b[32m[I 2022-01-02 12:35:04,007]\u001b[0m Trial 237 finished with value: 2.019972 and parameters: {'subsample': 0.7, 'colsample_bytree': 0.8, 'eta': 0.09983076088681687, 'gamma': 0.7352971116387242, 'max_depth': 5, 'min_child_weight': 5}. Best is trial 236 with value: 2.018211.\u001b[0m\n",
            "2.017754\n",
            "\u001b[32m[I 2022-01-02 12:35:04,072]\u001b[0m Trial 238 finished with value: 2.017754 and parameters: {'subsample': 0.7, 'colsample_bytree': 0.8, 'eta': 0.09998040354670404, 'gamma': 0.8328285175897692, 'max_depth': 5, 'min_child_weight': 5}. Best is trial 238 with value: 2.017754.\u001b[0m\n",
            "4.244833\n",
            "\u001b[32m[I 2022-01-02 12:35:04,155]\u001b[0m Trial 239 finished with value: 4.244833 and parameters: {'subsample': 0.7, 'colsample_bytree': 0.8, 'eta': 0.01014946488980751, 'gamma': 0.7270387324434151, 'max_depth': 5, 'min_child_weight': 5}. Best is trial 238 with value: 2.017754.\u001b[0m\n",
            "2.053978\n",
            "\u001b[32m[I 2022-01-02 12:35:04,213]\u001b[0m Trial 240 finished with value: 2.053978 and parameters: {'subsample': 0.7, 'colsample_bytree': 0.8, 'eta': 0.09252672568078664, 'gamma': 0.8498575460293342, 'max_depth': 5, 'min_child_weight': 5}. Best is trial 238 with value: 2.017754.\u001b[0m\n",
            "2.018305\n",
            "\u001b[32m[I 2022-01-02 12:35:04,296]\u001b[0m Trial 241 finished with value: 2.018305 and parameters: {'subsample': 0.7, 'colsample_bytree': 0.8, 'eta': 0.09985344748022655, 'gamma': 0.9525355807464129, 'max_depth': 5, 'min_child_weight': 5}. Best is trial 238 with value: 2.017754.\u001b[0m\n",
            "2.018028\n",
            "\u001b[32m[I 2022-01-02 12:35:04,355]\u001b[0m Trial 242 finished with value: 2.018028 and parameters: {'subsample': 0.7, 'colsample_bytree': 0.8, 'eta': 0.0999056800867277, 'gamma': 0.9444494323641613, 'max_depth': 5, 'min_child_weight': 5}. Best is trial 238 with value: 2.017754.\u001b[0m\n",
            "2.048128\n",
            "\u001b[32m[I 2022-01-02 12:35:04,451]\u001b[0m Trial 243 finished with value: 2.048128 and parameters: {'subsample': 0.7, 'colsample_bytree': 0.8, 'eta': 0.0957100475836747, 'gamma': 0.9562502838327177, 'max_depth': 5, 'min_child_weight': 5}. Best is trial 238 with value: 2.017754.\u001b[0m\n",
            "2.050194\n",
            "\u001b[32m[I 2022-01-02 12:35:04,515]\u001b[0m Trial 244 finished with value: 2.050194 and parameters: {'subsample': 0.7, 'colsample_bytree': 0.8, 'eta': 0.09564127531153166, 'gamma': 0.7813268977974768, 'max_depth': 5, 'min_child_weight': 5}. Best is trial 238 with value: 2.017754.\u001b[0m\n",
            "2.017808\n",
            "\u001b[32m[I 2022-01-02 12:35:04,593]\u001b[0m Trial 245 finished with value: 2.017808 and parameters: {'subsample': 0.7, 'colsample_bytree': 0.8, 'eta': 0.09995161747687782, 'gamma': 0.9010545845104903, 'max_depth': 5, 'min_child_weight': 5}. Best is trial 238 with value: 2.017754.\u001b[0m\n",
            "2.064034\n",
            "\u001b[32m[I 2022-01-02 12:35:04,660]\u001b[0m Trial 246 finished with value: 2.064034 and parameters: {'subsample': 0.7, 'colsample_bytree': 0.8, 'eta': 0.0911147295493813, 'gamma': 0.8930710038077093, 'max_depth': 5, 'min_child_weight': 5}. Best is trial 238 with value: 2.017754.\u001b[0m\n",
            "2.049709\n",
            "\u001b[32m[I 2022-01-02 12:35:04,758]\u001b[0m Trial 247 finished with value: 2.049709 and parameters: {'subsample': 0.7, 'colsample_bytree': 0.8, 'eta': 0.09564348333303381, 'gamma': 0.9211522994564186, 'max_depth': 5, 'min_child_weight': 5}. Best is trial 238 with value: 2.017754.\u001b[0m\n",
            "2.046023\n",
            "\u001b[32m[I 2022-01-02 12:35:04,822]\u001b[0m Trial 248 finished with value: 2.046023 and parameters: {'subsample': 0.7, 'colsample_bytree': 0.8, 'eta': 0.09598460291651632, 'gamma': 0.998822656403853, 'max_depth': 5, 'min_child_weight': 5}. Best is trial 238 with value: 2.017754.\u001b[0m\n",
            "2.018031\n",
            "\u001b[32m[I 2022-01-02 12:35:04,902]\u001b[0m Trial 249 finished with value: 2.018031 and parameters: {'subsample': 0.7, 'colsample_bytree': 0.8, 'eta': 0.09992232216114809, 'gamma': 0.8408714093512896, 'max_depth': 5, 'min_child_weight': 5}. Best is trial 238 with value: 2.017754.\u001b[0m\n",
            "2.06174\n",
            "\u001b[32m[I 2022-01-02 12:35:04,961]\u001b[0m Trial 250 finished with value: 2.06174 and parameters: {'subsample': 0.7, 'colsample_bytree': 0.8, 'eta': 0.09146833444470152, 'gamma': 0.8296579788665884, 'max_depth': 5, 'min_child_weight': 5}. Best is trial 238 with value: 2.017754.\u001b[0m\n",
            "2.028265\n",
            "\u001b[32m[I 2022-01-02 12:35:05,051]\u001b[0m Trial 251 finished with value: 2.028265 and parameters: {'subsample': 0.7, 'colsample_bytree': 0.8, 'eta': 0.09974181890880583, 'gamma': 0.7508850905751918, 'max_depth': 5, 'min_child_weight': 5}. Best is trial 238 with value: 2.017754.\u001b[0m\n",
            "2.01798\n",
            "\u001b[32m[I 2022-01-02 12:35:05,111]\u001b[0m Trial 252 finished with value: 2.01798 and parameters: {'subsample': 0.7, 'colsample_bytree': 0.8, 'eta': 0.09991567308883924, 'gamma': 0.881754919748043, 'max_depth': 5, 'min_child_weight': 5}. Best is trial 238 with value: 2.017754.\u001b[0m\n",
            "2.114199\n",
            "\u001b[32m[I 2022-01-02 12:35:05,189]\u001b[0m Trial 253 finished with value: 2.114199 and parameters: {'subsample': 0.7, 'colsample_bytree': 0.8, 'eta': 0.08699606782378656, 'gamma': 0.8683900272042671, 'max_depth': 5, 'min_child_weight': 5}. Best is trial 238 with value: 2.017754.\u001b[0m\n",
            "2.055257\n",
            "\u001b[32m[I 2022-01-02 12:35:05,252]\u001b[0m Trial 254 finished with value: 2.055257 and parameters: {'subsample': 0.7, 'colsample_bytree': 0.8, 'eta': 0.09319983893557479, 'gamma': 0.9346273882002895, 'max_depth': 5, 'min_child_weight': 5}. Best is trial 238 with value: 2.017754.\u001b[0m\n",
            "2.052528\n",
            "\u001b[32m[I 2022-01-02 12:35:05,328]\u001b[0m Trial 255 finished with value: 2.052528 and parameters: {'subsample': 0.7, 'colsample_bytree': 0.8, 'eta': 0.09522470745072441, 'gamma': 0.8025676277360972, 'max_depth': 5, 'min_child_weight': 5}. Best is trial 238 with value: 2.017754.\u001b[0m\n",
            "2.071101\n",
            "\u001b[32m[I 2022-01-02 12:35:05,386]\u001b[0m Trial 256 finished with value: 2.071101 and parameters: {'subsample': 0.7, 'colsample_bytree': 0.8, 'eta': 0.08990075873785705, 'gamma': 0.8731258638960688, 'max_depth': 5, 'min_child_weight': 5}. Best is trial 238 with value: 2.017754.\u001b[0m\n",
            "2.050887\n",
            "\u001b[32m[I 2022-01-02 12:35:05,481]\u001b[0m Trial 257 finished with value: 2.050887 and parameters: {'subsample': 0.7, 'colsample_bytree': 0.8, 'eta': 0.09543289037497989, 'gamma': 0.9446684166905035, 'max_depth': 5, 'min_child_weight': 5}. Best is trial 238 with value: 2.017754.\u001b[0m\n",
            "2.028409\n",
            "\u001b[32m[I 2022-01-02 12:35:05,539]\u001b[0m Trial 258 finished with value: 2.028409 and parameters: {'subsample': 0.7, 'colsample_bytree': 0.8, 'eta': 0.09969883915280861, 'gamma': 0.6519538725127703, 'max_depth': 5, 'min_child_weight': 5}. Best is trial 238 with value: 2.017754.\u001b[0m\n",
            "2.053767\n",
            "\u001b[32m[I 2022-01-02 12:35:05,612]\u001b[0m Trial 259 finished with value: 2.053767 and parameters: {'subsample': 0.7, 'colsample_bytree': 0.8, 'eta': 0.09256081474905144, 'gamma': 0.8352949851139173, 'max_depth': 5, 'min_child_weight': 5}. Best is trial 238 with value: 2.017754.\u001b[0m\n",
            "2.119697\n",
            "\u001b[32m[I 2022-01-02 12:35:05,669]\u001b[0m Trial 260 finished with value: 2.119697 and parameters: {'subsample': 0.7, 'colsample_bytree': 0.8, 'eta': 0.09975819081126128, 'gamma': 0.9967015275246662, 'max_depth': 5, 'min_child_weight': 7}. Best is trial 238 with value: 2.017754.\u001b[0m\n",
            "2.114292\n",
            "\u001b[32m[I 2022-01-02 12:35:05,755]\u001b[0m Trial 261 finished with value: 2.114292 and parameters: {'subsample': 0.7, 'colsample_bytree': 0.8, 'eta': 0.08698325249289743, 'gamma': 0.9041920043834701, 'max_depth': 5, 'min_child_weight': 5}. Best is trial 238 with value: 2.017754.\u001b[0m\n",
            "2.047078\n",
            "\u001b[32m[I 2022-01-02 12:35:05,824]\u001b[0m Trial 262 finished with value: 2.047078 and parameters: {'subsample': 0.7, 'colsample_bytree': 0.8, 'eta': 0.09590813794960001, 'gamma': 0.9379655801379272, 'max_depth': 5, 'min_child_weight': 5}. Best is trial 238 with value: 2.017754.\u001b[0m\n",
            "3.110029\n",
            "\u001b[32m[I 2022-01-02 12:35:05,905]\u001b[0m Trial 263 finished with value: 3.110029 and parameters: {'subsample': 0.7, 'colsample_bytree': 0.8, 'eta': 0.03487471136944424, 'gamma': 0.8587842666054626, 'max_depth': 5, 'min_child_weight': 5}. Best is trial 238 with value: 2.017754.\u001b[0m\n",
            "2.606846\n",
            "\u001b[32m[I 2022-01-02 12:35:05,972]\u001b[0m Trial 264 finished with value: 2.606846 and parameters: {'subsample': 0.7, 'colsample_bytree': 0.8, 'eta': 0.051805689310621426, 'gamma': 0.7935458201067006, 'max_depth': 5, 'min_child_weight': 5}. Best is trial 238 with value: 2.017754.\u001b[0m\n",
            "2.06206\n",
            "\u001b[32m[I 2022-01-02 12:35:06,047]\u001b[0m Trial 265 finished with value: 2.06206 and parameters: {'subsample': 0.7, 'colsample_bytree': 0.8, 'eta': 0.0918421663480776, 'gamma': 0.8991658625999766, 'max_depth': 5, 'min_child_weight': 5}. Best is trial 238 with value: 2.017754.\u001b[0m\n",
            "2.047204\n",
            "\u001b[32m[I 2022-01-02 12:35:06,108]\u001b[0m Trial 266 finished with value: 2.047204 and parameters: {'subsample': 0.7, 'colsample_bytree': 0.8, 'eta': 0.09587755184894498, 'gamma': 0.955156626818189, 'max_depth': 5, 'min_child_weight': 5}. Best is trial 238 with value: 2.017754.\u001b[0m\n",
            "2.095172\n",
            "\u001b[32m[I 2022-01-02 12:35:06,193]\u001b[0m Trial 267 finished with value: 2.095172 and parameters: {'subsample': 0.7, 'colsample_bytree': 0.8, 'eta': 0.08880555589617613, 'gamma': 0.9888886554279191, 'max_depth': 5, 'min_child_weight': 5}. Best is trial 238 with value: 2.017754.\u001b[0m\n",
            "2.048146\n",
            "\u001b[32m[I 2022-01-02 12:35:06,250]\u001b[0m Trial 268 finished with value: 2.048146 and parameters: {'subsample': 0.7, 'colsample_bytree': 0.8, 'eta': 0.09571444897224474, 'gamma': 0.8743142523226172, 'max_depth': 5, 'min_child_weight': 5}. Best is trial 238 with value: 2.017754.\u001b[0m\n",
            "3.585217\n",
            "\u001b[32m[I 2022-01-02 12:35:06,331]\u001b[0m Trial 269 finished with value: 3.585217 and parameters: {'subsample': 0.7, 'colsample_bytree': 0.8, 'eta': 0.0230587239599669, 'gamma': 0.9271691495897036, 'max_depth': 5, 'min_child_weight': 5}. Best is trial 238 with value: 2.017754.\u001b[0m\n",
            "2.05593\n",
            "\u001b[32m[I 2022-01-02 12:35:06,389]\u001b[0m Trial 270 finished with value: 2.05593 and parameters: {'subsample': 0.7, 'colsample_bytree': 0.8, 'eta': 0.09221296914809202, 'gamma': 0.8221951284460309, 'max_depth': 5, 'min_child_weight': 5}. Best is trial 238 with value: 2.017754.\u001b[0m\n",
            "2.029797\n",
            "\u001b[32m[I 2022-01-02 12:35:06,466]\u001b[0m Trial 271 finished with value: 2.029797 and parameters: {'subsample': 0.7, 'colsample_bytree': 0.8, 'eta': 0.09941822790831575, 'gamma': 0.7594135176612897, 'max_depth': 5, 'min_child_weight': 5}. Best is trial 238 with value: 2.017754.\u001b[0m\n",
            "2.127046\n",
            "\u001b[32m[I 2022-01-02 12:35:06,535]\u001b[0m Trial 272 finished with value: 2.127046 and parameters: {'subsample': 0.7, 'colsample_bytree': 0.8, 'eta': 0.08409311892279196, 'gamma': 0.9090251792203371, 'max_depth': 5, 'min_child_weight': 5}. Best is trial 238 with value: 2.017754.\u001b[0m\n",
            "2.045793\n",
            "\u001b[32m[I 2022-01-02 12:35:06,641]\u001b[0m Trial 273 finished with value: 2.045793 and parameters: {'subsample': 0.7, 'colsample_bytree': 0.8, 'eta': 0.09602666348957667, 'gamma': 0.9871938509472163, 'max_depth': 5, 'min_child_weight': 5}. Best is trial 238 with value: 2.017754.\u001b[0m\n",
            "2.021205\n",
            "\u001b[32m[I 2022-01-02 12:35:06,710]\u001b[0m Trial 274 finished with value: 2.021205 and parameters: {'subsample': 0.7, 'colsample_bytree': 0.8, 'eta': 0.09958103673975346, 'gamma': 0.8537975740235836, 'max_depth': 5, 'min_child_weight': 5}. Best is trial 238 with value: 2.017754.\u001b[0m\n",
            "2.017844\n",
            "\u001b[32m[I 2022-01-02 12:35:06,791]\u001b[0m Trial 275 finished with value: 2.017844 and parameters: {'subsample': 0.7, 'colsample_bytree': 0.8, 'eta': 0.09996134431604026, 'gamma': 0.8380683820127666, 'max_depth': 5, 'min_child_weight': 5}. Best is trial 238 with value: 2.017754.\u001b[0m\n",
            "2.06039\n",
            "\u001b[32m[I 2022-01-02 12:35:06,857]\u001b[0m Trial 276 finished with value: 2.06039 and parameters: {'subsample': 0.7, 'colsample_bytree': 0.8, 'eta': 0.09207521072944533, 'gamma': 0.8233499951574941, 'max_depth': 5, 'min_child_weight': 5}. Best is trial 238 with value: 2.017754.\u001b[0m\n",
            "2.096251\n",
            "\u001b[32m[I 2022-01-02 12:35:06,943]\u001b[0m Trial 277 finished with value: 2.096251 and parameters: {'subsample': 0.7, 'colsample_bytree': 0.8, 'eta': 0.08873287261201653, 'gamma': 0.8617543287210797, 'max_depth': 5, 'min_child_weight': 5}. Best is trial 238 with value: 2.017754.\u001b[0m\n",
            "2.028463\n",
            "\u001b[32m[I 2022-01-02 12:35:07,005]\u001b[0m Trial 278 finished with value: 2.028463 and parameters: {'subsample': 0.7, 'colsample_bytree': 0.8, 'eta': 0.09969961855510348, 'gamma': 0.7627168045574921, 'max_depth': 5, 'min_child_weight': 5}. Best is trial 238 with value: 2.017754.\u001b[0m\n",
            "2.037765\n",
            "\u001b[32m[I 2022-01-02 12:35:07,093]\u001b[0m Trial 279 finished with value: 2.037765 and parameters: {'subsample': 0.7, 'colsample_bytree': 0.8, 'eta': 0.09501334749429952, 'gamma': 0.6979997612570402, 'max_depth': 5, 'min_child_weight': 5}. Best is trial 238 with value: 2.017754.\u001b[0m\n",
            "2.051588\n",
            "\u001b[32m[I 2022-01-02 12:35:07,164]\u001b[0m Trial 280 finished with value: 2.051588 and parameters: {'subsample': 0.7, 'colsample_bytree': 0.8, 'eta': 0.09291640475070456, 'gamma': 0.80784808815393, 'max_depth': 5, 'min_child_weight': 5}. Best is trial 238 with value: 2.017754.\u001b[0m\n",
            "2.020818\n",
            "\u001b[32m[I 2022-01-02 12:35:07,244]\u001b[0m Trial 281 finished with value: 2.020818 and parameters: {'subsample': 0.7, 'colsample_bytree': 0.8, 'eta': 0.09966840994347388, 'gamma': 0.8758669043191315, 'max_depth': 5, 'min_child_weight': 5}. Best is trial 238 with value: 2.017754.\u001b[0m\n",
            "2.224571\n",
            "\u001b[32m[I 2022-01-02 12:35:07,303]\u001b[0m Trial 282 finished with value: 2.224571 and parameters: {'subsample': 0.7, 'colsample_bytree': 0.8, 'eta': 0.09976648422680942, 'gamma': 0.8540874284245931, 'max_depth': 5, 'min_child_weight': 9}. Best is trial 238 with value: 2.017754.\u001b[0m\n",
            "2.047189\n",
            "\u001b[32m[I 2022-01-02 12:35:07,399]\u001b[0m Trial 283 finished with value: 2.047189 and parameters: {'subsample': 0.7, 'colsample_bytree': 0.8, 'eta': 0.09998294088751943, 'gamma': 0.9074813285552746, 'max_depth': 9, 'min_child_weight': 5}. Best is trial 238 with value: 2.017754.\u001b[0m\n",
            "2.089988\n",
            "\u001b[32m[I 2022-01-02 12:35:07,457]\u001b[0m Trial 284 finished with value: 2.089988 and parameters: {'subsample': 0.7, 'colsample_bytree': 0.8, 'eta': 0.08926643583522612, 'gamma': 0.804026403914955, 'max_depth': 5, 'min_child_weight': 5}. Best is trial 238 with value: 2.017754.\u001b[0m\n",
            "2.038275\n",
            "\u001b[32m[I 2022-01-02 12:35:07,547]\u001b[0m Trial 285 finished with value: 2.038275 and parameters: {'subsample': 0.7, 'colsample_bytree': 0.8, 'eta': 0.09494566205712773, 'gamma': 0.9253659775102864, 'max_depth': 5, 'min_child_weight': 5}. Best is trial 238 with value: 2.017754.\u001b[0m\n",
            "2.052768\n",
            "\u001b[32m[I 2022-01-02 12:35:07,628]\u001b[0m Trial 286 finished with value: 2.052768 and parameters: {'subsample': 0.7, 'colsample_bytree': 0.8, 'eta': 0.0927232078647998, 'gamma': 0.8616368179816025, 'max_depth': 5, 'min_child_weight': 5}. Best is trial 238 with value: 2.017754.\u001b[0m\n",
            "2.123457\n",
            "\u001b[32m[I 2022-01-02 12:35:07,708]\u001b[0m Trial 287 finished with value: 2.123457 and parameters: {'subsample': 0.7, 'colsample_bytree': 0.8, 'eta': 0.08617839775552046, 'gamma': 0.726338197645248, 'max_depth': 5, 'min_child_weight': 5}. Best is trial 238 with value: 2.017754.\u001b[0m\n",
            "3.844535\n",
            "\u001b[32m[I 2022-01-02 12:35:07,767]\u001b[0m Trial 288 finished with value: 3.844535 and parameters: {'subsample': 0.7, 'colsample_bytree': 0.8, 'eta': 0.017700793902581217, 'gamma': 0.9392334594139296, 'max_depth': 5, 'min_child_weight': 5}. Best is trial 238 with value: 2.017754.\u001b[0m\n",
            "2.051008\n",
            "\u001b[32m[I 2022-01-02 12:35:07,851]\u001b[0m Trial 289 finished with value: 2.051008 and parameters: {'subsample': 0.7, 'colsample_bytree': 0.8, 'eta': 0.09549505096478263, 'gamma': 0.8318640676573356, 'max_depth': 5, 'min_child_weight': 5}. Best is trial 238 with value: 2.017754.\u001b[0m\n",
            "2.018286\n",
            "\u001b[32m[I 2022-01-02 12:35:07,915]\u001b[0m Trial 290 finished with value: 2.018286 and parameters: {'subsample': 0.7, 'colsample_bytree': 0.8, 'eta': 0.0998518903391613, 'gamma': 0.8909597121096908, 'max_depth': 5, 'min_child_weight': 5}. Best is trial 238 with value: 2.017754.\u001b[0m\n",
            "2.061616\n",
            "\u001b[32m[I 2022-01-02 12:35:07,999]\u001b[0m Trial 291 finished with value: 2.061616 and parameters: {'subsample': 0.7, 'colsample_bytree': 0.8, 'eta': 0.09148758268427913, 'gamma': 0.876777871310402, 'max_depth': 5, 'min_child_weight': 5}. Best is trial 238 with value: 2.017754.\u001b[0m\n",
            "2.05161\n",
            "\u001b[32m[I 2022-01-02 12:35:08,067]\u001b[0m Trial 292 finished with value: 2.05161 and parameters: {'subsample': 0.7, 'colsample_bytree': 0.8, 'eta': 0.09538773599492194, 'gamma': 0.7702946071223803, 'max_depth': 5, 'min_child_weight': 5}. Best is trial 238 with value: 2.017754.\u001b[0m\n",
            "2.018078\n",
            "\u001b[32m[I 2022-01-02 12:35:08,154]\u001b[0m Trial 293 finished with value: 2.018078 and parameters: {'subsample': 0.7, 'colsample_bytree': 0.8, 'eta': 0.09989506292939783, 'gamma': 0.9036691357252896, 'max_depth': 5, 'min_child_weight': 5}. Best is trial 238 with value: 2.017754.\u001b[0m\n",
            "2.050717\n",
            "\u001b[32m[I 2022-01-02 12:35:08,215]\u001b[0m Trial 294 finished with value: 2.050717 and parameters: {'subsample': 0.7, 'colsample_bytree': 0.8, 'eta': 0.09554244159438743, 'gamma': 0.6636845810461768, 'max_depth': 5, 'min_child_weight': 5}. Best is trial 238 with value: 2.017754.\u001b[0m\n",
            "2.342647\n",
            "\u001b[32m[I 2022-01-02 12:35:08,308]\u001b[0m Trial 295 finished with value: 2.342647 and parameters: {'subsample': 0.7, 'colsample_bytree': 0.8, 'eta': 0.0893542497134382, 'gamma': 0.9364759148895232, 'max_depth': 5, 'min_child_weight': 10}. Best is trial 238 with value: 2.017754.\u001b[0m\n",
            "2.018178\n",
            "\u001b[32m[I 2022-01-02 12:35:08,369]\u001b[0m Trial 296 finished with value: 2.018178 and parameters: {'subsample': 0.7, 'colsample_bytree': 0.8, 'eta': 0.09987420673641119, 'gamma': 0.8997758196461203, 'max_depth': 5, 'min_child_weight': 5}. Best is trial 238 with value: 2.017754.\u001b[0m\n",
            "2.210065\n",
            "\u001b[32m[I 2022-01-02 12:35:08,456]\u001b[0m Trial 297 finished with value: 2.210065 and parameters: {'subsample': 0.7, 'colsample_bytree': 0.8, 'eta': 0.0919235682232777, 'gamma': 0.7967268846039228, 'max_depth': 5, 'min_child_weight': 8}. Best is trial 238 with value: 2.017754.\u001b[0m\n",
            "2.145209\n",
            "\u001b[32m[I 2022-01-02 12:35:08,529]\u001b[0m Trial 298 finished with value: 2.145209 and parameters: {'subsample': 0.7, 'colsample_bytree': 0.8, 'eta': 0.09552323328659457, 'gamma': 0.8881647246069628, 'max_depth': 5, 'min_child_weight': 6}. Best is trial 238 with value: 2.017754.\u001b[0m\n",
            "2.017873\n",
            "\u001b[32m[I 2022-01-02 12:35:08,619]\u001b[0m Trial 299 finished with value: 2.017873 and parameters: {'subsample': 0.7, 'colsample_bytree': 0.8, 'eta': 0.09995551315506836, 'gamma': 0.8315040101053154, 'max_depth': 5, 'min_child_weight': 5}. Best is trial 238 with value: 2.017754.\u001b[0m\n"
          ]
        }
      ]
    },
    {
      "cell_type": "code",
      "source": [
        "from sklearn.metrics import mean_absolute_error\n",
        "xgb_model = xgb.XGBRegressor(**(study1.best_params))\n",
        "\n",
        "%time xgb_model.fit(x_train, y_train, early_stopping_rounds=7, eval_set=[(x_val, y_val)], verbose=False)\n",
        "\n",
        "y_pred_xgb = xgb_model.predict(x_val)\n",
        "mae_xgb = mean_absolute_error(y_val, y_pred_xgb)\n",
        "print(\"MAE: \", mae_xgb)"
      ],
      "metadata": {
        "colab": {
          "base_uri": "https://localhost:8080/"
        },
        "id": "5iHwjVIpyc8O",
        "outputId": "a83656da-3ab5-4ded-f700-8726b5c04170"
      },
      "execution_count": null,
      "outputs": [
        {
          "output_type": "stream",
          "name": "stdout",
          "text": [
            "[12:35:48] WARNING: /workspace/src/objective/regression_obj.cu:152: reg:linear is now deprecated in favor of reg:squarederror.\n",
            "CPU times: user 89.3 ms, sys: 3.93 ms, total: 93.2 ms\n",
            "Wall time: 95.1 ms\n",
            "MAE:  0.9159145006446339\n"
          ]
        }
      ]
    },
    {
      "cell_type": "markdown",
      "source": [
        "# **Conclusions**"
      ],
      "metadata": {
        "id": "nSx1kewGYJ1n"
      }
    },
    {
      "cell_type": "markdown",
      "source": [
        "**The ideal campaign for the most efficient results can be created with the following metrics :**\n",
        "*  All the columns are fairly correlated with each other.\n",
        "*  Campaign_id 1178 has most number of ads and it has most Approved_conversion count.\n",
        "*  The age group of 30-34 shows more interest in campaign_id 936 and 1178 whereas the age group of 40-44 shows more interest in Campaign_id 916.\n",
        "*   Both the genders shows similar interests in all three campaigns.\n",
        "\n",
        "*   Although the count of interest after 100 is less,there is a rise of users after 100 who actually bought the product. Rest of the distribution is according to what was expected.\n",
        "\n",
        "*   It seems men tend to click more than women but women buy more products than men after clicking the add.\n",
        "*   People in age group 30-34 has more tendency to buy product after clicking the add.\n",
        "\n",
        "\n",
        "\n"
      ],
      "metadata": {
        "id": "OVwHJmJFYR0e"
      }
    }
  ]
}